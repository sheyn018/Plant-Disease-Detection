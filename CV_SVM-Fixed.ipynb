{
 "cells": [
  {
   "cell_type": "markdown",
   "metadata": {
    "id": "W62QS_j2kS93"
   },
   "source": [
    "# EDI-FEATURES\n"
   ]
  },
  {
   "cell_type": "code",
   "execution_count": 1,
   "metadata": {
    "id": "ezJqQ5XxkXRX"
   },
   "outputs": [],
   "source": [
    "import os\n",
    "import cv2\n",
    "import numpy as np\n",
    "import pandas as pd\n",
    "from skimage.feature import graycomatrix, graycoprops"
   ]
  },
  {
   "cell_type": "code",
   "execution_count": 6,
   "metadata": {
    "id": "aHfhJgcPlvNq"
   },
   "outputs": [],
   "source": [
    "ds_path = r\"dataset/images\"\n",
    "diseases= os.listdir(ds_path)"
   ]
  },
  {
   "cell_type": "code",
   "execution_count": 7,
   "metadata": {
    "colab": {
     "base_uri": "https://localhost:8080/"
    },
    "id": "aeEDqxeFmkLM",
    "outputId": "01828314-680a-4165-c486-9277280b7a97"
   },
   "outputs": [
    {
     "data": {
      "text/plain": [
       "['Apple scab', 'Black rot', 'Cedar apple rust']"
      ]
     },
     "execution_count": 7,
     "metadata": {},
     "output_type": "execute_result"
    }
   ],
   "source": [
    "diseases"
   ]
  },
  {
   "cell_type": "code",
   "execution_count": 8,
   "metadata": {},
   "outputs": [],
   "source": [
    "from skimage import exposure\n",
    "from skimage.feature import hog\n",
    "from skimage.measure import regionprops\n",
    "from scipy import stats\n",
    "from skimage.measure import label\n",
    "\n",
    "# Set the dataset path\n",
    "ds_path = r\"dataset/images\"\n",
    "\n",
    "def features():\n",
    "    names = ['area', 'perimeter', 'physiological_length', 'physiological_width', 'aspect_ratio',\n",
    "             'mean_r', 'mean_g', 'mean_b', 'stddev_r', 'stddev_g', 'stddev_b',\n",
    "             'contrast', 'energy', 'homogeneity', 'correlation', 'dissimilarity',\n",
    "             'eccentricity', 'solidity', 'equiv_diameter', 'major_axis_length', 'minor_axis_length',\n",
    "             'skewness', 'kurtosis', 'hog_feature_1', 'hog_feature_2', 'hog_feature_3', 'types'\n",
    "            ]\n",
    "    df = pd.DataFrame(columns=names)\n",
    "\n",
    "    # Count the number of subfolders in the dataset path to determine the number of classes (labels)\n",
    "    class_folders = [f for f in os.listdir(ds_path) if os.path.isdir(os.path.join(ds_path, f))]\n",
    "    num_classes = len(class_folders)\n",
    "\n",
    "    print(\"Number of Classes: \", num_classes)\n",
    "    print(\"Classes: \", class_folders)\n",
    "\n",
    "    types = 0\n",
    "\n",
    "    for folder in class_folders:\n",
    "        disease_folder = os.path.join(ds_path, folder)\n",
    "\n",
    "        types = folder\n",
    "\n",
    "        for image in os.listdir(disease_folder):\n",
    "            imgpath = os.path.join(disease_folder, image)\n",
    "            main_img = cv2.imread(imgpath)\n",
    "\n",
    "            # Preprocessing\n",
    "            img = cv2.cvtColor(main_img, cv2.COLOR_BGR2RGB)\n",
    "            gs = cv2.cvtColor(img, cv2.COLOR_RGB2GRAY)\n",
    "            blur = cv2.GaussianBlur(gs, (25, 25), 0)\n",
    "            ret, thresh = cv2.threshold(blur, 0, 255, cv2.THRESH_BINARY_INV + cv2.THRESH_OTSU)\n",
    "            kernel = np.ones((50, 50), np.uint8)\n",
    "            closing = cv2.morphologyEx(thresh, cv2.MORPH_CLOSE, kernel)\n",
    "\n",
    "            # Shape features\n",
    "            contours, _ = cv2.findContours(closing, cv2.RETR_TREE, cv2.CHAIN_APPROX_SIMPLE)\n",
    "            cnt = contours[0]\n",
    "            area = cv2.contourArea(cnt)\n",
    "            perimeter = cv2.arcLength(cnt, True)\n",
    "            x, y, w, h = cv2.boundingRect(cnt)\n",
    "            aspect_ratio = float(w) / h\n",
    "\n",
    "            # Color features\n",
    "            red_channel = img[:, :, 0]\n",
    "            green_channel = img[:, :, 1]\n",
    "            blue_channel = img[:, :, 2]\n",
    "\n",
    "            red_mean = np.mean(red_channel)\n",
    "            green_mean = np.mean(green_channel)\n",
    "            blue_mean = np.mean(blue_channel)\n",
    "\n",
    "            # Std deviation\n",
    "            red_std = np.std(red_channel)\n",
    "            green_std = np.std(green_channel)\n",
    "            blue_std = np.std(blue_channel)\n",
    "\n",
    "            # Texture features using GLCM matrix\n",
    "            glcm = graycomatrix(gs,\n",
    "                                distances=[1],\n",
    "                                angles=[0],\n",
    "                                symmetric=True,\n",
    "                                normed=True)\n",
    "\n",
    "            properties = ['contrast', 'energy', 'homogeneity', 'correlation', 'dissimilarity']\n",
    "            contrast = graycoprops(glcm, properties[0])\n",
    "            energy = graycoprops(glcm, properties[1])\n",
    "            homogeneity = graycoprops(glcm, properties[2])\n",
    "            correlation = graycoprops(glcm, properties[3])\n",
    "            dissimilarity = graycoprops(glcm, properties[4])\n",
    "\n",
    "            # Statistical moments\n",
    "            skewness = stats.skew(gs.flatten())\n",
    "            kurtosis = stats.kurtosis(gs.flatten())\n",
    "\n",
    "            # Additional features\n",
    "            labeled_img = label(closing)\n",
    "            regions = regionprops(labeled_img)\n",
    "\n",
    "            eccentricity = regions[0].eccentricity\n",
    "            solidity = regions[0].solidity\n",
    "            equiv_diameter = regions[0].equivalent_diameter\n",
    "            major_axis_length = regions[0].major_axis_length\n",
    "            minor_axis_length = regions[0].minor_axis_length\n",
    "\n",
    "            # HOG features\n",
    "            hog_features = hog(gs, orientations=8, pixels_per_cell=(8, 8), cells_per_block=(1, 1), block_norm='L2-Hys')\n",
    "\n",
    "            vector = [area, perimeter, w, h, aspect_ratio,\n",
    "                      red_mean, green_mean, blue_mean, red_std, green_std, blue_std,\n",
    "                      contrast[0][0], energy[0][0], homogeneity[0][0], correlation[0][0], dissimilarity[0][0],\n",
    "                      eccentricity, solidity, equiv_diameter, major_axis_length, minor_axis_length,\n",
    "                      skewness, kurtosis, hog_features[0], hog_features[1], hog_features[2], types]\n",
    "\n",
    "            df_temp = pd.DataFrame([vector], columns=names)\n",
    "            df = pd.concat([df, df_temp], ignore_index=True)\n",
    "    return df"
   ]
  },
  {
   "cell_type": "code",
   "execution_count": 9,
   "metadata": {
    "colab": {
     "base_uri": "https://localhost:8080/"
    },
    "id": "-lFnHs23qIEm",
    "outputId": "2357cf1b-5b79-4cf6-8c79-5797b8f93668"
   },
   "outputs": [
    {
     "name": "stdout",
     "output_type": "stream",
     "text": [
      "Number of Classes:  3\n",
      "Classes:  ['Apple scab', 'Black rot', 'Cedar apple rust']\n"
     ]
    }
   ],
   "source": [
    "# Call the function to create the feature dataframe\n",
    "feature_df = features()\n",
    "\n",
    "# Save the resulting dataframe to a CSV file\n",
    "feature_df.to_csv(\"dataset/csv/image_features.csv\", index=False)"
   ]
  },
  {
   "cell_type": "code",
   "execution_count": 10,
   "metadata": {
    "colab": {
     "base_uri": "https://localhost:8080/",
     "height": 226
    },
    "id": "LstkxK4PqyIT",
    "outputId": "0fb50158-f798-48a8-ebdd-55091489d77b"
   },
   "outputs": [
    {
     "data": {
      "text/html": [
       "<div>\n",
       "<style scoped>\n",
       "    .dataframe tbody tr th:only-of-type {\n",
       "        vertical-align: middle;\n",
       "    }\n",
       "\n",
       "    .dataframe tbody tr th {\n",
       "        vertical-align: top;\n",
       "    }\n",
       "\n",
       "    .dataframe thead th {\n",
       "        text-align: right;\n",
       "    }\n",
       "</style>\n",
       "<table border=\"1\" class=\"dataframe\">\n",
       "  <thead>\n",
       "    <tr style=\"text-align: right;\">\n",
       "      <th></th>\n",
       "      <th>area</th>\n",
       "      <th>perimeter</th>\n",
       "      <th>physiological_length</th>\n",
       "      <th>physiological_width</th>\n",
       "      <th>aspect_ratio</th>\n",
       "      <th>mean_r</th>\n",
       "      <th>mean_g</th>\n",
       "      <th>mean_b</th>\n",
       "      <th>stddev_r</th>\n",
       "      <th>stddev_g</th>\n",
       "      <th>...</th>\n",
       "      <th>solidity</th>\n",
       "      <th>equiv_diameter</th>\n",
       "      <th>major_axis_length</th>\n",
       "      <th>minor_axis_length</th>\n",
       "      <th>skewness</th>\n",
       "      <th>kurtosis</th>\n",
       "      <th>hog_feature_1</th>\n",
       "      <th>hog_feature_2</th>\n",
       "      <th>hog_feature_3</th>\n",
       "      <th>types</th>\n",
       "    </tr>\n",
       "  </thead>\n",
       "  <tbody>\n",
       "    <tr>\n",
       "      <th>0</th>\n",
       "      <td>39223.5</td>\n",
       "      <td>943.261975</td>\n",
       "      <td>256</td>\n",
       "      <td>256</td>\n",
       "      <td>1.000000</td>\n",
       "      <td>131.674286</td>\n",
       "      <td>142.607361</td>\n",
       "      <td>117.859375</td>\n",
       "      <td>48.160986</td>\n",
       "      <td>41.527176</td>\n",
       "      <td>...</td>\n",
       "      <td>0.673392</td>\n",
       "      <td>199.116564</td>\n",
       "      <td>351.250440</td>\n",
       "      <td>173.508131</td>\n",
       "      <td>-0.801440</td>\n",
       "      <td>0.280473</td>\n",
       "      <td>0.396641</td>\n",
       "      <td>0.396641</td>\n",
       "      <td>0.396641</td>\n",
       "      <td>Apple scab</td>\n",
       "    </tr>\n",
       "    <tr>\n",
       "      <th>1</th>\n",
       "      <td>52739.5</td>\n",
       "      <td>1054.551297</td>\n",
       "      <td>256</td>\n",
       "      <td>256</td>\n",
       "      <td>1.000000</td>\n",
       "      <td>104.623474</td>\n",
       "      <td>125.845505</td>\n",
       "      <td>97.399323</td>\n",
       "      <td>59.915570</td>\n",
       "      <td>47.920588</td>\n",
       "      <td>...</td>\n",
       "      <td>0.899784</td>\n",
       "      <td>260.386787</td>\n",
       "      <td>281.039302</td>\n",
       "      <td>255.644072</td>\n",
       "      <td>-0.012572</td>\n",
       "      <td>-1.102314</td>\n",
       "      <td>0.458273</td>\n",
       "      <td>0.338001</td>\n",
       "      <td>0.458273</td>\n",
       "      <td>Apple scab</td>\n",
       "    </tr>\n",
       "    <tr>\n",
       "      <th>2</th>\n",
       "      <td>153.0</td>\n",
       "      <td>48.828427</td>\n",
       "      <td>13</td>\n",
       "      <td>14</td>\n",
       "      <td>0.928571</td>\n",
       "      <td>108.885437</td>\n",
       "      <td>122.020508</td>\n",
       "      <td>102.895676</td>\n",
       "      <td>41.507657</td>\n",
       "      <td>38.426731</td>\n",
       "      <td>...</td>\n",
       "      <td>0.539845</td>\n",
       "      <td>128.620377</td>\n",
       "      <td>322.980608</td>\n",
       "      <td>90.809607</td>\n",
       "      <td>-0.763138</td>\n",
       "      <td>0.515818</td>\n",
       "      <td>0.444622</td>\n",
       "      <td>0.108263</td>\n",
       "      <td>0.346746</td>\n",
       "      <td>Apple scab</td>\n",
       "    </tr>\n",
       "    <tr>\n",
       "      <th>3</th>\n",
       "      <td>47418.5</td>\n",
       "      <td>886.894442</td>\n",
       "      <td>256</td>\n",
       "      <td>212</td>\n",
       "      <td>1.207547</td>\n",
       "      <td>90.048004</td>\n",
       "      <td>122.629395</td>\n",
       "      <td>118.259155</td>\n",
       "      <td>37.221812</td>\n",
       "      <td>27.636534</td>\n",
       "      <td>...</td>\n",
       "      <td>0.968543</td>\n",
       "      <td>246.821175</td>\n",
       "      <td>285.954155</td>\n",
       "      <td>220.104226</td>\n",
       "      <td>0.928671</td>\n",
       "      <td>1.852474</td>\n",
       "      <td>0.447214</td>\n",
       "      <td>0.000000</td>\n",
       "      <td>0.447214</td>\n",
       "      <td>Apple scab</td>\n",
       "    </tr>\n",
       "    <tr>\n",
       "      <th>4</th>\n",
       "      <td>32062.0</td>\n",
       "      <td>1051.161469</td>\n",
       "      <td>210</td>\n",
       "      <td>256</td>\n",
       "      <td>0.820312</td>\n",
       "      <td>83.416946</td>\n",
       "      <td>99.493576</td>\n",
       "      <td>123.469940</td>\n",
       "      <td>25.257455</td>\n",
       "      <td>21.266619</td>\n",
       "      <td>...</td>\n",
       "      <td>0.670649</td>\n",
       "      <td>203.609134</td>\n",
       "      <td>319.311111</td>\n",
       "      <td>165.375525</td>\n",
       "      <td>-0.267714</td>\n",
       "      <td>0.737509</td>\n",
       "      <td>0.397808</td>\n",
       "      <td>0.397808</td>\n",
       "      <td>0.293018</td>\n",
       "      <td>Apple scab</td>\n",
       "    </tr>\n",
       "  </tbody>\n",
       "</table>\n",
       "<p>5 rows × 27 columns</p>\n",
       "</div>"
      ],
      "text/plain": [
       "      area    perimeter physiological_length physiological_width  \\\n",
       "0  39223.5   943.261975                  256                 256   \n",
       "1  52739.5  1054.551297                  256                 256   \n",
       "2    153.0    48.828427                   13                  14   \n",
       "3  47418.5   886.894442                  256                 212   \n",
       "4  32062.0  1051.161469                  210                 256   \n",
       "\n",
       "   aspect_ratio      mean_r      mean_g      mean_b   stddev_r   stddev_g  \\\n",
       "0      1.000000  131.674286  142.607361  117.859375  48.160986  41.527176   \n",
       "1      1.000000  104.623474  125.845505   97.399323  59.915570  47.920588   \n",
       "2      0.928571  108.885437  122.020508  102.895676  41.507657  38.426731   \n",
       "3      1.207547   90.048004  122.629395  118.259155  37.221812  27.636534   \n",
       "4      0.820312   83.416946   99.493576  123.469940  25.257455  21.266619   \n",
       "\n",
       "   ...  solidity  equiv_diameter  major_axis_length  minor_axis_length  \\\n",
       "0  ...  0.673392      199.116564         351.250440         173.508131   \n",
       "1  ...  0.899784      260.386787         281.039302         255.644072   \n",
       "2  ...  0.539845      128.620377         322.980608          90.809607   \n",
       "3  ...  0.968543      246.821175         285.954155         220.104226   \n",
       "4  ...  0.670649      203.609134         319.311111         165.375525   \n",
       "\n",
       "   skewness  kurtosis  hog_feature_1  hog_feature_2  hog_feature_3       types  \n",
       "0 -0.801440  0.280473       0.396641       0.396641       0.396641  Apple scab  \n",
       "1 -0.012572 -1.102314       0.458273       0.338001       0.458273  Apple scab  \n",
       "2 -0.763138  0.515818       0.444622       0.108263       0.346746  Apple scab  \n",
       "3  0.928671  1.852474       0.447214       0.000000       0.447214  Apple scab  \n",
       "4 -0.267714  0.737509       0.397808       0.397808       0.293018  Apple scab  \n",
       "\n",
       "[5 rows x 27 columns]"
      ]
     },
     "execution_count": 10,
     "metadata": {},
     "output_type": "execute_result"
    }
   ],
   "source": [
    "feature_df.head()"
   ]
  },
  {
   "cell_type": "markdown",
   "metadata": {
    "id": "ILev7gnvs0Js"
   },
   "source": [
    "# PCA"
   ]
  },
  {
   "cell_type": "markdown",
   "metadata": {},
   "source": [
    "## Components"
   ]
  },
  {
   "cell_type": "code",
   "execution_count": 11,
   "metadata": {},
   "outputs": [],
   "source": [
    "import pandas as pd\n",
    "from sklearn.decomposition import PCA"
   ]
  },
  {
   "cell_type": "code",
   "execution_count": 12,
   "metadata": {},
   "outputs": [],
   "source": [
    "df = pd.read_csv(\"dataset/csv/image_features.csv\")"
   ]
  },
  {
   "cell_type": "code",
   "execution_count": 13,
   "metadata": {},
   "outputs": [],
   "source": [
    "# Assuming df is your DataFrame with the features\n",
    "X = df.drop('types', axis=1)\n",
    "pca = PCA()\n",
    "X_pca = pca.fit_transform(X)"
   ]
  },
  {
   "cell_type": "code",
   "execution_count": 14,
   "metadata": {},
   "outputs": [
    {
     "data": {
      "image/png": "[encoded data removed]",
      "text/plain": [
       "<Figure size 640x480 with 1 Axes>"
      ]
     },
     "metadata": {},
     "output_type": "display_data"
    }
   ],
   "source": [
    "import matplotlib.pyplot as plt\n",
    "\n",
    "explained_variance_ratio = pca.explained_variance_ratio_\n",
    "cumulative_explained_variance = explained_variance_ratio.cumsum()\n",
    "\n",
    "plt.plot(cumulative_explained_variance, marker='o')\n",
    "plt.xlabel('Number of Components')\n",
    "plt.ylabel('Cumulative Explained Variance')\n",
    "plt.show()"
   ]
  },
  {
   "cell_type": "markdown",
   "metadata": {},
   "source": [
    "## Training"
   ]
  },
  {
   "cell_type": "code",
   "execution_count": 15,
   "metadata": {
    "id": "w04RPlfUr_CR"
   },
   "outputs": [],
   "source": [
    "import pandas as pd"
   ]
  },
  {
   "cell_type": "code",
   "execution_count": 16,
   "metadata": {
    "id": "8GeQkN7Js7JT"
   },
   "outputs": [],
   "source": [
    "data=pd.read_csv(\"dataset/csv/image_features.csv\")"
   ]
  },
  {
   "cell_type": "code",
   "execution_count": 17,
   "metadata": {
    "id": "2Nuk3yoktC6A"
   },
   "outputs": [],
   "source": [
    "types = data[\"types\"]"
   ]
  },
  {
   "cell_type": "code",
   "execution_count": 18,
   "metadata": {
    "colab": {
     "base_uri": "https://localhost:8080/"
    },
    "id": "I834En5CU_li",
    "outputId": "2fcd799f-6675-48d6-a265-ce7d7fe64441"
   },
   "outputs": [
    {
     "data": {
      "text/plain": [
       "array(['Apple scab', 'Black rot', 'Cedar apple rust'], dtype=object)"
      ]
     },
     "execution_count": 18,
     "metadata": {},
     "output_type": "execute_result"
    }
   ],
   "source": [
    "types_labels = types.unique()\n",
    "types_labels"
   ]
  },
  {
   "cell_type": "code",
   "execution_count": 19,
   "metadata": {},
   "outputs": [],
   "source": [
    "data = data.drop('types', axis=1)"
   ]
  },
  {
   "cell_type": "code",
   "execution_count": 20,
   "metadata": {
    "colab": {
     "base_uri": "https://localhost:8080/",
     "height": 226
    },
    "id": "i86kptKJtDX4",
    "outputId": "157bbbaf-8f25-4d30-e81a-7429653ccabe"
   },
   "outputs": [
    {
     "data": {
      "text/html": [
       "<div>\n",
       "<style scoped>\n",
       "    .dataframe tbody tr th:only-of-type {\n",
       "        vertical-align: middle;\n",
       "    }\n",
       "\n",
       "    .dataframe tbody tr th {\n",
       "        vertical-align: top;\n",
       "    }\n",
       "\n",
       "    .dataframe thead th {\n",
       "        text-align: right;\n",
       "    }\n",
       "</style>\n",
       "<table border=\"1\" class=\"dataframe\">\n",
       "  <thead>\n",
       "    <tr style=\"text-align: right;\">\n",
       "      <th></th>\n",
       "      <th>area</th>\n",
       "      <th>perimeter</th>\n",
       "      <th>physiological_length</th>\n",
       "      <th>physiological_width</th>\n",
       "      <th>aspect_ratio</th>\n",
       "      <th>mean_r</th>\n",
       "      <th>mean_g</th>\n",
       "      <th>mean_b</th>\n",
       "      <th>stddev_r</th>\n",
       "      <th>stddev_g</th>\n",
       "      <th>...</th>\n",
       "      <th>eccentricity</th>\n",
       "      <th>solidity</th>\n",
       "      <th>equiv_diameter</th>\n",
       "      <th>major_axis_length</th>\n",
       "      <th>minor_axis_length</th>\n",
       "      <th>skewness</th>\n",
       "      <th>kurtosis</th>\n",
       "      <th>hog_feature_1</th>\n",
       "      <th>hog_feature_2</th>\n",
       "      <th>hog_feature_3</th>\n",
       "    </tr>\n",
       "  </thead>\n",
       "  <tbody>\n",
       "    <tr>\n",
       "      <th>0</th>\n",
       "      <td>39223.5</td>\n",
       "      <td>943.261975</td>\n",
       "      <td>256</td>\n",
       "      <td>256</td>\n",
       "      <td>1.000000</td>\n",
       "      <td>131.674286</td>\n",
       "      <td>142.607361</td>\n",
       "      <td>117.859375</td>\n",
       "      <td>48.160986</td>\n",
       "      <td>41.527176</td>\n",
       "      <td>...</td>\n",
       "      <td>0.869477</td>\n",
       "      <td>0.673392</td>\n",
       "      <td>199.116564</td>\n",
       "      <td>351.250440</td>\n",
       "      <td>173.508131</td>\n",
       "      <td>-0.801440</td>\n",
       "      <td>0.280473</td>\n",
       "      <td>0.396641</td>\n",
       "      <td>0.396641</td>\n",
       "      <td>0.396641</td>\n",
       "    </tr>\n",
       "    <tr>\n",
       "      <th>1</th>\n",
       "      <td>52739.5</td>\n",
       "      <td>1054.551297</td>\n",
       "      <td>256</td>\n",
       "      <td>256</td>\n",
       "      <td>1.000000</td>\n",
       "      <td>104.623474</td>\n",
       "      <td>125.845505</td>\n",
       "      <td>97.399323</td>\n",
       "      <td>59.915570</td>\n",
       "      <td>47.920588</td>\n",
       "      <td>...</td>\n",
       "      <td>0.415402</td>\n",
       "      <td>0.899784</td>\n",
       "      <td>260.386787</td>\n",
       "      <td>281.039302</td>\n",
       "      <td>255.644072</td>\n",
       "      <td>-0.012572</td>\n",
       "      <td>-1.102314</td>\n",
       "      <td>0.458273</td>\n",
       "      <td>0.338001</td>\n",
       "      <td>0.458273</td>\n",
       "    </tr>\n",
       "    <tr>\n",
       "      <th>2</th>\n",
       "      <td>153.0</td>\n",
       "      <td>48.828427</td>\n",
       "      <td>13</td>\n",
       "      <td>14</td>\n",
       "      <td>0.928571</td>\n",
       "      <td>108.885437</td>\n",
       "      <td>122.020508</td>\n",
       "      <td>102.895676</td>\n",
       "      <td>41.507657</td>\n",
       "      <td>38.426731</td>\n",
       "      <td>...</td>\n",
       "      <td>0.959661</td>\n",
       "      <td>0.539845</td>\n",
       "      <td>128.620377</td>\n",
       "      <td>322.980608</td>\n",
       "      <td>90.809607</td>\n",
       "      <td>-0.763138</td>\n",
       "      <td>0.515818</td>\n",
       "      <td>0.444622</td>\n",
       "      <td>0.108263</td>\n",
       "      <td>0.346746</td>\n",
       "    </tr>\n",
       "    <tr>\n",
       "      <th>3</th>\n",
       "      <td>47418.5</td>\n",
       "      <td>886.894442</td>\n",
       "      <td>256</td>\n",
       "      <td>212</td>\n",
       "      <td>1.207547</td>\n",
       "      <td>90.048004</td>\n",
       "      <td>122.629395</td>\n",
       "      <td>118.259155</td>\n",
       "      <td>37.221812</td>\n",
       "      <td>27.636534</td>\n",
       "      <td>...</td>\n",
       "      <td>0.638383</td>\n",
       "      <td>0.968543</td>\n",
       "      <td>246.821175</td>\n",
       "      <td>285.954155</td>\n",
       "      <td>220.104226</td>\n",
       "      <td>0.928671</td>\n",
       "      <td>1.852474</td>\n",
       "      <td>0.447214</td>\n",
       "      <td>0.000000</td>\n",
       "      <td>0.447214</td>\n",
       "    </tr>\n",
       "    <tr>\n",
       "      <th>4</th>\n",
       "      <td>32062.0</td>\n",
       "      <td>1051.161469</td>\n",
       "      <td>210</td>\n",
       "      <td>256</td>\n",
       "      <td>0.820312</td>\n",
       "      <td>83.416946</td>\n",
       "      <td>99.493576</td>\n",
       "      <td>123.469940</td>\n",
       "      <td>25.257455</td>\n",
       "      <td>21.266619</td>\n",
       "      <td>...</td>\n",
       "      <td>0.855433</td>\n",
       "      <td>0.670649</td>\n",
       "      <td>203.609134</td>\n",
       "      <td>319.311111</td>\n",
       "      <td>165.375525</td>\n",
       "      <td>-0.267714</td>\n",
       "      <td>0.737509</td>\n",
       "      <td>0.397808</td>\n",
       "      <td>0.397808</td>\n",
       "      <td>0.293018</td>\n",
       "    </tr>\n",
       "  </tbody>\n",
       "</table>\n",
       "<p>5 rows × 26 columns</p>\n",
       "</div>"
      ],
      "text/plain": [
       "      area    perimeter  physiological_length  physiological_width  \\\n",
       "0  39223.5   943.261975                   256                  256   \n",
       "1  52739.5  1054.551297                   256                  256   \n",
       "2    153.0    48.828427                    13                   14   \n",
       "3  47418.5   886.894442                   256                  212   \n",
       "4  32062.0  1051.161469                   210                  256   \n",
       "\n",
       "   aspect_ratio      mean_r      mean_g      mean_b   stddev_r   stddev_g  \\\n",
       "0      1.000000  131.674286  142.607361  117.859375  48.160986  41.527176   \n",
       "1      1.000000  104.623474  125.845505   97.399323  59.915570  47.920588   \n",
       "2      0.928571  108.885437  122.020508  102.895676  41.507657  38.426731   \n",
       "3      1.207547   90.048004  122.629395  118.259155  37.221812  27.636534   \n",
       "4      0.820312   83.416946   99.493576  123.469940  25.257455  21.266619   \n",
       "\n",
       "   ...  eccentricity  solidity  equiv_diameter  major_axis_length  \\\n",
       "0  ...      0.869477  0.673392      199.116564         351.250440   \n",
       "1  ...      0.415402  0.899784      260.386787         281.039302   \n",
       "2  ...      0.959661  0.539845      128.620377         322.980608   \n",
       "3  ...      0.638383  0.968543      246.821175         285.954155   \n",
       "4  ...      0.855433  0.670649      203.609134         319.311111   \n",
       "\n",
       "   minor_axis_length  skewness  kurtosis  hog_feature_1  hog_feature_2  \\\n",
       "0         173.508131 -0.801440  0.280473       0.396641       0.396641   \n",
       "1         255.644072 -0.012572 -1.102314       0.458273       0.338001   \n",
       "2          90.809607 -0.763138  0.515818       0.444622       0.108263   \n",
       "3         220.104226  0.928671  1.852474       0.447214       0.000000   \n",
       "4         165.375525 -0.267714  0.737509       0.397808       0.397808   \n",
       "\n",
       "   hog_feature_3  \n",
       "0       0.396641  \n",
       "1       0.458273  \n",
       "2       0.346746  \n",
       "3       0.447214  \n",
       "4       0.293018  \n",
       "\n",
       "[5 rows x 26 columns]"
      ]
     },
     "execution_count": 20,
     "metadata": {},
     "output_type": "execute_result"
    }
   ],
   "source": [
    "data.head()"
   ]
  },
  {
   "cell_type": "code",
   "execution_count": 21,
   "metadata": {
    "colab": {
     "base_uri": "https://localhost:8080/",
     "height": 75
    },
    "id": "gzoEnjdztFV_",
    "outputId": "3b2f80c4-077e-4a7c-92e4-fc7c69ac38e8"
   },
   "outputs": [
    {
     "data": {
      "text/html": [
       "<style>#sk-container-id-1 {color: black;}#sk-container-id-1 pre{padding: 0;}#sk-container-id-1 div.sk-toggleable {background-color: white;}#sk-container-id-1 label.sk-toggleable__label {cursor: pointer;display: block;width: 100%;margin-bottom: 0;padding: 0.3em;box-sizing: border-box;text-align: center;}#sk-container-id-1 label.sk-toggleable__label-arrow:before {content: \"▸\";float: left;margin-right: 0.25em;color: #696969;}#sk-container-id-1 label.sk-toggleable__label-arrow:hover:before {color: black;}#sk-container-id-1 div.sk-estimator:hover label.sk-toggleable__label-arrow:before {color: black;}#sk-container-id-1 div.sk-toggleable__content {max-height: 0;max-width: 0;overflow: hidden;text-align: left;background-color: #f0f8ff;}#sk-container-id-1 div.sk-toggleable__content pre {margin: 0.2em;color: black;border-radius: 0.25em;background-color: #f0f8ff;}#sk-container-id-1 input.sk-toggleable__control:checked~div.sk-toggleable__content {max-height: 200px;max-width: 100%;overflow: auto;}#sk-container-id-1 input.sk-toggleable__control:checked~label.sk-toggleable__label-arrow:before {content: \"▾\";}#sk-container-id-1 div.sk-estimator input.sk-toggleable__control:checked~label.sk-toggleable__label {background-color: #d4ebff;}#sk-container-id-1 div.sk-label input.sk-toggleable__control:checked~label.sk-toggleable__label {background-color: #d4ebff;}#sk-container-id-1 input.sk-hidden--visually {border: 0;clip: rect(1px 1px 1px 1px);clip: rect(1px, 1px, 1px, 1px);height: 1px;margin: -1px;overflow: hidden;padding: 0;position: absolute;width: 1px;}#sk-container-id-1 div.sk-estimator {font-family: monospace;background-color: #f0f8ff;border: 1px dotted black;border-radius: 0.25em;box-sizing: border-box;margin-bottom: 0.5em;}#sk-container-id-1 div.sk-estimator:hover {background-color: #d4ebff;}#sk-container-id-1 div.sk-parallel-item::after {content: \"\";width: 100%;border-bottom: 1px solid gray;flex-grow: 1;}#sk-container-id-1 div.sk-label:hover label.sk-toggleable__label {background-color: #d4ebff;}#sk-container-id-1 div.sk-serial::before {content: \"\";position: absolute;border-left: 1px solid gray;box-sizing: border-box;top: 0;bottom: 0;left: 50%;z-index: 0;}#sk-container-id-1 div.sk-serial {display: flex;flex-direction: column;align-items: center;background-color: white;padding-right: 0.2em;padding-left: 0.2em;position: relative;}#sk-container-id-1 div.sk-item {position: relative;z-index: 1;}#sk-container-id-1 div.sk-parallel {display: flex;align-items: stretch;justify-content: center;background-color: white;position: relative;}#sk-container-id-1 div.sk-item::before, #sk-container-id-1 div.sk-parallel-item::before {content: \"\";position: absolute;border-left: 1px solid gray;box-sizing: border-box;top: 0;bottom: 0;left: 50%;z-index: -1;}#sk-container-id-1 div.sk-parallel-item {display: flex;flex-direction: column;z-index: 1;position: relative;background-color: white;}#sk-container-id-1 div.sk-parallel-item:first-child::after {align-self: flex-end;width: 50%;}#sk-container-id-1 div.sk-parallel-item:last-child::after {align-self: flex-start;width: 50%;}#sk-container-id-1 div.sk-parallel-item:only-child::after {width: 0;}#sk-container-id-1 div.sk-dashed-wrapped {border: 1px dashed gray;margin: 0 0.4em 0.5em 0.4em;box-sizing: border-box;padding-bottom: 0.4em;background-color: white;}#sk-container-id-1 div.sk-label label {font-family: monospace;font-weight: bold;display: inline-block;line-height: 1.2em;}#sk-container-id-1 div.sk-label-container {text-align: center;}#sk-container-id-1 div.sk-container {/* jupyter's `normalize.less` sets `[hidden] { display: none; }` but bootstrap.min.css set `[hidden] { display: none !important; }` so we also need the `!important` here to be able to override the default hidden behavior on the sphinx rendered scikit-learn.org. See: https://github.com/scikit-learn/scikit-learn/issues/21755 */display: inline-block !important;position: relative;}#sk-container-id-1 div.sk-text-repr-fallback {display: none;}</style><div id=\"sk-container-id-1\" class=\"sk-top-container\"><div class=\"sk-text-repr-fallback\"><pre>PCA(n_components=14)</pre><b>In a Jupyter environment, please rerun this cell to show the HTML representation or trust the notebook. <br />On GitHub, the HTML representation is unable to render, please try loading this page with nbviewer.org.</b></div><div class=\"sk-container\" hidden><div class=\"sk-item\"><div class=\"sk-estimator sk-toggleable\"><input class=\"sk-toggleable__control sk-hidden--visually\" id=\"sk-estimator-id-1\" type=\"checkbox\" checked><label for=\"sk-estimator-id-1\" class=\"sk-toggleable__label sk-toggleable__label-arrow\">PCA</label><div class=\"sk-toggleable__content\"><pre>PCA(n_components=14)</pre></div></div></div></div></div>"
      ],
      "text/plain": [
       "PCA(n_components=14)"
      ]
     },
     "execution_count": 21,
     "metadata": {},
     "output_type": "execute_result"
    }
   ],
   "source": [
    "from sklearn.decomposition import PCA\n",
    "pca = PCA(n_components = 14)\n",
    "pca.fit(data)"
   ]
  },
  {
   "cell_type": "code",
   "execution_count": 22,
   "metadata": {
    "colab": {
     "base_uri": "https://localhost:8080/"
    },
    "id": "6arhkPO72oMY",
    "outputId": "1257ba22-75e2-4c74-9ced-ca1da37694a5"
   },
   "outputs": [
    {
     "name": "stdout",
     "output_type": "stream",
     "text": [
      "            area  perimeter  physiological_length  physiological_width  \\\n",
      "0  -9.998406e-01  -0.016062             -0.004302            -0.004140   \n",
      "1   1.585207e-03   0.141082              0.026295             0.028387   \n",
      "2  -1.722615e-02   0.964008              0.147096             0.154839   \n",
      "3   2.684767e-03  -0.057678              0.099192             0.079246   \n",
      "4   9.692915e-07  -0.125372              0.241048             0.422163   \n",
      "5   2.855730e-03   0.136467             -0.324692            -0.669524   \n",
      "6  -4.361189e-04   0.009392             -0.491682             0.503039   \n",
      "7   1.935260e-03   0.054239             -0.716221             0.206885   \n",
      "8   3.718872e-05  -0.049981              0.105411             0.116362   \n",
      "9   2.205560e-04  -0.082776              0.187032             0.149950   \n",
      "10  2.569269e-04   0.018964             -0.030459            -0.092462   \n",
      "11 -1.026383e-04  -0.004757              0.019082             0.011144   \n",
      "12 -2.447358e-04  -0.007629              0.031580             0.040889   \n",
      "13 -1.090802e-04  -0.005920              0.031894             0.011324   \n",
      "\n",
      "    aspect_ratio    mean_r    mean_g    mean_b  stddev_r  stddev_g  ...  \\\n",
      "0       0.000007  0.000328  0.000243  0.000313  0.000119  0.000150  ...   \n",
      "1      -0.000084  0.009587  0.008395  0.009593  0.022999  0.018400  ...   \n",
      "2      -0.000342  0.011184  0.008317  0.009804 -0.003100 -0.000714  ...   \n",
      "3      -0.000634  0.018828  0.016904  0.030268  0.001177 -0.004890  ...   \n",
      "4      -0.002408  0.034942  0.013801  0.058379  0.007993 -0.017133  ...   \n",
      "5       0.002255 -0.187480 -0.133645 -0.201465 -0.062783  0.037329  ...   \n",
      "6      -0.006733 -0.456460 -0.428775 -0.298491 -0.099473 -0.073094  ...   \n",
      "7      -0.006997  0.395172  0.390146  0.296036  0.045682  0.079293  ...   \n",
      "8      -0.000935 -0.099294 -0.075271 -0.118778  0.481168  0.497228  ...   \n",
      "9      -0.000507 -0.001231 -0.015724  0.125947 -0.317507 -0.199823  ...   \n",
      "10      0.002814 -0.399397 -0.255514  0.850529 -0.027041 -0.009690  ...   \n",
      "11      0.004658 -0.421090  0.581714 -0.140739 -0.131690 -0.449543  ...   \n",
      "12     -0.001974 -0.458931  0.469547  0.026151 -0.133034  0.598142  ...   \n",
      "13      0.001405  0.202391 -0.122550 -0.063112 -0.764330  0.357536  ...   \n",
      "\n",
      "    eccentricity  solidity  equiv_diameter  major_axis_length  \\\n",
      "0       0.000005 -0.000004       -0.001910          -0.000907   \n",
      "1      -0.000010 -0.000084       -0.009241          -0.003298   \n",
      "2       0.000104 -0.000276       -0.050393           0.008961   \n",
      "3       0.000256  0.000506       -0.472826          -0.703625   \n",
      "4       0.003748  0.000267       -0.024828           0.576480   \n",
      "5       0.002385 -0.000758       -0.345589           0.318115   \n",
      "6      -0.000495  0.000214        0.013689          -0.071144   \n",
      "7       0.000343 -0.000571       -0.169207           0.074234   \n",
      "8      -0.000950 -0.002403       -0.402691           0.120900   \n",
      "9      -0.001983 -0.004215       -0.670313           0.210668   \n",
      "10      0.000109  0.000348        0.034160          -0.001146   \n",
      "11     -0.000919  0.000364       -0.059201           0.020656   \n",
      "12     -0.001518  0.000431        0.087310          -0.031716   \n",
      "13     -0.000848  0.001429        0.032769          -0.015552   \n",
      "\n",
      "    minor_axis_length  skewness  kurtosis  hog_feature_1  hog_feature_2  \\\n",
      "0           -0.001900 -0.000017  0.000003  -2.600548e-07   3.572953e-07   \n",
      "1           -0.000352 -0.000273 -0.000646  -2.250709e-05   7.166208e-05   \n",
      "2           -0.019607 -0.000649  0.000051   1.727676e-06  -5.819029e-06   \n",
      "3           -0.510186 -0.001359  0.001544   6.896541e-05  -1.186506e-04   \n",
      "4           -0.640017 -0.002089 -0.002476  -1.078574e-04   3.492549e-04   \n",
      "5           -0.324956  0.005826  0.004824   1.709417e-04  -3.627434e-04   \n",
      "6            0.018449  0.005207  0.003310  -4.563967e-05  -1.311998e-04   \n",
      "7           -0.014182 -0.006259  0.010373   3.708643e-05  -8.180822e-05   \n",
      "8            0.234603  0.000684 -0.036736  -6.697704e-05  -3.362464e-05   \n",
      "9            0.407285 -0.004570  0.024671   7.193011e-05   5.310378e-04   \n",
      "10          -0.024896  0.001480  0.008723  -1.979517e-04  -2.921502e-04   \n",
      "11           0.032423 -0.006323  0.004067   7.897142e-05   1.950499e-04   \n",
      "12          -0.030205  0.001668  0.019888  -5.160718e-04  -4.996560e-04   \n",
      "13          -0.005309 -0.002193 -0.024123   8.314693e-04  -8.728110e-04   \n",
      "\n",
      "    hog_feature_3  \n",
      "0    6.168770e-08  \n",
      "1   -1.070971e-05  \n",
      "2    1.319783e-06  \n",
      "3   -1.023071e-04  \n",
      "4   -1.083791e-04  \n",
      "5   -2.430728e-04  \n",
      "6   -7.140879e-05  \n",
      "7   -5.186486e-05  \n",
      "8    3.599943e-04  \n",
      "9   -1.004071e-04  \n",
      "10   1.017425e-04  \n",
      "11  -1.551079e-03  \n",
      "12  -3.023415e-04  \n",
      "13   1.478876e-03  \n",
      "\n",
      "[14 rows x 26 columns]\n"
     ]
    }
   ],
   "source": [
    "# Access the loadings of the first three principal components\n",
    "loadings = pca.components_[:14]\n",
    "\n",
    "# Map the loadings to the original feature names\n",
    "original_feature_names = data.columns\n",
    "component_loadings = pd.DataFrame(loadings, columns=original_feature_names)\n",
    "\n",
    "# Display the loadings for the first three components\n",
    "print(component_loadings)"
   ]
  },
  {
   "cell_type": "code",
   "execution_count": 23,
   "metadata": {
    "id": "UaHR4IkytIvE"
   },
   "outputs": [],
   "source": [
    "data2=pca.transform(data)"
   ]
  },
  {
   "cell_type": "code",
   "execution_count": 24,
   "metadata": {
    "colab": {
     "base_uri": "https://localhost:8080/"
    },
    "id": "0IHMWBmYtJ-h",
    "outputId": "a1eb4ea5-2873-4bbd-f5aa-023dd3a1da5e"
   },
   "outputs": [
    {
     "data": {
      "text/plain": [
       "array([[-5.78715737e+03,  7.25716991e+01, -7.12796849e+00, ...,\n",
       "         6.15533820e+00, -1.65079348e+00,  1.60181384e+00],\n",
       "       [-1.93029326e+04,  1.29528414e+02, -1.41715039e+02, ...,\n",
       "         7.64419787e+00,  6.82164226e-01, -1.49171497e+00],\n",
       "       [ 3.32938349e+04, -1.26987086e+02, -2.65442322e+02, ...,\n",
       "         7.33840624e+00, -3.89134759e+00, -3.07270968e-01],\n",
       "       ...,\n",
       "       [-9.14272798e+03, -2.21918723e+02, -1.18106234e+02, ...,\n",
       "        -9.80137351e+00, -2.09412488e+00,  4.48016049e+00],\n",
       "       [ 1.15689045e+04, -2.99163836e+02,  1.44690270e+02, ...,\n",
       "         3.81687304e+00, -1.34014499e-01,  2.54123967e+00],\n",
       "       [-8.55991861e+03, -2.99444969e+02,  2.78971757e+01, ...,\n",
       "        -3.92071498e+00,  3.00863963e+00, -1.73660418e+00]])"
      ]
     },
     "execution_count": 24,
     "metadata": {},
     "output_type": "execute_result"
    }
   ],
   "source": [
    "data2"
   ]
  },
  {
   "cell_type": "code",
   "execution_count": 25,
   "metadata": {
    "id": "UHS50kqEtLbe"
   },
   "outputs": [],
   "source": [
    "data2=pd.DataFrame(data2)\n",
    "data2 = data2.join(types)"
   ]
  },
  {
   "cell_type": "code",
   "execution_count": 26,
   "metadata": {
    "colab": {
     "base_uri": "https://localhost:8080/",
     "height": 424
    },
    "id": "g5P9nKYutNHi",
    "outputId": "288bd27e-f408-49a0-8007-454a22831014"
   },
   "outputs": [
    {
     "data": {
      "text/html": [
       "<div>\n",
       "<style scoped>\n",
       "    .dataframe tbody tr th:only-of-type {\n",
       "        vertical-align: middle;\n",
       "    }\n",
       "\n",
       "    .dataframe tbody tr th {\n",
       "        vertical-align: top;\n",
       "    }\n",
       "\n",
       "    .dataframe thead th {\n",
       "        text-align: right;\n",
       "    }\n",
       "</style>\n",
       "<table border=\"1\" class=\"dataframe\">\n",
       "  <thead>\n",
       "    <tr style=\"text-align: right;\">\n",
       "      <th></th>\n",
       "      <th>0</th>\n",
       "      <th>1</th>\n",
       "      <th>2</th>\n",
       "      <th>3</th>\n",
       "      <th>4</th>\n",
       "      <th>5</th>\n",
       "      <th>6</th>\n",
       "      <th>7</th>\n",
       "      <th>8</th>\n",
       "      <th>9</th>\n",
       "      <th>10</th>\n",
       "      <th>11</th>\n",
       "      <th>12</th>\n",
       "      <th>13</th>\n",
       "      <th>types</th>\n",
       "    </tr>\n",
       "  </thead>\n",
       "  <tbody>\n",
       "    <tr>\n",
       "      <th>0</th>\n",
       "      <td>-5787.157370</td>\n",
       "      <td>72.571699</td>\n",
       "      <td>-7.127968</td>\n",
       "      <td>-27.375484</td>\n",
       "      <td>75.614880</td>\n",
       "      <td>16.225773</td>\n",
       "      <td>-31.679174</td>\n",
       "      <td>22.614207</td>\n",
       "      <td>16.571534</td>\n",
       "      <td>19.109703</td>\n",
       "      <td>-5.275971</td>\n",
       "      <td>6.155338</td>\n",
       "      <td>-1.650793</td>\n",
       "      <td>1.601814</td>\n",
       "      <td>Apple scab</td>\n",
       "    </tr>\n",
       "    <tr>\n",
       "      <th>1</th>\n",
       "      <td>-19302.932643</td>\n",
       "      <td>129.528414</td>\n",
       "      <td>-141.715039</td>\n",
       "      <td>-20.489951</td>\n",
       "      <td>-35.150164</td>\n",
       "      <td>10.452531</td>\n",
       "      <td>-5.506127</td>\n",
       "      <td>16.163422</td>\n",
       "      <td>17.865987</td>\n",
       "      <td>-20.571331</td>\n",
       "      <td>-0.045411</td>\n",
       "      <td>7.644198</td>\n",
       "      <td>0.682164</td>\n",
       "      <td>-1.491715</td>\n",
       "      <td>Apple scab</td>\n",
       "    </tr>\n",
       "    <tr>\n",
       "      <th>2</th>\n",
       "      <td>33293.834868</td>\n",
       "      <td>-126.987086</td>\n",
       "      <td>-265.442322</td>\n",
       "      <td>-29.781226</td>\n",
       "      <td>63.340697</td>\n",
       "      <td>76.381517</td>\n",
       "      <td>-0.888787</td>\n",
       "      <td>11.176728</td>\n",
       "      <td>9.796343</td>\n",
       "      <td>13.506304</td>\n",
       "      <td>-2.053131</td>\n",
       "      <td>7.338406</td>\n",
       "      <td>-3.891348</td>\n",
       "      <td>-0.307271</td>\n",
       "      <td>Apple scab</td>\n",
       "    </tr>\n",
       "    <tr>\n",
       "      <th>3</th>\n",
       "      <td>-13981.219930</td>\n",
       "      <td>-242.342541</td>\n",
       "      <td>-166.888956</td>\n",
       "      <td>-5.705029</td>\n",
       "      <td>-6.121976</td>\n",
       "      <td>15.947513</td>\n",
       "      <td>-25.823605</td>\n",
       "      <td>-10.393347</td>\n",
       "      <td>-3.273622</td>\n",
       "      <td>-2.320619</td>\n",
       "      <td>22.418217</td>\n",
       "      <td>10.853315</td>\n",
       "      <td>6.652089</td>\n",
       "      <td>-4.203422</td>\n",
       "      <td>Apple scab</td>\n",
       "    </tr>\n",
       "    <tr>\n",
       "      <th>4</th>\n",
       "      <td>1370.287456</td>\n",
       "      <td>-260.702923</td>\n",
       "      <td>261.939640</td>\n",
       "      <td>-32.878170</td>\n",
       "      <td>35.741093</td>\n",
       "      <td>27.365031</td>\n",
       "      <td>36.535858</td>\n",
       "      <td>9.944323</td>\n",
       "      <td>-14.564175</td>\n",
       "      <td>1.659375</td>\n",
       "      <td>30.254175</td>\n",
       "      <td>0.888443</td>\n",
       "      <td>0.626885</td>\n",
       "      <td>-2.134625</td>\n",
       "      <td>Apple scab</td>\n",
       "    </tr>\n",
       "    <tr>\n",
       "      <th>...</th>\n",
       "      <td>...</td>\n",
       "      <td>...</td>\n",
       "      <td>...</td>\n",
       "      <td>...</td>\n",
       "      <td>...</td>\n",
       "      <td>...</td>\n",
       "      <td>...</td>\n",
       "      <td>...</td>\n",
       "      <td>...</td>\n",
       "      <td>...</td>\n",
       "      <td>...</td>\n",
       "      <td>...</td>\n",
       "      <td>...</td>\n",
       "      <td>...</td>\n",
       "      <td>...</td>\n",
       "    </tr>\n",
       "    <tr>\n",
       "      <th>1341</th>\n",
       "      <td>-16727.318075</td>\n",
       "      <td>-311.822332</td>\n",
       "      <td>-166.241828</td>\n",
       "      <td>-12.130700</td>\n",
       "      <td>-16.143855</td>\n",
       "      <td>23.822091</td>\n",
       "      <td>58.917508</td>\n",
       "      <td>-12.433468</td>\n",
       "      <td>-21.954963</td>\n",
       "      <td>9.099662</td>\n",
       "      <td>-13.858301</td>\n",
       "      <td>-9.200254</td>\n",
       "      <td>-3.578746</td>\n",
       "      <td>1.496020</td>\n",
       "      <td>Cedar apple rust</td>\n",
       "    </tr>\n",
       "    <tr>\n",
       "      <th>1342</th>\n",
       "      <td>-10452.826264</td>\n",
       "      <td>-303.127452</td>\n",
       "      <td>-20.915882</td>\n",
       "      <td>-3.488254</td>\n",
       "      <td>-28.806390</td>\n",
       "      <td>-3.225133</td>\n",
       "      <td>-14.532205</td>\n",
       "      <td>-8.856370</td>\n",
       "      <td>11.581580</td>\n",
       "      <td>-9.422995</td>\n",
       "      <td>-9.574323</td>\n",
       "      <td>-4.237688</td>\n",
       "      <td>0.566098</td>\n",
       "      <td>4.061227</td>\n",
       "      <td>Cedar apple rust</td>\n",
       "    </tr>\n",
       "    <tr>\n",
       "      <th>1343</th>\n",
       "      <td>-9142.727983</td>\n",
       "      <td>-221.918723</td>\n",
       "      <td>-118.106234</td>\n",
       "      <td>-3.405235</td>\n",
       "      <td>14.901230</td>\n",
       "      <td>-2.089453</td>\n",
       "      <td>18.735001</td>\n",
       "      <td>40.832113</td>\n",
       "      <td>11.956537</td>\n",
       "      <td>-15.385262</td>\n",
       "      <td>-3.819476</td>\n",
       "      <td>-9.801374</td>\n",
       "      <td>-2.094125</td>\n",
       "      <td>4.480160</td>\n",
       "      <td>Cedar apple rust</td>\n",
       "    </tr>\n",
       "    <tr>\n",
       "      <th>1344</th>\n",
       "      <td>11568.904510</td>\n",
       "      <td>-299.163836</td>\n",
       "      <td>144.690270</td>\n",
       "      <td>47.354207</td>\n",
       "      <td>40.374752</td>\n",
       "      <td>-38.026578</td>\n",
       "      <td>-12.007105</td>\n",
       "      <td>6.837152</td>\n",
       "      <td>5.798913</td>\n",
       "      <td>-2.783013</td>\n",
       "      <td>-9.484771</td>\n",
       "      <td>3.816873</td>\n",
       "      <td>-0.134014</td>\n",
       "      <td>2.541240</td>\n",
       "      <td>Cedar apple rust</td>\n",
       "    </tr>\n",
       "    <tr>\n",
       "      <th>1345</th>\n",
       "      <td>-8559.918614</td>\n",
       "      <td>-299.444969</td>\n",
       "      <td>27.897176</td>\n",
       "      <td>-8.463171</td>\n",
       "      <td>-29.144693</td>\n",
       "      <td>-39.416796</td>\n",
       "      <td>-22.797183</td>\n",
       "      <td>14.810999</td>\n",
       "      <td>-14.038712</td>\n",
       "      <td>20.985650</td>\n",
       "      <td>-0.142170</td>\n",
       "      <td>-3.920715</td>\n",
       "      <td>3.008640</td>\n",
       "      <td>-1.736604</td>\n",
       "      <td>Cedar apple rust</td>\n",
       "    </tr>\n",
       "  </tbody>\n",
       "</table>\n",
       "<p>1346 rows × 15 columns</p>\n",
       "</div>"
      ],
      "text/plain": [
       "                 0           1           2          3          4          5  \\\n",
       "0     -5787.157370   72.571699   -7.127968 -27.375484  75.614880  16.225773   \n",
       "1    -19302.932643  129.528414 -141.715039 -20.489951 -35.150164  10.452531   \n",
       "2     33293.834868 -126.987086 -265.442322 -29.781226  63.340697  76.381517   \n",
       "3    -13981.219930 -242.342541 -166.888956  -5.705029  -6.121976  15.947513   \n",
       "4      1370.287456 -260.702923  261.939640 -32.878170  35.741093  27.365031   \n",
       "...            ...         ...         ...        ...        ...        ...   \n",
       "1341 -16727.318075 -311.822332 -166.241828 -12.130700 -16.143855  23.822091   \n",
       "1342 -10452.826264 -303.127452  -20.915882  -3.488254 -28.806390  -3.225133   \n",
       "1343  -9142.727983 -221.918723 -118.106234  -3.405235  14.901230  -2.089453   \n",
       "1344  11568.904510 -299.163836  144.690270  47.354207  40.374752 -38.026578   \n",
       "1345  -8559.918614 -299.444969   27.897176  -8.463171 -29.144693 -39.416796   \n",
       "\n",
       "              6          7          8          9         10         11  \\\n",
       "0    -31.679174  22.614207  16.571534  19.109703  -5.275971   6.155338   \n",
       "1     -5.506127  16.163422  17.865987 -20.571331  -0.045411   7.644198   \n",
       "2     -0.888787  11.176728   9.796343  13.506304  -2.053131   7.338406   \n",
       "3    -25.823605 -10.393347  -3.273622  -2.320619  22.418217  10.853315   \n",
       "4     36.535858   9.944323 -14.564175   1.659375  30.254175   0.888443   \n",
       "...         ...        ...        ...        ...        ...        ...   \n",
       "1341  58.917508 -12.433468 -21.954963   9.099662 -13.858301  -9.200254   \n",
       "1342 -14.532205  -8.856370  11.581580  -9.422995  -9.574323  -4.237688   \n",
       "1343  18.735001  40.832113  11.956537 -15.385262  -3.819476  -9.801374   \n",
       "1344 -12.007105   6.837152   5.798913  -2.783013  -9.484771   3.816873   \n",
       "1345 -22.797183  14.810999 -14.038712  20.985650  -0.142170  -3.920715   \n",
       "\n",
       "            12        13             types  \n",
       "0    -1.650793  1.601814        Apple scab  \n",
       "1     0.682164 -1.491715        Apple scab  \n",
       "2    -3.891348 -0.307271        Apple scab  \n",
       "3     6.652089 -4.203422        Apple scab  \n",
       "4     0.626885 -2.134625        Apple scab  \n",
       "...        ...       ...               ...  \n",
       "1341 -3.578746  1.496020  Cedar apple rust  \n",
       "1342  0.566098  4.061227  Cedar apple rust  \n",
       "1343 -2.094125  4.480160  Cedar apple rust  \n",
       "1344 -0.134014  2.541240  Cedar apple rust  \n",
       "1345  3.008640 -1.736604  Cedar apple rust  \n",
       "\n",
       "[1346 rows x 15 columns]"
      ]
     },
     "execution_count": 26,
     "metadata": {},
     "output_type": "execute_result"
    }
   ],
   "source": [
    "data2"
   ]
  },
  {
   "cell_type": "code",
   "execution_count": 27,
   "metadata": {
    "id": "-4GFnpsJtOwJ"
   },
   "outputs": [],
   "source": [
    "data2.index=data.index"
   ]
  },
  {
   "cell_type": "code",
   "execution_count": 28,
   "metadata": {
    "colab": {
     "base_uri": "https://localhost:8080/",
     "height": 206
    },
    "id": "rurrHOUQtQCj",
    "outputId": "30361353-6b48-40f7-ffc2-77c8445c3ec6"
   },
   "outputs": [
    {
     "data": {
      "text/html": [
       "<div>\n",
       "<style scoped>\n",
       "    .dataframe tbody tr th:only-of-type {\n",
       "        vertical-align: middle;\n",
       "    }\n",
       "\n",
       "    .dataframe tbody tr th {\n",
       "        vertical-align: top;\n",
       "    }\n",
       "\n",
       "    .dataframe thead th {\n",
       "        text-align: right;\n",
       "    }\n",
       "</style>\n",
       "<table border=\"1\" class=\"dataframe\">\n",
       "  <thead>\n",
       "    <tr style=\"text-align: right;\">\n",
       "      <th></th>\n",
       "      <th>0</th>\n",
       "      <th>1</th>\n",
       "      <th>2</th>\n",
       "      <th>3</th>\n",
       "      <th>4</th>\n",
       "      <th>5</th>\n",
       "      <th>6</th>\n",
       "      <th>7</th>\n",
       "      <th>8</th>\n",
       "      <th>9</th>\n",
       "      <th>10</th>\n",
       "      <th>11</th>\n",
       "      <th>12</th>\n",
       "      <th>13</th>\n",
       "      <th>types</th>\n",
       "    </tr>\n",
       "  </thead>\n",
       "  <tbody>\n",
       "    <tr>\n",
       "      <th>0</th>\n",
       "      <td>-5787.157370</td>\n",
       "      <td>72.571699</td>\n",
       "      <td>-7.127968</td>\n",
       "      <td>-27.375484</td>\n",
       "      <td>75.614880</td>\n",
       "      <td>16.225773</td>\n",
       "      <td>-31.679174</td>\n",
       "      <td>22.614207</td>\n",
       "      <td>16.571534</td>\n",
       "      <td>19.109703</td>\n",
       "      <td>-5.275971</td>\n",
       "      <td>6.155338</td>\n",
       "      <td>-1.650793</td>\n",
       "      <td>1.601814</td>\n",
       "      <td>Apple scab</td>\n",
       "    </tr>\n",
       "    <tr>\n",
       "      <th>1</th>\n",
       "      <td>-19302.932643</td>\n",
       "      <td>129.528414</td>\n",
       "      <td>-141.715039</td>\n",
       "      <td>-20.489951</td>\n",
       "      <td>-35.150164</td>\n",
       "      <td>10.452531</td>\n",
       "      <td>-5.506127</td>\n",
       "      <td>16.163422</td>\n",
       "      <td>17.865987</td>\n",
       "      <td>-20.571331</td>\n",
       "      <td>-0.045411</td>\n",
       "      <td>7.644198</td>\n",
       "      <td>0.682164</td>\n",
       "      <td>-1.491715</td>\n",
       "      <td>Apple scab</td>\n",
       "    </tr>\n",
       "    <tr>\n",
       "      <th>2</th>\n",
       "      <td>33293.834868</td>\n",
       "      <td>-126.987086</td>\n",
       "      <td>-265.442322</td>\n",
       "      <td>-29.781226</td>\n",
       "      <td>63.340697</td>\n",
       "      <td>76.381517</td>\n",
       "      <td>-0.888787</td>\n",
       "      <td>11.176728</td>\n",
       "      <td>9.796343</td>\n",
       "      <td>13.506304</td>\n",
       "      <td>-2.053131</td>\n",
       "      <td>7.338406</td>\n",
       "      <td>-3.891348</td>\n",
       "      <td>-0.307271</td>\n",
       "      <td>Apple scab</td>\n",
       "    </tr>\n",
       "    <tr>\n",
       "      <th>3</th>\n",
       "      <td>-13981.219930</td>\n",
       "      <td>-242.342541</td>\n",
       "      <td>-166.888956</td>\n",
       "      <td>-5.705029</td>\n",
       "      <td>-6.121976</td>\n",
       "      <td>15.947513</td>\n",
       "      <td>-25.823605</td>\n",
       "      <td>-10.393347</td>\n",
       "      <td>-3.273622</td>\n",
       "      <td>-2.320619</td>\n",
       "      <td>22.418217</td>\n",
       "      <td>10.853315</td>\n",
       "      <td>6.652089</td>\n",
       "      <td>-4.203422</td>\n",
       "      <td>Apple scab</td>\n",
       "    </tr>\n",
       "    <tr>\n",
       "      <th>4</th>\n",
       "      <td>1370.287456</td>\n",
       "      <td>-260.702923</td>\n",
       "      <td>261.939640</td>\n",
       "      <td>-32.878170</td>\n",
       "      <td>35.741093</td>\n",
       "      <td>27.365031</td>\n",
       "      <td>36.535858</td>\n",
       "      <td>9.944323</td>\n",
       "      <td>-14.564175</td>\n",
       "      <td>1.659375</td>\n",
       "      <td>30.254175</td>\n",
       "      <td>0.888443</td>\n",
       "      <td>0.626885</td>\n",
       "      <td>-2.134625</td>\n",
       "      <td>Apple scab</td>\n",
       "    </tr>\n",
       "  </tbody>\n",
       "</table>\n",
       "</div>"
      ],
      "text/plain": [
       "              0           1           2          3          4          5  \\\n",
       "0  -5787.157370   72.571699   -7.127968 -27.375484  75.614880  16.225773   \n",
       "1 -19302.932643  129.528414 -141.715039 -20.489951 -35.150164  10.452531   \n",
       "2  33293.834868 -126.987086 -265.442322 -29.781226  63.340697  76.381517   \n",
       "3 -13981.219930 -242.342541 -166.888956  -5.705029  -6.121976  15.947513   \n",
       "4   1370.287456 -260.702923  261.939640 -32.878170  35.741093  27.365031   \n",
       "\n",
       "           6          7          8          9         10         11        12  \\\n",
       "0 -31.679174  22.614207  16.571534  19.109703  -5.275971   6.155338 -1.650793   \n",
       "1  -5.506127  16.163422  17.865987 -20.571331  -0.045411   7.644198  0.682164   \n",
       "2  -0.888787  11.176728   9.796343  13.506304  -2.053131   7.338406 -3.891348   \n",
       "3 -25.823605 -10.393347  -3.273622  -2.320619  22.418217  10.853315  6.652089   \n",
       "4  36.535858   9.944323 -14.564175   1.659375  30.254175   0.888443  0.626885   \n",
       "\n",
       "         13       types  \n",
       "0  1.601814  Apple scab  \n",
       "1 -1.491715  Apple scab  \n",
       "2 -0.307271  Apple scab  \n",
       "3 -4.203422  Apple scab  \n",
       "4 -2.134625  Apple scab  "
      ]
     },
     "execution_count": 28,
     "metadata": {},
     "output_type": "execute_result"
    }
   ],
   "source": [
    "data2.head()"
   ]
  },
  {
   "cell_type": "code",
   "execution_count": 29,
   "metadata": {
    "colab": {
     "base_uri": "https://localhost:8080/"
    },
    "id": "0xnslH7AtRL4",
    "outputId": "9cdeb683-7db3-4052-b464-57113ba53ab0"
   },
   "outputs": [
    {
     "name": "stdout",
     "output_type": "stream",
     "text": [
      "[9.99271568e-01 5.17573791e-04 1.77766996e-04 1.99176950e-05\n",
      " 4.42351718e-06 2.74070480e-06 2.14501806e-06 1.89141556e-06\n",
      " 7.84201397e-07 5.92723728e-07 4.11969816e-07 9.76573597e-08\n",
      " 3.89326912e-08 3.31691659e-08]\n"
     ]
    }
   ],
   "source": [
    "print(pca.explained_variance_ratio_)"
   ]
  },
  {
   "cell_type": "code",
   "execution_count": 30,
   "metadata": {
    "colab": {
     "base_uri": "https://localhost:8080/"
    },
    "id": "mKujzSEOtSvE",
    "outputId": "a3392cbf-8cfb-48ad-ec50-5e55e4ad6229"
   },
   "outputs": [
    {
     "data": {
      "text/plain": [
       "(1346, 15)"
      ]
     },
     "execution_count": 30,
     "metadata": {},
     "output_type": "execute_result"
    }
   ],
   "source": [
    "data2.shape"
   ]
  },
  {
   "cell_type": "code",
   "execution_count": 31,
   "metadata": {
    "id": "HuahHHi5tU3c"
   },
   "outputs": [],
   "source": [
    "data2.to_csv(\"dataset/csv/pca.csv\", index=False)"
   ]
  },
  {
   "cell_type": "code",
   "execution_count": 32,
   "metadata": {},
   "outputs": [
    {
     "data": {
      "text/plain": [
       "['models/pca/Apple_pca_model.pkl']"
      ]
     },
     "execution_count": 32,
     "metadata": {},
     "output_type": "execute_result"
    }
   ],
   "source": [
    "import joblib\n",
    "# Save the PCA model to a file\n",
    "joblib.dump(pca, 'models/pca/Apple_pca_model.pkl')"
   ]
  },
  {
   "cell_type": "markdown",
   "metadata": {
    "id": "hbks6Stftjp8"
   },
   "source": [
    "# SVM"
   ]
  },
  {
   "cell_type": "code",
   "execution_count": 33,
   "metadata": {
    "id": "LIdipuJvtgAJ"
   },
   "outputs": [],
   "source": [
    "import pandas as pd"
   ]
  },
  {
   "cell_type": "code",
   "execution_count": 34,
   "metadata": {
    "id": "QVrIn9PTtohA"
   },
   "outputs": [],
   "source": [
    "data = pd.read_csv(\"dataset/csv/pca.csv\")"
   ]
  },
  {
   "cell_type": "code",
   "execution_count": 35,
   "metadata": {
    "colab": {
     "base_uri": "https://localhost:8080/",
     "height": 424
    },
    "id": "Qgi-7hj2tp2X",
    "outputId": "fbf8e5f4-dc79-483f-a499-7dfc2936d79d"
   },
   "outputs": [
    {
     "data": {
      "text/html": [
       "<div>\n",
       "<style scoped>\n",
       "    .dataframe tbody tr th:only-of-type {\n",
       "        vertical-align: middle;\n",
       "    }\n",
       "\n",
       "    .dataframe tbody tr th {\n",
       "        vertical-align: top;\n",
       "    }\n",
       "\n",
       "    .dataframe thead th {\n",
       "        text-align: right;\n",
       "    }\n",
       "</style>\n",
       "<table border=\"1\" class=\"dataframe\">\n",
       "  <thead>\n",
       "    <tr style=\"text-align: right;\">\n",
       "      <th></th>\n",
       "      <th>0</th>\n",
       "      <th>1</th>\n",
       "      <th>2</th>\n",
       "      <th>3</th>\n",
       "      <th>4</th>\n",
       "      <th>5</th>\n",
       "      <th>6</th>\n",
       "      <th>7</th>\n",
       "      <th>8</th>\n",
       "      <th>9</th>\n",
       "      <th>10</th>\n",
       "      <th>11</th>\n",
       "      <th>12</th>\n",
       "      <th>13</th>\n",
       "      <th>types</th>\n",
       "    </tr>\n",
       "  </thead>\n",
       "  <tbody>\n",
       "    <tr>\n",
       "      <th>0</th>\n",
       "      <td>-5787.157370</td>\n",
       "      <td>72.571699</td>\n",
       "      <td>-7.127968</td>\n",
       "      <td>-27.375484</td>\n",
       "      <td>75.614880</td>\n",
       "      <td>16.225773</td>\n",
       "      <td>-31.679174</td>\n",
       "      <td>22.614207</td>\n",
       "      <td>16.571534</td>\n",
       "      <td>19.109703</td>\n",
       "      <td>-5.275971</td>\n",
       "      <td>6.155338</td>\n",
       "      <td>-1.650793</td>\n",
       "      <td>1.601814</td>\n",
       "      <td>Apple scab</td>\n",
       "    </tr>\n",
       "    <tr>\n",
       "      <th>1</th>\n",
       "      <td>-19302.932643</td>\n",
       "      <td>129.528414</td>\n",
       "      <td>-141.715039</td>\n",
       "      <td>-20.489951</td>\n",
       "      <td>-35.150164</td>\n",
       "      <td>10.452531</td>\n",
       "      <td>-5.506127</td>\n",
       "      <td>16.163422</td>\n",
       "      <td>17.865987</td>\n",
       "      <td>-20.571331</td>\n",
       "      <td>-0.045411</td>\n",
       "      <td>7.644198</td>\n",
       "      <td>0.682164</td>\n",
       "      <td>-1.491715</td>\n",
       "      <td>Apple scab</td>\n",
       "    </tr>\n",
       "    <tr>\n",
       "      <th>2</th>\n",
       "      <td>33293.834868</td>\n",
       "      <td>-126.987086</td>\n",
       "      <td>-265.442322</td>\n",
       "      <td>-29.781226</td>\n",
       "      <td>63.340697</td>\n",
       "      <td>76.381517</td>\n",
       "      <td>-0.888787</td>\n",
       "      <td>11.176728</td>\n",
       "      <td>9.796343</td>\n",
       "      <td>13.506304</td>\n",
       "      <td>-2.053131</td>\n",
       "      <td>7.338406</td>\n",
       "      <td>-3.891348</td>\n",
       "      <td>-0.307271</td>\n",
       "      <td>Apple scab</td>\n",
       "    </tr>\n",
       "    <tr>\n",
       "      <th>3</th>\n",
       "      <td>-13981.219930</td>\n",
       "      <td>-242.342541</td>\n",
       "      <td>-166.888956</td>\n",
       "      <td>-5.705029</td>\n",
       "      <td>-6.121976</td>\n",
       "      <td>15.947513</td>\n",
       "      <td>-25.823605</td>\n",
       "      <td>-10.393347</td>\n",
       "      <td>-3.273622</td>\n",
       "      <td>-2.320619</td>\n",
       "      <td>22.418217</td>\n",
       "      <td>10.853315</td>\n",
       "      <td>6.652089</td>\n",
       "      <td>-4.203422</td>\n",
       "      <td>Apple scab</td>\n",
       "    </tr>\n",
       "    <tr>\n",
       "      <th>4</th>\n",
       "      <td>1370.287456</td>\n",
       "      <td>-260.702923</td>\n",
       "      <td>261.939640</td>\n",
       "      <td>-32.878170</td>\n",
       "      <td>35.741093</td>\n",
       "      <td>27.365031</td>\n",
       "      <td>36.535858</td>\n",
       "      <td>9.944323</td>\n",
       "      <td>-14.564175</td>\n",
       "      <td>1.659375</td>\n",
       "      <td>30.254175</td>\n",
       "      <td>0.888443</td>\n",
       "      <td>0.626885</td>\n",
       "      <td>-2.134625</td>\n",
       "      <td>Apple scab</td>\n",
       "    </tr>\n",
       "    <tr>\n",
       "      <th>...</th>\n",
       "      <td>...</td>\n",
       "      <td>...</td>\n",
       "      <td>...</td>\n",
       "      <td>...</td>\n",
       "      <td>...</td>\n",
       "      <td>...</td>\n",
       "      <td>...</td>\n",
       "      <td>...</td>\n",
       "      <td>...</td>\n",
       "      <td>...</td>\n",
       "      <td>...</td>\n",
       "      <td>...</td>\n",
       "      <td>...</td>\n",
       "      <td>...</td>\n",
       "      <td>...</td>\n",
       "    </tr>\n",
       "    <tr>\n",
       "      <th>1341</th>\n",
       "      <td>-16727.318075</td>\n",
       "      <td>-311.822332</td>\n",
       "      <td>-166.241828</td>\n",
       "      <td>-12.130700</td>\n",
       "      <td>-16.143855</td>\n",
       "      <td>23.822091</td>\n",
       "      <td>58.917508</td>\n",
       "      <td>-12.433468</td>\n",
       "      <td>-21.954963</td>\n",
       "      <td>9.099662</td>\n",
       "      <td>-13.858301</td>\n",
       "      <td>-9.200254</td>\n",
       "      <td>-3.578746</td>\n",
       "      <td>1.496020</td>\n",
       "      <td>Cedar apple rust</td>\n",
       "    </tr>\n",
       "    <tr>\n",
       "      <th>1342</th>\n",
       "      <td>-10452.826264</td>\n",
       "      <td>-303.127452</td>\n",
       "      <td>-20.915882</td>\n",
       "      <td>-3.488254</td>\n",
       "      <td>-28.806390</td>\n",
       "      <td>-3.225133</td>\n",
       "      <td>-14.532205</td>\n",
       "      <td>-8.856370</td>\n",
       "      <td>11.581580</td>\n",
       "      <td>-9.422995</td>\n",
       "      <td>-9.574323</td>\n",
       "      <td>-4.237688</td>\n",
       "      <td>0.566098</td>\n",
       "      <td>4.061227</td>\n",
       "      <td>Cedar apple rust</td>\n",
       "    </tr>\n",
       "    <tr>\n",
       "      <th>1343</th>\n",
       "      <td>-9142.727983</td>\n",
       "      <td>-221.918723</td>\n",
       "      <td>-118.106234</td>\n",
       "      <td>-3.405235</td>\n",
       "      <td>14.901230</td>\n",
       "      <td>-2.089453</td>\n",
       "      <td>18.735001</td>\n",
       "      <td>40.832113</td>\n",
       "      <td>11.956537</td>\n",
       "      <td>-15.385262</td>\n",
       "      <td>-3.819476</td>\n",
       "      <td>-9.801374</td>\n",
       "      <td>-2.094125</td>\n",
       "      <td>4.480160</td>\n",
       "      <td>Cedar apple rust</td>\n",
       "    </tr>\n",
       "    <tr>\n",
       "      <th>1344</th>\n",
       "      <td>11568.904510</td>\n",
       "      <td>-299.163836</td>\n",
       "      <td>144.690270</td>\n",
       "      <td>47.354207</td>\n",
       "      <td>40.374752</td>\n",
       "      <td>-38.026578</td>\n",
       "      <td>-12.007105</td>\n",
       "      <td>6.837152</td>\n",
       "      <td>5.798913</td>\n",
       "      <td>-2.783013</td>\n",
       "      <td>-9.484771</td>\n",
       "      <td>3.816873</td>\n",
       "      <td>-0.134014</td>\n",
       "      <td>2.541240</td>\n",
       "      <td>Cedar apple rust</td>\n",
       "    </tr>\n",
       "    <tr>\n",
       "      <th>1345</th>\n",
       "      <td>-8559.918614</td>\n",
       "      <td>-299.444969</td>\n",
       "      <td>27.897176</td>\n",
       "      <td>-8.463171</td>\n",
       "      <td>-29.144693</td>\n",
       "      <td>-39.416796</td>\n",
       "      <td>-22.797183</td>\n",
       "      <td>14.810999</td>\n",
       "      <td>-14.038712</td>\n",
       "      <td>20.985650</td>\n",
       "      <td>-0.142170</td>\n",
       "      <td>-3.920715</td>\n",
       "      <td>3.008640</td>\n",
       "      <td>-1.736604</td>\n",
       "      <td>Cedar apple rust</td>\n",
       "    </tr>\n",
       "  </tbody>\n",
       "</table>\n",
       "<p>1346 rows × 15 columns</p>\n",
       "</div>"
      ],
      "text/plain": [
       "                 0           1           2          3          4          5  \\\n",
       "0     -5787.157370   72.571699   -7.127968 -27.375484  75.614880  16.225773   \n",
       "1    -19302.932643  129.528414 -141.715039 -20.489951 -35.150164  10.452531   \n",
       "2     33293.834868 -126.987086 -265.442322 -29.781226  63.340697  76.381517   \n",
       "3    -13981.219930 -242.342541 -166.888956  -5.705029  -6.121976  15.947513   \n",
       "4      1370.287456 -260.702923  261.939640 -32.878170  35.741093  27.365031   \n",
       "...            ...         ...         ...        ...        ...        ...   \n",
       "1341 -16727.318075 -311.822332 -166.241828 -12.130700 -16.143855  23.822091   \n",
       "1342 -10452.826264 -303.127452  -20.915882  -3.488254 -28.806390  -3.225133   \n",
       "1343  -9142.727983 -221.918723 -118.106234  -3.405235  14.901230  -2.089453   \n",
       "1344  11568.904510 -299.163836  144.690270  47.354207  40.374752 -38.026578   \n",
       "1345  -8559.918614 -299.444969   27.897176  -8.463171 -29.144693 -39.416796   \n",
       "\n",
       "              6          7          8          9         10         11  \\\n",
       "0    -31.679174  22.614207  16.571534  19.109703  -5.275971   6.155338   \n",
       "1     -5.506127  16.163422  17.865987 -20.571331  -0.045411   7.644198   \n",
       "2     -0.888787  11.176728   9.796343  13.506304  -2.053131   7.338406   \n",
       "3    -25.823605 -10.393347  -3.273622  -2.320619  22.418217  10.853315   \n",
       "4     36.535858   9.944323 -14.564175   1.659375  30.254175   0.888443   \n",
       "...         ...        ...        ...        ...        ...        ...   \n",
       "1341  58.917508 -12.433468 -21.954963   9.099662 -13.858301  -9.200254   \n",
       "1342 -14.532205  -8.856370  11.581580  -9.422995  -9.574323  -4.237688   \n",
       "1343  18.735001  40.832113  11.956537 -15.385262  -3.819476  -9.801374   \n",
       "1344 -12.007105   6.837152   5.798913  -2.783013  -9.484771   3.816873   \n",
       "1345 -22.797183  14.810999 -14.038712  20.985650  -0.142170  -3.920715   \n",
       "\n",
       "            12        13             types  \n",
       "0    -1.650793  1.601814        Apple scab  \n",
       "1     0.682164 -1.491715        Apple scab  \n",
       "2    -3.891348 -0.307271        Apple scab  \n",
       "3     6.652089 -4.203422        Apple scab  \n",
       "4     0.626885 -2.134625        Apple scab  \n",
       "...        ...       ...               ...  \n",
       "1341 -3.578746  1.496020  Cedar apple rust  \n",
       "1342  0.566098  4.061227  Cedar apple rust  \n",
       "1343 -2.094125  4.480160  Cedar apple rust  \n",
       "1344 -0.134014  2.541240  Cedar apple rust  \n",
       "1345  3.008640 -1.736604  Cedar apple rust  \n",
       "\n",
       "[1346 rows x 15 columns]"
      ]
     },
     "execution_count": 35,
     "metadata": {},
     "output_type": "execute_result"
    }
   ],
   "source": [
    "data"
   ]
  },
  {
   "cell_type": "markdown",
   "metadata": {
    "id": "8A_yZiJUyGUS"
   },
   "source": [
    "### Sampling"
   ]
  },
  {
   "cell_type": "code",
   "execution_count": 36,
   "metadata": {
    "colab": {
     "base_uri": "https://localhost:8080/"
    },
    "id": "sdT4CZjSsX3R",
    "outputId": "fb454d4d-bbf6-42cb-de9f-2820847a0033"
   },
   "outputs": [
    {
     "name": "stdout",
     "output_type": "stream",
     "text": [
      "X shape: (1346, 14)\n",
      "y shape: (1346,)\n"
     ]
    }
   ],
   "source": [
    "# Extract the features (X) and labels (y)\n",
    "X = data.iloc[:, :-1]  # Select all columns except the last one as features\n",
    "y = data['types']  # Select the 'types' column as the target variable\n",
    "\n",
    "# Check the shape of X and y to ensure they are correct\n",
    "print(\"X shape:\", X.shape)\n",
    "print(\"y shape:\", y.shape)"
   ]
  },
  {
   "cell_type": "code",
   "execution_count": 37,
   "metadata": {
    "colab": {
     "base_uri": "https://localhost:8080/",
     "height": 1000
    },
    "id": "WXrMdMzFtINe",
    "outputId": "07ecae1f-6240-4585-a0ea-af651dabe814"
   },
   "outputs": [
    {
     "name": "stdout",
     "output_type": "stream",
     "text": [
      "Class distribution before SMOTE:\n",
      "types\n",
      "Apple scab          630\n",
      "Black rot           441\n",
      "Cedar apple rust    275\n",
      "Name: count, dtype: int64\n"
     ]
    },
    {
     "data": {
      "image/png": "[encoded data removed]",
      "text/plain": [
       "<Figure size 1000x500 with 1 Axes>"
      ]
     },
     "metadata": {},
     "output_type": "display_data"
    },
    {
     "name": "stdout",
     "output_type": "stream",
     "text": [
      "Class distribution after SMOTE:\n",
      "Counter({'Apple scab': 630, 'Black rot': 630, 'Cedar apple rust': 630})\n"
     ]
    },
    {
     "data": {
      "image/png": "[encoded data removed]",
      "text/plain": [
       "<Figure size 1000x500 with 1 Axes>"
      ]
     },
     "metadata": {},
     "output_type": "display_data"
    }
   ],
   "source": [
    "import pandas as pd\n",
    "import matplotlib.pyplot as plt\n",
    "from imblearn.over_sampling import SMOTE\n",
    "from collections import Counter\n",
    "\n",
    "# Extract the features (X) and labels (y)\n",
    "X = data.iloc[:, :-1]  # Select all columns except the last one as features\n",
    "y = data['types']  # Select the 'types' column as the target variable\n",
    "\n",
    "# Check the class distribution before applying SMOTE\n",
    "label_counts_before = y.value_counts()\n",
    "print(\"Class distribution before SMOTE:\")\n",
    "print(label_counts_before)\n",
    "\n",
    "# Create a bar chart to visualize the class distribution before SMOTE\n",
    "plt.figure(figsize=(10, 5))\n",
    "plt.bar(label_counts_before.index, label_counts_before.values)\n",
    "plt.xlabel('Label')\n",
    "plt.ylabel('Count')\n",
    "plt.title('Class Distribution Before SMOTE')\n",
    "plt.show()\n",
    "\n",
    "# Create an instance of the SMOTE class\n",
    "smote = SMOTE(sampling_strategy='auto', random_state=42)\n",
    "\n",
    "# Apply SMOTE to balance the dataset\n",
    "X_resampled, y_resampled = smote.fit_resample(X, y)\n",
    "\n",
    "# Check the class distribution after applying SMOTE\n",
    "label_counts_after = Counter(y_resampled)\n",
    "print(\"Class distribution after SMOTE:\")\n",
    "print(label_counts_after)\n",
    "\n",
    "# Create a bar chart to visualize the class distribution after SMOTE\n",
    "plt.figure(figsize=(10, 5))\n",
    "plt.bar(label_counts_after.keys(), label_counts_after.values())\n",
    "plt.xlabel('Label')\n",
    "plt.ylabel('Count')\n",
    "plt.title('Class Distribution After SMOTE')\n",
    "plt.show()"
   ]
  },
  {
   "cell_type": "code",
   "execution_count": 38,
   "metadata": {
    "id": "7V_j2s9avPWb"
   },
   "outputs": [],
   "source": [
    "# Overwrite DataFrame with the resampled data\n",
    "data = pd.DataFrame(X_resampled, columns=X.columns)\n",
    "data['types'] = y_resampled"
   ]
  },
  {
   "cell_type": "markdown",
   "metadata": {
    "id": "KxYzfU99yKjc"
   },
   "source": [
    "### Splitting"
   ]
  },
  {
   "cell_type": "code",
   "execution_count": 39,
   "metadata": {},
   "outputs": [
    {
     "data": {
      "text/html": [
       "<div>\n",
       "<style scoped>\n",
       "    .dataframe tbody tr th:only-of-type {\n",
       "        vertical-align: middle;\n",
       "    }\n",
       "\n",
       "    .dataframe tbody tr th {\n",
       "        vertical-align: top;\n",
       "    }\n",
       "\n",
       "    .dataframe thead th {\n",
       "        text-align: right;\n",
       "    }\n",
       "</style>\n",
       "<table border=\"1\" class=\"dataframe\">\n",
       "  <thead>\n",
       "    <tr style=\"text-align: right;\">\n",
       "      <th></th>\n",
       "      <th>0</th>\n",
       "      <th>1</th>\n",
       "      <th>2</th>\n",
       "      <th>3</th>\n",
       "      <th>4</th>\n",
       "      <th>5</th>\n",
       "      <th>6</th>\n",
       "      <th>7</th>\n",
       "      <th>8</th>\n",
       "      <th>9</th>\n",
       "      <th>10</th>\n",
       "      <th>11</th>\n",
       "      <th>12</th>\n",
       "      <th>13</th>\n",
       "      <th>types</th>\n",
       "    </tr>\n",
       "  </thead>\n",
       "  <tbody>\n",
       "    <tr>\n",
       "      <th>0</th>\n",
       "      <td>-5787.157370</td>\n",
       "      <td>72.571699</td>\n",
       "      <td>-7.127968</td>\n",
       "      <td>-27.375484</td>\n",
       "      <td>75.614880</td>\n",
       "      <td>16.225773</td>\n",
       "      <td>-31.679174</td>\n",
       "      <td>22.614207</td>\n",
       "      <td>16.571534</td>\n",
       "      <td>19.109703</td>\n",
       "      <td>-5.275971</td>\n",
       "      <td>6.155338</td>\n",
       "      <td>-1.650793</td>\n",
       "      <td>1.601814</td>\n",
       "      <td>Apple scab</td>\n",
       "    </tr>\n",
       "    <tr>\n",
       "      <th>1</th>\n",
       "      <td>-19302.932643</td>\n",
       "      <td>129.528414</td>\n",
       "      <td>-141.715039</td>\n",
       "      <td>-20.489951</td>\n",
       "      <td>-35.150164</td>\n",
       "      <td>10.452531</td>\n",
       "      <td>-5.506127</td>\n",
       "      <td>16.163422</td>\n",
       "      <td>17.865987</td>\n",
       "      <td>-20.571331</td>\n",
       "      <td>-0.045411</td>\n",
       "      <td>7.644198</td>\n",
       "      <td>0.682164</td>\n",
       "      <td>-1.491715</td>\n",
       "      <td>Apple scab</td>\n",
       "    </tr>\n",
       "    <tr>\n",
       "      <th>2</th>\n",
       "      <td>33293.834868</td>\n",
       "      <td>-126.987086</td>\n",
       "      <td>-265.442322</td>\n",
       "      <td>-29.781226</td>\n",
       "      <td>63.340697</td>\n",
       "      <td>76.381517</td>\n",
       "      <td>-0.888787</td>\n",
       "      <td>11.176728</td>\n",
       "      <td>9.796343</td>\n",
       "      <td>13.506304</td>\n",
       "      <td>-2.053131</td>\n",
       "      <td>7.338406</td>\n",
       "      <td>-3.891348</td>\n",
       "      <td>-0.307271</td>\n",
       "      <td>Apple scab</td>\n",
       "    </tr>\n",
       "    <tr>\n",
       "      <th>3</th>\n",
       "      <td>-13981.219930</td>\n",
       "      <td>-242.342541</td>\n",
       "      <td>-166.888956</td>\n",
       "      <td>-5.705029</td>\n",
       "      <td>-6.121976</td>\n",
       "      <td>15.947513</td>\n",
       "      <td>-25.823605</td>\n",
       "      <td>-10.393347</td>\n",
       "      <td>-3.273622</td>\n",
       "      <td>-2.320619</td>\n",
       "      <td>22.418217</td>\n",
       "      <td>10.853315</td>\n",
       "      <td>6.652089</td>\n",
       "      <td>-4.203422</td>\n",
       "      <td>Apple scab</td>\n",
       "    </tr>\n",
       "    <tr>\n",
       "      <th>4</th>\n",
       "      <td>1370.287456</td>\n",
       "      <td>-260.702923</td>\n",
       "      <td>261.939640</td>\n",
       "      <td>-32.878170</td>\n",
       "      <td>35.741093</td>\n",
       "      <td>27.365031</td>\n",
       "      <td>36.535858</td>\n",
       "      <td>9.944323</td>\n",
       "      <td>-14.564175</td>\n",
       "      <td>1.659375</td>\n",
       "      <td>30.254175</td>\n",
       "      <td>0.888443</td>\n",
       "      <td>0.626885</td>\n",
       "      <td>-2.134625</td>\n",
       "      <td>Apple scab</td>\n",
       "    </tr>\n",
       "  </tbody>\n",
       "</table>\n",
       "</div>"
      ],
      "text/plain": [
       "              0           1           2          3          4          5  \\\n",
       "0  -5787.157370   72.571699   -7.127968 -27.375484  75.614880  16.225773   \n",
       "1 -19302.932643  129.528414 -141.715039 -20.489951 -35.150164  10.452531   \n",
       "2  33293.834868 -126.987086 -265.442322 -29.781226  63.340697  76.381517   \n",
       "3 -13981.219930 -242.342541 -166.888956  -5.705029  -6.121976  15.947513   \n",
       "4   1370.287456 -260.702923  261.939640 -32.878170  35.741093  27.365031   \n",
       "\n",
       "           6          7          8          9         10         11        12  \\\n",
       "0 -31.679174  22.614207  16.571534  19.109703  -5.275971   6.155338 -1.650793   \n",
       "1  -5.506127  16.163422  17.865987 -20.571331  -0.045411   7.644198  0.682164   \n",
       "2  -0.888787  11.176728   9.796343  13.506304  -2.053131   7.338406 -3.891348   \n",
       "3 -25.823605 -10.393347  -3.273622  -2.320619  22.418217  10.853315  6.652089   \n",
       "4  36.535858   9.944323 -14.564175   1.659375  30.254175   0.888443  0.626885   \n",
       "\n",
       "         13       types  \n",
       "0  1.601814  Apple scab  \n",
       "1 -1.491715  Apple scab  \n",
       "2 -0.307271  Apple scab  \n",
       "3 -4.203422  Apple scab  \n",
       "4 -2.134625  Apple scab  "
      ]
     },
     "execution_count": 39,
     "metadata": {},
     "output_type": "execute_result"
    }
   ],
   "source": [
    "data.head()"
   ]
  },
  {
   "cell_type": "code",
   "execution_count": 40,
   "metadata": {
    "id": "qZJPoKoOtrDo"
   },
   "outputs": [],
   "source": [
    "x=data.iloc[:,0:14].values"
   ]
  },
  {
   "cell_type": "code",
   "execution_count": 41,
   "metadata": {
    "colab": {
     "base_uri": "https://localhost:8080/"
    },
    "id": "7fp9dT6Htuhi",
    "outputId": "a8f702d3-e18d-42d4-ac04-33f44a371c11"
   },
   "outputs": [
    {
     "data": {
      "text/plain": [
       "array([[-5.78715737e+03,  7.25716991e+01, -7.12796849e+00, ...,\n",
       "         6.15533820e+00, -1.65079348e+00,  1.60181384e+00],\n",
       "       [-1.93029326e+04,  1.29528414e+02, -1.41715039e+02, ...,\n",
       "         7.64419787e+00,  6.82164226e-01, -1.49171497e+00],\n",
       "       [ 3.32938349e+04, -1.26987086e+02, -2.65442322e+02, ...,\n",
       "         7.33840624e+00, -3.89134759e+00, -3.07270968e-01],\n",
       "       ...,\n",
       "       [-1.39597581e+04, -3.05064115e+02, -1.01061552e+02, ...,\n",
       "        -1.39526831e+00,  4.16275761e-01,  3.33099822e+00],\n",
       "       [ 2.33899505e+03, -2.34961852e+02,  4.16737146e+02, ...,\n",
       "        -8.41966818e-01,  1.07851114e+00,  2.97009159e+00],\n",
       "       [ 1.22949072e+03, -1.84200975e+02,  1.36904283e+02, ...,\n",
       "        -4.67696786e+00,  1.23523266e+00,  2.28972811e+00]])"
      ]
     },
     "execution_count": 41,
     "metadata": {},
     "output_type": "execute_result"
    }
   ],
   "source": [
    "x"
   ]
  },
  {
   "cell_type": "code",
   "execution_count": 42,
   "metadata": {
    "colab": {
     "base_uri": "https://localhost:8080/"
    },
    "id": "65iWAYdgtvr5",
    "outputId": "886720b7-9ade-47f5-8d8a-4dad9e9bffdd"
   },
   "outputs": [
    {
     "data": {
      "text/plain": [
       "(1890, 14)"
      ]
     },
     "execution_count": 42,
     "metadata": {},
     "output_type": "execute_result"
    }
   ],
   "source": [
    "x.shape"
   ]
  },
  {
   "cell_type": "code",
   "execution_count": 43,
   "metadata": {
    "id": "QEZwVpOdtxAu"
   },
   "outputs": [],
   "source": [
    "y=data.iloc[:,14].values"
   ]
  },
  {
   "cell_type": "code",
   "execution_count": 44,
   "metadata": {
    "colab": {
     "base_uri": "https://localhost:8080/"
    },
    "id": "SVS4I-mPtyO7",
    "outputId": "860c2dae-29e2-42d0-fc42-ae7586de0441"
   },
   "outputs": [
    {
     "data": {
      "text/plain": [
       "array(['Apple scab', 'Apple scab', 'Apple scab', ..., 'Cedar apple rust',\n",
       "       'Cedar apple rust', 'Cedar apple rust'], dtype=object)"
      ]
     },
     "execution_count": 44,
     "metadata": {},
     "output_type": "execute_result"
    }
   ],
   "source": [
    "y"
   ]
  },
  {
   "cell_type": "code",
   "execution_count": 45,
   "metadata": {
    "id": "eDlnB-lltzmX"
   },
   "outputs": [],
   "source": [
    "from sklearn.preprocessing import StandardScaler\n",
    "data2=StandardScaler()\n",
    "x=data2.fit_transform(x)"
   ]
  },
  {
   "cell_type": "code",
   "execution_count": 46,
   "metadata": {},
   "outputs": [
    {
     "data": {
      "text/plain": [
       "['models/scalers/Apple_scaler_model.pkl']"
      ]
     },
     "execution_count": 46,
     "metadata": {},
     "output_type": "execute_result"
    }
   ],
   "source": [
    "import joblib\n",
    "\n",
    "# Save the trained model to a file\n",
    "joblib.dump(data2, 'models/scalers/Apple_scaler_model.pkl')"
   ]
  },
  {
   "cell_type": "code",
   "execution_count": 47,
   "metadata": {
    "colab": {
     "base_uri": "https://localhost:8080/"
    },
    "id": "MMgVI393t0um",
    "outputId": "20b2fd15-4e9e-4c22-b98e-d540afbd4402"
   },
   "outputs": [
    {
     "data": {
      "text/plain": [
       "array([[-0.41753539,  0.29178939, -0.07258821, ...,  1.44460309,\n",
       "        -0.65283447,  0.59050438],\n",
       "       [-1.33916424,  0.45820606, -0.7728146 , ...,  1.77986219,\n",
       "         0.19624897, -0.59950569],\n",
       "       [ 2.24736319, -0.29128336, -1.41653995, ...,  1.7110045 ,\n",
       "        -1.46828748, -0.14387706],\n",
       "       ...,\n",
       "       [-0.97481786, -0.81159052, -0.56130361, ..., -0.25563071,\n",
       "         0.09947847,  1.25568222],\n",
       "       [ 0.13657982, -0.60676506,  2.13268708, ..., -0.13103914,\n",
       "         0.34050002,  1.11684967],\n",
       "       [ 0.06092369, -0.45845145,  0.67677935, ..., -0.9945987 ,\n",
       "         0.39753906,  0.85512933]])"
      ]
     },
     "execution_count": 47,
     "metadata": {},
     "output_type": "execute_result"
    }
   ],
   "source": [
    "x"
   ]
  },
  {
   "cell_type": "code",
   "execution_count": 48,
   "metadata": {
    "id": "nQTQRp4Ut2ze"
   },
   "outputs": [],
   "source": [
    "from sklearn.model_selection import train_test_split\n",
    "x_train,x_test,y_train,y_test=train_test_split(x,y,test_size=0.2,random_state=0)"
   ]
  },
  {
   "cell_type": "markdown",
   "metadata": {
    "id": "6k5ppePD_hjr"
   },
   "source": [
    "### Default Parameters Training"
   ]
  },
  {
   "cell_type": "code",
   "execution_count": 49,
   "metadata": {
    "id": "Tmbb2gg3t4c6"
   },
   "outputs": [],
   "source": [
    "from sklearn.svm import SVC\n",
    "\n",
    "# Assuming x_train is your feature matrix and y_train is your target variable as a NumPy array\n",
    "svm = SVC()\n",
    "\n",
    "# Train the SVM model\n",
    "strain = svm.fit(x_train, y_train)"
   ]
  },
  {
   "cell_type": "code",
   "execution_count": 50,
   "metadata": {
    "colab": {
     "base_uri": "https://localhost:8080/",
     "height": 75
    },
    "id": "gJwa7r85t8aW",
    "outputId": "1fbed260-5103-4719-ac59-0205499ecb22"
   },
   "outputs": [
    {
     "data": {
      "text/html": [
       "<style>#sk-container-id-2 {color: black;}#sk-container-id-2 pre{padding: 0;}#sk-container-id-2 div.sk-toggleable {background-color: white;}#sk-container-id-2 label.sk-toggleable__label {cursor: pointer;display: block;width: 100%;margin-bottom: 0;padding: 0.3em;box-sizing: border-box;text-align: center;}#sk-container-id-2 label.sk-toggleable__label-arrow:before {content: \"▸\";float: left;margin-right: 0.25em;color: #696969;}#sk-container-id-2 label.sk-toggleable__label-arrow:hover:before {color: black;}#sk-container-id-2 div.sk-estimator:hover label.sk-toggleable__label-arrow:before {color: black;}#sk-container-id-2 div.sk-toggleable__content {max-height: 0;max-width: 0;overflow: hidden;text-align: left;background-color: #f0f8ff;}#sk-container-id-2 div.sk-toggleable__content pre {margin: 0.2em;color: black;border-radius: 0.25em;background-color: #f0f8ff;}#sk-container-id-2 input.sk-toggleable__control:checked~div.sk-toggleable__content {max-height: 200px;max-width: 100%;overflow: auto;}#sk-container-id-2 input.sk-toggleable__control:checked~label.sk-toggleable__label-arrow:before {content: \"▾\";}#sk-container-id-2 div.sk-estimator input.sk-toggleable__control:checked~label.sk-toggleable__label {background-color: #d4ebff;}#sk-container-id-2 div.sk-label input.sk-toggleable__control:checked~label.sk-toggleable__label {background-color: #d4ebff;}#sk-container-id-2 input.sk-hidden--visually {border: 0;clip: rect(1px 1px 1px 1px);clip: rect(1px, 1px, 1px, 1px);height: 1px;margin: -1px;overflow: hidden;padding: 0;position: absolute;width: 1px;}#sk-container-id-2 div.sk-estimator {font-family: monospace;background-color: #f0f8ff;border: 1px dotted black;border-radius: 0.25em;box-sizing: border-box;margin-bottom: 0.5em;}#sk-container-id-2 div.sk-estimator:hover {background-color: #d4ebff;}#sk-container-id-2 div.sk-parallel-item::after {content: \"\";width: 100%;border-bottom: 1px solid gray;flex-grow: 1;}#sk-container-id-2 div.sk-label:hover label.sk-toggleable__label {background-color: #d4ebff;}#sk-container-id-2 div.sk-serial::before {content: \"\";position: absolute;border-left: 1px solid gray;box-sizing: border-box;top: 0;bottom: 0;left: 50%;z-index: 0;}#sk-container-id-2 div.sk-serial {display: flex;flex-direction: column;align-items: center;background-color: white;padding-right: 0.2em;padding-left: 0.2em;position: relative;}#sk-container-id-2 div.sk-item {position: relative;z-index: 1;}#sk-container-id-2 div.sk-parallel {display: flex;align-items: stretch;justify-content: center;background-color: white;position: relative;}#sk-container-id-2 div.sk-item::before, #sk-container-id-2 div.sk-parallel-item::before {content: \"\";position: absolute;border-left: 1px solid gray;box-sizing: border-box;top: 0;bottom: 0;left: 50%;z-index: -1;}#sk-container-id-2 div.sk-parallel-item {display: flex;flex-direction: column;z-index: 1;position: relative;background-color: white;}#sk-container-id-2 div.sk-parallel-item:first-child::after {align-self: flex-end;width: 50%;}#sk-container-id-2 div.sk-parallel-item:last-child::after {align-self: flex-start;width: 50%;}#sk-container-id-2 div.sk-parallel-item:only-child::after {width: 0;}#sk-container-id-2 div.sk-dashed-wrapped {border: 1px dashed gray;margin: 0 0.4em 0.5em 0.4em;box-sizing: border-box;padding-bottom: 0.4em;background-color: white;}#sk-container-id-2 div.sk-label label {font-family: monospace;font-weight: bold;display: inline-block;line-height: 1.2em;}#sk-container-id-2 div.sk-label-container {text-align: center;}#sk-container-id-2 div.sk-container {/* jupyter's `normalize.less` sets `[hidden] { display: none; }` but bootstrap.min.css set `[hidden] { display: none !important; }` so we also need the `!important` here to be able to override the default hidden behavior on the sphinx rendered scikit-learn.org. See: https://github.com/scikit-learn/scikit-learn/issues/21755 */display: inline-block !important;position: relative;}#sk-container-id-2 div.sk-text-repr-fallback {display: none;}</style><div id=\"sk-container-id-2\" class=\"sk-top-container\"><div class=\"sk-text-repr-fallback\"><pre>SVC()</pre><b>In a Jupyter environment, please rerun this cell to show the HTML representation or trust the notebook. <br />On GitHub, the HTML representation is unable to render, please try loading this page with nbviewer.org.</b></div><div class=\"sk-container\" hidden><div class=\"sk-item\"><div class=\"sk-estimator sk-toggleable\"><input class=\"sk-toggleable__control sk-hidden--visually\" id=\"sk-estimator-id-2\" type=\"checkbox\" checked><label for=\"sk-estimator-id-2\" class=\"sk-toggleable__label sk-toggleable__label-arrow\">SVC</label><div class=\"sk-toggleable__content\"><pre>SVC()</pre></div></div></div></div></div>"
      ],
      "text/plain": [
       "SVC()"
      ]
     },
     "execution_count": 50,
     "metadata": {},
     "output_type": "execute_result"
    }
   ],
   "source": [
    "strain"
   ]
  },
  {
   "cell_type": "code",
   "execution_count": 51,
   "metadata": {},
   "outputs": [
    {
     "data": {
      "text/plain": [
       "['models/classifiers/Apple_classifier_model.pkl']"
      ]
     },
     "execution_count": 51,
     "metadata": {},
     "output_type": "execute_result"
    }
   ],
   "source": [
    "import joblib\n",
    "\n",
    "# Save the trained model to a file\n",
    "joblib.dump(strain, 'models/classifiers/Apple_classifier_model.pkl')"
   ]
  },
  {
   "cell_type": "markdown",
   "metadata": {
    "id": "8zlMICAkyPss"
   },
   "source": [
    "### Testing"
   ]
  },
  {
   "cell_type": "code",
   "execution_count": 52,
   "metadata": {
    "colab": {
     "base_uri": "https://localhost:8080/"
    },
    "id": "EQD5xxINt92B",
    "outputId": "e0e25db0-9a02-4fbb-9085-d556f0dff6ac"
   },
   "outputs": [
    {
     "data": {
      "text/plain": [
       "array([[-0.06587117, -0.28259151,  0.58125797, ...,  2.45793611,\n",
       "        -2.41047924, -0.2661362 ],\n",
       "       [-0.8216006 , -0.80605925, -0.48580242, ...,  0.36846295,\n",
       "        -1.0301644 ,  0.04101426],\n",
       "       [ 2.2139669 , -0.23757336, -1.16942882, ...,  1.02580191,\n",
       "        -0.60819281, -0.97032025],\n",
       "       ...,\n",
       "       [-0.67795636, -0.68425767, -0.70209896, ..., -1.43725249,\n",
       "        -0.87283846, -0.64424017],\n",
       "       [-0.40007238,  1.30490715, -0.0344925 , ...,  0.67901816,\n",
       "        -0.23547333,  0.81594203],\n",
       "       [-0.64411087, -0.56938795, -0.47358688, ..., -0.36333709,\n",
       "         0.58058809, -0.07578792]])"
      ]
     },
     "execution_count": 52,
     "metadata": {},
     "output_type": "execute_result"
    }
   ],
   "source": [
    "x_test"
   ]
  },
  {
   "cell_type": "code",
   "execution_count": 53,
   "metadata": {
    "id": "AO88OgAdt_Ox"
   },
   "outputs": [],
   "source": [
    "y_pred=strain.predict(x_test)"
   ]
  },
  {
   "cell_type": "code",
   "execution_count": 54,
   "metadata": {
    "colab": {
     "base_uri": "https://localhost:8080/"
    },
    "id": "XklSeMzduAqr",
    "outputId": "a2ef23a4-aa53-4ef4-9223-2bd46366b7e1"
   },
   "outputs": [
    {
     "data": {
      "text/plain": [
       "array(['Black rot', 'Cedar apple rust', 'Black rot', 'Apple scab',\n",
       "       'Cedar apple rust', 'Cedar apple rust', 'Black rot', 'Apple scab',\n",
       "       'Black rot', 'Black rot', 'Apple scab', 'Apple scab', 'Black rot',\n",
       "       'Cedar apple rust', 'Apple scab', 'Cedar apple rust', 'Black rot',\n",
       "       'Apple scab', 'Apple scab', 'Apple scab', 'Cedar apple rust',\n",
       "       'Apple scab', 'Cedar apple rust', 'Cedar apple rust', 'Black rot',\n",
       "       'Cedar apple rust', 'Apple scab', 'Cedar apple rust',\n",
       "       'Cedar apple rust', 'Cedar apple rust', 'Cedar apple rust',\n",
       "       'Black rot', 'Apple scab', 'Cedar apple rust', 'Cedar apple rust',\n",
       "       'Cedar apple rust', 'Apple scab', 'Apple scab', 'Apple scab',\n",
       "       'Black rot', 'Black rot', 'Black rot', 'Cedar apple rust',\n",
       "       'Black rot', 'Apple scab', 'Apple scab', 'Cedar apple rust',\n",
       "       'Black rot', 'Cedar apple rust', 'Cedar apple rust',\n",
       "       'Cedar apple rust', 'Cedar apple rust', 'Black rot', 'Apple scab',\n",
       "       'Apple scab', 'Black rot', 'Cedar apple rust', 'Apple scab',\n",
       "       'Black rot', 'Apple scab', 'Apple scab', 'Cedar apple rust',\n",
       "       'Cedar apple rust', 'Cedar apple rust', 'Cedar apple rust',\n",
       "       'Black rot', 'Black rot', 'Black rot', 'Apple scab', 'Black rot',\n",
       "       'Apple scab', 'Black rot', 'Cedar apple rust', 'Cedar apple rust',\n",
       "       'Cedar apple rust', 'Black rot', 'Black rot', 'Cedar apple rust',\n",
       "       'Black rot', 'Apple scab', 'Apple scab', 'Black rot', 'Black rot',\n",
       "       'Cedar apple rust', 'Apple scab', 'Apple scab', 'Cedar apple rust',\n",
       "       'Black rot', 'Black rot', 'Cedar apple rust', 'Black rot',\n",
       "       'Apple scab', 'Apple scab', 'Cedar apple rust', 'Black rot',\n",
       "       'Cedar apple rust', 'Cedar apple rust', 'Apple scab', 'Black rot',\n",
       "       'Cedar apple rust', 'Black rot', 'Apple scab', 'Cedar apple rust',\n",
       "       'Black rot', 'Apple scab', 'Cedar apple rust', 'Black rot',\n",
       "       'Cedar apple rust', 'Cedar apple rust', 'Black rot', 'Apple scab',\n",
       "       'Cedar apple rust', 'Black rot', 'Black rot', 'Black rot',\n",
       "       'Cedar apple rust', 'Black rot', 'Apple scab', 'Cedar apple rust',\n",
       "       'Apple scab', 'Black rot', 'Black rot', 'Black rot',\n",
       "       'Cedar apple rust', 'Cedar apple rust', 'Cedar apple rust',\n",
       "       'Apple scab', 'Cedar apple rust', 'Black rot', 'Black rot',\n",
       "       'Black rot', 'Black rot', 'Cedar apple rust', 'Apple scab',\n",
       "       'Cedar apple rust', 'Apple scab', 'Apple scab', 'Apple scab',\n",
       "       'Apple scab', 'Black rot', 'Black rot', 'Apple scab',\n",
       "       'Cedar apple rust', 'Apple scab', 'Apple scab', 'Cedar apple rust',\n",
       "       'Black rot', 'Black rot', 'Black rot', 'Cedar apple rust',\n",
       "       'Black rot', 'Cedar apple rust', 'Cedar apple rust', 'Black rot',\n",
       "       'Black rot', 'Black rot', 'Apple scab', 'Apple scab',\n",
       "       'Cedar apple rust', 'Cedar apple rust', 'Black rot', 'Apple scab',\n",
       "       'Black rot', 'Cedar apple rust', 'Cedar apple rust',\n",
       "       'Cedar apple rust', 'Cedar apple rust', 'Cedar apple rust',\n",
       "       'Apple scab', 'Black rot', 'Cedar apple rust', 'Cedar apple rust',\n",
       "       'Cedar apple rust', 'Cedar apple rust', 'Cedar apple rust',\n",
       "       'Apple scab', 'Apple scab', 'Black rot', 'Black rot', 'Apple scab',\n",
       "       'Black rot', 'Cedar apple rust', 'Black rot', 'Apple scab',\n",
       "       'Cedar apple rust', 'Cedar apple rust', 'Apple scab',\n",
       "       'Cedar apple rust', 'Black rot', 'Cedar apple rust', 'Apple scab',\n",
       "       'Apple scab', 'Black rot', 'Black rot', 'Apple scab',\n",
       "       'Cedar apple rust', 'Black rot', 'Apple scab', 'Cedar apple rust',\n",
       "       'Apple scab', 'Black rot', 'Apple scab', 'Cedar apple rust',\n",
       "       'Cedar apple rust', 'Apple scab', 'Apple scab', 'Apple scab',\n",
       "       'Cedar apple rust', 'Apple scab', 'Cedar apple rust', 'Black rot',\n",
       "       'Apple scab', 'Apple scab', 'Black rot', 'Cedar apple rust',\n",
       "       'Black rot', 'Black rot', 'Cedar apple rust', 'Apple scab',\n",
       "       'Cedar apple rust', 'Cedar apple rust', 'Cedar apple rust',\n",
       "       'Black rot', 'Black rot', 'Apple scab', 'Black rot', 'Black rot',\n",
       "       'Apple scab', 'Cedar apple rust', 'Apple scab', 'Apple scab',\n",
       "       'Black rot', 'Apple scab', 'Apple scab', 'Black rot',\n",
       "       'Cedar apple rust', 'Apple scab', 'Black rot', 'Apple scab',\n",
       "       'Apple scab', 'Cedar apple rust', 'Cedar apple rust', 'Apple scab',\n",
       "       'Cedar apple rust', 'Cedar apple rust', 'Black rot', 'Black rot',\n",
       "       'Apple scab', 'Cedar apple rust', 'Apple scab', 'Cedar apple rust',\n",
       "       'Cedar apple rust', 'Apple scab', 'Black rot', 'Black rot',\n",
       "       'Cedar apple rust', 'Black rot', 'Apple scab', 'Black rot',\n",
       "       'Cedar apple rust', 'Cedar apple rust', 'Apple scab', 'Apple scab',\n",
       "       'Apple scab', 'Cedar apple rust', 'Black rot', 'Cedar apple rust',\n",
       "       'Cedar apple rust', 'Apple scab', 'Cedar apple rust', 'Black rot',\n",
       "       'Black rot', 'Black rot', 'Black rot', 'Apple scab', 'Apple scab',\n",
       "       'Cedar apple rust', 'Cedar apple rust', 'Cedar apple rust',\n",
       "       'Apple scab', 'Apple scab', 'Cedar apple rust', 'Black rot',\n",
       "       'Apple scab', 'Black rot', 'Apple scab', 'Cedar apple rust',\n",
       "       'Cedar apple rust', 'Black rot', 'Black rot', 'Cedar apple rust',\n",
       "       'Apple scab', 'Black rot', 'Apple scab', 'Black rot',\n",
       "       'Cedar apple rust', 'Cedar apple rust', 'Cedar apple rust',\n",
       "       'Apple scab', 'Cedar apple rust', 'Cedar apple rust',\n",
       "       'Cedar apple rust', 'Black rot', 'Black rot', 'Apple scab',\n",
       "       'Apple scab', 'Apple scab', 'Black rot', 'Black rot', 'Apple scab',\n",
       "       'Cedar apple rust', 'Black rot', 'Black rot', 'Black rot',\n",
       "       'Black rot', 'Black rot', 'Black rot', 'Apple scab', 'Apple scab',\n",
       "       'Apple scab', 'Black rot', 'Black rot', 'Cedar apple rust',\n",
       "       'Apple scab', 'Apple scab', 'Black rot', 'Apple scab',\n",
       "       'Cedar apple rust', 'Black rot', 'Cedar apple rust', 'Apple scab',\n",
       "       'Cedar apple rust', 'Black rot', 'Apple scab', 'Apple scab',\n",
       "       'Cedar apple rust', 'Cedar apple rust', 'Black rot',\n",
       "       'Cedar apple rust', 'Cedar apple rust', 'Cedar apple rust',\n",
       "       'Black rot', 'Apple scab', 'Apple scab', 'Black rot', 'Apple scab',\n",
       "       'Cedar apple rust', 'Black rot', 'Cedar apple rust', 'Apple scab',\n",
       "       'Black rot', 'Black rot', 'Black rot', 'Black rot', 'Apple scab',\n",
       "       'Apple scab', 'Cedar apple rust', 'Cedar apple rust',\n",
       "       'Cedar apple rust', 'Cedar apple rust', 'Apple scab', 'Apple scab',\n",
       "       'Cedar apple rust', 'Apple scab', 'Black rot', 'Black rot',\n",
       "       'Black rot', 'Apple scab', 'Apple scab', 'Cedar apple rust',\n",
       "       'Cedar apple rust', 'Cedar apple rust', 'Cedar apple rust',\n",
       "       'Black rot', 'Apple scab', 'Apple scab', 'Black rot', 'Apple scab'],\n",
       "      dtype=object)"
      ]
     },
     "execution_count": 54,
     "metadata": {},
     "output_type": "execute_result"
    }
   ],
   "source": [
    "y_pred"
   ]
  },
  {
   "cell_type": "code",
   "execution_count": 55,
   "metadata": {
    "colab": {
     "base_uri": "https://localhost:8080/"
    },
    "id": "j885OsvouB8R",
    "outputId": "3b78cde5-2b87-4939-eac3-51a21f3c2681"
   },
   "outputs": [
    {
     "data": {
      "text/plain": [
       "array(['Apple scab', 'Cedar apple rust', 'Black rot', 'Apple scab',\n",
       "       'Cedar apple rust', 'Cedar apple rust', 'Apple scab', 'Apple scab',\n",
       "       'Black rot', 'Black rot', 'Apple scab', 'Apple scab', 'Apple scab',\n",
       "       'Cedar apple rust', 'Apple scab', 'Cedar apple rust', 'Black rot',\n",
       "       'Apple scab', 'Apple scab', 'Apple scab', 'Cedar apple rust',\n",
       "       'Apple scab', 'Cedar apple rust', 'Cedar apple rust', 'Black rot',\n",
       "       'Cedar apple rust', 'Apple scab', 'Cedar apple rust',\n",
       "       'Cedar apple rust', 'Cedar apple rust', 'Cedar apple rust',\n",
       "       'Black rot', 'Apple scab', 'Cedar apple rust', 'Cedar apple rust',\n",
       "       'Cedar apple rust', 'Apple scab', 'Apple scab', 'Apple scab',\n",
       "       'Black rot', 'Black rot', 'Black rot', 'Cedar apple rust',\n",
       "       'Black rot', 'Apple scab', 'Apple scab', 'Cedar apple rust',\n",
       "       'Black rot', 'Cedar apple rust', 'Cedar apple rust',\n",
       "       'Cedar apple rust', 'Cedar apple rust', 'Black rot', 'Apple scab',\n",
       "       'Black rot', 'Black rot', 'Cedar apple rust', 'Apple scab',\n",
       "       'Apple scab', 'Apple scab', 'Apple scab', 'Cedar apple rust',\n",
       "       'Cedar apple rust', 'Cedar apple rust', 'Cedar apple rust',\n",
       "       'Black rot', 'Black rot', 'Black rot', 'Apple scab', 'Apple scab',\n",
       "       'Apple scab', 'Black rot', 'Apple scab', 'Cedar apple rust',\n",
       "       'Cedar apple rust', 'Black rot', 'Black rot', 'Cedar apple rust',\n",
       "       'Black rot', 'Apple scab', 'Apple scab', 'Black rot', 'Black rot',\n",
       "       'Cedar apple rust', 'Apple scab', 'Apple scab', 'Cedar apple rust',\n",
       "       'Black rot', 'Apple scab', 'Cedar apple rust', 'Black rot',\n",
       "       'Apple scab', 'Apple scab', 'Apple scab', 'Black rot',\n",
       "       'Cedar apple rust', 'Cedar apple rust', 'Apple scab', 'Black rot',\n",
       "       'Cedar apple rust', 'Black rot', 'Black rot', 'Cedar apple rust',\n",
       "       'Black rot', 'Apple scab', 'Cedar apple rust', 'Black rot',\n",
       "       'Cedar apple rust', 'Cedar apple rust', 'Black rot', 'Apple scab',\n",
       "       'Cedar apple rust', 'Black rot', 'Black rot', 'Black rot',\n",
       "       'Cedar apple rust', 'Black rot', 'Apple scab', 'Cedar apple rust',\n",
       "       'Apple scab', 'Black rot', 'Black rot', 'Black rot',\n",
       "       'Cedar apple rust', 'Cedar apple rust', 'Cedar apple rust',\n",
       "       'Apple scab', 'Cedar apple rust', 'Black rot', 'Black rot',\n",
       "       'Black rot', 'Black rot', 'Cedar apple rust', 'Apple scab',\n",
       "       'Cedar apple rust', 'Apple scab', 'Apple scab', 'Black rot',\n",
       "       'Apple scab', 'Black rot', 'Black rot', 'Apple scab',\n",
       "       'Cedar apple rust', 'Apple scab', 'Apple scab', 'Cedar apple rust',\n",
       "       'Black rot', 'Black rot', 'Black rot', 'Cedar apple rust',\n",
       "       'Black rot', 'Cedar apple rust', 'Cedar apple rust', 'Black rot',\n",
       "       'Black rot', 'Black rot', 'Apple scab', 'Apple scab',\n",
       "       'Cedar apple rust', 'Apple scab', 'Black rot', 'Apple scab',\n",
       "       'Apple scab', 'Cedar apple rust', 'Cedar apple rust',\n",
       "       'Cedar apple rust', 'Cedar apple rust', 'Cedar apple rust',\n",
       "       'Apple scab', 'Black rot', 'Apple scab', 'Cedar apple rust',\n",
       "       'Cedar apple rust', 'Cedar apple rust', 'Cedar apple rust',\n",
       "       'Apple scab', 'Apple scab', 'Black rot', 'Apple scab',\n",
       "       'Apple scab', 'Apple scab', 'Cedar apple rust', 'Black rot',\n",
       "       'Apple scab', 'Cedar apple rust', 'Cedar apple rust', 'Apple scab',\n",
       "       'Cedar apple rust', 'Black rot', 'Cedar apple rust', 'Apple scab',\n",
       "       'Apple scab', 'Black rot', 'Black rot', 'Apple scab',\n",
       "       'Cedar apple rust', 'Black rot', 'Apple scab', 'Cedar apple rust',\n",
       "       'Apple scab', 'Black rot', 'Apple scab', 'Cedar apple rust',\n",
       "       'Apple scab', 'Apple scab', 'Apple scab', 'Apple scab',\n",
       "       'Cedar apple rust', 'Black rot', 'Cedar apple rust', 'Black rot',\n",
       "       'Apple scab', 'Apple scab', 'Black rot', 'Cedar apple rust',\n",
       "       'Black rot', 'Black rot', 'Cedar apple rust', 'Apple scab',\n",
       "       'Cedar apple rust', 'Cedar apple rust', 'Cedar apple rust',\n",
       "       'Black rot', 'Black rot', 'Apple scab', 'Black rot', 'Black rot',\n",
       "       'Apple scab', 'Cedar apple rust', 'Apple scab', 'Apple scab',\n",
       "       'Black rot', 'Apple scab', 'Apple scab', 'Black rot',\n",
       "       'Cedar apple rust', 'Apple scab', 'Black rot', 'Apple scab',\n",
       "       'Apple scab', 'Cedar apple rust', 'Apple scab', 'Apple scab',\n",
       "       'Apple scab', 'Cedar apple rust', 'Black rot', 'Black rot',\n",
       "       'Apple scab', 'Apple scab', 'Apple scab', 'Cedar apple rust',\n",
       "       'Cedar apple rust', 'Apple scab', 'Black rot', 'Black rot',\n",
       "       'Cedar apple rust', 'Black rot', 'Apple scab', 'Black rot',\n",
       "       'Cedar apple rust', 'Cedar apple rust', 'Apple scab', 'Apple scab',\n",
       "       'Apple scab', 'Cedar apple rust', 'Black rot', 'Cedar apple rust',\n",
       "       'Cedar apple rust', 'Apple scab', 'Cedar apple rust', 'Black rot',\n",
       "       'Black rot', 'Apple scab', 'Black rot', 'Black rot', 'Apple scab',\n",
       "       'Cedar apple rust', 'Cedar apple rust', 'Cedar apple rust',\n",
       "       'Apple scab', 'Apple scab', 'Cedar apple rust', 'Black rot',\n",
       "       'Apple scab', 'Black rot', 'Apple scab', 'Cedar apple rust',\n",
       "       'Cedar apple rust', 'Black rot', 'Black rot', 'Cedar apple rust',\n",
       "       'Apple scab', 'Black rot', 'Apple scab', 'Black rot',\n",
       "       'Cedar apple rust', 'Cedar apple rust', 'Cedar apple rust',\n",
       "       'Apple scab', 'Cedar apple rust', 'Cedar apple rust',\n",
       "       'Cedar apple rust', 'Black rot', 'Black rot', 'Apple scab',\n",
       "       'Apple scab', 'Apple scab', 'Apple scab', 'Apple scab',\n",
       "       'Apple scab', 'Cedar apple rust', 'Black rot', 'Black rot',\n",
       "       'Black rot', 'Black rot', 'Black rot', 'Black rot', 'Apple scab',\n",
       "       'Apple scab', 'Apple scab', 'Black rot', 'Black rot',\n",
       "       'Cedar apple rust', 'Apple scab', 'Apple scab', 'Black rot',\n",
       "       'Apple scab', 'Cedar apple rust', 'Black rot', 'Cedar apple rust',\n",
       "       'Apple scab', 'Cedar apple rust', 'Black rot', 'Apple scab',\n",
       "       'Apple scab', 'Apple scab', 'Cedar apple rust', 'Black rot',\n",
       "       'Cedar apple rust', 'Cedar apple rust', 'Cedar apple rust',\n",
       "       'Black rot', 'Apple scab', 'Apple scab', 'Black rot', 'Apple scab',\n",
       "       'Cedar apple rust', 'Black rot', 'Cedar apple rust', 'Apple scab',\n",
       "       'Black rot', 'Black rot', 'Black rot', 'Apple scab', 'Apple scab',\n",
       "       'Apple scab', 'Cedar apple rust', 'Cedar apple rust',\n",
       "       'Cedar apple rust', 'Cedar apple rust', 'Apple scab', 'Apple scab',\n",
       "       'Cedar apple rust', 'Apple scab', 'Black rot', 'Black rot',\n",
       "       'Black rot', 'Apple scab', 'Apple scab', 'Cedar apple rust',\n",
       "       'Cedar apple rust', 'Cedar apple rust', 'Cedar apple rust',\n",
       "       'Apple scab', 'Apple scab', 'Apple scab', 'Black rot',\n",
       "       'Apple scab'], dtype=object)"
      ]
     },
     "execution_count": 55,
     "metadata": {},
     "output_type": "execute_result"
    }
   ],
   "source": [
    "y_test"
   ]
  },
  {
   "cell_type": "code",
   "execution_count": 56,
   "metadata": {},
   "outputs": [
    {
     "name": "stdout",
     "output_type": "stream",
     "text": [
      "Number of Training Data: 1512\n",
      "Number of Testing Data: 378\n"
     ]
    }
   ],
   "source": [
    "print(\"Number of Training Data:\", len(y_train))\n",
    "print(\"Number of Testing Data:\", len(y_test))"
   ]
  },
  {
   "cell_type": "code",
   "execution_count": 57,
   "metadata": {
    "colab": {
     "base_uri": "https://localhost:8080/"
    },
    "id": "887u3OPDuDPq",
    "outputId": "8896949b-55b4-422a-e40c-bc7f5558adda"
   },
   "outputs": [
    {
     "data": {
      "text/plain": [
       "array([[115,  14,   9],\n",
       "       [  5, 110,   0],\n",
       "       [  0,   0, 125]], dtype=int64)"
      ]
     },
     "execution_count": 57,
     "metadata": {},
     "output_type": "execute_result"
    }
   ],
   "source": [
    "from sklearn.metrics import confusion_matrix\n",
    "confusion_matrix(y_test,y_pred)"
   ]
  },
  {
   "cell_type": "code",
   "execution_count": 58,
   "metadata": {
    "colab": {
     "base_uri": "https://localhost:8080/"
    },
    "id": "rz7_6ObeuFGW",
    "outputId": "34ccfc1a-691f-41e8-9afd-470734e2256c"
   },
   "outputs": [
    {
     "data": {
      "text/plain": [
       "0.9259259259259259"
      ]
     },
     "execution_count": 58,
     "metadata": {},
     "output_type": "execute_result"
    }
   ],
   "source": [
    "from sklearn.metrics import accuracy_score\n",
    "accuracy_score(y_test,y_pred)"
   ]
  },
  {
   "cell_type": "markdown",
   "metadata": {},
   "source": [
    "### Testing Models"
   ]
  },
  {
   "cell_type": "code",
   "execution_count": 87,
   "metadata": {},
   "outputs": [
    {
     "name": "stdout",
     "output_type": "stream",
     "text": [
      "FEATURES       area  perimeter physiological_length physiological_width  aspect_ratio  \\\n",
      "0  37264.5  829.68838                  208                 256        0.8125   \n",
      "\n",
      "       mean_r      mean_g      mean_b   stddev_r   stddev_g  ...  \\\n",
      "0  129.841965  140.029907  109.901489  52.549002  40.510744  ...   \n",
      "\n",
      "   eccentricity  solidity  equiv_diameter  major_axis_length  \\\n",
      "0      0.721445  0.927061      218.937546         266.670405   \n",
      "\n",
      "   minor_axis_length  skewness  kurtosis  hog_feature_1  hog_feature_2  \\\n",
      "0         184.661785 -0.430322 -0.897097       0.378678       0.241245   \n",
      "\n",
      "   hog_feature_3  \n",
      "0       0.378678  \n",
      "\n",
      "[1 rows x 26 columns]\n",
      "PCA [[-3.82794998e+03 -3.16140710e+02 -3.74404228e+01  1.48640852e+01\n",
      "   2.15194671e+01 -2.95745283e+01 -2.78544262e+00  3.69639164e+01\n",
      "   1.70756900e+01 -1.59696153e+01 -9.20500077e+00  4.70382667e+00\n",
      "  -9.06959776e-01  6.62355095e-01]]\n",
      "SCALED [[-0.28393875 -0.84395422 -0.23029712  0.23469121  0.79102828 -1.19099037\n",
      "  -0.06193264  1.82062086  1.44228099 -1.46468484 -0.82029225  1.11775398\n",
      "  -0.38211508  0.229116  ]]\n",
      "RESULTS ['Cedar apple rust']\n"
     ]
    }
   ],
   "source": [
    "main_img = cv2.imread('dataset/images/Cedar apple rust/0cd24b0c-0a9d-483f-8734-5c08988e029f___FREC_C.Rust 3762.jpg')\n",
    "\n",
    "names = ['area', 'perimeter', 'physiological_length', 'physiological_width', 'aspect_ratio',\n",
    "             'mean_r', 'mean_g', 'mean_b', 'stddev_r', 'stddev_g', 'stddev_b',\n",
    "             'contrast', 'energy', 'homogeneity', 'correlation', 'dissimilarity',\n",
    "             'eccentricity', 'solidity', 'equiv_diameter', 'major_axis_length', 'minor_axis_length',\n",
    "             'skewness', 'kurtosis', 'hog_feature_1', 'hog_feature_2', 'hog_feature_3'\n",
    "            ]\n",
    "df = pd.DataFrame(columns=names)\n",
    "\n",
    "# Preprocessing\n",
    "img = cv2.cvtColor(main_img, cv2.COLOR_BGR2RGB)\n",
    "gs = cv2.cvtColor(img, cv2.COLOR_RGB2GRAY)\n",
    "blur = cv2.GaussianBlur(gs, (25, 25), 0)\n",
    "ret, thresh = cv2.threshold(blur, 0, 255, cv2.THRESH_BINARY_INV + cv2.THRESH_OTSU)\n",
    "kernel = np.ones((50, 50), np.uint8)\n",
    "closing = cv2.morphologyEx(thresh, cv2.MORPH_CLOSE, kernel)\n",
    "\n",
    "# Shape features\n",
    "contours, _ = cv2.findContours(closing, cv2.RETR_TREE, cv2.CHAIN_APPROX_SIMPLE)\n",
    "cnt = contours[0]\n",
    "area = cv2.contourArea(cnt)\n",
    "perimeter = cv2.arcLength(cnt, True)\n",
    "x, y, w, h = cv2.boundingRect(cnt)\n",
    "aspect_ratio = float(w) / h\n",
    "\n",
    "# Color features\n",
    "red_channel = img[:, :, 0]\n",
    "green_channel = img[:, :, 1]\n",
    "blue_channel = img[:, :, 2]\n",
    "\n",
    "red_mean = np.mean(red_channel)\n",
    "green_mean = np.mean(green_channel)\n",
    "blue_mean = np.mean(blue_channel)\n",
    "\n",
    "# Std deviation\n",
    "red_std = np.std(red_channel)\n",
    "green_std = np.std(green_channel)\n",
    "blue_std = np.std(blue_channel)\n",
    "\n",
    "# Texture features using GLCM matrix\n",
    "glcm = graycomatrix(gs,\n",
    "                distances=[1],\n",
    "                angles=[0],\n",
    "                symmetric=True,\n",
    "                normed=True)\n",
    "\n",
    "properties = ['contrast', 'energy', 'homogeneity', 'correlation', 'dissimilarity']\n",
    "contrast = graycoprops(glcm, properties[0])\n",
    "energy = graycoprops(glcm, properties[1])\n",
    "homogeneity = graycoprops(glcm, properties[2])\n",
    "correlation = graycoprops(glcm, properties[3])\n",
    "dissimilarity = graycoprops(glcm, properties[4])\n",
    "\n",
    "# Statistical moments\n",
    "skewness = stats.skew(gs.flatten())\n",
    "kurtosis = stats.kurtosis(gs.flatten())\n",
    "\n",
    "# Additional features\n",
    "labeled_img = label(closing)\n",
    "regions = regionprops(labeled_img)\n",
    "\n",
    "eccentricity = regions[0].eccentricity\n",
    "solidity = regions[0].solidity\n",
    "equiv_diameter = regions[0].equivalent_diameter\n",
    "major_axis_length = regions[0].major_axis_length\n",
    "minor_axis_length = regions[0].minor_axis_length\n",
    "\n",
    "# HOG features\n",
    "hog_features = hog(gs, orientations=8, pixels_per_cell=(8, 8), cells_per_block=(1, 1), block_norm='L2-Hys')\n",
    "\n",
    "vector = [area, perimeter, w, h, aspect_ratio,\n",
    "        red_mean, green_mean, blue_mean, red_std, green_std, blue_std,\n",
    "        contrast[0][0], energy[0][0], homogeneity[0][0], correlation[0][0], dissimilarity[0][0],\n",
    "        eccentricity, solidity, equiv_diameter, major_axis_length, minor_axis_length,\n",
    "        skewness, kurtosis, hog_features[0], hog_features[1], hog_features[2]]\n",
    "\n",
    "df_temp = pd.DataFrame([vector], columns=names)\n",
    "df = pd.concat([df, df_temp], ignore_index=True)\n",
    "\n",
    "pca_model = joblib.load('models/pca/Apple_pca_model.pkl')\n",
    "pca = pca_model.transform(df)\n",
    "\n",
    "scaler_model = joblib.load('models/scalers/Apple_scaler_model.pkl')\n",
    "scaled = scaler_model.transform(pca)\n",
    "\n",
    "classifier_model = joblib.load('models/classifiers/Apple_classifier_model.pkl')\n",
    "results = classifier_model.predict(scaled)\n",
    "\n",
    "print('FEATURES', df)\n",
    "print('PCA', pca)\n",
    "print('SCALED', scaled)\n",
    "print('RESULTS', results)"
   ]
  },
  {
   "cell_type": "markdown",
   "metadata": {
    "id": "h7W-Z2du6Isj"
   },
   "source": [
    "### Checking"
   ]
  },
  {
   "cell_type": "code",
   "execution_count": 66,
   "metadata": {
    "colab": {
     "base_uri": "https://localhost:8080/",
     "height": 872
    },
    "id": "Mi36sen15YST",
    "outputId": "7c6cb7e0-e508-4e29-f00a-9d2f1fc852b1"
   },
   "outputs": [
    {
     "data": {
      "image/png": "[encoded data removed]",
      "text/plain": [
       "<Figure size 1000x1000 with 2 Axes>"
      ]
     },
     "metadata": {},
     "output_type": "display_data"
    }
   ],
   "source": [
    "from sklearn.metrics import confusion_matrix\n",
    "import seaborn as sns\n",
    "import matplotlib.pyplot as plt\n",
    "\n",
    "# Assuming 'y_test' contains the true labels and 'y_pred' contains the predicted labels\n",
    "conf_mat = confusion_matrix(y_test, y_pred, labels=data['types'].unique())\n",
    "\n",
    "# Create the heatmap\n",
    "fig, ax = plt.subplots(figsize=(10, 10))\n",
    "sns.heatmap(conf_mat, annot=True, fmt='d',\n",
    "            xticklabels=data['types'].unique(),\n",
    "            yticklabels=data['types'].unique())\n",
    "plt.ylabel('Actual')\n",
    "plt.xlabel('Predicted')\n",
    "plt.title(\"Confusion Matrix - Linear SVC\")\n",
    "plt.show()"
   ]
  },
  {
   "cell_type": "code",
   "execution_count": 67,
   "metadata": {
    "colab": {
     "base_uri": "https://localhost:8080/"
    },
    "id": "J8xrBjBr5c65",
    "outputId": "d44d24c2-c2b7-4dd4-b2bf-3642ba08236a"
   },
   "outputs": [
    {
     "name": "stdout",
     "output_type": "stream",
     "text": [
      "Class Apple scab - Precision: 0.9583333333333334 \n",
      "\t\t  Recall: 0.8333333333333334 \n",
      "\t\t  F1-Score: 0.8914728682170543\n",
      "\n",
      "Class Black rot - Precision: 0.8870967741935484 \n",
      "\t\t  Recall: 0.9565217391304348 \n",
      "\t\t  F1-Score: 0.9205020920502093\n",
      "\n",
      "Class Cedar apple rust - Precision: 0.9328358208955224 \n",
      "\t\t  Recall: 1.0 \n",
      "\t\t  F1-Score: 0.9652509652509652\n",
      "\n"
     ]
    }
   ],
   "source": [
    "from sklearn.metrics import precision_score, recall_score, f1_score\n",
    "\n",
    "# Assuming you have true labels (y_true) and predicted labels (y_pred)\n",
    "y_true = y_test\n",
    "y_pred = y_pred\n",
    "\n",
    "data=pd.read_csv(\"dataset/csv/image_features.csv\")\n",
    "types = data[\"types\"]\n",
    "types_labels = types.unique()\n",
    "\n",
    "# Compute precision, recall, and F1-score for each class\n",
    "classes =  types_labels\n",
    "\n",
    "precision = precision_score(y_true, y_pred, labels=classes, average=None, zero_division=0)\n",
    "recall = recall_score(y_true, y_pred, labels=classes, average=None, zero_division=0)\n",
    "f1 = f1_score(y_true, y_pred, labels=classes, average=None, zero_division=0)\n",
    "\n",
    "# Display the results for each class\n",
    "for class_label, p, r, f in zip(classes, precision, recall, f1):\n",
    "    print(f\"Class {class_label} - Precision: {p} \\n\\t\\t  Recall: {r} \\n\\t\\t  F1-Score: {f}\\n\")"
   ]
  },
  {
   "cell_type": "markdown",
   "metadata": {
    "id": "x97tmcSQ_dZ9"
   },
   "source": [
    "## Grid Search"
   ]
  },
  {
   "cell_type": "code",
   "execution_count": 68,
   "metadata": {
    "colab": {
     "base_uri": "https://localhost:8080/"
    },
    "id": "koXHWanJgnRK",
    "outputId": "6720261e-a020-49ee-a4b6-3321eec98ecc"
   },
   "outputs": [
    {
     "name": "stdout",
     "output_type": "stream",
     "text": [
      "Combination 1/112: C=0.1, kernel=linear, gamma=scale\n",
      "Accuracy on test data:  0.8994708994708994\n",
      "Combination 2/112: C=0.1, kernel=linear, gamma=auto\n",
      "Accuracy on test data:  0.8994708994708994\n",
      "Combination 3/112: C=0.1, kernel=linear, gamma=0.001\n",
      "Accuracy on test data:  0.8994708994708994\n",
      "Combination 4/112: C=0.1, kernel=linear, gamma=0.01\n",
      "Accuracy on test data:  0.8994708994708994\n",
      "Combination 5/112: C=0.1, kernel=linear, gamma=0.1\n",
      "Accuracy on test data:  0.8994708994708994\n",
      "Combination 6/112: C=0.1, kernel=linear, gamma=1\n",
      "Accuracy on test data:  0.8994708994708994\n",
      "Combination 7/112: C=0.1, kernel=linear, gamma=10\n",
      "Accuracy on test data:  0.8994708994708994\n",
      "Combination 8/112: C=0.1, kernel=rbf, gamma=scale\n",
      "Accuracy on test data:  0.8968253968253969\n",
      "Combination 9/112: C=0.1, kernel=rbf, gamma=auto\n",
      "Accuracy on test data:  0.8968253968253969\n",
      "Combination 10/112: C=0.1, kernel=rbf, gamma=0.001\n",
      "Accuracy on test data:  0.30423280423280424\n",
      "Combination 11/112: C=0.1, kernel=rbf, gamma=0.01\n",
      "Accuracy on test data:  0.8650793650793651\n",
      "Combination 12/112: C=0.1, kernel=rbf, gamma=0.1\n",
      "Accuracy on test data:  0.8994708994708994\n",
      "Combination 13/112: C=0.1, kernel=rbf, gamma=1\n",
      "Accuracy on test data:  0.328042328042328\n",
      "Combination 14/112: C=0.1, kernel=rbf, gamma=10\n",
      "Accuracy on test data:  0.30423280423280424\n",
      "Combination 15/112: C=0.1, kernel=poly, gamma=scale\n",
      "Accuracy on test data:  0.8571428571428571\n",
      "Combination 16/112: C=0.1, kernel=poly, gamma=auto\n",
      "Accuracy on test data:  0.8571428571428571\n",
      "Combination 17/112: C=0.1, kernel=poly, gamma=0.001\n",
      "Accuracy on test data:  0.30423280423280424\n",
      "Combination 18/112: C=0.1, kernel=poly, gamma=0.01\n",
      "Accuracy on test data:  0.30423280423280424\n",
      "Combination 19/112: C=0.1, kernel=poly, gamma=0.1\n",
      "Accuracy on test data:  0.8941798941798942\n",
      "Combination 20/112: C=0.1, kernel=poly, gamma=1\n",
      "Accuracy on test data:  0.9021164021164021\n",
      "Combination 21/112: C=0.1, kernel=poly, gamma=10\n",
      "Accuracy on test data:  0.9021164021164021\n",
      "Combination 22/112: C=0.1, kernel=sigmoid, gamma=scale\n",
      "Accuracy on test data:  0.8703703703703703\n",
      "Combination 23/112: C=0.1, kernel=sigmoid, gamma=auto\n",
      "Accuracy on test data:  0.8703703703703703\n",
      "Combination 24/112: C=0.1, kernel=sigmoid, gamma=0.001\n",
      "Accuracy on test data:  0.30423280423280424\n",
      "Combination 25/112: C=0.1, kernel=sigmoid, gamma=0.01\n",
      "Accuracy on test data:  0.8544973544973545\n",
      "Combination 26/112: C=0.1, kernel=sigmoid, gamma=0.1\n",
      "Accuracy on test data:  0.8624338624338624\n",
      "Combination 27/112: C=0.1, kernel=sigmoid, gamma=1\n",
      "Accuracy on test data:  0.7195767195767195\n",
      "Combination 28/112: C=0.1, kernel=sigmoid, gamma=10\n",
      "Accuracy on test data:  0.7142857142857143\n",
      "Combination 29/112: C=1, kernel=linear, gamma=scale\n",
      "Accuracy on test data:  0.9126984126984127\n",
      "Combination 30/112: C=1, kernel=linear, gamma=auto\n",
      "Accuracy on test data:  0.9126984126984127\n",
      "Combination 31/112: C=1, kernel=linear, gamma=0.001\n",
      "Accuracy on test data:  0.9126984126984127\n",
      "Combination 32/112: C=1, kernel=linear, gamma=0.01\n",
      "Accuracy on test data:  0.9126984126984127\n",
      "Combination 33/112: C=1, kernel=linear, gamma=0.1\n",
      "Accuracy on test data:  0.9126984126984127\n",
      "Combination 34/112: C=1, kernel=linear, gamma=1\n",
      "Accuracy on test data:  0.9126984126984127\n",
      "Combination 35/112: C=1, kernel=linear, gamma=10\n",
      "Accuracy on test data:  0.9126984126984127\n",
      "Combination 36/112: C=1, kernel=rbf, gamma=scale\n",
      "Accuracy on test data:  0.9259259259259259\n",
      "Combination 37/112: C=1, kernel=rbf, gamma=auto\n",
      "Accuracy on test data:  0.9259259259259259\n",
      "Combination 38/112: C=1, kernel=rbf, gamma=0.001\n",
      "Accuracy on test data:  0.8703703703703703\n",
      "Combination 39/112: C=1, kernel=rbf, gamma=0.01\n",
      "Accuracy on test data:  0.9074074074074074\n",
      "Combination 40/112: C=1, kernel=rbf, gamma=0.1\n",
      "Accuracy on test data:  0.9232804232804233\n",
      "Combination 41/112: C=1, kernel=rbf, gamma=1\n",
      "Accuracy on test data:  0.8201058201058201\n",
      "Combination 42/112: C=1, kernel=rbf, gamma=10\n",
      "Accuracy on test data:  0.5396825396825397\n",
      "Combination 43/112: C=1, kernel=poly, gamma=scale\n",
      "Accuracy on test data:  0.8994708994708994\n",
      "Combination 44/112: C=1, kernel=poly, gamma=auto\n",
      "Accuracy on test data:  0.8994708994708994\n",
      "Combination 45/112: C=1, kernel=poly, gamma=0.001\n",
      "Accuracy on test data:  0.30423280423280424\n",
      "Combination 46/112: C=1, kernel=poly, gamma=0.01\n",
      "Accuracy on test data:  0.30423280423280424\n",
      "Combination 47/112: C=1, kernel=poly, gamma=0.1\n",
      "Accuracy on test data:  0.9047619047619048\n",
      "Combination 48/112: C=1, kernel=poly, gamma=1\n",
      "Accuracy on test data:  0.9021164021164021\n",
      "Combination 49/112: C=1, kernel=poly, gamma=10\n",
      "Accuracy on test data:  0.9021164021164021\n",
      "Combination 50/112: C=1, kernel=sigmoid, gamma=scale\n",
      "Accuracy on test data:  0.8518518518518519\n",
      "Combination 51/112: C=1, kernel=sigmoid, gamma=auto\n",
      "Accuracy on test data:  0.8597883597883598\n",
      "Combination 52/112: C=1, kernel=sigmoid, gamma=0.001\n",
      "Accuracy on test data:  0.8544973544973545\n",
      "Combination 53/112: C=1, kernel=sigmoid, gamma=0.01\n",
      "Accuracy on test data:  0.8915343915343915\n",
      "Combination 54/112: C=1, kernel=sigmoid, gamma=0.1\n",
      "Accuracy on test data:  0.8227513227513228\n",
      "Combination 55/112: C=1, kernel=sigmoid, gamma=1\n",
      "Accuracy on test data:  0.6931216931216931\n",
      "Combination 56/112: C=1, kernel=sigmoid, gamma=10\n",
      "Accuracy on test data:  0.6825396825396826\n",
      "Combination 57/112: C=10, kernel=linear, gamma=scale\n",
      "Accuracy on test data:  0.917989417989418\n",
      "Combination 58/112: C=10, kernel=linear, gamma=auto\n",
      "Accuracy on test data:  0.917989417989418\n",
      "Combination 59/112: C=10, kernel=linear, gamma=0.001\n",
      "Accuracy on test data:  0.917989417989418\n",
      "Combination 60/112: C=10, kernel=linear, gamma=0.01\n",
      "Accuracy on test data:  0.917989417989418\n",
      "Combination 61/112: C=10, kernel=linear, gamma=0.1\n",
      "Accuracy on test data:  0.917989417989418\n",
      "Combination 62/112: C=10, kernel=linear, gamma=1\n",
      "Accuracy on test data:  0.917989417989418\n",
      "Combination 63/112: C=10, kernel=linear, gamma=10\n",
      "Accuracy on test data:  0.917989417989418\n",
      "Combination 64/112: C=10, kernel=rbf, gamma=scale\n",
      "Accuracy on test data:  0.9523809523809523\n",
      "Combination 65/112: C=10, kernel=rbf, gamma=auto\n",
      "Accuracy on test data:  0.9523809523809523\n",
      "Combination 66/112: C=10, kernel=rbf, gamma=0.001\n",
      "Accuracy on test data:  0.8994708994708994\n",
      "Combination 67/112: C=10, kernel=rbf, gamma=0.01\n",
      "Accuracy on test data:  0.917989417989418\n",
      "Combination 68/112: C=10, kernel=rbf, gamma=0.1\n",
      "Accuracy on test data:  0.9444444444444444\n",
      "Combination 69/112: C=10, kernel=rbf, gamma=1\n",
      "Accuracy on test data:  0.8412698412698413\n",
      "Combination 70/112: C=10, kernel=rbf, gamma=10\n",
      "Accuracy on test data:  0.544973544973545\n",
      "Combination 71/112: C=10, kernel=poly, gamma=scale\n",
      "Accuracy on test data:  0.9126984126984127\n",
      "Combination 72/112: C=10, kernel=poly, gamma=auto\n",
      "Accuracy on test data:  0.9126984126984127\n",
      "Combination 73/112: C=10, kernel=poly, gamma=0.001\n",
      "Accuracy on test data:  0.30423280423280424\n",
      "Combination 74/112: C=10, kernel=poly, gamma=0.01\n",
      "Accuracy on test data:  0.7380952380952381\n",
      "Combination 75/112: C=10, kernel=poly, gamma=0.1\n",
      "Accuracy on test data:  0.9153439153439153\n",
      "Combination 76/112: C=10, kernel=poly, gamma=1\n",
      "Accuracy on test data:  0.9021164021164021\n",
      "Combination 77/112: C=10, kernel=poly, gamma=10\n",
      "Accuracy on test data:  0.9021164021164021\n",
      "Combination 78/112: C=10, kernel=sigmoid, gamma=scale\n",
      "Accuracy on test data:  0.828042328042328\n",
      "Combination 79/112: C=10, kernel=sigmoid, gamma=auto\n",
      "Accuracy on test data:  0.8306878306878307\n",
      "Combination 80/112: C=10, kernel=sigmoid, gamma=0.001\n",
      "Accuracy on test data:  0.8941798941798942\n",
      "Combination 81/112: C=10, kernel=sigmoid, gamma=0.01\n",
      "Accuracy on test data:  0.9074074074074074\n",
      "Combination 82/112: C=10, kernel=sigmoid, gamma=0.1\n",
      "Accuracy on test data:  0.8174603174603174\n",
      "Combination 83/112: C=10, kernel=sigmoid, gamma=1\n",
      "Accuracy on test data:  0.6798941798941799\n",
      "Combination 84/112: C=10, kernel=sigmoid, gamma=10\n",
      "Accuracy on test data:  0.6772486772486772\n",
      "Combination 85/112: C=100, kernel=linear, gamma=scale\n",
      "Accuracy on test data:  0.9153439153439153\n",
      "Combination 86/112: C=100, kernel=linear, gamma=auto\n",
      "Accuracy on test data:  0.9153439153439153\n",
      "Combination 87/112: C=100, kernel=linear, gamma=0.001\n",
      "Accuracy on test data:  0.9153439153439153\n",
      "Combination 88/112: C=100, kernel=linear, gamma=0.01\n",
      "Accuracy on test data:  0.9153439153439153\n",
      "Combination 89/112: C=100, kernel=linear, gamma=0.1\n",
      "Accuracy on test data:  0.9153439153439153\n",
      "Combination 90/112: C=100, kernel=linear, gamma=1\n",
      "Accuracy on test data:  0.9153439153439153\n",
      "Combination 91/112: C=100, kernel=linear, gamma=10\n",
      "Accuracy on test data:  0.9153439153439153\n",
      "Combination 92/112: C=100, kernel=rbf, gamma=scale\n",
      "Accuracy on test data:  0.9312169312169312\n",
      "Combination 93/112: C=100, kernel=rbf, gamma=auto\n",
      "Accuracy on test data:  0.9312169312169312\n",
      "Combination 94/112: C=100, kernel=rbf, gamma=0.001\n",
      "Accuracy on test data:  0.9153439153439153\n",
      "Combination 95/112: C=100, kernel=rbf, gamma=0.01\n",
      "Accuracy on test data:  0.9338624338624338\n",
      "Combination 96/112: C=100, kernel=rbf, gamma=0.1\n",
      "Accuracy on test data:  0.9365079365079365\n",
      "Combination 97/112: C=100, kernel=rbf, gamma=1\n",
      "Accuracy on test data:  0.8412698412698413\n",
      "Combination 98/112: C=100, kernel=rbf, gamma=10\n",
      "Accuracy on test data:  0.544973544973545\n",
      "Combination 99/112: C=100, kernel=poly, gamma=scale\n",
      "Accuracy on test data:  0.8915343915343915\n",
      "Combination 100/112: C=100, kernel=poly, gamma=auto\n",
      "Accuracy on test data:  0.8915343915343915\n",
      "Combination 101/112: C=100, kernel=poly, gamma=0.001\n",
      "Accuracy on test data:  0.30423280423280424\n",
      "Combination 102/112: C=100, kernel=poly, gamma=0.01\n",
      "Accuracy on test data:  0.8941798941798942\n",
      "Combination 103/112: C=100, kernel=poly, gamma=0.1\n",
      "Accuracy on test data:  0.9021164021164021\n",
      "Combination 104/112: C=100, kernel=poly, gamma=1\n",
      "Accuracy on test data:  0.9021164021164021\n",
      "Combination 105/112: C=100, kernel=poly, gamma=10\n",
      "Accuracy on test data:  0.9021164021164021\n",
      "Combination 106/112: C=100, kernel=sigmoid, gamma=scale\n",
      "Accuracy on test data:  0.8095238095238095\n",
      "Combination 107/112: C=100, kernel=sigmoid, gamma=auto\n",
      "Accuracy on test data:  0.8042328042328042\n",
      "Combination 108/112: C=100, kernel=sigmoid, gamma=0.001\n",
      "Accuracy on test data:  0.8994708994708994\n",
      "Combination 109/112: C=100, kernel=sigmoid, gamma=0.01\n",
      "Accuracy on test data:  0.8915343915343915\n",
      "Combination 110/112: C=100, kernel=sigmoid, gamma=0.1\n",
      "Accuracy on test data:  0.8042328042328042\n",
      "Combination 111/112: C=100, kernel=sigmoid, gamma=1\n",
      "Accuracy on test data:  0.6798941798941799\n",
      "Combination 112/112: C=100, kernel=sigmoid, gamma=10\n",
      "Accuracy on test data:  0.6798941798941799\n"
     ]
    }
   ],
   "source": [
    "import threading\n",
    "from sklearn.model_selection import GridSearchCV\n",
    "from sklearn.svm import SVC\n",
    "import pandas as pd\n",
    "\n",
    "# Define the parameter grid to search\n",
    "param_grid = {\n",
    "    'C': [0.1, 1, 10, 100],  # Regularization parameter\n",
    "    'kernel': ['linear', 'rbf', 'poly', 'sigmoid'],  # Kernel types\n",
    "    'gamma': ['scale', 'auto'] + [0.001, 0.01, 0.1, 1, 10]  # Kernel coefficient (only for 'rbf', 'poly', 'sigmoid')\n",
    "}\n",
    "\n",
    "# Create an SVM model\n",
    "svm = SVC()\n",
    "\n",
    "# Create a GridSearchCV object with the SVM model and parameter grid\n",
    "grid_search = GridSearchCV(svm, param_grid, cv=5, scoring='accuracy')\n",
    "\n",
    "# Initialize a variable to keep track of the number of combinations\n",
    "total_combinations = len(param_grid['C']) * len(param_grid['kernel']) * len(param_grid['gamma'])\n",
    "combination_count = 0\n",
    "\n",
    "# Create an empty list to store the results\n",
    "results = []\n",
    "\n",
    "# Lock for thread synchronization\n",
    "results_lock = threading.Lock()\n",
    "\n",
    "# Function to train the SVM model with a timeout\n",
    "def train_svm_with_timeout(C, kernel, gamma, result_flag):\n",
    "    try:\n",
    "        svm = SVC(C=C, kernel=kernel, gamma=gamma)\n",
    "        svm.fit(x_train, y_train)\n",
    "        y_pred = svm.predict(x_test)  # Predict on the test data\n",
    "        accuracy = (y_pred == y_test).mean()  # Calculate accuracy\n",
    "        with results_lock:\n",
    "            results.append([C, kernel, gamma, accuracy])\n",
    "        result_flag[0] = True\n",
    "    except Exception as e:\n",
    "        result_flag[0] = False\n",
    "\n",
    "# Fit the grid search to your training data\n",
    "for C in param_grid['C']:\n",
    "    for kernel in param_grid['kernel']:\n",
    "        for gamma in param_grid['gamma']:\n",
    "            combination_count += 1\n",
    "            print(f\"Combination {combination_count}/{total_combinations}: C={C}, kernel={kernel}, gamma={gamma}\")\n",
    "\n",
    "            result_flag = [False]\n",
    "\n",
    "            t = threading.Thread(target=train_svm_with_timeout, args=(C, kernel, gamma, result_flag))\n",
    "            t.start()\n",
    "            t.join(timeout=300)  # Adjust the timeout value as needed\n",
    "\n",
    "            if result_flag[0]:\n",
    "                print(\"Accuracy on test data: \", results[-1][-1])\n",
    "            else:\n",
    "                print(\"Training took too long or encountered an error. Skipping to the next combination.\")\n",
    "\n",
    "# Create a DataFrame from the results\n",
    "result_df = pd.DataFrame(results, columns=[\"C\", \"Kernel\", \"Gamma\", \"Accuracy\"])\n",
    "\n",
    "# Save the DataFrame to a CSV file\n",
    "output_csv = r\"dataset/csv/grid_search_results.csv\"\n",
    "result_df.to_csv(output_csv, index=False)"
   ]
  },
  {
   "cell_type": "markdown",
   "metadata": {
    "id": "O2GDDPFhXbe1"
   },
   "source": [
    "### Grid Search Training"
   ]
  },
  {
   "cell_type": "code",
   "execution_count": 69,
   "metadata": {
    "id": "c9oUYBQqWuxJ"
   },
   "outputs": [],
   "source": [
    "import pandas as pd\n",
    "grid_df=pd.read_csv(\"dataset/csv/grid_search_results.csv\")"
   ]
  },
  {
   "cell_type": "code",
   "execution_count": 70,
   "metadata": {},
   "outputs": [
    {
     "data": {
      "text/plain": [
       "112"
      ]
     },
     "execution_count": 70,
     "metadata": {},
     "output_type": "execute_result"
    }
   ],
   "source": [
    "len(grid_df)"
   ]
  },
  {
   "cell_type": "code",
   "execution_count": 71,
   "metadata": {
    "colab": {
     "base_uri": "https://localhost:8080/",
     "height": 206
    },
    "id": "O-_moD9EBSl4",
    "outputId": "d75a87ef-6407-48d6-eae1-abc2e99d3e18"
   },
   "outputs": [
    {
     "data": {
      "text/html": [
       "<div>\n",
       "<style scoped>\n",
       "    .dataframe tbody tr th:only-of-type {\n",
       "        vertical-align: middle;\n",
       "    }\n",
       "\n",
       "    .dataframe tbody tr th {\n",
       "        vertical-align: top;\n",
       "    }\n",
       "\n",
       "    .dataframe thead th {\n",
       "        text-align: right;\n",
       "    }\n",
       "</style>\n",
       "<table border=\"1\" class=\"dataframe\">\n",
       "  <thead>\n",
       "    <tr style=\"text-align: right;\">\n",
       "      <th></th>\n",
       "      <th>C</th>\n",
       "      <th>Kernel</th>\n",
       "      <th>Gamma</th>\n",
       "      <th>Accuracy</th>\n",
       "    </tr>\n",
       "  </thead>\n",
       "  <tbody>\n",
       "    <tr>\n",
       "      <th>0</th>\n",
       "      <td>0.1</td>\n",
       "      <td>linear</td>\n",
       "      <td>scale</td>\n",
       "      <td>0.899471</td>\n",
       "    </tr>\n",
       "    <tr>\n",
       "      <th>1</th>\n",
       "      <td>0.1</td>\n",
       "      <td>linear</td>\n",
       "      <td>auto</td>\n",
       "      <td>0.899471</td>\n",
       "    </tr>\n",
       "    <tr>\n",
       "      <th>2</th>\n",
       "      <td>0.1</td>\n",
       "      <td>linear</td>\n",
       "      <td>0.001</td>\n",
       "      <td>0.899471</td>\n",
       "    </tr>\n",
       "    <tr>\n",
       "      <th>3</th>\n",
       "      <td>0.1</td>\n",
       "      <td>linear</td>\n",
       "      <td>0.01</td>\n",
       "      <td>0.899471</td>\n",
       "    </tr>\n",
       "    <tr>\n",
       "      <th>4</th>\n",
       "      <td>0.1</td>\n",
       "      <td>linear</td>\n",
       "      <td>0.1</td>\n",
       "      <td>0.899471</td>\n",
       "    </tr>\n",
       "  </tbody>\n",
       "</table>\n",
       "</div>"
      ],
      "text/plain": [
       "     C  Kernel  Gamma  Accuracy\n",
       "0  0.1  linear  scale  0.899471\n",
       "1  0.1  linear   auto  0.899471\n",
       "2  0.1  linear  0.001  0.899471\n",
       "3  0.1  linear   0.01  0.899471\n",
       "4  0.1  linear    0.1  0.899471"
      ]
     },
     "execution_count": 71,
     "metadata": {},
     "output_type": "execute_result"
    }
   ],
   "source": [
    "grid_df.head()"
   ]
  },
  {
   "cell_type": "code",
   "execution_count": 77,
   "metadata": {
    "colab": {
     "base_uri": "https://localhost:8080/"
    },
    "id": "-poYVx5PGsOv",
    "outputId": "bb3545f0-cac1-4e5e-ce6c-82f5566f1e36"
   },
   "outputs": [
    {
     "name": "stdout",
     "output_type": "stream",
     "text": [
      "C               10.0\n",
      "Kernel           rbf\n",
      "Gamma           auto\n",
      "Accuracy    0.952381\n",
      "Name: 64, dtype: object\n"
     ]
    }
   ],
   "source": [
    "# Find the index of the row with the highest accuracy\n",
    "max_accuracy_index = grid_df['Accuracy'].idxmax()\n",
    "\n",
    "# Get the row with the highest accuracy\n",
    "row_with_highest_accuracy = grid_df.loc[max_accuracy_index]\n",
    "\n",
    "print(row_with_highest_accuracy)"
   ]
  },
  {
   "cell_type": "code",
   "execution_count": 78,
   "metadata": {
    "id": "GvR5JjIWHVAA"
   },
   "outputs": [],
   "source": [
    "from sklearn.svm import SVC\n",
    "\n",
    "# Specify the parameters\n",
    "C = float(row_with_highest_accuracy.C)\n",
    "kernel = row_with_highest_accuracy.Kernel\n",
    "gamma_value = row_with_highest_accuracy.Gamma\n",
    "\n",
    "if isinstance(gamma_value, str):\n",
    "    gamma = gamma_value\n",
    "elif isinstance(gamma_value, (int,float)):\n",
    "    gamma = gamma_value\n",
    "else:\n",
    "    raise ValueError(\"Invalid gamma value\")\n",
    "\n",
    "# Create an SVC with the specified parameters\n",
    "svm = SVC(C=C, kernel=kernel, gamma=gamma)\n",
    "\n",
    "# Train the model on your training data\n",
    "train_grid = svm.fit(x_train, y_train)"
   ]
  },
  {
   "cell_type": "code",
   "execution_count": 79,
   "metadata": {
    "colab": {
     "base_uri": "https://localhost:8080/",
     "height": 75
    },
    "id": "Kv5dXdpFHwKZ",
    "outputId": "2053eec0-fefd-4e22-f6e9-6551df1c577e"
   },
   "outputs": [
    {
     "data": {
      "text/html": [
       "<style>#sk-container-id-3 {color: black;}#sk-container-id-3 pre{padding: 0;}#sk-container-id-3 div.sk-toggleable {background-color: white;}#sk-container-id-3 label.sk-toggleable__label {cursor: pointer;display: block;width: 100%;margin-bottom: 0;padding: 0.3em;box-sizing: border-box;text-align: center;}#sk-container-id-3 label.sk-toggleable__label-arrow:before {content: \"▸\";float: left;margin-right: 0.25em;color: #696969;}#sk-container-id-3 label.sk-toggleable__label-arrow:hover:before {color: black;}#sk-container-id-3 div.sk-estimator:hover label.sk-toggleable__label-arrow:before {color: black;}#sk-container-id-3 div.sk-toggleable__content {max-height: 0;max-width: 0;overflow: hidden;text-align: left;background-color: #f0f8ff;}#sk-container-id-3 div.sk-toggleable__content pre {margin: 0.2em;color: black;border-radius: 0.25em;background-color: #f0f8ff;}#sk-container-id-3 input.sk-toggleable__control:checked~div.sk-toggleable__content {max-height: 200px;max-width: 100%;overflow: auto;}#sk-container-id-3 input.sk-toggleable__control:checked~label.sk-toggleable__label-arrow:before {content: \"▾\";}#sk-container-id-3 div.sk-estimator input.sk-toggleable__control:checked~label.sk-toggleable__label {background-color: #d4ebff;}#sk-container-id-3 div.sk-label input.sk-toggleable__control:checked~label.sk-toggleable__label {background-color: #d4ebff;}#sk-container-id-3 input.sk-hidden--visually {border: 0;clip: rect(1px 1px 1px 1px);clip: rect(1px, 1px, 1px, 1px);height: 1px;margin: -1px;overflow: hidden;padding: 0;position: absolute;width: 1px;}#sk-container-id-3 div.sk-estimator {font-family: monospace;background-color: #f0f8ff;border: 1px dotted black;border-radius: 0.25em;box-sizing: border-box;margin-bottom: 0.5em;}#sk-container-id-3 div.sk-estimator:hover {background-color: #d4ebff;}#sk-container-id-3 div.sk-parallel-item::after {content: \"\";width: 100%;border-bottom: 1px solid gray;flex-grow: 1;}#sk-container-id-3 div.sk-label:hover label.sk-toggleable__label {background-color: #d4ebff;}#sk-container-id-3 div.sk-serial::before {content: \"\";position: absolute;border-left: 1px solid gray;box-sizing: border-box;top: 0;bottom: 0;left: 50%;z-index: 0;}#sk-container-id-3 div.sk-serial {display: flex;flex-direction: column;align-items: center;background-color: white;padding-right: 0.2em;padding-left: 0.2em;position: relative;}#sk-container-id-3 div.sk-item {position: relative;z-index: 1;}#sk-container-id-3 div.sk-parallel {display: flex;align-items: stretch;justify-content: center;background-color: white;position: relative;}#sk-container-id-3 div.sk-item::before, #sk-container-id-3 div.sk-parallel-item::before {content: \"\";position: absolute;border-left: 1px solid gray;box-sizing: border-box;top: 0;bottom: 0;left: 50%;z-index: -1;}#sk-container-id-3 div.sk-parallel-item {display: flex;flex-direction: column;z-index: 1;position: relative;background-color: white;}#sk-container-id-3 div.sk-parallel-item:first-child::after {align-self: flex-end;width: 50%;}#sk-container-id-3 div.sk-parallel-item:last-child::after {align-self: flex-start;width: 50%;}#sk-container-id-3 div.sk-parallel-item:only-child::after {width: 0;}#sk-container-id-3 div.sk-dashed-wrapped {border: 1px dashed gray;margin: 0 0.4em 0.5em 0.4em;box-sizing: border-box;padding-bottom: 0.4em;background-color: white;}#sk-container-id-3 div.sk-label label {font-family: monospace;font-weight: bold;display: inline-block;line-height: 1.2em;}#sk-container-id-3 div.sk-label-container {text-align: center;}#sk-container-id-3 div.sk-container {/* jupyter's `normalize.less` sets `[hidden] { display: none; }` but bootstrap.min.css set `[hidden] { display: none !important; }` so we also need the `!important` here to be able to override the default hidden behavior on the sphinx rendered scikit-learn.org. See: https://github.com/scikit-learn/scikit-learn/issues/21755 */display: inline-block !important;position: relative;}#sk-container-id-3 div.sk-text-repr-fallback {display: none;}</style><div id=\"sk-container-id-3\" class=\"sk-top-container\"><div class=\"sk-text-repr-fallback\"><pre>SVC(C=10.0, gamma=&#x27;auto&#x27;)</pre><b>In a Jupyter environment, please rerun this cell to show the HTML representation or trust the notebook. <br />On GitHub, the HTML representation is unable to render, please try loading this page with nbviewer.org.</b></div><div class=\"sk-container\" hidden><div class=\"sk-item\"><div class=\"sk-estimator sk-toggleable\"><input class=\"sk-toggleable__control sk-hidden--visually\" id=\"sk-estimator-id-3\" type=\"checkbox\" checked><label for=\"sk-estimator-id-3\" class=\"sk-toggleable__label sk-toggleable__label-arrow\">SVC</label><div class=\"sk-toggleable__content\"><pre>SVC(C=10.0, gamma=&#x27;auto&#x27;)</pre></div></div></div></div></div>"
      ],
      "text/plain": [
       "SVC(C=10.0, gamma='auto')"
      ]
     },
     "execution_count": 79,
     "metadata": {},
     "output_type": "execute_result"
    }
   ],
   "source": [
    "train_grid"
   ]
  },
  {
   "cell_type": "code",
   "execution_count": 80,
   "metadata": {},
   "outputs": [
    {
     "data": {
      "text/plain": [
       "['models/classifiers/Apple_classifier_model.pkl']"
      ]
     },
     "execution_count": 80,
     "metadata": {},
     "output_type": "execute_result"
    }
   ],
   "source": [
    "import joblib\n",
    "\n",
    "# Save the trained model to a file\n",
    "joblib.dump(train_grid, 'models/classifiers/Apple_classifier_model.pkl')"
   ]
  },
  {
   "cell_type": "code",
   "execution_count": 81,
   "metadata": {
    "id": "6W9dE5PDH7dy"
   },
   "outputs": [],
   "source": [
    "y_pred=train_grid.predict(x_test)"
   ]
  },
  {
   "cell_type": "code",
   "execution_count": 82,
   "metadata": {
    "colab": {
     "base_uri": "https://localhost:8080/"
    },
    "id": "mufW_xTlH82J",
    "outputId": "087f12b3-5f7c-440f-9aa1-f09a234c328c"
   },
   "outputs": [
    {
     "data": {
      "text/plain": [
       "array(['Apple scab', 'Cedar apple rust', 'Black rot', 'Apple scab',\n",
       "       'Cedar apple rust', 'Cedar apple rust', 'Apple scab', 'Apple scab',\n",
       "       'Black rot', 'Black rot', 'Apple scab', 'Apple scab', 'Apple scab',\n",
       "       'Cedar apple rust', 'Apple scab', 'Cedar apple rust', 'Black rot',\n",
       "       'Apple scab', 'Apple scab', 'Apple scab', 'Cedar apple rust',\n",
       "       'Apple scab', 'Cedar apple rust', 'Cedar apple rust', 'Black rot',\n",
       "       'Cedar apple rust', 'Apple scab', 'Cedar apple rust',\n",
       "       'Cedar apple rust', 'Cedar apple rust', 'Cedar apple rust',\n",
       "       'Black rot', 'Apple scab', 'Cedar apple rust', 'Cedar apple rust',\n",
       "       'Cedar apple rust', 'Apple scab', 'Apple scab', 'Apple scab',\n",
       "       'Black rot', 'Black rot', 'Black rot', 'Cedar apple rust',\n",
       "       'Black rot', 'Apple scab', 'Apple scab', 'Cedar apple rust',\n",
       "       'Black rot', 'Cedar apple rust', 'Cedar apple rust',\n",
       "       'Cedar apple rust', 'Cedar apple rust', 'Black rot', 'Apple scab',\n",
       "       'Apple scab', 'Black rot', 'Cedar apple rust', 'Apple scab',\n",
       "       'Black rot', 'Apple scab', 'Apple scab', 'Cedar apple rust',\n",
       "       'Cedar apple rust', 'Cedar apple rust', 'Cedar apple rust',\n",
       "       'Black rot', 'Black rot', 'Black rot', 'Cedar apple rust',\n",
       "       'Apple scab', 'Black rot', 'Black rot', 'Apple scab',\n",
       "       'Cedar apple rust', 'Cedar apple rust', 'Black rot', 'Black rot',\n",
       "       'Cedar apple rust', 'Black rot', 'Apple scab', 'Apple scab',\n",
       "       'Black rot', 'Black rot', 'Cedar apple rust', 'Apple scab',\n",
       "       'Apple scab', 'Cedar apple rust', 'Black rot', 'Black rot',\n",
       "       'Cedar apple rust', 'Black rot', 'Apple scab', 'Apple scab',\n",
       "       'Cedar apple rust', 'Black rot', 'Cedar apple rust',\n",
       "       'Cedar apple rust', 'Apple scab', 'Black rot', 'Cedar apple rust',\n",
       "       'Black rot', 'Black rot', 'Cedar apple rust', 'Black rot',\n",
       "       'Apple scab', 'Cedar apple rust', 'Black rot', 'Cedar apple rust',\n",
       "       'Cedar apple rust', 'Black rot', 'Apple scab', 'Cedar apple rust',\n",
       "       'Black rot', 'Black rot', 'Black rot', 'Cedar apple rust',\n",
       "       'Black rot', 'Apple scab', 'Cedar apple rust', 'Apple scab',\n",
       "       'Black rot', 'Black rot', 'Black rot', 'Cedar apple rust',\n",
       "       'Cedar apple rust', 'Cedar apple rust', 'Apple scab',\n",
       "       'Cedar apple rust', 'Apple scab', 'Black rot', 'Black rot',\n",
       "       'Black rot', 'Apple scab', 'Apple scab', 'Cedar apple rust',\n",
       "       'Apple scab', 'Apple scab', 'Apple scab', 'Apple scab',\n",
       "       'Black rot', 'Black rot', 'Apple scab', 'Cedar apple rust',\n",
       "       'Apple scab', 'Apple scab', 'Cedar apple rust', 'Black rot',\n",
       "       'Black rot', 'Black rot', 'Cedar apple rust', 'Black rot',\n",
       "       'Cedar apple rust', 'Cedar apple rust', 'Black rot', 'Black rot',\n",
       "       'Black rot', 'Apple scab', 'Apple scab', 'Cedar apple rust',\n",
       "       'Apple scab', 'Black rot', 'Apple scab', 'Black rot',\n",
       "       'Cedar apple rust', 'Cedar apple rust', 'Cedar apple rust',\n",
       "       'Cedar apple rust', 'Cedar apple rust', 'Apple scab', 'Black rot',\n",
       "       'Cedar apple rust', 'Cedar apple rust', 'Cedar apple rust',\n",
       "       'Cedar apple rust', 'Cedar apple rust', 'Apple scab', 'Apple scab',\n",
       "       'Black rot', 'Apple scab', 'Apple scab', 'Apple scab',\n",
       "       'Cedar apple rust', 'Black rot', 'Apple scab', 'Cedar apple rust',\n",
       "       'Cedar apple rust', 'Apple scab', 'Cedar apple rust', 'Black rot',\n",
       "       'Cedar apple rust', 'Apple scab', 'Apple scab', 'Black rot',\n",
       "       'Black rot', 'Apple scab', 'Cedar apple rust', 'Black rot',\n",
       "       'Apple scab', 'Cedar apple rust', 'Apple scab', 'Black rot',\n",
       "       'Apple scab', 'Cedar apple rust', 'Cedar apple rust', 'Apple scab',\n",
       "       'Apple scab', 'Apple scab', 'Cedar apple rust', 'Apple scab',\n",
       "       'Cedar apple rust', 'Black rot', 'Apple scab', 'Apple scab',\n",
       "       'Black rot', 'Cedar apple rust', 'Black rot', 'Black rot',\n",
       "       'Cedar apple rust', 'Apple scab', 'Cedar apple rust',\n",
       "       'Cedar apple rust', 'Cedar apple rust', 'Black rot', 'Black rot',\n",
       "       'Apple scab', 'Black rot', 'Black rot', 'Apple scab',\n",
       "       'Cedar apple rust', 'Apple scab', 'Apple scab', 'Black rot',\n",
       "       'Apple scab', 'Apple scab', 'Black rot', 'Cedar apple rust',\n",
       "       'Apple scab', 'Black rot', 'Apple scab', 'Apple scab',\n",
       "       'Cedar apple rust', 'Cedar apple rust', 'Apple scab', 'Apple scab',\n",
       "       'Cedar apple rust', 'Black rot', 'Black rot', 'Apple scab',\n",
       "       'Apple scab', 'Apple scab', 'Cedar apple rust', 'Cedar apple rust',\n",
       "       'Apple scab', 'Black rot', 'Black rot', 'Cedar apple rust',\n",
       "       'Black rot', 'Apple scab', 'Black rot', 'Cedar apple rust',\n",
       "       'Cedar apple rust', 'Apple scab', 'Apple scab', 'Apple scab',\n",
       "       'Cedar apple rust', 'Black rot', 'Cedar apple rust',\n",
       "       'Cedar apple rust', 'Apple scab', 'Cedar apple rust', 'Black rot',\n",
       "       'Black rot', 'Black rot', 'Black rot', 'Black rot', 'Apple scab',\n",
       "       'Cedar apple rust', 'Cedar apple rust', 'Cedar apple rust',\n",
       "       'Apple scab', 'Apple scab', 'Cedar apple rust', 'Black rot',\n",
       "       'Apple scab', 'Black rot', 'Apple scab', 'Cedar apple rust',\n",
       "       'Cedar apple rust', 'Black rot', 'Black rot', 'Cedar apple rust',\n",
       "       'Apple scab', 'Black rot', 'Apple scab', 'Black rot',\n",
       "       'Cedar apple rust', 'Cedar apple rust', 'Cedar apple rust',\n",
       "       'Apple scab', 'Cedar apple rust', 'Cedar apple rust',\n",
       "       'Cedar apple rust', 'Black rot', 'Black rot', 'Apple scab',\n",
       "       'Apple scab', 'Apple scab', 'Apple scab', 'Black rot',\n",
       "       'Apple scab', 'Cedar apple rust', 'Black rot', 'Black rot',\n",
       "       'Black rot', 'Black rot', 'Black rot', 'Black rot', 'Apple scab',\n",
       "       'Apple scab', 'Apple scab', 'Black rot', 'Black rot',\n",
       "       'Cedar apple rust', 'Apple scab', 'Apple scab', 'Black rot',\n",
       "       'Apple scab', 'Cedar apple rust', 'Black rot', 'Cedar apple rust',\n",
       "       'Apple scab', 'Cedar apple rust', 'Black rot', 'Apple scab',\n",
       "       'Apple scab', 'Apple scab', 'Cedar apple rust', 'Black rot',\n",
       "       'Cedar apple rust', 'Cedar apple rust', 'Cedar apple rust',\n",
       "       'Black rot', 'Apple scab', 'Apple scab', 'Black rot', 'Apple scab',\n",
       "       'Cedar apple rust', 'Black rot', 'Cedar apple rust', 'Apple scab',\n",
       "       'Black rot', 'Black rot', 'Black rot', 'Black rot', 'Apple scab',\n",
       "       'Apple scab', 'Cedar apple rust', 'Cedar apple rust',\n",
       "       'Cedar apple rust', 'Cedar apple rust', 'Apple scab', 'Apple scab',\n",
       "       'Cedar apple rust', 'Apple scab', 'Black rot', 'Black rot',\n",
       "       'Black rot', 'Apple scab', 'Apple scab', 'Cedar apple rust',\n",
       "       'Cedar apple rust', 'Cedar apple rust', 'Cedar apple rust',\n",
       "       'Black rot', 'Apple scab', 'Apple scab', 'Black rot', 'Apple scab'],\n",
       "      dtype=object)"
      ]
     },
     "execution_count": 82,
     "metadata": {},
     "output_type": "execute_result"
    }
   ],
   "source": [
    "y_pred"
   ]
  },
  {
   "cell_type": "code",
   "execution_count": 83,
   "metadata": {
    "colab": {
     "base_uri": "https://localhost:8080/"
    },
    "id": "L9cHncURIAob",
    "outputId": "ee4db70d-dde7-4eda-b8ed-266fdfdef23f"
   },
   "outputs": [
    {
     "data": {
      "text/plain": [
       "array(['Apple scab', 'Cedar apple rust', 'Black rot', 'Apple scab',\n",
       "       'Cedar apple rust', 'Cedar apple rust', 'Apple scab', 'Apple scab',\n",
       "       'Black rot', 'Black rot', 'Apple scab', 'Apple scab', 'Apple scab',\n",
       "       'Cedar apple rust', 'Apple scab', 'Cedar apple rust', 'Black rot',\n",
       "       'Apple scab', 'Apple scab', 'Apple scab', 'Cedar apple rust',\n",
       "       'Apple scab', 'Cedar apple rust', 'Cedar apple rust', 'Black rot',\n",
       "       'Cedar apple rust', 'Apple scab', 'Cedar apple rust',\n",
       "       'Cedar apple rust', 'Cedar apple rust', 'Cedar apple rust',\n",
       "       'Black rot', 'Apple scab', 'Cedar apple rust', 'Cedar apple rust',\n",
       "       'Cedar apple rust', 'Apple scab', 'Apple scab', 'Apple scab',\n",
       "       'Black rot', 'Black rot', 'Black rot', 'Cedar apple rust',\n",
       "       'Black rot', 'Apple scab', 'Apple scab', 'Cedar apple rust',\n",
       "       'Black rot', 'Cedar apple rust', 'Cedar apple rust',\n",
       "       'Cedar apple rust', 'Cedar apple rust', 'Black rot', 'Apple scab',\n",
       "       'Black rot', 'Black rot', 'Cedar apple rust', 'Apple scab',\n",
       "       'Apple scab', 'Apple scab', 'Apple scab', 'Cedar apple rust',\n",
       "       'Cedar apple rust', 'Cedar apple rust', 'Cedar apple rust',\n",
       "       'Black rot', 'Black rot', 'Black rot', 'Apple scab', 'Apple scab',\n",
       "       'Apple scab', 'Black rot', 'Apple scab', 'Cedar apple rust',\n",
       "       'Cedar apple rust', 'Black rot', 'Black rot', 'Cedar apple rust',\n",
       "       'Black rot', 'Apple scab', 'Apple scab', 'Black rot', 'Black rot',\n",
       "       'Cedar apple rust', 'Apple scab', 'Apple scab', 'Cedar apple rust',\n",
       "       'Black rot', 'Apple scab', 'Cedar apple rust', 'Black rot',\n",
       "       'Apple scab', 'Apple scab', 'Apple scab', 'Black rot',\n",
       "       'Cedar apple rust', 'Cedar apple rust', 'Apple scab', 'Black rot',\n",
       "       'Cedar apple rust', 'Black rot', 'Black rot', 'Cedar apple rust',\n",
       "       'Black rot', 'Apple scab', 'Cedar apple rust', 'Black rot',\n",
       "       'Cedar apple rust', 'Cedar apple rust', 'Black rot', 'Apple scab',\n",
       "       'Cedar apple rust', 'Black rot', 'Black rot', 'Black rot',\n",
       "       'Cedar apple rust', 'Black rot', 'Apple scab', 'Cedar apple rust',\n",
       "       'Apple scab', 'Black rot', 'Black rot', 'Black rot',\n",
       "       'Cedar apple rust', 'Cedar apple rust', 'Cedar apple rust',\n",
       "       'Apple scab', 'Cedar apple rust', 'Black rot', 'Black rot',\n",
       "       'Black rot', 'Black rot', 'Cedar apple rust', 'Apple scab',\n",
       "       'Cedar apple rust', 'Apple scab', 'Apple scab', 'Black rot',\n",
       "       'Apple scab', 'Black rot', 'Black rot', 'Apple scab',\n",
       "       'Cedar apple rust', 'Apple scab', 'Apple scab', 'Cedar apple rust',\n",
       "       'Black rot', 'Black rot', 'Black rot', 'Cedar apple rust',\n",
       "       'Black rot', 'Cedar apple rust', 'Cedar apple rust', 'Black rot',\n",
       "       'Black rot', 'Black rot', 'Apple scab', 'Apple scab',\n",
       "       'Cedar apple rust', 'Apple scab', 'Black rot', 'Apple scab',\n",
       "       'Apple scab', 'Cedar apple rust', 'Cedar apple rust',\n",
       "       'Cedar apple rust', 'Cedar apple rust', 'Cedar apple rust',\n",
       "       'Apple scab', 'Black rot', 'Apple scab', 'Cedar apple rust',\n",
       "       'Cedar apple rust', 'Cedar apple rust', 'Cedar apple rust',\n",
       "       'Apple scab', 'Apple scab', 'Black rot', 'Apple scab',\n",
       "       'Apple scab', 'Apple scab', 'Cedar apple rust', 'Black rot',\n",
       "       'Apple scab', 'Cedar apple rust', 'Cedar apple rust', 'Apple scab',\n",
       "       'Cedar apple rust', 'Black rot', 'Cedar apple rust', 'Apple scab',\n",
       "       'Apple scab', 'Black rot', 'Black rot', 'Apple scab',\n",
       "       'Cedar apple rust', 'Black rot', 'Apple scab', 'Cedar apple rust',\n",
       "       'Apple scab', 'Black rot', 'Apple scab', 'Cedar apple rust',\n",
       "       'Apple scab', 'Apple scab', 'Apple scab', 'Apple scab',\n",
       "       'Cedar apple rust', 'Black rot', 'Cedar apple rust', 'Black rot',\n",
       "       'Apple scab', 'Apple scab', 'Black rot', 'Cedar apple rust',\n",
       "       'Black rot', 'Black rot', 'Cedar apple rust', 'Apple scab',\n",
       "       'Cedar apple rust', 'Cedar apple rust', 'Cedar apple rust',\n",
       "       'Black rot', 'Black rot', 'Apple scab', 'Black rot', 'Black rot',\n",
       "       'Apple scab', 'Cedar apple rust', 'Apple scab', 'Apple scab',\n",
       "       'Black rot', 'Apple scab', 'Apple scab', 'Black rot',\n",
       "       'Cedar apple rust', 'Apple scab', 'Black rot', 'Apple scab',\n",
       "       'Apple scab', 'Cedar apple rust', 'Apple scab', 'Apple scab',\n",
       "       'Apple scab', 'Cedar apple rust', 'Black rot', 'Black rot',\n",
       "       'Apple scab', 'Apple scab', 'Apple scab', 'Cedar apple rust',\n",
       "       'Cedar apple rust', 'Apple scab', 'Black rot', 'Black rot',\n",
       "       'Cedar apple rust', 'Black rot', 'Apple scab', 'Black rot',\n",
       "       'Cedar apple rust', 'Cedar apple rust', 'Apple scab', 'Apple scab',\n",
       "       'Apple scab', 'Cedar apple rust', 'Black rot', 'Cedar apple rust',\n",
       "       'Cedar apple rust', 'Apple scab', 'Cedar apple rust', 'Black rot',\n",
       "       'Black rot', 'Apple scab', 'Black rot', 'Black rot', 'Apple scab',\n",
       "       'Cedar apple rust', 'Cedar apple rust', 'Cedar apple rust',\n",
       "       'Apple scab', 'Apple scab', 'Cedar apple rust', 'Black rot',\n",
       "       'Apple scab', 'Black rot', 'Apple scab', 'Cedar apple rust',\n",
       "       'Cedar apple rust', 'Black rot', 'Black rot', 'Cedar apple rust',\n",
       "       'Apple scab', 'Black rot', 'Apple scab', 'Black rot',\n",
       "       'Cedar apple rust', 'Cedar apple rust', 'Cedar apple rust',\n",
       "       'Apple scab', 'Cedar apple rust', 'Cedar apple rust',\n",
       "       'Cedar apple rust', 'Black rot', 'Black rot', 'Apple scab',\n",
       "       'Apple scab', 'Apple scab', 'Apple scab', 'Apple scab',\n",
       "       'Apple scab', 'Cedar apple rust', 'Black rot', 'Black rot',\n",
       "       'Black rot', 'Black rot', 'Black rot', 'Black rot', 'Apple scab',\n",
       "       'Apple scab', 'Apple scab', 'Black rot', 'Black rot',\n",
       "       'Cedar apple rust', 'Apple scab', 'Apple scab', 'Black rot',\n",
       "       'Apple scab', 'Cedar apple rust', 'Black rot', 'Cedar apple rust',\n",
       "       'Apple scab', 'Cedar apple rust', 'Black rot', 'Apple scab',\n",
       "       'Apple scab', 'Apple scab', 'Cedar apple rust', 'Black rot',\n",
       "       'Cedar apple rust', 'Cedar apple rust', 'Cedar apple rust',\n",
       "       'Black rot', 'Apple scab', 'Apple scab', 'Black rot', 'Apple scab',\n",
       "       'Cedar apple rust', 'Black rot', 'Cedar apple rust', 'Apple scab',\n",
       "       'Black rot', 'Black rot', 'Black rot', 'Apple scab', 'Apple scab',\n",
       "       'Apple scab', 'Cedar apple rust', 'Cedar apple rust',\n",
       "       'Cedar apple rust', 'Cedar apple rust', 'Apple scab', 'Apple scab',\n",
       "       'Cedar apple rust', 'Apple scab', 'Black rot', 'Black rot',\n",
       "       'Black rot', 'Apple scab', 'Apple scab', 'Cedar apple rust',\n",
       "       'Cedar apple rust', 'Cedar apple rust', 'Cedar apple rust',\n",
       "       'Apple scab', 'Apple scab', 'Apple scab', 'Black rot',\n",
       "       'Apple scab'], dtype=object)"
      ]
     },
     "execution_count": 83,
     "metadata": {},
     "output_type": "execute_result"
    }
   ],
   "source": [
    "y_test"
   ]
  },
  {
   "cell_type": "code",
   "execution_count": 84,
   "metadata": {
    "colab": {
     "base_uri": "https://localhost:8080/"
    },
    "id": "7ZZvrYbEIB4d",
    "outputId": "377f879b-d690-49ad-d81a-4e8b3a9680b6"
   },
   "outputs": [
    {
     "data": {
      "text/plain": [
       "0.9523809523809523"
      ]
     },
     "execution_count": 84,
     "metadata": {},
     "output_type": "execute_result"
    }
   ],
   "source": [
    "from sklearn.metrics import accuracy_score\n",
    "accuracy_score(y_test,y_pred)"
   ]
  },
  {
   "cell_type": "markdown",
   "metadata": {
    "id": "X4iEOo5dXvx-"
   },
   "source": [
    "### Grid Search Checking"
   ]
  },
  {
   "cell_type": "code",
   "execution_count": 85,
   "metadata": {
    "colab": {
     "base_uri": "https://localhost:8080/",
     "height": 872
    },
    "id": "KsR-naNCXJd1",
    "outputId": "5d0f9fca-62d2-4db3-f2f6-8d90213da193"
   },
   "outputs": [
    {
     "data": {
      "image/png": "[encoded data removed]",
      "text/plain": [
       "<Figure size 1000x1000 with 2 Axes>"
      ]
     },
     "metadata": {},
     "output_type": "display_data"
    }
   ],
   "source": [
    "from sklearn.metrics import confusion_matrix\n",
    "import seaborn as sns\n",
    "import matplotlib.pyplot as plt\n",
    "\n",
    "# Assuming 'y_test' contains the true labels and 'y_pred' contains the predicted labels\n",
    "conf_mat = confusion_matrix(y_test, y_pred, labels=data['types'].unique())\n",
    "\n",
    "# Create the heatmap\n",
    "fig, ax = plt.subplots(figsize=(10, 10))\n",
    "sns.heatmap(conf_mat, annot=True, fmt='d',\n",
    "            xticklabels=data['types'].unique(),\n",
    "            yticklabels=data['types'].unique())\n",
    "plt.ylabel('Actual')\n",
    "plt.xlabel('Predicted')\n",
    "plt.title(\"Confusion Matrix - Linear SVC\")\n",
    "plt.show()"
   ]
  },
  {
   "cell_type": "code",
   "execution_count": 86,
   "metadata": {
    "colab": {
     "base_uri": "https://localhost:8080/"
    },
    "id": "MAcFnPHGXu1E",
    "outputId": "48396ef1-fa30-4d15-bfe2-ccbbd18e42b0"
   },
   "outputs": [
    {
     "name": "stdout",
     "output_type": "stream",
     "text": [
      "Class Apple scab - Precision: 0.9615384615384616 \n",
      "\t\t  Recall: 0.9057971014492754 \n",
      "\t\t  F1-Score: 0.9328358208955224\n",
      "\n",
      "Class Black rot - Precision: 0.9327731092436975 \n",
      "\t\t  Recall: 0.9652173913043478 \n",
      "\t\t  F1-Score: 0.9487179487179487\n",
      "\n",
      "Class Cedar apple rust - Precision: 0.9612403100775194 \n",
      "\t\t  Recall: 0.992 \n",
      "\t\t  F1-Score: 0.9763779527559056\n",
      "\n"
     ]
    }
   ],
   "source": [
    "from sklearn.metrics import precision_score, recall_score, f1_score\n",
    "\n",
    "# Assuming you have true labels (y_true) and predicted labels (y_pred)\n",
    "y_true = y_test\n",
    "y_pred = y_pred\n",
    "\n",
    "data=pd.read_csv(\"dataset/csv/image_features.csv\")\n",
    "types = data[\"types\"]\n",
    "types_labels = types.unique()\n",
    "\n",
    "# Compute precision, recall, and F1-score for each class\n",
    "classes = types_labels\n",
    "\n",
    "precision = precision_score(y_true, y_pred, labels=classes, average=None, zero_division=0)\n",
    "recall = recall_score(y_true, y_pred, labels=classes, average=None, zero_division=0)\n",
    "f1 = f1_score(y_true, y_pred, labels=classes, average=None, zero_division=0)\n",
    "\n",
    "# Display the results for each class\n",
    "for class_label, p, r, f in zip(classes, precision, recall, f1):\n",
    "    print(f\"Class {class_label} - Precision: {p} \\n\\t\\t  Recall: {r} \\n\\t\\t  F1-Score: {f}\\n\")"
   ]
  },
  {
   "cell_type": "code",
   "execution_count": null,
   "metadata": {
    "id": "s4UKeglBX_1X"
   },
   "outputs": [],
   "source": []
  }
 ],
 "metadata": {
  "colab": {
   "provenance": []
  },
  "kernelspec": {
   "display_name": "Python 3 (ipykernel)",
   "language": "python",
   "name": "python3"
  },
  "language_info": {
   "codemirror_mode": {
    "name": "ipython",
    "version": 3
   },
   "file_extension": ".py",
   "mimetype": "text/x-python",
   "name": "python",
   "nbconvert_exporter": "python",
   "pygments_lexer": "ipython3",
   "version": "3.11.4"
  }
 },
 "nbformat": 4,
 "nbformat_minor": 1
}
