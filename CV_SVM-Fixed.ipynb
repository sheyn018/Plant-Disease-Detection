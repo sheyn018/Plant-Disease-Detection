{
 "cells": [
  {
   "cell_type": "markdown",
   "metadata": {},
   "source": [
    "# IMAGE PREPROCESSING"
   ]
  },
  {
   "cell_type": "markdown",
   "metadata": {},
   "source": [
    "## Background Removal"
   ]
  },
  {
   "cell_type": "code",
   "execution_count": null,
   "metadata": {},
   "outputs": [],
   "source": [
    "from PIL import Image\n",
    "import os\n",
    "\n",
    "def remove_white_background(input_path, output_path, compression_quality=85):\n",
    "    # Open the image\n",
    "    image = Image.open(input_path)\n",
    "\n",
    "    # Convert the image to RGBA (if it's not already)\n",
    "    image = image.convert('RGBA')\n",
    "\n",
    "    # Get data of the image\n",
    "    data = image.getdata()\n",
    "\n",
    "    # Define a threshold to identify the white background\n",
    "    threshold = 255\n",
    "    new_data = []\n",
    "    for item in data:\n",
    "        # Set the pixel to transparent if it's white\n",
    "        if item[0] > threshold and item[1] > threshold and item[2] > threshold:\n",
    "            new_data.append((255, 255, 255, 0))  # White becomes transparent\n",
    "        else:\n",
    "            new_data.append(item)\n",
    "\n",
    "    # Update the image data\n",
    "    image.putdata(new_data)\n",
    "\n",
    "    # Convert the image to RGB before saving as JPEG\n",
    "    rgb_image = image.convert('RGB')\n",
    "\n",
    "    # Save the result with compression\n",
    "    rgb_image.save(output_path, quality=compression_quality)\n",
    "\n",
    "# Dataset path\n",
    "ds_path = r\"dataset/images\"\n",
    "\n",
    "# Count the number of subfolders in the dataset path to determine the number of classes\n",
    "class_folders = [f for f in os.listdir(ds_path) if os.path.isdir(os.path.join(ds_path, f))]\n",
    "num_classes = len(class_folders)\n",
    "\n",
    "print(\"Number of Classes: \", num_classes)\n",
    "print(\"Classes: \", class_folders)\n",
    "\n",
    "types = 0\n",
    "\n",
    "for folder in class_folders:\n",
    "    disease_folder = os.path.join(ds_path, folder)\n",
    "\n",
    "    print('Processing images in folder: ', folder)\n",
    "\n",
    "    # Create a folder for the processed images if it doesn't exist\n",
    "    output_folder = os.path.join('dataset/other images', f\"{folder}_processed\")\n",
    "    os.makedirs(output_folder, exist_ok=True)\n",
    "\n",
    "    for image_name in os.listdir(disease_folder):\n",
    "        input_image_path = os.path.join(disease_folder, image_name)\n",
    "        output_image_path = os.path.join(output_folder, image_name)\n",
    "\n",
    "        # Call the function to remove the white background and compress the image\n",
    "        remove_white_background(input_image_path, output_image_path)\n"
   ]
  },
  {
   "cell_type": "markdown",
   "metadata": {},
   "source": [
    "## Resizing Images"
   ]
  },
  {
   "cell_type": "code",
   "execution_count": null,
   "metadata": {},
   "outputs": [],
   "source": [
    "from PIL import Image\n",
    "import os\n",
    "\n",
    "def resize_images(input_path, output_path, target_size=(256, 256), compression_quality=85):\n",
    "    # Open the image\n",
    "    image = Image.open(input_path)\n",
    "\n",
    "    # Resize the image\n",
    "    resized_image = image.resize(target_size)\n",
    "\n",
    "    # Convert the image to RGB before saving as JPEG\n",
    "    rgb_image = resized_image.convert('RGB')\n",
    "\n",
    "    # Save the resized image with compression\n",
    "    rgb_image.save(output_path, quality=compression_quality)\n",
    "\n",
    "# Dataset path\n",
    "ds_path = r\"dataset/images\"\n",
    "\n",
    "# Count the number of subfolders in the dataset path to determine the number of classes\n",
    "class_folders = [f for f in os.listdir(ds_path) if os.path.isdir(os.path.join(ds_path, f))]\n",
    "num_classes = len(class_folders)\n",
    "\n",
    "print(\"Number of Classes: \", num_classes)\n",
    "print(\"Classes: \", class_folders)\n",
    "\n",
    "for folder in class_folders:\n",
    "    disease_folder = os.path.join(ds_path, folder)\n",
    "\n",
    "    print('Processing images in folder: ', folder)\n",
    "\n",
    "    # Create a folder for the processed images if it doesn't exist\n",
    "    output_folder = os.path.join('dataset/other images', f\"{folder}_processed\")\n",
    "    os.makedirs(output_folder, exist_ok=True)\n",
    "\n",
    "    for image_name in os.listdir(disease_folder):\n",
    "        input_image_path = os.path.join(disease_folder, image_name)\n",
    "        output_image_path = os.path.join(output_folder, image_name)\n",
    "\n",
    "        # Call the function to resize the image to 256 x 256 pixels and compress the image\n",
    "        resize_images(input_image_path, output_image_path, target_size=(256, 256))"
   ]
  },
  {
   "cell_type": "markdown",
   "metadata": {
    "id": "W62QS_j2kS93"
   },
   "source": [
    "# EDI-FEATURES\n"
   ]
  },
  {
   "cell_type": "code",
   "execution_count": null,
   "metadata": {
    "id": "ezJqQ5XxkXRX"
   },
   "outputs": [],
   "source": [
    "import os\n",
    "import cv2\n",
    "import numpy as np\n",
    "import pandas as pd\n",
    "from skimage.feature import graycomatrix, graycoprops"
   ]
  },
  {
   "cell_type": "code",
   "execution_count": null,
   "metadata": {
    "id": "aHfhJgcPlvNq"
   },
   "outputs": [],
   "source": [
    "ds_path = r\"dataset/images\"\n",
    "diseases= os.listdir(ds_path)"
   ]
  },
  {
   "cell_type": "code",
   "execution_count": null,
   "metadata": {
    "colab": {
     "base_uri": "https://localhost:8080/"
    },
    "id": "aeEDqxeFmkLM",
    "outputId": "01828314-680a-4165-c486-9277280b7a97"
   },
   "outputs": [],
   "source": [
    "diseases"
   ]
  },
  {
   "cell_type": "code",
   "execution_count": null,
   "metadata": {},
   "outputs": [],
   "source": [
    "from skimage import exposure\n",
    "from skimage.feature import hog\n",
    "from skimage.measure import regionprops\n",
    "from scipy import stats\n",
    "from skimage.measure import label\n",
    "\n",
    "# Set the dataset path\n",
    "ds_path = r\"dataset/images\"\n",
    "\n",
    "def features():\n",
    "    names = ['area', 'perimeter', 'physiological_length', 'physiological_width', 'aspect_ratio',\n",
    "             'mean_r', 'mean_g', 'mean_b', 'stddev_r', 'stddev_g', 'stddev_b',\n",
    "             'contrast', 'energy', 'homogeneity', 'correlation', 'dissimilarity',\n",
    "             'eccentricity', 'solidity', 'equiv_diameter', 'major_axis_length', 'minor_axis_length',\n",
    "             'skewness', 'kurtosis', 'hog_feature_1', 'hog_feature_2', 'hog_feature_3', 'types'\n",
    "            ]\n",
    "    df = pd.DataFrame(columns=names)\n",
    "\n",
    "    # Count the number of subfolders in the dataset path to determine the number of classes (labels)\n",
    "    class_folders = [f for f in os.listdir(ds_path) if os.path.isdir(os.path.join(ds_path, f))]\n",
    "    num_classes = len(class_folders)\n",
    "\n",
    "    print(\"Number of Classes: \", num_classes)\n",
    "    print(\"Classes: \", class_folders)\n",
    "\n",
    "    for folder in class_folders:\n",
    "        disease_folder = os.path.join(ds_path, folder)\n",
    "\n",
    "        print('Extracting features in folder: ', folder)\n",
    "        types = folder\n",
    "        index = 0\n",
    "        image_count = 0  # Counter for the number of images in the folder\n",
    "        \n",
    "        for image in os.listdir(disease_folder):\n",
    "            index = index + 1\n",
    "            image_count += 1  # Increment the counter for each image\n",
    "            imgpath = os.path.join(disease_folder, image)\n",
    "            main_img = cv2.imread(imgpath)\n",
    "\n",
    "            # Preprocessing\n",
    "            img = cv2.cvtColor(main_img, cv2.COLOR_BGR2RGB)\n",
    "            gs = cv2.cvtColor(img, cv2.COLOR_RGB2GRAY)\n",
    "            blur = cv2.GaussianBlur(gs, (25, 25), 0)\n",
    "            ret, thresh = cv2.threshold(blur, 0, 255, cv2.THRESH_BINARY_INV + cv2.THRESH_OTSU)\n",
    "            kernel = np.ones((50, 50), np.uint8)\n",
    "            closing = cv2.morphologyEx(thresh, cv2.MORPH_CLOSE, kernel)\n",
    "\n",
    "            # Shape features\n",
    "            contours, _ = cv2.findContours(closing, cv2.RETR_TREE, cv2.CHAIN_APPROX_SIMPLE)\n",
    "            cnt = contours[0]\n",
    "            area = cv2.contourArea(cnt)\n",
    "            perimeter = cv2.arcLength(cnt, True)\n",
    "            x, y, w, h = cv2.boundingRect(cnt)\n",
    "            aspect_ratio = float(w) / h\n",
    "\n",
    "            # Color features\n",
    "            red_channel = img[:, :, 0]\n",
    "            green_channel = img[:, :, 1]\n",
    "            blue_channel = img[:, :, 2]\n",
    "\n",
    "            red_mean = np.mean(red_channel)\n",
    "            green_mean = np.mean(green_channel)\n",
    "            blue_mean = np.mean(blue_channel)\n",
    "\n",
    "            # Std deviation\n",
    "            red_std = np.std(red_channel)\n",
    "            green_std = np.std(green_channel)\n",
    "            blue_std = np.std(blue_channel)\n",
    "\n",
    "            # Texture features using GLCM matrix\n",
    "            glcm = graycomatrix(gs,\n",
    "                                distances=[1],\n",
    "                                angles=[0],\n",
    "                                symmetric=True,\n",
    "                                normed=True)\n",
    "\n",
    "            properties = ['contrast', 'energy', 'homogeneity', 'correlation', 'dissimilarity']\n",
    "            contrast = graycoprops(glcm, properties[0])\n",
    "            energy = graycoprops(glcm, properties[1])\n",
    "            homogeneity = graycoprops(glcm, properties[2])\n",
    "            correlation = graycoprops(glcm, properties[3])\n",
    "            dissimilarity = graycoprops(glcm, properties[4])\n",
    "\n",
    "            # Statistical moments\n",
    "            skewness = stats.skew(gs.flatten())\n",
    "            kurtosis = stats.kurtosis(gs.flatten())\n",
    "\n",
    "            # Additional features\n",
    "            labeled_img = label(closing)\n",
    "            regions = regionprops(labeled_img)\n",
    "\n",
    "            eccentricity = regions[0].eccentricity\n",
    "            solidity = regions[0].solidity\n",
    "            equiv_diameter = regions[0].equivalent_diameter\n",
    "            major_axis_length = regions[0].major_axis_length\n",
    "            minor_axis_length = regions[0].minor_axis_length\n",
    "\n",
    "            # HOG features\n",
    "            hog_features = hog(gs, orientations=8, pixels_per_cell=(8, 8), cells_per_block=(1, 1), block_norm='L2-Hys')\n",
    "\n",
    "            vector = [area, perimeter, w, h, aspect_ratio,\n",
    "                      red_mean, green_mean, blue_mean, red_std, green_std, blue_std,\n",
    "                      contrast[0][0], energy[0][0], homogeneity[0][0], correlation[0][0], dissimilarity[0][0],\n",
    "                      eccentricity, solidity, equiv_diameter, major_axis_length, minor_axis_length,\n",
    "                      skewness, kurtosis, hog_features[0], hog_features[1], hog_features[2], types]\n",
    "\n",
    "            df_temp = pd.DataFrame([vector], columns=names)\n",
    "            df = pd.concat([df, df_temp], ignore_index=True)\n",
    "\n",
    "        print(f\"Number of images in folder '{folder}': {image_count}\")\n",
    "\n",
    "    return df"
   ]
  },
  {
   "cell_type": "code",
   "execution_count": null,
   "metadata": {
    "colab": {
     "base_uri": "https://localhost:8080/"
    },
    "id": "-lFnHs23qIEm",
    "outputId": "2357cf1b-5b79-4cf6-8c79-5797b8f93668"
   },
   "outputs": [],
   "source": [
    "# Call the function to create the feature dataframe\n",
    "feature_df = features()\n",
    "\n",
    "# Save the resulting dataframe to a CSV file\n",
    "feature_df.to_csv(\"dataset/csv/image_features.csv\", index=False)"
   ]
  },
  {
   "cell_type": "code",
   "execution_count": null,
   "metadata": {
    "colab": {
     "base_uri": "https://localhost:8080/",
     "height": 226
    },
    "id": "LstkxK4PqyIT",
    "outputId": "0fb50158-f798-48a8-ebdd-55091489d77b"
   },
   "outputs": [],
   "source": [
    "feature_df.head()"
   ]
  },
  {
   "cell_type": "markdown",
   "metadata": {
    "id": "ILev7gnvs0Js"
   },
   "source": [
    "# PCA"
   ]
  },
  {
   "cell_type": "markdown",
   "metadata": {},
   "source": [
    "## Components"
   ]
  },
  {
   "cell_type": "code",
   "execution_count": 275,
   "metadata": {},
   "outputs": [],
   "source": [
    "import pandas as pd\n",
    "from sklearn.decomposition import PCA"
   ]
  },
  {
   "cell_type": "code",
   "execution_count": 276,
   "metadata": {},
   "outputs": [],
   "source": [
    "df = pd.read_csv(\"dataset/csv/image_features.csv\")"
   ]
  },
  {
   "cell_type": "code",
   "execution_count": 277,
   "metadata": {},
   "outputs": [],
   "source": [
    "# Assuming df is your DataFrame with the features\n",
    "X = df.drop('types', axis=1)\n",
    "pca = PCA()\n",
    "X_pca = pca.fit_transform(X)"
   ]
  },
  {
   "cell_type": "code",
   "execution_count": 278,
   "metadata": {},
   "outputs": [
    {
     "data": {
      "image/png": "[encoded data removed]",
      "text/plain": [
       "<Figure size 640x480 with 1 Axes>"
      ]
     },
     "metadata": {},
     "output_type": "display_data"
    }
   ],
   "source": [
    "import matplotlib.pyplot as plt\n",
    "\n",
    "explained_variance_ratio = pca.explained_variance_ratio_\n",
    "cumulative_explained_variance = explained_variance_ratio.cumsum()\n",
    "\n",
    "plt.plot(cumulative_explained_variance, marker='o')\n",
    "plt.xlabel('Number of Components')\n",
    "plt.ylabel('Cumulative Explained Variance')\n",
    "plt.show()"
   ]
  },
  {
   "cell_type": "markdown",
   "metadata": {},
   "source": [
    "## Training"
   ]
  },
  {
   "cell_type": "code",
   "execution_count": 279,
   "metadata": {
    "id": "w04RPlfUr_CR"
   },
   "outputs": [],
   "source": [
    "import pandas as pd"
   ]
  },
  {
   "cell_type": "code",
   "execution_count": 280,
   "metadata": {
    "id": "8GeQkN7Js7JT"
   },
   "outputs": [],
   "source": [
    "data=pd.read_csv(\"dataset/csv/image_features.csv\")"
   ]
  },
  {
   "cell_type": "code",
   "execution_count": 281,
   "metadata": {
    "id": "2Nuk3yoktC6A"
   },
   "outputs": [],
   "source": [
    "types = data[\"types\"]"
   ]
  },
  {
   "cell_type": "code",
   "execution_count": 282,
   "metadata": {
    "colab": {
     "base_uri": "https://localhost:8080/"
    },
    "id": "I834En5CU_li",
    "outputId": "2fcd799f-6675-48d6-a265-ce7d7fe64441"
   },
   "outputs": [
    {
     "data": {
      "text/plain": [
       "array(['Brown Spot', 'Healthy', 'Hispa', 'Leaf Blast'], dtype=object)"
      ]
     },
     "execution_count": 282,
     "metadata": {},
     "output_type": "execute_result"
    }
   ],
   "source": [
    "types_labels = types.unique()\n",
    "types_labels"
   ]
  },
  {
   "cell_type": "code",
   "execution_count": 283,
   "metadata": {},
   "outputs": [],
   "source": [
    "data = data.drop('types', axis=1)"
   ]
  },
  {
   "cell_type": "code",
   "execution_count": 284,
   "metadata": {
    "colab": {
     "base_uri": "https://localhost:8080/",
     "height": 226
    },
    "id": "i86kptKJtDX4",
    "outputId": "157bbbaf-8f25-4d30-e81a-7429653ccabe"
   },
   "outputs": [
    {
     "data": {
      "text/html": [
       "<div>\n",
       "<style scoped>\n",
       "    .dataframe tbody tr th:only-of-type {\n",
       "        vertical-align: middle;\n",
       "    }\n",
       "\n",
       "    .dataframe tbody tr th {\n",
       "        vertical-align: top;\n",
       "    }\n",
       "\n",
       "    .dataframe thead th {\n",
       "        text-align: right;\n",
       "    }\n",
       "</style>\n",
       "<table border=\"1\" class=\"dataframe\">\n",
       "  <thead>\n",
       "    <tr style=\"text-align: right;\">\n",
       "      <th></th>\n",
       "      <th>area</th>\n",
       "      <th>perimeter</th>\n",
       "      <th>physiological_length</th>\n",
       "      <th>physiological_width</th>\n",
       "      <th>aspect_ratio</th>\n",
       "      <th>mean_r</th>\n",
       "      <th>mean_g</th>\n",
       "      <th>mean_b</th>\n",
       "      <th>stddev_r</th>\n",
       "      <th>stddev_g</th>\n",
       "      <th>...</th>\n",
       "      <th>eccentricity</th>\n",
       "      <th>solidity</th>\n",
       "      <th>equiv_diameter</th>\n",
       "      <th>major_axis_length</th>\n",
       "      <th>minor_axis_length</th>\n",
       "      <th>skewness</th>\n",
       "      <th>kurtosis</th>\n",
       "      <th>hog_feature_1</th>\n",
       "      <th>hog_feature_2</th>\n",
       "      <th>hog_feature_3</th>\n",
       "    </tr>\n",
       "  </thead>\n",
       "  <tbody>\n",
       "    <tr>\n",
       "      <th>0</th>\n",
       "      <td>14049.5</td>\n",
       "      <td>753.771640</td>\n",
       "      <td>256</td>\n",
       "      <td>180</td>\n",
       "      <td>1.422222</td>\n",
       "      <td>195.356491</td>\n",
       "      <td>193.188477</td>\n",
       "      <td>173.866684</td>\n",
       "      <td>57.801957</td>\n",
       "      <td>54.846472</td>\n",
       "      <td>...</td>\n",
       "      <td>0.980841</td>\n",
       "      <td>0.727498</td>\n",
       "      <td>135.344366</td>\n",
       "      <td>336.008725</td>\n",
       "      <td>65.457394</td>\n",
       "      <td>-1.352988</td>\n",
       "      <td>0.360472</td>\n",
       "      <td>0.493893</td>\n",
       "      <td>0.000000</td>\n",
       "      <td>0.493893</td>\n",
       "    </tr>\n",
       "    <tr>\n",
       "      <th>1</th>\n",
       "      <td>13805.0</td>\n",
       "      <td>792.014281</td>\n",
       "      <td>256</td>\n",
       "      <td>200</td>\n",
       "      <td>1.280000</td>\n",
       "      <td>200.662338</td>\n",
       "      <td>198.051041</td>\n",
       "      <td>178.386719</td>\n",
       "      <td>57.235747</td>\n",
       "      <td>54.263450</td>\n",
       "      <td>...</td>\n",
       "      <td>0.978341</td>\n",
       "      <td>0.652912</td>\n",
       "      <td>134.277121</td>\n",
       "      <td>343.562496</td>\n",
       "      <td>71.117701</td>\n",
       "      <td>-1.384606</td>\n",
       "      <td>0.468078</td>\n",
       "      <td>0.459489</td>\n",
       "      <td>0.171887</td>\n",
       "      <td>0.459489</td>\n",
       "    </tr>\n",
       "    <tr>\n",
       "      <th>2</th>\n",
       "      <td>12431.5</td>\n",
       "      <td>801.144223</td>\n",
       "      <td>256</td>\n",
       "      <td>194</td>\n",
       "      <td>1.319588</td>\n",
       "      <td>193.234619</td>\n",
       "      <td>193.271225</td>\n",
       "      <td>174.525177</td>\n",
       "      <td>54.179850</td>\n",
       "      <td>50.689688</td>\n",
       "      <td>...</td>\n",
       "      <td>0.980002</td>\n",
       "      <td>0.597163</td>\n",
       "      <td>127.641581</td>\n",
       "      <td>331.044402</td>\n",
       "      <td>65.873451</td>\n",
       "      <td>-1.468645</td>\n",
       "      <td>0.797281</td>\n",
       "      <td>0.404208</td>\n",
       "      <td>0.404208</td>\n",
       "      <td>0.404208</td>\n",
       "    </tr>\n",
       "    <tr>\n",
       "      <th>3</th>\n",
       "      <td>16047.0</td>\n",
       "      <td>718.073156</td>\n",
       "      <td>256</td>\n",
       "      <td>156</td>\n",
       "      <td>1.641026</td>\n",
       "      <td>187.566559</td>\n",
       "      <td>187.361069</td>\n",
       "      <td>163.893509</td>\n",
       "      <td>60.020390</td>\n",
       "      <td>55.643638</td>\n",
       "      <td>...</td>\n",
       "      <td>0.975372</td>\n",
       "      <td>0.909247</td>\n",
       "      <td>144.375222</td>\n",
       "      <td>316.407417</td>\n",
       "      <td>69.788399</td>\n",
       "      <td>-1.175699</td>\n",
       "      <td>-0.235089</td>\n",
       "      <td>0.481803</td>\n",
       "      <td>0.331490</td>\n",
       "      <td>0.353444</td>\n",
       "    </tr>\n",
       "    <tr>\n",
       "      <th>4</th>\n",
       "      <td>17480.5</td>\n",
       "      <td>753.511754</td>\n",
       "      <td>191</td>\n",
       "      <td>256</td>\n",
       "      <td>0.746094</td>\n",
       "      <td>185.360886</td>\n",
       "      <td>184.456284</td>\n",
       "      <td>162.692047</td>\n",
       "      <td>62.770007</td>\n",
       "      <td>60.910052</td>\n",
       "      <td>...</td>\n",
       "      <td>0.976575</td>\n",
       "      <td>0.887925</td>\n",
       "      <td>150.586840</td>\n",
       "      <td>333.742677</td>\n",
       "      <td>71.814581</td>\n",
       "      <td>-1.143965</td>\n",
       "      <td>-0.338682</td>\n",
       "      <td>0.413866</td>\n",
       "      <td>0.413866</td>\n",
       "      <td>0.413866</td>\n",
       "    </tr>\n",
       "  </tbody>\n",
       "</table>\n",
       "<p>5 rows × 26 columns</p>\n",
       "</div>"
      ],
      "text/plain": [
       "      area   perimeter  physiological_length  physiological_width  \\\n",
       "0  14049.5  753.771640                   256                  180   \n",
       "1  13805.0  792.014281                   256                  200   \n",
       "2  12431.5  801.144223                   256                  194   \n",
       "3  16047.0  718.073156                   256                  156   \n",
       "4  17480.5  753.511754                   191                  256   \n",
       "\n",
       "   aspect_ratio      mean_r      mean_g      mean_b   stddev_r   stddev_g  \\\n",
       "0      1.422222  195.356491  193.188477  173.866684  57.801957  54.846472   \n",
       "1      1.280000  200.662338  198.051041  178.386719  57.235747  54.263450   \n",
       "2      1.319588  193.234619  193.271225  174.525177  54.179850  50.689688   \n",
       "3      1.641026  187.566559  187.361069  163.893509  60.020390  55.643638   \n",
       "4      0.746094  185.360886  184.456284  162.692047  62.770007  60.910052   \n",
       "\n",
       "   ...  eccentricity  solidity  equiv_diameter  major_axis_length  \\\n",
       "0  ...      0.980841  0.727498      135.344366         336.008725   \n",
       "1  ...      0.978341  0.652912      134.277121         343.562496   \n",
       "2  ...      0.980002  0.597163      127.641581         331.044402   \n",
       "3  ...      0.975372  0.909247      144.375222         316.407417   \n",
       "4  ...      0.976575  0.887925      150.586840         333.742677   \n",
       "\n",
       "   minor_axis_length  skewness  kurtosis  hog_feature_1  hog_feature_2  \\\n",
       "0          65.457394 -1.352988  0.360472       0.493893       0.000000   \n",
       "1          71.117701 -1.384606  0.468078       0.459489       0.171887   \n",
       "2          65.873451 -1.468645  0.797281       0.404208       0.404208   \n",
       "3          69.788399 -1.175699 -0.235089       0.481803       0.331490   \n",
       "4          71.814581 -1.143965 -0.338682       0.413866       0.413866   \n",
       "\n",
       "   hog_feature_3  \n",
       "0       0.493893  \n",
       "1       0.459489  \n",
       "2       0.404208  \n",
       "3       0.353444  \n",
       "4       0.413866  \n",
       "\n",
       "[5 rows x 26 columns]"
      ]
     },
     "execution_count": 284,
     "metadata": {},
     "output_type": "execute_result"
    }
   ],
   "source": [
    "data.head()"
   ]
  },
  {
   "cell_type": "code",
   "execution_count": 285,
   "metadata": {
    "colab": {
     "base_uri": "https://localhost:8080/",
     "height": 75
    },
    "id": "gzoEnjdztFV_",
    "outputId": "3b2f80c4-077e-4a7c-92e4-fc7c69ac38e8"
   },
   "outputs": [
    {
     "data": {
      "text/html": [
       "<style>#sk-container-id-11 {color: black;}#sk-container-id-11 pre{padding: 0;}#sk-container-id-11 div.sk-toggleable {background-color: white;}#sk-container-id-11 label.sk-toggleable__label {cursor: pointer;display: block;width: 100%;margin-bottom: 0;padding: 0.3em;box-sizing: border-box;text-align: center;}#sk-container-id-11 label.sk-toggleable__label-arrow:before {content: \"▸\";float: left;margin-right: 0.25em;color: #696969;}#sk-container-id-11 label.sk-toggleable__label-arrow:hover:before {color: black;}#sk-container-id-11 div.sk-estimator:hover label.sk-toggleable__label-arrow:before {color: black;}#sk-container-id-11 div.sk-toggleable__content {max-height: 0;max-width: 0;overflow: hidden;text-align: left;background-color: #f0f8ff;}#sk-container-id-11 div.sk-toggleable__content pre {margin: 0.2em;color: black;border-radius: 0.25em;background-color: #f0f8ff;}#sk-container-id-11 input.sk-toggleable__control:checked~div.sk-toggleable__content {max-height: 200px;max-width: 100%;overflow: auto;}#sk-container-id-11 input.sk-toggleable__control:checked~label.sk-toggleable__label-arrow:before {content: \"▾\";}#sk-container-id-11 div.sk-estimator input.sk-toggleable__control:checked~label.sk-toggleable__label {background-color: #d4ebff;}#sk-container-id-11 div.sk-label input.sk-toggleable__control:checked~label.sk-toggleable__label {background-color: #d4ebff;}#sk-container-id-11 input.sk-hidden--visually {border: 0;clip: rect(1px 1px 1px 1px);clip: rect(1px, 1px, 1px, 1px);height: 1px;margin: -1px;overflow: hidden;padding: 0;position: absolute;width: 1px;}#sk-container-id-11 div.sk-estimator {font-family: monospace;background-color: #f0f8ff;border: 1px dotted black;border-radius: 0.25em;box-sizing: border-box;margin-bottom: 0.5em;}#sk-container-id-11 div.sk-estimator:hover {background-color: #d4ebff;}#sk-container-id-11 div.sk-parallel-item::after {content: \"\";width: 100%;border-bottom: 1px solid gray;flex-grow: 1;}#sk-container-id-11 div.sk-label:hover label.sk-toggleable__label {background-color: #d4ebff;}#sk-container-id-11 div.sk-serial::before {content: \"\";position: absolute;border-left: 1px solid gray;box-sizing: border-box;top: 0;bottom: 0;left: 50%;z-index: 0;}#sk-container-id-11 div.sk-serial {display: flex;flex-direction: column;align-items: center;background-color: white;padding-right: 0.2em;padding-left: 0.2em;position: relative;}#sk-container-id-11 div.sk-item {position: relative;z-index: 1;}#sk-container-id-11 div.sk-parallel {display: flex;align-items: stretch;justify-content: center;background-color: white;position: relative;}#sk-container-id-11 div.sk-item::before, #sk-container-id-11 div.sk-parallel-item::before {content: \"\";position: absolute;border-left: 1px solid gray;box-sizing: border-box;top: 0;bottom: 0;left: 50%;z-index: -1;}#sk-container-id-11 div.sk-parallel-item {display: flex;flex-direction: column;z-index: 1;position: relative;background-color: white;}#sk-container-id-11 div.sk-parallel-item:first-child::after {align-self: flex-end;width: 50%;}#sk-container-id-11 div.sk-parallel-item:last-child::after {align-self: flex-start;width: 50%;}#sk-container-id-11 div.sk-parallel-item:only-child::after {width: 0;}#sk-container-id-11 div.sk-dashed-wrapped {border: 1px dashed gray;margin: 0 0.4em 0.5em 0.4em;box-sizing: border-box;padding-bottom: 0.4em;background-color: white;}#sk-container-id-11 div.sk-label label {font-family: monospace;font-weight: bold;display: inline-block;line-height: 1.2em;}#sk-container-id-11 div.sk-label-container {text-align: center;}#sk-container-id-11 div.sk-container {/* jupyter's `normalize.less` sets `[hidden] { display: none; }` but bootstrap.min.css set `[hidden] { display: none !important; }` so we also need the `!important` here to be able to override the default hidden behavior on the sphinx rendered scikit-learn.org. See: https://github.com/scikit-learn/scikit-learn/issues/21755 */display: inline-block !important;position: relative;}#sk-container-id-11 div.sk-text-repr-fallback {display: none;}</style><div id=\"sk-container-id-11\" class=\"sk-top-container\"><div class=\"sk-text-repr-fallback\"><pre>PCA(n_components=20)</pre><b>In a Jupyter environment, please rerun this cell to show the HTML representation or trust the notebook. <br />On GitHub, the HTML representation is unable to render, please try loading this page with nbviewer.org.</b></div><div class=\"sk-container\" hidden><div class=\"sk-item\"><div class=\"sk-estimator sk-toggleable\"><input class=\"sk-toggleable__control sk-hidden--visually\" id=\"sk-estimator-id-11\" type=\"checkbox\" checked><label for=\"sk-estimator-id-11\" class=\"sk-toggleable__label sk-toggleable__label-arrow\">PCA</label><div class=\"sk-toggleable__content\"><pre>PCA(n_components=20)</pre></div></div></div></div></div>"
      ],
      "text/plain": [
       "PCA(n_components=20)"
      ]
     },
     "execution_count": 285,
     "metadata": {},
     "output_type": "execute_result"
    }
   ],
   "source": [
    "from sklearn.decomposition import PCA\n",
    "pca = PCA(n_components = 20)\n",
    "pca.fit(data)"
   ]
  },
  {
   "cell_type": "code",
   "execution_count": 286,
   "metadata": {
    "colab": {
     "base_uri": "https://localhost:8080/"
    },
    "id": "6arhkPO72oMY",
    "outputId": "1257ba22-75e2-4c74-9ced-ca1da37694a5"
   },
   "outputs": [
    {
     "name": "stdout",
     "output_type": "stream",
     "text": [
      "            area  perimeter  physiological_length  physiological_width  \\\n",
      "0   9.998917e-01   0.011752              0.003089             0.003563   \n",
      "1   1.139860e-02  -0.746847             -0.531912            -0.122051   \n",
      "2   3.495256e-03  -0.223767              0.558477            -0.748783   \n",
      "3  -1.955121e-03   0.412353              0.019849             0.048502   \n",
      "4   1.047767e-03  -0.011303              0.165187            -0.160006   \n",
      "5  -3.081202e-03   0.007437              0.030058             0.115854   \n",
      "6  -5.157241e-03   0.398926             -0.472409            -0.453951   \n",
      "7   3.440741e-04   0.032282             -0.062070            -0.086958   \n",
      "8   2.820081e-03  -0.079338              0.019115             0.106441   \n",
      "9   4.334944e-03   0.209451             -0.380027            -0.390652   \n",
      "10  2.245134e-03  -0.070704              0.045854             0.041220   \n",
      "11  1.171256e-03  -0.078201              0.047236             0.049692   \n",
      "12 -4.876296e-05  -0.000492              0.003964             0.005559   \n",
      "13 -1.227662e-04   0.009802             -0.011938            -0.011585   \n",
      "14 -1.279824e-04   0.014098             -0.012368            -0.011610   \n",
      "15 -1.997354e-04  -0.004950              0.010688             0.030924   \n",
      "16 -1.278024e-06   0.002034             -0.002413            -0.005905   \n",
      "17 -3.835213e-05   0.001139             -0.000571            -0.000667   \n",
      "18 -1.495273e-05   0.000304             -0.000095            -0.000148   \n",
      "19 -3.233786e-07   0.000031             -0.000051             0.000129   \n",
      "\n",
      "    aspect_ratio    mean_r    mean_g    mean_b  stddev_r  stddev_g  ...  \\\n",
      "0      -0.000050 -0.001371 -0.001372 -0.002758  0.000847  0.000877  ...   \n",
      "1       0.000577  0.026661  0.019495 -0.021173 -0.009032 -0.005179  ...   \n",
      "2       0.013162  0.008703  0.008070 -0.007516 -0.007573 -0.005763  ...   \n",
      "3      -0.004478  0.119954  0.107272  0.058768 -0.077795 -0.069681  ...   \n",
      "4       0.005396 -0.212165 -0.157415  0.072540  0.158047  0.132568  ...   \n",
      "5      -0.005664 -0.490051 -0.494221 -0.569038  0.222054  0.146746  ...   \n",
      "6       0.008340 -0.108916 -0.078864  0.092837  0.241377  0.192328  ...   \n",
      "7       0.008212 -0.312141 -0.327425  0.079914 -0.514881 -0.432818  ...   \n",
      "8      -0.004830 -0.394735 -0.174684  0.788749  0.154269  0.138303  ...   \n",
      "9       0.040112  0.056038  0.011565 -0.084120 -0.075441 -0.077129  ...   \n",
      "10      0.013499  0.166992  0.061791 -0.022951  0.446670  0.264683  ...   \n",
      "11      0.010296 -0.025723  0.040123 -0.053549 -0.091836 -0.036017  ...   \n",
      "12      0.008085  0.358806 -0.431734  0.053984 -0.488319  0.663969  ...   \n",
      "13      0.002708 -0.520074  0.613945 -0.118373 -0.345230  0.440131  ...   \n",
      "14     -0.021658 -0.059808  0.074815 -0.045919 -0.023954  0.019019  ...   \n",
      "15      0.998286 -0.006646  0.003032  0.001970  0.005900 -0.004095  ...   \n",
      "16     -0.019520  0.000047  0.022538 -0.017715  0.020506 -0.015750  ...   \n",
      "17     -0.001103  0.001884 -0.006550  0.001616 -0.002439  0.001131  ...   \n",
      "18      0.000146  0.000561 -0.001159 -0.000054 -0.004140  0.004374  ...   \n",
      "19      0.002948  0.001276 -0.001552 -0.000169 -0.002495  0.001013  ...   \n",
      "\n",
      "    eccentricity  solidity  equiv_diameter  major_axis_length  \\\n",
      "0      -0.000003  0.000002        0.004703           0.001636   \n",
      "1      -0.000056  0.001213       -0.007214          -0.376089   \n",
      "2      -0.000015  0.000384        0.009130          -0.091721   \n",
      "3      -0.000206  0.000789       -0.225033          -0.840501   \n",
      "4      -0.000049  0.000315       -0.093298          -0.222943   \n",
      "5       0.000097  0.000251       -0.068797          -0.131249   \n",
      "6      -0.000499  0.000004        0.232154           0.033495   \n",
      "7      -0.000481 -0.001135       -0.028854           0.047839   \n",
      "8       0.000150 -0.000099       -0.151658           0.004053   \n",
      "9       0.000453  0.002226       -0.457226           0.218076   \n",
      "10     -0.000629 -0.002956       -0.317227           0.088103   \n",
      "11     -0.001694 -0.008791       -0.736382           0.132964   \n",
      "12     -0.000169  0.001112       -0.014005          -0.003563   \n",
      "13     -0.000223  0.000499        0.001809           0.005178   \n",
      "14      0.000816  0.000433        0.070323          -0.009755   \n",
      "15      0.000573 -0.000879        0.028438          -0.014054   \n",
      "16      0.002865 -0.010842       -0.004852           0.001003   \n",
      "17      0.005377 -0.016295        0.005360          -0.002278   \n",
      "18      0.002519 -0.021347        0.002965          -0.000614   \n",
      "19      0.001137 -0.025565       -0.000791          -0.000427   \n",
      "\n",
      "    minor_axis_length  skewness  kurtosis  hog_feature_1  hog_feature_2  \\\n",
      "0            0.003909  0.000107 -0.000390      -0.000001      -0.000003   \n",
      "1            0.031230  0.000441 -0.000207       0.000133       0.000138   \n",
      "2            0.012896  0.000342 -0.001478       0.000057      -0.000129   \n",
      "3           -0.012207 -0.001836  0.009557       0.000479       0.000521   \n",
      "4           -0.061867 -0.001177  0.004167      -0.000503       0.000926   \n",
      "5           -0.115277  0.004597 -0.020945       0.000052       0.000711   \n",
      "6            0.474470  0.000937 -0.018327      -0.000692       0.001123   \n",
      "7            0.231854 -0.010003  0.061655      -0.000239       0.000993   \n",
      "8           -0.184560 -0.006435  0.025853      -0.001360       0.001194   \n",
      "9           -0.615031 -0.000612  0.001200       0.001021      -0.000956   \n",
      "10           0.142007 -0.018443  0.108971      -0.000704      -0.002969   \n",
      "11           0.518374  0.003940  0.031381       0.000696      -0.001255   \n",
      "12          -0.003095 -0.006967  0.033649       0.001274       0.001759   \n",
      "13          -0.010160  0.020940 -0.086751       0.001409      -0.004376   \n",
      "14          -0.035079 -0.161827  0.972278      -0.010682      -0.003071   \n",
      "15           0.009343  0.008702  0.021213       0.001795       0.000446   \n",
      "16          -0.000277 -0.036371  0.007766      -0.032700       0.036456   \n",
      "17          -0.000719  0.017727  0.000736       0.156807      -0.717690   \n",
      "18          -0.000867  0.012300  0.000009      -0.097055       0.670900   \n",
      "19          -0.000173 -0.018995 -0.014949      -0.981268      -0.182414   \n",
      "\n",
      "    hog_feature_3  \n",
      "0       -0.000006  \n",
      "1        0.000208  \n",
      "2        0.000314  \n",
      "3        0.000652  \n",
      "4       -0.000091  \n",
      "5        0.000818  \n",
      "6        0.001651  \n",
      "7        0.000927  \n",
      "8       -0.000835  \n",
      "9       -0.001528  \n",
      "10      -0.003121  \n",
      "11      -0.004846  \n",
      "12       0.006133  \n",
      "13      -0.000454  \n",
      "14      -0.002326  \n",
      "15      -0.001330  \n",
      "16      -0.052401  \n",
      "17      -0.677938  \n",
      "18      -0.731498  \n",
      "19      -0.033581  \n",
      "\n",
      "[20 rows x 26 columns]\n"
     ]
    }
   ],
   "source": [
    "# Access the loadings of the first three principal components\n",
    "loadings = pca.components_[:20]\n",
    "\n",
    "# Map the loadings to the original feature names\n",
    "original_feature_names = data.columns\n",
    "component_loadings = pd.DataFrame(loadings, columns=original_feature_names)\n",
    "\n",
    "# Display the loadings for the first three components\n",
    "print(component_loadings)"
   ]
  },
  {
   "cell_type": "code",
   "execution_count": 287,
   "metadata": {
    "id": "UaHR4IkytIvE"
   },
   "outputs": [],
   "source": [
    "data2=pca.transform(data)"
   ]
  },
  {
   "cell_type": "code",
   "execution_count": 288,
   "metadata": {
    "colab": {
     "base_uri": "https://localhost:8080/"
    },
    "id": "0IHMWBmYtJ-h",
    "outputId": "a1eb4ea5-2873-4bbd-f5aa-023dd3a1da5e"
   },
   "outputs": [
    {
     "data": {
      "text/plain": [
       "array([[ 1.39222298e+03, -3.04655942e+01,  5.80065654e+01, ...,\n",
       "         6.82076522e-02, -1.83627970e-01, -4.45289122e-03],\n",
       "       [ 1.14827189e+03, -6.67908975e+01,  3.24576316e+01, ...,\n",
       "        -3.70028113e-02, -4.96711306e-02, -3.33970999e-03],\n",
       "       [-2.25051307e+02, -8.40507381e+01,  3.19452410e+01, ...,\n",
       "        -1.03767257e-01,  1.77666865e-01,  2.43493819e-02],\n",
       "       ...,\n",
       "       [ 2.75987215e+03, -3.73197821e+01,  2.47980352e+01, ...,\n",
       "         1.01450383e-02, -1.96247916e-01, -2.83299453e-02],\n",
       "       [-3.74841345e+02, -6.75534423e+01, -5.93950544e+01, ...,\n",
       "        -2.39240325e-01,  9.77687241e-02, -5.56214351e-02],\n",
       "       [ 9.55451919e+03, -3.29607509e+01, -3.61212124e-01, ...,\n",
       "        -1.29000904e-02,  2.01058340e-01, -3.63860082e-02]])"
      ]
     },
     "execution_count": 288,
     "metadata": {},
     "output_type": "execute_result"
    }
   ],
   "source": [
    "data2"
   ]
  },
  {
   "cell_type": "code",
   "execution_count": 289,
   "metadata": {
    "id": "UHS50kqEtLbe"
   },
   "outputs": [],
   "source": [
    "data2=pd.DataFrame(data2)\n",
    "data2 = data2.join(types)"
   ]
  },
  {
   "cell_type": "code",
   "execution_count": 290,
   "metadata": {
    "colab": {
     "base_uri": "https://localhost:8080/",
     "height": 424
    },
    "id": "g5P9nKYutNHi",
    "outputId": "288bd27e-f408-49a0-8007-454a22831014"
   },
   "outputs": [
    {
     "data": {
      "text/html": [
       "<div>\n",
       "<style scoped>\n",
       "    .dataframe tbody tr th:only-of-type {\n",
       "        vertical-align: middle;\n",
       "    }\n",
       "\n",
       "    .dataframe tbody tr th {\n",
       "        vertical-align: top;\n",
       "    }\n",
       "\n",
       "    .dataframe thead th {\n",
       "        text-align: right;\n",
       "    }\n",
       "</style>\n",
       "<table border=\"1\" class=\"dataframe\">\n",
       "  <thead>\n",
       "    <tr style=\"text-align: right;\">\n",
       "      <th></th>\n",
       "      <th>0</th>\n",
       "      <th>1</th>\n",
       "      <th>2</th>\n",
       "      <th>3</th>\n",
       "      <th>4</th>\n",
       "      <th>5</th>\n",
       "      <th>6</th>\n",
       "      <th>7</th>\n",
       "      <th>8</th>\n",
       "      <th>9</th>\n",
       "      <th>...</th>\n",
       "      <th>11</th>\n",
       "      <th>12</th>\n",
       "      <th>13</th>\n",
       "      <th>14</th>\n",
       "      <th>15</th>\n",
       "      <th>16</th>\n",
       "      <th>17</th>\n",
       "      <th>18</th>\n",
       "      <th>19</th>\n",
       "      <th>types</th>\n",
       "    </tr>\n",
       "  </thead>\n",
       "  <tbody>\n",
       "    <tr>\n",
       "      <th>0</th>\n",
       "      <td>1392.222976</td>\n",
       "      <td>-30.465594</td>\n",
       "      <td>58.006565</td>\n",
       "      <td>8.454653</td>\n",
       "      <td>-10.243632</td>\n",
       "      <td>22.528641</td>\n",
       "      <td>10.664298</td>\n",
       "      <td>-5.141887</td>\n",
       "      <td>-6.030324</td>\n",
       "      <td>-3.448514</td>\n",
       "      <td>...</td>\n",
       "      <td>-1.118840</td>\n",
       "      <td>1.956255</td>\n",
       "      <td>0.168599</td>\n",
       "      <td>-0.180043</td>\n",
       "      <td>-0.334456</td>\n",
       "      <td>-0.184609</td>\n",
       "      <td>0.068208</td>\n",
       "      <td>-0.183628</td>\n",
       "      <td>-0.004453</td>\n",
       "      <td>Brown Spot</td>\n",
       "    </tr>\n",
       "    <tr>\n",
       "      <th>1</th>\n",
       "      <td>1148.271894</td>\n",
       "      <td>-66.790898</td>\n",
       "      <td>32.457632</td>\n",
       "      <td>20.609686</td>\n",
       "      <td>-15.783026</td>\n",
       "      <td>15.966939</td>\n",
       "      <td>19.936396</td>\n",
       "      <td>-6.485776</td>\n",
       "      <td>-8.567481</td>\n",
       "      <td>-5.578424</td>\n",
       "      <td>...</td>\n",
       "      <td>1.414006</td>\n",
       "      <td>1.949828</td>\n",
       "      <td>-0.134295</td>\n",
       "      <td>-0.192176</td>\n",
       "      <td>-0.095220</td>\n",
       "      <td>-0.080726</td>\n",
       "      <td>-0.037003</td>\n",
       "      <td>-0.049671</td>\n",
       "      <td>-0.003340</td>\n",
       "      <td>Brown Spot</td>\n",
       "    </tr>\n",
       "    <tr>\n",
       "      <th>2</th>\n",
       "      <td>-225.051307</td>\n",
       "      <td>-84.050738</td>\n",
       "      <td>31.945241</td>\n",
       "      <td>38.623903</td>\n",
       "      <td>-14.798646</td>\n",
       "      <td>29.842448</td>\n",
       "      <td>28.057836</td>\n",
       "      <td>1.426965</td>\n",
       "      <td>-11.617358</td>\n",
       "      <td>-3.342117</td>\n",
       "      <td>...</td>\n",
       "      <td>-2.089818</td>\n",
       "      <td>0.504786</td>\n",
       "      <td>1.707850</td>\n",
       "      <td>0.138860</td>\n",
       "      <td>-0.094225</td>\n",
       "      <td>-0.053089</td>\n",
       "      <td>-0.103767</td>\n",
       "      <td>0.177667</td>\n",
       "      <td>0.024349</td>\n",
       "      <td>Brown Spot</td>\n",
       "    </tr>\n",
       "    <tr>\n",
       "      <th>3</th>\n",
       "      <td>3389.085743</td>\n",
       "      <td>29.201998</td>\n",
       "      <td>93.119409</td>\n",
       "      <td>0.520409</td>\n",
       "      <td>1.007559</td>\n",
       "      <td>28.281980</td>\n",
       "      <td>1.997397</td>\n",
       "      <td>-3.948501</td>\n",
       "      <td>-5.135646</td>\n",
       "      <td>-3.935763</td>\n",
       "      <td>...</td>\n",
       "      <td>-2.303025</td>\n",
       "      <td>0.278883</td>\n",
       "      <td>0.453758</td>\n",
       "      <td>0.252852</td>\n",
       "      <td>-0.434569</td>\n",
       "      <td>-0.071431</td>\n",
       "      <td>-0.080507</td>\n",
       "      <td>0.129455</td>\n",
       "      <td>-0.055802</td>\n",
       "      <td>Brown Spot</td>\n",
       "    </tr>\n",
       "    <tr>\n",
       "      <th>4</th>\n",
       "      <td>4823.064469</td>\n",
       "      <td>34.248781</td>\n",
       "      <td>-34.791229</td>\n",
       "      <td>-8.786522</td>\n",
       "      <td>13.803781</td>\n",
       "      <td>23.367961</td>\n",
       "      <td>-3.008890</td>\n",
       "      <td>-5.779783</td>\n",
       "      <td>-6.158477</td>\n",
       "      <td>-5.004348</td>\n",
       "      <td>...</td>\n",
       "      <td>-2.616849</td>\n",
       "      <td>2.415197</td>\n",
       "      <td>0.905744</td>\n",
       "      <td>0.357816</td>\n",
       "      <td>0.353991</td>\n",
       "      <td>-0.014273</td>\n",
       "      <td>-0.223333</td>\n",
       "      <td>0.093740</td>\n",
       "      <td>-0.020274</td>\n",
       "      <td>Brown Spot</td>\n",
       "    </tr>\n",
       "    <tr>\n",
       "      <th>...</th>\n",
       "      <td>...</td>\n",
       "      <td>...</td>\n",
       "      <td>...</td>\n",
       "      <td>...</td>\n",
       "      <td>...</td>\n",
       "      <td>...</td>\n",
       "      <td>...</td>\n",
       "      <td>...</td>\n",
       "      <td>...</td>\n",
       "      <td>...</td>\n",
       "      <td>...</td>\n",
       "      <td>...</td>\n",
       "      <td>...</td>\n",
       "      <td>...</td>\n",
       "      <td>...</td>\n",
       "      <td>...</td>\n",
       "      <td>...</td>\n",
       "      <td>...</td>\n",
       "      <td>...</td>\n",
       "      <td>...</td>\n",
       "      <td>...</td>\n",
       "    </tr>\n",
       "    <tr>\n",
       "      <th>902</th>\n",
       "      <td>1512.218840</td>\n",
       "      <td>-116.634244</td>\n",
       "      <td>-43.275240</td>\n",
       "      <td>-32.618024</td>\n",
       "      <td>39.640353</td>\n",
       "      <td>-17.826697</td>\n",
       "      <td>-2.874059</td>\n",
       "      <td>-10.224093</td>\n",
       "      <td>-7.054825</td>\n",
       "      <td>3.435238</td>\n",
       "      <td>...</td>\n",
       "      <td>0.334005</td>\n",
       "      <td>2.465346</td>\n",
       "      <td>0.092091</td>\n",
       "      <td>-0.677232</td>\n",
       "      <td>-0.192778</td>\n",
       "      <td>0.349050</td>\n",
       "      <td>-0.315518</td>\n",
       "      <td>-0.013099</td>\n",
       "      <td>-0.094432</td>\n",
       "      <td>Leaf Blast</td>\n",
       "    </tr>\n",
       "    <tr>\n",
       "      <th>903</th>\n",
       "      <td>1523.124135</td>\n",
       "      <td>-35.328094</td>\n",
       "      <td>47.091129</td>\n",
       "      <td>7.764254</td>\n",
       "      <td>-11.461736</td>\n",
       "      <td>-18.879421</td>\n",
       "      <td>-4.602583</td>\n",
       "      <td>-0.541685</td>\n",
       "      <td>-3.524047</td>\n",
       "      <td>1.416046</td>\n",
       "      <td>...</td>\n",
       "      <td>0.682101</td>\n",
       "      <td>1.336587</td>\n",
       "      <td>-0.993734</td>\n",
       "      <td>0.455777</td>\n",
       "      <td>-0.373925</td>\n",
       "      <td>0.192454</td>\n",
       "      <td>-0.059244</td>\n",
       "      <td>-0.030680</td>\n",
       "      <td>0.050282</td>\n",
       "      <td>Leaf Blast</td>\n",
       "    </tr>\n",
       "    <tr>\n",
       "      <th>904</th>\n",
       "      <td>2759.872148</td>\n",
       "      <td>-37.319782</td>\n",
       "      <td>24.798035</td>\n",
       "      <td>-15.826259</td>\n",
       "      <td>35.006935</td>\n",
       "      <td>10.242509</td>\n",
       "      <td>1.052086</td>\n",
       "      <td>-3.659503</td>\n",
       "      <td>-1.137836</td>\n",
       "      <td>-2.583298</td>\n",
       "      <td>...</td>\n",
       "      <td>-1.770133</td>\n",
       "      <td>1.323134</td>\n",
       "      <td>-0.223008</td>\n",
       "      <td>-0.381472</td>\n",
       "      <td>-0.310454</td>\n",
       "      <td>0.104082</td>\n",
       "      <td>0.010145</td>\n",
       "      <td>-0.196248</td>\n",
       "      <td>-0.028330</td>\n",
       "      <td>Leaf Blast</td>\n",
       "    </tr>\n",
       "    <tr>\n",
       "      <th>905</th>\n",
       "      <td>-374.841345</td>\n",
       "      <td>-67.553442</td>\n",
       "      <td>-59.395054</td>\n",
       "      <td>-13.045455</td>\n",
       "      <td>52.257800</td>\n",
       "      <td>1.559929</td>\n",
       "      <td>0.339467</td>\n",
       "      <td>1.124734</td>\n",
       "      <td>-10.285289</td>\n",
       "      <td>-3.078899</td>\n",
       "      <td>...</td>\n",
       "      <td>-2.121311</td>\n",
       "      <td>0.835582</td>\n",
       "      <td>-0.295728</td>\n",
       "      <td>-0.757781</td>\n",
       "      <td>0.077483</td>\n",
       "      <td>-0.652248</td>\n",
       "      <td>-0.239240</td>\n",
       "      <td>0.097769</td>\n",
       "      <td>-0.055621</td>\n",
       "      <td>Leaf Blast</td>\n",
       "    </tr>\n",
       "    <tr>\n",
       "      <th>906</th>\n",
       "      <td>9554.519192</td>\n",
       "      <td>-32.960751</td>\n",
       "      <td>-0.361212</td>\n",
       "      <td>-21.708319</td>\n",
       "      <td>-6.335973</td>\n",
       "      <td>-6.632136</td>\n",
       "      <td>-9.016950</td>\n",
       "      <td>-10.980541</td>\n",
       "      <td>13.471974</td>\n",
       "      <td>4.060834</td>\n",
       "      <td>...</td>\n",
       "      <td>6.475881</td>\n",
       "      <td>-2.786094</td>\n",
       "      <td>2.844728</td>\n",
       "      <td>2.038369</td>\n",
       "      <td>0.279151</td>\n",
       "      <td>-0.161695</td>\n",
       "      <td>-0.012900</td>\n",
       "      <td>0.201058</td>\n",
       "      <td>-0.036386</td>\n",
       "      <td>Leaf Blast</td>\n",
       "    </tr>\n",
       "  </tbody>\n",
       "</table>\n",
       "<p>907 rows × 21 columns</p>\n",
       "</div>"
      ],
      "text/plain": [
       "               0           1          2          3          4          5  \\\n",
       "0    1392.222976  -30.465594  58.006565   8.454653 -10.243632  22.528641   \n",
       "1    1148.271894  -66.790898  32.457632  20.609686 -15.783026  15.966939   \n",
       "2    -225.051307  -84.050738  31.945241  38.623903 -14.798646  29.842448   \n",
       "3    3389.085743   29.201998  93.119409   0.520409   1.007559  28.281980   \n",
       "4    4823.064469   34.248781 -34.791229  -8.786522  13.803781  23.367961   \n",
       "..           ...         ...        ...        ...        ...        ...   \n",
       "902  1512.218840 -116.634244 -43.275240 -32.618024  39.640353 -17.826697   \n",
       "903  1523.124135  -35.328094  47.091129   7.764254 -11.461736 -18.879421   \n",
       "904  2759.872148  -37.319782  24.798035 -15.826259  35.006935  10.242509   \n",
       "905  -374.841345  -67.553442 -59.395054 -13.045455  52.257800   1.559929   \n",
       "906  9554.519192  -32.960751  -0.361212 -21.708319  -6.335973  -6.632136   \n",
       "\n",
       "             6          7          8         9  ...        11        12  \\\n",
       "0    10.664298  -5.141887  -6.030324 -3.448514  ... -1.118840  1.956255   \n",
       "1    19.936396  -6.485776  -8.567481 -5.578424  ...  1.414006  1.949828   \n",
       "2    28.057836   1.426965 -11.617358 -3.342117  ... -2.089818  0.504786   \n",
       "3     1.997397  -3.948501  -5.135646 -3.935763  ... -2.303025  0.278883   \n",
       "4    -3.008890  -5.779783  -6.158477 -5.004348  ... -2.616849  2.415197   \n",
       "..         ...        ...        ...       ...  ...       ...       ...   \n",
       "902  -2.874059 -10.224093  -7.054825  3.435238  ...  0.334005  2.465346   \n",
       "903  -4.602583  -0.541685  -3.524047  1.416046  ...  0.682101  1.336587   \n",
       "904   1.052086  -3.659503  -1.137836 -2.583298  ... -1.770133  1.323134   \n",
       "905   0.339467   1.124734 -10.285289 -3.078899  ... -2.121311  0.835582   \n",
       "906  -9.016950 -10.980541  13.471974  4.060834  ...  6.475881 -2.786094   \n",
       "\n",
       "           13        14        15        16        17        18        19  \\\n",
       "0    0.168599 -0.180043 -0.334456 -0.184609  0.068208 -0.183628 -0.004453   \n",
       "1   -0.134295 -0.192176 -0.095220 -0.080726 -0.037003 -0.049671 -0.003340   \n",
       "2    1.707850  0.138860 -0.094225 -0.053089 -0.103767  0.177667  0.024349   \n",
       "3    0.453758  0.252852 -0.434569 -0.071431 -0.080507  0.129455 -0.055802   \n",
       "4    0.905744  0.357816  0.353991 -0.014273 -0.223333  0.093740 -0.020274   \n",
       "..        ...       ...       ...       ...       ...       ...       ...   \n",
       "902  0.092091 -0.677232 -0.192778  0.349050 -0.315518 -0.013099 -0.094432   \n",
       "903 -0.993734  0.455777 -0.373925  0.192454 -0.059244 -0.030680  0.050282   \n",
       "904 -0.223008 -0.381472 -0.310454  0.104082  0.010145 -0.196248 -0.028330   \n",
       "905 -0.295728 -0.757781  0.077483 -0.652248 -0.239240  0.097769 -0.055621   \n",
       "906  2.844728  2.038369  0.279151 -0.161695 -0.012900  0.201058 -0.036386   \n",
       "\n",
       "          types  \n",
       "0    Brown Spot  \n",
       "1    Brown Spot  \n",
       "2    Brown Spot  \n",
       "3    Brown Spot  \n",
       "4    Brown Spot  \n",
       "..          ...  \n",
       "902  Leaf Blast  \n",
       "903  Leaf Blast  \n",
       "904  Leaf Blast  \n",
       "905  Leaf Blast  \n",
       "906  Leaf Blast  \n",
       "\n",
       "[907 rows x 21 columns]"
      ]
     },
     "execution_count": 290,
     "metadata": {},
     "output_type": "execute_result"
    }
   ],
   "source": [
    "data2"
   ]
  },
  {
   "cell_type": "code",
   "execution_count": 291,
   "metadata": {
    "id": "-4GFnpsJtOwJ"
   },
   "outputs": [],
   "source": [
    "data2.index=data.index"
   ]
  },
  {
   "cell_type": "code",
   "execution_count": 292,
   "metadata": {
    "colab": {
     "base_uri": "https://localhost:8080/",
     "height": 206
    },
    "id": "rurrHOUQtQCj",
    "outputId": "30361353-6b48-40f7-ffc2-77c8445c3ec6"
   },
   "outputs": [
    {
     "data": {
      "text/html": [
       "<div>\n",
       "<style scoped>\n",
       "    .dataframe tbody tr th:only-of-type {\n",
       "        vertical-align: middle;\n",
       "    }\n",
       "\n",
       "    .dataframe tbody tr th {\n",
       "        vertical-align: top;\n",
       "    }\n",
       "\n",
       "    .dataframe thead th {\n",
       "        text-align: right;\n",
       "    }\n",
       "</style>\n",
       "<table border=\"1\" class=\"dataframe\">\n",
       "  <thead>\n",
       "    <tr style=\"text-align: right;\">\n",
       "      <th></th>\n",
       "      <th>0</th>\n",
       "      <th>1</th>\n",
       "      <th>2</th>\n",
       "      <th>3</th>\n",
       "      <th>4</th>\n",
       "      <th>5</th>\n",
       "      <th>6</th>\n",
       "      <th>7</th>\n",
       "      <th>8</th>\n",
       "      <th>9</th>\n",
       "      <th>...</th>\n",
       "      <th>11</th>\n",
       "      <th>12</th>\n",
       "      <th>13</th>\n",
       "      <th>14</th>\n",
       "      <th>15</th>\n",
       "      <th>16</th>\n",
       "      <th>17</th>\n",
       "      <th>18</th>\n",
       "      <th>19</th>\n",
       "      <th>types</th>\n",
       "    </tr>\n",
       "  </thead>\n",
       "  <tbody>\n",
       "    <tr>\n",
       "      <th>0</th>\n",
       "      <td>1392.222976</td>\n",
       "      <td>-30.465594</td>\n",
       "      <td>58.006565</td>\n",
       "      <td>8.454653</td>\n",
       "      <td>-10.243632</td>\n",
       "      <td>22.528641</td>\n",
       "      <td>10.664298</td>\n",
       "      <td>-5.141887</td>\n",
       "      <td>-6.030324</td>\n",
       "      <td>-3.448514</td>\n",
       "      <td>...</td>\n",
       "      <td>-1.118840</td>\n",
       "      <td>1.956255</td>\n",
       "      <td>0.168599</td>\n",
       "      <td>-0.180043</td>\n",
       "      <td>-0.334456</td>\n",
       "      <td>-0.184609</td>\n",
       "      <td>0.068208</td>\n",
       "      <td>-0.183628</td>\n",
       "      <td>-0.004453</td>\n",
       "      <td>Brown Spot</td>\n",
       "    </tr>\n",
       "    <tr>\n",
       "      <th>1</th>\n",
       "      <td>1148.271894</td>\n",
       "      <td>-66.790898</td>\n",
       "      <td>32.457632</td>\n",
       "      <td>20.609686</td>\n",
       "      <td>-15.783026</td>\n",
       "      <td>15.966939</td>\n",
       "      <td>19.936396</td>\n",
       "      <td>-6.485776</td>\n",
       "      <td>-8.567481</td>\n",
       "      <td>-5.578424</td>\n",
       "      <td>...</td>\n",
       "      <td>1.414006</td>\n",
       "      <td>1.949828</td>\n",
       "      <td>-0.134295</td>\n",
       "      <td>-0.192176</td>\n",
       "      <td>-0.095220</td>\n",
       "      <td>-0.080726</td>\n",
       "      <td>-0.037003</td>\n",
       "      <td>-0.049671</td>\n",
       "      <td>-0.003340</td>\n",
       "      <td>Brown Spot</td>\n",
       "    </tr>\n",
       "    <tr>\n",
       "      <th>2</th>\n",
       "      <td>-225.051307</td>\n",
       "      <td>-84.050738</td>\n",
       "      <td>31.945241</td>\n",
       "      <td>38.623903</td>\n",
       "      <td>-14.798646</td>\n",
       "      <td>29.842448</td>\n",
       "      <td>28.057836</td>\n",
       "      <td>1.426965</td>\n",
       "      <td>-11.617358</td>\n",
       "      <td>-3.342117</td>\n",
       "      <td>...</td>\n",
       "      <td>-2.089818</td>\n",
       "      <td>0.504786</td>\n",
       "      <td>1.707850</td>\n",
       "      <td>0.138860</td>\n",
       "      <td>-0.094225</td>\n",
       "      <td>-0.053089</td>\n",
       "      <td>-0.103767</td>\n",
       "      <td>0.177667</td>\n",
       "      <td>0.024349</td>\n",
       "      <td>Brown Spot</td>\n",
       "    </tr>\n",
       "    <tr>\n",
       "      <th>3</th>\n",
       "      <td>3389.085743</td>\n",
       "      <td>29.201998</td>\n",
       "      <td>93.119409</td>\n",
       "      <td>0.520409</td>\n",
       "      <td>1.007559</td>\n",
       "      <td>28.281980</td>\n",
       "      <td>1.997397</td>\n",
       "      <td>-3.948501</td>\n",
       "      <td>-5.135646</td>\n",
       "      <td>-3.935763</td>\n",
       "      <td>...</td>\n",
       "      <td>-2.303025</td>\n",
       "      <td>0.278883</td>\n",
       "      <td>0.453758</td>\n",
       "      <td>0.252852</td>\n",
       "      <td>-0.434569</td>\n",
       "      <td>-0.071431</td>\n",
       "      <td>-0.080507</td>\n",
       "      <td>0.129455</td>\n",
       "      <td>-0.055802</td>\n",
       "      <td>Brown Spot</td>\n",
       "    </tr>\n",
       "    <tr>\n",
       "      <th>4</th>\n",
       "      <td>4823.064469</td>\n",
       "      <td>34.248781</td>\n",
       "      <td>-34.791229</td>\n",
       "      <td>-8.786522</td>\n",
       "      <td>13.803781</td>\n",
       "      <td>23.367961</td>\n",
       "      <td>-3.008890</td>\n",
       "      <td>-5.779783</td>\n",
       "      <td>-6.158477</td>\n",
       "      <td>-5.004348</td>\n",
       "      <td>...</td>\n",
       "      <td>-2.616849</td>\n",
       "      <td>2.415197</td>\n",
       "      <td>0.905744</td>\n",
       "      <td>0.357816</td>\n",
       "      <td>0.353991</td>\n",
       "      <td>-0.014273</td>\n",
       "      <td>-0.223333</td>\n",
       "      <td>0.093740</td>\n",
       "      <td>-0.020274</td>\n",
       "      <td>Brown Spot</td>\n",
       "    </tr>\n",
       "  </tbody>\n",
       "</table>\n",
       "<p>5 rows × 21 columns</p>\n",
       "</div>"
      ],
      "text/plain": [
       "             0          1          2          3          4          5  \\\n",
       "0  1392.222976 -30.465594  58.006565   8.454653 -10.243632  22.528641   \n",
       "1  1148.271894 -66.790898  32.457632  20.609686 -15.783026  15.966939   \n",
       "2  -225.051307 -84.050738  31.945241  38.623903 -14.798646  29.842448   \n",
       "3  3389.085743  29.201998  93.119409   0.520409   1.007559  28.281980   \n",
       "4  4823.064469  34.248781 -34.791229  -8.786522  13.803781  23.367961   \n",
       "\n",
       "           6         7          8         9  ...        11        12  \\\n",
       "0  10.664298 -5.141887  -6.030324 -3.448514  ... -1.118840  1.956255   \n",
       "1  19.936396 -6.485776  -8.567481 -5.578424  ...  1.414006  1.949828   \n",
       "2  28.057836  1.426965 -11.617358 -3.342117  ... -2.089818  0.504786   \n",
       "3   1.997397 -3.948501  -5.135646 -3.935763  ... -2.303025  0.278883   \n",
       "4  -3.008890 -5.779783  -6.158477 -5.004348  ... -2.616849  2.415197   \n",
       "\n",
       "         13        14        15        16        17        18        19  \\\n",
       "0  0.168599 -0.180043 -0.334456 -0.184609  0.068208 -0.183628 -0.004453   \n",
       "1 -0.134295 -0.192176 -0.095220 -0.080726 -0.037003 -0.049671 -0.003340   \n",
       "2  1.707850  0.138860 -0.094225 -0.053089 -0.103767  0.177667  0.024349   \n",
       "3  0.453758  0.252852 -0.434569 -0.071431 -0.080507  0.129455 -0.055802   \n",
       "4  0.905744  0.357816  0.353991 -0.014273 -0.223333  0.093740 -0.020274   \n",
       "\n",
       "        types  \n",
       "0  Brown Spot  \n",
       "1  Brown Spot  \n",
       "2  Brown Spot  \n",
       "3  Brown Spot  \n",
       "4  Brown Spot  \n",
       "\n",
       "[5 rows x 21 columns]"
      ]
     },
     "execution_count": 292,
     "metadata": {},
     "output_type": "execute_result"
    }
   ],
   "source": [
    "data2.head()"
   ]
  },
  {
   "cell_type": "code",
   "execution_count": 293,
   "metadata": {
    "colab": {
     "base_uri": "https://localhost:8080/"
    },
    "id": "0xnslH7AtRL4",
    "outputId": "9cdeb683-7db3-4052-b464-57113ba53ab0"
   },
   "outputs": [
    {
     "name": "stdout",
     "output_type": "stream",
     "text": [
      "[9.99237664e-01 4.07481095e-04 2.76172959e-04 3.34961169e-05\n",
      " 1.79891633e-05 1.03065336e-05 4.89090344e-06 4.72398441e-06\n",
      " 3.09596678e-06 2.19108833e-06 1.28294934e-06 4.36353400e-07\n",
      " 1.29585796e-07 8.52727820e-08 3.32638782e-08 1.45665085e-08\n",
      " 2.94460787e-09 1.33958554e-09 7.43233639e-10 5.23510748e-10]\n"
     ]
    }
   ],
   "source": [
    "print(pca.explained_variance_ratio_)"
   ]
  },
  {
   "cell_type": "code",
   "execution_count": 294,
   "metadata": {
    "colab": {
     "base_uri": "https://localhost:8080/"
    },
    "id": "mKujzSEOtSvE",
    "outputId": "a3392cbf-8cfb-48ad-ec50-5e55e4ad6229"
   },
   "outputs": [
    {
     "data": {
      "text/plain": [
       "(907, 21)"
      ]
     },
     "execution_count": 294,
     "metadata": {},
     "output_type": "execute_result"
    }
   ],
   "source": [
    "data2.shape"
   ]
  },
  {
   "cell_type": "code",
   "execution_count": 295,
   "metadata": {
    "id": "HuahHHi5tU3c"
   },
   "outputs": [],
   "source": [
    "data2.to_csv(\"dataset/csv/pca.csv\", index=False)"
   ]
  },
  {
   "cell_type": "code",
   "execution_count": 296,
   "metadata": {},
   "outputs": [
    {
     "data": {
      "text/plain": [
       "['models/pca/Rice_pca_model.pkl']"
      ]
     },
     "execution_count": 296,
     "metadata": {},
     "output_type": "execute_result"
    }
   ],
   "source": [
    "import joblib\n",
    "# Save the PCA model to a file\n",
    "joblib.dump(pca, 'models/pca/Rice_pca_model.pkl')"
   ]
  },
  {
   "cell_type": "markdown",
   "metadata": {
    "id": "hbks6Stftjp8"
   },
   "source": [
    "# SVM"
   ]
  },
  {
   "cell_type": "code",
   "execution_count": 297,
   "metadata": {
    "id": "LIdipuJvtgAJ"
   },
   "outputs": [],
   "source": [
    "import pandas as pd"
   ]
  },
  {
   "cell_type": "code",
   "execution_count": 298,
   "metadata": {
    "id": "QVrIn9PTtohA"
   },
   "outputs": [],
   "source": [
    "data = pd.read_csv(\"dataset/csv/pca.csv\")"
   ]
  },
  {
   "cell_type": "code",
   "execution_count": 299,
   "metadata": {
    "colab": {
     "base_uri": "https://localhost:8080/",
     "height": 424
    },
    "id": "Qgi-7hj2tp2X",
    "outputId": "fbf8e5f4-dc79-483f-a499-7dfc2936d79d"
   },
   "outputs": [
    {
     "data": {
      "text/html": [
       "<div>\n",
       "<style scoped>\n",
       "    .dataframe tbody tr th:only-of-type {\n",
       "        vertical-align: middle;\n",
       "    }\n",
       "\n",
       "    .dataframe tbody tr th {\n",
       "        vertical-align: top;\n",
       "    }\n",
       "\n",
       "    .dataframe thead th {\n",
       "        text-align: right;\n",
       "    }\n",
       "</style>\n",
       "<table border=\"1\" class=\"dataframe\">\n",
       "  <thead>\n",
       "    <tr style=\"text-align: right;\">\n",
       "      <th></th>\n",
       "      <th>0</th>\n",
       "      <th>1</th>\n",
       "      <th>2</th>\n",
       "      <th>3</th>\n",
       "      <th>4</th>\n",
       "      <th>5</th>\n",
       "      <th>6</th>\n",
       "      <th>7</th>\n",
       "      <th>8</th>\n",
       "      <th>9</th>\n",
       "      <th>...</th>\n",
       "      <th>11</th>\n",
       "      <th>12</th>\n",
       "      <th>13</th>\n",
       "      <th>14</th>\n",
       "      <th>15</th>\n",
       "      <th>16</th>\n",
       "      <th>17</th>\n",
       "      <th>18</th>\n",
       "      <th>19</th>\n",
       "      <th>types</th>\n",
       "    </tr>\n",
       "  </thead>\n",
       "  <tbody>\n",
       "    <tr>\n",
       "      <th>0</th>\n",
       "      <td>1392.222976</td>\n",
       "      <td>-30.465594</td>\n",
       "      <td>58.006565</td>\n",
       "      <td>8.454653</td>\n",
       "      <td>-10.243632</td>\n",
       "      <td>22.528641</td>\n",
       "      <td>10.664298</td>\n",
       "      <td>-5.141887</td>\n",
       "      <td>-6.030324</td>\n",
       "      <td>-3.448514</td>\n",
       "      <td>...</td>\n",
       "      <td>-1.118840</td>\n",
       "      <td>1.956255</td>\n",
       "      <td>0.168599</td>\n",
       "      <td>-0.180043</td>\n",
       "      <td>-0.334456</td>\n",
       "      <td>-0.184609</td>\n",
       "      <td>0.068208</td>\n",
       "      <td>-0.183628</td>\n",
       "      <td>-0.004453</td>\n",
       "      <td>Brown Spot</td>\n",
       "    </tr>\n",
       "    <tr>\n",
       "      <th>1</th>\n",
       "      <td>1148.271894</td>\n",
       "      <td>-66.790898</td>\n",
       "      <td>32.457632</td>\n",
       "      <td>20.609686</td>\n",
       "      <td>-15.783026</td>\n",
       "      <td>15.966939</td>\n",
       "      <td>19.936396</td>\n",
       "      <td>-6.485776</td>\n",
       "      <td>-8.567481</td>\n",
       "      <td>-5.578424</td>\n",
       "      <td>...</td>\n",
       "      <td>1.414006</td>\n",
       "      <td>1.949828</td>\n",
       "      <td>-0.134295</td>\n",
       "      <td>-0.192176</td>\n",
       "      <td>-0.095220</td>\n",
       "      <td>-0.080726</td>\n",
       "      <td>-0.037003</td>\n",
       "      <td>-0.049671</td>\n",
       "      <td>-0.003340</td>\n",
       "      <td>Brown Spot</td>\n",
       "    </tr>\n",
       "    <tr>\n",
       "      <th>2</th>\n",
       "      <td>-225.051307</td>\n",
       "      <td>-84.050738</td>\n",
       "      <td>31.945241</td>\n",
       "      <td>38.623903</td>\n",
       "      <td>-14.798646</td>\n",
       "      <td>29.842448</td>\n",
       "      <td>28.057836</td>\n",
       "      <td>1.426965</td>\n",
       "      <td>-11.617358</td>\n",
       "      <td>-3.342117</td>\n",
       "      <td>...</td>\n",
       "      <td>-2.089818</td>\n",
       "      <td>0.504786</td>\n",
       "      <td>1.707850</td>\n",
       "      <td>0.138860</td>\n",
       "      <td>-0.094225</td>\n",
       "      <td>-0.053089</td>\n",
       "      <td>-0.103767</td>\n",
       "      <td>0.177667</td>\n",
       "      <td>0.024349</td>\n",
       "      <td>Brown Spot</td>\n",
       "    </tr>\n",
       "    <tr>\n",
       "      <th>3</th>\n",
       "      <td>3389.085743</td>\n",
       "      <td>29.201998</td>\n",
       "      <td>93.119409</td>\n",
       "      <td>0.520409</td>\n",
       "      <td>1.007559</td>\n",
       "      <td>28.281980</td>\n",
       "      <td>1.997397</td>\n",
       "      <td>-3.948501</td>\n",
       "      <td>-5.135646</td>\n",
       "      <td>-3.935763</td>\n",
       "      <td>...</td>\n",
       "      <td>-2.303025</td>\n",
       "      <td>0.278883</td>\n",
       "      <td>0.453758</td>\n",
       "      <td>0.252852</td>\n",
       "      <td>-0.434569</td>\n",
       "      <td>-0.071431</td>\n",
       "      <td>-0.080507</td>\n",
       "      <td>0.129455</td>\n",
       "      <td>-0.055802</td>\n",
       "      <td>Brown Spot</td>\n",
       "    </tr>\n",
       "    <tr>\n",
       "      <th>4</th>\n",
       "      <td>4823.064469</td>\n",
       "      <td>34.248781</td>\n",
       "      <td>-34.791229</td>\n",
       "      <td>-8.786522</td>\n",
       "      <td>13.803781</td>\n",
       "      <td>23.367961</td>\n",
       "      <td>-3.008890</td>\n",
       "      <td>-5.779783</td>\n",
       "      <td>-6.158477</td>\n",
       "      <td>-5.004348</td>\n",
       "      <td>...</td>\n",
       "      <td>-2.616849</td>\n",
       "      <td>2.415197</td>\n",
       "      <td>0.905744</td>\n",
       "      <td>0.357816</td>\n",
       "      <td>0.353991</td>\n",
       "      <td>-0.014273</td>\n",
       "      <td>-0.223333</td>\n",
       "      <td>0.093740</td>\n",
       "      <td>-0.020274</td>\n",
       "      <td>Brown Spot</td>\n",
       "    </tr>\n",
       "    <tr>\n",
       "      <th>...</th>\n",
       "      <td>...</td>\n",
       "      <td>...</td>\n",
       "      <td>...</td>\n",
       "      <td>...</td>\n",
       "      <td>...</td>\n",
       "      <td>...</td>\n",
       "      <td>...</td>\n",
       "      <td>...</td>\n",
       "      <td>...</td>\n",
       "      <td>...</td>\n",
       "      <td>...</td>\n",
       "      <td>...</td>\n",
       "      <td>...</td>\n",
       "      <td>...</td>\n",
       "      <td>...</td>\n",
       "      <td>...</td>\n",
       "      <td>...</td>\n",
       "      <td>...</td>\n",
       "      <td>...</td>\n",
       "      <td>...</td>\n",
       "      <td>...</td>\n",
       "    </tr>\n",
       "    <tr>\n",
       "      <th>902</th>\n",
       "      <td>1512.218840</td>\n",
       "      <td>-116.634244</td>\n",
       "      <td>-43.275240</td>\n",
       "      <td>-32.618024</td>\n",
       "      <td>39.640353</td>\n",
       "      <td>-17.826697</td>\n",
       "      <td>-2.874059</td>\n",
       "      <td>-10.224093</td>\n",
       "      <td>-7.054825</td>\n",
       "      <td>3.435238</td>\n",
       "      <td>...</td>\n",
       "      <td>0.334005</td>\n",
       "      <td>2.465346</td>\n",
       "      <td>0.092091</td>\n",
       "      <td>-0.677232</td>\n",
       "      <td>-0.192778</td>\n",
       "      <td>0.349050</td>\n",
       "      <td>-0.315518</td>\n",
       "      <td>-0.013099</td>\n",
       "      <td>-0.094432</td>\n",
       "      <td>Leaf Blast</td>\n",
       "    </tr>\n",
       "    <tr>\n",
       "      <th>903</th>\n",
       "      <td>1523.124135</td>\n",
       "      <td>-35.328094</td>\n",
       "      <td>47.091129</td>\n",
       "      <td>7.764254</td>\n",
       "      <td>-11.461736</td>\n",
       "      <td>-18.879421</td>\n",
       "      <td>-4.602583</td>\n",
       "      <td>-0.541685</td>\n",
       "      <td>-3.524047</td>\n",
       "      <td>1.416046</td>\n",
       "      <td>...</td>\n",
       "      <td>0.682101</td>\n",
       "      <td>1.336587</td>\n",
       "      <td>-0.993734</td>\n",
       "      <td>0.455777</td>\n",
       "      <td>-0.373925</td>\n",
       "      <td>0.192454</td>\n",
       "      <td>-0.059244</td>\n",
       "      <td>-0.030680</td>\n",
       "      <td>0.050282</td>\n",
       "      <td>Leaf Blast</td>\n",
       "    </tr>\n",
       "    <tr>\n",
       "      <th>904</th>\n",
       "      <td>2759.872148</td>\n",
       "      <td>-37.319782</td>\n",
       "      <td>24.798035</td>\n",
       "      <td>-15.826259</td>\n",
       "      <td>35.006935</td>\n",
       "      <td>10.242509</td>\n",
       "      <td>1.052086</td>\n",
       "      <td>-3.659503</td>\n",
       "      <td>-1.137836</td>\n",
       "      <td>-2.583298</td>\n",
       "      <td>...</td>\n",
       "      <td>-1.770133</td>\n",
       "      <td>1.323134</td>\n",
       "      <td>-0.223008</td>\n",
       "      <td>-0.381472</td>\n",
       "      <td>-0.310454</td>\n",
       "      <td>0.104082</td>\n",
       "      <td>0.010145</td>\n",
       "      <td>-0.196248</td>\n",
       "      <td>-0.028330</td>\n",
       "      <td>Leaf Blast</td>\n",
       "    </tr>\n",
       "    <tr>\n",
       "      <th>905</th>\n",
       "      <td>-374.841345</td>\n",
       "      <td>-67.553442</td>\n",
       "      <td>-59.395054</td>\n",
       "      <td>-13.045455</td>\n",
       "      <td>52.257800</td>\n",
       "      <td>1.559929</td>\n",
       "      <td>0.339467</td>\n",
       "      <td>1.124734</td>\n",
       "      <td>-10.285289</td>\n",
       "      <td>-3.078899</td>\n",
       "      <td>...</td>\n",
       "      <td>-2.121311</td>\n",
       "      <td>0.835582</td>\n",
       "      <td>-0.295728</td>\n",
       "      <td>-0.757781</td>\n",
       "      <td>0.077483</td>\n",
       "      <td>-0.652248</td>\n",
       "      <td>-0.239240</td>\n",
       "      <td>0.097769</td>\n",
       "      <td>-0.055621</td>\n",
       "      <td>Leaf Blast</td>\n",
       "    </tr>\n",
       "    <tr>\n",
       "      <th>906</th>\n",
       "      <td>9554.519192</td>\n",
       "      <td>-32.960751</td>\n",
       "      <td>-0.361212</td>\n",
       "      <td>-21.708319</td>\n",
       "      <td>-6.335973</td>\n",
       "      <td>-6.632136</td>\n",
       "      <td>-9.016950</td>\n",
       "      <td>-10.980541</td>\n",
       "      <td>13.471974</td>\n",
       "      <td>4.060834</td>\n",
       "      <td>...</td>\n",
       "      <td>6.475881</td>\n",
       "      <td>-2.786094</td>\n",
       "      <td>2.844728</td>\n",
       "      <td>2.038369</td>\n",
       "      <td>0.279151</td>\n",
       "      <td>-0.161695</td>\n",
       "      <td>-0.012900</td>\n",
       "      <td>0.201058</td>\n",
       "      <td>-0.036386</td>\n",
       "      <td>Leaf Blast</td>\n",
       "    </tr>\n",
       "  </tbody>\n",
       "</table>\n",
       "<p>907 rows × 21 columns</p>\n",
       "</div>"
      ],
      "text/plain": [
       "               0           1          2          3          4          5  \\\n",
       "0    1392.222976  -30.465594  58.006565   8.454653 -10.243632  22.528641   \n",
       "1    1148.271894  -66.790898  32.457632  20.609686 -15.783026  15.966939   \n",
       "2    -225.051307  -84.050738  31.945241  38.623903 -14.798646  29.842448   \n",
       "3    3389.085743   29.201998  93.119409   0.520409   1.007559  28.281980   \n",
       "4    4823.064469   34.248781 -34.791229  -8.786522  13.803781  23.367961   \n",
       "..           ...         ...        ...        ...        ...        ...   \n",
       "902  1512.218840 -116.634244 -43.275240 -32.618024  39.640353 -17.826697   \n",
       "903  1523.124135  -35.328094  47.091129   7.764254 -11.461736 -18.879421   \n",
       "904  2759.872148  -37.319782  24.798035 -15.826259  35.006935  10.242509   \n",
       "905  -374.841345  -67.553442 -59.395054 -13.045455  52.257800   1.559929   \n",
       "906  9554.519192  -32.960751  -0.361212 -21.708319  -6.335973  -6.632136   \n",
       "\n",
       "             6          7          8         9  ...        11        12  \\\n",
       "0    10.664298  -5.141887  -6.030324 -3.448514  ... -1.118840  1.956255   \n",
       "1    19.936396  -6.485776  -8.567481 -5.578424  ...  1.414006  1.949828   \n",
       "2    28.057836   1.426965 -11.617358 -3.342117  ... -2.089818  0.504786   \n",
       "3     1.997397  -3.948501  -5.135646 -3.935763  ... -2.303025  0.278883   \n",
       "4    -3.008890  -5.779783  -6.158477 -5.004348  ... -2.616849  2.415197   \n",
       "..         ...        ...        ...       ...  ...       ...       ...   \n",
       "902  -2.874059 -10.224093  -7.054825  3.435238  ...  0.334005  2.465346   \n",
       "903  -4.602583  -0.541685  -3.524047  1.416046  ...  0.682101  1.336587   \n",
       "904   1.052086  -3.659503  -1.137836 -2.583298  ... -1.770133  1.323134   \n",
       "905   0.339467   1.124734 -10.285289 -3.078899  ... -2.121311  0.835582   \n",
       "906  -9.016950 -10.980541  13.471974  4.060834  ...  6.475881 -2.786094   \n",
       "\n",
       "           13        14        15        16        17        18        19  \\\n",
       "0    0.168599 -0.180043 -0.334456 -0.184609  0.068208 -0.183628 -0.004453   \n",
       "1   -0.134295 -0.192176 -0.095220 -0.080726 -0.037003 -0.049671 -0.003340   \n",
       "2    1.707850  0.138860 -0.094225 -0.053089 -0.103767  0.177667  0.024349   \n",
       "3    0.453758  0.252852 -0.434569 -0.071431 -0.080507  0.129455 -0.055802   \n",
       "4    0.905744  0.357816  0.353991 -0.014273 -0.223333  0.093740 -0.020274   \n",
       "..        ...       ...       ...       ...       ...       ...       ...   \n",
       "902  0.092091 -0.677232 -0.192778  0.349050 -0.315518 -0.013099 -0.094432   \n",
       "903 -0.993734  0.455777 -0.373925  0.192454 -0.059244 -0.030680  0.050282   \n",
       "904 -0.223008 -0.381472 -0.310454  0.104082  0.010145 -0.196248 -0.028330   \n",
       "905 -0.295728 -0.757781  0.077483 -0.652248 -0.239240  0.097769 -0.055621   \n",
       "906  2.844728  2.038369  0.279151 -0.161695 -0.012900  0.201058 -0.036386   \n",
       "\n",
       "          types  \n",
       "0    Brown Spot  \n",
       "1    Brown Spot  \n",
       "2    Brown Spot  \n",
       "3    Brown Spot  \n",
       "4    Brown Spot  \n",
       "..          ...  \n",
       "902  Leaf Blast  \n",
       "903  Leaf Blast  \n",
       "904  Leaf Blast  \n",
       "905  Leaf Blast  \n",
       "906  Leaf Blast  \n",
       "\n",
       "[907 rows x 21 columns]"
      ]
     },
     "execution_count": 299,
     "metadata": {},
     "output_type": "execute_result"
    }
   ],
   "source": [
    "data"
   ]
  },
  {
   "cell_type": "markdown",
   "metadata": {
    "id": "8A_yZiJUyGUS"
   },
   "source": [
    "### Sampling"
   ]
  },
  {
   "cell_type": "code",
   "execution_count": 300,
   "metadata": {
    "colab": {
     "base_uri": "https://localhost:8080/"
    },
    "id": "sdT4CZjSsX3R",
    "outputId": "fb454d4d-bbf6-42cb-de9f-2820847a0033"
   },
   "outputs": [
    {
     "name": "stdout",
     "output_type": "stream",
     "text": [
      "X shape: (907, 20)\n",
      "y shape: (907,)\n"
     ]
    }
   ],
   "source": [
    "# Extract the features (X) and labels (y)\n",
    "X = data.iloc[:, :-1]  # Select all columns except the last one as features\n",
    "y = data['types']  # Select the 'types' column as the target variable\n",
    "\n",
    "# Check the shape of X and y to ensure they are correct\n",
    "print(\"X shape:\", X.shape)\n",
    "print(\"y shape:\", y.shape)"
   ]
  },
  {
   "cell_type": "code",
   "execution_count": 301,
   "metadata": {
    "colab": {
     "base_uri": "https://localhost:8080/",
     "height": 1000
    },
    "id": "WXrMdMzFtINe",
    "outputId": "07ecae1f-6240-4585-a0ea-af651dabe814"
   },
   "outputs": [
    {
     "name": "stdout",
     "output_type": "stream",
     "text": [
      "Class distribution before SMOTE:\n",
      "types\n",
      "Brown Spot    256\n",
      "Healthy       250\n",
      "Leaf Blast    250\n",
      "Hispa         151\n",
      "Name: count, dtype: int64\n"
     ]
    },
    {
     "data": {
      "image/png": "[encoded data removed]",
      "text/plain": [
       "<Figure size 1000x500 with 1 Axes>"
      ]
     },
     "metadata": {},
     "output_type": "display_data"
    },
    {
     "name": "stdout",
     "output_type": "stream",
     "text": [
      "Class distribution after SMOTE:\n",
      "Counter({'Brown Spot': 256, 'Healthy': 256, 'Hispa': 256, 'Leaf Blast': 256})\n"
     ]
    },
    {
     "data": {
      "image/png": "[encoded data removed]",
      "text/plain": [
       "<Figure size 1000x500 with 1 Axes>"
      ]
     },
     "metadata": {},
     "output_type": "display_data"
    }
   ],
   "source": [
    "import pandas as pd\n",
    "import matplotlib.pyplot as plt\n",
    "from imblearn.over_sampling import SMOTE\n",
    "from collections import Counter\n",
    "\n",
    "# Extract the features (X) and labels (y)\n",
    "X = data.iloc[:, :-1]  # Select all columns except the last one as features\n",
    "y = data['types']  # Select the 'types' column as the target variable\n",
    "\n",
    "# Check the class distribution before applying SMOTE\n",
    "label_counts_before = y.value_counts()\n",
    "print(\"Class distribution before SMOTE:\")\n",
    "print(label_counts_before)\n",
    "\n",
    "# Create a bar chart to visualize the class distribution before SMOTE\n",
    "plt.figure(figsize=(10, 5))\n",
    "plt.bar(label_counts_before.index, label_counts_before.values)\n",
    "plt.xlabel('Label')\n",
    "plt.ylabel('Count')\n",
    "plt.title('Class Distribution Before SMOTE')\n",
    "plt.show()\n",
    "\n",
    "# Create an instance of the SMOTE class\n",
    "smote = SMOTE(sampling_strategy='auto', random_state=42)\n",
    "\n",
    "# Apply SMOTE to balance the dataset\n",
    "X_resampled, y_resampled = smote.fit_resample(X, y)\n",
    "\n",
    "# Check the class distribution after applying SMOTE\n",
    "label_counts_after = Counter(y_resampled)\n",
    "print(\"Class distribution after SMOTE:\")\n",
    "print(label_counts_after)\n",
    "\n",
    "# Create a bar chart to visualize the class distribution after SMOTE\n",
    "plt.figure(figsize=(10, 5))\n",
    "plt.bar(label_counts_after.keys(), label_counts_after.values())\n",
    "plt.xlabel('Label')\n",
    "plt.ylabel('Count')\n",
    "plt.title('Class Distribution After SMOTE')\n",
    "plt.show()"
   ]
  },
  {
   "cell_type": "code",
   "execution_count": 302,
   "metadata": {
    "id": "7V_j2s9avPWb"
   },
   "outputs": [],
   "source": [
    "# Overwrite DataFrame with the resampled data\n",
    "data = pd.DataFrame(X_resampled, columns=X.columns)\n",
    "data['types'] = y_resampled"
   ]
  },
  {
   "cell_type": "markdown",
   "metadata": {
    "id": "KxYzfU99yKjc"
   },
   "source": [
    "### Splitting"
   ]
  },
  {
   "cell_type": "code",
   "execution_count": 303,
   "metadata": {},
   "outputs": [
    {
     "data": {
      "text/html": [
       "<div>\n",
       "<style scoped>\n",
       "    .dataframe tbody tr th:only-of-type {\n",
       "        vertical-align: middle;\n",
       "    }\n",
       "\n",
       "    .dataframe tbody tr th {\n",
       "        vertical-align: top;\n",
       "    }\n",
       "\n",
       "    .dataframe thead th {\n",
       "        text-align: right;\n",
       "    }\n",
       "</style>\n",
       "<table border=\"1\" class=\"dataframe\">\n",
       "  <thead>\n",
       "    <tr style=\"text-align: right;\">\n",
       "      <th></th>\n",
       "      <th>0</th>\n",
       "      <th>1</th>\n",
       "      <th>2</th>\n",
       "      <th>3</th>\n",
       "      <th>4</th>\n",
       "      <th>5</th>\n",
       "      <th>6</th>\n",
       "      <th>7</th>\n",
       "      <th>8</th>\n",
       "      <th>9</th>\n",
       "      <th>...</th>\n",
       "      <th>11</th>\n",
       "      <th>12</th>\n",
       "      <th>13</th>\n",
       "      <th>14</th>\n",
       "      <th>15</th>\n",
       "      <th>16</th>\n",
       "      <th>17</th>\n",
       "      <th>18</th>\n",
       "      <th>19</th>\n",
       "      <th>types</th>\n",
       "    </tr>\n",
       "  </thead>\n",
       "  <tbody>\n",
       "    <tr>\n",
       "      <th>0</th>\n",
       "      <td>1392.222976</td>\n",
       "      <td>-30.465594</td>\n",
       "      <td>58.006565</td>\n",
       "      <td>8.454653</td>\n",
       "      <td>-10.243632</td>\n",
       "      <td>22.528641</td>\n",
       "      <td>10.664298</td>\n",
       "      <td>-5.141887</td>\n",
       "      <td>-6.030324</td>\n",
       "      <td>-3.448514</td>\n",
       "      <td>...</td>\n",
       "      <td>-1.118840</td>\n",
       "      <td>1.956255</td>\n",
       "      <td>0.168599</td>\n",
       "      <td>-0.180043</td>\n",
       "      <td>-0.334456</td>\n",
       "      <td>-0.184609</td>\n",
       "      <td>0.068208</td>\n",
       "      <td>-0.183628</td>\n",
       "      <td>-0.004453</td>\n",
       "      <td>Brown Spot</td>\n",
       "    </tr>\n",
       "    <tr>\n",
       "      <th>1</th>\n",
       "      <td>1148.271894</td>\n",
       "      <td>-66.790898</td>\n",
       "      <td>32.457632</td>\n",
       "      <td>20.609686</td>\n",
       "      <td>-15.783026</td>\n",
       "      <td>15.966939</td>\n",
       "      <td>19.936396</td>\n",
       "      <td>-6.485776</td>\n",
       "      <td>-8.567481</td>\n",
       "      <td>-5.578424</td>\n",
       "      <td>...</td>\n",
       "      <td>1.414006</td>\n",
       "      <td>1.949828</td>\n",
       "      <td>-0.134295</td>\n",
       "      <td>-0.192176</td>\n",
       "      <td>-0.095220</td>\n",
       "      <td>-0.080726</td>\n",
       "      <td>-0.037003</td>\n",
       "      <td>-0.049671</td>\n",
       "      <td>-0.003340</td>\n",
       "      <td>Brown Spot</td>\n",
       "    </tr>\n",
       "    <tr>\n",
       "      <th>2</th>\n",
       "      <td>-225.051307</td>\n",
       "      <td>-84.050738</td>\n",
       "      <td>31.945241</td>\n",
       "      <td>38.623903</td>\n",
       "      <td>-14.798646</td>\n",
       "      <td>29.842448</td>\n",
       "      <td>28.057836</td>\n",
       "      <td>1.426965</td>\n",
       "      <td>-11.617358</td>\n",
       "      <td>-3.342117</td>\n",
       "      <td>...</td>\n",
       "      <td>-2.089818</td>\n",
       "      <td>0.504786</td>\n",
       "      <td>1.707850</td>\n",
       "      <td>0.138860</td>\n",
       "      <td>-0.094225</td>\n",
       "      <td>-0.053089</td>\n",
       "      <td>-0.103767</td>\n",
       "      <td>0.177667</td>\n",
       "      <td>0.024349</td>\n",
       "      <td>Brown Spot</td>\n",
       "    </tr>\n",
       "    <tr>\n",
       "      <th>3</th>\n",
       "      <td>3389.085743</td>\n",
       "      <td>29.201998</td>\n",
       "      <td>93.119409</td>\n",
       "      <td>0.520409</td>\n",
       "      <td>1.007559</td>\n",
       "      <td>28.281980</td>\n",
       "      <td>1.997397</td>\n",
       "      <td>-3.948501</td>\n",
       "      <td>-5.135646</td>\n",
       "      <td>-3.935763</td>\n",
       "      <td>...</td>\n",
       "      <td>-2.303025</td>\n",
       "      <td>0.278883</td>\n",
       "      <td>0.453758</td>\n",
       "      <td>0.252852</td>\n",
       "      <td>-0.434569</td>\n",
       "      <td>-0.071431</td>\n",
       "      <td>-0.080507</td>\n",
       "      <td>0.129455</td>\n",
       "      <td>-0.055802</td>\n",
       "      <td>Brown Spot</td>\n",
       "    </tr>\n",
       "    <tr>\n",
       "      <th>4</th>\n",
       "      <td>4823.064469</td>\n",
       "      <td>34.248781</td>\n",
       "      <td>-34.791229</td>\n",
       "      <td>-8.786522</td>\n",
       "      <td>13.803781</td>\n",
       "      <td>23.367961</td>\n",
       "      <td>-3.008890</td>\n",
       "      <td>-5.779783</td>\n",
       "      <td>-6.158477</td>\n",
       "      <td>-5.004348</td>\n",
       "      <td>...</td>\n",
       "      <td>-2.616849</td>\n",
       "      <td>2.415197</td>\n",
       "      <td>0.905744</td>\n",
       "      <td>0.357816</td>\n",
       "      <td>0.353991</td>\n",
       "      <td>-0.014273</td>\n",
       "      <td>-0.223333</td>\n",
       "      <td>0.093740</td>\n",
       "      <td>-0.020274</td>\n",
       "      <td>Brown Spot</td>\n",
       "    </tr>\n",
       "  </tbody>\n",
       "</table>\n",
       "<p>5 rows × 21 columns</p>\n",
       "</div>"
      ],
      "text/plain": [
       "             0          1          2          3          4          5  \\\n",
       "0  1392.222976 -30.465594  58.006565   8.454653 -10.243632  22.528641   \n",
       "1  1148.271894 -66.790898  32.457632  20.609686 -15.783026  15.966939   \n",
       "2  -225.051307 -84.050738  31.945241  38.623903 -14.798646  29.842448   \n",
       "3  3389.085743  29.201998  93.119409   0.520409   1.007559  28.281980   \n",
       "4  4823.064469  34.248781 -34.791229  -8.786522  13.803781  23.367961   \n",
       "\n",
       "           6         7          8         9  ...        11        12  \\\n",
       "0  10.664298 -5.141887  -6.030324 -3.448514  ... -1.118840  1.956255   \n",
       "1  19.936396 -6.485776  -8.567481 -5.578424  ...  1.414006  1.949828   \n",
       "2  28.057836  1.426965 -11.617358 -3.342117  ... -2.089818  0.504786   \n",
       "3   1.997397 -3.948501  -5.135646 -3.935763  ... -2.303025  0.278883   \n",
       "4  -3.008890 -5.779783  -6.158477 -5.004348  ... -2.616849  2.415197   \n",
       "\n",
       "         13        14        15        16        17        18        19  \\\n",
       "0  0.168599 -0.180043 -0.334456 -0.184609  0.068208 -0.183628 -0.004453   \n",
       "1 -0.134295 -0.192176 -0.095220 -0.080726 -0.037003 -0.049671 -0.003340   \n",
       "2  1.707850  0.138860 -0.094225 -0.053089 -0.103767  0.177667  0.024349   \n",
       "3  0.453758  0.252852 -0.434569 -0.071431 -0.080507  0.129455 -0.055802   \n",
       "4  0.905744  0.357816  0.353991 -0.014273 -0.223333  0.093740 -0.020274   \n",
       "\n",
       "        types  \n",
       "0  Brown Spot  \n",
       "1  Brown Spot  \n",
       "2  Brown Spot  \n",
       "3  Brown Spot  \n",
       "4  Brown Spot  \n",
       "\n",
       "[5 rows x 21 columns]"
      ]
     },
     "execution_count": 303,
     "metadata": {},
     "output_type": "execute_result"
    }
   ],
   "source": [
    "data.head()"
   ]
  },
  {
   "cell_type": "code",
   "execution_count": 304,
   "metadata": {
    "id": "qZJPoKoOtrDo"
   },
   "outputs": [],
   "source": [
    "x=data.iloc[:,0:20].values"
   ]
  },
  {
   "cell_type": "code",
   "execution_count": 305,
   "metadata": {
    "colab": {
     "base_uri": "https://localhost:8080/"
    },
    "id": "7fp9dT6Htuhi",
    "outputId": "a8f702d3-e18d-42d4-ac04-33f44a371c11"
   },
   "outputs": [
    {
     "data": {
      "text/plain": [
       "array([[ 1.39222298e+03, -3.04655942e+01,  5.80065654e+01, ...,\n",
       "         6.82076522e-02, -1.83627970e-01, -4.45289122e-03],\n",
       "       [ 1.14827189e+03, -6.67908975e+01,  3.24576316e+01, ...,\n",
       "        -3.70028113e-02, -4.96711306e-02, -3.33970999e-03],\n",
       "       [-2.25051307e+02, -8.40507381e+01,  3.19452410e+01, ...,\n",
       "        -1.03767257e-01,  1.77666865e-01,  2.43493819e-02],\n",
       "       ...,\n",
       "       [-2.72050657e+03,  6.13566668e+01,  1.66194407e+02, ...,\n",
       "         3.77603937e-02,  7.87226668e-02,  1.60535214e-02],\n",
       "       [-3.43158589e+01, -1.08849407e+02, -4.14496957e+01, ...,\n",
       "         1.92275977e-01,  1.11576524e-01,  3.00458197e-01],\n",
       "       [-1.60046577e+03, -1.52215012e+02, -4.41979610e+01, ...,\n",
       "         1.71011821e-01,  6.41631899e-02, -4.91465330e-02]])"
      ]
     },
     "execution_count": 305,
     "metadata": {},
     "output_type": "execute_result"
    }
   ],
   "source": [
    "x"
   ]
  },
  {
   "cell_type": "code",
   "execution_count": 306,
   "metadata": {
    "colab": {
     "base_uri": "https://localhost:8080/"
    },
    "id": "65iWAYdgtvr5",
    "outputId": "886720b7-9ade-47f5-8d8a-4dad9e9bffdd"
   },
   "outputs": [
    {
     "data": {
      "text/plain": [
       "(1024, 20)"
      ]
     },
     "execution_count": 306,
     "metadata": {},
     "output_type": "execute_result"
    }
   ],
   "source": [
    "x.shape"
   ]
  },
  {
   "cell_type": "code",
   "execution_count": 307,
   "metadata": {
    "id": "QEZwVpOdtxAu"
   },
   "outputs": [],
   "source": [
    "y=data.iloc[:,20].values"
   ]
  },
  {
   "cell_type": "code",
   "execution_count": 308,
   "metadata": {
    "colab": {
     "base_uri": "https://localhost:8080/"
    },
    "id": "SVS4I-mPtyO7",
    "outputId": "860c2dae-29e2-42d0-fc42-ae7586de0441"
   },
   "outputs": [
    {
     "data": {
      "text/plain": [
       "array(['Brown Spot', 'Brown Spot', 'Brown Spot', ..., 'Leaf Blast',\n",
       "       'Leaf Blast', 'Leaf Blast'], dtype=object)"
      ]
     },
     "execution_count": 308,
     "metadata": {},
     "output_type": "execute_result"
    }
   ],
   "source": [
    "y"
   ]
  },
  {
   "cell_type": "code",
   "execution_count": 309,
   "metadata": {
    "id": "eDlnB-lltzmX"
   },
   "outputs": [],
   "source": [
    "from sklearn.preprocessing import StandardScaler\n",
    "data2=StandardScaler()\n",
    "x=data2.fit_transform(x)"
   ]
  },
  {
   "cell_type": "code",
   "execution_count": 310,
   "metadata": {},
   "outputs": [
    {
     "data": {
      "text/plain": [
       "['models/scalers/Rice_scaler_model.pkl']"
      ]
     },
     "execution_count": 310,
     "metadata": {},
     "output_type": "execute_result"
    }
   ],
   "source": [
    "import joblib\n",
    "\n",
    "# Save the trained model to a file\n",
    "joblib.dump(data2, 'models/scalers/Rice_scaler_model.pkl')"
   ]
  },
  {
   "cell_type": "code",
   "execution_count": 311,
   "metadata": {
    "colab": {
     "base_uri": "https://localhost:8080/"
    },
    "id": "MMgVI393t0um",
    "outputId": "20b2fd15-4e9e-4c22-b98e-d540afbd4402"
   },
   "outputs": [
    {
     "data": {
      "text/plain": [
       "array([[ 0.28829145, -0.30911729,  0.72622826, ...,  0.3944889 ,\n",
       "        -1.47062569, -0.05172187],\n",
       "       [ 0.23774607, -0.69569742,  0.4008997 , ..., -0.22101522,\n",
       "        -0.40269161, -0.04120412],\n",
       "       [-0.04679931, -0.87937961,  0.39437515, ..., -0.61160176,\n",
       "         1.40969806,  0.22041272],\n",
       "       ...,\n",
       "       [-0.56384456,  0.66807101,  2.10384329, ...,  0.21636581,\n",
       "         0.62089264,  0.14203034],\n",
       "       [-0.00727992, -1.14329131, -0.54020277, ...,  1.12031561,\n",
       "         0.88281099,  2.82919143],\n",
       "       [-0.33177798, -1.60479555, -0.57519794, ...,  0.99591567,\n",
       "         0.50482122, -0.474004  ]])"
      ]
     },
     "execution_count": 311,
     "metadata": {},
     "output_type": "execute_result"
    }
   ],
   "source": [
    "x"
   ]
  },
  {
   "cell_type": "code",
   "execution_count": 312,
   "metadata": {
    "id": "nQTQRp4Ut2ze"
   },
   "outputs": [],
   "source": [
    "from sklearn.model_selection import train_test_split\n",
    "x_train,x_test,y_train,y_test=train_test_split(x,y,test_size=0.2,random_state=0)"
   ]
  },
  {
   "cell_type": "markdown",
   "metadata": {
    "id": "6k5ppePD_hjr"
   },
   "source": [
    "### Default Parameters Training"
   ]
  },
  {
   "cell_type": "code",
   "execution_count": 313,
   "metadata": {
    "id": "Tmbb2gg3t4c6"
   },
   "outputs": [],
   "source": [
    "from sklearn.svm import SVC\n",
    "\n",
    "# Assuming x_train is your feature matrix and y_train is your target variable as a NumPy array\n",
    "svm = SVC()\n",
    "\n",
    "# Train the SVM model\n",
    "strain = svm.fit(x_train, y_train)"
   ]
  },
  {
   "cell_type": "code",
   "execution_count": 314,
   "metadata": {
    "colab": {
     "base_uri": "https://localhost:8080/",
     "height": 75
    },
    "id": "gJwa7r85t8aW",
    "outputId": "1fbed260-5103-4719-ac59-0205499ecb22"
   },
   "outputs": [
    {
     "data": {
      "text/html": [
       "<style>#sk-container-id-12 {color: black;}#sk-container-id-12 pre{padding: 0;}#sk-container-id-12 div.sk-toggleable {background-color: white;}#sk-container-id-12 label.sk-toggleable__label {cursor: pointer;display: block;width: 100%;margin-bottom: 0;padding: 0.3em;box-sizing: border-box;text-align: center;}#sk-container-id-12 label.sk-toggleable__label-arrow:before {content: \"▸\";float: left;margin-right: 0.25em;color: #696969;}#sk-container-id-12 label.sk-toggleable__label-arrow:hover:before {color: black;}#sk-container-id-12 div.sk-estimator:hover label.sk-toggleable__label-arrow:before {color: black;}#sk-container-id-12 div.sk-toggleable__content {max-height: 0;max-width: 0;overflow: hidden;text-align: left;background-color: #f0f8ff;}#sk-container-id-12 div.sk-toggleable__content pre {margin: 0.2em;color: black;border-radius: 0.25em;background-color: #f0f8ff;}#sk-container-id-12 input.sk-toggleable__control:checked~div.sk-toggleable__content {max-height: 200px;max-width: 100%;overflow: auto;}#sk-container-id-12 input.sk-toggleable__control:checked~label.sk-toggleable__label-arrow:before {content: \"▾\";}#sk-container-id-12 div.sk-estimator input.sk-toggleable__control:checked~label.sk-toggleable__label {background-color: #d4ebff;}#sk-container-id-12 div.sk-label input.sk-toggleable__control:checked~label.sk-toggleable__label {background-color: #d4ebff;}#sk-container-id-12 input.sk-hidden--visually {border: 0;clip: rect(1px 1px 1px 1px);clip: rect(1px, 1px, 1px, 1px);height: 1px;margin: -1px;overflow: hidden;padding: 0;position: absolute;width: 1px;}#sk-container-id-12 div.sk-estimator {font-family: monospace;background-color: #f0f8ff;border: 1px dotted black;border-radius: 0.25em;box-sizing: border-box;margin-bottom: 0.5em;}#sk-container-id-12 div.sk-estimator:hover {background-color: #d4ebff;}#sk-container-id-12 div.sk-parallel-item::after {content: \"\";width: 100%;border-bottom: 1px solid gray;flex-grow: 1;}#sk-container-id-12 div.sk-label:hover label.sk-toggleable__label {background-color: #d4ebff;}#sk-container-id-12 div.sk-serial::before {content: \"\";position: absolute;border-left: 1px solid gray;box-sizing: border-box;top: 0;bottom: 0;left: 50%;z-index: 0;}#sk-container-id-12 div.sk-serial {display: flex;flex-direction: column;align-items: center;background-color: white;padding-right: 0.2em;padding-left: 0.2em;position: relative;}#sk-container-id-12 div.sk-item {position: relative;z-index: 1;}#sk-container-id-12 div.sk-parallel {display: flex;align-items: stretch;justify-content: center;background-color: white;position: relative;}#sk-container-id-12 div.sk-item::before, #sk-container-id-12 div.sk-parallel-item::before {content: \"\";position: absolute;border-left: 1px solid gray;box-sizing: border-box;top: 0;bottom: 0;left: 50%;z-index: -1;}#sk-container-id-12 div.sk-parallel-item {display: flex;flex-direction: column;z-index: 1;position: relative;background-color: white;}#sk-container-id-12 div.sk-parallel-item:first-child::after {align-self: flex-end;width: 50%;}#sk-container-id-12 div.sk-parallel-item:last-child::after {align-self: flex-start;width: 50%;}#sk-container-id-12 div.sk-parallel-item:only-child::after {width: 0;}#sk-container-id-12 div.sk-dashed-wrapped {border: 1px dashed gray;margin: 0 0.4em 0.5em 0.4em;box-sizing: border-box;padding-bottom: 0.4em;background-color: white;}#sk-container-id-12 div.sk-label label {font-family: monospace;font-weight: bold;display: inline-block;line-height: 1.2em;}#sk-container-id-12 div.sk-label-container {text-align: center;}#sk-container-id-12 div.sk-container {/* jupyter's `normalize.less` sets `[hidden] { display: none; }` but bootstrap.min.css set `[hidden] { display: none !important; }` so we also need the `!important` here to be able to override the default hidden behavior on the sphinx rendered scikit-learn.org. See: https://github.com/scikit-learn/scikit-learn/issues/21755 */display: inline-block !important;position: relative;}#sk-container-id-12 div.sk-text-repr-fallback {display: none;}</style><div id=\"sk-container-id-12\" class=\"sk-top-container\"><div class=\"sk-text-repr-fallback\"><pre>SVC()</pre><b>In a Jupyter environment, please rerun this cell to show the HTML representation or trust the notebook. <br />On GitHub, the HTML representation is unable to render, please try loading this page with nbviewer.org.</b></div><div class=\"sk-container\" hidden><div class=\"sk-item\"><div class=\"sk-estimator sk-toggleable\"><input class=\"sk-toggleable__control sk-hidden--visually\" id=\"sk-estimator-id-12\" type=\"checkbox\" checked><label for=\"sk-estimator-id-12\" class=\"sk-toggleable__label sk-toggleable__label-arrow\">SVC</label><div class=\"sk-toggleable__content\"><pre>SVC()</pre></div></div></div></div></div>"
      ],
      "text/plain": [
       "SVC()"
      ]
     },
     "execution_count": 314,
     "metadata": {},
     "output_type": "execute_result"
    }
   ],
   "source": [
    "strain"
   ]
  },
  {
   "cell_type": "code",
   "execution_count": 315,
   "metadata": {},
   "outputs": [
    {
     "data": {
      "text/plain": [
       "['models/classifiers/Rice_classifier_model.pkl']"
      ]
     },
     "execution_count": 315,
     "metadata": {},
     "output_type": "execute_result"
    }
   ],
   "source": [
    "import joblib\n",
    "\n",
    "# Save the trained model to a file\n",
    "joblib.dump(strain, 'models/classifiers/Rice_classifier_model.pkl')"
   ]
  },
  {
   "cell_type": "markdown",
   "metadata": {
    "id": "8zlMICAkyPss"
   },
   "source": [
    "### Testing"
   ]
  },
  {
   "cell_type": "code",
   "execution_count": 316,
   "metadata": {
    "colab": {
     "base_uri": "https://localhost:8080/"
    },
    "id": "EQD5xxINt92B",
    "outputId": "e0e25db0-9a02-4fbb-9085-d556f0dff6ac"
   },
   "outputs": [
    {
     "data": {
      "text/plain": [
       "array([[ 0.90971267,  0.32152758,  0.0773229 , ..., -1.19770428,\n",
       "         0.46232358,  0.08211871],\n",
       "       [ 0.40916395,  0.0029141 , -0.4678536 , ..., -0.93054889,\n",
       "         1.24306104, -0.00518336],\n",
       "       [ 0.32917037, -0.18638156,  0.83903091, ..., -0.33651557,\n",
       "         1.00149527,  0.37635367],\n",
       "       ...,\n",
       "       [-0.49156973, -1.17098222, -0.08463347, ..., -0.8711101 ,\n",
       "         0.50464946,  0.17234546],\n",
       "       [ 0.12883742,  0.32636564,  1.43730999, ..., -0.82679276,\n",
       "         1.11335791,  0.15199419],\n",
       "       [ 0.31915038, -0.63056192,  0.16330072, ..., -1.10592013,\n",
       "         0.18161873, -0.4234746 ]])"
      ]
     },
     "execution_count": 316,
     "metadata": {},
     "output_type": "execute_result"
    }
   ],
   "source": [
    "x_test"
   ]
  },
  {
   "cell_type": "code",
   "execution_count": 317,
   "metadata": {
    "id": "AO88OgAdt_Ox"
   },
   "outputs": [],
   "source": [
    "y_pred=strain.predict(x_test)"
   ]
  },
  {
   "cell_type": "code",
   "execution_count": 318,
   "metadata": {
    "colab": {
     "base_uri": "https://localhost:8080/"
    },
    "id": "XklSeMzduAqr",
    "outputId": "a2ef23a4-aa53-4ef4-9223-2bd46366b7e1"
   },
   "outputs": [
    {
     "data": {
      "text/plain": [
       "array(['Hispa', 'Brown Spot', 'Brown Spot', 'Healthy', 'Healthy', 'Hispa',\n",
       "       'Healthy', 'Hispa', 'Hispa', 'Hispa', 'Healthy', 'Healthy',\n",
       "       'Hispa', 'Healthy', 'Healthy', 'Hispa', 'Brown Spot', 'Healthy',\n",
       "       'Healthy', 'Healthy', 'Brown Spot', 'Brown Spot', 'Healthy',\n",
       "       'Brown Spot', 'Leaf Blast', 'Leaf Blast', 'Hispa', 'Brown Spot',\n",
       "       'Healthy', 'Hispa', 'Hispa', 'Healthy', 'Healthy', 'Brown Spot',\n",
       "       'Healthy', 'Brown Spot', 'Brown Spot', 'Hispa', 'Hispa',\n",
       "       'Brown Spot', 'Leaf Blast', 'Brown Spot', 'Leaf Blast',\n",
       "       'Brown Spot', 'Leaf Blast', 'Hispa', 'Brown Spot', 'Leaf Blast',\n",
       "       'Brown Spot', 'Leaf Blast', 'Hispa', 'Healthy', 'Hispa', 'Healthy',\n",
       "       'Hispa', 'Hispa', 'Leaf Blast', 'Healthy', 'Brown Spot',\n",
       "       'Leaf Blast', 'Leaf Blast', 'Hispa', 'Healthy', 'Leaf Blast',\n",
       "       'Hispa', 'Hispa', 'Healthy', 'Healthy', 'Hispa', 'Healthy',\n",
       "       'Leaf Blast', 'Leaf Blast', 'Healthy', 'Brown Spot', 'Hispa',\n",
       "       'Leaf Blast', 'Brown Spot', 'Hispa', 'Healthy', 'Hispa',\n",
       "       'Leaf Blast', 'Brown Spot', 'Healthy', 'Hispa', 'Hispa', 'Hispa',\n",
       "       'Healthy', 'Healthy', 'Leaf Blast', 'Leaf Blast', 'Healthy',\n",
       "       'Hispa', 'Healthy', 'Hispa', 'Healthy', 'Leaf Blast', 'Healthy',\n",
       "       'Hispa', 'Brown Spot', 'Hispa', 'Leaf Blast', 'Hispa', 'Healthy',\n",
       "       'Healthy', 'Brown Spot', 'Hispa', 'Brown Spot', 'Hispa', 'Healthy',\n",
       "       'Leaf Blast', 'Leaf Blast', 'Healthy', 'Leaf Blast', 'Leaf Blast',\n",
       "       'Leaf Blast', 'Hispa', 'Leaf Blast', 'Hispa', 'Healthy', 'Healthy',\n",
       "       'Healthy', 'Leaf Blast', 'Leaf Blast', 'Leaf Blast', 'Brown Spot',\n",
       "       'Healthy', 'Healthy', 'Healthy', 'Healthy', 'Leaf Blast',\n",
       "       'Brown Spot', 'Leaf Blast', 'Hispa', 'Healthy', 'Brown Spot',\n",
       "       'Healthy', 'Leaf Blast', 'Brown Spot', 'Hispa', 'Hispa',\n",
       "       'Leaf Blast', 'Healthy', 'Leaf Blast', 'Healthy', 'Leaf Blast',\n",
       "       'Leaf Blast', 'Brown Spot', 'Healthy', 'Healthy', 'Hispa', 'Hispa',\n",
       "       'Hispa', 'Brown Spot', 'Healthy', 'Healthy', 'Brown Spot', 'Hispa',\n",
       "       'Hispa', 'Healthy', 'Healthy', 'Brown Spot', 'Brown Spot',\n",
       "       'Brown Spot', 'Brown Spot', 'Hispa', 'Hispa', 'Healthy',\n",
       "       'Brown Spot', 'Leaf Blast', 'Brown Spot', 'Brown Spot',\n",
       "       'Brown Spot', 'Hispa', 'Healthy', 'Hispa', 'Leaf Blast', 'Hispa',\n",
       "       'Hispa', 'Healthy', 'Healthy', 'Hispa', 'Healthy', 'Brown Spot',\n",
       "       'Leaf Blast', 'Leaf Blast', 'Brown Spot', 'Brown Spot', 'Healthy',\n",
       "       'Healthy', 'Leaf Blast', 'Healthy', 'Hispa', 'Healthy',\n",
       "       'Brown Spot', 'Leaf Blast', 'Leaf Blast', 'Brown Spot', 'Healthy',\n",
       "       'Brown Spot', 'Leaf Blast', 'Leaf Blast', 'Healthy', 'Healthy',\n",
       "       'Healthy', 'Healthy'], dtype=object)"
      ]
     },
     "execution_count": 318,
     "metadata": {},
     "output_type": "execute_result"
    }
   ],
   "source": [
    "y_pred"
   ]
  },
  {
   "cell_type": "code",
   "execution_count": 319,
   "metadata": {
    "colab": {
     "base_uri": "https://localhost:8080/"
    },
    "id": "j885OsvouB8R",
    "outputId": "3b78cde5-2b87-4939-eac3-51a21f3c2681"
   },
   "outputs": [
    {
     "data": {
      "text/plain": [
       "array(['Hispa', 'Brown Spot', 'Brown Spot', 'Hispa', 'Healthy',\n",
       "       'Brown Spot', 'Brown Spot', 'Leaf Blast', 'Hispa', 'Leaf Blast',\n",
       "       'Healthy', 'Healthy', 'Hispa', 'Healthy', 'Healthy', 'Hispa',\n",
       "       'Leaf Blast', 'Healthy', 'Healthy', 'Healthy', 'Brown Spot',\n",
       "       'Brown Spot', 'Hispa', 'Brown Spot', 'Leaf Blast', 'Leaf Blast',\n",
       "       'Healthy', 'Brown Spot', 'Healthy', 'Leaf Blast', 'Hispa',\n",
       "       'Healthy', 'Healthy', 'Leaf Blast', 'Healthy', 'Brown Spot',\n",
       "       'Brown Spot', 'Hispa', 'Hispa', 'Brown Spot', 'Leaf Blast',\n",
       "       'Brown Spot', 'Leaf Blast', 'Brown Spot', 'Leaf Blast', 'Hispa',\n",
       "       'Leaf Blast', 'Leaf Blast', 'Brown Spot', 'Leaf Blast', 'Hispa',\n",
       "       'Healthy', 'Hispa', 'Hispa', 'Hispa', 'Hispa', 'Leaf Blast',\n",
       "       'Healthy', 'Brown Spot', 'Leaf Blast', 'Leaf Blast', 'Leaf Blast',\n",
       "       'Healthy', 'Brown Spot', 'Hispa', 'Hispa', 'Healthy', 'Healthy',\n",
       "       'Leaf Blast', 'Healthy', 'Hispa', 'Hispa', 'Healthy', 'Brown Spot',\n",
       "       'Hispa', 'Leaf Blast', 'Brown Spot', 'Hispa', 'Healthy', 'Hispa',\n",
       "       'Leaf Blast', 'Brown Spot', 'Hispa', 'Leaf Blast', 'Healthy',\n",
       "       'Leaf Blast', 'Hispa', 'Healthy', 'Hispa', 'Leaf Blast',\n",
       "       'Brown Spot', 'Brown Spot', 'Hispa', 'Hispa', 'Healthy',\n",
       "       'Leaf Blast', 'Healthy', 'Hispa', 'Brown Spot', 'Healthy',\n",
       "       'Leaf Blast', 'Hispa', 'Healthy', 'Healthy', 'Brown Spot', 'Hispa',\n",
       "       'Brown Spot', 'Hispa', 'Healthy', 'Leaf Blast', 'Leaf Blast',\n",
       "       'Healthy', 'Leaf Blast', 'Leaf Blast', 'Healthy', 'Hispa',\n",
       "       'Leaf Blast', 'Hispa', 'Healthy', 'Hispa', 'Leaf Blast', 'Healthy',\n",
       "       'Leaf Blast', 'Leaf Blast', 'Brown Spot', 'Healthy', 'Hispa',\n",
       "       'Healthy', 'Healthy', 'Leaf Blast', 'Hispa', 'Healthy',\n",
       "       'Leaf Blast', 'Healthy', 'Brown Spot', 'Healthy', 'Leaf Blast',\n",
       "       'Brown Spot', 'Hispa', 'Leaf Blast', 'Leaf Blast', 'Hispa',\n",
       "       'Leaf Blast', 'Hispa', 'Leaf Blast', 'Leaf Blast', 'Brown Spot',\n",
       "       'Healthy', 'Healthy', 'Brown Spot', 'Hispa', 'Leaf Blast',\n",
       "       'Brown Spot', 'Healthy', 'Healthy', 'Leaf Blast', 'Hispa', 'Hispa',\n",
       "       'Healthy', 'Healthy', 'Brown Spot', 'Brown Spot', 'Brown Spot',\n",
       "       'Brown Spot', 'Hispa', 'Leaf Blast', 'Healthy', 'Brown Spot',\n",
       "       'Leaf Blast', 'Brown Spot', 'Leaf Blast', 'Leaf Blast', 'Hispa',\n",
       "       'Hispa', 'Healthy', 'Leaf Blast', 'Hispa', 'Hispa', 'Healthy',\n",
       "       'Healthy', 'Hispa', 'Healthy', 'Brown Spot', 'Leaf Blast',\n",
       "       'Leaf Blast', 'Brown Spot', 'Brown Spot', 'Healthy', 'Healthy',\n",
       "       'Leaf Blast', 'Healthy', 'Hispa', 'Healthy', 'Brown Spot',\n",
       "       'Leaf Blast', 'Healthy', 'Leaf Blast', 'Hispa', 'Leaf Blast',\n",
       "       'Leaf Blast', 'Leaf Blast', 'Healthy', 'Healthy', 'Healthy',\n",
       "       'Hispa'], dtype=object)"
      ]
     },
     "execution_count": 319,
     "metadata": {},
     "output_type": "execute_result"
    }
   ],
   "source": [
    "y_test"
   ]
  },
  {
   "cell_type": "code",
   "execution_count": 320,
   "metadata": {},
   "outputs": [
    {
     "name": "stdout",
     "output_type": "stream",
     "text": [
      "Number of Training Data: 819\n",
      "Number of Testing Data: 205\n"
     ]
    }
   ],
   "source": [
    "print(\"Number of Training Data:\", len(y_train))\n",
    "print(\"Number of Testing Data:\", len(y_test))"
   ]
  },
  {
   "cell_type": "code",
   "execution_count": 321,
   "metadata": {
    "colab": {
     "base_uri": "https://localhost:8080/"
    },
    "id": "887u3OPDuDPq",
    "outputId": "8896949b-55b4-422a-e40c-bc7f5558adda"
   },
   "outputs": [
    {
     "data": {
      "text/plain": [
       "array([[34,  2,  3,  1],\n",
       "       [ 0, 50,  4,  4],\n",
       "       [ 1, 13, 34,  3],\n",
       "       [ 8,  1, 11, 36]], dtype=int64)"
      ]
     },
     "execution_count": 321,
     "metadata": {},
     "output_type": "execute_result"
    }
   ],
   "source": [
    "from sklearn.metrics import confusion_matrix\n",
    "confusion_matrix(y_test,y_pred)"
   ]
  },
  {
   "cell_type": "code",
   "execution_count": 322,
   "metadata": {
    "colab": {
     "base_uri": "https://localhost:8080/"
    },
    "id": "rz7_6ObeuFGW",
    "outputId": "34ccfc1a-691f-41e8-9afd-470734e2256c"
   },
   "outputs": [
    {
     "data": {
      "text/plain": [
       "0.751219512195122"
      ]
     },
     "execution_count": 322,
     "metadata": {},
     "output_type": "execute_result"
    }
   ],
   "source": [
    "from sklearn.metrics import accuracy_score\n",
    "accuracy_score(y_test,y_pred)"
   ]
  },
  {
   "cell_type": "markdown",
   "metadata": {},
   "source": [
    "### Testing Models"
   ]
  },
  {
   "cell_type": "code",
   "execution_count": null,
   "metadata": {},
   "outputs": [],
   "source": [
    "main_img = cv2.imread('dataset/images/Cedar apple rust/0cd24b0c-0a9d-483f-8734-5c08988e029f___FREC_C.Rust 3762.jpg')\n",
    "\n",
    "names = ['area', 'perimeter', 'physiological_length', 'physiological_width', 'aspect_ratio',\n",
    "             'mean_r', 'mean_g', 'mean_b', 'stddev_r', 'stddev_g', 'stddev_b',\n",
    "             'contrast', 'energy', 'homogeneity', 'correlation', 'dissimilarity',\n",
    "             'eccentricity', 'solidity', 'equiv_diameter', 'major_axis_length', 'minor_axis_length',\n",
    "             'skewness', 'kurtosis', 'hog_feature_1', 'hog_feature_2', 'hog_feature_3'\n",
    "            ]\n",
    "df = pd.DataFrame(columns=names)\n",
    "\n",
    "# Preprocessing\n",
    "img = cv2.cvtColor(main_img, cv2.COLOR_BGR2RGB)\n",
    "gs = cv2.cvtColor(img, cv2.COLOR_RGB2GRAY)\n",
    "blur = cv2.GaussianBlur(gs, (25, 25), 0)\n",
    "ret, thresh = cv2.threshold(blur, 0, 255, cv2.THRESH_BINARY_INV + cv2.THRESH_OTSU)\n",
    "kernel = np.ones((50, 50), np.uint8)\n",
    "closing = cv2.morphologyEx(thresh, cv2.MORPH_CLOSE, kernel)\n",
    "\n",
    "# Shape features\n",
    "contours, _ = cv2.findContours(closing, cv2.RETR_TREE, cv2.CHAIN_APPROX_SIMPLE)\n",
    "cnt = contours[0]\n",
    "area = cv2.contourArea(cnt)\n",
    "perimeter = cv2.arcLength(cnt, True)\n",
    "x, y, w, h = cv2.boundingRect(cnt)\n",
    "aspect_ratio = float(w) / h\n",
    "\n",
    "# Color features\n",
    "red_channel = img[:, :, 0]\n",
    "green_channel = img[:, :, 1]\n",
    "blue_channel = img[:, :, 2]\n",
    "\n",
    "red_mean = np.mean(red_channel)\n",
    "green_mean = np.mean(green_channel)\n",
    "blue_mean = np.mean(blue_channel)\n",
    "\n",
    "# Std deviation\n",
    "red_std = np.std(red_channel)\n",
    "green_std = np.std(green_channel)\n",
    "blue_std = np.std(blue_channel)\n",
    "\n",
    "# Texture features using GLCM matrix\n",
    "glcm = graycomatrix(gs,\n",
    "                distances=[1],\n",
    "                angles=[0],\n",
    "                symmetric=True,\n",
    "                normed=True)\n",
    "\n",
    "properties = ['contrast', 'energy', 'homogeneity', 'correlation', 'dissimilarity']\n",
    "contrast = graycoprops(glcm, properties[0])\n",
    "energy = graycoprops(glcm, properties[1])\n",
    "homogeneity = graycoprops(glcm, properties[2])\n",
    "correlation = graycoprops(glcm, properties[3])\n",
    "dissimilarity = graycoprops(glcm, properties[4])\n",
    "\n",
    "# Statistical moments\n",
    "skewness = stats.skew(gs.flatten())\n",
    "kurtosis = stats.kurtosis(gs.flatten())\n",
    "\n",
    "# Additional features\n",
    "labeled_img = label(closing)\n",
    "regions = regionprops(labeled_img)\n",
    "\n",
    "eccentricity = regions[0].eccentricity\n",
    "solidity = regions[0].solidity\n",
    "equiv_diameter = regions[0].equivalent_diameter\n",
    "major_axis_length = regions[0].major_axis_length\n",
    "minor_axis_length = regions[0].minor_axis_length\n",
    "\n",
    "# HOG features\n",
    "hog_features = hog(gs, orientations=8, pixels_per_cell=(8, 8), cells_per_block=(1, 1), block_norm='L2-Hys')\n",
    "\n",
    "vector = [area, perimeter, w, h, aspect_ratio,\n",
    "        red_mean, green_mean, blue_mean, red_std, green_std, blue_std,\n",
    "        contrast[0][0], energy[0][0], homogeneity[0][0], correlation[0][0], dissimilarity[0][0],\n",
    "        eccentricity, solidity, equiv_diameter, major_axis_length, minor_axis_length,\n",
    "        skewness, kurtosis, hog_features[0], hog_features[1], hog_features[2]]\n",
    "\n",
    "df_temp = pd.DataFrame([vector], columns=names)\n",
    "df = pd.concat([df, df_temp], ignore_index=True)\n",
    "\n",
    "pca_model = joblib.load('models/pca/Apple_pca_model.pkl')\n",
    "pca = pca_model.transform(df)\n",
    "\n",
    "scaler_model = joblib.load('models/scalers/Apple_scaler_model.pkl')\n",
    "scaled = scaler_model.transform(pca)\n",
    "\n",
    "classifier_model = joblib.load('models/classifiers/Apple_classifier_model.pkl')\n",
    "results = classifier_model.predict(scaled)\n",
    "\n",
    "print('FEATURES', df)\n",
    "print('PCA', pca)\n",
    "print('SCALED', scaled)\n",
    "print('RESULTS', results)"
   ]
  },
  {
   "cell_type": "markdown",
   "metadata": {
    "id": "h7W-Z2du6Isj"
   },
   "source": [
    "### Checking"
   ]
  },
  {
   "cell_type": "code",
   "execution_count": 324,
   "metadata": {
    "colab": {
     "base_uri": "https://localhost:8080/",
     "height": 872
    },
    "id": "Mi36sen15YST",
    "outputId": "7c6cb7e0-e508-4e29-f00a-9d2f1fc852b1"
   },
   "outputs": [
    {
     "data": {
      "image/png": "[encoded data removed]",
      "text/plain": [
       "<Figure size 1000x1000 with 2 Axes>"
      ]
     },
     "metadata": {},
     "output_type": "display_data"
    }
   ],
   "source": [
    "from sklearn.metrics import confusion_matrix\n",
    "import seaborn as sns\n",
    "import matplotlib.pyplot as plt\n",
    "\n",
    "# Assuming 'y_test' contains the true labels and 'y_pred' contains the predicted labels\n",
    "conf_mat = confusion_matrix(y_test, y_pred, labels=data['types'].unique())\n",
    "\n",
    "# Create the heatmap\n",
    "fig, ax = plt.subplots(figsize=(10, 10))\n",
    "sns.heatmap(conf_mat, annot=True, fmt='d',\n",
    "            xticklabels=data['types'].unique(),\n",
    "            yticklabels=data['types'].unique())\n",
    "plt.ylabel('Actual')\n",
    "plt.xlabel('Predicted')\n",
    "plt.title(\"Confusion Matrix - Linear SVC\")\n",
    "plt.show()"
   ]
  },
  {
   "cell_type": "code",
   "execution_count": 325,
   "metadata": {
    "colab": {
     "base_uri": "https://localhost:8080/"
    },
    "id": "J8xrBjBr5c65",
    "outputId": "d44d24c2-c2b7-4dd4-b2bf-3642ba08236a"
   },
   "outputs": [
    {
     "name": "stdout",
     "output_type": "stream",
     "text": [
      "Class Brown Spot - Precision: 0.7906976744186046 \n",
      "\t\t  Recall: 0.85 \n",
      "\t\t  F1-Score: 0.8192771084337349\n",
      "\n",
      "Class Healthy - Precision: 0.7575757575757576 \n",
      "\t\t  Recall: 0.8620689655172413 \n",
      "\t\t  F1-Score: 0.8064516129032258\n",
      "\n",
      "Class Hispa - Precision: 0.6538461538461539 \n",
      "\t\t  Recall: 0.6666666666666666 \n",
      "\t\t  F1-Score: 0.6601941747572816\n",
      "\n",
      "Class Leaf Blast - Precision: 0.8181818181818182 \n",
      "\t\t  Recall: 0.6428571428571429 \n",
      "\t\t  F1-Score: 0.7200000000000001\n",
      "\n"
     ]
    }
   ],
   "source": [
    "from sklearn.metrics import precision_score, recall_score, f1_score\n",
    "\n",
    "# Assuming you have true labels (y_true) and predicted labels (y_pred)\n",
    "y_true = y_test\n",
    "y_pred = y_pred\n",
    "\n",
    "data=pd.read_csv(\"dataset/csv/image_features.csv\")\n",
    "types = data[\"types\"]\n",
    "types_labels = types.unique()\n",
    "\n",
    "# Compute precision, recall, and F1-score for each class\n",
    "classes =  types_labels\n",
    "\n",
    "precision = precision_score(y_true, y_pred, labels=classes, average=None, zero_division=0)\n",
    "recall = recall_score(y_true, y_pred, labels=classes, average=None, zero_division=0)\n",
    "f1 = f1_score(y_true, y_pred, labels=classes, average=None, zero_division=0)\n",
    "\n",
    "# Display the results for each class\n",
    "for class_label, p, r, f in zip(classes, precision, recall, f1):\n",
    "    print(f\"Class {class_label} - Precision: {p} \\n\\t\\t  Recall: {r} \\n\\t\\t  F1-Score: {f}\\n\")"
   ]
  },
  {
   "cell_type": "markdown",
   "metadata": {
    "id": "x97tmcSQ_dZ9"
   },
   "source": [
    "## Grid Search"
   ]
  },
  {
   "cell_type": "code",
   "execution_count": 326,
   "metadata": {
    "colab": {
     "base_uri": "https://localhost:8080/"
    },
    "id": "koXHWanJgnRK",
    "outputId": "6720261e-a020-49ee-a4b6-3321eec98ecc"
   },
   "outputs": [
    {
     "name": "stdout",
     "output_type": "stream",
     "text": [
      "Combination 1/112: C=0.1, kernel=linear, gamma=scale\n",
      "Accuracy on test data:  0.5804878048780487\n",
      "Combination 2/112: C=0.1, kernel=linear, gamma=auto\n",
      "Accuracy on test data:  0.5804878048780487\n",
      "Combination 3/112: C=0.1, kernel=linear, gamma=0.001\n",
      "Accuracy on test data:  0.5804878048780487\n",
      "Combination 4/112: C=0.1, kernel=linear, gamma=0.01\n",
      "Accuracy on test data:  0.5804878048780487\n",
      "Combination 5/112: C=0.1, kernel=linear, gamma=0.1\n",
      "Accuracy on test data:  0.5804878048780487\n",
      "Combination 6/112: C=0.1, kernel=linear, gamma=1\n",
      "Accuracy on test data:  0.5804878048780487\n",
      "Combination 7/112: C=0.1, kernel=linear, gamma=10\n",
      "Accuracy on test data:  0.5804878048780487\n",
      "Combination 8/112: C=0.1, kernel=rbf, gamma=scale\n",
      "Accuracy on test data:  0.6390243902439025\n",
      "Combination 9/112: C=0.1, kernel=rbf, gamma=auto\n",
      "Accuracy on test data:  0.6390243902439025\n",
      "Combination 10/112: C=0.1, kernel=rbf, gamma=0.001\n",
      "Accuracy on test data:  0.1951219512195122\n",
      "Combination 11/112: C=0.1, kernel=rbf, gamma=0.01\n",
      "Accuracy on test data:  0.5609756097560976\n",
      "Combination 12/112: C=0.1, kernel=rbf, gamma=0.1\n",
      "Accuracy on test data:  0.6097560975609756\n",
      "Combination 13/112: C=0.1, kernel=rbf, gamma=1\n",
      "Accuracy on test data:  0.1951219512195122\n",
      "Combination 14/112: C=0.1, kernel=rbf, gamma=10\n",
      "Accuracy on test data:  0.1951219512195122\n",
      "Combination 15/112: C=0.1, kernel=poly, gamma=scale\n",
      "Accuracy on test data:  0.35609756097560974\n",
      "Combination 16/112: C=0.1, kernel=poly, gamma=auto\n",
      "Accuracy on test data:  0.35609756097560974\n",
      "Combination 17/112: C=0.1, kernel=poly, gamma=0.001\n",
      "Accuracy on test data:  0.1951219512195122\n",
      "Combination 18/112: C=0.1, kernel=poly, gamma=0.01\n",
      "Accuracy on test data:  0.2\n",
      "Combination 19/112: C=0.1, kernel=poly, gamma=0.1\n",
      "Accuracy on test data:  0.6487804878048781\n",
      "Combination 20/112: C=0.1, kernel=poly, gamma=1\n",
      "Accuracy on test data:  0.7170731707317073\n",
      "Combination 21/112: C=0.1, kernel=poly, gamma=10\n",
      "Accuracy on test data:  0.7170731707317073\n",
      "Combination 22/112: C=0.1, kernel=sigmoid, gamma=scale\n",
      "Accuracy on test data:  0.526829268292683\n",
      "Combination 23/112: C=0.1, kernel=sigmoid, gamma=auto\n",
      "Accuracy on test data:  0.526829268292683\n",
      "Combination 24/112: C=0.1, kernel=sigmoid, gamma=0.001\n",
      "Accuracy on test data:  0.1951219512195122\n",
      "Combination 25/112: C=0.1, kernel=sigmoid, gamma=0.01\n",
      "Accuracy on test data:  0.2731707317073171\n",
      "Combination 26/112: C=0.1, kernel=sigmoid, gamma=0.1\n",
      "Accuracy on test data:  0.5219512195121951\n",
      "Combination 27/112: C=0.1, kernel=sigmoid, gamma=1\n",
      "Accuracy on test data:  0.35121951219512193\n",
      "Combination 28/112: C=0.1, kernel=sigmoid, gamma=10\n",
      "Accuracy on test data:  0.36585365853658536\n",
      "Combination 29/112: C=1, kernel=linear, gamma=scale\n",
      "Accuracy on test data:  0.6\n",
      "Combination 30/112: C=1, kernel=linear, gamma=auto\n",
      "Accuracy on test data:  0.6\n",
      "Combination 31/112: C=1, kernel=linear, gamma=0.001\n",
      "Accuracy on test data:  0.6\n",
      "Combination 32/112: C=1, kernel=linear, gamma=0.01\n",
      "Accuracy on test data:  0.6\n",
      "Combination 33/112: C=1, kernel=linear, gamma=0.1\n",
      "Accuracy on test data:  0.6\n",
      "Combination 34/112: C=1, kernel=linear, gamma=1\n",
      "Accuracy on test data:  0.6\n",
      "Combination 35/112: C=1, kernel=linear, gamma=10\n",
      "Accuracy on test data:  0.6\n",
      "Combination 36/112: C=1, kernel=rbf, gamma=scale\n",
      "Accuracy on test data:  0.751219512195122\n",
      "Combination 37/112: C=1, kernel=rbf, gamma=auto\n",
      "Accuracy on test data:  0.751219512195122\n",
      "Combination 38/112: C=1, kernel=rbf, gamma=0.001\n",
      "Accuracy on test data:  0.551219512195122\n",
      "Combination 39/112: C=1, kernel=rbf, gamma=0.01\n",
      "Accuracy on test data:  0.6439024390243903\n",
      "Combination 40/112: C=1, kernel=rbf, gamma=0.1\n",
      "Accuracy on test data:  0.7658536585365854\n",
      "Combination 41/112: C=1, kernel=rbf, gamma=1\n",
      "Accuracy on test data:  0.47317073170731705\n",
      "Combination 42/112: C=1, kernel=rbf, gamma=10\n",
      "Accuracy on test data:  0.25365853658536586\n",
      "Combination 43/112: C=1, kernel=poly, gamma=scale\n",
      "Accuracy on test data:  0.6536585365853659\n",
      "Combination 44/112: C=1, kernel=poly, gamma=auto\n",
      "Accuracy on test data:  0.6536585365853659\n",
      "Combination 45/112: C=1, kernel=poly, gamma=0.001\n",
      "Accuracy on test data:  0.1951219512195122\n",
      "Combination 46/112: C=1, kernel=poly, gamma=0.01\n",
      "Accuracy on test data:  0.2048780487804878\n",
      "Combination 47/112: C=1, kernel=poly, gamma=0.1\n",
      "Accuracy on test data:  0.6926829268292682\n",
      "Combination 48/112: C=1, kernel=poly, gamma=1\n",
      "Accuracy on test data:  0.7170731707317073\n",
      "Combination 49/112: C=1, kernel=poly, gamma=10\n",
      "Accuracy on test data:  0.7170731707317073\n",
      "Combination 50/112: C=1, kernel=sigmoid, gamma=scale\n",
      "Accuracy on test data:  0.48292682926829267\n",
      "Combination 51/112: C=1, kernel=sigmoid, gamma=auto\n",
      "Accuracy on test data:  0.48292682926829267\n",
      "Combination 52/112: C=1, kernel=sigmoid, gamma=0.001\n",
      "Accuracy on test data:  0.28292682926829266\n",
      "Combination 53/112: C=1, kernel=sigmoid, gamma=0.01\n",
      "Accuracy on test data:  0.5853658536585366\n",
      "Combination 54/112: C=1, kernel=sigmoid, gamma=0.1\n",
      "Accuracy on test data:  0.3902439024390244\n",
      "Combination 55/112: C=1, kernel=sigmoid, gamma=1\n",
      "Accuracy on test data:  0.32682926829268294\n",
      "Combination 56/112: C=1, kernel=sigmoid, gamma=10\n",
      "Accuracy on test data:  0.33170731707317075\n",
      "Combination 57/112: C=10, kernel=linear, gamma=scale\n",
      "Accuracy on test data:  0.6097560975609756\n",
      "Combination 58/112: C=10, kernel=linear, gamma=auto\n",
      "Accuracy on test data:  0.6097560975609756\n",
      "Combination 59/112: C=10, kernel=linear, gamma=0.001\n",
      "Accuracy on test data:  0.6097560975609756\n",
      "Combination 60/112: C=10, kernel=linear, gamma=0.01\n",
      "Accuracy on test data:  0.6097560975609756\n",
      "Combination 61/112: C=10, kernel=linear, gamma=0.1\n",
      "Accuracy on test data:  0.6097560975609756\n",
      "Combination 62/112: C=10, kernel=linear, gamma=1\n",
      "Accuracy on test data:  0.6097560975609756\n",
      "Combination 63/112: C=10, kernel=linear, gamma=10\n",
      "Accuracy on test data:  0.6097560975609756\n",
      "Combination 64/112: C=10, kernel=rbf, gamma=scale\n",
      "Accuracy on test data:  0.7707317073170732\n",
      "Combination 65/112: C=10, kernel=rbf, gamma=auto\n",
      "Accuracy on test data:  0.7707317073170732\n",
      "Combination 66/112: C=10, kernel=rbf, gamma=0.001\n",
      "Accuracy on test data:  0.6097560975609756\n",
      "Combination 67/112: C=10, kernel=rbf, gamma=0.01\n",
      "Accuracy on test data:  0.7121951219512195\n",
      "Combination 68/112: C=10, kernel=rbf, gamma=0.1\n",
      "Accuracy on test data:  0.8\n",
      "Combination 69/112: C=10, kernel=rbf, gamma=1\n",
      "Accuracy on test data:  0.526829268292683\n",
      "Combination 70/112: C=10, kernel=rbf, gamma=10\n",
      "Accuracy on test data:  0.25365853658536586\n",
      "Combination 71/112: C=10, kernel=poly, gamma=scale\n",
      "Accuracy on test data:  0.6829268292682927\n",
      "Combination 72/112: C=10, kernel=poly, gamma=auto\n",
      "Accuracy on test data:  0.6829268292682927\n",
      "Combination 73/112: C=10, kernel=poly, gamma=0.001\n",
      "Accuracy on test data:  0.1951219512195122\n",
      "Combination 74/112: C=10, kernel=poly, gamma=0.01\n",
      "Accuracy on test data:  0.3853658536585366\n",
      "Combination 75/112: C=10, kernel=poly, gamma=0.1\n",
      "Accuracy on test data:  0.7170731707317073\n",
      "Combination 76/112: C=10, kernel=poly, gamma=1\n",
      "Accuracy on test data:  0.7170731707317073\n",
      "Combination 77/112: C=10, kernel=poly, gamma=10\n",
      "Accuracy on test data:  0.7170731707317073\n",
      "Combination 78/112: C=10, kernel=sigmoid, gamma=scale\n",
      "Accuracy on test data:  0.43414634146341463\n",
      "Combination 79/112: C=10, kernel=sigmoid, gamma=auto\n",
      "Accuracy on test data:  0.4146341463414634\n",
      "Combination 80/112: C=10, kernel=sigmoid, gamma=0.001\n",
      "Accuracy on test data:  0.5853658536585366\n",
      "Combination 81/112: C=10, kernel=sigmoid, gamma=0.01\n",
      "Accuracy on test data:  0.5756097560975609\n",
      "Combination 82/112: C=10, kernel=sigmoid, gamma=0.1\n",
      "Accuracy on test data:  0.3804878048780488\n",
      "Combination 83/112: C=10, kernel=sigmoid, gamma=1\n",
      "Accuracy on test data:  0.3073170731707317\n",
      "Combination 84/112: C=10, kernel=sigmoid, gamma=10\n",
      "Accuracy on test data:  0.32195121951219513\n",
      "Combination 85/112: C=100, kernel=linear, gamma=scale\n",
      "Accuracy on test data:  0.6146341463414634\n",
      "Combination 86/112: C=100, kernel=linear, gamma=auto\n",
      "Accuracy on test data:  0.6146341463414634\n",
      "Combination 87/112: C=100, kernel=linear, gamma=0.001\n",
      "Accuracy on test data:  0.6146341463414634\n",
      "Combination 88/112: C=100, kernel=linear, gamma=0.01\n",
      "Accuracy on test data:  0.6146341463414634\n",
      "Combination 89/112: C=100, kernel=linear, gamma=0.1\n",
      "Accuracy on test data:  0.6146341463414634\n",
      "Combination 90/112: C=100, kernel=linear, gamma=1\n",
      "Accuracy on test data:  0.6146341463414634\n",
      "Combination 91/112: C=100, kernel=linear, gamma=10\n",
      "Accuracy on test data:  0.6146341463414634\n",
      "Combination 92/112: C=100, kernel=rbf, gamma=scale\n",
      "Accuracy on test data:  0.7365853658536585\n",
      "Combination 93/112: C=100, kernel=rbf, gamma=auto\n",
      "Accuracy on test data:  0.7365853658536585\n",
      "Combination 94/112: C=100, kernel=rbf, gamma=0.001\n",
      "Accuracy on test data:  0.6487804878048781\n",
      "Combination 95/112: C=100, kernel=rbf, gamma=0.01\n",
      "Accuracy on test data:  0.7560975609756098\n",
      "Combination 96/112: C=100, kernel=rbf, gamma=0.1\n",
      "Accuracy on test data:  0.7951219512195122\n",
      "Combination 97/112: C=100, kernel=rbf, gamma=1\n",
      "Accuracy on test data:  0.526829268292683\n",
      "Combination 98/112: C=100, kernel=rbf, gamma=10\n",
      "Accuracy on test data:  0.25365853658536586\n",
      "Combination 99/112: C=100, kernel=poly, gamma=scale\n",
      "Accuracy on test data:  0.7121951219512195\n",
      "Combination 100/112: C=100, kernel=poly, gamma=auto\n",
      "Accuracy on test data:  0.7121951219512195\n",
      "Combination 101/112: C=100, kernel=poly, gamma=0.001\n",
      "Accuracy on test data:  0.2\n",
      "Combination 102/112: C=100, kernel=poly, gamma=0.01\n",
      "Accuracy on test data:  0.6487804878048781\n",
      "Combination 103/112: C=100, kernel=poly, gamma=0.1\n",
      "Accuracy on test data:  0.7170731707317073\n",
      "Combination 104/112: C=100, kernel=poly, gamma=1\n",
      "Accuracy on test data:  0.7170731707317073\n",
      "Combination 105/112: C=100, kernel=poly, gamma=10\n",
      "Accuracy on test data:  0.7170731707317073\n",
      "Combination 106/112: C=100, kernel=sigmoid, gamma=scale\n",
      "Accuracy on test data:  0.4\n",
      "Combination 107/112: C=100, kernel=sigmoid, gamma=auto\n",
      "Accuracy on test data:  0.40487804878048783\n",
      "Combination 108/112: C=100, kernel=sigmoid, gamma=0.001\n",
      "Accuracy on test data:  0.5804878048780487\n",
      "Combination 109/112: C=100, kernel=sigmoid, gamma=0.01\n",
      "Accuracy on test data:  0.4878048780487805\n",
      "Combination 110/112: C=100, kernel=sigmoid, gamma=0.1\n",
      "Accuracy on test data:  0.36097560975609755\n",
      "Combination 111/112: C=100, kernel=sigmoid, gamma=1\n",
      "Accuracy on test data:  0.3170731707317073\n",
      "Combination 112/112: C=100, kernel=sigmoid, gamma=10\n",
      "Accuracy on test data:  0.32195121951219513\n"
     ]
    }
   ],
   "source": [
    "import threading\n",
    "from sklearn.model_selection import GridSearchCV\n",
    "from sklearn.svm import SVC\n",
    "import pandas as pd\n",
    "\n",
    "# Define the parameter grid to search\n",
    "param_grid = {\n",
    "    'C': [0.1, 1, 10, 100],  # Regularization parameter\n",
    "    'kernel': ['linear', 'rbf', 'poly', 'sigmoid'],  # Kernel types\n",
    "    'gamma': ['scale', 'auto'] + [0.001, 0.01, 0.1, 1, 10]  # Kernel coefficient (only for 'rbf', 'poly', 'sigmoid')\n",
    "}\n",
    "\n",
    "# Create an SVM model\n",
    "svm = SVC()\n",
    "\n",
    "# Create a GridSearchCV object with the SVM model and parameter grid\n",
    "grid_search = GridSearchCV(svm, param_grid, cv=5, scoring='accuracy')\n",
    "\n",
    "# Initialize a variable to keep track of the number of combinations\n",
    "total_combinations = len(param_grid['C']) * len(param_grid['kernel']) * len(param_grid['gamma'])\n",
    "combination_count = 0\n",
    "\n",
    "# Create an empty list to store the results\n",
    "results = []\n",
    "\n",
    "# Lock for thread synchronization\n",
    "results_lock = threading.Lock()\n",
    "\n",
    "# Function to train the SVM model with a timeout\n",
    "def train_svm_with_timeout(C, kernel, gamma, result_flag):\n",
    "    try:\n",
    "        svm = SVC(C=C, kernel=kernel, gamma=gamma)\n",
    "        svm.fit(x_train, y_train)\n",
    "        y_pred = svm.predict(x_test)  # Predict on the test data\n",
    "        accuracy = (y_pred == y_test).mean()  # Calculate accuracy\n",
    "        with results_lock:\n",
    "            results.append([C, kernel, gamma, accuracy])\n",
    "        result_flag[0] = True\n",
    "    except Exception as e:\n",
    "        result_flag[0] = False\n",
    "\n",
    "# Fit the grid search to your training data\n",
    "for C in param_grid['C']:\n",
    "    for kernel in param_grid['kernel']:\n",
    "        for gamma in param_grid['gamma']:\n",
    "            combination_count += 1\n",
    "            print(f\"Combination {combination_count}/{total_combinations}: C={C}, kernel={kernel}, gamma={gamma}\")\n",
    "\n",
    "            result_flag = [False]\n",
    "\n",
    "            t = threading.Thread(target=train_svm_with_timeout, args=(C, kernel, gamma, result_flag))\n",
    "            t.start()\n",
    "            t.join(timeout=300)  # Adjust the timeout value as needed\n",
    "\n",
    "            if result_flag[0]:\n",
    "                print(\"Accuracy on test data: \", results[-1][-1])\n",
    "            else:\n",
    "                print(\"Training took too long or encountered an error. Skipping to the next combination.\")\n",
    "\n",
    "# Create a DataFrame from the results\n",
    "result_df = pd.DataFrame(results, columns=[\"C\", \"Kernel\", \"Gamma\", \"Accuracy\"])\n",
    "\n",
    "# Save the DataFrame to a CSV file\n",
    "output_csv = r\"dataset/csv/grid_search_results.csv\"\n",
    "result_df.to_csv(output_csv, index=False)"
   ]
  },
  {
   "cell_type": "markdown",
   "metadata": {
    "id": "O2GDDPFhXbe1"
   },
   "source": [
    "### Grid Search Training"
   ]
  },
  {
   "cell_type": "code",
   "execution_count": 327,
   "metadata": {
    "id": "c9oUYBQqWuxJ"
   },
   "outputs": [],
   "source": [
    "import pandas as pd\n",
    "grid_df=pd.read_csv(\"dataset/csv/grid_search_results.csv\")"
   ]
  },
  {
   "cell_type": "code",
   "execution_count": 328,
   "metadata": {},
   "outputs": [
    {
     "data": {
      "text/plain": [
       "112"
      ]
     },
     "execution_count": 328,
     "metadata": {},
     "output_type": "execute_result"
    }
   ],
   "source": [
    "len(grid_df)"
   ]
  },
  {
   "cell_type": "code",
   "execution_count": 329,
   "metadata": {
    "colab": {
     "base_uri": "https://localhost:8080/",
     "height": 206
    },
    "id": "O-_moD9EBSl4",
    "outputId": "d75a87ef-6407-48d6-eae1-abc2e99d3e18"
   },
   "outputs": [
    {
     "data": {
      "text/html": [
       "<div>\n",
       "<style scoped>\n",
       "    .dataframe tbody tr th:only-of-type {\n",
       "        vertical-align: middle;\n",
       "    }\n",
       "\n",
       "    .dataframe tbody tr th {\n",
       "        vertical-align: top;\n",
       "    }\n",
       "\n",
       "    .dataframe thead th {\n",
       "        text-align: right;\n",
       "    }\n",
       "</style>\n",
       "<table border=\"1\" class=\"dataframe\">\n",
       "  <thead>\n",
       "    <tr style=\"text-align: right;\">\n",
       "      <th></th>\n",
       "      <th>C</th>\n",
       "      <th>Kernel</th>\n",
       "      <th>Gamma</th>\n",
       "      <th>Accuracy</th>\n",
       "    </tr>\n",
       "  </thead>\n",
       "  <tbody>\n",
       "    <tr>\n",
       "      <th>0</th>\n",
       "      <td>0.1</td>\n",
       "      <td>linear</td>\n",
       "      <td>scale</td>\n",
       "      <td>0.580488</td>\n",
       "    </tr>\n",
       "    <tr>\n",
       "      <th>1</th>\n",
       "      <td>0.1</td>\n",
       "      <td>linear</td>\n",
       "      <td>auto</td>\n",
       "      <td>0.580488</td>\n",
       "    </tr>\n",
       "    <tr>\n",
       "      <th>2</th>\n",
       "      <td>0.1</td>\n",
       "      <td>linear</td>\n",
       "      <td>0.001</td>\n",
       "      <td>0.580488</td>\n",
       "    </tr>\n",
       "    <tr>\n",
       "      <th>3</th>\n",
       "      <td>0.1</td>\n",
       "      <td>linear</td>\n",
       "      <td>0.01</td>\n",
       "      <td>0.580488</td>\n",
       "    </tr>\n",
       "    <tr>\n",
       "      <th>4</th>\n",
       "      <td>0.1</td>\n",
       "      <td>linear</td>\n",
       "      <td>0.1</td>\n",
       "      <td>0.580488</td>\n",
       "    </tr>\n",
       "  </tbody>\n",
       "</table>\n",
       "</div>"
      ],
      "text/plain": [
       "     C  Kernel  Gamma  Accuracy\n",
       "0  0.1  linear  scale  0.580488\n",
       "1  0.1  linear   auto  0.580488\n",
       "2  0.1  linear  0.001  0.580488\n",
       "3  0.1  linear   0.01  0.580488\n",
       "4  0.1  linear    0.1  0.580488"
      ]
     },
     "execution_count": 329,
     "metadata": {},
     "output_type": "execute_result"
    }
   ],
   "source": [
    "grid_df.head()"
   ]
  },
  {
   "cell_type": "code",
   "execution_count": 330,
   "metadata": {
    "colab": {
     "base_uri": "https://localhost:8080/"
    },
    "id": "-poYVx5PGsOv",
    "outputId": "bb3545f0-cac1-4e5e-ce6c-82f5566f1e36"
   },
   "outputs": [
    {
     "name": "stdout",
     "output_type": "stream",
     "text": [
      "C           10.0\n",
      "Kernel       rbf\n",
      "Gamma        0.1\n",
      "Accuracy     0.8\n",
      "Name: 67, dtype: object\n"
     ]
    }
   ],
   "source": [
    "# Find the index of the row with the highest accuracy\n",
    "max_accuracy_index = grid_df['Accuracy'].idxmax()\n",
    "\n",
    "# Get the row with the highest accuracy\n",
    "row_with_highest_accuracy = grid_df.loc[max_accuracy_index]\n",
    "\n",
    "print(row_with_highest_accuracy)"
   ]
  },
  {
   "cell_type": "code",
   "execution_count": 331,
   "metadata": {
    "id": "GvR5JjIWHVAA"
   },
   "outputs": [],
   "source": [
    "from sklearn.svm import SVC\n",
    "\n",
    "# Specify the parameters\n",
    "C = float(row_with_highest_accuracy.C)\n",
    "kernel = row_with_highest_accuracy.Kernel\n",
    "gamma_value = row_with_highest_accuracy.Gamma\n",
    "\n",
    "# Check if gamma is a string and not 'auto' or 'scale'\n",
    "if isinstance(gamma_value, str):\n",
    "    try:\n",
    "        gamma = float(gamma_value)  # Try to convert to float\n",
    "    except ValueError:\n",
    "        raise ValueError(\"Invalid gamma value\")\n",
    "else:\n",
    "    gamma = gamma_value  # It's either 'auto', 'scale', or a valid string\n",
    "\n",
    "# Create an SVC with the specified parameters\n",
    "svm = SVC(C=C, kernel=kernel, gamma=gamma)\n",
    "\n",
    "# Train the model on your training data\n",
    "train_grid = svm.fit(x_train, y_train)"
   ]
  },
  {
   "cell_type": "code",
   "execution_count": 332,
   "metadata": {
    "colab": {
     "base_uri": "https://localhost:8080/",
     "height": 75
    },
    "id": "Kv5dXdpFHwKZ",
    "outputId": "2053eec0-fefd-4e22-f6e9-6551df1c577e"
   },
   "outputs": [
    {
     "data": {
      "text/html": [
       "<style>#sk-container-id-13 {color: black;}#sk-container-id-13 pre{padding: 0;}#sk-container-id-13 div.sk-toggleable {background-color: white;}#sk-container-id-13 label.sk-toggleable__label {cursor: pointer;display: block;width: 100%;margin-bottom: 0;padding: 0.3em;box-sizing: border-box;text-align: center;}#sk-container-id-13 label.sk-toggleable__label-arrow:before {content: \"▸\";float: left;margin-right: 0.25em;color: #696969;}#sk-container-id-13 label.sk-toggleable__label-arrow:hover:before {color: black;}#sk-container-id-13 div.sk-estimator:hover label.sk-toggleable__label-arrow:before {color: black;}#sk-container-id-13 div.sk-toggleable__content {max-height: 0;max-width: 0;overflow: hidden;text-align: left;background-color: #f0f8ff;}#sk-container-id-13 div.sk-toggleable__content pre {margin: 0.2em;color: black;border-radius: 0.25em;background-color: #f0f8ff;}#sk-container-id-13 input.sk-toggleable__control:checked~div.sk-toggleable__content {max-height: 200px;max-width: 100%;overflow: auto;}#sk-container-id-13 input.sk-toggleable__control:checked~label.sk-toggleable__label-arrow:before {content: \"▾\";}#sk-container-id-13 div.sk-estimator input.sk-toggleable__control:checked~label.sk-toggleable__label {background-color: #d4ebff;}#sk-container-id-13 div.sk-label input.sk-toggleable__control:checked~label.sk-toggleable__label {background-color: #d4ebff;}#sk-container-id-13 input.sk-hidden--visually {border: 0;clip: rect(1px 1px 1px 1px);clip: rect(1px, 1px, 1px, 1px);height: 1px;margin: -1px;overflow: hidden;padding: 0;position: absolute;width: 1px;}#sk-container-id-13 div.sk-estimator {font-family: monospace;background-color: #f0f8ff;border: 1px dotted black;border-radius: 0.25em;box-sizing: border-box;margin-bottom: 0.5em;}#sk-container-id-13 div.sk-estimator:hover {background-color: #d4ebff;}#sk-container-id-13 div.sk-parallel-item::after {content: \"\";width: 100%;border-bottom: 1px solid gray;flex-grow: 1;}#sk-container-id-13 div.sk-label:hover label.sk-toggleable__label {background-color: #d4ebff;}#sk-container-id-13 div.sk-serial::before {content: \"\";position: absolute;border-left: 1px solid gray;box-sizing: border-box;top: 0;bottom: 0;left: 50%;z-index: 0;}#sk-container-id-13 div.sk-serial {display: flex;flex-direction: column;align-items: center;background-color: white;padding-right: 0.2em;padding-left: 0.2em;position: relative;}#sk-container-id-13 div.sk-item {position: relative;z-index: 1;}#sk-container-id-13 div.sk-parallel {display: flex;align-items: stretch;justify-content: center;background-color: white;position: relative;}#sk-container-id-13 div.sk-item::before, #sk-container-id-13 div.sk-parallel-item::before {content: \"\";position: absolute;border-left: 1px solid gray;box-sizing: border-box;top: 0;bottom: 0;left: 50%;z-index: -1;}#sk-container-id-13 div.sk-parallel-item {display: flex;flex-direction: column;z-index: 1;position: relative;background-color: white;}#sk-container-id-13 div.sk-parallel-item:first-child::after {align-self: flex-end;width: 50%;}#sk-container-id-13 div.sk-parallel-item:last-child::after {align-self: flex-start;width: 50%;}#sk-container-id-13 div.sk-parallel-item:only-child::after {width: 0;}#sk-container-id-13 div.sk-dashed-wrapped {border: 1px dashed gray;margin: 0 0.4em 0.5em 0.4em;box-sizing: border-box;padding-bottom: 0.4em;background-color: white;}#sk-container-id-13 div.sk-label label {font-family: monospace;font-weight: bold;display: inline-block;line-height: 1.2em;}#sk-container-id-13 div.sk-label-container {text-align: center;}#sk-container-id-13 div.sk-container {/* jupyter's `normalize.less` sets `[hidden] { display: none; }` but bootstrap.min.css set `[hidden] { display: none !important; }` so we also need the `!important` here to be able to override the default hidden behavior on the sphinx rendered scikit-learn.org. See: https://github.com/scikit-learn/scikit-learn/issues/21755 */display: inline-block !important;position: relative;}#sk-container-id-13 div.sk-text-repr-fallback {display: none;}</style><div id=\"sk-container-id-13\" class=\"sk-top-container\"><div class=\"sk-text-repr-fallback\"><pre>SVC(C=10.0, gamma=0.1)</pre><b>In a Jupyter environment, please rerun this cell to show the HTML representation or trust the notebook. <br />On GitHub, the HTML representation is unable to render, please try loading this page with nbviewer.org.</b></div><div class=\"sk-container\" hidden><div class=\"sk-item\"><div class=\"sk-estimator sk-toggleable\"><input class=\"sk-toggleable__control sk-hidden--visually\" id=\"sk-estimator-id-13\" type=\"checkbox\" checked><label for=\"sk-estimator-id-13\" class=\"sk-toggleable__label sk-toggleable__label-arrow\">SVC</label><div class=\"sk-toggleable__content\"><pre>SVC(C=10.0, gamma=0.1)</pre></div></div></div></div></div>"
      ],
      "text/plain": [
       "SVC(C=10.0, gamma=0.1)"
      ]
     },
     "execution_count": 332,
     "metadata": {},
     "output_type": "execute_result"
    }
   ],
   "source": [
    "train_grid"
   ]
  },
  {
   "cell_type": "code",
   "execution_count": 333,
   "metadata": {},
   "outputs": [
    {
     "data": {
      "text/plain": [
       "['models/classifiers/Rice_classifier_model.pkl']"
      ]
     },
     "execution_count": 333,
     "metadata": {},
     "output_type": "execute_result"
    }
   ],
   "source": [
    "import joblib\n",
    "\n",
    "# Save the trained model to a file\n",
    "joblib.dump(train_grid, 'models/classifiers/Rice_classifier_model.pkl')"
   ]
  },
  {
   "cell_type": "code",
   "execution_count": 334,
   "metadata": {
    "id": "6W9dE5PDH7dy"
   },
   "outputs": [],
   "source": [
    "y_pred=train_grid.predict(x_test)"
   ]
  },
  {
   "cell_type": "code",
   "execution_count": 335,
   "metadata": {
    "colab": {
     "base_uri": "https://localhost:8080/"
    },
    "id": "mufW_xTlH82J",
    "outputId": "087f12b3-5f7c-440f-9aa1-f09a234c328c"
   },
   "outputs": [
    {
     "data": {
      "text/plain": [
       "array(['Hispa', 'Brown Spot', 'Hispa', 'Hispa', 'Healthy', 'Brown Spot',\n",
       "       'Hispa', 'Leaf Blast', 'Hispa', 'Hispa', 'Healthy', 'Healthy',\n",
       "       'Hispa', 'Healthy', 'Healthy', 'Hispa', 'Leaf Blast', 'Healthy',\n",
       "       'Healthy', 'Healthy', 'Brown Spot', 'Leaf Blast', 'Hispa',\n",
       "       'Brown Spot', 'Hispa', 'Leaf Blast', 'Healthy', 'Brown Spot',\n",
       "       'Leaf Blast', 'Hispa', 'Hispa', 'Healthy', 'Healthy', 'Leaf Blast',\n",
       "       'Healthy', 'Brown Spot', 'Leaf Blast', 'Hispa', 'Hispa',\n",
       "       'Brown Spot', 'Leaf Blast', 'Brown Spot', 'Leaf Blast',\n",
       "       'Leaf Blast', 'Leaf Blast', 'Hispa', 'Brown Spot', 'Leaf Blast',\n",
       "       'Leaf Blast', 'Leaf Blast', 'Hispa', 'Healthy', 'Hispa', 'Hispa',\n",
       "       'Leaf Blast', 'Hispa', 'Brown Spot', 'Healthy', 'Brown Spot',\n",
       "       'Leaf Blast', 'Leaf Blast', 'Leaf Blast', 'Brown Spot',\n",
       "       'Leaf Blast', 'Hispa', 'Hispa', 'Hispa', 'Healthy', 'Leaf Blast',\n",
       "       'Healthy', 'Leaf Blast', 'Leaf Blast', 'Healthy', 'Brown Spot',\n",
       "       'Hispa', 'Leaf Blast', 'Brown Spot', 'Hispa', 'Healthy', 'Hispa',\n",
       "       'Leaf Blast', 'Brown Spot', 'Hispa', 'Leaf Blast', 'Hispa',\n",
       "       'Leaf Blast', 'Healthy', 'Healthy', 'Hispa', 'Leaf Blast',\n",
       "       'Healthy', 'Brown Spot', 'Hispa', 'Hispa', 'Healthy', 'Leaf Blast',\n",
       "       'Healthy', 'Hispa', 'Brown Spot', 'Healthy', 'Leaf Blast', 'Hispa',\n",
       "       'Leaf Blast', 'Healthy', 'Brown Spot', 'Hispa', 'Brown Spot',\n",
       "       'Leaf Blast', 'Healthy', 'Leaf Blast', 'Leaf Blast', 'Healthy',\n",
       "       'Leaf Blast', 'Leaf Blast', 'Healthy', 'Hispa', 'Leaf Blast',\n",
       "       'Hispa', 'Healthy', 'Healthy', 'Healthy', 'Leaf Blast', 'Hispa',\n",
       "       'Leaf Blast', 'Brown Spot', 'Healthy', 'Leaf Blast', 'Healthy',\n",
       "       'Healthy', 'Leaf Blast', 'Brown Spot', 'Healthy', 'Leaf Blast',\n",
       "       'Healthy', 'Brown Spot', 'Healthy', 'Leaf Blast', 'Brown Spot',\n",
       "       'Hispa', 'Leaf Blast', 'Leaf Blast', 'Healthy', 'Leaf Blast',\n",
       "       'Healthy', 'Leaf Blast', 'Leaf Blast', 'Healthy', 'Healthy',\n",
       "       'Healthy', 'Leaf Blast', 'Hispa', 'Leaf Blast', 'Brown Spot',\n",
       "       'Healthy', 'Healthy', 'Leaf Blast', 'Hispa', 'Hispa', 'Healthy',\n",
       "       'Healthy', 'Brown Spot', 'Brown Spot', 'Leaf Blast', 'Brown Spot',\n",
       "       'Hispa', 'Healthy', 'Healthy', 'Brown Spot', 'Leaf Blast',\n",
       "       'Leaf Blast', 'Brown Spot', 'Leaf Blast', 'Hispa', 'Hispa',\n",
       "       'Hispa', 'Leaf Blast', 'Hispa', 'Hispa', 'Healthy', 'Healthy',\n",
       "       'Hispa', 'Healthy', 'Brown Spot', 'Leaf Blast', 'Leaf Blast',\n",
       "       'Brown Spot', 'Brown Spot', 'Leaf Blast', 'Healthy', 'Leaf Blast',\n",
       "       'Healthy', 'Hispa', 'Healthy', 'Brown Spot', 'Leaf Blast',\n",
       "       'Healthy', 'Brown Spot', 'Healthy', 'Leaf Blast', 'Leaf Blast',\n",
       "       'Leaf Blast', 'Healthy', 'Healthy', 'Healthy', 'Hispa'],\n",
       "      dtype=object)"
      ]
     },
     "execution_count": 335,
     "metadata": {},
     "output_type": "execute_result"
    }
   ],
   "source": [
    "y_pred"
   ]
  },
  {
   "cell_type": "code",
   "execution_count": 336,
   "metadata": {
    "colab": {
     "base_uri": "https://localhost:8080/"
    },
    "id": "L9cHncURIAob",
    "outputId": "ee4db70d-dde7-4eda-b8ed-266fdfdef23f"
   },
   "outputs": [
    {
     "data": {
      "text/plain": [
       "array(['Hispa', 'Brown Spot', 'Brown Spot', 'Hispa', 'Healthy',\n",
       "       'Brown Spot', 'Brown Spot', 'Leaf Blast', 'Hispa', 'Leaf Blast',\n",
       "       'Healthy', 'Healthy', 'Hispa', 'Healthy', 'Healthy', 'Hispa',\n",
       "       'Leaf Blast', 'Healthy', 'Healthy', 'Healthy', 'Brown Spot',\n",
       "       'Brown Spot', 'Hispa', 'Brown Spot', 'Leaf Blast', 'Leaf Blast',\n",
       "       'Healthy', 'Brown Spot', 'Healthy', 'Leaf Blast', 'Hispa',\n",
       "       'Healthy', 'Healthy', 'Leaf Blast', 'Healthy', 'Brown Spot',\n",
       "       'Brown Spot', 'Hispa', 'Hispa', 'Brown Spot', 'Leaf Blast',\n",
       "       'Brown Spot', 'Leaf Blast', 'Brown Spot', 'Leaf Blast', 'Hispa',\n",
       "       'Leaf Blast', 'Leaf Blast', 'Brown Spot', 'Leaf Blast', 'Hispa',\n",
       "       'Healthy', 'Hispa', 'Hispa', 'Hispa', 'Hispa', 'Leaf Blast',\n",
       "       'Healthy', 'Brown Spot', 'Leaf Blast', 'Leaf Blast', 'Leaf Blast',\n",
       "       'Healthy', 'Brown Spot', 'Hispa', 'Hispa', 'Healthy', 'Healthy',\n",
       "       'Leaf Blast', 'Healthy', 'Hispa', 'Hispa', 'Healthy', 'Brown Spot',\n",
       "       'Hispa', 'Leaf Blast', 'Brown Spot', 'Hispa', 'Healthy', 'Hispa',\n",
       "       'Leaf Blast', 'Brown Spot', 'Hispa', 'Leaf Blast', 'Healthy',\n",
       "       'Leaf Blast', 'Hispa', 'Healthy', 'Hispa', 'Leaf Blast',\n",
       "       'Brown Spot', 'Brown Spot', 'Hispa', 'Hispa', 'Healthy',\n",
       "       'Leaf Blast', 'Healthy', 'Hispa', 'Brown Spot', 'Healthy',\n",
       "       'Leaf Blast', 'Hispa', 'Healthy', 'Healthy', 'Brown Spot', 'Hispa',\n",
       "       'Brown Spot', 'Hispa', 'Healthy', 'Leaf Blast', 'Leaf Blast',\n",
       "       'Healthy', 'Leaf Blast', 'Leaf Blast', 'Healthy', 'Hispa',\n",
       "       'Leaf Blast', 'Hispa', 'Healthy', 'Hispa', 'Leaf Blast', 'Healthy',\n",
       "       'Leaf Blast', 'Leaf Blast', 'Brown Spot', 'Healthy', 'Hispa',\n",
       "       'Healthy', 'Healthy', 'Leaf Blast', 'Hispa', 'Healthy',\n",
       "       'Leaf Blast', 'Healthy', 'Brown Spot', 'Healthy', 'Leaf Blast',\n",
       "       'Brown Spot', 'Hispa', 'Leaf Blast', 'Leaf Blast', 'Hispa',\n",
       "       'Leaf Blast', 'Hispa', 'Leaf Blast', 'Leaf Blast', 'Brown Spot',\n",
       "       'Healthy', 'Healthy', 'Brown Spot', 'Hispa', 'Leaf Blast',\n",
       "       'Brown Spot', 'Healthy', 'Healthy', 'Leaf Blast', 'Hispa', 'Hispa',\n",
       "       'Healthy', 'Healthy', 'Brown Spot', 'Brown Spot', 'Brown Spot',\n",
       "       'Brown Spot', 'Hispa', 'Leaf Blast', 'Healthy', 'Brown Spot',\n",
       "       'Leaf Blast', 'Brown Spot', 'Leaf Blast', 'Leaf Blast', 'Hispa',\n",
       "       'Hispa', 'Healthy', 'Leaf Blast', 'Hispa', 'Hispa', 'Healthy',\n",
       "       'Healthy', 'Hispa', 'Healthy', 'Brown Spot', 'Leaf Blast',\n",
       "       'Leaf Blast', 'Brown Spot', 'Brown Spot', 'Healthy', 'Healthy',\n",
       "       'Leaf Blast', 'Healthy', 'Hispa', 'Healthy', 'Brown Spot',\n",
       "       'Leaf Blast', 'Healthy', 'Leaf Blast', 'Hispa', 'Leaf Blast',\n",
       "       'Leaf Blast', 'Leaf Blast', 'Healthy', 'Healthy', 'Healthy',\n",
       "       'Hispa'], dtype=object)"
      ]
     },
     "execution_count": 336,
     "metadata": {},
     "output_type": "execute_result"
    }
   ],
   "source": [
    "y_test"
   ]
  },
  {
   "cell_type": "code",
   "execution_count": 337,
   "metadata": {
    "colab": {
     "base_uri": "https://localhost:8080/"
    },
    "id": "7ZZvrYbEIB4d",
    "outputId": "377f879b-d690-49ad-d81a-4e8b3a9680b6"
   },
   "outputs": [
    {
     "data": {
      "text/plain": [
       "0.8"
      ]
     },
     "execution_count": 337,
     "metadata": {},
     "output_type": "execute_result"
    }
   ],
   "source": [
    "from sklearn.metrics import accuracy_score\n",
    "accuracy_score(y_test,y_pred)"
   ]
  },
  {
   "cell_type": "markdown",
   "metadata": {
    "id": "X4iEOo5dXvx-"
   },
   "source": [
    "### Grid Search Checking"
   ]
  },
  {
   "cell_type": "code",
   "execution_count": 338,
   "metadata": {
    "colab": {
     "base_uri": "https://localhost:8080/",
     "height": 872
    },
    "id": "KsR-naNCXJd1",
    "outputId": "5d0f9fca-62d2-4db3-f2f6-8d90213da193"
   },
   "outputs": [
    {
     "data": {
      "image/png": "[encoded data removed]",
      "text/plain": [
       "<Figure size 1000x1000 with 2 Axes>"
      ]
     },
     "metadata": {},
     "output_type": "display_data"
    }
   ],
   "source": [
    "from sklearn.metrics import confusion_matrix\n",
    "import seaborn as sns\n",
    "import matplotlib.pyplot as plt\n",
    "\n",
    "# Assuming 'y_test' contains the true labels and 'y_pred' contains the predicted labels\n",
    "conf_mat = confusion_matrix(y_test, y_pred, labels=data['types'].unique())\n",
    "\n",
    "# Create the heatmap\n",
    "fig, ax = plt.subplots(figsize=(10, 10))\n",
    "sns.heatmap(conf_mat, annot=True, fmt='d',\n",
    "            xticklabels=data['types'].unique(),\n",
    "            yticklabels=data['types'].unique())\n",
    "plt.ylabel('Actual')\n",
    "plt.xlabel('Predicted')\n",
    "plt.title(\"Confusion Matrix - Linear SVC\")\n",
    "plt.show()"
   ]
  },
  {
   "cell_type": "code",
   "execution_count": 339,
   "metadata": {
    "colab": {
     "base_uri": "https://localhost:8080/"
    },
    "id": "MAcFnPHGXu1E",
    "outputId": "48396ef1-fa30-4d15-bfe2-ccbbd18e42b0"
   },
   "outputs": [
    {
     "name": "stdout",
     "output_type": "stream",
     "text": [
      "Class Brown Spot - Precision: 0.8235294117647058 \n",
      "\t\t  Recall: 0.7 \n",
      "\t\t  F1-Score: 0.7567567567567567\n",
      "\n",
      "Class Healthy - Precision: 0.847457627118644 \n",
      "\t\t  Recall: 0.8620689655172413 \n",
      "\t\t  F1-Score: 0.8547008547008546\n",
      "\n",
      "Class Hispa - Precision: 0.8163265306122449 \n",
      "\t\t  Recall: 0.7843137254901961 \n",
      "\t\t  F1-Score: 0.8\n",
      "\n",
      "Class Leaf Blast - Precision: 0.7301587301587301 \n",
      "\t\t  Recall: 0.8214285714285714 \n",
      "\t\t  F1-Score: 0.773109243697479\n",
      "\n"
     ]
    }
   ],
   "source": [
    "from sklearn.metrics import precision_score, recall_score, f1_score\n",
    "\n",
    "# Assuming you have true labels (y_true) and predicted labels (y_pred)\n",
    "y_true = y_test\n",
    "y_pred = y_pred\n",
    "\n",
    "data=pd.read_csv(\"dataset/csv/image_features.csv\")\n",
    "types = data[\"types\"]\n",
    "types_labels = types.unique()\n",
    "\n",
    "# Compute precision, recall, and F1-score for each class\n",
    "classes = types_labels\n",
    "\n",
    "precision = precision_score(y_true, y_pred, labels=classes, average=None, zero_division=0)\n",
    "recall = recall_score(y_true, y_pred, labels=classes, average=None, zero_division=0)\n",
    "f1 = f1_score(y_true, y_pred, labels=classes, average=None, zero_division=0)\n",
    "\n",
    "# Display the results for each class\n",
    "for class_label, p, r, f in zip(classes, precision, recall, f1):\n",
    "    print(f\"Class {class_label} - Precision: {p} \\n\\t\\t  Recall: {r} \\n\\t\\t  F1-Score: {f}\\n\")"
   ]
  },
  {
   "cell_type": "code",
   "execution_count": null,
   "metadata": {
    "id": "s4UKeglBX_1X"
   },
   "outputs": [],
   "source": []
  }
 ],
 "metadata": {
  "colab": {
   "provenance": []
  },
  "kernelspec": {
   "display_name": "Python 3 (ipykernel)",
   "language": "python",
   "name": "python3"
  },
  "language_info": {
   "codemirror_mode": {
    "name": "ipython",
    "version": 3
   },
   "file_extension": ".py",
   "mimetype": "text/x-python",
   "name": "python",
   "nbconvert_exporter": "python",
   "pygments_lexer": "ipython3",
   "version": "3.11.4"
  }
 },
 "nbformat": 4,
 "nbformat_minor": 1
}
