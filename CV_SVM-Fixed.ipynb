{
 "cells": [
  {
   "cell_type": "markdown",
   "metadata": {},
   "source": [
    "# IMAGE PREPROCESSING"
   ]
  },
  {
   "cell_type": "markdown",
   "metadata": {},
   "source": [
    "## Background Removal"
   ]
  },
  {
   "cell_type": "code",
   "execution_count": null,
   "metadata": {},
   "outputs": [],
   "source": [
    "from PIL import Image\n",
    "import os\n",
    "\n",
    "def remove_white_background(input_path, output_path, compression_quality=85):\n",
    "    # Open the image\n",
    "    image = Image.open(input_path)\n",
    "\n",
    "    # Convert the image to RGBA (if it's not already)\n",
    "    image = image.convert('RGBA')\n",
    "\n",
    "    # Get data of the image\n",
    "    data = image.getdata()\n",
    "\n",
    "    # Define a threshold to identify the white background\n",
    "    threshold = 255\n",
    "    new_data = []\n",
    "    for item in data:\n",
    "        # Set the pixel to transparent if it's white\n",
    "        if item[0] > threshold and item[1] > threshold and item[2] > threshold:\n",
    "            new_data.append((255, 255, 255, 0))  # White becomes transparent\n",
    "        else:\n",
    "            new_data.append(item)\n",
    "\n",
    "    # Update the image data\n",
    "    image.putdata(new_data)\n",
    "\n",
    "    # Convert the image to RGB before saving as JPEG\n",
    "    rgb_image = image.convert('RGB')\n",
    "\n",
    "    # Save the result with compression\n",
    "    rgb_image.save(output_path, quality=compression_quality)\n",
    "\n",
    "# Dataset path\n",
    "ds_path = r\"dataset/images\"\n",
    "\n",
    "# Count the number of subfolders in the dataset path to determine the number of classes\n",
    "class_folders = [f for f in os.listdir(ds_path) if os.path.isdir(os.path.join(ds_path, f))]\n",
    "num_classes = len(class_folders)\n",
    "\n",
    "print(\"Number of Classes: \", num_classes)\n",
    "print(\"Classes: \", class_folders)\n",
    "\n",
    "types = 0\n",
    "\n",
    "for folder in class_folders:\n",
    "    disease_folder = os.path.join(ds_path, folder)\n",
    "\n",
    "    print('Processing images in folder: ', folder)\n",
    "\n",
    "    # Create a folder for the processed images if it doesn't exist\n",
    "    output_folder = os.path.join('dataset/other images', f\"{folder}_processed\")\n",
    "    os.makedirs(output_folder, exist_ok=True)\n",
    "\n",
    "    for image_name in os.listdir(disease_folder):\n",
    "        input_image_path = os.path.join(disease_folder, image_name)\n",
    "        output_image_path = os.path.join(output_folder, image_name)\n",
    "\n",
    "        # Call the function to remove the white background and compress the image\n",
    "        remove_white_background(input_image_path, output_image_path)\n"
   ]
  },
  {
   "cell_type": "markdown",
   "metadata": {},
   "source": [
    "## Resizing Images"
   ]
  },
  {
   "cell_type": "code",
   "execution_count": null,
   "metadata": {},
   "outputs": [],
   "source": [
    "from PIL import Image\n",
    "import os\n",
    "\n",
    "def resize_images(input_path, output_path, target_size=(256, 256), compression_quality=85):\n",
    "    # Open the image\n",
    "    image = Image.open(input_path)\n",
    "\n",
    "    # Resize the image\n",
    "    resized_image = image.resize(target_size)\n",
    "\n",
    "    # Convert the image to RGB before saving as JPEG\n",
    "    rgb_image = resized_image.convert('RGB')\n",
    "\n",
    "    # Save the resized image with compression\n",
    "    rgb_image.save(output_path, quality=compression_quality)\n",
    "\n",
    "# Dataset path\n",
    "ds_path = r\"dataset/images\"\n",
    "\n",
    "# Count the number of subfolders in the dataset path to determine the number of classes\n",
    "class_folders = [f for f in os.listdir(ds_path) if os.path.isdir(os.path.join(ds_path, f))]\n",
    "num_classes = len(class_folders)\n",
    "\n",
    "print(\"Number of Classes: \", num_classes)\n",
    "print(\"Classes: \", class_folders)\n",
    "\n",
    "for folder in class_folders:\n",
    "    disease_folder = os.path.join(ds_path, folder)\n",
    "\n",
    "    print('Processing images in folder: ', folder)\n",
    "\n",
    "    # Create a folder for the processed images if it doesn't exist\n",
    "    output_folder = os.path.join('dataset/other images', f\"{folder}_processed\")\n",
    "    os.makedirs(output_folder, exist_ok=True)\n",
    "\n",
    "    for image_name in os.listdir(disease_folder):\n",
    "        input_image_path = os.path.join(disease_folder, image_name)\n",
    "        output_image_path = os.path.join(output_folder, image_name)\n",
    "\n",
    "        # Call the function to resize the image to 256 x 256 pixels and compress the image\n",
    "        resize_images(input_image_path, output_image_path, target_size=(256, 256))"
   ]
  },
  {
   "cell_type": "markdown",
   "metadata": {
    "id": "W62QS_j2kS93"
   },
   "source": [
    "# EDI-FEATURES\n"
   ]
  },
  {
   "cell_type": "code",
   "execution_count": null,
   "metadata": {
    "id": "ezJqQ5XxkXRX"
   },
   "outputs": [],
   "source": [
    "import os\n",
    "import cv2\n",
    "import numpy as np\n",
    "import pandas as pd\n",
    "from skimage.feature import graycomatrix, graycoprops"
   ]
  },
  {
   "cell_type": "code",
   "execution_count": null,
   "metadata": {
    "id": "aHfhJgcPlvNq"
   },
   "outputs": [],
   "source": [
    "ds_path = r\"dataset/images\"\n",
    "diseases= os.listdir(ds_path)"
   ]
  },
  {
   "cell_type": "code",
   "execution_count": null,
   "metadata": {
    "colab": {
     "base_uri": "https://localhost:8080/"
    },
    "id": "aeEDqxeFmkLM",
    "outputId": "01828314-680a-4165-c486-9277280b7a97"
   },
   "outputs": [],
   "source": [
    "diseases"
   ]
  },
  {
   "cell_type": "code",
   "execution_count": null,
   "metadata": {},
   "outputs": [],
   "source": [
    "from skimage import exposure\n",
    "from skimage.feature import hog\n",
    "from skimage.measure import regionprops\n",
    "from scipy import stats\n",
    "from skimage.measure import label\n",
    "\n",
    "# Set the dataset path\n",
    "ds_path = r\"dataset/images\"\n",
    "\n",
    "def features():\n",
    "    names = ['area', 'perimeter', 'physiological_length', 'physiological_width', 'aspect_ratio',\n",
    "             'mean_r', 'mean_g', 'mean_b', 'stddev_r', 'stddev_g', 'stddev_b',\n",
    "             'contrast', 'energy', 'homogeneity', 'correlation', 'dissimilarity',\n",
    "             'eccentricity', 'solidity', 'equiv_diameter', 'major_axis_length', 'minor_axis_length',\n",
    "             'skewness', 'kurtosis', 'hog_feature_1', 'hog_feature_2', 'hog_feature_3', 'types'\n",
    "            ]\n",
    "    df = pd.DataFrame(columns=names)\n",
    "\n",
    "    # Count the number of subfolders in the dataset path to determine the number of classes (labels)\n",
    "    class_folders = [f for f in os.listdir(ds_path) if os.path.isdir(os.path.join(ds_path, f))]\n",
    "    num_classes = len(class_folders)\n",
    "\n",
    "    print(\"Number of Classes: \", num_classes)\n",
    "    print(\"Classes: \", class_folders)\n",
    "\n",
    "    for folder in class_folders:\n",
    "        disease_folder = os.path.join(ds_path, folder)\n",
    "\n",
    "        print('Extracting features in folder: ', folder)\n",
    "        types = folder\n",
    "        index = 0\n",
    "        image_count = 0  # Counter for the number of images in the folder\n",
    "        \n",
    "        for image in os.listdir(disease_folder):\n",
    "            index = index + 1\n",
    "            image_count += 1  # Increment the counter for each image\n",
    "            imgpath = os.path.join(disease_folder, image)\n",
    "            main_img = cv2.imread(imgpath)\n",
    "\n",
    "            # Preprocessing\n",
    "            img = cv2.cvtColor(main_img, cv2.COLOR_BGR2RGB)\n",
    "            gs = cv2.cvtColor(img, cv2.COLOR_RGB2GRAY)\n",
    "            blur = cv2.GaussianBlur(gs, (25, 25), 0)\n",
    "            ret, thresh = cv2.threshold(blur, 0, 255, cv2.THRESH_BINARY_INV + cv2.THRESH_OTSU)\n",
    "            kernel = np.ones((50, 50), np.uint8)\n",
    "            closing = cv2.morphologyEx(thresh, cv2.MORPH_CLOSE, kernel)\n",
    "\n",
    "            # Shape features\n",
    "            contours, _ = cv2.findContours(closing, cv2.RETR_TREE, cv2.CHAIN_APPROX_SIMPLE)\n",
    "            cnt = contours[0]\n",
    "            area = cv2.contourArea(cnt)\n",
    "            perimeter = cv2.arcLength(cnt, True)\n",
    "            x, y, w, h = cv2.boundingRect(cnt)\n",
    "            aspect_ratio = float(w) / h\n",
    "\n",
    "            # Color features\n",
    "            red_channel = img[:, :, 0]\n",
    "            green_channel = img[:, :, 1]\n",
    "            blue_channel = img[:, :, 2]\n",
    "\n",
    "            red_mean = np.mean(red_channel)\n",
    "            green_mean = np.mean(green_channel)\n",
    "            blue_mean = np.mean(blue_channel)\n",
    "\n",
    "            # Std deviation\n",
    "            red_std = np.std(red_channel)\n",
    "            green_std = np.std(green_channel)\n",
    "            blue_std = np.std(blue_channel)\n",
    "\n",
    "            # Texture features using GLCM matrix\n",
    "            glcm = graycomatrix(gs,\n",
    "                                distances=[1],\n",
    "                                angles=[0],\n",
    "                                symmetric=True,\n",
    "                                normed=True)\n",
    "\n",
    "            properties = ['contrast', 'energy', 'homogeneity', 'correlation', 'dissimilarity']\n",
    "            contrast = graycoprops(glcm, properties[0])\n",
    "            energy = graycoprops(glcm, properties[1])\n",
    "            homogeneity = graycoprops(glcm, properties[2])\n",
    "            correlation = graycoprops(glcm, properties[3])\n",
    "            dissimilarity = graycoprops(glcm, properties[4])\n",
    "\n",
    "            # Statistical moments\n",
    "            skewness = stats.skew(gs.flatten())\n",
    "            kurtosis = stats.kurtosis(gs.flatten())\n",
    "\n",
    "            # Additional features\n",
    "            labeled_img = label(closing)\n",
    "            regions = regionprops(labeled_img)\n",
    "\n",
    "            eccentricity = regions[0].eccentricity\n",
    "            solidity = regions[0].solidity\n",
    "            equiv_diameter = regions[0].equivalent_diameter\n",
    "            major_axis_length = regions[0].major_axis_length\n",
    "            minor_axis_length = regions[0].minor_axis_length\n",
    "\n",
    "            # HOG features\n",
    "            hog_features = hog(gs, orientations=8, pixels_per_cell=(8, 8), cells_per_block=(1, 1), block_norm='L2-Hys')\n",
    "\n",
    "            vector = [area, perimeter, w, h, aspect_ratio,\n",
    "                      red_mean, green_mean, blue_mean, red_std, green_std, blue_std,\n",
    "                      contrast[0][0], energy[0][0], homogeneity[0][0], correlation[0][0], dissimilarity[0][0],\n",
    "                      eccentricity, solidity, equiv_diameter, major_axis_length, minor_axis_length,\n",
    "                      skewness, kurtosis, hog_features[0], hog_features[1], hog_features[2], types]\n",
    "\n",
    "            df_temp = pd.DataFrame([vector], columns=names)\n",
    "            df = pd.concat([df, df_temp], ignore_index=True)\n",
    "\n",
    "        print(f\"Number of images in folder '{folder}': {image_count}\")\n",
    "\n",
    "    return df"
   ]
  },
  {
   "cell_type": "code",
   "execution_count": null,
   "metadata": {
    "colab": {
     "base_uri": "https://localhost:8080/"
    },
    "id": "-lFnHs23qIEm",
    "outputId": "2357cf1b-5b79-4cf6-8c79-5797b8f93668"
   },
   "outputs": [],
   "source": [
    "# Call the function to create the feature dataframe\n",
    "feature_df = features()\n",
    "\n",
    "# Save the resulting dataframe to a CSV file\n",
    "feature_df.to_csv(\"dataset/csv/image_features.csv\", index=False)"
   ]
  },
  {
   "cell_type": "code",
   "execution_count": null,
   "metadata": {
    "colab": {
     "base_uri": "https://localhost:8080/",
     "height": 226
    },
    "id": "LstkxK4PqyIT",
    "outputId": "0fb50158-f798-48a8-ebdd-55091489d77b"
   },
   "outputs": [],
   "source": [
    "feature_df.head()"
   ]
  },
  {
   "cell_type": "markdown",
   "metadata": {
    "id": "ILev7gnvs0Js"
   },
   "source": [
    "# PCA"
   ]
  },
  {
   "cell_type": "markdown",
   "metadata": {},
   "source": [
    "## Components"
   ]
  },
  {
   "cell_type": "code",
   "execution_count": null,
   "metadata": {},
   "outputs": [],
   "source": [
    "import pandas as pd\n",
    "from sklearn.decomposition import PCA"
   ]
  },
  {
   "cell_type": "code",
   "execution_count": null,
   "metadata": {},
   "outputs": [],
   "source": [
    "df = pd.read_csv(\"dataset/csv/image_features.csv\")"
   ]
  },
  {
   "cell_type": "code",
   "execution_count": null,
   "metadata": {},
   "outputs": [],
   "source": [
    "# Assuming df is your DataFrame with the features\n",
    "X = df.drop('types', axis=1)\n",
    "pca = PCA()\n",
    "X_pca = pca.fit_transform(X)"
   ]
  },
  {
   "cell_type": "code",
   "execution_count": null,
   "metadata": {},
   "outputs": [],
   "source": [
    "import matplotlib.pyplot as plt\n",
    "\n",
    "explained_variance_ratio = pca.explained_variance_ratio_\n",
    "cumulative_explained_variance = explained_variance_ratio.cumsum()\n",
    "\n",
    "plt.plot(cumulative_explained_variance, marker='o')\n",
    "plt.xlabel('Number of Components')\n",
    "plt.ylabel('Cumulative Explained Variance')\n",
    "plt.show()"
   ]
  },
  {
   "cell_type": "markdown",
   "metadata": {},
   "source": [
    "## Training"
   ]
  },
  {
   "cell_type": "code",
   "execution_count": 38,
   "metadata": {
    "id": "w04RPlfUr_CR"
   },
   "outputs": [],
   "source": [
    "import pandas as pd"
   ]
  },
  {
   "cell_type": "code",
   "execution_count": 39,
   "metadata": {
    "id": "8GeQkN7Js7JT"
   },
   "outputs": [],
   "source": [
    "data=pd.read_csv(\"dataset/csv/image_features.csv\")"
   ]
  },
  {
   "cell_type": "code",
   "execution_count": 40,
   "metadata": {
    "id": "2Nuk3yoktC6A"
   },
   "outputs": [],
   "source": [
    "types = data[\"types\"]"
   ]
  },
  {
   "cell_type": "code",
   "execution_count": 41,
   "metadata": {
    "colab": {
     "base_uri": "https://localhost:8080/"
    },
    "id": "I834En5CU_li",
    "outputId": "2fcd799f-6675-48d6-a265-ce7d7fe64441"
   },
   "outputs": [
    {
     "data": {
      "text/plain": [
       "array(['Apple scab', 'Black rot', 'Cedar apple rust', 'Healthy'],\n",
       "      dtype=object)"
      ]
     },
     "execution_count": 41,
     "metadata": {},
     "output_type": "execute_result"
    }
   ],
   "source": [
    "types_labels = types.unique()\n",
    "types_labels"
   ]
  },
  {
   "cell_type": "code",
   "execution_count": 42,
   "metadata": {},
   "outputs": [],
   "source": [
    "data = data.drop('types', axis=1)"
   ]
  },
  {
   "cell_type": "code",
   "execution_count": 43,
   "metadata": {
    "colab": {
     "base_uri": "https://localhost:8080/",
     "height": 226
    },
    "id": "i86kptKJtDX4",
    "outputId": "157bbbaf-8f25-4d30-e81a-7429653ccabe"
   },
   "outputs": [
    {
     "data": {
      "text/html": [
       "<div>\n",
       "<style scoped>\n",
       "    .dataframe tbody tr th:only-of-type {\n",
       "        vertical-align: middle;\n",
       "    }\n",
       "\n",
       "    .dataframe tbody tr th {\n",
       "        vertical-align: top;\n",
       "    }\n",
       "\n",
       "    .dataframe thead th {\n",
       "        text-align: right;\n",
       "    }\n",
       "</style>\n",
       "<table border=\"1\" class=\"dataframe\">\n",
       "  <thead>\n",
       "    <tr style=\"text-align: right;\">\n",
       "      <th></th>\n",
       "      <th>area</th>\n",
       "      <th>perimeter</th>\n",
       "      <th>physiological_length</th>\n",
       "      <th>physiological_width</th>\n",
       "      <th>aspect_ratio</th>\n",
       "      <th>mean_r</th>\n",
       "      <th>mean_g</th>\n",
       "      <th>mean_b</th>\n",
       "      <th>stddev_r</th>\n",
       "      <th>stddev_g</th>\n",
       "      <th>...</th>\n",
       "      <th>eccentricity</th>\n",
       "      <th>solidity</th>\n",
       "      <th>equiv_diameter</th>\n",
       "      <th>major_axis_length</th>\n",
       "      <th>minor_axis_length</th>\n",
       "      <th>skewness</th>\n",
       "      <th>kurtosis</th>\n",
       "      <th>hog_feature_1</th>\n",
       "      <th>hog_feature_2</th>\n",
       "      <th>hog_feature_3</th>\n",
       "    </tr>\n",
       "  </thead>\n",
       "  <tbody>\n",
       "    <tr>\n",
       "      <th>0</th>\n",
       "      <td>39223.5</td>\n",
       "      <td>943.261975</td>\n",
       "      <td>256</td>\n",
       "      <td>256</td>\n",
       "      <td>1.000000</td>\n",
       "      <td>131.674286</td>\n",
       "      <td>142.607361</td>\n",
       "      <td>117.859375</td>\n",
       "      <td>48.160986</td>\n",
       "      <td>41.527176</td>\n",
       "      <td>...</td>\n",
       "      <td>0.869477</td>\n",
       "      <td>0.673392</td>\n",
       "      <td>199.116564</td>\n",
       "      <td>351.250440</td>\n",
       "      <td>173.508131</td>\n",
       "      <td>-0.801440</td>\n",
       "      <td>0.280473</td>\n",
       "      <td>0.396641</td>\n",
       "      <td>0.396641</td>\n",
       "      <td>0.396641</td>\n",
       "    </tr>\n",
       "    <tr>\n",
       "      <th>1</th>\n",
       "      <td>52739.5</td>\n",
       "      <td>1054.551297</td>\n",
       "      <td>256</td>\n",
       "      <td>256</td>\n",
       "      <td>1.000000</td>\n",
       "      <td>104.623474</td>\n",
       "      <td>125.845505</td>\n",
       "      <td>97.399323</td>\n",
       "      <td>59.915570</td>\n",
       "      <td>47.920588</td>\n",
       "      <td>...</td>\n",
       "      <td>0.415402</td>\n",
       "      <td>0.899784</td>\n",
       "      <td>260.386787</td>\n",
       "      <td>281.039302</td>\n",
       "      <td>255.644072</td>\n",
       "      <td>-0.012572</td>\n",
       "      <td>-1.102314</td>\n",
       "      <td>0.458273</td>\n",
       "      <td>0.338001</td>\n",
       "      <td>0.458273</td>\n",
       "    </tr>\n",
       "    <tr>\n",
       "      <th>2</th>\n",
       "      <td>153.0</td>\n",
       "      <td>48.828427</td>\n",
       "      <td>13</td>\n",
       "      <td>14</td>\n",
       "      <td>0.928571</td>\n",
       "      <td>108.885437</td>\n",
       "      <td>122.020508</td>\n",
       "      <td>102.895676</td>\n",
       "      <td>41.507657</td>\n",
       "      <td>38.426731</td>\n",
       "      <td>...</td>\n",
       "      <td>0.959661</td>\n",
       "      <td>0.539845</td>\n",
       "      <td>128.620377</td>\n",
       "      <td>322.980608</td>\n",
       "      <td>90.809607</td>\n",
       "      <td>-0.763138</td>\n",
       "      <td>0.515818</td>\n",
       "      <td>0.444622</td>\n",
       "      <td>0.108263</td>\n",
       "      <td>0.346746</td>\n",
       "    </tr>\n",
       "    <tr>\n",
       "      <th>3</th>\n",
       "      <td>47418.5</td>\n",
       "      <td>886.894442</td>\n",
       "      <td>256</td>\n",
       "      <td>212</td>\n",
       "      <td>1.207547</td>\n",
       "      <td>90.048004</td>\n",
       "      <td>122.629395</td>\n",
       "      <td>118.259155</td>\n",
       "      <td>37.221812</td>\n",
       "      <td>27.636534</td>\n",
       "      <td>...</td>\n",
       "      <td>0.638383</td>\n",
       "      <td>0.968543</td>\n",
       "      <td>246.821175</td>\n",
       "      <td>285.954155</td>\n",
       "      <td>220.104226</td>\n",
       "      <td>0.928671</td>\n",
       "      <td>1.852474</td>\n",
       "      <td>0.447214</td>\n",
       "      <td>0.000000</td>\n",
       "      <td>0.447214</td>\n",
       "    </tr>\n",
       "    <tr>\n",
       "      <th>4</th>\n",
       "      <td>32062.0</td>\n",
       "      <td>1051.161469</td>\n",
       "      <td>210</td>\n",
       "      <td>256</td>\n",
       "      <td>0.820312</td>\n",
       "      <td>83.416946</td>\n",
       "      <td>99.493576</td>\n",
       "      <td>123.469940</td>\n",
       "      <td>25.257455</td>\n",
       "      <td>21.266619</td>\n",
       "      <td>...</td>\n",
       "      <td>0.855433</td>\n",
       "      <td>0.670649</td>\n",
       "      <td>203.609134</td>\n",
       "      <td>319.311111</td>\n",
       "      <td>165.375525</td>\n",
       "      <td>-0.267714</td>\n",
       "      <td>0.737509</td>\n",
       "      <td>0.397808</td>\n",
       "      <td>0.397808</td>\n",
       "      <td>0.293018</td>\n",
       "    </tr>\n",
       "  </tbody>\n",
       "</table>\n",
       "<p>5 rows × 26 columns</p>\n",
       "</div>"
      ],
      "text/plain": [
       "      area    perimeter  physiological_length  physiological_width  \\\n",
       "0  39223.5   943.261975                   256                  256   \n",
       "1  52739.5  1054.551297                   256                  256   \n",
       "2    153.0    48.828427                    13                   14   \n",
       "3  47418.5   886.894442                   256                  212   \n",
       "4  32062.0  1051.161469                   210                  256   \n",
       "\n",
       "   aspect_ratio      mean_r      mean_g      mean_b   stddev_r   stddev_g  \\\n",
       "0      1.000000  131.674286  142.607361  117.859375  48.160986  41.527176   \n",
       "1      1.000000  104.623474  125.845505   97.399323  59.915570  47.920588   \n",
       "2      0.928571  108.885437  122.020508  102.895676  41.507657  38.426731   \n",
       "3      1.207547   90.048004  122.629395  118.259155  37.221812  27.636534   \n",
       "4      0.820312   83.416946   99.493576  123.469940  25.257455  21.266619   \n",
       "\n",
       "   ...  eccentricity  solidity  equiv_diameter  major_axis_length  \\\n",
       "0  ...      0.869477  0.673392      199.116564         351.250440   \n",
       "1  ...      0.415402  0.899784      260.386787         281.039302   \n",
       "2  ...      0.959661  0.539845      128.620377         322.980608   \n",
       "3  ...      0.638383  0.968543      246.821175         285.954155   \n",
       "4  ...      0.855433  0.670649      203.609134         319.311111   \n",
       "\n",
       "   minor_axis_length  skewness  kurtosis  hog_feature_1  hog_feature_2  \\\n",
       "0         173.508131 -0.801440  0.280473       0.396641       0.396641   \n",
       "1         255.644072 -0.012572 -1.102314       0.458273       0.338001   \n",
       "2          90.809607 -0.763138  0.515818       0.444622       0.108263   \n",
       "3         220.104226  0.928671  1.852474       0.447214       0.000000   \n",
       "4         165.375525 -0.267714  0.737509       0.397808       0.397808   \n",
       "\n",
       "   hog_feature_3  \n",
       "0       0.396641  \n",
       "1       0.458273  \n",
       "2       0.346746  \n",
       "3       0.447214  \n",
       "4       0.293018  \n",
       "\n",
       "[5 rows x 26 columns]"
      ]
     },
     "execution_count": 43,
     "metadata": {},
     "output_type": "execute_result"
    }
   ],
   "source": [
    "data.head()"
   ]
  },
  {
   "cell_type": "code",
   "execution_count": 44,
   "metadata": {
    "colab": {
     "base_uri": "https://localhost:8080/",
     "height": 75
    },
    "id": "gzoEnjdztFV_",
    "outputId": "3b2f80c4-077e-4a7c-92e4-fc7c69ac38e8"
   },
   "outputs": [
    {
     "data": {
      "text/html": [
       "<style>#sk-container-id-2 {color: black;}#sk-container-id-2 pre{padding: 0;}#sk-container-id-2 div.sk-toggleable {background-color: white;}#sk-container-id-2 label.sk-toggleable__label {cursor: pointer;display: block;width: 100%;margin-bottom: 0;padding: 0.3em;box-sizing: border-box;text-align: center;}#sk-container-id-2 label.sk-toggleable__label-arrow:before {content: \"▸\";float: left;margin-right: 0.25em;color: #696969;}#sk-container-id-2 label.sk-toggleable__label-arrow:hover:before {color: black;}#sk-container-id-2 div.sk-estimator:hover label.sk-toggleable__label-arrow:before {color: black;}#sk-container-id-2 div.sk-toggleable__content {max-height: 0;max-width: 0;overflow: hidden;text-align: left;background-color: #f0f8ff;}#sk-container-id-2 div.sk-toggleable__content pre {margin: 0.2em;color: black;border-radius: 0.25em;background-color: #f0f8ff;}#sk-container-id-2 input.sk-toggleable__control:checked~div.sk-toggleable__content {max-height: 200px;max-width: 100%;overflow: auto;}#sk-container-id-2 input.sk-toggleable__control:checked~label.sk-toggleable__label-arrow:before {content: \"▾\";}#sk-container-id-2 div.sk-estimator input.sk-toggleable__control:checked~label.sk-toggleable__label {background-color: #d4ebff;}#sk-container-id-2 div.sk-label input.sk-toggleable__control:checked~label.sk-toggleable__label {background-color: #d4ebff;}#sk-container-id-2 input.sk-hidden--visually {border: 0;clip: rect(1px 1px 1px 1px);clip: rect(1px, 1px, 1px, 1px);height: 1px;margin: -1px;overflow: hidden;padding: 0;position: absolute;width: 1px;}#sk-container-id-2 div.sk-estimator {font-family: monospace;background-color: #f0f8ff;border: 1px dotted black;border-radius: 0.25em;box-sizing: border-box;margin-bottom: 0.5em;}#sk-container-id-2 div.sk-estimator:hover {background-color: #d4ebff;}#sk-container-id-2 div.sk-parallel-item::after {content: \"\";width: 100%;border-bottom: 1px solid gray;flex-grow: 1;}#sk-container-id-2 div.sk-label:hover label.sk-toggleable__label {background-color: #d4ebff;}#sk-container-id-2 div.sk-serial::before {content: \"\";position: absolute;border-left: 1px solid gray;box-sizing: border-box;top: 0;bottom: 0;left: 50%;z-index: 0;}#sk-container-id-2 div.sk-serial {display: flex;flex-direction: column;align-items: center;background-color: white;padding-right: 0.2em;padding-left: 0.2em;position: relative;}#sk-container-id-2 div.sk-item {position: relative;z-index: 1;}#sk-container-id-2 div.sk-parallel {display: flex;align-items: stretch;justify-content: center;background-color: white;position: relative;}#sk-container-id-2 div.sk-item::before, #sk-container-id-2 div.sk-parallel-item::before {content: \"\";position: absolute;border-left: 1px solid gray;box-sizing: border-box;top: 0;bottom: 0;left: 50%;z-index: -1;}#sk-container-id-2 div.sk-parallel-item {display: flex;flex-direction: column;z-index: 1;position: relative;background-color: white;}#sk-container-id-2 div.sk-parallel-item:first-child::after {align-self: flex-end;width: 50%;}#sk-container-id-2 div.sk-parallel-item:last-child::after {align-self: flex-start;width: 50%;}#sk-container-id-2 div.sk-parallel-item:only-child::after {width: 0;}#sk-container-id-2 div.sk-dashed-wrapped {border: 1px dashed gray;margin: 0 0.4em 0.5em 0.4em;box-sizing: border-box;padding-bottom: 0.4em;background-color: white;}#sk-container-id-2 div.sk-label label {font-family: monospace;font-weight: bold;display: inline-block;line-height: 1.2em;}#sk-container-id-2 div.sk-label-container {text-align: center;}#sk-container-id-2 div.sk-container {/* jupyter's `normalize.less` sets `[hidden] { display: none; }` but bootstrap.min.css set `[hidden] { display: none !important; }` so we also need the `!important` here to be able to override the default hidden behavior on the sphinx rendered scikit-learn.org. See: https://github.com/scikit-learn/scikit-learn/issues/21755 */display: inline-block !important;position: relative;}#sk-container-id-2 div.sk-text-repr-fallback {display: none;}</style><div id=\"sk-container-id-2\" class=\"sk-top-container\"><div class=\"sk-text-repr-fallback\"><pre>PCA(n_components=14)</pre><b>In a Jupyter environment, please rerun this cell to show the HTML representation or trust the notebook. <br />On GitHub, the HTML representation is unable to render, please try loading this page with nbviewer.org.</b></div><div class=\"sk-container\" hidden><div class=\"sk-item\"><div class=\"sk-estimator sk-toggleable\"><input class=\"sk-toggleable__control sk-hidden--visually\" id=\"sk-estimator-id-2\" type=\"checkbox\" checked><label for=\"sk-estimator-id-2\" class=\"sk-toggleable__label sk-toggleable__label-arrow\">PCA</label><div class=\"sk-toggleable__content\"><pre>PCA(n_components=14)</pre></div></div></div></div></div>"
      ],
      "text/plain": [
       "PCA(n_components=14)"
      ]
     },
     "execution_count": 44,
     "metadata": {},
     "output_type": "execute_result"
    }
   ],
   "source": [
    "from sklearn.decomposition import PCA\n",
    "pca = PCA(n_components = 14)\n",
    "pca.fit(data)"
   ]
  },
  {
   "cell_type": "code",
   "execution_count": 46,
   "metadata": {
    "colab": {
     "base_uri": "https://localhost:8080/"
    },
    "id": "6arhkPO72oMY",
    "outputId": "1257ba22-75e2-4c74-9ced-ca1da37694a5"
   },
   "outputs": [
    {
     "name": "stdout",
     "output_type": "stream",
     "text": [
      "        area  perimeter  physiological_length  physiological_width  \\\n",
      "0  -0.999847  -0.015939             -0.004277            -0.004112   \n",
      "1   0.000658   0.121647              0.019152             0.019276   \n",
      "2  -0.016839   0.964222              0.151011             0.161743   \n",
      "3   0.003158  -0.069103              0.081142             0.067384   \n",
      "4   0.000110   0.128658             -0.254748            -0.410397   \n",
      "5   0.001254  -0.031921             -0.085491             0.071914   \n",
      "6   0.002260   0.109670              0.059706            -0.864287   \n",
      "7   0.002194   0.111017             -0.929065             0.115869   \n",
      "8   0.000182   0.004708             -0.029547            -0.020064   \n",
      "9   0.000136  -0.045539              0.057426             0.119340   \n",
      "10  0.000320  -0.079192              0.155887             0.133734   \n",
      "11 -0.000187  -0.007774              0.031768             0.025195   \n",
      "12 -0.000084  -0.000865             -0.001364             0.018252   \n",
      "13 -0.000233  -0.009718              0.041766             0.036359   \n",
      "\n",
      "    aspect_ratio    mean_r    mean_g    mean_b  stddev_r  stddev_g  ...  \\\n",
      "0       0.000006  0.000351  0.000238  0.000269  0.000077  0.000096  ...   \n",
      "1      -0.000056  0.020996  0.015370  0.010825  0.022721  0.020800  ...   \n",
      "2      -0.000308  0.012284  0.010231  0.011236 -0.003779 -0.000870  ...   \n",
      "3      -0.000359  0.011977  0.005338  0.017293  0.005372  0.001530  ...   \n",
      "4       0.001618  0.127109  0.161073  0.151150 -0.024345  0.010403  ...   \n",
      "5      -0.001326  0.536750  0.529693  0.571209  0.017269  0.042804  ...   \n",
      "6       0.006022 -0.024302  0.014694 -0.082009 -0.054868  0.000870  ...   \n",
      "7      -0.006018 -0.110321 -0.069835 -0.087863 -0.071759 -0.005066  ...   \n",
      "8      -0.000472  0.022826 -0.029481 -0.146593  0.598328  0.589421  ...   \n",
      "9      -0.001105  0.471750  0.290515 -0.686339 -0.005646 -0.100789  ...   \n",
      "10     -0.000900 -0.246458 -0.125424  0.330953 -0.102226  0.062922  ...   \n",
      "11      0.002140 -0.389308  0.465511 -0.135491 -0.154062 -0.400880  ...   \n",
      "12     -0.002600 -0.492963  0.588892 -0.024682  0.297672  0.197830  ...   \n",
      "13     -0.004304 -0.053787  0.152234 -0.119563 -0.705747  0.658787  ...   \n",
      "\n",
      "    eccentricity  solidity  equiv_diameter  major_axis_length  \\\n",
      "0       0.000005 -0.000003       -0.001922          -0.001078   \n",
      "1       0.000011 -0.000091       -0.011720          -0.000855   \n",
      "2       0.000138 -0.000310       -0.061242           0.004826   \n",
      "3       0.000222  0.000500       -0.489200          -0.705910   \n",
      "4      -0.003585 -0.000352        0.033026          -0.537718   \n",
      "5       0.001392 -0.000049       -0.056813           0.201600   \n",
      "6       0.002260 -0.000629       -0.250220           0.285279   \n",
      "7       0.001253 -0.000490       -0.208352           0.131686   \n",
      "8       0.000132 -0.000188       -0.090944           0.032616   \n",
      "9      -0.001174 -0.002589       -0.336015           0.097776   \n",
      "10     -0.001913 -0.004358       -0.719235           0.247591   \n",
      "11     -0.000393 -0.000912       -0.018223           0.007195   \n",
      "12     -0.001043  0.000394        0.031000          -0.010678   \n",
      "13     -0.000346  0.000035        0.081368          -0.032414   \n",
      "\n",
      "    minor_axis_length  skewness  kurtosis  hog_feature_1  hog_feature_2  \\\n",
      "0           -0.001967 -0.000016  0.000006  -2.450502e-07   3.587866e-07   \n",
      "1           -0.002541 -0.000256 -0.000172  -2.218107e-05   5.989830e-05   \n",
      "2           -0.032785 -0.000644  0.000262  -2.247634e-06  -3.465102e-06   \n",
      "3           -0.495937 -0.000802  0.000254   3.324585e-05  -4.268039e-05   \n",
      "4            0.627333  0.000198  0.005057   7.946504e-05  -2.459103e-04   \n",
      "5           -0.191573 -0.005510  0.006029   6.507609e-05  -1.363032e-04   \n",
      "6           -0.286083  0.002596  0.006605   1.277788e-04  -2.503388e-04   \n",
      "7           -0.140950  0.001716  0.008471   2.673275e-05  -2.509565e-04   \n",
      "8            0.038919  0.003779 -0.034528  -1.088991e-04  -1.193695e-04   \n",
      "9            0.214394 -0.004421  0.015774   9.386968e-05   1.926592e-04   \n",
      "10           0.415070 -0.002497  0.001804   3.630602e-05   2.424924e-04   \n",
      "11           0.005730 -0.000953  0.010961   3.299370e-04  -8.442619e-04   \n",
      "12          -0.015815 -0.006845 -0.006212  -9.035937e-04   1.116497e-03   \n",
      "13          -0.030461 -0.001287  0.016208   5.015053e-04  -1.564631e-03   \n",
      "\n",
      "    hog_feature_3  \n",
      "0   -8.689011e-08  \n",
      "1   -1.770449e-05  \n",
      "2    1.599614e-06  \n",
      "3   -5.055603e-06  \n",
      "4    1.440814e-04  \n",
      "5    6.630965e-05  \n",
      "6   -6.751854e-05  \n",
      "7   -1.118626e-04  \n",
      "8    1.325893e-04  \n",
      "9   -2.307989e-04  \n",
      "10   2.083614e-04  \n",
      "11  -3.235976e-04  \n",
      "12  -7.293803e-04  \n",
      "13   9.154733e-04  \n",
      "\n",
      "[14 rows x 26 columns]\n"
     ]
    }
   ],
   "source": [
    "# Access the loadings of the first three principal components\n",
    "loadings = pca.components_[:14]\n",
    "\n",
    "# Map the loadings to the original feature names\n",
    "original_feature_names = data.columns\n",
    "component_loadings = pd.DataFrame(loadings, columns=original_feature_names)\n",
    "\n",
    "# Display the loadings for the first three components\n",
    "print(component_loadings)"
   ]
  },
  {
   "cell_type": "code",
   "execution_count": 47,
   "metadata": {
    "id": "UaHR4IkytIvE"
   },
   "outputs": [],
   "source": [
    "data2=pca.transform(data)"
   ]
  },
  {
   "cell_type": "code",
   "execution_count": 48,
   "metadata": {
    "colab": {
     "base_uri": "https://localhost:8080/"
    },
    "id": "0IHMWBmYtJ-h",
    "outputId": "a1eb4ea5-2873-4bbd-f5aa-023dd3a1da5e"
   },
   "outputs": [
    {
     "data": {
      "text/plain": [
       "array([[-5.63595573e+03,  8.87138877e+01,  4.53208927e+00, ...,\n",
       "         7.48343624e+00, -2.08097343e-01, -1.94524355e-01],\n",
       "       [-1.91518282e+04,  1.30092075e+02, -1.25919004e+02, ...,\n",
       "         1.16827083e+01,  2.50971366e+00, -1.51794869e+00],\n",
       "       [ 3.34451779e+04, -5.34332397e+01, -2.69790557e+02, ...,\n",
       "         8.57869011e+00, -1.05152077e+00, -1.49262287e+00],\n",
       "       ...,\n",
       "       [ 5.95320690e+02,  3.68222855e+02, -9.38375369e+01, ...,\n",
       "        -7.52645706e+00,  1.16941846e+00,  5.38733601e-01],\n",
       "       [-1.22619777e+04,  3.65147808e+01, -1.72963095e+02, ...,\n",
       "        -2.86294426e+00,  4.03140534e+00,  3.41977041e+00],\n",
       "       [-1.82598124e+04, -2.29473638e+02, -1.63548530e+02, ...,\n",
       "        -8.02915976e+00,  3.57647556e+00, -5.15209427e+00]])"
      ]
     },
     "execution_count": 48,
     "metadata": {},
     "output_type": "execute_result"
    }
   ],
   "source": [
    "data2"
   ]
  },
  {
   "cell_type": "code",
   "execution_count": 49,
   "metadata": {
    "id": "UHS50kqEtLbe"
   },
   "outputs": [],
   "source": [
    "data2=pd.DataFrame(data2)\n",
    "data2 = data2.join(types)"
   ]
  },
  {
   "cell_type": "code",
   "execution_count": 50,
   "metadata": {
    "colab": {
     "base_uri": "https://localhost:8080/",
     "height": 424
    },
    "id": "g5P9nKYutNHi",
    "outputId": "288bd27e-f408-49a0-8007-454a22831014"
   },
   "outputs": [
    {
     "data": {
      "text/html": [
       "<div>\n",
       "<style scoped>\n",
       "    .dataframe tbody tr th:only-of-type {\n",
       "        vertical-align: middle;\n",
       "    }\n",
       "\n",
       "    .dataframe tbody tr th {\n",
       "        vertical-align: top;\n",
       "    }\n",
       "\n",
       "    .dataframe thead th {\n",
       "        text-align: right;\n",
       "    }\n",
       "</style>\n",
       "<table border=\"1\" class=\"dataframe\">\n",
       "  <thead>\n",
       "    <tr style=\"text-align: right;\">\n",
       "      <th></th>\n",
       "      <th>0</th>\n",
       "      <th>1</th>\n",
       "      <th>2</th>\n",
       "      <th>3</th>\n",
       "      <th>4</th>\n",
       "      <th>5</th>\n",
       "      <th>6</th>\n",
       "      <th>7</th>\n",
       "      <th>8</th>\n",
       "      <th>9</th>\n",
       "      <th>10</th>\n",
       "      <th>11</th>\n",
       "      <th>12</th>\n",
       "      <th>13</th>\n",
       "      <th>types</th>\n",
       "    </tr>\n",
       "  </thead>\n",
       "  <tbody>\n",
       "    <tr>\n",
       "      <th>0</th>\n",
       "      <td>-5635.955732</td>\n",
       "      <td>88.713888</td>\n",
       "      <td>4.532089</td>\n",
       "      <td>-34.854049</td>\n",
       "      <td>-59.116986</td>\n",
       "      <td>49.963814</td>\n",
       "      <td>26.497144</td>\n",
       "      <td>0.752574</td>\n",
       "      <td>6.194279</td>\n",
       "      <td>22.444172</td>\n",
       "      <td>19.636600</td>\n",
       "      <td>7.483436</td>\n",
       "      <td>-0.208097</td>\n",
       "      <td>-0.194524</td>\n",
       "      <td>Apple scab</td>\n",
       "    </tr>\n",
       "    <tr>\n",
       "      <th>1</th>\n",
       "      <td>-19151.828223</td>\n",
       "      <td>130.092075</td>\n",
       "      <td>-125.919004</td>\n",
       "      <td>-21.752929</td>\n",
       "      <td>38.642661</td>\n",
       "      <td>-4.106903</td>\n",
       "      <td>11.513070</td>\n",
       "      <td>14.144452</td>\n",
       "      <td>23.417199</td>\n",
       "      <td>3.219911</td>\n",
       "      <td>-11.149159</td>\n",
       "      <td>11.682708</td>\n",
       "      <td>2.509714</td>\n",
       "      <td>-1.517949</td>\n",
       "      <td>Apple scab</td>\n",
       "    </tr>\n",
       "    <tr>\n",
       "      <th>2</th>\n",
       "      <td>33445.177918</td>\n",
       "      <td>-53.433240</td>\n",
       "      <td>-269.790557</td>\n",
       "      <td>-37.692779</td>\n",
       "      <td>-64.755248</td>\n",
       "      <td>14.568278</td>\n",
       "      <td>70.003753</td>\n",
       "      <td>41.958665</td>\n",
       "      <td>2.831054</td>\n",
       "      <td>12.945960</td>\n",
       "      <td>20.910142</td>\n",
       "      <td>8.578690</td>\n",
       "      <td>-1.051521</td>\n",
       "      <td>-1.492623</td>\n",
       "      <td>Apple scab</td>\n",
       "    </tr>\n",
       "    <tr>\n",
       "      <th>3</th>\n",
       "      <td>-13829.636241</td>\n",
       "      <td>-234.168608</td>\n",
       "      <td>-160.024404</td>\n",
       "      <td>-8.194687</td>\n",
       "      <td>12.645568</td>\n",
       "      <td>8.019279</td>\n",
       "      <td>33.974063</td>\n",
       "      <td>-12.608497</td>\n",
       "      <td>-4.981707</td>\n",
       "      <td>-13.417287</td>\n",
       "      <td>2.414239</td>\n",
       "      <td>11.934916</td>\n",
       "      <td>6.901269</td>\n",
       "      <td>-1.823742</td>\n",
       "      <td>Apple scab</td>\n",
       "    </tr>\n",
       "    <tr>\n",
       "      <th>4</th>\n",
       "      <td>1522.013880</td>\n",
       "      <td>-241.538256</td>\n",
       "      <td>263.672574</td>\n",
       "      <td>-44.219407</td>\n",
       "      <td>-31.595942</td>\n",
       "      <td>-3.493567</td>\n",
       "      <td>12.803523</td>\n",
       "      <td>43.745289</td>\n",
       "      <td>-19.191394</td>\n",
       "      <td>-25.473036</td>\n",
       "      <td>7.022824</td>\n",
       "      <td>2.897605</td>\n",
       "      <td>-2.076483</td>\n",
       "      <td>-3.254389</td>\n",
       "      <td>Apple scab</td>\n",
       "    </tr>\n",
       "    <tr>\n",
       "      <th>...</th>\n",
       "      <td>...</td>\n",
       "      <td>...</td>\n",
       "      <td>...</td>\n",
       "      <td>...</td>\n",
       "      <td>...</td>\n",
       "      <td>...</td>\n",
       "      <td>...</td>\n",
       "      <td>...</td>\n",
       "      <td>...</td>\n",
       "      <td>...</td>\n",
       "      <td>...</td>\n",
       "      <td>...</td>\n",
       "      <td>...</td>\n",
       "      <td>...</td>\n",
       "      <td>...</td>\n",
       "    </tr>\n",
       "    <tr>\n",
       "      <th>2986</th>\n",
       "      <td>-2753.042937</td>\n",
       "      <td>-61.232540</td>\n",
       "      <td>80.220730</td>\n",
       "      <td>-3.626005</td>\n",
       "      <td>34.200726</td>\n",
       "      <td>-2.036125</td>\n",
       "      <td>-30.871609</td>\n",
       "      <td>-27.923465</td>\n",
       "      <td>1.164777</td>\n",
       "      <td>0.555031</td>\n",
       "      <td>10.669486</td>\n",
       "      <td>-1.231788</td>\n",
       "      <td>-0.577203</td>\n",
       "      <td>2.948435</td>\n",
       "      <td>Healthy</td>\n",
       "    </tr>\n",
       "    <tr>\n",
       "      <th>2987</th>\n",
       "      <td>32839.535210</td>\n",
       "      <td>177.075214</td>\n",
       "      <td>-243.710585</td>\n",
       "      <td>-43.641720</td>\n",
       "      <td>22.788174</td>\n",
       "      <td>13.677212</td>\n",
       "      <td>3.733027</td>\n",
       "      <td>0.393498</td>\n",
       "      <td>17.821983</td>\n",
       "      <td>-8.350598</td>\n",
       "      <td>-18.019308</td>\n",
       "      <td>-0.315485</td>\n",
       "      <td>-3.620513</td>\n",
       "      <td>1.299084</td>\n",
       "      <td>Healthy</td>\n",
       "    </tr>\n",
       "    <tr>\n",
       "      <th>2988</th>\n",
       "      <td>595.320690</td>\n",
       "      <td>368.222855</td>\n",
       "      <td>-93.837537</td>\n",
       "      <td>21.033526</td>\n",
       "      <td>-12.475704</td>\n",
       "      <td>-8.683968</td>\n",
       "      <td>-42.693681</td>\n",
       "      <td>18.851054</td>\n",
       "      <td>7.797655</td>\n",
       "      <td>1.846516</td>\n",
       "      <td>-5.336089</td>\n",
       "      <td>-7.526457</td>\n",
       "      <td>1.169418</td>\n",
       "      <td>0.538734</td>\n",
       "      <td>Healthy</td>\n",
       "    </tr>\n",
       "    <tr>\n",
       "      <th>2989</th>\n",
       "      <td>-12261.977696</td>\n",
       "      <td>36.514781</td>\n",
       "      <td>-172.963095</td>\n",
       "      <td>-10.925940</td>\n",
       "      <td>4.540110</td>\n",
       "      <td>36.191969</td>\n",
       "      <td>-9.373869</td>\n",
       "      <td>29.773527</td>\n",
       "      <td>-6.163654</td>\n",
       "      <td>-16.391174</td>\n",
       "      <td>5.024581</td>\n",
       "      <td>-2.862944</td>\n",
       "      <td>4.031405</td>\n",
       "      <td>3.419770</td>\n",
       "      <td>Healthy</td>\n",
       "    </tr>\n",
       "    <tr>\n",
       "      <th>2990</th>\n",
       "      <td>-18259.812402</td>\n",
       "      <td>-229.473638</td>\n",
       "      <td>-163.548530</td>\n",
       "      <td>-11.171852</td>\n",
       "      <td>21.197815</td>\n",
       "      <td>-11.176807</td>\n",
       "      <td>1.967543</td>\n",
       "      <td>5.034136</td>\n",
       "      <td>-18.104619</td>\n",
       "      <td>4.250012</td>\n",
       "      <td>2.183901</td>\n",
       "      <td>-8.029160</td>\n",
       "      <td>3.576476</td>\n",
       "      <td>-5.152094</td>\n",
       "      <td>Healthy</td>\n",
       "    </tr>\n",
       "  </tbody>\n",
       "</table>\n",
       "<p>2991 rows × 15 columns</p>\n",
       "</div>"
      ],
      "text/plain": [
       "                 0           1           2          3          4          5  \\\n",
       "0     -5635.955732   88.713888    4.532089 -34.854049 -59.116986  49.963814   \n",
       "1    -19151.828223  130.092075 -125.919004 -21.752929  38.642661  -4.106903   \n",
       "2     33445.177918  -53.433240 -269.790557 -37.692779 -64.755248  14.568278   \n",
       "3    -13829.636241 -234.168608 -160.024404  -8.194687  12.645568   8.019279   \n",
       "4      1522.013880 -241.538256  263.672574 -44.219407 -31.595942  -3.493567   \n",
       "...            ...         ...         ...        ...        ...        ...   \n",
       "2986  -2753.042937  -61.232540   80.220730  -3.626005  34.200726  -2.036125   \n",
       "2987  32839.535210  177.075214 -243.710585 -43.641720  22.788174  13.677212   \n",
       "2988    595.320690  368.222855  -93.837537  21.033526 -12.475704  -8.683968   \n",
       "2989 -12261.977696   36.514781 -172.963095 -10.925940   4.540110  36.191969   \n",
       "2990 -18259.812402 -229.473638 -163.548530 -11.171852  21.197815 -11.176807   \n",
       "\n",
       "              6          7          8          9         10         11  \\\n",
       "0     26.497144   0.752574   6.194279  22.444172  19.636600   7.483436   \n",
       "1     11.513070  14.144452  23.417199   3.219911 -11.149159  11.682708   \n",
       "2     70.003753  41.958665   2.831054  12.945960  20.910142   8.578690   \n",
       "3     33.974063 -12.608497  -4.981707 -13.417287   2.414239  11.934916   \n",
       "4     12.803523  43.745289 -19.191394 -25.473036   7.022824   2.897605   \n",
       "...         ...        ...        ...        ...        ...        ...   \n",
       "2986 -30.871609 -27.923465   1.164777   0.555031  10.669486  -1.231788   \n",
       "2987   3.733027   0.393498  17.821983  -8.350598 -18.019308  -0.315485   \n",
       "2988 -42.693681  18.851054   7.797655   1.846516  -5.336089  -7.526457   \n",
       "2989  -9.373869  29.773527  -6.163654 -16.391174   5.024581  -2.862944   \n",
       "2990   1.967543   5.034136 -18.104619   4.250012   2.183901  -8.029160   \n",
       "\n",
       "            12        13       types  \n",
       "0    -0.208097 -0.194524  Apple scab  \n",
       "1     2.509714 -1.517949  Apple scab  \n",
       "2    -1.051521 -1.492623  Apple scab  \n",
       "3     6.901269 -1.823742  Apple scab  \n",
       "4    -2.076483 -3.254389  Apple scab  \n",
       "...        ...       ...         ...  \n",
       "2986 -0.577203  2.948435     Healthy  \n",
       "2987 -3.620513  1.299084     Healthy  \n",
       "2988  1.169418  0.538734     Healthy  \n",
       "2989  4.031405  3.419770     Healthy  \n",
       "2990  3.576476 -5.152094     Healthy  \n",
       "\n",
       "[2991 rows x 15 columns]"
      ]
     },
     "execution_count": 50,
     "metadata": {},
     "output_type": "execute_result"
    }
   ],
   "source": [
    "data2"
   ]
  },
  {
   "cell_type": "code",
   "execution_count": 51,
   "metadata": {
    "id": "-4GFnpsJtOwJ"
   },
   "outputs": [],
   "source": [
    "data2.index=data.index"
   ]
  },
  {
   "cell_type": "code",
   "execution_count": 52,
   "metadata": {
    "colab": {
     "base_uri": "https://localhost:8080/",
     "height": 206
    },
    "id": "rurrHOUQtQCj",
    "outputId": "30361353-6b48-40f7-ffc2-77c8445c3ec6"
   },
   "outputs": [
    {
     "data": {
      "text/html": [
       "<div>\n",
       "<style scoped>\n",
       "    .dataframe tbody tr th:only-of-type {\n",
       "        vertical-align: middle;\n",
       "    }\n",
       "\n",
       "    .dataframe tbody tr th {\n",
       "        vertical-align: top;\n",
       "    }\n",
       "\n",
       "    .dataframe thead th {\n",
       "        text-align: right;\n",
       "    }\n",
       "</style>\n",
       "<table border=\"1\" class=\"dataframe\">\n",
       "  <thead>\n",
       "    <tr style=\"text-align: right;\">\n",
       "      <th></th>\n",
       "      <th>0</th>\n",
       "      <th>1</th>\n",
       "      <th>2</th>\n",
       "      <th>3</th>\n",
       "      <th>4</th>\n",
       "      <th>5</th>\n",
       "      <th>6</th>\n",
       "      <th>7</th>\n",
       "      <th>8</th>\n",
       "      <th>9</th>\n",
       "      <th>10</th>\n",
       "      <th>11</th>\n",
       "      <th>12</th>\n",
       "      <th>13</th>\n",
       "      <th>types</th>\n",
       "    </tr>\n",
       "  </thead>\n",
       "  <tbody>\n",
       "    <tr>\n",
       "      <th>0</th>\n",
       "      <td>-5635.955732</td>\n",
       "      <td>88.713888</td>\n",
       "      <td>4.532089</td>\n",
       "      <td>-34.854049</td>\n",
       "      <td>-59.116986</td>\n",
       "      <td>49.963814</td>\n",
       "      <td>26.497144</td>\n",
       "      <td>0.752574</td>\n",
       "      <td>6.194279</td>\n",
       "      <td>22.444172</td>\n",
       "      <td>19.636600</td>\n",
       "      <td>7.483436</td>\n",
       "      <td>-0.208097</td>\n",
       "      <td>-0.194524</td>\n",
       "      <td>Apple scab</td>\n",
       "    </tr>\n",
       "    <tr>\n",
       "      <th>1</th>\n",
       "      <td>-19151.828223</td>\n",
       "      <td>130.092075</td>\n",
       "      <td>-125.919004</td>\n",
       "      <td>-21.752929</td>\n",
       "      <td>38.642661</td>\n",
       "      <td>-4.106903</td>\n",
       "      <td>11.513070</td>\n",
       "      <td>14.144452</td>\n",
       "      <td>23.417199</td>\n",
       "      <td>3.219911</td>\n",
       "      <td>-11.149159</td>\n",
       "      <td>11.682708</td>\n",
       "      <td>2.509714</td>\n",
       "      <td>-1.517949</td>\n",
       "      <td>Apple scab</td>\n",
       "    </tr>\n",
       "    <tr>\n",
       "      <th>2</th>\n",
       "      <td>33445.177918</td>\n",
       "      <td>-53.433240</td>\n",
       "      <td>-269.790557</td>\n",
       "      <td>-37.692779</td>\n",
       "      <td>-64.755248</td>\n",
       "      <td>14.568278</td>\n",
       "      <td>70.003753</td>\n",
       "      <td>41.958665</td>\n",
       "      <td>2.831054</td>\n",
       "      <td>12.945960</td>\n",
       "      <td>20.910142</td>\n",
       "      <td>8.578690</td>\n",
       "      <td>-1.051521</td>\n",
       "      <td>-1.492623</td>\n",
       "      <td>Apple scab</td>\n",
       "    </tr>\n",
       "    <tr>\n",
       "      <th>3</th>\n",
       "      <td>-13829.636241</td>\n",
       "      <td>-234.168608</td>\n",
       "      <td>-160.024404</td>\n",
       "      <td>-8.194687</td>\n",
       "      <td>12.645568</td>\n",
       "      <td>8.019279</td>\n",
       "      <td>33.974063</td>\n",
       "      <td>-12.608497</td>\n",
       "      <td>-4.981707</td>\n",
       "      <td>-13.417287</td>\n",
       "      <td>2.414239</td>\n",
       "      <td>11.934916</td>\n",
       "      <td>6.901269</td>\n",
       "      <td>-1.823742</td>\n",
       "      <td>Apple scab</td>\n",
       "    </tr>\n",
       "    <tr>\n",
       "      <th>4</th>\n",
       "      <td>1522.013880</td>\n",
       "      <td>-241.538256</td>\n",
       "      <td>263.672574</td>\n",
       "      <td>-44.219407</td>\n",
       "      <td>-31.595942</td>\n",
       "      <td>-3.493567</td>\n",
       "      <td>12.803523</td>\n",
       "      <td>43.745289</td>\n",
       "      <td>-19.191394</td>\n",
       "      <td>-25.473036</td>\n",
       "      <td>7.022824</td>\n",
       "      <td>2.897605</td>\n",
       "      <td>-2.076483</td>\n",
       "      <td>-3.254389</td>\n",
       "      <td>Apple scab</td>\n",
       "    </tr>\n",
       "  </tbody>\n",
       "</table>\n",
       "</div>"
      ],
      "text/plain": [
       "              0           1           2          3          4          5  \\\n",
       "0  -5635.955732   88.713888    4.532089 -34.854049 -59.116986  49.963814   \n",
       "1 -19151.828223  130.092075 -125.919004 -21.752929  38.642661  -4.106903   \n",
       "2  33445.177918  -53.433240 -269.790557 -37.692779 -64.755248  14.568278   \n",
       "3 -13829.636241 -234.168608 -160.024404  -8.194687  12.645568   8.019279   \n",
       "4   1522.013880 -241.538256  263.672574 -44.219407 -31.595942  -3.493567   \n",
       "\n",
       "           6          7          8          9         10         11        12  \\\n",
       "0  26.497144   0.752574   6.194279  22.444172  19.636600   7.483436 -0.208097   \n",
       "1  11.513070  14.144452  23.417199   3.219911 -11.149159  11.682708  2.509714   \n",
       "2  70.003753  41.958665   2.831054  12.945960  20.910142   8.578690 -1.051521   \n",
       "3  33.974063 -12.608497  -4.981707 -13.417287   2.414239  11.934916  6.901269   \n",
       "4  12.803523  43.745289 -19.191394 -25.473036   7.022824   2.897605 -2.076483   \n",
       "\n",
       "         13       types  \n",
       "0 -0.194524  Apple scab  \n",
       "1 -1.517949  Apple scab  \n",
       "2 -1.492623  Apple scab  \n",
       "3 -1.823742  Apple scab  \n",
       "4 -3.254389  Apple scab  "
      ]
     },
     "execution_count": 52,
     "metadata": {},
     "output_type": "execute_result"
    }
   ],
   "source": [
    "data2.head()"
   ]
  },
  {
   "cell_type": "code",
   "execution_count": 53,
   "metadata": {
    "colab": {
     "base_uri": "https://localhost:8080/"
    },
    "id": "0xnslH7AtRL4",
    "outputId": "9cdeb683-7db3-4052-b464-57113ba53ab0"
   },
   "outputs": [
    {
     "name": "stdout",
     "output_type": "stream",
     "text": [
      "[9.99264564e-01 5.22792874e-04 1.69259676e-04 2.56714414e-05\n",
      " 5.81337344e-06 4.18507535e-06 2.88168181e-06 2.47291122e-06\n",
      " 9.67359167e-07 5.80128500e-07 5.64354504e-07 1.42020439e-07\n",
      " 5.51968466e-08 3.64980738e-08]\n"
     ]
    }
   ],
   "source": [
    "print(pca.explained_variance_ratio_)"
   ]
  },
  {
   "cell_type": "code",
   "execution_count": 54,
   "metadata": {
    "colab": {
     "base_uri": "https://localhost:8080/"
    },
    "id": "mKujzSEOtSvE",
    "outputId": "a3392cbf-8cfb-48ad-ec50-5e55e4ad6229"
   },
   "outputs": [
    {
     "data": {
      "text/plain": [
       "(2991, 15)"
      ]
     },
     "execution_count": 54,
     "metadata": {},
     "output_type": "execute_result"
    }
   ],
   "source": [
    "data2.shape"
   ]
  },
  {
   "cell_type": "code",
   "execution_count": 55,
   "metadata": {
    "id": "HuahHHi5tU3c"
   },
   "outputs": [],
   "source": [
    "data2.to_csv(\"dataset/csv/pca.csv\", index=False)"
   ]
  },
  {
   "cell_type": "code",
   "execution_count": 56,
   "metadata": {},
   "outputs": [
    {
     "data": {
      "text/plain": [
       "['models/pca/Apple_pca_model.pkl']"
      ]
     },
     "execution_count": 56,
     "metadata": {},
     "output_type": "execute_result"
    }
   ],
   "source": [
    "import joblib\n",
    "# Save the PCA model to a file\n",
    "joblib.dump(pca, 'models/pca/Apple_pca_model.pkl')"
   ]
  },
  {
   "cell_type": "markdown",
   "metadata": {
    "id": "hbks6Stftjp8"
   },
   "source": [
    "# SVM"
   ]
  },
  {
   "cell_type": "code",
   "execution_count": 57,
   "metadata": {
    "id": "LIdipuJvtgAJ"
   },
   "outputs": [],
   "source": [
    "import pandas as pd"
   ]
  },
  {
   "cell_type": "code",
   "execution_count": 58,
   "metadata": {
    "id": "QVrIn9PTtohA"
   },
   "outputs": [],
   "source": [
    "data = pd.read_csv(\"dataset/csv/pca.csv\")"
   ]
  },
  {
   "cell_type": "code",
   "execution_count": 59,
   "metadata": {
    "colab": {
     "base_uri": "https://localhost:8080/",
     "height": 424
    },
    "id": "Qgi-7hj2tp2X",
    "outputId": "fbf8e5f4-dc79-483f-a499-7dfc2936d79d"
   },
   "outputs": [
    {
     "data": {
      "text/html": [
       "<div>\n",
       "<style scoped>\n",
       "    .dataframe tbody tr th:only-of-type {\n",
       "        vertical-align: middle;\n",
       "    }\n",
       "\n",
       "    .dataframe tbody tr th {\n",
       "        vertical-align: top;\n",
       "    }\n",
       "\n",
       "    .dataframe thead th {\n",
       "        text-align: right;\n",
       "    }\n",
       "</style>\n",
       "<table border=\"1\" class=\"dataframe\">\n",
       "  <thead>\n",
       "    <tr style=\"text-align: right;\">\n",
       "      <th></th>\n",
       "      <th>0</th>\n",
       "      <th>1</th>\n",
       "      <th>2</th>\n",
       "      <th>3</th>\n",
       "      <th>4</th>\n",
       "      <th>5</th>\n",
       "      <th>6</th>\n",
       "      <th>7</th>\n",
       "      <th>8</th>\n",
       "      <th>9</th>\n",
       "      <th>10</th>\n",
       "      <th>11</th>\n",
       "      <th>12</th>\n",
       "      <th>13</th>\n",
       "      <th>types</th>\n",
       "    </tr>\n",
       "  </thead>\n",
       "  <tbody>\n",
       "    <tr>\n",
       "      <th>0</th>\n",
       "      <td>-5635.955732</td>\n",
       "      <td>88.713888</td>\n",
       "      <td>4.532089</td>\n",
       "      <td>-34.854049</td>\n",
       "      <td>-59.116986</td>\n",
       "      <td>49.963814</td>\n",
       "      <td>26.497144</td>\n",
       "      <td>0.752574</td>\n",
       "      <td>6.194279</td>\n",
       "      <td>22.444172</td>\n",
       "      <td>19.636600</td>\n",
       "      <td>7.483436</td>\n",
       "      <td>-0.208097</td>\n",
       "      <td>-0.194524</td>\n",
       "      <td>Apple scab</td>\n",
       "    </tr>\n",
       "    <tr>\n",
       "      <th>1</th>\n",
       "      <td>-19151.828223</td>\n",
       "      <td>130.092075</td>\n",
       "      <td>-125.919004</td>\n",
       "      <td>-21.752929</td>\n",
       "      <td>38.642661</td>\n",
       "      <td>-4.106903</td>\n",
       "      <td>11.513070</td>\n",
       "      <td>14.144452</td>\n",
       "      <td>23.417199</td>\n",
       "      <td>3.219911</td>\n",
       "      <td>-11.149159</td>\n",
       "      <td>11.682708</td>\n",
       "      <td>2.509714</td>\n",
       "      <td>-1.517949</td>\n",
       "      <td>Apple scab</td>\n",
       "    </tr>\n",
       "    <tr>\n",
       "      <th>2</th>\n",
       "      <td>33445.177918</td>\n",
       "      <td>-53.433240</td>\n",
       "      <td>-269.790557</td>\n",
       "      <td>-37.692779</td>\n",
       "      <td>-64.755248</td>\n",
       "      <td>14.568278</td>\n",
       "      <td>70.003753</td>\n",
       "      <td>41.958665</td>\n",
       "      <td>2.831054</td>\n",
       "      <td>12.945960</td>\n",
       "      <td>20.910142</td>\n",
       "      <td>8.578690</td>\n",
       "      <td>-1.051521</td>\n",
       "      <td>-1.492623</td>\n",
       "      <td>Apple scab</td>\n",
       "    </tr>\n",
       "    <tr>\n",
       "      <th>3</th>\n",
       "      <td>-13829.636241</td>\n",
       "      <td>-234.168608</td>\n",
       "      <td>-160.024404</td>\n",
       "      <td>-8.194687</td>\n",
       "      <td>12.645568</td>\n",
       "      <td>8.019279</td>\n",
       "      <td>33.974063</td>\n",
       "      <td>-12.608497</td>\n",
       "      <td>-4.981707</td>\n",
       "      <td>-13.417287</td>\n",
       "      <td>2.414239</td>\n",
       "      <td>11.934916</td>\n",
       "      <td>6.901269</td>\n",
       "      <td>-1.823742</td>\n",
       "      <td>Apple scab</td>\n",
       "    </tr>\n",
       "    <tr>\n",
       "      <th>4</th>\n",
       "      <td>1522.013880</td>\n",
       "      <td>-241.538256</td>\n",
       "      <td>263.672574</td>\n",
       "      <td>-44.219407</td>\n",
       "      <td>-31.595942</td>\n",
       "      <td>-3.493567</td>\n",
       "      <td>12.803523</td>\n",
       "      <td>43.745289</td>\n",
       "      <td>-19.191394</td>\n",
       "      <td>-25.473036</td>\n",
       "      <td>7.022824</td>\n",
       "      <td>2.897605</td>\n",
       "      <td>-2.076483</td>\n",
       "      <td>-3.254389</td>\n",
       "      <td>Apple scab</td>\n",
       "    </tr>\n",
       "    <tr>\n",
       "      <th>...</th>\n",
       "      <td>...</td>\n",
       "      <td>...</td>\n",
       "      <td>...</td>\n",
       "      <td>...</td>\n",
       "      <td>...</td>\n",
       "      <td>...</td>\n",
       "      <td>...</td>\n",
       "      <td>...</td>\n",
       "      <td>...</td>\n",
       "      <td>...</td>\n",
       "      <td>...</td>\n",
       "      <td>...</td>\n",
       "      <td>...</td>\n",
       "      <td>...</td>\n",
       "      <td>...</td>\n",
       "    </tr>\n",
       "    <tr>\n",
       "      <th>2986</th>\n",
       "      <td>-2753.042937</td>\n",
       "      <td>-61.232540</td>\n",
       "      <td>80.220730</td>\n",
       "      <td>-3.626005</td>\n",
       "      <td>34.200726</td>\n",
       "      <td>-2.036125</td>\n",
       "      <td>-30.871609</td>\n",
       "      <td>-27.923465</td>\n",
       "      <td>1.164777</td>\n",
       "      <td>0.555031</td>\n",
       "      <td>10.669486</td>\n",
       "      <td>-1.231788</td>\n",
       "      <td>-0.577203</td>\n",
       "      <td>2.948435</td>\n",
       "      <td>Healthy</td>\n",
       "    </tr>\n",
       "    <tr>\n",
       "      <th>2987</th>\n",
       "      <td>32839.535210</td>\n",
       "      <td>177.075214</td>\n",
       "      <td>-243.710585</td>\n",
       "      <td>-43.641720</td>\n",
       "      <td>22.788174</td>\n",
       "      <td>13.677212</td>\n",
       "      <td>3.733027</td>\n",
       "      <td>0.393498</td>\n",
       "      <td>17.821983</td>\n",
       "      <td>-8.350598</td>\n",
       "      <td>-18.019308</td>\n",
       "      <td>-0.315485</td>\n",
       "      <td>-3.620513</td>\n",
       "      <td>1.299084</td>\n",
       "      <td>Healthy</td>\n",
       "    </tr>\n",
       "    <tr>\n",
       "      <th>2988</th>\n",
       "      <td>595.320690</td>\n",
       "      <td>368.222855</td>\n",
       "      <td>-93.837537</td>\n",
       "      <td>21.033526</td>\n",
       "      <td>-12.475704</td>\n",
       "      <td>-8.683968</td>\n",
       "      <td>-42.693681</td>\n",
       "      <td>18.851054</td>\n",
       "      <td>7.797655</td>\n",
       "      <td>1.846516</td>\n",
       "      <td>-5.336089</td>\n",
       "      <td>-7.526457</td>\n",
       "      <td>1.169418</td>\n",
       "      <td>0.538734</td>\n",
       "      <td>Healthy</td>\n",
       "    </tr>\n",
       "    <tr>\n",
       "      <th>2989</th>\n",
       "      <td>-12261.977696</td>\n",
       "      <td>36.514781</td>\n",
       "      <td>-172.963095</td>\n",
       "      <td>-10.925940</td>\n",
       "      <td>4.540110</td>\n",
       "      <td>36.191969</td>\n",
       "      <td>-9.373869</td>\n",
       "      <td>29.773527</td>\n",
       "      <td>-6.163654</td>\n",
       "      <td>-16.391174</td>\n",
       "      <td>5.024581</td>\n",
       "      <td>-2.862944</td>\n",
       "      <td>4.031405</td>\n",
       "      <td>3.419770</td>\n",
       "      <td>Healthy</td>\n",
       "    </tr>\n",
       "    <tr>\n",
       "      <th>2990</th>\n",
       "      <td>-18259.812402</td>\n",
       "      <td>-229.473638</td>\n",
       "      <td>-163.548530</td>\n",
       "      <td>-11.171852</td>\n",
       "      <td>21.197815</td>\n",
       "      <td>-11.176807</td>\n",
       "      <td>1.967543</td>\n",
       "      <td>5.034136</td>\n",
       "      <td>-18.104619</td>\n",
       "      <td>4.250012</td>\n",
       "      <td>2.183901</td>\n",
       "      <td>-8.029160</td>\n",
       "      <td>3.576476</td>\n",
       "      <td>-5.152094</td>\n",
       "      <td>Healthy</td>\n",
       "    </tr>\n",
       "  </tbody>\n",
       "</table>\n",
       "<p>2991 rows × 15 columns</p>\n",
       "</div>"
      ],
      "text/plain": [
       "                 0           1           2          3          4          5  \\\n",
       "0     -5635.955732   88.713888    4.532089 -34.854049 -59.116986  49.963814   \n",
       "1    -19151.828223  130.092075 -125.919004 -21.752929  38.642661  -4.106903   \n",
       "2     33445.177918  -53.433240 -269.790557 -37.692779 -64.755248  14.568278   \n",
       "3    -13829.636241 -234.168608 -160.024404  -8.194687  12.645568   8.019279   \n",
       "4      1522.013880 -241.538256  263.672574 -44.219407 -31.595942  -3.493567   \n",
       "...            ...         ...         ...        ...        ...        ...   \n",
       "2986  -2753.042937  -61.232540   80.220730  -3.626005  34.200726  -2.036125   \n",
       "2987  32839.535210  177.075214 -243.710585 -43.641720  22.788174  13.677212   \n",
       "2988    595.320690  368.222855  -93.837537  21.033526 -12.475704  -8.683968   \n",
       "2989 -12261.977696   36.514781 -172.963095 -10.925940   4.540110  36.191969   \n",
       "2990 -18259.812402 -229.473638 -163.548530 -11.171852  21.197815 -11.176807   \n",
       "\n",
       "              6          7          8          9         10         11  \\\n",
       "0     26.497144   0.752574   6.194279  22.444172  19.636600   7.483436   \n",
       "1     11.513070  14.144452  23.417199   3.219911 -11.149159  11.682708   \n",
       "2     70.003753  41.958665   2.831054  12.945960  20.910142   8.578690   \n",
       "3     33.974063 -12.608497  -4.981707 -13.417287   2.414239  11.934916   \n",
       "4     12.803523  43.745289 -19.191394 -25.473036   7.022824   2.897605   \n",
       "...         ...        ...        ...        ...        ...        ...   \n",
       "2986 -30.871609 -27.923465   1.164777   0.555031  10.669486  -1.231788   \n",
       "2987   3.733027   0.393498  17.821983  -8.350598 -18.019308  -0.315485   \n",
       "2988 -42.693681  18.851054   7.797655   1.846516  -5.336089  -7.526457   \n",
       "2989  -9.373869  29.773527  -6.163654 -16.391174   5.024581  -2.862944   \n",
       "2990   1.967543   5.034136 -18.104619   4.250012   2.183901  -8.029160   \n",
       "\n",
       "            12        13       types  \n",
       "0    -0.208097 -0.194524  Apple scab  \n",
       "1     2.509714 -1.517949  Apple scab  \n",
       "2    -1.051521 -1.492623  Apple scab  \n",
       "3     6.901269 -1.823742  Apple scab  \n",
       "4    -2.076483 -3.254389  Apple scab  \n",
       "...        ...       ...         ...  \n",
       "2986 -0.577203  2.948435     Healthy  \n",
       "2987 -3.620513  1.299084     Healthy  \n",
       "2988  1.169418  0.538734     Healthy  \n",
       "2989  4.031405  3.419770     Healthy  \n",
       "2990  3.576476 -5.152094     Healthy  \n",
       "\n",
       "[2991 rows x 15 columns]"
      ]
     },
     "execution_count": 59,
     "metadata": {},
     "output_type": "execute_result"
    }
   ],
   "source": [
    "data"
   ]
  },
  {
   "cell_type": "markdown",
   "metadata": {
    "id": "8A_yZiJUyGUS"
   },
   "source": [
    "### Sampling"
   ]
  },
  {
   "cell_type": "code",
   "execution_count": 60,
   "metadata": {
    "colab": {
     "base_uri": "https://localhost:8080/"
    },
    "id": "sdT4CZjSsX3R",
    "outputId": "fb454d4d-bbf6-42cb-de9f-2820847a0033"
   },
   "outputs": [
    {
     "name": "stdout",
     "output_type": "stream",
     "text": [
      "X shape: (2991, 14)\n",
      "y shape: (2991,)\n"
     ]
    }
   ],
   "source": [
    "# Extract the features (X) and labels (y)\n",
    "X = data.iloc[:, :-1]  # Select all columns except the last one as features\n",
    "y = data['types']  # Select the 'types' column as the target variable\n",
    "\n",
    "# Check the shape of X and y to ensure they are correct\n",
    "print(\"X shape:\", X.shape)\n",
    "print(\"y shape:\", y.shape)"
   ]
  },
  {
   "cell_type": "code",
   "execution_count": 61,
   "metadata": {
    "colab": {
     "base_uri": "https://localhost:8080/",
     "height": 1000
    },
    "id": "WXrMdMzFtINe",
    "outputId": "07ecae1f-6240-4585-a0ea-af651dabe814"
   },
   "outputs": [
    {
     "name": "stdout",
     "output_type": "stream",
     "text": [
      "Class distribution before SMOTE:\n",
      "types\n",
      "Healthy             1645\n",
      "Apple scab           630\n",
      "Black rot            441\n",
      "Cedar apple rust     275\n",
      "Name: count, dtype: int64\n"
     ]
    },
    {
     "data": {
      "image/png": "[encoded data removed]",
      "text/plain": [
       "<Figure size 1000x500 with 1 Axes>"
      ]
     },
     "metadata": {},
     "output_type": "display_data"
    },
    {
     "name": "stdout",
     "output_type": "stream",
     "text": [
      "Class distribution after SMOTE:\n",
      "Counter({'Apple scab': 1645, 'Black rot': 1645, 'Cedar apple rust': 1645, 'Healthy': 1645})\n"
     ]
    },
    {
     "data": {
      "image/png": "[encoded data removed]",
      "text/plain": [
       "<Figure size 1000x500 with 1 Axes>"
      ]
     },
     "metadata": {},
     "output_type": "display_data"
    }
   ],
   "source": [
    "import pandas as pd\n",
    "import matplotlib.pyplot as plt\n",
    "from imblearn.over_sampling import SMOTE\n",
    "from collections import Counter\n",
    "\n",
    "# Extract the features (X) and labels (y)\n",
    "X = data.iloc[:, :-1]  # Select all columns except the last one as features\n",
    "y = data['types']  # Select the 'types' column as the target variable\n",
    "\n",
    "# Check the class distribution before applying SMOTE\n",
    "label_counts_before = y.value_counts()\n",
    "print(\"Class distribution before SMOTE:\")\n",
    "print(label_counts_before)\n",
    "\n",
    "# Create a bar chart to visualize the class distribution before SMOTE\n",
    "plt.figure(figsize=(10, 5))\n",
    "plt.bar(label_counts_before.index, label_counts_before.values)\n",
    "plt.xlabel('Label')\n",
    "plt.ylabel('Count')\n",
    "plt.title('Class Distribution Before SMOTE')\n",
    "plt.show()\n",
    "\n",
    "# Create an instance of the SMOTE class\n",
    "smote = SMOTE(sampling_strategy='auto', random_state=42)\n",
    "\n",
    "# Apply SMOTE to balance the dataset\n",
    "X_resampled, y_resampled = smote.fit_resample(X, y)\n",
    "\n",
    "# Check the class distribution after applying SMOTE\n",
    "label_counts_after = Counter(y_resampled)\n",
    "print(\"Class distribution after SMOTE:\")\n",
    "print(label_counts_after)\n",
    "\n",
    "# Create a bar chart to visualize the class distribution after SMOTE\n",
    "plt.figure(figsize=(10, 5))\n",
    "plt.bar(label_counts_after.keys(), label_counts_after.values())\n",
    "plt.xlabel('Label')\n",
    "plt.ylabel('Count')\n",
    "plt.title('Class Distribution After SMOTE')\n",
    "plt.show()"
   ]
  },
  {
   "cell_type": "code",
   "execution_count": 62,
   "metadata": {
    "id": "7V_j2s9avPWb"
   },
   "outputs": [],
   "source": [
    "# Overwrite DataFrame with the resampled data\n",
    "data = pd.DataFrame(X_resampled, columns=X.columns)\n",
    "data['types'] = y_resampled"
   ]
  },
  {
   "cell_type": "markdown",
   "metadata": {
    "id": "KxYzfU99yKjc"
   },
   "source": [
    "### Splitting"
   ]
  },
  {
   "cell_type": "code",
   "execution_count": 65,
   "metadata": {},
   "outputs": [
    {
     "data": {
      "text/html": [
       "<div>\n",
       "<style scoped>\n",
       "    .dataframe tbody tr th:only-of-type {\n",
       "        vertical-align: middle;\n",
       "    }\n",
       "\n",
       "    .dataframe tbody tr th {\n",
       "        vertical-align: top;\n",
       "    }\n",
       "\n",
       "    .dataframe thead th {\n",
       "        text-align: right;\n",
       "    }\n",
       "</style>\n",
       "<table border=\"1\" class=\"dataframe\">\n",
       "  <thead>\n",
       "    <tr style=\"text-align: right;\">\n",
       "      <th></th>\n",
       "      <th>0</th>\n",
       "      <th>1</th>\n",
       "      <th>2</th>\n",
       "      <th>3</th>\n",
       "      <th>4</th>\n",
       "      <th>5</th>\n",
       "      <th>6</th>\n",
       "      <th>7</th>\n",
       "      <th>8</th>\n",
       "      <th>9</th>\n",
       "      <th>10</th>\n",
       "      <th>11</th>\n",
       "      <th>12</th>\n",
       "      <th>13</th>\n",
       "      <th>types</th>\n",
       "    </tr>\n",
       "  </thead>\n",
       "  <tbody>\n",
       "    <tr>\n",
       "      <th>0</th>\n",
       "      <td>-5635.955732</td>\n",
       "      <td>88.713888</td>\n",
       "      <td>4.532089</td>\n",
       "      <td>-34.854049</td>\n",
       "      <td>-59.116986</td>\n",
       "      <td>49.963814</td>\n",
       "      <td>26.497144</td>\n",
       "      <td>0.752574</td>\n",
       "      <td>6.194279</td>\n",
       "      <td>22.444172</td>\n",
       "      <td>19.636600</td>\n",
       "      <td>7.483436</td>\n",
       "      <td>-0.208097</td>\n",
       "      <td>-0.194524</td>\n",
       "      <td>Apple scab</td>\n",
       "    </tr>\n",
       "    <tr>\n",
       "      <th>1</th>\n",
       "      <td>-19151.828223</td>\n",
       "      <td>130.092075</td>\n",
       "      <td>-125.919004</td>\n",
       "      <td>-21.752929</td>\n",
       "      <td>38.642661</td>\n",
       "      <td>-4.106903</td>\n",
       "      <td>11.513070</td>\n",
       "      <td>14.144452</td>\n",
       "      <td>23.417199</td>\n",
       "      <td>3.219911</td>\n",
       "      <td>-11.149159</td>\n",
       "      <td>11.682708</td>\n",
       "      <td>2.509714</td>\n",
       "      <td>-1.517949</td>\n",
       "      <td>Apple scab</td>\n",
       "    </tr>\n",
       "    <tr>\n",
       "      <th>2</th>\n",
       "      <td>33445.177918</td>\n",
       "      <td>-53.433240</td>\n",
       "      <td>-269.790557</td>\n",
       "      <td>-37.692779</td>\n",
       "      <td>-64.755248</td>\n",
       "      <td>14.568278</td>\n",
       "      <td>70.003753</td>\n",
       "      <td>41.958665</td>\n",
       "      <td>2.831054</td>\n",
       "      <td>12.945960</td>\n",
       "      <td>20.910142</td>\n",
       "      <td>8.578690</td>\n",
       "      <td>-1.051521</td>\n",
       "      <td>-1.492623</td>\n",
       "      <td>Apple scab</td>\n",
       "    </tr>\n",
       "    <tr>\n",
       "      <th>3</th>\n",
       "      <td>-13829.636241</td>\n",
       "      <td>-234.168608</td>\n",
       "      <td>-160.024404</td>\n",
       "      <td>-8.194687</td>\n",
       "      <td>12.645568</td>\n",
       "      <td>8.019279</td>\n",
       "      <td>33.974063</td>\n",
       "      <td>-12.608497</td>\n",
       "      <td>-4.981707</td>\n",
       "      <td>-13.417287</td>\n",
       "      <td>2.414239</td>\n",
       "      <td>11.934916</td>\n",
       "      <td>6.901269</td>\n",
       "      <td>-1.823742</td>\n",
       "      <td>Apple scab</td>\n",
       "    </tr>\n",
       "    <tr>\n",
       "      <th>4</th>\n",
       "      <td>1522.013880</td>\n",
       "      <td>-241.538256</td>\n",
       "      <td>263.672574</td>\n",
       "      <td>-44.219407</td>\n",
       "      <td>-31.595942</td>\n",
       "      <td>-3.493567</td>\n",
       "      <td>12.803523</td>\n",
       "      <td>43.745289</td>\n",
       "      <td>-19.191394</td>\n",
       "      <td>-25.473036</td>\n",
       "      <td>7.022824</td>\n",
       "      <td>2.897605</td>\n",
       "      <td>-2.076483</td>\n",
       "      <td>-3.254389</td>\n",
       "      <td>Apple scab</td>\n",
       "    </tr>\n",
       "  </tbody>\n",
       "</table>\n",
       "</div>"
      ],
      "text/plain": [
       "              0           1           2          3          4          5  \\\n",
       "0  -5635.955732   88.713888    4.532089 -34.854049 -59.116986  49.963814   \n",
       "1 -19151.828223  130.092075 -125.919004 -21.752929  38.642661  -4.106903   \n",
       "2  33445.177918  -53.433240 -269.790557 -37.692779 -64.755248  14.568278   \n",
       "3 -13829.636241 -234.168608 -160.024404  -8.194687  12.645568   8.019279   \n",
       "4   1522.013880 -241.538256  263.672574 -44.219407 -31.595942  -3.493567   \n",
       "\n",
       "           6          7          8          9         10         11        12  \\\n",
       "0  26.497144   0.752574   6.194279  22.444172  19.636600   7.483436 -0.208097   \n",
       "1  11.513070  14.144452  23.417199   3.219911 -11.149159  11.682708  2.509714   \n",
       "2  70.003753  41.958665   2.831054  12.945960  20.910142   8.578690 -1.051521   \n",
       "3  33.974063 -12.608497  -4.981707 -13.417287   2.414239  11.934916  6.901269   \n",
       "4  12.803523  43.745289 -19.191394 -25.473036   7.022824   2.897605 -2.076483   \n",
       "\n",
       "         13       types  \n",
       "0 -0.194524  Apple scab  \n",
       "1 -1.517949  Apple scab  \n",
       "2 -1.492623  Apple scab  \n",
       "3 -1.823742  Apple scab  \n",
       "4 -3.254389  Apple scab  "
      ]
     },
     "execution_count": 65,
     "metadata": {},
     "output_type": "execute_result"
    }
   ],
   "source": [
    "data.head()"
   ]
  },
  {
   "cell_type": "code",
   "execution_count": 66,
   "metadata": {
    "id": "qZJPoKoOtrDo"
   },
   "outputs": [],
   "source": [
    "x=data.iloc[:,0:14].values"
   ]
  },
  {
   "cell_type": "code",
   "execution_count": 67,
   "metadata": {
    "colab": {
     "base_uri": "https://localhost:8080/"
    },
    "id": "7fp9dT6Htuhi",
    "outputId": "a8f702d3-e18d-42d4-ac04-33f44a371c11"
   },
   "outputs": [
    {
     "data": {
      "text/plain": [
       "array([[-5.63595573e+03,  8.87138877e+01,  4.53208927e+00, ...,\n",
       "         7.48343624e+00, -2.08097343e-01, -1.94524355e-01],\n",
       "       [-1.91518282e+04,  1.30092075e+02, -1.25919004e+02, ...,\n",
       "         1.16827083e+01,  2.50971366e+00, -1.51794869e+00],\n",
       "       [ 3.34451779e+04, -5.34332397e+01, -2.69790557e+02, ...,\n",
       "         8.57869011e+00, -1.05152077e+00, -1.49262287e+00],\n",
       "       ...,\n",
       "       [-6.91687752e+03, -2.77494302e+02,  7.82302073e+00, ...,\n",
       "        -1.99018189e+00,  1.66308649e+00,  2.56357118e+00],\n",
       "       [-5.76810205e+03, -2.69086667e+02,  5.99039829e+01, ...,\n",
       "        -2.57086734e-01,  3.47802582e+00,  5.21219956e+00],\n",
       "       [ 1.98108121e+03, -2.92577614e+02,  1.88135502e+02, ...,\n",
       "        -2.76654139e+00,  1.30584795e+00,  4.07756895e+00]])"
      ]
     },
     "execution_count": 67,
     "metadata": {},
     "output_type": "execute_result"
    }
   ],
   "source": [
    "x"
   ]
  },
  {
   "cell_type": "code",
   "execution_count": 68,
   "metadata": {
    "colab": {
     "base_uri": "https://localhost:8080/"
    },
    "id": "65iWAYdgtvr5",
    "outputId": "886720b7-9ade-47f5-8d8a-4dad9e9bffdd"
   },
   "outputs": [
    {
     "data": {
      "text/plain": [
       "(6580, 14)"
      ]
     },
     "execution_count": 68,
     "metadata": {},
     "output_type": "execute_result"
    }
   ],
   "source": [
    "x.shape"
   ]
  },
  {
   "cell_type": "code",
   "execution_count": 69,
   "metadata": {
    "id": "QEZwVpOdtxAu"
   },
   "outputs": [],
   "source": [
    "y=data.iloc[:,14].values"
   ]
  },
  {
   "cell_type": "code",
   "execution_count": 70,
   "metadata": {
    "colab": {
     "base_uri": "https://localhost:8080/"
    },
    "id": "SVS4I-mPtyO7",
    "outputId": "860c2dae-29e2-42d0-fc42-ae7586de0441"
   },
   "outputs": [
    {
     "data": {
      "text/plain": [
       "array(['Apple scab', 'Apple scab', 'Apple scab', ..., 'Cedar apple rust',\n",
       "       'Cedar apple rust', 'Cedar apple rust'], dtype=object)"
      ]
     },
     "execution_count": 70,
     "metadata": {},
     "output_type": "execute_result"
    }
   ],
   "source": [
    "y"
   ]
  },
  {
   "cell_type": "code",
   "execution_count": 71,
   "metadata": {
    "id": "eDlnB-lltzmX"
   },
   "outputs": [],
   "source": [
    "from sklearn.preprocessing import StandardScaler\n",
    "data2=StandardScaler()\n",
    "x=data2.fit_transform(x)"
   ]
  },
  {
   "cell_type": "code",
   "execution_count": 72,
   "metadata": {},
   "outputs": [
    {
     "data": {
      "text/plain": [
       "['models/scalers/Apple_scaler_model.pkl']"
      ]
     },
     "execution_count": 72,
     "metadata": {},
     "output_type": "execute_result"
    }
   ],
   "source": [
    "import joblib\n",
    "\n",
    "# Save the trained model to a file\n",
    "joblib.dump(data2, 'models/scalers/Apple_scaler_model.pkl')"
   ]
  },
  {
   "cell_type": "code",
   "execution_count": 73,
   "metadata": {
    "colab": {
     "base_uri": "https://localhost:8080/"
    },
    "id": "MMgVI393t0um",
    "outputId": "20b2fd15-4e9e-4c22-b98e-d540afbd4402"
   },
   "outputs": [
    {
     "data": {
      "text/plain": [
       "array([[-4.45967597e-01,  3.06715469e-01, -1.72798595e-02, ...,\n",
       "         1.37693202e+00, -2.96977432e-02, -1.52047803e-01],\n",
       "       [-1.40673908e+00,  4.36133438e-01, -7.55581930e-01, ...,\n",
       "         2.25572946e+00,  9.13798544e-01, -6.37037918e-01],\n",
       "       [ 2.33210231e+00, -1.37876080e-01, -1.56983854e+00, ...,\n",
       "         1.60613991e+00, -3.22494729e-01, -6.27756864e-01],\n",
       "       ...,\n",
       "       [-5.37021514e-01, -8.38668680e-01,  1.34552299e-03, ...,\n",
       "        -6.05647648e-01,  6.19889370e-01,  8.58700628e-01],\n",
       "       [-4.55361176e-01, -8.12372239e-01,  2.96103361e-01, ...,\n",
       "        -2.42956312e-01,  1.24995103e+00,  1.82933306e+00],\n",
       "       [ 9.54870411e-02, -8.85844538e-01,  1.02184351e+00, ...,\n",
       "        -7.68119318e-01,  4.95872930e-01,  1.41352944e+00]])"
      ]
     },
     "execution_count": 73,
     "metadata": {},
     "output_type": "execute_result"
    }
   ],
   "source": [
    "x"
   ]
  },
  {
   "cell_type": "code",
   "execution_count": 74,
   "metadata": {
    "id": "nQTQRp4Ut2ze"
   },
   "outputs": [],
   "source": [
    "from sklearn.model_selection import train_test_split\n",
    "x_train,x_test,y_train,y_test=train_test_split(x,y,test_size=0.2,random_state=0)"
   ]
  },
  {
   "cell_type": "markdown",
   "metadata": {
    "id": "6k5ppePD_hjr"
   },
   "source": [
    "### Default Parameters Training"
   ]
  },
  {
   "cell_type": "code",
   "execution_count": 75,
   "metadata": {
    "id": "Tmbb2gg3t4c6"
   },
   "outputs": [],
   "source": [
    "from sklearn.svm import SVC\n",
    "\n",
    "# Assuming x_train is your feature matrix and y_train is your target variable as a NumPy array\n",
    "svm = SVC()\n",
    "\n",
    "# Train the SVM model\n",
    "strain = svm.fit(x_train, y_train)"
   ]
  },
  {
   "cell_type": "code",
   "execution_count": 76,
   "metadata": {
    "colab": {
     "base_uri": "https://localhost:8080/",
     "height": 75
    },
    "id": "gJwa7r85t8aW",
    "outputId": "1fbed260-5103-4719-ac59-0205499ecb22"
   },
   "outputs": [
    {
     "data": {
      "text/html": [
       "<style>#sk-container-id-3 {color: black;}#sk-container-id-3 pre{padding: 0;}#sk-container-id-3 div.sk-toggleable {background-color: white;}#sk-container-id-3 label.sk-toggleable__label {cursor: pointer;display: block;width: 100%;margin-bottom: 0;padding: 0.3em;box-sizing: border-box;text-align: center;}#sk-container-id-3 label.sk-toggleable__label-arrow:before {content: \"▸\";float: left;margin-right: 0.25em;color: #696969;}#sk-container-id-3 label.sk-toggleable__label-arrow:hover:before {color: black;}#sk-container-id-3 div.sk-estimator:hover label.sk-toggleable__label-arrow:before {color: black;}#sk-container-id-3 div.sk-toggleable__content {max-height: 0;max-width: 0;overflow: hidden;text-align: left;background-color: #f0f8ff;}#sk-container-id-3 div.sk-toggleable__content pre {margin: 0.2em;color: black;border-radius: 0.25em;background-color: #f0f8ff;}#sk-container-id-3 input.sk-toggleable__control:checked~div.sk-toggleable__content {max-height: 200px;max-width: 100%;overflow: auto;}#sk-container-id-3 input.sk-toggleable__control:checked~label.sk-toggleable__label-arrow:before {content: \"▾\";}#sk-container-id-3 div.sk-estimator input.sk-toggleable__control:checked~label.sk-toggleable__label {background-color: #d4ebff;}#sk-container-id-3 div.sk-label input.sk-toggleable__control:checked~label.sk-toggleable__label {background-color: #d4ebff;}#sk-container-id-3 input.sk-hidden--visually {border: 0;clip: rect(1px 1px 1px 1px);clip: rect(1px, 1px, 1px, 1px);height: 1px;margin: -1px;overflow: hidden;padding: 0;position: absolute;width: 1px;}#sk-container-id-3 div.sk-estimator {font-family: monospace;background-color: #f0f8ff;border: 1px dotted black;border-radius: 0.25em;box-sizing: border-box;margin-bottom: 0.5em;}#sk-container-id-3 div.sk-estimator:hover {background-color: #d4ebff;}#sk-container-id-3 div.sk-parallel-item::after {content: \"\";width: 100%;border-bottom: 1px solid gray;flex-grow: 1;}#sk-container-id-3 div.sk-label:hover label.sk-toggleable__label {background-color: #d4ebff;}#sk-container-id-3 div.sk-serial::before {content: \"\";position: absolute;border-left: 1px solid gray;box-sizing: border-box;top: 0;bottom: 0;left: 50%;z-index: 0;}#sk-container-id-3 div.sk-serial {display: flex;flex-direction: column;align-items: center;background-color: white;padding-right: 0.2em;padding-left: 0.2em;position: relative;}#sk-container-id-3 div.sk-item {position: relative;z-index: 1;}#sk-container-id-3 div.sk-parallel {display: flex;align-items: stretch;justify-content: center;background-color: white;position: relative;}#sk-container-id-3 div.sk-item::before, #sk-container-id-3 div.sk-parallel-item::before {content: \"\";position: absolute;border-left: 1px solid gray;box-sizing: border-box;top: 0;bottom: 0;left: 50%;z-index: -1;}#sk-container-id-3 div.sk-parallel-item {display: flex;flex-direction: column;z-index: 1;position: relative;background-color: white;}#sk-container-id-3 div.sk-parallel-item:first-child::after {align-self: flex-end;width: 50%;}#sk-container-id-3 div.sk-parallel-item:last-child::after {align-self: flex-start;width: 50%;}#sk-container-id-3 div.sk-parallel-item:only-child::after {width: 0;}#sk-container-id-3 div.sk-dashed-wrapped {border: 1px dashed gray;margin: 0 0.4em 0.5em 0.4em;box-sizing: border-box;padding-bottom: 0.4em;background-color: white;}#sk-container-id-3 div.sk-label label {font-family: monospace;font-weight: bold;display: inline-block;line-height: 1.2em;}#sk-container-id-3 div.sk-label-container {text-align: center;}#sk-container-id-3 div.sk-container {/* jupyter's `normalize.less` sets `[hidden] { display: none; }` but bootstrap.min.css set `[hidden] { display: none !important; }` so we also need the `!important` here to be able to override the default hidden behavior on the sphinx rendered scikit-learn.org. See: https://github.com/scikit-learn/scikit-learn/issues/21755 */display: inline-block !important;position: relative;}#sk-container-id-3 div.sk-text-repr-fallback {display: none;}</style><div id=\"sk-container-id-3\" class=\"sk-top-container\"><div class=\"sk-text-repr-fallback\"><pre>SVC()</pre><b>In a Jupyter environment, please rerun this cell to show the HTML representation or trust the notebook. <br />On GitHub, the HTML representation is unable to render, please try loading this page with nbviewer.org.</b></div><div class=\"sk-container\" hidden><div class=\"sk-item\"><div class=\"sk-estimator sk-toggleable\"><input class=\"sk-toggleable__control sk-hidden--visually\" id=\"sk-estimator-id-3\" type=\"checkbox\" checked><label for=\"sk-estimator-id-3\" class=\"sk-toggleable__label sk-toggleable__label-arrow\">SVC</label><div class=\"sk-toggleable__content\"><pre>SVC()</pre></div></div></div></div></div>"
      ],
      "text/plain": [
       "SVC()"
      ]
     },
     "execution_count": 76,
     "metadata": {},
     "output_type": "execute_result"
    }
   ],
   "source": [
    "strain"
   ]
  },
  {
   "cell_type": "code",
   "execution_count": 77,
   "metadata": {},
   "outputs": [
    {
     "data": {
      "text/plain": [
       "['models/classifiers/Apple_classifier_model.pkl']"
      ]
     },
     "execution_count": 77,
     "metadata": {},
     "output_type": "execute_result"
    }
   ],
   "source": [
    "import joblib\n",
    "\n",
    "# Save the trained model to a file\n",
    "joblib.dump(strain, 'models/classifiers/Apple_classifier_model.pkl')"
   ]
  },
  {
   "cell_type": "markdown",
   "metadata": {
    "id": "8zlMICAkyPss"
   },
   "source": [
    "### Testing"
   ]
  },
  {
   "cell_type": "code",
   "execution_count": 78,
   "metadata": {
    "colab": {
     "base_uri": "https://localhost:8080/"
    },
    "id": "EQD5xxINt92B",
    "outputId": "e0e25db0-9a02-4fbb-9085-d556f0dff6ac"
   },
   "outputs": [
    {
     "data": {
      "text/plain": [
       "array([[-0.75166454, -0.11139539, -0.70337508, ...,  0.35926755,\n",
       "         1.67498033, -1.29822072],\n",
       "       [-0.87617753, -0.10199936,  0.16711422, ...,  0.59584414,\n",
       "        -0.69399757, -0.22680394],\n",
       "       [-0.83620955,  1.74314432, -0.96582901, ..., -1.38671019,\n",
       "         0.39633456,  0.6919473 ],\n",
       "       ...,\n",
       "       [-0.44693465, -1.00130788, -0.42519048, ...,  0.47033785,\n",
       "        -1.28515455, -0.26374484],\n",
       "       [-0.7567938 , -0.8907111 , -0.44131022, ..., -0.17525878,\n",
       "        -0.34244678,  0.80042863],\n",
       "       [-0.90294445,  0.99138159, -0.78124045, ..., -1.25754128,\n",
       "         0.08443239,  0.1319261 ]])"
      ]
     },
     "execution_count": 78,
     "metadata": {},
     "output_type": "execute_result"
    }
   ],
   "source": [
    "x_test"
   ]
  },
  {
   "cell_type": "code",
   "execution_count": 79,
   "metadata": {
    "id": "AO88OgAdt_Ox"
   },
   "outputs": [],
   "source": [
    "y_pred=strain.predict(x_test)"
   ]
  },
  {
   "cell_type": "code",
   "execution_count": 80,
   "metadata": {
    "colab": {
     "base_uri": "https://localhost:8080/"
    },
    "id": "XklSeMzduAqr",
    "outputId": "a2ef23a4-aa53-4ef4-9223-2bd46366b7e1"
   },
   "outputs": [
    {
     "data": {
      "text/plain": [
       "array(['Black rot', 'Apple scab', 'Healthy', ..., 'Apple scab',\n",
       "       'Cedar apple rust', 'Healthy'], dtype=object)"
      ]
     },
     "execution_count": 80,
     "metadata": {},
     "output_type": "execute_result"
    }
   ],
   "source": [
    "y_pred"
   ]
  },
  {
   "cell_type": "code",
   "execution_count": 81,
   "metadata": {
    "colab": {
     "base_uri": "https://localhost:8080/"
    },
    "id": "j885OsvouB8R",
    "outputId": "3b78cde5-2b87-4939-eac3-51a21f3c2681"
   },
   "outputs": [
    {
     "data": {
      "text/plain": [
       "array(['Black rot', 'Apple scab', 'Healthy', ..., 'Apple scab',\n",
       "       'Cedar apple rust', 'Healthy'], dtype=object)"
      ]
     },
     "execution_count": 81,
     "metadata": {},
     "output_type": "execute_result"
    }
   ],
   "source": [
    "y_test"
   ]
  },
  {
   "cell_type": "code",
   "execution_count": 82,
   "metadata": {},
   "outputs": [
    {
     "name": "stdout",
     "output_type": "stream",
     "text": [
      "Number of Training Data: 5264\n",
      "Number of Testing Data: 1316\n"
     ]
    }
   ],
   "source": [
    "print(\"Number of Training Data:\", len(y_train))\n",
    "print(\"Number of Testing Data:\", len(y_test))"
   ]
  },
  {
   "cell_type": "code",
   "execution_count": 83,
   "metadata": {
    "colab": {
     "base_uri": "https://localhost:8080/"
    },
    "id": "887u3OPDuDPq",
    "outputId": "8896949b-55b4-422a-e40c-bc7f5558adda"
   },
   "outputs": [
    {
     "data": {
      "text/plain": [
       "array([[296,  15,  10,  15],\n",
       "       [  5, 317,   0,   1],\n",
       "       [  1,   0, 318,   0],\n",
       "       [ 22,   4,   0, 312]], dtype=int64)"
      ]
     },
     "execution_count": 83,
     "metadata": {},
     "output_type": "execute_result"
    }
   ],
   "source": [
    "from sklearn.metrics import confusion_matrix\n",
    "confusion_matrix(y_test,y_pred)"
   ]
  },
  {
   "cell_type": "code",
   "execution_count": 84,
   "metadata": {
    "colab": {
     "base_uri": "https://localhost:8080/"
    },
    "id": "rz7_6ObeuFGW",
    "outputId": "34ccfc1a-691f-41e8-9afd-470734e2256c"
   },
   "outputs": [
    {
     "data": {
      "text/plain": [
       "0.9445288753799392"
      ]
     },
     "execution_count": 84,
     "metadata": {},
     "output_type": "execute_result"
    }
   ],
   "source": [
    "from sklearn.metrics import accuracy_score\n",
    "accuracy_score(y_test,y_pred)"
   ]
  },
  {
   "cell_type": "markdown",
   "metadata": {},
   "source": [
    "### Testing Models"
   ]
  },
  {
   "cell_type": "code",
   "execution_count": null,
   "metadata": {},
   "outputs": [],
   "source": [
    "main_img = cv2.imread('dataset/images/Cedar apple rust/0cd24b0c-0a9d-483f-8734-5c08988e029f___FREC_C.Rust 3762.jpg')\n",
    "\n",
    "names = ['area', 'perimeter', 'physiological_length', 'physiological_width', 'aspect_ratio',\n",
    "             'mean_r', 'mean_g', 'mean_b', 'stddev_r', 'stddev_g', 'stddev_b',\n",
    "             'contrast', 'energy', 'homogeneity', 'correlation', 'dissimilarity',\n",
    "             'eccentricity', 'solidity', 'equiv_diameter', 'major_axis_length', 'minor_axis_length',\n",
    "             'skewness', 'kurtosis', 'hog_feature_1', 'hog_feature_2', 'hog_feature_3'\n",
    "            ]\n",
    "df = pd.DataFrame(columns=names)\n",
    "\n",
    "# Preprocessing\n",
    "img = cv2.cvtColor(main_img, cv2.COLOR_BGR2RGB)\n",
    "gs = cv2.cvtColor(img, cv2.COLOR_RGB2GRAY)\n",
    "blur = cv2.GaussianBlur(gs, (25, 25), 0)\n",
    "ret, thresh = cv2.threshold(blur, 0, 255, cv2.THRESH_BINARY_INV + cv2.THRESH_OTSU)\n",
    "kernel = np.ones((50, 50), np.uint8)\n",
    "closing = cv2.morphologyEx(thresh, cv2.MORPH_CLOSE, kernel)\n",
    "\n",
    "# Shape features\n",
    "contours, _ = cv2.findContours(closing, cv2.RETR_TREE, cv2.CHAIN_APPROX_SIMPLE)\n",
    "cnt = contours[0]\n",
    "area = cv2.contourArea(cnt)\n",
    "perimeter = cv2.arcLength(cnt, True)\n",
    "x, y, w, h = cv2.boundingRect(cnt)\n",
    "aspect_ratio = float(w) / h\n",
    "\n",
    "# Color features\n",
    "red_channel = img[:, :, 0]\n",
    "green_channel = img[:, :, 1]\n",
    "blue_channel = img[:, :, 2]\n",
    "\n",
    "red_mean = np.mean(red_channel)\n",
    "green_mean = np.mean(green_channel)\n",
    "blue_mean = np.mean(blue_channel)\n",
    "\n",
    "# Std deviation\n",
    "red_std = np.std(red_channel)\n",
    "green_std = np.std(green_channel)\n",
    "blue_std = np.std(blue_channel)\n",
    "\n",
    "# Texture features using GLCM matrix\n",
    "glcm = graycomatrix(gs,\n",
    "                distances=[1],\n",
    "                angles=[0],\n",
    "                symmetric=True,\n",
    "                normed=True)\n",
    "\n",
    "properties = ['contrast', 'energy', 'homogeneity', 'correlation', 'dissimilarity']\n",
    "contrast = graycoprops(glcm, properties[0])\n",
    "energy = graycoprops(glcm, properties[1])\n",
    "homogeneity = graycoprops(glcm, properties[2])\n",
    "correlation = graycoprops(glcm, properties[3])\n",
    "dissimilarity = graycoprops(glcm, properties[4])\n",
    "\n",
    "# Statistical moments\n",
    "skewness = stats.skew(gs.flatten())\n",
    "kurtosis = stats.kurtosis(gs.flatten())\n",
    "\n",
    "# Additional features\n",
    "labeled_img = label(closing)\n",
    "regions = regionprops(labeled_img)\n",
    "\n",
    "eccentricity = regions[0].eccentricity\n",
    "solidity = regions[0].solidity\n",
    "equiv_diameter = regions[0].equivalent_diameter\n",
    "major_axis_length = regions[0].major_axis_length\n",
    "minor_axis_length = regions[0].minor_axis_length\n",
    "\n",
    "# HOG features\n",
    "hog_features = hog(gs, orientations=8, pixels_per_cell=(8, 8), cells_per_block=(1, 1), block_norm='L2-Hys')\n",
    "\n",
    "vector = [area, perimeter, w, h, aspect_ratio,\n",
    "        red_mean, green_mean, blue_mean, red_std, green_std, blue_std,\n",
    "        contrast[0][0], energy[0][0], homogeneity[0][0], correlation[0][0], dissimilarity[0][0],\n",
    "        eccentricity, solidity, equiv_diameter, major_axis_length, minor_axis_length,\n",
    "        skewness, kurtosis, hog_features[0], hog_features[1], hog_features[2]]\n",
    "\n",
    "df_temp = pd.DataFrame([vector], columns=names)\n",
    "df = pd.concat([df, df_temp], ignore_index=True)\n",
    "\n",
    "pca_model = joblib.load('models/pca/Apple_pca_model.pkl')\n",
    "pca = pca_model.transform(df)\n",
    "\n",
    "scaler_model = joblib.load('models/scalers/Apple_scaler_model.pkl')\n",
    "scaled = scaler_model.transform(pca)\n",
    "\n",
    "classifier_model = joblib.load('models/classifiers/Apple_classifier_model.pkl')\n",
    "results = classifier_model.predict(scaled)\n",
    "\n",
    "print('FEATURES', df)\n",
    "print('PCA', pca)\n",
    "print('SCALED', scaled)\n",
    "print('RESULTS', results)"
   ]
  },
  {
   "cell_type": "markdown",
   "metadata": {
    "id": "h7W-Z2du6Isj"
   },
   "source": [
    "### Checking"
   ]
  },
  {
   "cell_type": "code",
   "execution_count": 85,
   "metadata": {
    "colab": {
     "base_uri": "https://localhost:8080/",
     "height": 872
    },
    "id": "Mi36sen15YST",
    "outputId": "7c6cb7e0-e508-4e29-f00a-9d2f1fc852b1"
   },
   "outputs": [
    {
     "data": {
      "image/png": "[encoded data removed]",
      "text/plain": [
       "<Figure size 1000x1000 with 2 Axes>"
      ]
     },
     "metadata": {},
     "output_type": "display_data"
    }
   ],
   "source": [
    "from sklearn.metrics import confusion_matrix\n",
    "import seaborn as sns\n",
    "import matplotlib.pyplot as plt\n",
    "\n",
    "# Assuming 'y_test' contains the true labels and 'y_pred' contains the predicted labels\n",
    "conf_mat = confusion_matrix(y_test, y_pred, labels=data['types'].unique())\n",
    "\n",
    "# Create the heatmap\n",
    "fig, ax = plt.subplots(figsize=(10, 10))\n",
    "sns.heatmap(conf_mat, annot=True, fmt='d',\n",
    "            xticklabels=data['types'].unique(),\n",
    "            yticklabels=data['types'].unique())\n",
    "plt.ylabel('Actual')\n",
    "plt.xlabel('Predicted')\n",
    "plt.title(\"Confusion Matrix - Linear SVC\")\n",
    "plt.show()"
   ]
  },
  {
   "cell_type": "code",
   "execution_count": 86,
   "metadata": {
    "colab": {
     "base_uri": "https://localhost:8080/"
    },
    "id": "J8xrBjBr5c65",
    "outputId": "d44d24c2-c2b7-4dd4-b2bf-3642ba08236a"
   },
   "outputs": [
    {
     "name": "stdout",
     "output_type": "stream",
     "text": [
      "Class Apple scab - Precision: 0.9135802469135802 \n",
      "\t\t  Recall: 0.8809523809523809 \n",
      "\t\t  F1-Score: 0.8969696969696969\n",
      "\n",
      "Class Black rot - Precision: 0.9434523809523809 \n",
      "\t\t  Recall: 0.9814241486068112 \n",
      "\t\t  F1-Score: 0.9620637329286799\n",
      "\n",
      "Class Cedar apple rust - Precision: 0.9695121951219512 \n",
      "\t\t  Recall: 0.9968652037617555 \n",
      "\t\t  F1-Score: 0.9829984544049459\n",
      "\n",
      "Class Healthy - Precision: 0.9512195121951219 \n",
      "\t\t  Recall: 0.9230769230769231 \n",
      "\t\t  F1-Score: 0.9369369369369369\n",
      "\n"
     ]
    }
   ],
   "source": [
    "from sklearn.metrics import precision_score, recall_score, f1_score\n",
    "\n",
    "# Assuming you have true labels (y_true) and predicted labels (y_pred)\n",
    "y_true = y_test\n",
    "y_pred = y_pred\n",
    "\n",
    "data=pd.read_csv(\"dataset/csv/image_features.csv\")\n",
    "types = data[\"types\"]\n",
    "types_labels = types.unique()\n",
    "\n",
    "# Compute precision, recall, and F1-score for each class\n",
    "classes =  types_labels\n",
    "\n",
    "precision = precision_score(y_true, y_pred, labels=classes, average=None, zero_division=0)\n",
    "recall = recall_score(y_true, y_pred, labels=classes, average=None, zero_division=0)\n",
    "f1 = f1_score(y_true, y_pred, labels=classes, average=None, zero_division=0)\n",
    "\n",
    "# Display the results for each class\n",
    "for class_label, p, r, f in zip(classes, precision, recall, f1):\n",
    "    print(f\"Class {class_label} - Precision: {p} \\n\\t\\t  Recall: {r} \\n\\t\\t  F1-Score: {f}\\n\")"
   ]
  },
  {
   "cell_type": "markdown",
   "metadata": {
    "id": "x97tmcSQ_dZ9"
   },
   "source": [
    "## Grid Search"
   ]
  },
  {
   "cell_type": "code",
   "execution_count": 87,
   "metadata": {
    "colab": {
     "base_uri": "https://localhost:8080/"
    },
    "id": "koXHWanJgnRK",
    "outputId": "6720261e-a020-49ee-a4b6-3321eec98ecc"
   },
   "outputs": [
    {
     "name": "stdout",
     "output_type": "stream",
     "text": [
      "Combination 1/112: C=0.1, kernel=linear, gamma=scale\n",
      "Accuracy on test data:  0.8966565349544073\n",
      "Combination 2/112: C=0.1, kernel=linear, gamma=auto\n",
      "Accuracy on test data:  0.8966565349544073\n",
      "Combination 3/112: C=0.1, kernel=linear, gamma=0.001\n",
      "Accuracy on test data:  0.8966565349544073\n",
      "Combination 4/112: C=0.1, kernel=linear, gamma=0.01\n",
      "Accuracy on test data:  0.8966565349544073\n",
      "Combination 5/112: C=0.1, kernel=linear, gamma=0.1\n",
      "Accuracy on test data:  0.8966565349544073\n",
      "Combination 6/112: C=0.1, kernel=linear, gamma=1\n",
      "Accuracy on test data:  0.8966565349544073\n",
      "Combination 7/112: C=0.1, kernel=linear, gamma=10\n",
      "Accuracy on test data:  0.8966565349544073\n",
      "Combination 8/112: C=0.1, kernel=rbf, gamma=scale\n",
      "Accuracy on test data:  0.9110942249240122\n",
      "Combination 9/112: C=0.1, kernel=rbf, gamma=auto\n",
      "Accuracy on test data:  0.9110942249240122\n",
      "Combination 10/112: C=0.1, kernel=rbf, gamma=0.001\n",
      "Accuracy on test data:  0.8419452887537994\n",
      "Combination 11/112: C=0.1, kernel=rbf, gamma=0.01\n",
      "Accuracy on test data:  0.8852583586626139\n",
      "Combination 12/112: C=0.1, kernel=rbf, gamma=0.1\n",
      "Accuracy on test data:  0.9171732522796353\n",
      "Combination 13/112: C=0.1, kernel=rbf, gamma=1\n",
      "Accuracy on test data:  0.44452887537993924\n",
      "Combination 14/112: C=0.1, kernel=rbf, gamma=10\n",
      "Accuracy on test data:  0.24240121580547114\n",
      "Combination 15/112: C=0.1, kernel=poly, gamma=scale\n",
      "Accuracy on test data:  0.9133738601823708\n",
      "Combination 16/112: C=0.1, kernel=poly, gamma=auto\n",
      "Accuracy on test data:  0.9118541033434651\n",
      "Combination 17/112: C=0.1, kernel=poly, gamma=0.001\n",
      "Accuracy on test data:  0.24240121580547114\n",
      "Combination 18/112: C=0.1, kernel=poly, gamma=0.01\n",
      "Accuracy on test data:  0.24240121580547114\n",
      "Combination 19/112: C=0.1, kernel=poly, gamma=0.1\n",
      "Accuracy on test data:  0.9247720364741642\n",
      "Combination 20/112: C=0.1, kernel=poly, gamma=1\n",
      "Accuracy on test data:  0.9445288753799392\n",
      "Combination 21/112: C=0.1, kernel=poly, gamma=10\n",
      "Accuracy on test data:  0.9422492401215805\n",
      "Combination 22/112: C=0.1, kernel=sigmoid, gamma=scale\n",
      "Accuracy on test data:  0.8449848024316109\n",
      "Combination 23/112: C=0.1, kernel=sigmoid, gamma=auto\n",
      "Accuracy on test data:  0.8457446808510638\n",
      "Combination 24/112: C=0.1, kernel=sigmoid, gamma=0.001\n",
      "Accuracy on test data:  0.5623100303951368\n",
      "Combination 25/112: C=0.1, kernel=sigmoid, gamma=0.01\n",
      "Accuracy on test data:  0.871580547112462\n",
      "Combination 26/112: C=0.1, kernel=sigmoid, gamma=0.1\n",
      "Accuracy on test data:  0.7993920972644377\n",
      "Combination 27/112: C=0.1, kernel=sigmoid, gamma=1\n",
      "Accuracy on test data:  0.5547112462006079\n",
      "Combination 28/112: C=0.1, kernel=sigmoid, gamma=10\n",
      "Accuracy on test data:  0.5379939209726444\n",
      "Combination 29/112: C=1, kernel=linear, gamma=scale\n",
      "Accuracy on test data:  0.898176291793313\n",
      "Combination 30/112: C=1, kernel=linear, gamma=auto\n",
      "Accuracy on test data:  0.898176291793313\n",
      "Combination 31/112: C=1, kernel=linear, gamma=0.001\n",
      "Accuracy on test data:  0.898176291793313\n",
      "Combination 32/112: C=1, kernel=linear, gamma=0.01\n",
      "Accuracy on test data:  0.898176291793313\n",
      "Combination 33/112: C=1, kernel=linear, gamma=0.1\n",
      "Accuracy on test data:  0.898176291793313\n",
      "Combination 34/112: C=1, kernel=linear, gamma=1\n",
      "Accuracy on test data:  0.898176291793313\n",
      "Combination 35/112: C=1, kernel=linear, gamma=10\n",
      "Accuracy on test data:  0.898176291793313\n",
      "Combination 36/112: C=1, kernel=rbf, gamma=scale\n",
      "Accuracy on test data:  0.9445288753799392\n",
      "Combination 37/112: C=1, kernel=rbf, gamma=auto\n",
      "Accuracy on test data:  0.9437689969604863\n",
      "Combination 38/112: C=1, kernel=rbf, gamma=0.001\n",
      "Accuracy on test data:  0.8799392097264438\n",
      "Combination 39/112: C=1, kernel=rbf, gamma=0.01\n",
      "Accuracy on test data:  0.9095744680851063\n",
      "Combination 40/112: C=1, kernel=rbf, gamma=0.1\n",
      "Accuracy on test data:  0.9521276595744681\n",
      "Combination 41/112: C=1, kernel=rbf, gamma=1\n",
      "Accuracy on test data:  0.9209726443768997\n",
      "Combination 42/112: C=1, kernel=rbf, gamma=10\n",
      "Accuracy on test data:  0.5334346504559271\n",
      "Combination 43/112: C=1, kernel=poly, gamma=scale\n",
      "Accuracy on test data:  0.9384498480243161\n",
      "Combination 44/112: C=1, kernel=poly, gamma=auto\n",
      "Accuracy on test data:  0.939209726443769\n",
      "Combination 45/112: C=1, kernel=poly, gamma=0.001\n",
      "Accuracy on test data:  0.24240121580547114\n",
      "Combination 46/112: C=1, kernel=poly, gamma=0.01\n",
      "Accuracy on test data:  0.5820668693009119\n",
      "Combination 47/112: C=1, kernel=poly, gamma=0.1\n",
      "Accuracy on test data:  0.9468085106382979\n",
      "Combination 48/112: C=1, kernel=poly, gamma=1\n",
      "Accuracy on test data:  0.9422492401215805\n",
      "Combination 49/112: C=1, kernel=poly, gamma=10\n",
      "Accuracy on test data:  0.9422492401215805\n",
      "Combination 50/112: C=1, kernel=sigmoid, gamma=scale\n",
      "Accuracy on test data:  0.7750759878419453\n",
      "Combination 51/112: C=1, kernel=sigmoid, gamma=auto\n",
      "Accuracy on test data:  0.7743161094224924\n",
      "Combination 52/112: C=1, kernel=sigmoid, gamma=0.001\n",
      "Accuracy on test data:  0.871580547112462\n",
      "Combination 53/112: C=1, kernel=sigmoid, gamma=0.01\n",
      "Accuracy on test data:  0.8890577507598785\n",
      "Combination 54/112: C=1, kernel=sigmoid, gamma=0.1\n",
      "Accuracy on test data:  0.7249240121580547\n",
      "Combination 55/112: C=1, kernel=sigmoid, gamma=1\n",
      "Accuracy on test data:  0.5516717325227963\n",
      "Combination 56/112: C=1, kernel=sigmoid, gamma=10\n",
      "Accuracy on test data:  0.541033434650456\n",
      "Combination 57/112: C=10, kernel=linear, gamma=scale\n",
      "Accuracy on test data:  0.898936170212766\n",
      "Combination 58/112: C=10, kernel=linear, gamma=auto\n",
      "Accuracy on test data:  0.898936170212766\n",
      "Combination 59/112: C=10, kernel=linear, gamma=0.001\n",
      "Accuracy on test data:  0.898936170212766\n",
      "Combination 60/112: C=10, kernel=linear, gamma=0.01\n",
      "Accuracy on test data:  0.898936170212766\n",
      "Combination 61/112: C=10, kernel=linear, gamma=0.1\n",
      "Accuracy on test data:  0.898936170212766\n",
      "Combination 62/112: C=10, kernel=linear, gamma=1\n",
      "Accuracy on test data:  0.898936170212766\n",
      "Combination 63/112: C=10, kernel=linear, gamma=10\n",
      "Accuracy on test data:  0.898936170212766\n",
      "Combination 64/112: C=10, kernel=rbf, gamma=scale\n",
      "Accuracy on test data:  0.96580547112462\n",
      "Combination 65/112: C=10, kernel=rbf, gamma=auto\n",
      "Accuracy on test data:  0.96580547112462\n",
      "Combination 66/112: C=10, kernel=rbf, gamma=0.001\n",
      "Accuracy on test data:  0.8951367781155015\n",
      "Combination 67/112: C=10, kernel=rbf, gamma=0.01\n",
      "Accuracy on test data:  0.9376899696048632\n",
      "Combination 68/112: C=10, kernel=rbf, gamma=0.1\n",
      "Accuracy on test data:  0.9680851063829787\n",
      "Combination 69/112: C=10, kernel=rbf, gamma=1\n",
      "Accuracy on test data:  0.9270516717325228\n",
      "Combination 70/112: C=10, kernel=rbf, gamma=10\n",
      "Accuracy on test data:  0.5531914893617021\n",
      "Combination 71/112: C=10, kernel=poly, gamma=scale\n",
      "Accuracy on test data:  0.9490881458966566\n",
      "Combination 72/112: C=10, kernel=poly, gamma=auto\n",
      "Accuracy on test data:  0.9490881458966566\n",
      "Combination 73/112: C=10, kernel=poly, gamma=0.001\n",
      "Accuracy on test data:  0.24240121580547114\n",
      "Combination 74/112: C=10, kernel=poly, gamma=0.01\n",
      "Accuracy on test data:  0.8700607902735562\n",
      "Combination 75/112: C=10, kernel=poly, gamma=0.1\n",
      "Accuracy on test data:  0.9468085106382979\n",
      "Combination 76/112: C=10, kernel=poly, gamma=1\n",
      "Accuracy on test data:  0.9422492401215805\n",
      "Combination 77/112: C=10, kernel=poly, gamma=10\n",
      "Accuracy on test data:  0.9422492401215805\n",
      "Combination 78/112: C=10, kernel=sigmoid, gamma=scale\n",
      "Accuracy on test data:  0.7454407294832827\n",
      "Combination 79/112: C=10, kernel=sigmoid, gamma=auto\n",
      "Accuracy on test data:  0.743920972644377\n",
      "Combination 80/112: C=10, kernel=sigmoid, gamma=0.001\n",
      "Accuracy on test data:  0.8898176291793313\n",
      "Combination 81/112: C=10, kernel=sigmoid, gamma=0.01\n",
      "Accuracy on test data:  0.8822188449848024\n",
      "Combination 82/112: C=10, kernel=sigmoid, gamma=0.1\n",
      "Accuracy on test data:  0.7211246200607903\n",
      "Combination 83/112: C=10, kernel=sigmoid, gamma=1\n",
      "Accuracy on test data:  0.547112462006079\n",
      "Combination 84/112: C=10, kernel=sigmoid, gamma=10\n",
      "Accuracy on test data:  0.5417933130699089\n",
      "Combination 85/112: C=100, kernel=linear, gamma=scale\n",
      "Accuracy on test data:  0.898176291793313\n",
      "Combination 86/112: C=100, kernel=linear, gamma=auto\n",
      "Accuracy on test data:  0.898176291793313\n",
      "Combination 87/112: C=100, kernel=linear, gamma=0.001\n",
      "Accuracy on test data:  0.898176291793313\n",
      "Combination 88/112: C=100, kernel=linear, gamma=0.01\n",
      "Accuracy on test data:  0.898176291793313\n",
      "Combination 89/112: C=100, kernel=linear, gamma=0.1\n",
      "Accuracy on test data:  0.898176291793313\n",
      "Combination 90/112: C=100, kernel=linear, gamma=1\n",
      "Accuracy on test data:  0.898176291793313\n",
      "Combination 91/112: C=100, kernel=linear, gamma=10\n",
      "Accuracy on test data:  0.898176291793313\n",
      "Combination 92/112: C=100, kernel=rbf, gamma=scale\n",
      "Accuracy on test data:  0.9673252279635258\n",
      "Combination 93/112: C=100, kernel=rbf, gamma=auto\n",
      "Accuracy on test data:  0.9673252279635258\n",
      "Combination 94/112: C=100, kernel=rbf, gamma=0.001\n",
      "Accuracy on test data:  0.912613981762918\n",
      "Combination 95/112: C=100, kernel=rbf, gamma=0.01\n",
      "Accuracy on test data:  0.9521276595744681\n",
      "Combination 96/112: C=100, kernel=rbf, gamma=0.1\n",
      "Accuracy on test data:  0.9696048632218845\n",
      "Combination 97/112: C=100, kernel=rbf, gamma=1\n",
      "Accuracy on test data:  0.9270516717325228\n",
      "Combination 98/112: C=100, kernel=rbf, gamma=10\n",
      "Accuracy on test data:  0.5531914893617021\n",
      "Combination 99/112: C=100, kernel=poly, gamma=scale\n",
      "Accuracy on test data:  0.9468085106382979\n",
      "Combination 100/112: C=100, kernel=poly, gamma=auto\n",
      "Accuracy on test data:  0.9475683890577508\n",
      "Combination 101/112: C=100, kernel=poly, gamma=0.001\n",
      "Accuracy on test data:  0.24240121580547114\n",
      "Combination 102/112: C=100, kernel=poly, gamma=0.01\n",
      "Accuracy on test data:  0.9247720364741642\n",
      "Combination 103/112: C=100, kernel=poly, gamma=0.1\n",
      "Accuracy on test data:  0.9445288753799392\n",
      "Combination 104/112: C=100, kernel=poly, gamma=1\n",
      "Accuracy on test data:  0.9422492401215805\n",
      "Combination 105/112: C=100, kernel=poly, gamma=10\n",
      "Accuracy on test data:  0.9422492401215805\n",
      "Combination 106/112: C=100, kernel=sigmoid, gamma=scale\n",
      "Accuracy on test data:  0.756838905775076\n",
      "Combination 107/112: C=100, kernel=sigmoid, gamma=auto\n",
      "Accuracy on test data:  0.7553191489361702\n",
      "Combination 108/112: C=100, kernel=sigmoid, gamma=0.001\n",
      "Accuracy on test data:  0.8966565349544073\n",
      "Combination 109/112: C=100, kernel=sigmoid, gamma=0.01\n",
      "Accuracy on test data:  0.8465045592705167\n",
      "Combination 110/112: C=100, kernel=sigmoid, gamma=0.1\n",
      "Accuracy on test data:  0.7272036474164134\n",
      "Combination 111/112: C=100, kernel=sigmoid, gamma=1\n",
      "Accuracy on test data:  0.541033434650456\n",
      "Combination 112/112: C=100, kernel=sigmoid, gamma=10\n",
      "Accuracy on test data:  0.5372340425531915\n"
     ]
    }
   ],
   "source": [
    "import threading\n",
    "from sklearn.model_selection import GridSearchCV\n",
    "from sklearn.svm import SVC\n",
    "import pandas as pd\n",
    "\n",
    "# Define the parameter grid to search\n",
    "param_grid = {\n",
    "    'C': [0.1, 1, 10, 100],  # Regularization parameter\n",
    "    'kernel': ['linear', 'rbf', 'poly', 'sigmoid'],  # Kernel types\n",
    "    'gamma': ['scale', 'auto'] + [0.001, 0.01, 0.1, 1, 10]  # Kernel coefficient (only for 'rbf', 'poly', 'sigmoid')\n",
    "}\n",
    "\n",
    "# Create an SVM model\n",
    "svm = SVC()\n",
    "\n",
    "# Create a GridSearchCV object with the SVM model and parameter grid\n",
    "grid_search = GridSearchCV(svm, param_grid, cv=5, scoring='accuracy')\n",
    "\n",
    "# Initialize a variable to keep track of the number of combinations\n",
    "total_combinations = len(param_grid['C']) * len(param_grid['kernel']) * len(param_grid['gamma'])\n",
    "combination_count = 0\n",
    "\n",
    "# Create an empty list to store the results\n",
    "results = []\n",
    "\n",
    "# Lock for thread synchronization\n",
    "results_lock = threading.Lock()\n",
    "\n",
    "# Function to train the SVM model with a timeout\n",
    "def train_svm_with_timeout(C, kernel, gamma, result_flag):\n",
    "    try:\n",
    "        svm = SVC(C=C, kernel=kernel, gamma=gamma)\n",
    "        svm.fit(x_train, y_train)\n",
    "        y_pred = svm.predict(x_test)  # Predict on the test data\n",
    "        accuracy = (y_pred == y_test).mean()  # Calculate accuracy\n",
    "        with results_lock:\n",
    "            results.append([C, kernel, gamma, accuracy])\n",
    "        result_flag[0] = True\n",
    "    except Exception as e:\n",
    "        result_flag[0] = False\n",
    "\n",
    "# Fit the grid search to your training data\n",
    "for C in param_grid['C']:\n",
    "    for kernel in param_grid['kernel']:\n",
    "        for gamma in param_grid['gamma']:\n",
    "            combination_count += 1\n",
    "            print(f\"Combination {combination_count}/{total_combinations}: C={C}, kernel={kernel}, gamma={gamma}\")\n",
    "\n",
    "            result_flag = [False]\n",
    "\n",
    "            t = threading.Thread(target=train_svm_with_timeout, args=(C, kernel, gamma, result_flag))\n",
    "            t.start()\n",
    "            t.join(timeout=300)  # Adjust the timeout value as needed\n",
    "\n",
    "            if result_flag[0]:\n",
    "                print(\"Accuracy on test data: \", results[-1][-1])\n",
    "            else:\n",
    "                print(\"Training took too long or encountered an error. Skipping to the next combination.\")\n",
    "\n",
    "# Create a DataFrame from the results\n",
    "result_df = pd.DataFrame(results, columns=[\"C\", \"Kernel\", \"Gamma\", \"Accuracy\"])\n",
    "\n",
    "# Save the DataFrame to a CSV file\n",
    "output_csv = r\"dataset/csv/grid_search_results.csv\"\n",
    "result_df.to_csv(output_csv, index=False)"
   ]
  },
  {
   "cell_type": "markdown",
   "metadata": {
    "id": "O2GDDPFhXbe1"
   },
   "source": [
    "### Grid Search Training"
   ]
  },
  {
   "cell_type": "code",
   "execution_count": 88,
   "metadata": {
    "id": "c9oUYBQqWuxJ"
   },
   "outputs": [],
   "source": [
    "import pandas as pd\n",
    "grid_df=pd.read_csv(\"dataset/csv/grid_search_results.csv\")"
   ]
  },
  {
   "cell_type": "code",
   "execution_count": 89,
   "metadata": {},
   "outputs": [
    {
     "data": {
      "text/plain": [
       "112"
      ]
     },
     "execution_count": 89,
     "metadata": {},
     "output_type": "execute_result"
    }
   ],
   "source": [
    "len(grid_df)"
   ]
  },
  {
   "cell_type": "code",
   "execution_count": 90,
   "metadata": {
    "colab": {
     "base_uri": "https://localhost:8080/",
     "height": 206
    },
    "id": "O-_moD9EBSl4",
    "outputId": "d75a87ef-6407-48d6-eae1-abc2e99d3e18"
   },
   "outputs": [
    {
     "data": {
      "text/html": [
       "<div>\n",
       "<style scoped>\n",
       "    .dataframe tbody tr th:only-of-type {\n",
       "        vertical-align: middle;\n",
       "    }\n",
       "\n",
       "    .dataframe tbody tr th {\n",
       "        vertical-align: top;\n",
       "    }\n",
       "\n",
       "    .dataframe thead th {\n",
       "        text-align: right;\n",
       "    }\n",
       "</style>\n",
       "<table border=\"1\" class=\"dataframe\">\n",
       "  <thead>\n",
       "    <tr style=\"text-align: right;\">\n",
       "      <th></th>\n",
       "      <th>C</th>\n",
       "      <th>Kernel</th>\n",
       "      <th>Gamma</th>\n",
       "      <th>Accuracy</th>\n",
       "    </tr>\n",
       "  </thead>\n",
       "  <tbody>\n",
       "    <tr>\n",
       "      <th>0</th>\n",
       "      <td>0.1</td>\n",
       "      <td>linear</td>\n",
       "      <td>scale</td>\n",
       "      <td>0.896657</td>\n",
       "    </tr>\n",
       "    <tr>\n",
       "      <th>1</th>\n",
       "      <td>0.1</td>\n",
       "      <td>linear</td>\n",
       "      <td>auto</td>\n",
       "      <td>0.896657</td>\n",
       "    </tr>\n",
       "    <tr>\n",
       "      <th>2</th>\n",
       "      <td>0.1</td>\n",
       "      <td>linear</td>\n",
       "      <td>0.001</td>\n",
       "      <td>0.896657</td>\n",
       "    </tr>\n",
       "    <tr>\n",
       "      <th>3</th>\n",
       "      <td>0.1</td>\n",
       "      <td>linear</td>\n",
       "      <td>0.01</td>\n",
       "      <td>0.896657</td>\n",
       "    </tr>\n",
       "    <tr>\n",
       "      <th>4</th>\n",
       "      <td>0.1</td>\n",
       "      <td>linear</td>\n",
       "      <td>0.1</td>\n",
       "      <td>0.896657</td>\n",
       "    </tr>\n",
       "  </tbody>\n",
       "</table>\n",
       "</div>"
      ],
      "text/plain": [
       "     C  Kernel  Gamma  Accuracy\n",
       "0  0.1  linear  scale  0.896657\n",
       "1  0.1  linear   auto  0.896657\n",
       "2  0.1  linear  0.001  0.896657\n",
       "3  0.1  linear   0.01  0.896657\n",
       "4  0.1  linear    0.1  0.896657"
      ]
     },
     "execution_count": 90,
     "metadata": {},
     "output_type": "execute_result"
    }
   ],
   "source": [
    "grid_df.head()"
   ]
  },
  {
   "cell_type": "code",
   "execution_count": 91,
   "metadata": {
    "colab": {
     "base_uri": "https://localhost:8080/"
    },
    "id": "-poYVx5PGsOv",
    "outputId": "bb3545f0-cac1-4e5e-ce6c-82f5566f1e36"
   },
   "outputs": [
    {
     "name": "stdout",
     "output_type": "stream",
     "text": [
      "C              100.0\n",
      "Kernel           rbf\n",
      "Gamma            0.1\n",
      "Accuracy    0.969605\n",
      "Name: 95, dtype: object\n"
     ]
    }
   ],
   "source": [
    "# Find the index of the row with the highest accuracy\n",
    "max_accuracy_index = grid_df['Accuracy'].idxmax()\n",
    "\n",
    "# Get the row with the highest accuracy\n",
    "row_with_highest_accuracy = grid_df.loc[max_accuracy_index]\n",
    "\n",
    "print(row_with_highest_accuracy)"
   ]
  },
  {
   "cell_type": "code",
   "execution_count": 92,
   "metadata": {
    "id": "GvR5JjIWHVAA"
   },
   "outputs": [],
   "source": [
    "from sklearn.svm import SVC\n",
    "\n",
    "# Specify the parameters\n",
    "C = float(row_with_highest_accuracy.C)\n",
    "kernel = row_with_highest_accuracy.Kernel\n",
    "gamma_value = row_with_highest_accuracy.Gamma\n",
    "\n",
    "# Check if gamma is a string and not 'auto' or 'scale'\n",
    "if isinstance(gamma_value, str):\n",
    "    try:\n",
    "        gamma = float(gamma_value)  # Try to convert to float\n",
    "    except ValueError:\n",
    "        raise ValueError(\"Invalid gamma value\")\n",
    "else:\n",
    "    gamma = gamma_value  # It's either 'auto', 'scale', or a valid string\n",
    "\n",
    "# Create an SVC with the specified parameters\n",
    "svm = SVC(C=C, kernel=kernel, gamma=gamma)\n",
    "\n",
    "# Train the model on your training data\n",
    "train_grid = svm.fit(x_train, y_train)"
   ]
  },
  {
   "cell_type": "code",
   "execution_count": 93,
   "metadata": {
    "colab": {
     "base_uri": "https://localhost:8080/",
     "height": 75
    },
    "id": "Kv5dXdpFHwKZ",
    "outputId": "2053eec0-fefd-4e22-f6e9-6551df1c577e"
   },
   "outputs": [
    {
     "data": {
      "text/html": [
       "<style>#sk-container-id-4 {color: black;}#sk-container-id-4 pre{padding: 0;}#sk-container-id-4 div.sk-toggleable {background-color: white;}#sk-container-id-4 label.sk-toggleable__label {cursor: pointer;display: block;width: 100%;margin-bottom: 0;padding: 0.3em;box-sizing: border-box;text-align: center;}#sk-container-id-4 label.sk-toggleable__label-arrow:before {content: \"▸\";float: left;margin-right: 0.25em;color: #696969;}#sk-container-id-4 label.sk-toggleable__label-arrow:hover:before {color: black;}#sk-container-id-4 div.sk-estimator:hover label.sk-toggleable__label-arrow:before {color: black;}#sk-container-id-4 div.sk-toggleable__content {max-height: 0;max-width: 0;overflow: hidden;text-align: left;background-color: #f0f8ff;}#sk-container-id-4 div.sk-toggleable__content pre {margin: 0.2em;color: black;border-radius: 0.25em;background-color: #f0f8ff;}#sk-container-id-4 input.sk-toggleable__control:checked~div.sk-toggleable__content {max-height: 200px;max-width: 100%;overflow: auto;}#sk-container-id-4 input.sk-toggleable__control:checked~label.sk-toggleable__label-arrow:before {content: \"▾\";}#sk-container-id-4 div.sk-estimator input.sk-toggleable__control:checked~label.sk-toggleable__label {background-color: #d4ebff;}#sk-container-id-4 div.sk-label input.sk-toggleable__control:checked~label.sk-toggleable__label {background-color: #d4ebff;}#sk-container-id-4 input.sk-hidden--visually {border: 0;clip: rect(1px 1px 1px 1px);clip: rect(1px, 1px, 1px, 1px);height: 1px;margin: -1px;overflow: hidden;padding: 0;position: absolute;width: 1px;}#sk-container-id-4 div.sk-estimator {font-family: monospace;background-color: #f0f8ff;border: 1px dotted black;border-radius: 0.25em;box-sizing: border-box;margin-bottom: 0.5em;}#sk-container-id-4 div.sk-estimator:hover {background-color: #d4ebff;}#sk-container-id-4 div.sk-parallel-item::after {content: \"\";width: 100%;border-bottom: 1px solid gray;flex-grow: 1;}#sk-container-id-4 div.sk-label:hover label.sk-toggleable__label {background-color: #d4ebff;}#sk-container-id-4 div.sk-serial::before {content: \"\";position: absolute;border-left: 1px solid gray;box-sizing: border-box;top: 0;bottom: 0;left: 50%;z-index: 0;}#sk-container-id-4 div.sk-serial {display: flex;flex-direction: column;align-items: center;background-color: white;padding-right: 0.2em;padding-left: 0.2em;position: relative;}#sk-container-id-4 div.sk-item {position: relative;z-index: 1;}#sk-container-id-4 div.sk-parallel {display: flex;align-items: stretch;justify-content: center;background-color: white;position: relative;}#sk-container-id-4 div.sk-item::before, #sk-container-id-4 div.sk-parallel-item::before {content: \"\";position: absolute;border-left: 1px solid gray;box-sizing: border-box;top: 0;bottom: 0;left: 50%;z-index: -1;}#sk-container-id-4 div.sk-parallel-item {display: flex;flex-direction: column;z-index: 1;position: relative;background-color: white;}#sk-container-id-4 div.sk-parallel-item:first-child::after {align-self: flex-end;width: 50%;}#sk-container-id-4 div.sk-parallel-item:last-child::after {align-self: flex-start;width: 50%;}#sk-container-id-4 div.sk-parallel-item:only-child::after {width: 0;}#sk-container-id-4 div.sk-dashed-wrapped {border: 1px dashed gray;margin: 0 0.4em 0.5em 0.4em;box-sizing: border-box;padding-bottom: 0.4em;background-color: white;}#sk-container-id-4 div.sk-label label {font-family: monospace;font-weight: bold;display: inline-block;line-height: 1.2em;}#sk-container-id-4 div.sk-label-container {text-align: center;}#sk-container-id-4 div.sk-container {/* jupyter's `normalize.less` sets `[hidden] { display: none; }` but bootstrap.min.css set `[hidden] { display: none !important; }` so we also need the `!important` here to be able to override the default hidden behavior on the sphinx rendered scikit-learn.org. See: https://github.com/scikit-learn/scikit-learn/issues/21755 */display: inline-block !important;position: relative;}#sk-container-id-4 div.sk-text-repr-fallback {display: none;}</style><div id=\"sk-container-id-4\" class=\"sk-top-container\"><div class=\"sk-text-repr-fallback\"><pre>SVC(C=100.0, gamma=0.1)</pre><b>In a Jupyter environment, please rerun this cell to show the HTML representation or trust the notebook. <br />On GitHub, the HTML representation is unable to render, please try loading this page with nbviewer.org.</b></div><div class=\"sk-container\" hidden><div class=\"sk-item\"><div class=\"sk-estimator sk-toggleable\"><input class=\"sk-toggleable__control sk-hidden--visually\" id=\"sk-estimator-id-4\" type=\"checkbox\" checked><label for=\"sk-estimator-id-4\" class=\"sk-toggleable__label sk-toggleable__label-arrow\">SVC</label><div class=\"sk-toggleable__content\"><pre>SVC(C=100.0, gamma=0.1)</pre></div></div></div></div></div>"
      ],
      "text/plain": [
       "SVC(C=100.0, gamma=0.1)"
      ]
     },
     "execution_count": 93,
     "metadata": {},
     "output_type": "execute_result"
    }
   ],
   "source": [
    "train_grid"
   ]
  },
  {
   "cell_type": "code",
   "execution_count": 95,
   "metadata": {},
   "outputs": [
    {
     "data": {
      "text/plain": [
       "['models/classifiers/Apple_classifier_model.pkl']"
      ]
     },
     "execution_count": 95,
     "metadata": {},
     "output_type": "execute_result"
    }
   ],
   "source": [
    "import joblib\n",
    "\n",
    "# Save the trained model to a file\n",
    "joblib.dump(train_grid, 'models/classifiers/Apple_classifier_model.pkl')"
   ]
  },
  {
   "cell_type": "code",
   "execution_count": 96,
   "metadata": {
    "id": "6W9dE5PDH7dy"
   },
   "outputs": [],
   "source": [
    "y_pred=train_grid.predict(x_test)"
   ]
  },
  {
   "cell_type": "code",
   "execution_count": 97,
   "metadata": {
    "colab": {
     "base_uri": "https://localhost:8080/"
    },
    "id": "mufW_xTlH82J",
    "outputId": "087f12b3-5f7c-440f-9aa1-f09a234c328c"
   },
   "outputs": [
    {
     "data": {
      "text/plain": [
       "array(['Black rot', 'Apple scab', 'Apple scab', ..., 'Apple scab',\n",
       "       'Cedar apple rust', 'Healthy'], dtype=object)"
      ]
     },
     "execution_count": 97,
     "metadata": {},
     "output_type": "execute_result"
    }
   ],
   "source": [
    "y_pred"
   ]
  },
  {
   "cell_type": "code",
   "execution_count": 98,
   "metadata": {
    "colab": {
     "base_uri": "https://localhost:8080/"
    },
    "id": "L9cHncURIAob",
    "outputId": "ee4db70d-dde7-4eda-b8ed-266fdfdef23f"
   },
   "outputs": [
    {
     "data": {
      "text/plain": [
       "array(['Black rot', 'Apple scab', 'Healthy', ..., 'Apple scab',\n",
       "       'Cedar apple rust', 'Healthy'], dtype=object)"
      ]
     },
     "execution_count": 98,
     "metadata": {},
     "output_type": "execute_result"
    }
   ],
   "source": [
    "y_test"
   ]
  },
  {
   "cell_type": "code",
   "execution_count": 99,
   "metadata": {
    "colab": {
     "base_uri": "https://localhost:8080/"
    },
    "id": "7ZZvrYbEIB4d",
    "outputId": "377f879b-d690-49ad-d81a-4e8b3a9680b6"
   },
   "outputs": [
    {
     "data": {
      "text/plain": [
       "0.9696048632218845"
      ]
     },
     "execution_count": 99,
     "metadata": {},
     "output_type": "execute_result"
    }
   ],
   "source": [
    "from sklearn.metrics import accuracy_score\n",
    "accuracy_score(y_test,y_pred)"
   ]
  },
  {
   "cell_type": "markdown",
   "metadata": {
    "id": "X4iEOo5dXvx-"
   },
   "source": [
    "### Grid Search Checking"
   ]
  },
  {
   "cell_type": "code",
   "execution_count": 100,
   "metadata": {
    "colab": {
     "base_uri": "https://localhost:8080/",
     "height": 872
    },
    "id": "KsR-naNCXJd1",
    "outputId": "5d0f9fca-62d2-4db3-f2f6-8d90213da193"
   },
   "outputs": [
    {
     "data": {
      "image/png": "[encoded data removed]",
      "text/plain": [
       "<Figure size 1000x1000 with 2 Axes>"
      ]
     },
     "metadata": {},
     "output_type": "display_data"
    }
   ],
   "source": [
    "from sklearn.metrics import confusion_matrix\n",
    "import seaborn as sns\n",
    "import matplotlib.pyplot as plt\n",
    "\n",
    "# Assuming 'y_test' contains the true labels and 'y_pred' contains the predicted labels\n",
    "conf_mat = confusion_matrix(y_test, y_pred, labels=data['types'].unique())\n",
    "\n",
    "# Create the heatmap\n",
    "fig, ax = plt.subplots(figsize=(10, 10))\n",
    "sns.heatmap(conf_mat, annot=True, fmt='d',\n",
    "            xticklabels=data['types'].unique(),\n",
    "            yticklabels=data['types'].unique())\n",
    "plt.ylabel('Actual')\n",
    "plt.xlabel('Predicted')\n",
    "plt.title(\"Confusion Matrix - Linear SVC\")\n",
    "plt.show()"
   ]
  },
  {
   "cell_type": "code",
   "execution_count": 101,
   "metadata": {
    "colab": {
     "base_uri": "https://localhost:8080/"
    },
    "id": "MAcFnPHGXu1E",
    "outputId": "48396ef1-fa30-4d15-bfe2-ccbbd18e42b0"
   },
   "outputs": [
    {
     "name": "stdout",
     "output_type": "stream",
     "text": [
      "Class Apple scab - Precision: 0.9491017964071856 \n",
      "\t\t  Recall: 0.9434523809523809 \n",
      "\t\t  F1-Score: 0.9462686567164178\n",
      "\n",
      "Class Black rot - Precision: 0.9696969696969697 \n",
      "\t\t  Recall: 0.9907120743034056 \n",
      "\t\t  F1-Score: 0.9800918836140889\n",
      "\n",
      "Class Cedar apple rust - Precision: 0.9906832298136646 \n",
      "\t\t  Recall: 1.0 \n",
      "\t\t  F1-Score: 0.9953198127925117\n",
      "\n",
      "Class Healthy - Precision: 0.9696969696969697 \n",
      "\t\t  Recall: 0.9467455621301775 \n",
      "\t\t  F1-Score: 0.9580838323353293\n",
      "\n"
     ]
    }
   ],
   "source": [
    "from sklearn.metrics import precision_score, recall_score, f1_score\n",
    "\n",
    "# Assuming you have true labels (y_true) and predicted labels (y_pred)\n",
    "y_true = y_test\n",
    "y_pred = y_pred\n",
    "\n",
    "data=pd.read_csv(\"dataset/csv/image_features.csv\")\n",
    "types = data[\"types\"]\n",
    "types_labels = types.unique()\n",
    "\n",
    "# Compute precision, recall, and F1-score for each class\n",
    "classes = types_labels\n",
    "\n",
    "precision = precision_score(y_true, y_pred, labels=classes, average=None, zero_division=0)\n",
    "recall = recall_score(y_true, y_pred, labels=classes, average=None, zero_division=0)\n",
    "f1 = f1_score(y_true, y_pred, labels=classes, average=None, zero_division=0)\n",
    "\n",
    "# Display the results for each class\n",
    "for class_label, p, r, f in zip(classes, precision, recall, f1):\n",
    "    print(f\"Class {class_label} - Precision: {p} \\n\\t\\t  Recall: {r} \\n\\t\\t  F1-Score: {f}\\n\")"
   ]
  },
  {
   "cell_type": "code",
   "execution_count": null,
   "metadata": {
    "id": "s4UKeglBX_1X"
   },
   "outputs": [],
   "source": []
  }
 ],
 "metadata": {
  "colab": {
   "provenance": []
  },
  "kernelspec": {
   "display_name": "Python 3 (ipykernel)",
   "language": "python",
   "name": "python3"
  },
  "language_info": {
   "codemirror_mode": {
    "name": "ipython",
    "version": 3
   },
   "file_extension": ".py",
   "mimetype": "text/x-python",
   "name": "python",
   "nbconvert_exporter": "python",
   "pygments_lexer": "ipython3",
   "version": "3.11.4"
  }
 },
 "nbformat": 4,
 "nbformat_minor": 1
}
