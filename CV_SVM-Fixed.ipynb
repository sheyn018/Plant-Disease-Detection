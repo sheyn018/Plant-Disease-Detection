{
 "cells": [
  {
   "cell_type": "markdown",
   "metadata": {
    "id": "W62QS_j2kS93"
   },
   "source": [
    "# EDI-FEATURES\n"
   ]
  },
  {
   "cell_type": "code",
   "execution_count": 1,
   "metadata": {
    "id": "ezJqQ5XxkXRX"
   },
   "outputs": [],
   "source": [
    "import os\n",
    "import cv2\n",
    "import numpy as np\n",
    "import pandas as pd\n",
    "from skimage.feature import graycomatrix, graycoprops"
   ]
  },
  {
   "cell_type": "code",
   "execution_count": 2,
   "metadata": {
    "id": "aHfhJgcPlvNq"
   },
   "outputs": [],
   "source": [
    "ds_path = r\"dataset/images\"\n",
    "diseases= os.listdir(ds_path)"
   ]
  },
  {
   "cell_type": "code",
   "execution_count": 3,
   "metadata": {
    "colab": {
     "base_uri": "https://localhost:8080/"
    },
    "id": "aeEDqxeFmkLM",
    "outputId": "01828314-680a-4165-c486-9277280b7a97"
   },
   "outputs": [
    {
     "data": {
      "text/plain": [
       "['Cercospora Leaf Spot', 'Common Rust', 'Healthy', 'Northern Leaf Blight']"
      ]
     },
     "execution_count": 3,
     "metadata": {},
     "output_type": "execute_result"
    }
   ],
   "source": [
    "diseases"
   ]
  },
  {
   "cell_type": "code",
   "execution_count": 4,
   "metadata": {},
   "outputs": [],
   "source": [
    "from skimage import exposure\n",
    "from skimage.feature import hog\n",
    "from skimage.measure import regionprops\n",
    "from scipy import stats\n",
    "from skimage.measure import label\n",
    "\n",
    "# Set the dataset path\n",
    "ds_path = r\"dataset/images\"\n",
    "\n",
    "def features():\n",
    "    names = ['area', 'perimeter', 'physiological_length', 'physiological_width', 'aspect_ratio',\n",
    "             'mean_r', 'mean_g', 'mean_b', 'stddev_r', 'stddev_g', 'stddev_b',\n",
    "             'contrast', 'energy', 'homogeneity', 'correlation', 'dissimilarity',\n",
    "             'eccentricity', 'solidity', 'equiv_diameter', 'major_axis_length', 'minor_axis_length',\n",
    "             'skewness', 'kurtosis', 'hog_feature_1', 'hog_feature_2', 'hog_feature_3', 'types'\n",
    "            ]\n",
    "    df = pd.DataFrame(columns=names)\n",
    "\n",
    "    # Count the number of subfolders in the dataset path to determine the number of classes (labels)\n",
    "    class_folders = [f for f in os.listdir(ds_path) if os.path.isdir(os.path.join(ds_path, f))]\n",
    "    num_classes = len(class_folders)\n",
    "\n",
    "    print(\"Number of Classes: \", num_classes)\n",
    "    print(\"Classes: \", class_folders)\n",
    "\n",
    "    types = 0\n",
    "\n",
    "    for folder in class_folders:\n",
    "        disease_folder = os.path.join(ds_path, folder)\n",
    "\n",
    "        types = folder\n",
    "\n",
    "        for image in os.listdir(disease_folder):\n",
    "            imgpath = os.path.join(disease_folder, image)\n",
    "            main_img = cv2.imread(imgpath)\n",
    "\n",
    "            # Preprocessing\n",
    "            img = cv2.cvtColor(main_img, cv2.COLOR_BGR2RGB)\n",
    "            gs = cv2.cvtColor(img, cv2.COLOR_RGB2GRAY)\n",
    "            blur = cv2.GaussianBlur(gs, (25, 25), 0)\n",
    "            ret, thresh = cv2.threshold(blur, 0, 255, cv2.THRESH_BINARY_INV + cv2.THRESH_OTSU)\n",
    "            kernel = np.ones((50, 50), np.uint8)\n",
    "            closing = cv2.morphologyEx(thresh, cv2.MORPH_CLOSE, kernel)\n",
    "\n",
    "            # Shape features\n",
    "            contours, _ = cv2.findContours(closing, cv2.RETR_TREE, cv2.CHAIN_APPROX_SIMPLE)\n",
    "            cnt = contours[0]\n",
    "            area = cv2.contourArea(cnt)\n",
    "            perimeter = cv2.arcLength(cnt, True)\n",
    "            x, y, w, h = cv2.boundingRect(cnt)\n",
    "            aspect_ratio = float(w) / h\n",
    "\n",
    "            # Color features\n",
    "            red_channel = img[:, :, 0]\n",
    "            green_channel = img[:, :, 1]\n",
    "            blue_channel = img[:, :, 2]\n",
    "\n",
    "            red_mean = np.mean(red_channel)\n",
    "            green_mean = np.mean(green_channel)\n",
    "            blue_mean = np.mean(blue_channel)\n",
    "\n",
    "            # Std deviation\n",
    "            red_std = np.std(red_channel)\n",
    "            green_std = np.std(green_channel)\n",
    "            blue_std = np.std(blue_channel)\n",
    "\n",
    "            # Texture features using GLCM matrix\n",
    "            glcm = graycomatrix(gs,\n",
    "                                distances=[1],\n",
    "                                angles=[0],\n",
    "                                symmetric=True,\n",
    "                                normed=True)\n",
    "\n",
    "            properties = ['contrast', 'energy', 'homogeneity', 'correlation', 'dissimilarity']\n",
    "            contrast = graycoprops(glcm, properties[0])\n",
    "            energy = graycoprops(glcm, properties[1])\n",
    "            homogeneity = graycoprops(glcm, properties[2])\n",
    "            correlation = graycoprops(glcm, properties[3])\n",
    "            dissimilarity = graycoprops(glcm, properties[4])\n",
    "\n",
    "            # Statistical moments\n",
    "            skewness = stats.skew(gs.flatten())\n",
    "            kurtosis = stats.kurtosis(gs.flatten())\n",
    "\n",
    "            # Additional features\n",
    "            labeled_img = label(closing)\n",
    "            regions = regionprops(labeled_img)\n",
    "\n",
    "            eccentricity = regions[0].eccentricity\n",
    "            solidity = regions[0].solidity\n",
    "            equiv_diameter = regions[0].equivalent_diameter\n",
    "            major_axis_length = regions[0].major_axis_length\n",
    "            minor_axis_length = regions[0].minor_axis_length\n",
    "\n",
    "            # HOG features\n",
    "            hog_features = hog(gs, orientations=8, pixels_per_cell=(8, 8), cells_per_block=(1, 1), block_norm='L2-Hys')\n",
    "\n",
    "            vector = [area, perimeter, w, h, aspect_ratio,\n",
    "                      red_mean, green_mean, blue_mean, red_std, green_std, blue_std,\n",
    "                      contrast[0][0], energy[0][0], homogeneity[0][0], correlation[0][0], dissimilarity[0][0],\n",
    "                      eccentricity, solidity, equiv_diameter, major_axis_length, minor_axis_length,\n",
    "                      skewness, kurtosis, hog_features[0], hog_features[1], hog_features[2], types]\n",
    "\n",
    "            df_temp = pd.DataFrame([vector], columns=names)\n",
    "            df = pd.concat([df, df_temp], ignore_index=True)\n",
    "    return df"
   ]
  },
  {
   "cell_type": "code",
   "execution_count": 5,
   "metadata": {
    "colab": {
     "base_uri": "https://localhost:8080/"
    },
    "id": "-lFnHs23qIEm",
    "outputId": "2357cf1b-5b79-4cf6-8c79-5797b8f93668"
   },
   "outputs": [
    {
     "name": "stdout",
     "output_type": "stream",
     "text": [
      "Number of Classes:  4\n",
      "Classes:  ['Cercospora Leaf Spot', 'Common Rust', 'Healthy', 'Northern Leaf Blight']\n"
     ]
    }
   ],
   "source": [
    "# Call the function to create the feature dataframe\n",
    "feature_df = features()\n",
    "\n",
    "# Save the resulting dataframe to a CSV file\n",
    "feature_df.to_csv(\"dataset/csv/image_features.csv\", index=False)"
   ]
  },
  {
   "cell_type": "code",
   "execution_count": 6,
   "metadata": {
    "colab": {
     "base_uri": "https://localhost:8080/",
     "height": 226
    },
    "id": "LstkxK4PqyIT",
    "outputId": "0fb50158-f798-48a8-ebdd-55091489d77b"
   },
   "outputs": [
    {
     "data": {
      "text/html": [
       "<div>\n",
       "<style scoped>\n",
       "    .dataframe tbody tr th:only-of-type {\n",
       "        vertical-align: middle;\n",
       "    }\n",
       "\n",
       "    .dataframe tbody tr th {\n",
       "        vertical-align: top;\n",
       "    }\n",
       "\n",
       "    .dataframe thead th {\n",
       "        text-align: right;\n",
       "    }\n",
       "</style>\n",
       "<table border=\"1\" class=\"dataframe\">\n",
       "  <thead>\n",
       "    <tr style=\"text-align: right;\">\n",
       "      <th></th>\n",
       "      <th>area</th>\n",
       "      <th>perimeter</th>\n",
       "      <th>physiological_length</th>\n",
       "      <th>physiological_width</th>\n",
       "      <th>aspect_ratio</th>\n",
       "      <th>mean_r</th>\n",
       "      <th>mean_g</th>\n",
       "      <th>mean_b</th>\n",
       "      <th>stddev_r</th>\n",
       "      <th>stddev_g</th>\n",
       "      <th>...</th>\n",
       "      <th>solidity</th>\n",
       "      <th>equiv_diameter</th>\n",
       "      <th>major_axis_length</th>\n",
       "      <th>minor_axis_length</th>\n",
       "      <th>skewness</th>\n",
       "      <th>kurtosis</th>\n",
       "      <th>hog_feature_1</th>\n",
       "      <th>hog_feature_2</th>\n",
       "      <th>hog_feature_3</th>\n",
       "      <th>types</th>\n",
       "    </tr>\n",
       "  </thead>\n",
       "  <tbody>\n",
       "    <tr>\n",
       "      <th>0</th>\n",
       "      <td>26541.0</td>\n",
       "      <td>775.396968</td>\n",
       "      <td>133</td>\n",
       "      <td>256</td>\n",
       "      <td>0.519531</td>\n",
       "      <td>104.563095</td>\n",
       "      <td>107.743637</td>\n",
       "      <td>68.655884</td>\n",
       "      <td>55.589260</td>\n",
       "      <td>57.343041</td>\n",
       "      <td>...</td>\n",
       "      <td>0.672820</td>\n",
       "      <td>94.393487</td>\n",
       "      <td>305.439785</td>\n",
       "      <td>40.313109</td>\n",
       "      <td>0.059651</td>\n",
       "      <td>-1.187179</td>\n",
       "      <td>0.243761</td>\n",
       "      <td>0.486964</td>\n",
       "      <td>0.486964</td>\n",
       "      <td>Cercospora Leaf Spot</td>\n",
       "    </tr>\n",
       "    <tr>\n",
       "      <th>1</th>\n",
       "      <td>55969.0</td>\n",
       "      <td>1004.225396</td>\n",
       "      <td>256</td>\n",
       "      <td>256</td>\n",
       "      <td>1.000000</td>\n",
       "      <td>116.466217</td>\n",
       "      <td>118.686493</td>\n",
       "      <td>98.196548</td>\n",
       "      <td>29.424495</td>\n",
       "      <td>25.288295</td>\n",
       "      <td>...</td>\n",
       "      <td>0.819053</td>\n",
       "      <td>248.781378</td>\n",
       "      <td>320.956273</td>\n",
       "      <td>265.874886</td>\n",
       "      <td>0.178179</td>\n",
       "      <td>-0.323515</td>\n",
       "      <td>0.445656</td>\n",
       "      <td>0.066757</td>\n",
       "      <td>0.362304</td>\n",
       "      <td>Cercospora Leaf Spot</td>\n",
       "    </tr>\n",
       "    <tr>\n",
       "      <th>2</th>\n",
       "      <td>42062.0</td>\n",
       "      <td>1262.308656</td>\n",
       "      <td>256</td>\n",
       "      <td>256</td>\n",
       "      <td>1.000000</td>\n",
       "      <td>99.803757</td>\n",
       "      <td>115.969910</td>\n",
       "      <td>84.885330</td>\n",
       "      <td>34.389686</td>\n",
       "      <td>24.195702</td>\n",
       "      <td>...</td>\n",
       "      <td>0.732934</td>\n",
       "      <td>233.107952</td>\n",
       "      <td>307.312129</td>\n",
       "      <td>238.270818</td>\n",
       "      <td>0.718827</td>\n",
       "      <td>0.400085</td>\n",
       "      <td>0.394570</td>\n",
       "      <td>0.448935</td>\n",
       "      <td>0.448935</td>\n",
       "      <td>Cercospora Leaf Spot</td>\n",
       "    </tr>\n",
       "    <tr>\n",
       "      <th>3</th>\n",
       "      <td>3169.0</td>\n",
       "      <td>404.710677</td>\n",
       "      <td>44</td>\n",
       "      <td>175</td>\n",
       "      <td>0.251429</td>\n",
       "      <td>119.812561</td>\n",
       "      <td>134.660645</td>\n",
       "      <td>89.565430</td>\n",
       "      <td>34.034694</td>\n",
       "      <td>27.977782</td>\n",
       "      <td>...</td>\n",
       "      <td>0.900000</td>\n",
       "      <td>3.385138</td>\n",
       "      <td>6.052283</td>\n",
       "      <td>1.695890</td>\n",
       "      <td>-0.298695</td>\n",
       "      <td>3.081536</td>\n",
       "      <td>0.474238</td>\n",
       "      <td>0.000000</td>\n",
       "      <td>0.243578</td>\n",
       "      <td>Cercospora Leaf Spot</td>\n",
       "    </tr>\n",
       "    <tr>\n",
       "      <th>4</th>\n",
       "      <td>43446.5</td>\n",
       "      <td>1475.438598</td>\n",
       "      <td>256</td>\n",
       "      <td>256</td>\n",
       "      <td>1.000000</td>\n",
       "      <td>91.394882</td>\n",
       "      <td>100.050995</td>\n",
       "      <td>76.148911</td>\n",
       "      <td>73.317851</td>\n",
       "      <td>71.876494</td>\n",
       "      <td>...</td>\n",
       "      <td>0.695025</td>\n",
       "      <td>237.155667</td>\n",
       "      <td>324.332242</td>\n",
       "      <td>276.174194</td>\n",
       "      <td>0.480650</td>\n",
       "      <td>-1.181136</td>\n",
       "      <td>0.413076</td>\n",
       "      <td>0.413076</td>\n",
       "      <td>0.413076</td>\n",
       "      <td>Cercospora Leaf Spot</td>\n",
       "    </tr>\n",
       "  </tbody>\n",
       "</table>\n",
       "<p>5 rows × 27 columns</p>\n",
       "</div>"
      ],
      "text/plain": [
       "      area    perimeter physiological_length physiological_width  \\\n",
       "0  26541.0   775.396968                  133                 256   \n",
       "1  55969.0  1004.225396                  256                 256   \n",
       "2  42062.0  1262.308656                  256                 256   \n",
       "3   3169.0   404.710677                   44                 175   \n",
       "4  43446.5  1475.438598                  256                 256   \n",
       "\n",
       "   aspect_ratio      mean_r      mean_g     mean_b   stddev_r   stddev_g  ...  \\\n",
       "0      0.519531  104.563095  107.743637  68.655884  55.589260  57.343041  ...   \n",
       "1      1.000000  116.466217  118.686493  98.196548  29.424495  25.288295  ...   \n",
       "2      1.000000   99.803757  115.969910  84.885330  34.389686  24.195702  ...   \n",
       "3      0.251429  119.812561  134.660645  89.565430  34.034694  27.977782  ...   \n",
       "4      1.000000   91.394882  100.050995  76.148911  73.317851  71.876494  ...   \n",
       "\n",
       "   solidity  equiv_diameter  major_axis_length  minor_axis_length  skewness  \\\n",
       "0  0.672820       94.393487         305.439785          40.313109  0.059651   \n",
       "1  0.819053      248.781378         320.956273         265.874886  0.178179   \n",
       "2  0.732934      233.107952         307.312129         238.270818  0.718827   \n",
       "3  0.900000        3.385138           6.052283           1.695890 -0.298695   \n",
       "4  0.695025      237.155667         324.332242         276.174194  0.480650   \n",
       "\n",
       "   kurtosis  hog_feature_1  hog_feature_2  hog_feature_3                 types  \n",
       "0 -1.187179       0.243761       0.486964       0.486964  Cercospora Leaf Spot  \n",
       "1 -0.323515       0.445656       0.066757       0.362304  Cercospora Leaf Spot  \n",
       "2  0.400085       0.394570       0.448935       0.448935  Cercospora Leaf Spot  \n",
       "3  3.081536       0.474238       0.000000       0.243578  Cercospora Leaf Spot  \n",
       "4 -1.181136       0.413076       0.413076       0.413076  Cercospora Leaf Spot  \n",
       "\n",
       "[5 rows x 27 columns]"
      ]
     },
     "execution_count": 6,
     "metadata": {},
     "output_type": "execute_result"
    }
   ],
   "source": [
    "feature_df.head()"
   ]
  },
  {
   "cell_type": "markdown",
   "metadata": {
    "id": "ILev7gnvs0Js"
   },
   "source": [
    "# PCA"
   ]
  },
  {
   "cell_type": "markdown",
   "metadata": {},
   "source": [
    "## Components"
   ]
  },
  {
   "cell_type": "code",
   "execution_count": 7,
   "metadata": {},
   "outputs": [],
   "source": [
    "import pandas as pd\n",
    "from sklearn.decomposition import PCA"
   ]
  },
  {
   "cell_type": "code",
   "execution_count": 8,
   "metadata": {},
   "outputs": [],
   "source": [
    "df = pd.read_csv(\"dataset/csv/image_features.csv\")"
   ]
  },
  {
   "cell_type": "code",
   "execution_count": 9,
   "metadata": {},
   "outputs": [],
   "source": [
    "# Assuming df is your DataFrame with the features\n",
    "X = df.drop('types', axis=1)\n",
    "pca = PCA()\n",
    "X_pca = pca.fit_transform(X)"
   ]
  },
  {
   "cell_type": "code",
   "execution_count": 10,
   "metadata": {},
   "outputs": [
    {
     "data": {
      "image/png": "[encoded data removed]",
      "text/plain": [
       "<Figure size 640x480 with 1 Axes>"
      ]
     },
     "metadata": {},
     "output_type": "display_data"
    }
   ],
   "source": [
    "import matplotlib.pyplot as plt\n",
    "\n",
    "explained_variance_ratio = pca.explained_variance_ratio_\n",
    "cumulative_explained_variance = explained_variance_ratio.cumsum()\n",
    "\n",
    "plt.plot(cumulative_explained_variance, marker='o')\n",
    "plt.xlabel('Number of Components')\n",
    "plt.ylabel('Cumulative Explained Variance')\n",
    "plt.show()"
   ]
  },
  {
   "cell_type": "markdown",
   "metadata": {},
   "source": [
    "## Training"
   ]
  },
  {
   "cell_type": "code",
   "execution_count": 11,
   "metadata": {
    "id": "w04RPlfUr_CR"
   },
   "outputs": [],
   "source": [
    "import pandas as pd"
   ]
  },
  {
   "cell_type": "code",
   "execution_count": 12,
   "metadata": {
    "id": "8GeQkN7Js7JT"
   },
   "outputs": [],
   "source": [
    "data=pd.read_csv(\"dataset/csv/image_features.csv\")"
   ]
  },
  {
   "cell_type": "code",
   "execution_count": 13,
   "metadata": {
    "id": "2Nuk3yoktC6A"
   },
   "outputs": [],
   "source": [
    "types = data[\"types\"]"
   ]
  },
  {
   "cell_type": "code",
   "execution_count": 14,
   "metadata": {
    "colab": {
     "base_uri": "https://localhost:8080/"
    },
    "id": "I834En5CU_li",
    "outputId": "2fcd799f-6675-48d6-a265-ce7d7fe64441"
   },
   "outputs": [
    {
     "data": {
      "text/plain": [
       "array(['Cercospora Leaf Spot', 'Common Rust', 'Healthy',\n",
       "       'Northern Leaf Blight'], dtype=object)"
      ]
     },
     "execution_count": 14,
     "metadata": {},
     "output_type": "execute_result"
    }
   ],
   "source": [
    "types_labels = types.unique()\n",
    "types_labels"
   ]
  },
  {
   "cell_type": "code",
   "execution_count": 15,
   "metadata": {},
   "outputs": [],
   "source": [
    "data = data.drop('types', axis=1)"
   ]
  },
  {
   "cell_type": "code",
   "execution_count": 16,
   "metadata": {
    "colab": {
     "base_uri": "https://localhost:8080/",
     "height": 226
    },
    "id": "i86kptKJtDX4",
    "outputId": "157bbbaf-8f25-4d30-e81a-7429653ccabe"
   },
   "outputs": [
    {
     "data": {
      "text/html": [
       "<div>\n",
       "<style scoped>\n",
       "    .dataframe tbody tr th:only-of-type {\n",
       "        vertical-align: middle;\n",
       "    }\n",
       "\n",
       "    .dataframe tbody tr th {\n",
       "        vertical-align: top;\n",
       "    }\n",
       "\n",
       "    .dataframe thead th {\n",
       "        text-align: right;\n",
       "    }\n",
       "</style>\n",
       "<table border=\"1\" class=\"dataframe\">\n",
       "  <thead>\n",
       "    <tr style=\"text-align: right;\">\n",
       "      <th></th>\n",
       "      <th>area</th>\n",
       "      <th>perimeter</th>\n",
       "      <th>physiological_length</th>\n",
       "      <th>physiological_width</th>\n",
       "      <th>aspect_ratio</th>\n",
       "      <th>mean_r</th>\n",
       "      <th>mean_g</th>\n",
       "      <th>mean_b</th>\n",
       "      <th>stddev_r</th>\n",
       "      <th>stddev_g</th>\n",
       "      <th>...</th>\n",
       "      <th>eccentricity</th>\n",
       "      <th>solidity</th>\n",
       "      <th>equiv_diameter</th>\n",
       "      <th>major_axis_length</th>\n",
       "      <th>minor_axis_length</th>\n",
       "      <th>skewness</th>\n",
       "      <th>kurtosis</th>\n",
       "      <th>hog_feature_1</th>\n",
       "      <th>hog_feature_2</th>\n",
       "      <th>hog_feature_3</th>\n",
       "    </tr>\n",
       "  </thead>\n",
       "  <tbody>\n",
       "    <tr>\n",
       "      <th>0</th>\n",
       "      <td>26541.0</td>\n",
       "      <td>775.396968</td>\n",
       "      <td>133</td>\n",
       "      <td>256</td>\n",
       "      <td>0.519531</td>\n",
       "      <td>104.563095</td>\n",
       "      <td>107.743637</td>\n",
       "      <td>68.655884</td>\n",
       "      <td>55.589260</td>\n",
       "      <td>57.343041</td>\n",
       "      <td>...</td>\n",
       "      <td>0.991252</td>\n",
       "      <td>0.672820</td>\n",
       "      <td>94.393487</td>\n",
       "      <td>305.439785</td>\n",
       "      <td>40.313109</td>\n",
       "      <td>0.059651</td>\n",
       "      <td>-1.187179</td>\n",
       "      <td>0.243761</td>\n",
       "      <td>0.486964</td>\n",
       "      <td>0.486964</td>\n",
       "    </tr>\n",
       "    <tr>\n",
       "      <th>1</th>\n",
       "      <td>55969.0</td>\n",
       "      <td>1004.225396</td>\n",
       "      <td>256</td>\n",
       "      <td>256</td>\n",
       "      <td>1.000000</td>\n",
       "      <td>116.466217</td>\n",
       "      <td>118.686493</td>\n",
       "      <td>98.196548</td>\n",
       "      <td>29.424495</td>\n",
       "      <td>25.288295</td>\n",
       "      <td>...</td>\n",
       "      <td>0.560161</td>\n",
       "      <td>0.819053</td>\n",
       "      <td>248.781378</td>\n",
       "      <td>320.956273</td>\n",
       "      <td>265.874886</td>\n",
       "      <td>0.178179</td>\n",
       "      <td>-0.323515</td>\n",
       "      <td>0.445656</td>\n",
       "      <td>0.066757</td>\n",
       "      <td>0.362304</td>\n",
       "    </tr>\n",
       "    <tr>\n",
       "      <th>2</th>\n",
       "      <td>42062.0</td>\n",
       "      <td>1262.308656</td>\n",
       "      <td>256</td>\n",
       "      <td>256</td>\n",
       "      <td>1.000000</td>\n",
       "      <td>99.803757</td>\n",
       "      <td>115.969910</td>\n",
       "      <td>84.885330</td>\n",
       "      <td>34.389686</td>\n",
       "      <td>24.195702</td>\n",
       "      <td>...</td>\n",
       "      <td>0.631546</td>\n",
       "      <td>0.732934</td>\n",
       "      <td>233.107952</td>\n",
       "      <td>307.312129</td>\n",
       "      <td>238.270818</td>\n",
       "      <td>0.718827</td>\n",
       "      <td>0.400085</td>\n",
       "      <td>0.394570</td>\n",
       "      <td>0.448935</td>\n",
       "      <td>0.448935</td>\n",
       "    </tr>\n",
       "    <tr>\n",
       "      <th>3</th>\n",
       "      <td>3169.0</td>\n",
       "      <td>404.710677</td>\n",
       "      <td>44</td>\n",
       "      <td>175</td>\n",
       "      <td>0.251429</td>\n",
       "      <td>119.812561</td>\n",
       "      <td>134.660645</td>\n",
       "      <td>89.565430</td>\n",
       "      <td>34.034694</td>\n",
       "      <td>27.977782</td>\n",
       "      <td>...</td>\n",
       "      <td>0.959940</td>\n",
       "      <td>0.900000</td>\n",
       "      <td>3.385138</td>\n",
       "      <td>6.052283</td>\n",
       "      <td>1.695890</td>\n",
       "      <td>-0.298695</td>\n",
       "      <td>3.081536</td>\n",
       "      <td>0.474238</td>\n",
       "      <td>0.000000</td>\n",
       "      <td>0.243578</td>\n",
       "    </tr>\n",
       "    <tr>\n",
       "      <th>4</th>\n",
       "      <td>43446.5</td>\n",
       "      <td>1475.438598</td>\n",
       "      <td>256</td>\n",
       "      <td>256</td>\n",
       "      <td>1.000000</td>\n",
       "      <td>91.394882</td>\n",
       "      <td>100.050995</td>\n",
       "      <td>76.148911</td>\n",
       "      <td>73.317851</td>\n",
       "      <td>71.876494</td>\n",
       "      <td>...</td>\n",
       "      <td>0.524328</td>\n",
       "      <td>0.695025</td>\n",
       "      <td>237.155667</td>\n",
       "      <td>324.332242</td>\n",
       "      <td>276.174194</td>\n",
       "      <td>0.480650</td>\n",
       "      <td>-1.181136</td>\n",
       "      <td>0.413076</td>\n",
       "      <td>0.413076</td>\n",
       "      <td>0.413076</td>\n",
       "    </tr>\n",
       "  </tbody>\n",
       "</table>\n",
       "<p>5 rows × 26 columns</p>\n",
       "</div>"
      ],
      "text/plain": [
       "      area    perimeter  physiological_length  physiological_width  \\\n",
       "0  26541.0   775.396968                   133                  256   \n",
       "1  55969.0  1004.225396                   256                  256   \n",
       "2  42062.0  1262.308656                   256                  256   \n",
       "3   3169.0   404.710677                    44                  175   \n",
       "4  43446.5  1475.438598                   256                  256   \n",
       "\n",
       "   aspect_ratio      mean_r      mean_g     mean_b   stddev_r   stddev_g  ...  \\\n",
       "0      0.519531  104.563095  107.743637  68.655884  55.589260  57.343041  ...   \n",
       "1      1.000000  116.466217  118.686493  98.196548  29.424495  25.288295  ...   \n",
       "2      1.000000   99.803757  115.969910  84.885330  34.389686  24.195702  ...   \n",
       "3      0.251429  119.812561  134.660645  89.565430  34.034694  27.977782  ...   \n",
       "4      1.000000   91.394882  100.050995  76.148911  73.317851  71.876494  ...   \n",
       "\n",
       "   eccentricity  solidity  equiv_diameter  major_axis_length  \\\n",
       "0      0.991252  0.672820       94.393487         305.439785   \n",
       "1      0.560161  0.819053      248.781378         320.956273   \n",
       "2      0.631546  0.732934      233.107952         307.312129   \n",
       "3      0.959940  0.900000        3.385138           6.052283   \n",
       "4      0.524328  0.695025      237.155667         324.332242   \n",
       "\n",
       "   minor_axis_length  skewness  kurtosis  hog_feature_1  hog_feature_2  \\\n",
       "0          40.313109  0.059651 -1.187179       0.243761       0.486964   \n",
       "1         265.874886  0.178179 -0.323515       0.445656       0.066757   \n",
       "2         238.270818  0.718827  0.400085       0.394570       0.448935   \n",
       "3           1.695890 -0.298695  3.081536       0.474238       0.000000   \n",
       "4         276.174194  0.480650 -1.181136       0.413076       0.413076   \n",
       "\n",
       "   hog_feature_3  \n",
       "0       0.486964  \n",
       "1       0.362304  \n",
       "2       0.448935  \n",
       "3       0.243578  \n",
       "4       0.413076  \n",
       "\n",
       "[5 rows x 26 columns]"
      ]
     },
     "execution_count": 16,
     "metadata": {},
     "output_type": "execute_result"
    }
   ],
   "source": [
    "data.head()"
   ]
  },
  {
   "cell_type": "code",
   "execution_count": 17,
   "metadata": {
    "colab": {
     "base_uri": "https://localhost:8080/",
     "height": 75
    },
    "id": "gzoEnjdztFV_",
    "outputId": "3b2f80c4-077e-4a7c-92e4-fc7c69ac38e8"
   },
   "outputs": [
    {
     "data": {
      "text/html": [
       "<style>#sk-container-id-1 {color: black;}#sk-container-id-1 pre{padding: 0;}#sk-container-id-1 div.sk-toggleable {background-color: white;}#sk-container-id-1 label.sk-toggleable__label {cursor: pointer;display: block;width: 100%;margin-bottom: 0;padding: 0.3em;box-sizing: border-box;text-align: center;}#sk-container-id-1 label.sk-toggleable__label-arrow:before {content: \"▸\";float: left;margin-right: 0.25em;color: #696969;}#sk-container-id-1 label.sk-toggleable__label-arrow:hover:before {color: black;}#sk-container-id-1 div.sk-estimator:hover label.sk-toggleable__label-arrow:before {color: black;}#sk-container-id-1 div.sk-toggleable__content {max-height: 0;max-width: 0;overflow: hidden;text-align: left;background-color: #f0f8ff;}#sk-container-id-1 div.sk-toggleable__content pre {margin: 0.2em;color: black;border-radius: 0.25em;background-color: #f0f8ff;}#sk-container-id-1 input.sk-toggleable__control:checked~div.sk-toggleable__content {max-height: 200px;max-width: 100%;overflow: auto;}#sk-container-id-1 input.sk-toggleable__control:checked~label.sk-toggleable__label-arrow:before {content: \"▾\";}#sk-container-id-1 div.sk-estimator input.sk-toggleable__control:checked~label.sk-toggleable__label {background-color: #d4ebff;}#sk-container-id-1 div.sk-label input.sk-toggleable__control:checked~label.sk-toggleable__label {background-color: #d4ebff;}#sk-container-id-1 input.sk-hidden--visually {border: 0;clip: rect(1px 1px 1px 1px);clip: rect(1px, 1px, 1px, 1px);height: 1px;margin: -1px;overflow: hidden;padding: 0;position: absolute;width: 1px;}#sk-container-id-1 div.sk-estimator {font-family: monospace;background-color: #f0f8ff;border: 1px dotted black;border-radius: 0.25em;box-sizing: border-box;margin-bottom: 0.5em;}#sk-container-id-1 div.sk-estimator:hover {background-color: #d4ebff;}#sk-container-id-1 div.sk-parallel-item::after {content: \"\";width: 100%;border-bottom: 1px solid gray;flex-grow: 1;}#sk-container-id-1 div.sk-label:hover label.sk-toggleable__label {background-color: #d4ebff;}#sk-container-id-1 div.sk-serial::before {content: \"\";position: absolute;border-left: 1px solid gray;box-sizing: border-box;top: 0;bottom: 0;left: 50%;z-index: 0;}#sk-container-id-1 div.sk-serial {display: flex;flex-direction: column;align-items: center;background-color: white;padding-right: 0.2em;padding-left: 0.2em;position: relative;}#sk-container-id-1 div.sk-item {position: relative;z-index: 1;}#sk-container-id-1 div.sk-parallel {display: flex;align-items: stretch;justify-content: center;background-color: white;position: relative;}#sk-container-id-1 div.sk-item::before, #sk-container-id-1 div.sk-parallel-item::before {content: \"\";position: absolute;border-left: 1px solid gray;box-sizing: border-box;top: 0;bottom: 0;left: 50%;z-index: -1;}#sk-container-id-1 div.sk-parallel-item {display: flex;flex-direction: column;z-index: 1;position: relative;background-color: white;}#sk-container-id-1 div.sk-parallel-item:first-child::after {align-self: flex-end;width: 50%;}#sk-container-id-1 div.sk-parallel-item:last-child::after {align-self: flex-start;width: 50%;}#sk-container-id-1 div.sk-parallel-item:only-child::after {width: 0;}#sk-container-id-1 div.sk-dashed-wrapped {border: 1px dashed gray;margin: 0 0.4em 0.5em 0.4em;box-sizing: border-box;padding-bottom: 0.4em;background-color: white;}#sk-container-id-1 div.sk-label label {font-family: monospace;font-weight: bold;display: inline-block;line-height: 1.2em;}#sk-container-id-1 div.sk-label-container {text-align: center;}#sk-container-id-1 div.sk-container {/* jupyter's `normalize.less` sets `[hidden] { display: none; }` but bootstrap.min.css set `[hidden] { display: none !important; }` so we also need the `!important` here to be able to override the default hidden behavior on the sphinx rendered scikit-learn.org. See: https://github.com/scikit-learn/scikit-learn/issues/21755 */display: inline-block !important;position: relative;}#sk-container-id-1 div.sk-text-repr-fallback {display: none;}</style><div id=\"sk-container-id-1\" class=\"sk-top-container\"><div class=\"sk-text-repr-fallback\"><pre>PCA(n_components=14)</pre><b>In a Jupyter environment, please rerun this cell to show the HTML representation or trust the notebook. <br />On GitHub, the HTML representation is unable to render, please try loading this page with nbviewer.org.</b></div><div class=\"sk-container\" hidden><div class=\"sk-item\"><div class=\"sk-estimator sk-toggleable\"><input class=\"sk-toggleable__control sk-hidden--visually\" id=\"sk-estimator-id-1\" type=\"checkbox\" checked><label for=\"sk-estimator-id-1\" class=\"sk-toggleable__label sk-toggleable__label-arrow\">PCA</label><div class=\"sk-toggleable__content\"><pre>PCA(n_components=14)</pre></div></div></div></div></div>"
      ],
      "text/plain": [
       "PCA(n_components=14)"
      ]
     },
     "execution_count": 17,
     "metadata": {},
     "output_type": "execute_result"
    }
   ],
   "source": [
    "from sklearn.decomposition import PCA\n",
    "pca = PCA(n_components = 14)\n",
    "pca.fit(data)"
   ]
  },
  {
   "cell_type": "code",
   "execution_count": 18,
   "metadata": {
    "colab": {
     "base_uri": "https://localhost:8080/"
    },
    "id": "6arhkPO72oMY",
    "outputId": "1257ba22-75e2-4c74-9ced-ca1da37694a5"
   },
   "outputs": [
    {
     "name": "stdout",
     "output_type": "stream",
     "text": [
      "        area  perimeter  physiological_length  physiological_width  \\\n",
      "0   0.999894   0.013336              0.003422             0.002840   \n",
      "1  -0.013366   0.957473              0.124180             0.122517   \n",
      "2   0.004302  -0.196397             -0.037370             0.000352   \n",
      "3   0.001439   0.060573              0.093774             0.097472   \n",
      "4  -0.001101   0.093091              0.138955            -0.574364   \n",
      "5  -0.000748  -0.004982             -0.089696             0.425803   \n",
      "6   0.000196  -0.082532              0.777154            -0.313509   \n",
      "7   0.002796   0.019466             -0.342906            -0.210250   \n",
      "8   0.001744   0.154066             -0.469814            -0.543706   \n",
      "9   0.000329   0.032901             -0.050425            -0.152836   \n",
      "10 -0.000175  -0.010827              0.040930             0.048501   \n",
      "11 -0.000087  -0.002793              0.015815             0.016305   \n",
      "12  0.000009   0.000115              0.014257            -0.010258   \n",
      "13 -0.000027  -0.001235              0.003106             0.005044   \n",
      "\n",
      "    aspect_ratio    mean_r    mean_g    mean_b  stddev_r  stddev_g  ...  \\\n",
      "0      -0.000002  0.000178  0.000286  0.000277 -0.000309 -0.000428  ...   \n",
      "1      -0.000134 -0.023151 -0.035200 -0.030762  0.020792  0.026095  ...   \n",
      "2      -0.000129 -0.008067 -0.040114 -0.030248  0.024033  0.024643  ...   \n",
      "3      -0.000017  0.016485  0.019855  0.013749  0.003760  0.004459  ...   \n",
      "4       0.004971  0.313924  0.393790  0.347205 -0.084615 -0.123312  ...   \n",
      "5      -0.003690  0.401826  0.440954  0.437943 -0.083185 -0.122777  ...   \n",
      "6       0.008353 -0.009875 -0.031940 -0.009698 -0.001473  0.002178  ...   \n",
      "7      -0.002201  0.085327  0.138561  0.084107  0.172784  0.217937  ...   \n",
      "8       0.000751 -0.101494 -0.061799 -0.109129 -0.181356 -0.203970  ...   \n",
      "9       0.003124  0.068559  0.092010  0.020539  0.516475  0.532724  ...   \n",
      "10     -0.001424 -0.080446  0.714807 -0.688567 -0.040372  0.011129  ...   \n",
      "11     -0.000068 -0.821150  0.316852  0.437713  0.001871  0.123709  ...   \n",
      "12      0.003111  0.177339 -0.035838 -0.009520  0.183488  0.481915  ...   \n",
      "13     -0.003228 -0.055295  0.032042 -0.005353  0.785264 -0.580721  ...   \n",
      "\n",
      "    eccentricity  solidity  equiv_diameter  major_axis_length  \\\n",
      "0      -0.000007  0.000004        0.002305           0.000693   \n",
      "1       0.000044 -0.000351       -0.024749           0.078705   \n",
      "2       0.000029  0.000005       -0.013615          -0.008957   \n",
      "3       0.000556  0.000720       -0.426437          -0.681811   \n",
      "4      -0.001300  0.000491        0.102727          -0.360879   \n",
      "5       0.001321  0.000089        0.091095           0.321809   \n",
      "6       0.001940 -0.000986       -0.167790           0.412660   \n",
      "7      -0.000603 -0.003121       -0.777815           0.295387   \n",
      "8       0.001815  0.000726        0.176736           0.188810   \n",
      "9       0.000812  0.001851        0.360217          -0.041070   \n",
      "10     -0.000714  0.000204        0.004539           0.004881   \n",
      "11     -0.001624  0.000596        0.019171          -0.000430   \n",
      "12     -0.005227  0.000540        0.060568          -0.010824   \n",
      "13      0.001504  0.000824       -0.015684           0.005792   \n",
      "\n",
      "    minor_axis_length  skewness  kurtosis  hog_feature_1  hog_feature_2  \\\n",
      "0            0.002448  0.000019  0.000023       0.000003       0.000003   \n",
      "1            0.062319 -0.000400 -0.001807      -0.000146      -0.000152   \n",
      "2           -0.020027 -0.000454 -0.002086      -0.000095      -0.000039   \n",
      "3           -0.574754 -0.001062  0.000021       0.000102       0.000048   \n",
      "4            0.315199  0.000843  0.007446       0.001026       0.001001   \n",
      "5           -0.357146 -0.002374  0.003881       0.000853       0.000771   \n",
      "6           -0.301675 -0.002760 -0.003944       0.000041      -0.000140   \n",
      "7            0.150527 -0.004412 -0.000895      -0.001904      -0.001368   \n",
      "8           -0.519823  0.002997  0.007890       0.001081       0.001064   \n",
      "9           -0.230920 -0.001047 -0.033881      -0.001131      -0.001387   \n",
      "10           0.009800  0.006405  0.024186       0.001436       0.001379   \n",
      "11          -0.011296  0.022765  0.050112      -0.000207       0.000550   \n",
      "12          -0.031528  0.003888  0.058870      -0.004523      -0.004694   \n",
      "13           0.004094  0.029981 -0.054143       0.003955       0.002448   \n",
      "\n",
      "    hog_feature_3  \n",
      "0        0.000003  \n",
      "1       -0.000163  \n",
      "2       -0.000081  \n",
      "3        0.000078  \n",
      "4        0.001066  \n",
      "5        0.000844  \n",
      "6        0.000074  \n",
      "7       -0.001869  \n",
      "8        0.001094  \n",
      "9       -0.001648  \n",
      "10      -0.000294  \n",
      "11      -0.001263  \n",
      "12      -0.005987  \n",
      "13       0.003752  \n",
      "\n",
      "[14 rows x 26 columns]\n"
     ]
    }
   ],
   "source": [
    "# Access the loadings of the first three principal components\n",
    "loadings = pca.components_[:14]\n",
    "\n",
    "# Map the loadings to the original feature names\n",
    "original_feature_names = data.columns\n",
    "component_loadings = pd.DataFrame(loadings, columns=original_feature_names)\n",
    "\n",
    "# Display the loadings for the first three components\n",
    "print(component_loadings)"
   ]
  },
  {
   "cell_type": "code",
   "execution_count": 19,
   "metadata": {
    "id": "UaHR4IkytIvE"
   },
   "outputs": [],
   "source": [
    "data2=pca.transform(data)"
   ]
  },
  {
   "cell_type": "code",
   "execution_count": 20,
   "metadata": {
    "colab": {
     "base_uri": "https://localhost:8080/"
    },
    "id": "0IHMWBmYtJ-h",
    "outputId": "a1eb4ea5-2873-4bbd-f5aa-023dd3a1da5e"
   },
   "outputs": [
    {
     "data": {
      "text/plain": [
       "array([[-5.78067231e+03, -1.31423455e+01,  2.72025492e+02, ...,\n",
       "        -5.98409116e+00,  5.65522209e-01, -6.51566818e-01],\n",
       "       [ 2.36489445e+04, -2.04861882e+02,  1.33158474e+02, ...,\n",
       "        -6.53075576e+00, -1.96274116e+00, -2.28955840e+00],\n",
       "       [ 9.74679612e+03,  2.19209708e+02, -1.28679371e+01, ...,\n",
       "         1.10292940e+00,  2.82916339e+00,  4.99299776e+00],\n",
       "       ...,\n",
       "       [ 2.01281156e+03,  2.59488632e+02, -8.08785176e+01, ...,\n",
       "         6.10289159e+00, -2.22798857e+00,  3.76503881e+00],\n",
       "       [ 2.54205057e+02,  2.71113995e+02,  1.80075651e+02, ...,\n",
       "        -1.12630630e+01, -4.51653240e+00,  1.57905768e+00],\n",
       "       [ 2.24594449e+04, -1.47036900e+02, -7.43904652e+01, ...,\n",
       "        -9.86875879e+00, -1.79680499e+00,  5.81618244e+00]])"
      ]
     },
     "execution_count": 20,
     "metadata": {},
     "output_type": "execute_result"
    }
   ],
   "source": [
    "data2"
   ]
  },
  {
   "cell_type": "code",
   "execution_count": 21,
   "metadata": {
    "id": "UHS50kqEtLbe"
   },
   "outputs": [],
   "source": [
    "data2=pd.DataFrame(data2)\n",
    "data2 = data2.join(types)"
   ]
  },
  {
   "cell_type": "code",
   "execution_count": 22,
   "metadata": {
    "colab": {
     "base_uri": "https://localhost:8080/",
     "height": 424
    },
    "id": "g5P9nKYutNHi",
    "outputId": "288bd27e-f408-49a0-8007-454a22831014"
   },
   "outputs": [
    {
     "data": {
      "text/html": [
       "<div>\n",
       "<style scoped>\n",
       "    .dataframe tbody tr th:only-of-type {\n",
       "        vertical-align: middle;\n",
       "    }\n",
       "\n",
       "    .dataframe tbody tr th {\n",
       "        vertical-align: top;\n",
       "    }\n",
       "\n",
       "    .dataframe thead th {\n",
       "        text-align: right;\n",
       "    }\n",
       "</style>\n",
       "<table border=\"1\" class=\"dataframe\">\n",
       "  <thead>\n",
       "    <tr style=\"text-align: right;\">\n",
       "      <th></th>\n",
       "      <th>0</th>\n",
       "      <th>1</th>\n",
       "      <th>2</th>\n",
       "      <th>3</th>\n",
       "      <th>4</th>\n",
       "      <th>5</th>\n",
       "      <th>6</th>\n",
       "      <th>7</th>\n",
       "      <th>8</th>\n",
       "      <th>9</th>\n",
       "      <th>10</th>\n",
       "      <th>11</th>\n",
       "      <th>12</th>\n",
       "      <th>13</th>\n",
       "      <th>types</th>\n",
       "    </tr>\n",
       "  </thead>\n",
       "  <tbody>\n",
       "    <tr>\n",
       "      <th>0</th>\n",
       "      <td>-5780.672314</td>\n",
       "      <td>-13.142346</td>\n",
       "      <td>272.025492</td>\n",
       "      <td>105.825635</td>\n",
       "      <td>-113.063397</td>\n",
       "      <td>64.915855</td>\n",
       "      <td>20.762981</td>\n",
       "      <td>47.668148</td>\n",
       "      <td>43.550094</td>\n",
       "      <td>-3.503807</td>\n",
       "      <td>7.887935</td>\n",
       "      <td>-5.984091</td>\n",
       "      <td>0.565522</td>\n",
       "      <td>-0.651567</td>\n",
       "      <td>Cercospora Leaf Spot</td>\n",
       "    </tr>\n",
       "    <tr>\n",
       "      <th>1</th>\n",
       "      <td>23648.944499</td>\n",
       "      <td>-204.861882</td>\n",
       "      <td>133.158474</td>\n",
       "      <td>-30.494389</td>\n",
       "      <td>-14.265260</td>\n",
       "      <td>-8.751050</td>\n",
       "      <td>13.368092</td>\n",
       "      <td>6.179064</td>\n",
       "      <td>-8.966217</td>\n",
       "      <td>-19.277451</td>\n",
       "      <td>-5.670979</td>\n",
       "      <td>-6.530756</td>\n",
       "      <td>-1.962741</td>\n",
       "      <td>-2.289558</td>\n",
       "      <td>Cercospora Leaf Spot</td>\n",
       "    </tr>\n",
       "    <tr>\n",
       "      <th>2</th>\n",
       "      <td>9746.796117</td>\n",
       "      <td>219.209708</td>\n",
       "      <td>-12.867937</td>\n",
       "      <td>-3.293447</td>\n",
       "      <td>6.374704</td>\n",
       "      <td>-10.654790</td>\n",
       "      <td>-5.312235</td>\n",
       "      <td>-26.286550</td>\n",
       "      <td>19.029868</td>\n",
       "      <td>-16.971616</td>\n",
       "      <td>1.966728</td>\n",
       "      <td>1.102929</td>\n",
       "      <td>2.829163</td>\n",
       "      <td>4.992998</td>\n",
       "      <td>Cercospora Leaf Spot</td>\n",
       "    </tr>\n",
       "    <tr>\n",
       "      <th>3</th>\n",
       "      <td>-29155.560082</td>\n",
       "      <td>-181.872037</td>\n",
       "      <td>-143.065563</td>\n",
       "      <td>302.274141</td>\n",
       "      <td>1.866438</td>\n",
       "      <td>-13.337681</td>\n",
       "      <td>-97.736312</td>\n",
       "      <td>0.700180</td>\n",
       "      <td>-18.819478</td>\n",
       "      <td>-39.502359</td>\n",
       "      <td>7.728957</td>\n",
       "      <td>-10.606927</td>\n",
       "      <td>-1.932096</td>\n",
       "      <td>2.771004</td>\n",
       "      <td>Cercospora Leaf Spot</td>\n",
       "    </tr>\n",
       "    <tr>\n",
       "      <th>4</th>\n",
       "      <td>11133.719505</td>\n",
       "      <td>457.005089</td>\n",
       "      <td>180.182559</td>\n",
       "      <td>-25.157945</td>\n",
       "      <td>23.250130</td>\n",
       "      <td>-36.946879</td>\n",
       "      <td>-25.047603</td>\n",
       "      <td>3.090292</td>\n",
       "      <td>21.546443</td>\n",
       "      <td>38.397648</td>\n",
       "      <td>-5.507482</td>\n",
       "      <td>4.051033</td>\n",
       "      <td>-1.194426</td>\n",
       "      <td>0.161795</td>\n",
       "      <td>Cercospora Leaf Spot</td>\n",
       "    </tr>\n",
       "    <tr>\n",
       "      <th>...</th>\n",
       "      <td>...</td>\n",
       "      <td>...</td>\n",
       "      <td>...</td>\n",
       "      <td>...</td>\n",
       "      <td>...</td>\n",
       "      <td>...</td>\n",
       "      <td>...</td>\n",
       "      <td>...</td>\n",
       "      <td>...</td>\n",
       "      <td>...</td>\n",
       "      <td>...</td>\n",
       "      <td>...</td>\n",
       "      <td>...</td>\n",
       "      <td>...</td>\n",
       "      <td>...</td>\n",
       "    </tr>\n",
       "    <tr>\n",
       "      <th>3847</th>\n",
       "      <td>18851.153844</td>\n",
       "      <td>-231.838797</td>\n",
       "      <td>-5.959636</td>\n",
       "      <td>-11.466747</td>\n",
       "      <td>-31.043979</td>\n",
       "      <td>-2.749741</td>\n",
       "      <td>-13.450295</td>\n",
       "      <td>-8.135372</td>\n",
       "      <td>-0.943466</td>\n",
       "      <td>4.360224</td>\n",
       "      <td>-14.519823</td>\n",
       "      <td>-11.373166</td>\n",
       "      <td>-2.451640</td>\n",
       "      <td>-3.502217</td>\n",
       "      <td>Northern Leaf Blight</td>\n",
       "    </tr>\n",
       "    <tr>\n",
       "      <th>3848</th>\n",
       "      <td>6606.968859</td>\n",
       "      <td>-100.902698</td>\n",
       "      <td>35.748877</td>\n",
       "      <td>9.092631</td>\n",
       "      <td>-36.056016</td>\n",
       "      <td>26.743810</td>\n",
       "      <td>6.186012</td>\n",
       "      <td>-25.400698</td>\n",
       "      <td>-4.001032</td>\n",
       "      <td>-5.323297</td>\n",
       "      <td>-5.692337</td>\n",
       "      <td>-1.003286</td>\n",
       "      <td>-4.957514</td>\n",
       "      <td>4.128230</td>\n",
       "      <td>Northern Leaf Blight</td>\n",
       "    </tr>\n",
       "    <tr>\n",
       "      <th>3849</th>\n",
       "      <td>2012.811561</td>\n",
       "      <td>259.488632</td>\n",
       "      <td>-80.878518</td>\n",
       "      <td>5.265154</td>\n",
       "      <td>8.272016</td>\n",
       "      <td>14.033275</td>\n",
       "      <td>-22.119904</td>\n",
       "      <td>-20.814841</td>\n",
       "      <td>15.156007</td>\n",
       "      <td>-19.335006</td>\n",
       "      <td>3.712943</td>\n",
       "      <td>6.102892</td>\n",
       "      <td>-2.227989</td>\n",
       "      <td>3.765039</td>\n",
       "      <td>Northern Leaf Blight</td>\n",
       "    </tr>\n",
       "    <tr>\n",
       "      <th>3850</th>\n",
       "      <td>254.205057</td>\n",
       "      <td>271.113995</td>\n",
       "      <td>180.075651</td>\n",
       "      <td>4.869551</td>\n",
       "      <td>16.228890</td>\n",
       "      <td>57.839833</td>\n",
       "      <td>31.944437</td>\n",
       "      <td>-15.533220</td>\n",
       "      <td>-11.503982</td>\n",
       "      <td>24.473710</td>\n",
       "      <td>3.121097</td>\n",
       "      <td>-11.263063</td>\n",
       "      <td>-4.516532</td>\n",
       "      <td>1.579058</td>\n",
       "      <td>Northern Leaf Blight</td>\n",
       "    </tr>\n",
       "    <tr>\n",
       "      <th>3851</th>\n",
       "      <td>22459.444943</td>\n",
       "      <td>-147.036900</td>\n",
       "      <td>-74.390465</td>\n",
       "      <td>-21.328222</td>\n",
       "      <td>-31.294882</td>\n",
       "      <td>-28.698178</td>\n",
       "      <td>3.173691</td>\n",
       "      <td>-7.838929</td>\n",
       "      <td>6.195105</td>\n",
       "      <td>9.181103</td>\n",
       "      <td>7.741199</td>\n",
       "      <td>-9.868759</td>\n",
       "      <td>-1.796805</td>\n",
       "      <td>5.816182</td>\n",
       "      <td>Northern Leaf Blight</td>\n",
       "    </tr>\n",
       "  </tbody>\n",
       "</table>\n",
       "<p>3852 rows × 15 columns</p>\n",
       "</div>"
      ],
      "text/plain": [
       "                 0           1           2           3           4          5  \\\n",
       "0     -5780.672314  -13.142346  272.025492  105.825635 -113.063397  64.915855   \n",
       "1     23648.944499 -204.861882  133.158474  -30.494389  -14.265260  -8.751050   \n",
       "2      9746.796117  219.209708  -12.867937   -3.293447    6.374704 -10.654790   \n",
       "3    -29155.560082 -181.872037 -143.065563  302.274141    1.866438 -13.337681   \n",
       "4     11133.719505  457.005089  180.182559  -25.157945   23.250130 -36.946879   \n",
       "...            ...         ...         ...         ...         ...        ...   \n",
       "3847  18851.153844 -231.838797   -5.959636  -11.466747  -31.043979  -2.749741   \n",
       "3848   6606.968859 -100.902698   35.748877    9.092631  -36.056016  26.743810   \n",
       "3849   2012.811561  259.488632  -80.878518    5.265154    8.272016  14.033275   \n",
       "3850    254.205057  271.113995  180.075651    4.869551   16.228890  57.839833   \n",
       "3851  22459.444943 -147.036900  -74.390465  -21.328222  -31.294882 -28.698178   \n",
       "\n",
       "              6          7          8          9         10         11  \\\n",
       "0     20.762981  47.668148  43.550094  -3.503807   7.887935  -5.984091   \n",
       "1     13.368092   6.179064  -8.966217 -19.277451  -5.670979  -6.530756   \n",
       "2     -5.312235 -26.286550  19.029868 -16.971616   1.966728   1.102929   \n",
       "3    -97.736312   0.700180 -18.819478 -39.502359   7.728957 -10.606927   \n",
       "4    -25.047603   3.090292  21.546443  38.397648  -5.507482   4.051033   \n",
       "...         ...        ...        ...        ...        ...        ...   \n",
       "3847 -13.450295  -8.135372  -0.943466   4.360224 -14.519823 -11.373166   \n",
       "3848   6.186012 -25.400698  -4.001032  -5.323297  -5.692337  -1.003286   \n",
       "3849 -22.119904 -20.814841  15.156007 -19.335006   3.712943   6.102892   \n",
       "3850  31.944437 -15.533220 -11.503982  24.473710   3.121097 -11.263063   \n",
       "3851   3.173691  -7.838929   6.195105   9.181103   7.741199  -9.868759   \n",
       "\n",
       "            12        13                 types  \n",
       "0     0.565522 -0.651567  Cercospora Leaf Spot  \n",
       "1    -1.962741 -2.289558  Cercospora Leaf Spot  \n",
       "2     2.829163  4.992998  Cercospora Leaf Spot  \n",
       "3    -1.932096  2.771004  Cercospora Leaf Spot  \n",
       "4    -1.194426  0.161795  Cercospora Leaf Spot  \n",
       "...        ...       ...                   ...  \n",
       "3847 -2.451640 -3.502217  Northern Leaf Blight  \n",
       "3848 -4.957514  4.128230  Northern Leaf Blight  \n",
       "3849 -2.227989  3.765039  Northern Leaf Blight  \n",
       "3850 -4.516532  1.579058  Northern Leaf Blight  \n",
       "3851 -1.796805  5.816182  Northern Leaf Blight  \n",
       "\n",
       "[3852 rows x 15 columns]"
      ]
     },
     "execution_count": 22,
     "metadata": {},
     "output_type": "execute_result"
    }
   ],
   "source": [
    "data2"
   ]
  },
  {
   "cell_type": "code",
   "execution_count": 23,
   "metadata": {
    "id": "-4GFnpsJtOwJ"
   },
   "outputs": [],
   "source": [
    "data2.index=data.index"
   ]
  },
  {
   "cell_type": "code",
   "execution_count": 24,
   "metadata": {
    "colab": {
     "base_uri": "https://localhost:8080/",
     "height": 206
    },
    "id": "rurrHOUQtQCj",
    "outputId": "30361353-6b48-40f7-ffc2-77c8445c3ec6"
   },
   "outputs": [
    {
     "data": {
      "text/html": [
       "<div>\n",
       "<style scoped>\n",
       "    .dataframe tbody tr th:only-of-type {\n",
       "        vertical-align: middle;\n",
       "    }\n",
       "\n",
       "    .dataframe tbody tr th {\n",
       "        vertical-align: top;\n",
       "    }\n",
       "\n",
       "    .dataframe thead th {\n",
       "        text-align: right;\n",
       "    }\n",
       "</style>\n",
       "<table border=\"1\" class=\"dataframe\">\n",
       "  <thead>\n",
       "    <tr style=\"text-align: right;\">\n",
       "      <th></th>\n",
       "      <th>0</th>\n",
       "      <th>1</th>\n",
       "      <th>2</th>\n",
       "      <th>3</th>\n",
       "      <th>4</th>\n",
       "      <th>5</th>\n",
       "      <th>6</th>\n",
       "      <th>7</th>\n",
       "      <th>8</th>\n",
       "      <th>9</th>\n",
       "      <th>10</th>\n",
       "      <th>11</th>\n",
       "      <th>12</th>\n",
       "      <th>13</th>\n",
       "      <th>types</th>\n",
       "    </tr>\n",
       "  </thead>\n",
       "  <tbody>\n",
       "    <tr>\n",
       "      <th>0</th>\n",
       "      <td>-5780.672314</td>\n",
       "      <td>-13.142346</td>\n",
       "      <td>272.025492</td>\n",
       "      <td>105.825635</td>\n",
       "      <td>-113.063397</td>\n",
       "      <td>64.915855</td>\n",
       "      <td>20.762981</td>\n",
       "      <td>47.668148</td>\n",
       "      <td>43.550094</td>\n",
       "      <td>-3.503807</td>\n",
       "      <td>7.887935</td>\n",
       "      <td>-5.984091</td>\n",
       "      <td>0.565522</td>\n",
       "      <td>-0.651567</td>\n",
       "      <td>Cercospora Leaf Spot</td>\n",
       "    </tr>\n",
       "    <tr>\n",
       "      <th>1</th>\n",
       "      <td>23648.944499</td>\n",
       "      <td>-204.861882</td>\n",
       "      <td>133.158474</td>\n",
       "      <td>-30.494389</td>\n",
       "      <td>-14.265260</td>\n",
       "      <td>-8.751050</td>\n",
       "      <td>13.368092</td>\n",
       "      <td>6.179064</td>\n",
       "      <td>-8.966217</td>\n",
       "      <td>-19.277451</td>\n",
       "      <td>-5.670979</td>\n",
       "      <td>-6.530756</td>\n",
       "      <td>-1.962741</td>\n",
       "      <td>-2.289558</td>\n",
       "      <td>Cercospora Leaf Spot</td>\n",
       "    </tr>\n",
       "    <tr>\n",
       "      <th>2</th>\n",
       "      <td>9746.796117</td>\n",
       "      <td>219.209708</td>\n",
       "      <td>-12.867937</td>\n",
       "      <td>-3.293447</td>\n",
       "      <td>6.374704</td>\n",
       "      <td>-10.654790</td>\n",
       "      <td>-5.312235</td>\n",
       "      <td>-26.286550</td>\n",
       "      <td>19.029868</td>\n",
       "      <td>-16.971616</td>\n",
       "      <td>1.966728</td>\n",
       "      <td>1.102929</td>\n",
       "      <td>2.829163</td>\n",
       "      <td>4.992998</td>\n",
       "      <td>Cercospora Leaf Spot</td>\n",
       "    </tr>\n",
       "    <tr>\n",
       "      <th>3</th>\n",
       "      <td>-29155.560082</td>\n",
       "      <td>-181.872037</td>\n",
       "      <td>-143.065563</td>\n",
       "      <td>302.274141</td>\n",
       "      <td>1.866438</td>\n",
       "      <td>-13.337681</td>\n",
       "      <td>-97.736312</td>\n",
       "      <td>0.700180</td>\n",
       "      <td>-18.819478</td>\n",
       "      <td>-39.502359</td>\n",
       "      <td>7.728957</td>\n",
       "      <td>-10.606927</td>\n",
       "      <td>-1.932096</td>\n",
       "      <td>2.771004</td>\n",
       "      <td>Cercospora Leaf Spot</td>\n",
       "    </tr>\n",
       "    <tr>\n",
       "      <th>4</th>\n",
       "      <td>11133.719505</td>\n",
       "      <td>457.005089</td>\n",
       "      <td>180.182559</td>\n",
       "      <td>-25.157945</td>\n",
       "      <td>23.250130</td>\n",
       "      <td>-36.946879</td>\n",
       "      <td>-25.047603</td>\n",
       "      <td>3.090292</td>\n",
       "      <td>21.546443</td>\n",
       "      <td>38.397648</td>\n",
       "      <td>-5.507482</td>\n",
       "      <td>4.051033</td>\n",
       "      <td>-1.194426</td>\n",
       "      <td>0.161795</td>\n",
       "      <td>Cercospora Leaf Spot</td>\n",
       "    </tr>\n",
       "  </tbody>\n",
       "</table>\n",
       "</div>"
      ],
      "text/plain": [
       "              0           1           2           3           4          5  \\\n",
       "0  -5780.672314  -13.142346  272.025492  105.825635 -113.063397  64.915855   \n",
       "1  23648.944499 -204.861882  133.158474  -30.494389  -14.265260  -8.751050   \n",
       "2   9746.796117  219.209708  -12.867937   -3.293447    6.374704 -10.654790   \n",
       "3 -29155.560082 -181.872037 -143.065563  302.274141    1.866438 -13.337681   \n",
       "4  11133.719505  457.005089  180.182559  -25.157945   23.250130 -36.946879   \n",
       "\n",
       "           6          7          8          9        10         11        12  \\\n",
       "0  20.762981  47.668148  43.550094  -3.503807  7.887935  -5.984091  0.565522   \n",
       "1  13.368092   6.179064  -8.966217 -19.277451 -5.670979  -6.530756 -1.962741   \n",
       "2  -5.312235 -26.286550  19.029868 -16.971616  1.966728   1.102929  2.829163   \n",
       "3 -97.736312   0.700180 -18.819478 -39.502359  7.728957 -10.606927 -1.932096   \n",
       "4 -25.047603   3.090292  21.546443  38.397648 -5.507482   4.051033 -1.194426   \n",
       "\n",
       "         13                 types  \n",
       "0 -0.651567  Cercospora Leaf Spot  \n",
       "1 -2.289558  Cercospora Leaf Spot  \n",
       "2  4.992998  Cercospora Leaf Spot  \n",
       "3  2.771004  Cercospora Leaf Spot  \n",
       "4  0.161795  Cercospora Leaf Spot  "
      ]
     },
     "execution_count": 24,
     "metadata": {},
     "output_type": "execute_result"
    }
   ],
   "source": [
    "data2.head()"
   ]
  },
  {
   "cell_type": "code",
   "execution_count": 25,
   "metadata": {
    "colab": {
     "base_uri": "https://localhost:8080/"
    },
    "id": "0xnslH7AtRL4",
    "outputId": "9cdeb683-7db3-4052-b464-57113ba53ab0"
   },
   "outputs": [
    {
     "name": "stdout",
     "output_type": "stream",
     "text": [
      "[9.99609889e-01 2.61351055e-04 8.79554887e-05 2.66466457e-05\n",
      " 5.39068655e-06 3.50104841e-06 2.17210710e-06 1.41611286e-06\n",
      " 8.17858442e-07 4.62333160e-07 1.74498402e-07 1.64434995e-07\n",
      " 3.97097280e-08 1.24699944e-08]\n"
     ]
    }
   ],
   "source": [
    "print(pca.explained_variance_ratio_)"
   ]
  },
  {
   "cell_type": "code",
   "execution_count": 26,
   "metadata": {
    "colab": {
     "base_uri": "https://localhost:8080/"
    },
    "id": "mKujzSEOtSvE",
    "outputId": "a3392cbf-8cfb-48ad-ec50-5e55e4ad6229"
   },
   "outputs": [
    {
     "data": {
      "text/plain": [
       "(3852, 15)"
      ]
     },
     "execution_count": 26,
     "metadata": {},
     "output_type": "execute_result"
    }
   ],
   "source": [
    "data2.shape"
   ]
  },
  {
   "cell_type": "code",
   "execution_count": 27,
   "metadata": {
    "id": "HuahHHi5tU3c"
   },
   "outputs": [],
   "source": [
    "data2.to_csv(\"dataset/csv/pca.csv\", index=False)"
   ]
  },
  {
   "cell_type": "code",
   "execution_count": 28,
   "metadata": {},
   "outputs": [
    {
     "data": {
      "text/plain": [
       "['models/pca/Corn_pca_model.pkl']"
      ]
     },
     "execution_count": 28,
     "metadata": {},
     "output_type": "execute_result"
    }
   ],
   "source": [
    "import joblib\n",
    "# Save the PCA model to a file\n",
    "joblib.dump(pca, 'models/pca/Corn_pca_model.pkl')"
   ]
  },
  {
   "cell_type": "markdown",
   "metadata": {
    "id": "hbks6Stftjp8"
   },
   "source": [
    "# SVM"
   ]
  },
  {
   "cell_type": "code",
   "execution_count": 29,
   "metadata": {
    "id": "LIdipuJvtgAJ"
   },
   "outputs": [],
   "source": [
    "import pandas as pd"
   ]
  },
  {
   "cell_type": "code",
   "execution_count": 30,
   "metadata": {
    "id": "QVrIn9PTtohA"
   },
   "outputs": [],
   "source": [
    "data = pd.read_csv(\"dataset/csv/pca.csv\")"
   ]
  },
  {
   "cell_type": "code",
   "execution_count": 31,
   "metadata": {
    "colab": {
     "base_uri": "https://localhost:8080/",
     "height": 424
    },
    "id": "Qgi-7hj2tp2X",
    "outputId": "fbf8e5f4-dc79-483f-a499-7dfc2936d79d"
   },
   "outputs": [
    {
     "data": {
      "text/html": [
       "<div>\n",
       "<style scoped>\n",
       "    .dataframe tbody tr th:only-of-type {\n",
       "        vertical-align: middle;\n",
       "    }\n",
       "\n",
       "    .dataframe tbody tr th {\n",
       "        vertical-align: top;\n",
       "    }\n",
       "\n",
       "    .dataframe thead th {\n",
       "        text-align: right;\n",
       "    }\n",
       "</style>\n",
       "<table border=\"1\" class=\"dataframe\">\n",
       "  <thead>\n",
       "    <tr style=\"text-align: right;\">\n",
       "      <th></th>\n",
       "      <th>0</th>\n",
       "      <th>1</th>\n",
       "      <th>2</th>\n",
       "      <th>3</th>\n",
       "      <th>4</th>\n",
       "      <th>5</th>\n",
       "      <th>6</th>\n",
       "      <th>7</th>\n",
       "      <th>8</th>\n",
       "      <th>9</th>\n",
       "      <th>10</th>\n",
       "      <th>11</th>\n",
       "      <th>12</th>\n",
       "      <th>13</th>\n",
       "      <th>types</th>\n",
       "    </tr>\n",
       "  </thead>\n",
       "  <tbody>\n",
       "    <tr>\n",
       "      <th>0</th>\n",
       "      <td>-5780.672314</td>\n",
       "      <td>-13.142346</td>\n",
       "      <td>272.025492</td>\n",
       "      <td>105.825635</td>\n",
       "      <td>-113.063397</td>\n",
       "      <td>64.915855</td>\n",
       "      <td>20.762981</td>\n",
       "      <td>47.668148</td>\n",
       "      <td>43.550094</td>\n",
       "      <td>-3.503807</td>\n",
       "      <td>7.887935</td>\n",
       "      <td>-5.984091</td>\n",
       "      <td>0.565522</td>\n",
       "      <td>-0.651567</td>\n",
       "      <td>Cercospora Leaf Spot</td>\n",
       "    </tr>\n",
       "    <tr>\n",
       "      <th>1</th>\n",
       "      <td>23648.944499</td>\n",
       "      <td>-204.861882</td>\n",
       "      <td>133.158474</td>\n",
       "      <td>-30.494389</td>\n",
       "      <td>-14.265260</td>\n",
       "      <td>-8.751050</td>\n",
       "      <td>13.368092</td>\n",
       "      <td>6.179064</td>\n",
       "      <td>-8.966217</td>\n",
       "      <td>-19.277451</td>\n",
       "      <td>-5.670979</td>\n",
       "      <td>-6.530756</td>\n",
       "      <td>-1.962741</td>\n",
       "      <td>-2.289558</td>\n",
       "      <td>Cercospora Leaf Spot</td>\n",
       "    </tr>\n",
       "    <tr>\n",
       "      <th>2</th>\n",
       "      <td>9746.796117</td>\n",
       "      <td>219.209708</td>\n",
       "      <td>-12.867937</td>\n",
       "      <td>-3.293447</td>\n",
       "      <td>6.374704</td>\n",
       "      <td>-10.654790</td>\n",
       "      <td>-5.312235</td>\n",
       "      <td>-26.286550</td>\n",
       "      <td>19.029868</td>\n",
       "      <td>-16.971616</td>\n",
       "      <td>1.966728</td>\n",
       "      <td>1.102929</td>\n",
       "      <td>2.829163</td>\n",
       "      <td>4.992998</td>\n",
       "      <td>Cercospora Leaf Spot</td>\n",
       "    </tr>\n",
       "    <tr>\n",
       "      <th>3</th>\n",
       "      <td>-29155.560082</td>\n",
       "      <td>-181.872037</td>\n",
       "      <td>-143.065563</td>\n",
       "      <td>302.274141</td>\n",
       "      <td>1.866438</td>\n",
       "      <td>-13.337681</td>\n",
       "      <td>-97.736312</td>\n",
       "      <td>0.700180</td>\n",
       "      <td>-18.819478</td>\n",
       "      <td>-39.502359</td>\n",
       "      <td>7.728957</td>\n",
       "      <td>-10.606927</td>\n",
       "      <td>-1.932096</td>\n",
       "      <td>2.771004</td>\n",
       "      <td>Cercospora Leaf Spot</td>\n",
       "    </tr>\n",
       "    <tr>\n",
       "      <th>4</th>\n",
       "      <td>11133.719505</td>\n",
       "      <td>457.005089</td>\n",
       "      <td>180.182559</td>\n",
       "      <td>-25.157945</td>\n",
       "      <td>23.250130</td>\n",
       "      <td>-36.946879</td>\n",
       "      <td>-25.047603</td>\n",
       "      <td>3.090292</td>\n",
       "      <td>21.546443</td>\n",
       "      <td>38.397648</td>\n",
       "      <td>-5.507482</td>\n",
       "      <td>4.051033</td>\n",
       "      <td>-1.194426</td>\n",
       "      <td>0.161795</td>\n",
       "      <td>Cercospora Leaf Spot</td>\n",
       "    </tr>\n",
       "    <tr>\n",
       "      <th>...</th>\n",
       "      <td>...</td>\n",
       "      <td>...</td>\n",
       "      <td>...</td>\n",
       "      <td>...</td>\n",
       "      <td>...</td>\n",
       "      <td>...</td>\n",
       "      <td>...</td>\n",
       "      <td>...</td>\n",
       "      <td>...</td>\n",
       "      <td>...</td>\n",
       "      <td>...</td>\n",
       "      <td>...</td>\n",
       "      <td>...</td>\n",
       "      <td>...</td>\n",
       "      <td>...</td>\n",
       "    </tr>\n",
       "    <tr>\n",
       "      <th>3847</th>\n",
       "      <td>18851.153844</td>\n",
       "      <td>-231.838797</td>\n",
       "      <td>-5.959636</td>\n",
       "      <td>-11.466747</td>\n",
       "      <td>-31.043979</td>\n",
       "      <td>-2.749741</td>\n",
       "      <td>-13.450295</td>\n",
       "      <td>-8.135372</td>\n",
       "      <td>-0.943466</td>\n",
       "      <td>4.360224</td>\n",
       "      <td>-14.519823</td>\n",
       "      <td>-11.373166</td>\n",
       "      <td>-2.451640</td>\n",
       "      <td>-3.502217</td>\n",
       "      <td>Northern Leaf Blight</td>\n",
       "    </tr>\n",
       "    <tr>\n",
       "      <th>3848</th>\n",
       "      <td>6606.968859</td>\n",
       "      <td>-100.902698</td>\n",
       "      <td>35.748877</td>\n",
       "      <td>9.092631</td>\n",
       "      <td>-36.056016</td>\n",
       "      <td>26.743810</td>\n",
       "      <td>6.186012</td>\n",
       "      <td>-25.400698</td>\n",
       "      <td>-4.001032</td>\n",
       "      <td>-5.323297</td>\n",
       "      <td>-5.692337</td>\n",
       "      <td>-1.003286</td>\n",
       "      <td>-4.957514</td>\n",
       "      <td>4.128230</td>\n",
       "      <td>Northern Leaf Blight</td>\n",
       "    </tr>\n",
       "    <tr>\n",
       "      <th>3849</th>\n",
       "      <td>2012.811561</td>\n",
       "      <td>259.488632</td>\n",
       "      <td>-80.878518</td>\n",
       "      <td>5.265154</td>\n",
       "      <td>8.272016</td>\n",
       "      <td>14.033275</td>\n",
       "      <td>-22.119904</td>\n",
       "      <td>-20.814841</td>\n",
       "      <td>15.156007</td>\n",
       "      <td>-19.335006</td>\n",
       "      <td>3.712943</td>\n",
       "      <td>6.102892</td>\n",
       "      <td>-2.227989</td>\n",
       "      <td>3.765039</td>\n",
       "      <td>Northern Leaf Blight</td>\n",
       "    </tr>\n",
       "    <tr>\n",
       "      <th>3850</th>\n",
       "      <td>254.205057</td>\n",
       "      <td>271.113995</td>\n",
       "      <td>180.075651</td>\n",
       "      <td>4.869551</td>\n",
       "      <td>16.228890</td>\n",
       "      <td>57.839833</td>\n",
       "      <td>31.944437</td>\n",
       "      <td>-15.533220</td>\n",
       "      <td>-11.503982</td>\n",
       "      <td>24.473710</td>\n",
       "      <td>3.121097</td>\n",
       "      <td>-11.263063</td>\n",
       "      <td>-4.516532</td>\n",
       "      <td>1.579058</td>\n",
       "      <td>Northern Leaf Blight</td>\n",
       "    </tr>\n",
       "    <tr>\n",
       "      <th>3851</th>\n",
       "      <td>22459.444943</td>\n",
       "      <td>-147.036900</td>\n",
       "      <td>-74.390465</td>\n",
       "      <td>-21.328222</td>\n",
       "      <td>-31.294882</td>\n",
       "      <td>-28.698178</td>\n",
       "      <td>3.173691</td>\n",
       "      <td>-7.838929</td>\n",
       "      <td>6.195105</td>\n",
       "      <td>9.181103</td>\n",
       "      <td>7.741199</td>\n",
       "      <td>-9.868759</td>\n",
       "      <td>-1.796805</td>\n",
       "      <td>5.816182</td>\n",
       "      <td>Northern Leaf Blight</td>\n",
       "    </tr>\n",
       "  </tbody>\n",
       "</table>\n",
       "<p>3852 rows × 15 columns</p>\n",
       "</div>"
      ],
      "text/plain": [
       "                 0           1           2           3           4          5  \\\n",
       "0     -5780.672314  -13.142346  272.025492  105.825635 -113.063397  64.915855   \n",
       "1     23648.944499 -204.861882  133.158474  -30.494389  -14.265260  -8.751050   \n",
       "2      9746.796117  219.209708  -12.867937   -3.293447    6.374704 -10.654790   \n",
       "3    -29155.560082 -181.872037 -143.065563  302.274141    1.866438 -13.337681   \n",
       "4     11133.719505  457.005089  180.182559  -25.157945   23.250130 -36.946879   \n",
       "...            ...         ...         ...         ...         ...        ...   \n",
       "3847  18851.153844 -231.838797   -5.959636  -11.466747  -31.043979  -2.749741   \n",
       "3848   6606.968859 -100.902698   35.748877    9.092631  -36.056016  26.743810   \n",
       "3849   2012.811561  259.488632  -80.878518    5.265154    8.272016  14.033275   \n",
       "3850    254.205057  271.113995  180.075651    4.869551   16.228890  57.839833   \n",
       "3851  22459.444943 -147.036900  -74.390465  -21.328222  -31.294882 -28.698178   \n",
       "\n",
       "              6          7          8          9         10         11  \\\n",
       "0     20.762981  47.668148  43.550094  -3.503807   7.887935  -5.984091   \n",
       "1     13.368092   6.179064  -8.966217 -19.277451  -5.670979  -6.530756   \n",
       "2     -5.312235 -26.286550  19.029868 -16.971616   1.966728   1.102929   \n",
       "3    -97.736312   0.700180 -18.819478 -39.502359   7.728957 -10.606927   \n",
       "4    -25.047603   3.090292  21.546443  38.397648  -5.507482   4.051033   \n",
       "...         ...        ...        ...        ...        ...        ...   \n",
       "3847 -13.450295  -8.135372  -0.943466   4.360224 -14.519823 -11.373166   \n",
       "3848   6.186012 -25.400698  -4.001032  -5.323297  -5.692337  -1.003286   \n",
       "3849 -22.119904 -20.814841  15.156007 -19.335006   3.712943   6.102892   \n",
       "3850  31.944437 -15.533220 -11.503982  24.473710   3.121097 -11.263063   \n",
       "3851   3.173691  -7.838929   6.195105   9.181103   7.741199  -9.868759   \n",
       "\n",
       "            12        13                 types  \n",
       "0     0.565522 -0.651567  Cercospora Leaf Spot  \n",
       "1    -1.962741 -2.289558  Cercospora Leaf Spot  \n",
       "2     2.829163  4.992998  Cercospora Leaf Spot  \n",
       "3    -1.932096  2.771004  Cercospora Leaf Spot  \n",
       "4    -1.194426  0.161795  Cercospora Leaf Spot  \n",
       "...        ...       ...                   ...  \n",
       "3847 -2.451640 -3.502217  Northern Leaf Blight  \n",
       "3848 -4.957514  4.128230  Northern Leaf Blight  \n",
       "3849 -2.227989  3.765039  Northern Leaf Blight  \n",
       "3850 -4.516532  1.579058  Northern Leaf Blight  \n",
       "3851 -1.796805  5.816182  Northern Leaf Blight  \n",
       "\n",
       "[3852 rows x 15 columns]"
      ]
     },
     "execution_count": 31,
     "metadata": {},
     "output_type": "execute_result"
    }
   ],
   "source": [
    "data"
   ]
  },
  {
   "cell_type": "markdown",
   "metadata": {
    "id": "8A_yZiJUyGUS"
   },
   "source": [
    "### Sampling"
   ]
  },
  {
   "cell_type": "code",
   "execution_count": 32,
   "metadata": {
    "colab": {
     "base_uri": "https://localhost:8080/"
    },
    "id": "sdT4CZjSsX3R",
    "outputId": "fb454d4d-bbf6-42cb-de9f-2820847a0033"
   },
   "outputs": [
    {
     "name": "stdout",
     "output_type": "stream",
     "text": [
      "X shape: (3852, 14)\n",
      "y shape: (3852,)\n"
     ]
    }
   ],
   "source": [
    "# Extract the features (X) and labels (y)\n",
    "X = data.iloc[:, :-1]  # Select all columns except the last one as features\n",
    "y = data['types']  # Select the 'types' column as the target variable\n",
    "\n",
    "# Check the shape of X and y to ensure they are correct\n",
    "print(\"X shape:\", X.shape)\n",
    "print(\"y shape:\", y.shape)"
   ]
  },
  {
   "cell_type": "code",
   "execution_count": 33,
   "metadata": {
    "colab": {
     "base_uri": "https://localhost:8080/",
     "height": 1000
    },
    "id": "WXrMdMzFtINe",
    "outputId": "07ecae1f-6240-4585-a0ea-af651dabe814"
   },
   "outputs": [
    {
     "name": "stdout",
     "output_type": "stream",
     "text": [
      "Class distribution before SMOTE:\n",
      "types\n",
      "Common Rust             1192\n",
      "Healthy                 1162\n",
      "Northern Leaf Blight     985\n",
      "Cercospora Leaf Spot     513\n",
      "Name: count, dtype: int64\n"
     ]
    },
    {
     "data": {
      "image/png": "[encoded data removed]",
      "text/plain": [
       "<Figure size 1000x500 with 1 Axes>"
      ]
     },
     "metadata": {},
     "output_type": "display_data"
    },
    {
     "name": "stdout",
     "output_type": "stream",
     "text": [
      "Class distribution after SMOTE:\n",
      "Counter({'Cercospora Leaf Spot': 1192, 'Common Rust': 1192, 'Healthy': 1192, 'Northern Leaf Blight': 1192})\n"
     ]
    },
    {
     "data": {
      "image/png": "[encoded data removed]",
      "text/plain": [
       "<Figure size 1000x500 with 1 Axes>"
      ]
     },
     "metadata": {},
     "output_type": "display_data"
    }
   ],
   "source": [
    "import pandas as pd\n",
    "import matplotlib.pyplot as plt\n",
    "from imblearn.over_sampling import SMOTE\n",
    "from collections import Counter\n",
    "\n",
    "# Extract the features (X) and labels (y)\n",
    "X = data.iloc[:, :-1]  # Select all columns except the last one as features\n",
    "y = data['types']  # Select the 'types' column as the target variable\n",
    "\n",
    "# Check the class distribution before applying SMOTE\n",
    "label_counts_before = y.value_counts()\n",
    "print(\"Class distribution before SMOTE:\")\n",
    "print(label_counts_before)\n",
    "\n",
    "# Create a bar chart to visualize the class distribution before SMOTE\n",
    "plt.figure(figsize=(10, 5))\n",
    "plt.bar(label_counts_before.index, label_counts_before.values)\n",
    "plt.xlabel('Label')\n",
    "plt.ylabel('Count')\n",
    "plt.title('Class Distribution Before SMOTE')\n",
    "plt.show()\n",
    "\n",
    "# Create an instance of the SMOTE class\n",
    "smote = SMOTE(sampling_strategy='auto', random_state=42)\n",
    "\n",
    "# Apply SMOTE to balance the dataset\n",
    "X_resampled, y_resampled = smote.fit_resample(X, y)\n",
    "\n",
    "# Check the class distribution after applying SMOTE\n",
    "label_counts_after = Counter(y_resampled)\n",
    "print(\"Class distribution after SMOTE:\")\n",
    "print(label_counts_after)\n",
    "\n",
    "# Create a bar chart to visualize the class distribution after SMOTE\n",
    "plt.figure(figsize=(10, 5))\n",
    "plt.bar(label_counts_after.keys(), label_counts_after.values())\n",
    "plt.xlabel('Label')\n",
    "plt.ylabel('Count')\n",
    "plt.title('Class Distribution After SMOTE')\n",
    "plt.show()"
   ]
  },
  {
   "cell_type": "code",
   "execution_count": 34,
   "metadata": {
    "id": "7V_j2s9avPWb"
   },
   "outputs": [],
   "source": [
    "# Overwrite DataFrame with the resampled data\n",
    "data = pd.DataFrame(X_resampled, columns=X.columns)\n",
    "data['types'] = y_resampled"
   ]
  },
  {
   "cell_type": "markdown",
   "metadata": {
    "id": "KxYzfU99yKjc"
   },
   "source": [
    "### Splitting"
   ]
  },
  {
   "cell_type": "code",
   "execution_count": 35,
   "metadata": {},
   "outputs": [
    {
     "data": {
      "text/html": [
       "<div>\n",
       "<style scoped>\n",
       "    .dataframe tbody tr th:only-of-type {\n",
       "        vertical-align: middle;\n",
       "    }\n",
       "\n",
       "    .dataframe tbody tr th {\n",
       "        vertical-align: top;\n",
       "    }\n",
       "\n",
       "    .dataframe thead th {\n",
       "        text-align: right;\n",
       "    }\n",
       "</style>\n",
       "<table border=\"1\" class=\"dataframe\">\n",
       "  <thead>\n",
       "    <tr style=\"text-align: right;\">\n",
       "      <th></th>\n",
       "      <th>0</th>\n",
       "      <th>1</th>\n",
       "      <th>2</th>\n",
       "      <th>3</th>\n",
       "      <th>4</th>\n",
       "      <th>5</th>\n",
       "      <th>6</th>\n",
       "      <th>7</th>\n",
       "      <th>8</th>\n",
       "      <th>9</th>\n",
       "      <th>10</th>\n",
       "      <th>11</th>\n",
       "      <th>12</th>\n",
       "      <th>13</th>\n",
       "      <th>types</th>\n",
       "    </tr>\n",
       "  </thead>\n",
       "  <tbody>\n",
       "    <tr>\n",
       "      <th>0</th>\n",
       "      <td>-5780.672314</td>\n",
       "      <td>-13.142346</td>\n",
       "      <td>272.025492</td>\n",
       "      <td>105.825635</td>\n",
       "      <td>-113.063397</td>\n",
       "      <td>64.915855</td>\n",
       "      <td>20.762981</td>\n",
       "      <td>47.668148</td>\n",
       "      <td>43.550094</td>\n",
       "      <td>-3.503807</td>\n",
       "      <td>7.887935</td>\n",
       "      <td>-5.984091</td>\n",
       "      <td>0.565522</td>\n",
       "      <td>-0.651567</td>\n",
       "      <td>Cercospora Leaf Spot</td>\n",
       "    </tr>\n",
       "    <tr>\n",
       "      <th>1</th>\n",
       "      <td>23648.944499</td>\n",
       "      <td>-204.861882</td>\n",
       "      <td>133.158474</td>\n",
       "      <td>-30.494389</td>\n",
       "      <td>-14.265260</td>\n",
       "      <td>-8.751050</td>\n",
       "      <td>13.368092</td>\n",
       "      <td>6.179064</td>\n",
       "      <td>-8.966217</td>\n",
       "      <td>-19.277451</td>\n",
       "      <td>-5.670979</td>\n",
       "      <td>-6.530756</td>\n",
       "      <td>-1.962741</td>\n",
       "      <td>-2.289558</td>\n",
       "      <td>Cercospora Leaf Spot</td>\n",
       "    </tr>\n",
       "    <tr>\n",
       "      <th>2</th>\n",
       "      <td>9746.796117</td>\n",
       "      <td>219.209708</td>\n",
       "      <td>-12.867937</td>\n",
       "      <td>-3.293447</td>\n",
       "      <td>6.374704</td>\n",
       "      <td>-10.654790</td>\n",
       "      <td>-5.312235</td>\n",
       "      <td>-26.286550</td>\n",
       "      <td>19.029868</td>\n",
       "      <td>-16.971616</td>\n",
       "      <td>1.966728</td>\n",
       "      <td>1.102929</td>\n",
       "      <td>2.829163</td>\n",
       "      <td>4.992998</td>\n",
       "      <td>Cercospora Leaf Spot</td>\n",
       "    </tr>\n",
       "    <tr>\n",
       "      <th>3</th>\n",
       "      <td>-29155.560082</td>\n",
       "      <td>-181.872037</td>\n",
       "      <td>-143.065563</td>\n",
       "      <td>302.274141</td>\n",
       "      <td>1.866438</td>\n",
       "      <td>-13.337681</td>\n",
       "      <td>-97.736312</td>\n",
       "      <td>0.700180</td>\n",
       "      <td>-18.819478</td>\n",
       "      <td>-39.502359</td>\n",
       "      <td>7.728957</td>\n",
       "      <td>-10.606927</td>\n",
       "      <td>-1.932096</td>\n",
       "      <td>2.771004</td>\n",
       "      <td>Cercospora Leaf Spot</td>\n",
       "    </tr>\n",
       "    <tr>\n",
       "      <th>4</th>\n",
       "      <td>11133.719505</td>\n",
       "      <td>457.005089</td>\n",
       "      <td>180.182559</td>\n",
       "      <td>-25.157945</td>\n",
       "      <td>23.250130</td>\n",
       "      <td>-36.946879</td>\n",
       "      <td>-25.047603</td>\n",
       "      <td>3.090292</td>\n",
       "      <td>21.546443</td>\n",
       "      <td>38.397648</td>\n",
       "      <td>-5.507482</td>\n",
       "      <td>4.051033</td>\n",
       "      <td>-1.194426</td>\n",
       "      <td>0.161795</td>\n",
       "      <td>Cercospora Leaf Spot</td>\n",
       "    </tr>\n",
       "  </tbody>\n",
       "</table>\n",
       "</div>"
      ],
      "text/plain": [
       "              0           1           2           3           4          5  \\\n",
       "0  -5780.672314  -13.142346  272.025492  105.825635 -113.063397  64.915855   \n",
       "1  23648.944499 -204.861882  133.158474  -30.494389  -14.265260  -8.751050   \n",
       "2   9746.796117  219.209708  -12.867937   -3.293447    6.374704 -10.654790   \n",
       "3 -29155.560082 -181.872037 -143.065563  302.274141    1.866438 -13.337681   \n",
       "4  11133.719505  457.005089  180.182559  -25.157945   23.250130 -36.946879   \n",
       "\n",
       "           6          7          8          9        10         11        12  \\\n",
       "0  20.762981  47.668148  43.550094  -3.503807  7.887935  -5.984091  0.565522   \n",
       "1  13.368092   6.179064  -8.966217 -19.277451 -5.670979  -6.530756 -1.962741   \n",
       "2  -5.312235 -26.286550  19.029868 -16.971616  1.966728   1.102929  2.829163   \n",
       "3 -97.736312   0.700180 -18.819478 -39.502359  7.728957 -10.606927 -1.932096   \n",
       "4 -25.047603   3.090292  21.546443  38.397648 -5.507482   4.051033 -1.194426   \n",
       "\n",
       "         13                 types  \n",
       "0 -0.651567  Cercospora Leaf Spot  \n",
       "1 -2.289558  Cercospora Leaf Spot  \n",
       "2  4.992998  Cercospora Leaf Spot  \n",
       "3  2.771004  Cercospora Leaf Spot  \n",
       "4  0.161795  Cercospora Leaf Spot  "
      ]
     },
     "execution_count": 35,
     "metadata": {},
     "output_type": "execute_result"
    }
   ],
   "source": [
    "data.head()"
   ]
  },
  {
   "cell_type": "code",
   "execution_count": 36,
   "metadata": {
    "id": "qZJPoKoOtrDo"
   },
   "outputs": [],
   "source": [
    "x=data.iloc[:,0:14].values"
   ]
  },
  {
   "cell_type": "code",
   "execution_count": 37,
   "metadata": {
    "colab": {
     "base_uri": "https://localhost:8080/"
    },
    "id": "7fp9dT6Htuhi",
    "outputId": "a8f702d3-e18d-42d4-ac04-33f44a371c11"
   },
   "outputs": [
    {
     "data": {
      "text/plain": [
       "array([[-5.78067231e+03, -1.31423455e+01,  2.72025492e+02, ...,\n",
       "        -5.98409116e+00,  5.65522209e-01, -6.51566818e-01],\n",
       "       [ 2.36489445e+04, -2.04861882e+02,  1.33158474e+02, ...,\n",
       "        -6.53075576e+00, -1.96274116e+00, -2.28955840e+00],\n",
       "       [ 9.74679612e+03,  2.19209708e+02, -1.28679371e+01, ...,\n",
       "         1.10292940e+00,  2.82916339e+00,  4.99299776e+00],\n",
       "       ...,\n",
       "       [ 8.89637211e+03, -2.23605852e+02, -9.50462573e+01, ...,\n",
       "        -4.23062391e+00, -8.78078920e+00,  4.53812382e+00],\n",
       "       [ 3.89467980e+03,  4.46230675e+01, -7.27745019e+01, ...,\n",
       "        -8.21619530e+00, -4.50213606e+00,  1.65027980e+00],\n",
       "       [ 1.21463513e+04, -9.00125239e+01,  1.45014257e+02, ...,\n",
       "        -1.38569693e+01, -6.21712490e+00,  3.45901928e-01]])"
      ]
     },
     "execution_count": 37,
     "metadata": {},
     "output_type": "execute_result"
    }
   ],
   "source": [
    "x"
   ]
  },
  {
   "cell_type": "code",
   "execution_count": 38,
   "metadata": {
    "colab": {
     "base_uri": "https://localhost:8080/"
    },
    "id": "65iWAYdgtvr5",
    "outputId": "886720b7-9ade-47f5-8d8a-4dad9e9bffdd"
   },
   "outputs": [
    {
     "data": {
      "text/plain": [
       "(4768, 14)"
      ]
     },
     "execution_count": 38,
     "metadata": {},
     "output_type": "execute_result"
    }
   ],
   "source": [
    "x.shape"
   ]
  },
  {
   "cell_type": "code",
   "execution_count": 39,
   "metadata": {
    "id": "QEZwVpOdtxAu"
   },
   "outputs": [],
   "source": [
    "y=data.iloc[:,14].values"
   ]
  },
  {
   "cell_type": "code",
   "execution_count": 40,
   "metadata": {
    "colab": {
     "base_uri": "https://localhost:8080/"
    },
    "id": "SVS4I-mPtyO7",
    "outputId": "860c2dae-29e2-42d0-fc42-ae7586de0441"
   },
   "outputs": [
    {
     "data": {
      "text/plain": [
       "array(['Cercospora Leaf Spot', 'Cercospora Leaf Spot',\n",
       "       'Cercospora Leaf Spot', ..., 'Northern Leaf Blight',\n",
       "       'Northern Leaf Blight', 'Northern Leaf Blight'], dtype=object)"
      ]
     },
     "execution_count": 40,
     "metadata": {},
     "output_type": "execute_result"
    }
   ],
   "source": [
    "y"
   ]
  },
  {
   "cell_type": "code",
   "execution_count": 41,
   "metadata": {
    "id": "eDlnB-lltzmX"
   },
   "outputs": [],
   "source": [
    "from sklearn.preprocessing import StandardScaler\n",
    "data2=StandardScaler()\n",
    "x=data2.fit_transform(x)"
   ]
  },
  {
   "cell_type": "code",
   "execution_count": 42,
   "metadata": {},
   "outputs": [
    {
     "data": {
      "text/plain": [
       "['models/scalers/Corn_scaler_model.pkl']"
      ]
     },
     "execution_count": 42,
     "metadata": {},
     "output_type": "execute_result"
    }
   ],
   "source": [
    "import joblib\n",
    "\n",
    "# Save the trained model to a file\n",
    "joblib.dump(data2, 'models/scalers/Corn_scaler_model.pkl')"
   ]
  },
  {
   "cell_type": "code",
   "execution_count": 43,
   "metadata": {
    "colab": {
     "base_uri": "https://localhost:8080/"
    },
    "id": "MMgVI393t0um",
    "outputId": "20b2fd15-4e9e-4c22-b98e-d540afbd4402"
   },
   "outputs": [
    {
     "data": {
      "text/plain": [
       "array([[-0.35794722, -0.0151261 ,  1.20346397, ..., -0.63694492,\n",
       "         0.18805463, -0.26827325],\n",
       "       [ 1.04651908, -0.59991872,  0.53447494, ..., -0.70285199,\n",
       "        -0.43391622, -0.99114064],\n",
       "       [ 0.38306842,  0.69360587, -0.16900431, ...,  0.2174817 ,\n",
       "         0.74492654,  2.2227479 ],\n",
       "       ...,\n",
       "       [ 0.34248373, -0.65709252, -0.56489669, ..., -0.42554309,\n",
       "        -2.11120476,  2.022006  ],\n",
       "       [ 0.10378853,  0.16107288, -0.45760297, ..., -0.90605225,\n",
       "        -1.05862551,  0.74756217],\n",
       "       [ 0.49758212, -0.2495994 ,  0.59158994, ..., -1.58611623,\n",
       "        -1.48052502,  0.17192293]])"
      ]
     },
     "execution_count": 43,
     "metadata": {},
     "output_type": "execute_result"
    }
   ],
   "source": [
    "x"
   ]
  },
  {
   "cell_type": "code",
   "execution_count": 44,
   "metadata": {
    "id": "nQTQRp4Ut2ze"
   },
   "outputs": [],
   "source": [
    "from sklearn.model_selection import train_test_split\n",
    "x_train,x_test,y_train,y_test=train_test_split(x,y,test_size=0.2,random_state=0)"
   ]
  },
  {
   "cell_type": "markdown",
   "metadata": {
    "id": "6k5ppePD_hjr"
   },
   "source": [
    "### Default Parameters Training"
   ]
  },
  {
   "cell_type": "code",
   "execution_count": 45,
   "metadata": {
    "id": "Tmbb2gg3t4c6"
   },
   "outputs": [],
   "source": [
    "from sklearn.svm import SVC\n",
    "\n",
    "# Assuming x_train is your feature matrix and y_train is your target variable as a NumPy array\n",
    "svm = SVC()\n",
    "\n",
    "# Train the SVM model\n",
    "strain = svm.fit(x_train, y_train)"
   ]
  },
  {
   "cell_type": "code",
   "execution_count": 46,
   "metadata": {
    "colab": {
     "base_uri": "https://localhost:8080/",
     "height": 75
    },
    "id": "gJwa7r85t8aW",
    "outputId": "1fbed260-5103-4719-ac59-0205499ecb22"
   },
   "outputs": [
    {
     "data": {
      "text/html": [
       "<style>#sk-container-id-2 {color: black;}#sk-container-id-2 pre{padding: 0;}#sk-container-id-2 div.sk-toggleable {background-color: white;}#sk-container-id-2 label.sk-toggleable__label {cursor: pointer;display: block;width: 100%;margin-bottom: 0;padding: 0.3em;box-sizing: border-box;text-align: center;}#sk-container-id-2 label.sk-toggleable__label-arrow:before {content: \"▸\";float: left;margin-right: 0.25em;color: #696969;}#sk-container-id-2 label.sk-toggleable__label-arrow:hover:before {color: black;}#sk-container-id-2 div.sk-estimator:hover label.sk-toggleable__label-arrow:before {color: black;}#sk-container-id-2 div.sk-toggleable__content {max-height: 0;max-width: 0;overflow: hidden;text-align: left;background-color: #f0f8ff;}#sk-container-id-2 div.sk-toggleable__content pre {margin: 0.2em;color: black;border-radius: 0.25em;background-color: #f0f8ff;}#sk-container-id-2 input.sk-toggleable__control:checked~div.sk-toggleable__content {max-height: 200px;max-width: 100%;overflow: auto;}#sk-container-id-2 input.sk-toggleable__control:checked~label.sk-toggleable__label-arrow:before {content: \"▾\";}#sk-container-id-2 div.sk-estimator input.sk-toggleable__control:checked~label.sk-toggleable__label {background-color: #d4ebff;}#sk-container-id-2 div.sk-label input.sk-toggleable__control:checked~label.sk-toggleable__label {background-color: #d4ebff;}#sk-container-id-2 input.sk-hidden--visually {border: 0;clip: rect(1px 1px 1px 1px);clip: rect(1px, 1px, 1px, 1px);height: 1px;margin: -1px;overflow: hidden;padding: 0;position: absolute;width: 1px;}#sk-container-id-2 div.sk-estimator {font-family: monospace;background-color: #f0f8ff;border: 1px dotted black;border-radius: 0.25em;box-sizing: border-box;margin-bottom: 0.5em;}#sk-container-id-2 div.sk-estimator:hover {background-color: #d4ebff;}#sk-container-id-2 div.sk-parallel-item::after {content: \"\";width: 100%;border-bottom: 1px solid gray;flex-grow: 1;}#sk-container-id-2 div.sk-label:hover label.sk-toggleable__label {background-color: #d4ebff;}#sk-container-id-2 div.sk-serial::before {content: \"\";position: absolute;border-left: 1px solid gray;box-sizing: border-box;top: 0;bottom: 0;left: 50%;z-index: 0;}#sk-container-id-2 div.sk-serial {display: flex;flex-direction: column;align-items: center;background-color: white;padding-right: 0.2em;padding-left: 0.2em;position: relative;}#sk-container-id-2 div.sk-item {position: relative;z-index: 1;}#sk-container-id-2 div.sk-parallel {display: flex;align-items: stretch;justify-content: center;background-color: white;position: relative;}#sk-container-id-2 div.sk-item::before, #sk-container-id-2 div.sk-parallel-item::before {content: \"\";position: absolute;border-left: 1px solid gray;box-sizing: border-box;top: 0;bottom: 0;left: 50%;z-index: -1;}#sk-container-id-2 div.sk-parallel-item {display: flex;flex-direction: column;z-index: 1;position: relative;background-color: white;}#sk-container-id-2 div.sk-parallel-item:first-child::after {align-self: flex-end;width: 50%;}#sk-container-id-2 div.sk-parallel-item:last-child::after {align-self: flex-start;width: 50%;}#sk-container-id-2 div.sk-parallel-item:only-child::after {width: 0;}#sk-container-id-2 div.sk-dashed-wrapped {border: 1px dashed gray;margin: 0 0.4em 0.5em 0.4em;box-sizing: border-box;padding-bottom: 0.4em;background-color: white;}#sk-container-id-2 div.sk-label label {font-family: monospace;font-weight: bold;display: inline-block;line-height: 1.2em;}#sk-container-id-2 div.sk-label-container {text-align: center;}#sk-container-id-2 div.sk-container {/* jupyter's `normalize.less` sets `[hidden] { display: none; }` but bootstrap.min.css set `[hidden] { display: none !important; }` so we also need the `!important` here to be able to override the default hidden behavior on the sphinx rendered scikit-learn.org. See: https://github.com/scikit-learn/scikit-learn/issues/21755 */display: inline-block !important;position: relative;}#sk-container-id-2 div.sk-text-repr-fallback {display: none;}</style><div id=\"sk-container-id-2\" class=\"sk-top-container\"><div class=\"sk-text-repr-fallback\"><pre>SVC()</pre><b>In a Jupyter environment, please rerun this cell to show the HTML representation or trust the notebook. <br />On GitHub, the HTML representation is unable to render, please try loading this page with nbviewer.org.</b></div><div class=\"sk-container\" hidden><div class=\"sk-item\"><div class=\"sk-estimator sk-toggleable\"><input class=\"sk-toggleable__control sk-hidden--visually\" id=\"sk-estimator-id-2\" type=\"checkbox\" checked><label for=\"sk-estimator-id-2\" class=\"sk-toggleable__label sk-toggleable__label-arrow\">SVC</label><div class=\"sk-toggleable__content\"><pre>SVC()</pre></div></div></div></div></div>"
      ],
      "text/plain": [
       "SVC()"
      ]
     },
     "execution_count": 46,
     "metadata": {},
     "output_type": "execute_result"
    }
   ],
   "source": [
    "strain"
   ]
  },
  {
   "cell_type": "code",
   "execution_count": 47,
   "metadata": {},
   "outputs": [
    {
     "data": {
      "text/plain": [
       "['models/classifiers/Corn_classifier_model.pkl']"
      ]
     },
     "execution_count": 47,
     "metadata": {},
     "output_type": "execute_result"
    }
   ],
   "source": [
    "import joblib\n",
    "\n",
    "# Save the trained model to a file\n",
    "joblib.dump(strain, 'models/classifiers/Corn_classifier_model.pkl')"
   ]
  },
  {
   "cell_type": "markdown",
   "metadata": {
    "id": "8zlMICAkyPss"
   },
   "source": [
    "### Testing"
   ]
  },
  {
   "cell_type": "code",
   "execution_count": 48,
   "metadata": {
    "colab": {
     "base_uri": "https://localhost:8080/"
    },
    "id": "EQD5xxINt92B",
    "outputId": "e0e25db0-9a02-4fbb-9085-d556f0dff6ac"
   },
   "outputs": [
    {
     "data": {
      "text/plain": [
       "array([[-1.37148162,  0.12141026,  2.37189667, ...,  0.38684231,\n",
       "         0.66817749, -0.39884607],\n",
       "       [-1.50746591, -0.74092575,  1.15227975, ...,  0.08266792,\n",
       "         0.80051861, -0.21532906],\n",
       "       [ 0.82933224, -0.56663412, -0.0634645 , ..., -1.53100271,\n",
       "        -1.8630641 , -0.35471177],\n",
       "       ...,\n",
       "       [ 0.700744  , -0.23000956,  0.36019375, ..., -0.59498241,\n",
       "        -0.99936987,  0.10230635],\n",
       "       [-1.50888995,  0.18539461,  0.62699103, ...,  0.23363404,\n",
       "         0.57583458,  0.08631174],\n",
       "       [ 0.83971299, -0.416505  , -0.78967342, ...,  0.26517377,\n",
       "         0.95276424,  0.72017632]])"
      ]
     },
     "execution_count": 48,
     "metadata": {},
     "output_type": "execute_result"
    }
   ],
   "source": [
    "x_test"
   ]
  },
  {
   "cell_type": "code",
   "execution_count": 49,
   "metadata": {
    "id": "AO88OgAdt_Ox"
   },
   "outputs": [],
   "source": [
    "y_pred=strain.predict(x_test)"
   ]
  },
  {
   "cell_type": "code",
   "execution_count": 50,
   "metadata": {
    "colab": {
     "base_uri": "https://localhost:8080/"
    },
    "id": "XklSeMzduAqr",
    "outputId": "a2ef23a4-aa53-4ef4-9223-2bd46366b7e1"
   },
   "outputs": [
    {
     "data": {
      "text/plain": [
       "array(['Common Rust', 'Common Rust', 'Northern Leaf Blight',\n",
       "       'Northern Leaf Blight', 'Cercospora Leaf Spot', 'Common Rust',\n",
       "       'Healthy', 'Northern Leaf Blight', 'Cercospora Leaf Spot',\n",
       "       'Cercospora Leaf Spot', 'Healthy', 'Common Rust', 'Common Rust',\n",
       "       'Common Rust', 'Common Rust', 'Cercospora Leaf Spot',\n",
       "       'Cercospora Leaf Spot', 'Common Rust', 'Northern Leaf Blight',\n",
       "       'Northern Leaf Blight', 'Healthy', 'Common Rust',\n",
       "       'Northern Leaf Blight', 'Common Rust', 'Common Rust',\n",
       "       'Common Rust', 'Cercospora Leaf Spot', 'Northern Leaf Blight',\n",
       "       'Healthy', 'Common Rust', 'Healthy', 'Northern Leaf Blight',\n",
       "       'Cercospora Leaf Spot', 'Cercospora Leaf Spot',\n",
       "       'Cercospora Leaf Spot', 'Healthy', 'Healthy',\n",
       "       'Cercospora Leaf Spot', 'Cercospora Leaf Spot',\n",
       "       'Northern Leaf Blight', 'Northern Leaf Blight', 'Healthy',\n",
       "       'Healthy', 'Northern Leaf Blight', 'Cercospora Leaf Spot',\n",
       "       'Cercospora Leaf Spot', 'Northern Leaf Blight', 'Common Rust',\n",
       "       'Healthy', 'Common Rust', 'Healthy', 'Northern Leaf Blight',\n",
       "       'Cercospora Leaf Spot', 'Common Rust', 'Healthy',\n",
       "       'Northern Leaf Blight', 'Northern Leaf Blight',\n",
       "       'Cercospora Leaf Spot', 'Cercospora Leaf Spot', 'Healthy',\n",
       "       'Cercospora Leaf Spot', 'Cercospora Leaf Spot',\n",
       "       'Northern Leaf Blight', 'Healthy', 'Healthy', 'Healthy',\n",
       "       'Common Rust', 'Common Rust', 'Common Rust',\n",
       "       'Northern Leaf Blight', 'Northern Leaf Blight', 'Common Rust',\n",
       "       'Common Rust', 'Cercospora Leaf Spot', 'Common Rust', 'Healthy',\n",
       "       'Healthy', 'Healthy', 'Common Rust', 'Common Rust',\n",
       "       'Cercospora Leaf Spot', 'Healthy', 'Healthy',\n",
       "       'Northern Leaf Blight', 'Northern Leaf Blight',\n",
       "       'Cercospora Leaf Spot', 'Common Rust', 'Common Rust',\n",
       "       'Common Rust', 'Common Rust', 'Northern Leaf Blight',\n",
       "       'Cercospora Leaf Spot', 'Cercospora Leaf Spot', 'Healthy',\n",
       "       'Cercospora Leaf Spot', 'Common Rust', 'Healthy',\n",
       "       'Northern Leaf Blight', 'Healthy', 'Cercospora Leaf Spot',\n",
       "       'Common Rust', 'Northern Leaf Blight', 'Healthy', 'Healthy',\n",
       "       'Common Rust', 'Northern Leaf Blight', 'Cercospora Leaf Spot',\n",
       "       'Common Rust', 'Healthy', 'Cercospora Leaf Spot', 'Healthy',\n",
       "       'Northern Leaf Blight', 'Healthy', 'Northern Leaf Blight',\n",
       "       'Common Rust', 'Healthy', 'Healthy', 'Northern Leaf Blight',\n",
       "       'Healthy', 'Common Rust', 'Common Rust', 'Cercospora Leaf Spot',\n",
       "       'Cercospora Leaf Spot', 'Healthy', 'Cercospora Leaf Spot',\n",
       "       'Healthy', 'Cercospora Leaf Spot', 'Healthy', 'Healthy',\n",
       "       'Cercospora Leaf Spot', 'Northern Leaf Blight', 'Common Rust',\n",
       "       'Cercospora Leaf Spot', 'Healthy', 'Northern Leaf Blight',\n",
       "       'Cercospora Leaf Spot', 'Common Rust', 'Cercospora Leaf Spot',\n",
       "       'Northern Leaf Blight', 'Common Rust', 'Cercospora Leaf Spot',\n",
       "       'Cercospora Leaf Spot', 'Common Rust', 'Common Rust',\n",
       "       'Cercospora Leaf Spot', 'Northern Leaf Blight',\n",
       "       'Cercospora Leaf Spot', 'Northern Leaf Blight', 'Healthy',\n",
       "       'Cercospora Leaf Spot', 'Northern Leaf Blight',\n",
       "       'Northern Leaf Blight', 'Healthy', 'Northern Leaf Blight',\n",
       "       'Cercospora Leaf Spot', 'Healthy', 'Healthy',\n",
       "       'Cercospora Leaf Spot', 'Common Rust', 'Northern Leaf Blight',\n",
       "       'Common Rust', 'Common Rust', 'Cercospora Leaf Spot',\n",
       "       'Common Rust', 'Cercospora Leaf Spot', 'Common Rust',\n",
       "       'Cercospora Leaf Spot', 'Healthy', 'Healthy', 'Healthy', 'Healthy',\n",
       "       'Common Rust', 'Common Rust', 'Cercospora Leaf Spot',\n",
       "       'Northern Leaf Blight', 'Northern Leaf Blight',\n",
       "       'Northern Leaf Blight', 'Common Rust', 'Cercospora Leaf Spot',\n",
       "       'Cercospora Leaf Spot', 'Common Rust', 'Common Rust', 'Healthy',\n",
       "       'Cercospora Leaf Spot', 'Northern Leaf Blight',\n",
       "       'Cercospora Leaf Spot', 'Common Rust', 'Common Rust',\n",
       "       'Cercospora Leaf Spot', 'Healthy', 'Cercospora Leaf Spot',\n",
       "       'Healthy', 'Healthy', 'Northern Leaf Blight',\n",
       "       'Cercospora Leaf Spot', 'Cercospora Leaf Spot',\n",
       "       'Cercospora Leaf Spot', 'Healthy', 'Northern Leaf Blight',\n",
       "       'Common Rust', 'Cercospora Leaf Spot', 'Cercospora Leaf Spot',\n",
       "       'Northern Leaf Blight', 'Healthy', 'Common Rust',\n",
       "       'Northern Leaf Blight', 'Healthy', 'Cercospora Leaf Spot',\n",
       "       'Healthy', 'Healthy', 'Northern Leaf Blight', 'Common Rust',\n",
       "       'Healthy', 'Common Rust', 'Healthy', 'Common Rust', 'Healthy',\n",
       "       'Common Rust', 'Northern Leaf Blight', 'Healthy',\n",
       "       'Cercospora Leaf Spot', 'Northern Leaf Blight',\n",
       "       'Cercospora Leaf Spot', 'Healthy', 'Healthy', 'Healthy',\n",
       "       'Cercospora Leaf Spot', 'Cercospora Leaf Spot',\n",
       "       'Northern Leaf Blight', 'Cercospora Leaf Spot',\n",
       "       'Cercospora Leaf Spot', 'Common Rust', 'Northern Leaf Blight',\n",
       "       'Cercospora Leaf Spot', 'Cercospora Leaf Spot', 'Healthy',\n",
       "       'Common Rust', 'Healthy', 'Healthy', 'Cercospora Leaf Spot',\n",
       "       'Northern Leaf Blight', 'Common Rust', 'Healthy', 'Healthy',\n",
       "       'Common Rust', 'Common Rust', 'Healthy', 'Healthy', 'Healthy',\n",
       "       'Cercospora Leaf Spot', 'Cercospora Leaf Spot', 'Common Rust',\n",
       "       'Common Rust', 'Healthy', 'Northern Leaf Blight', 'Healthy',\n",
       "       'Cercospora Leaf Spot', 'Northern Leaf Blight',\n",
       "       'Northern Leaf Blight', 'Cercospora Leaf Spot', 'Healthy',\n",
       "       'Common Rust', 'Cercospora Leaf Spot', 'Northern Leaf Blight',\n",
       "       'Cercospora Leaf Spot', 'Northern Leaf Blight', 'Healthy',\n",
       "       'Healthy', 'Healthy', 'Northern Leaf Blight', 'Common Rust',\n",
       "       'Healthy', 'Healthy', 'Northern Leaf Blight', 'Healthy', 'Healthy',\n",
       "       'Cercospora Leaf Spot', 'Cercospora Leaf Spot', 'Healthy',\n",
       "       'Healthy', 'Healthy', 'Northern Leaf Blight', 'Common Rust',\n",
       "       'Common Rust', 'Cercospora Leaf Spot', 'Healthy', 'Common Rust',\n",
       "       'Cercospora Leaf Spot', 'Northern Leaf Blight', 'Common Rust',\n",
       "       'Cercospora Leaf Spot', 'Healthy', 'Northern Leaf Blight',\n",
       "       'Healthy', 'Common Rust', 'Cercospora Leaf Spot', 'Healthy',\n",
       "       'Northern Leaf Blight', 'Cercospora Leaf Spot', 'Healthy',\n",
       "       'Northern Leaf Blight', 'Common Rust', 'Northern Leaf Blight',\n",
       "       'Healthy', 'Common Rust', 'Northern Leaf Blight', 'Common Rust',\n",
       "       'Healthy', 'Northern Leaf Blight', 'Northern Leaf Blight',\n",
       "       'Northern Leaf Blight', 'Cercospora Leaf Spot',\n",
       "       'Northern Leaf Blight', 'Healthy', 'Healthy', 'Common Rust',\n",
       "       'Cercospora Leaf Spot', 'Healthy', 'Cercospora Leaf Spot',\n",
       "       'Cercospora Leaf Spot', 'Healthy', 'Healthy', 'Common Rust',\n",
       "       'Northern Leaf Blight', 'Common Rust', 'Northern Leaf Blight',\n",
       "       'Northern Leaf Blight', 'Common Rust', 'Healthy', 'Healthy',\n",
       "       'Cercospora Leaf Spot', 'Cercospora Leaf Spot', 'Healthy',\n",
       "       'Healthy', 'Northern Leaf Blight', 'Northern Leaf Blight',\n",
       "       'Cercospora Leaf Spot', 'Northern Leaf Blight', 'Healthy',\n",
       "       'Common Rust', 'Cercospora Leaf Spot', 'Healthy',\n",
       "       'Northern Leaf Blight', 'Common Rust', 'Common Rust',\n",
       "       'Common Rust', 'Cercospora Leaf Spot', 'Healthy', 'Common Rust',\n",
       "       'Cercospora Leaf Spot', 'Common Rust', 'Cercospora Leaf Spot',\n",
       "       'Northern Leaf Blight', 'Northern Leaf Blight', 'Healthy',\n",
       "       'Cercospora Leaf Spot', 'Healthy', 'Common Rust',\n",
       "       'Northern Leaf Blight', 'Northern Leaf Blight',\n",
       "       'Cercospora Leaf Spot', 'Northern Leaf Blight', 'Common Rust',\n",
       "       'Common Rust', 'Common Rust', 'Northern Leaf Blight',\n",
       "       'Common Rust', 'Northern Leaf Blight', 'Northern Leaf Blight',\n",
       "       'Cercospora Leaf Spot', 'Northern Leaf Blight',\n",
       "       'Cercospora Leaf Spot', 'Northern Leaf Blight', 'Common Rust',\n",
       "       'Cercospora Leaf Spot', 'Healthy', 'Common Rust',\n",
       "       'Cercospora Leaf Spot', 'Cercospora Leaf Spot',\n",
       "       'Northern Leaf Blight', 'Healthy', 'Cercospora Leaf Spot',\n",
       "       'Northern Leaf Blight', 'Northern Leaf Blight',\n",
       "       'Cercospora Leaf Spot', 'Cercospora Leaf Spot', 'Healthy',\n",
       "       'Northern Leaf Blight', 'Common Rust', 'Northern Leaf Blight',\n",
       "       'Northern Leaf Blight', 'Northern Leaf Blight',\n",
       "       'Cercospora Leaf Spot', 'Northern Leaf Blight',\n",
       "       'Cercospora Leaf Spot', 'Healthy', 'Common Rust', 'Healthy',\n",
       "       'Common Rust', 'Northern Leaf Blight', 'Cercospora Leaf Spot',\n",
       "       'Northern Leaf Blight', 'Cercospora Leaf Spot',\n",
       "       'Northern Leaf Blight', 'Cercospora Leaf Spot', 'Common Rust',\n",
       "       'Common Rust', 'Northern Leaf Blight', 'Northern Leaf Blight',\n",
       "       'Healthy', 'Cercospora Leaf Spot', 'Northern Leaf Blight',\n",
       "       'Cercospora Leaf Spot', 'Common Rust', 'Cercospora Leaf Spot',\n",
       "       'Cercospora Leaf Spot', 'Healthy', 'Cercospora Leaf Spot',\n",
       "       'Cercospora Leaf Spot', 'Common Rust', 'Cercospora Leaf Spot',\n",
       "       'Cercospora Leaf Spot', 'Common Rust', 'Cercospora Leaf Spot',\n",
       "       'Common Rust', 'Northern Leaf Blight', 'Common Rust',\n",
       "       'Common Rust', 'Healthy', 'Common Rust', 'Northern Leaf Blight',\n",
       "       'Common Rust', 'Cercospora Leaf Spot', 'Northern Leaf Blight',\n",
       "       'Healthy', 'Cercospora Leaf Spot', 'Cercospora Leaf Spot',\n",
       "       'Common Rust', 'Healthy', 'Northern Leaf Blight', 'Common Rust',\n",
       "       'Cercospora Leaf Spot', 'Northern Leaf Blight', 'Common Rust',\n",
       "       'Healthy', 'Cercospora Leaf Spot', 'Northern Leaf Blight',\n",
       "       'Healthy', 'Northern Leaf Blight', 'Common Rust',\n",
       "       'Northern Leaf Blight', 'Cercospora Leaf Spot', 'Healthy',\n",
       "       'Common Rust', 'Healthy', 'Northern Leaf Blight',\n",
       "       'Cercospora Leaf Spot', 'Cercospora Leaf Spot',\n",
       "       'Northern Leaf Blight', 'Healthy', 'Healthy', 'Healthy',\n",
       "       'Northern Leaf Blight', 'Northern Leaf Blight',\n",
       "       'Cercospora Leaf Spot', 'Healthy', 'Healthy', 'Healthy',\n",
       "       'Cercospora Leaf Spot', 'Northern Leaf Blight',\n",
       "       'Northern Leaf Blight', 'Northern Leaf Blight',\n",
       "       'Cercospora Leaf Spot', 'Northern Leaf Blight', 'Common Rust',\n",
       "       'Healthy', 'Northern Leaf Blight', 'Cercospora Leaf Spot',\n",
       "       'Northern Leaf Blight', 'Northern Leaf Blight',\n",
       "       'Cercospora Leaf Spot', 'Cercospora Leaf Spot',\n",
       "       'Cercospora Leaf Spot', 'Healthy', 'Cercospora Leaf Spot',\n",
       "       'Northern Leaf Blight', 'Northern Leaf Blight', 'Healthy',\n",
       "       'Cercospora Leaf Spot', 'Healthy', 'Cercospora Leaf Spot',\n",
       "       'Cercospora Leaf Spot', 'Northern Leaf Blight', 'Healthy',\n",
       "       'Cercospora Leaf Spot', 'Common Rust', 'Common Rust',\n",
       "       'Common Rust', 'Common Rust', 'Northern Leaf Blight', 'Healthy',\n",
       "       'Common Rust', 'Cercospora Leaf Spot', 'Healthy', 'Common Rust',\n",
       "       'Healthy', 'Healthy', 'Common Rust', 'Healthy',\n",
       "       'Northern Leaf Blight', 'Cercospora Leaf Spot',\n",
       "       'Northern Leaf Blight', 'Common Rust', 'Cercospora Leaf Spot',\n",
       "       'Northern Leaf Blight', 'Healthy', 'Northern Leaf Blight',\n",
       "       'Common Rust', 'Northern Leaf Blight', 'Cercospora Leaf Spot',\n",
       "       'Healthy', 'Northern Leaf Blight', 'Cercospora Leaf Spot',\n",
       "       'Healthy', 'Common Rust', 'Common Rust', 'Common Rust',\n",
       "       'Cercospora Leaf Spot', 'Northern Leaf Blight', 'Common Rust',\n",
       "       'Healthy', 'Common Rust', 'Cercospora Leaf Spot', 'Common Rust',\n",
       "       'Common Rust', 'Healthy', 'Healthy', 'Cercospora Leaf Spot',\n",
       "       'Cercospora Leaf Spot', 'Healthy', 'Healthy',\n",
       "       'Cercospora Leaf Spot', 'Healthy', 'Healthy',\n",
       "       'Cercospora Leaf Spot', 'Cercospora Leaf Spot', 'Common Rust',\n",
       "       'Northern Leaf Blight', 'Healthy', 'Northern Leaf Blight',\n",
       "       'Northern Leaf Blight', 'Healthy', 'Cercospora Leaf Spot',\n",
       "       'Northern Leaf Blight', 'Cercospora Leaf Spot',\n",
       "       'Northern Leaf Blight', 'Healthy', 'Common Rust', 'Common Rust',\n",
       "       'Common Rust', 'Healthy', 'Common Rust', 'Common Rust',\n",
       "       'Cercospora Leaf Spot', 'Common Rust', 'Northern Leaf Blight',\n",
       "       'Common Rust', 'Cercospora Leaf Spot', 'Healthy',\n",
       "       'Cercospora Leaf Spot', 'Common Rust', 'Common Rust',\n",
       "       'Northern Leaf Blight', 'Cercospora Leaf Spot',\n",
       "       'Cercospora Leaf Spot', 'Cercospora Leaf Spot',\n",
       "       'Northern Leaf Blight', 'Healthy', 'Northern Leaf Blight',\n",
       "       'Cercospora Leaf Spot', 'Common Rust', 'Cercospora Leaf Spot',\n",
       "       'Healthy', 'Northern Leaf Blight', 'Common Rust',\n",
       "       'Northern Leaf Blight', 'Northern Leaf Blight', 'Common Rust',\n",
       "       'Common Rust', 'Healthy', 'Northern Leaf Blight', 'Healthy',\n",
       "       'Common Rust', 'Common Rust', 'Cercospora Leaf Spot', 'Healthy',\n",
       "       'Healthy', 'Cercospora Leaf Spot', 'Cercospora Leaf Spot',\n",
       "       'Common Rust', 'Common Rust', 'Healthy', 'Healthy',\n",
       "       'Northern Leaf Blight', 'Northern Leaf Blight', 'Common Rust',\n",
       "       'Healthy', 'Northern Leaf Blight', 'Healthy', 'Healthy',\n",
       "       'Northern Leaf Blight', 'Northern Leaf Blight', 'Healthy',\n",
       "       'Cercospora Leaf Spot', 'Common Rust', 'Healthy',\n",
       "       'Northern Leaf Blight', 'Northern Leaf Blight',\n",
       "       'Northern Leaf Blight', 'Common Rust', 'Healthy',\n",
       "       'Cercospora Leaf Spot', 'Northern Leaf Blight',\n",
       "       'Cercospora Leaf Spot', 'Healthy', 'Common Rust', 'Common Rust',\n",
       "       'Healthy', 'Healthy', 'Cercospora Leaf Spot', 'Common Rust',\n",
       "       'Healthy', 'Common Rust', 'Common Rust', 'Common Rust',\n",
       "       'Common Rust', 'Northern Leaf Blight', 'Northern Leaf Blight',\n",
       "       'Northern Leaf Blight', 'Cercospora Leaf Spot',\n",
       "       'Cercospora Leaf Spot', 'Common Rust', 'Common Rust',\n",
       "       'Common Rust', 'Healthy', 'Common Rust', 'Cercospora Leaf Spot',\n",
       "       'Northern Leaf Blight', 'Northern Leaf Blight', 'Common Rust',\n",
       "       'Common Rust', 'Cercospora Leaf Spot', 'Healthy',\n",
       "       'Cercospora Leaf Spot', 'Common Rust', 'Healthy', 'Healthy',\n",
       "       'Cercospora Leaf Spot', 'Common Rust', 'Healthy', 'Common Rust',\n",
       "       'Common Rust', 'Healthy', 'Northern Leaf Blight',\n",
       "       'Northern Leaf Blight', 'Common Rust', 'Healthy',\n",
       "       'Cercospora Leaf Spot', 'Common Rust', 'Common Rust',\n",
       "       'Cercospora Leaf Spot', 'Northern Leaf Blight', 'Common Rust',\n",
       "       'Healthy', 'Common Rust', 'Common Rust', 'Cercospora Leaf Spot',\n",
       "       'Healthy', 'Northern Leaf Blight', 'Healthy', 'Healthy',\n",
       "       'Cercospora Leaf Spot', 'Common Rust', 'Northern Leaf Blight',\n",
       "       'Cercospora Leaf Spot', 'Northern Leaf Blight',\n",
       "       'Northern Leaf Blight', 'Healthy', 'Northern Leaf Blight',\n",
       "       'Common Rust', 'Northern Leaf Blight', 'Healthy',\n",
       "       'Northern Leaf Blight', 'Common Rust', 'Cercospora Leaf Spot',\n",
       "       'Northern Leaf Blight', 'Common Rust', 'Cercospora Leaf Spot',\n",
       "       'Common Rust', 'Common Rust', 'Cercospora Leaf Spot',\n",
       "       'Common Rust', 'Healthy', 'Healthy', 'Healthy',\n",
       "       'Northern Leaf Blight', 'Cercospora Leaf Spot',\n",
       "       'Northern Leaf Blight', 'Common Rust', 'Common Rust', 'Healthy',\n",
       "       'Northern Leaf Blight', 'Healthy', 'Healthy',\n",
       "       'Cercospora Leaf Spot', 'Cercospora Leaf Spot',\n",
       "       'Cercospora Leaf Spot', 'Cercospora Leaf Spot',\n",
       "       'Cercospora Leaf Spot', 'Northern Leaf Blight',\n",
       "       'Cercospora Leaf Spot', 'Common Rust', 'Northern Leaf Blight',\n",
       "       'Healthy', 'Healthy', 'Cercospora Leaf Spot',\n",
       "       'Cercospora Leaf Spot', 'Northern Leaf Blight',\n",
       "       'Northern Leaf Blight', 'Common Rust', 'Healthy', 'Common Rust',\n",
       "       'Northern Leaf Blight', 'Northern Leaf Blight',\n",
       "       'Cercospora Leaf Spot', 'Common Rust', 'Healthy',\n",
       "       'Northern Leaf Blight', 'Common Rust', 'Healthy', 'Common Rust',\n",
       "       'Northern Leaf Blight', 'Common Rust', 'Common Rust',\n",
       "       'Cercospora Leaf Spot', 'Common Rust', 'Common Rust', 'Healthy',\n",
       "       'Healthy', 'Cercospora Leaf Spot', 'Healthy', 'Common Rust',\n",
       "       'Northern Leaf Blight', 'Healthy', 'Healthy', 'Common Rust',\n",
       "       'Healthy', 'Healthy', 'Cercospora Leaf Spot',\n",
       "       'Northern Leaf Blight', 'Healthy', 'Northern Leaf Blight',\n",
       "       'Northern Leaf Blight', 'Northern Leaf Blight',\n",
       "       'Northern Leaf Blight', 'Northern Leaf Blight', 'Common Rust',\n",
       "       'Northern Leaf Blight', 'Common Rust', 'Common Rust', 'Healthy',\n",
       "       'Cercospora Leaf Spot', 'Healthy', 'Healthy', 'Common Rust',\n",
       "       'Northern Leaf Blight', 'Northern Leaf Blight',\n",
       "       'Northern Leaf Blight', 'Northern Leaf Blight', 'Healthy',\n",
       "       'Northern Leaf Blight', 'Cercospora Leaf Spot',\n",
       "       'Cercospora Leaf Spot', 'Northern Leaf Blight', 'Common Rust',\n",
       "       'Common Rust', 'Northern Leaf Blight', 'Cercospora Leaf Spot',\n",
       "       'Healthy', 'Common Rust', 'Common Rust', 'Northern Leaf Blight',\n",
       "       'Healthy', 'Healthy', 'Northern Leaf Blight', 'Healthy', 'Healthy',\n",
       "       'Common Rust', 'Healthy', 'Healthy', 'Cercospora Leaf Spot',\n",
       "       'Cercospora Leaf Spot', 'Northern Leaf Blight',\n",
       "       'Northern Leaf Blight', 'Cercospora Leaf Spot', 'Healthy',\n",
       "       'Cercospora Leaf Spot', 'Cercospora Leaf Spot', 'Healthy',\n",
       "       'Northern Leaf Blight', 'Northern Leaf Blight',\n",
       "       'Northern Leaf Blight', 'Common Rust', 'Northern Leaf Blight',\n",
       "       'Common Rust', 'Cercospora Leaf Spot', 'Cercospora Leaf Spot',\n",
       "       'Healthy', 'Common Rust', 'Cercospora Leaf Spot', 'Common Rust',\n",
       "       'Northern Leaf Blight', 'Cercospora Leaf Spot', 'Healthy',\n",
       "       'Northern Leaf Blight', 'Northern Leaf Blight', 'Healthy',\n",
       "       'Cercospora Leaf Spot', 'Northern Leaf Blight',\n",
       "       'Northern Leaf Blight', 'Cercospora Leaf Spot',\n",
       "       'Cercospora Leaf Spot', 'Cercospora Leaf Spot', 'Common Rust',\n",
       "       'Healthy', 'Cercospora Leaf Spot', 'Cercospora Leaf Spot',\n",
       "       'Common Rust', 'Common Rust', 'Common Rust', 'Common Rust',\n",
       "       'Common Rust', 'Cercospora Leaf Spot', 'Healthy',\n",
       "       'Northern Leaf Blight', 'Healthy', 'Healthy', 'Healthy',\n",
       "       'Northern Leaf Blight', 'Healthy', 'Common Rust', 'Healthy',\n",
       "       'Common Rust', 'Northern Leaf Blight', 'Common Rust', 'Healthy',\n",
       "       'Healthy', 'Common Rust', 'Healthy', 'Healthy',\n",
       "       'Northern Leaf Blight', 'Common Rust', 'Healthy',\n",
       "       'Northern Leaf Blight', 'Common Rust', 'Common Rust',\n",
       "       'Northern Leaf Blight', 'Healthy', 'Common Rust',\n",
       "       'Northern Leaf Blight', 'Healthy', 'Cercospora Leaf Spot',\n",
       "       'Common Rust', 'Northern Leaf Blight', 'Healthy',\n",
       "       'Northern Leaf Blight', 'Common Rust', 'Common Rust', 'Healthy',\n",
       "       'Northern Leaf Blight', 'Common Rust', 'Healthy',\n",
       "       'Northern Leaf Blight', 'Common Rust', 'Northern Leaf Blight',\n",
       "       'Healthy', 'Cercospora Leaf Spot', 'Northern Leaf Blight',\n",
       "       'Cercospora Leaf Spot', 'Cercospora Leaf Spot', 'Healthy',\n",
       "       'Cercospora Leaf Spot', 'Cercospora Leaf Spot',\n",
       "       'Cercospora Leaf Spot', 'Northern Leaf Blight', 'Healthy',\n",
       "       'Common Rust', 'Northern Leaf Blight', 'Northern Leaf Blight',\n",
       "       'Common Rust', 'Common Rust', 'Healthy', 'Common Rust',\n",
       "       'Common Rust', 'Cercospora Leaf Spot', 'Northern Leaf Blight',\n",
       "       'Common Rust', 'Healthy', 'Northern Leaf Blight', 'Healthy',\n",
       "       'Northern Leaf Blight', 'Common Rust', 'Healthy',\n",
       "       'Northern Leaf Blight', 'Common Rust', 'Healthy',\n",
       "       'Northern Leaf Blight', 'Common Rust', 'Healthy',\n",
       "       'Cercospora Leaf Spot', 'Common Rust', 'Common Rust',\n",
       "       'Northern Leaf Blight', 'Common Rust', 'Northern Leaf Blight',\n",
       "       'Northern Leaf Blight', 'Healthy', 'Common Rust', 'Common Rust',\n",
       "       'Cercospora Leaf Spot', 'Northern Leaf Blight',\n",
       "       'Northern Leaf Blight', 'Common Rust', 'Common Rust',\n",
       "       'Northern Leaf Blight', 'Common Rust', 'Cercospora Leaf Spot',\n",
       "       'Common Rust', 'Cercospora Leaf Spot', 'Common Rust',\n",
       "       'Northern Leaf Blight', 'Common Rust', 'Cercospora Leaf Spot',\n",
       "       'Common Rust', 'Common Rust', 'Healthy', 'Northern Leaf Blight',\n",
       "       'Cercospora Leaf Spot', 'Northern Leaf Blight', 'Common Rust',\n",
       "       'Northern Leaf Blight', 'Northern Leaf Blight', 'Common Rust',\n",
       "       'Northern Leaf Blight'], dtype=object)"
      ]
     },
     "execution_count": 50,
     "metadata": {},
     "output_type": "execute_result"
    }
   ],
   "source": [
    "y_pred"
   ]
  },
  {
   "cell_type": "code",
   "execution_count": 51,
   "metadata": {
    "colab": {
     "base_uri": "https://localhost:8080/"
    },
    "id": "j885OsvouB8R",
    "outputId": "3b78cde5-2b87-4939-eac3-51a21f3c2681"
   },
   "outputs": [
    {
     "data": {
      "text/plain": [
       "array(['Common Rust', 'Common Rust', 'Northern Leaf Blight',\n",
       "       'Northern Leaf Blight', 'Cercospora Leaf Spot', 'Common Rust',\n",
       "       'Healthy', 'Northern Leaf Blight', 'Northern Leaf Blight',\n",
       "       'Northern Leaf Blight', 'Healthy', 'Common Rust', 'Common Rust',\n",
       "       'Common Rust', 'Common Rust', 'Northern Leaf Blight',\n",
       "       'Cercospora Leaf Spot', 'Common Rust', 'Cercospora Leaf Spot',\n",
       "       'Northern Leaf Blight', 'Healthy', 'Common Rust',\n",
       "       'Northern Leaf Blight', 'Common Rust', 'Common Rust',\n",
       "       'Common Rust', 'Cercospora Leaf Spot', 'Northern Leaf Blight',\n",
       "       'Healthy', 'Common Rust', 'Healthy', 'Northern Leaf Blight',\n",
       "       'Cercospora Leaf Spot', 'Northern Leaf Blight',\n",
       "       'Cercospora Leaf Spot', 'Healthy', 'Healthy',\n",
       "       'Cercospora Leaf Spot', 'Northern Leaf Blight',\n",
       "       'Northern Leaf Blight', 'Northern Leaf Blight', 'Healthy',\n",
       "       'Healthy', 'Northern Leaf Blight', 'Cercospora Leaf Spot',\n",
       "       'Cercospora Leaf Spot', 'Northern Leaf Blight', 'Common Rust',\n",
       "       'Healthy', 'Common Rust', 'Healthy', 'Northern Leaf Blight',\n",
       "       'Cercospora Leaf Spot', 'Common Rust', 'Healthy',\n",
       "       'Northern Leaf Blight', 'Northern Leaf Blight',\n",
       "       'Cercospora Leaf Spot', 'Cercospora Leaf Spot', 'Healthy',\n",
       "       'Cercospora Leaf Spot', 'Cercospora Leaf Spot',\n",
       "       'Cercospora Leaf Spot', 'Healthy', 'Healthy', 'Healthy',\n",
       "       'Common Rust', 'Common Rust', 'Common Rust',\n",
       "       'Cercospora Leaf Spot', 'Northern Leaf Blight', 'Common Rust',\n",
       "       'Common Rust', 'Cercospora Leaf Spot', 'Common Rust', 'Healthy',\n",
       "       'Healthy', 'Healthy', 'Northern Leaf Blight', 'Common Rust',\n",
       "       'Cercospora Leaf Spot', 'Healthy', 'Healthy',\n",
       "       'Northern Leaf Blight', 'Northern Leaf Blight',\n",
       "       'Cercospora Leaf Spot', 'Common Rust', 'Common Rust',\n",
       "       'Common Rust', 'Common Rust', 'Northern Leaf Blight',\n",
       "       'Cercospora Leaf Spot', 'Cercospora Leaf Spot', 'Healthy',\n",
       "       'Cercospora Leaf Spot', 'Common Rust', 'Healthy',\n",
       "       'Northern Leaf Blight', 'Healthy', 'Northern Leaf Blight',\n",
       "       'Common Rust', 'Northern Leaf Blight', 'Healthy', 'Healthy',\n",
       "       'Common Rust', 'Northern Leaf Blight', 'Northern Leaf Blight',\n",
       "       'Cercospora Leaf Spot', 'Healthy', 'Cercospora Leaf Spot',\n",
       "       'Healthy', 'Cercospora Leaf Spot', 'Healthy',\n",
       "       'Cercospora Leaf Spot', 'Common Rust', 'Healthy', 'Healthy',\n",
       "       'Cercospora Leaf Spot', 'Healthy', 'Common Rust', 'Common Rust',\n",
       "       'Cercospora Leaf Spot', 'Cercospora Leaf Spot', 'Healthy',\n",
       "       'Cercospora Leaf Spot', 'Healthy', 'Northern Leaf Blight',\n",
       "       'Healthy', 'Healthy', 'Cercospora Leaf Spot',\n",
       "       'Northern Leaf Blight', 'Common Rust', 'Cercospora Leaf Spot',\n",
       "       'Healthy', 'Northern Leaf Blight', 'Cercospora Leaf Spot',\n",
       "       'Common Rust', 'Cercospora Leaf Spot', 'Northern Leaf Blight',\n",
       "       'Common Rust', 'Northern Leaf Blight', 'Cercospora Leaf Spot',\n",
       "       'Common Rust', 'Common Rust', 'Cercospora Leaf Spot',\n",
       "       'Northern Leaf Blight', 'Northern Leaf Blight',\n",
       "       'Northern Leaf Blight', 'Healthy', 'Cercospora Leaf Spot',\n",
       "       'Northern Leaf Blight', 'Northern Leaf Blight', 'Healthy',\n",
       "       'Northern Leaf Blight', 'Cercospora Leaf Spot', 'Healthy',\n",
       "       'Healthy', 'Cercospora Leaf Spot', 'Common Rust',\n",
       "       'Northern Leaf Blight', 'Common Rust', 'Common Rust',\n",
       "       'Northern Leaf Blight', 'Common Rust', 'Cercospora Leaf Spot',\n",
       "       'Common Rust', 'Cercospora Leaf Spot', 'Healthy', 'Healthy',\n",
       "       'Healthy', 'Healthy', 'Common Rust', 'Common Rust',\n",
       "       'Cercospora Leaf Spot', 'Northern Leaf Blight',\n",
       "       'Northern Leaf Blight', 'Cercospora Leaf Spot', 'Common Rust',\n",
       "       'Cercospora Leaf Spot', 'Cercospora Leaf Spot', 'Common Rust',\n",
       "       'Common Rust', 'Healthy', 'Cercospora Leaf Spot',\n",
       "       'Cercospora Leaf Spot', 'Cercospora Leaf Spot', 'Common Rust',\n",
       "       'Common Rust', 'Cercospora Leaf Spot', 'Healthy',\n",
       "       'Cercospora Leaf Spot', 'Healthy', 'Healthy',\n",
       "       'Northern Leaf Blight', 'Cercospora Leaf Spot',\n",
       "       'Cercospora Leaf Spot', 'Cercospora Leaf Spot', 'Healthy',\n",
       "       'Northern Leaf Blight', 'Common Rust', 'Cercospora Leaf Spot',\n",
       "       'Cercospora Leaf Spot', 'Cercospora Leaf Spot', 'Healthy',\n",
       "       'Common Rust', 'Cercospora Leaf Spot', 'Healthy',\n",
       "       'Northern Leaf Blight', 'Healthy', 'Healthy',\n",
       "       'Northern Leaf Blight', 'Common Rust', 'Healthy', 'Common Rust',\n",
       "       'Healthy', 'Common Rust', 'Healthy', 'Common Rust',\n",
       "       'Northern Leaf Blight', 'Healthy', 'Cercospora Leaf Spot',\n",
       "       'Northern Leaf Blight', 'Cercospora Leaf Spot',\n",
       "       'Northern Leaf Blight', 'Healthy', 'Healthy',\n",
       "       'Cercospora Leaf Spot', 'Cercospora Leaf Spot',\n",
       "       'Northern Leaf Blight', 'Cercospora Leaf Spot',\n",
       "       'Northern Leaf Blight', 'Common Rust', 'Northern Leaf Blight',\n",
       "       'Cercospora Leaf Spot', 'Northern Leaf Blight', 'Healthy',\n",
       "       'Common Rust', 'Healthy', 'Healthy', 'Cercospora Leaf Spot',\n",
       "       'Cercospora Leaf Spot', 'Common Rust', 'Healthy', 'Healthy',\n",
       "       'Common Rust', 'Common Rust', 'Healthy', 'Healthy', 'Healthy',\n",
       "       'Northern Leaf Blight', 'Cercospora Leaf Spot', 'Common Rust',\n",
       "       'Common Rust', 'Healthy', 'Northern Leaf Blight', 'Healthy',\n",
       "       'Cercospora Leaf Spot', 'Northern Leaf Blight',\n",
       "       'Cercospora Leaf Spot', 'Cercospora Leaf Spot', 'Healthy',\n",
       "       'Common Rust', 'Cercospora Leaf Spot', 'Cercospora Leaf Spot',\n",
       "       'Northern Leaf Blight', 'Northern Leaf Blight', 'Healthy',\n",
       "       'Healthy', 'Healthy', 'Cercospora Leaf Spot', 'Common Rust',\n",
       "       'Healthy', 'Healthy', 'Northern Leaf Blight', 'Healthy', 'Healthy',\n",
       "       'Northern Leaf Blight', 'Cercospora Leaf Spot', 'Healthy',\n",
       "       'Healthy', 'Healthy', 'Cercospora Leaf Spot', 'Common Rust',\n",
       "       'Common Rust', 'Northern Leaf Blight', 'Healthy', 'Common Rust',\n",
       "       'Northern Leaf Blight', 'Northern Leaf Blight', 'Common Rust',\n",
       "       'Cercospora Leaf Spot', 'Healthy', 'Cercospora Leaf Spot',\n",
       "       'Healthy', 'Common Rust', 'Cercospora Leaf Spot', 'Healthy',\n",
       "       'Cercospora Leaf Spot', 'Cercospora Leaf Spot', 'Common Rust',\n",
       "       'Northern Leaf Blight', 'Common Rust', 'Northern Leaf Blight',\n",
       "       'Healthy', 'Common Rust', 'Cercospora Leaf Spot', 'Common Rust',\n",
       "       'Healthy', 'Northern Leaf Blight', 'Cercospora Leaf Spot',\n",
       "       'Northern Leaf Blight', 'Cercospora Leaf Spot',\n",
       "       'Northern Leaf Blight', 'Healthy', 'Healthy', 'Common Rust',\n",
       "       'Cercospora Leaf Spot', 'Healthy', 'Northern Leaf Blight',\n",
       "       'Cercospora Leaf Spot', 'Healthy', 'Healthy', 'Common Rust',\n",
       "       'Northern Leaf Blight', 'Common Rust', 'Cercospora Leaf Spot',\n",
       "       'Northern Leaf Blight', 'Common Rust', 'Healthy', 'Healthy',\n",
       "       'Cercospora Leaf Spot', 'Cercospora Leaf Spot', 'Healthy',\n",
       "       'Healthy', 'Northern Leaf Blight', 'Northern Leaf Blight',\n",
       "       'Cercospora Leaf Spot', 'Northern Leaf Blight', 'Healthy',\n",
       "       'Common Rust', 'Cercospora Leaf Spot', 'Healthy',\n",
       "       'Cercospora Leaf Spot', 'Common Rust', 'Common Rust',\n",
       "       'Common Rust', 'Cercospora Leaf Spot', 'Healthy', 'Common Rust',\n",
       "       'Cercospora Leaf Spot', 'Common Rust', 'Cercospora Leaf Spot',\n",
       "       'Cercospora Leaf Spot', 'Cercospora Leaf Spot', 'Healthy',\n",
       "       'Cercospora Leaf Spot', 'Healthy', 'Common Rust',\n",
       "       'Northern Leaf Blight', 'Cercospora Leaf Spot',\n",
       "       'Cercospora Leaf Spot', 'Northern Leaf Blight', 'Common Rust',\n",
       "       'Common Rust', 'Common Rust', 'Northern Leaf Blight',\n",
       "       'Common Rust', 'Cercospora Leaf Spot', 'Northern Leaf Blight',\n",
       "       'Cercospora Leaf Spot', 'Northern Leaf Blight',\n",
       "       'Northern Leaf Blight', 'Cercospora Leaf Spot', 'Common Rust',\n",
       "       'Cercospora Leaf Spot', 'Healthy', 'Common Rust',\n",
       "       'Northern Leaf Blight', 'Cercospora Leaf Spot',\n",
       "       'Northern Leaf Blight', 'Healthy', 'Cercospora Leaf Spot',\n",
       "       'Northern Leaf Blight', 'Northern Leaf Blight',\n",
       "       'Northern Leaf Blight', 'Cercospora Leaf Spot', 'Healthy',\n",
       "       'Northern Leaf Blight', 'Common Rust', 'Northern Leaf Blight',\n",
       "       'Northern Leaf Blight', 'Northern Leaf Blight',\n",
       "       'Cercospora Leaf Spot', 'Northern Leaf Blight',\n",
       "       'Cercospora Leaf Spot', 'Healthy', 'Common Rust', 'Healthy',\n",
       "       'Common Rust', 'Northern Leaf Blight', 'Cercospora Leaf Spot',\n",
       "       'Northern Leaf Blight', 'Cercospora Leaf Spot',\n",
       "       'Cercospora Leaf Spot', 'Northern Leaf Blight', 'Common Rust',\n",
       "       'Common Rust', 'Northern Leaf Blight', 'Cercospora Leaf Spot',\n",
       "       'Healthy', 'Cercospora Leaf Spot', 'Northern Leaf Blight',\n",
       "       'Cercospora Leaf Spot', 'Common Rust', 'Cercospora Leaf Spot',\n",
       "       'Cercospora Leaf Spot', 'Healthy', 'Cercospora Leaf Spot',\n",
       "       'Cercospora Leaf Spot', 'Common Rust', 'Cercospora Leaf Spot',\n",
       "       'Cercospora Leaf Spot', 'Common Rust', 'Northern Leaf Blight',\n",
       "       'Common Rust', 'Northern Leaf Blight', 'Common Rust',\n",
       "       'Common Rust', 'Healthy', 'Common Rust', 'Northern Leaf Blight',\n",
       "       'Common Rust', 'Cercospora Leaf Spot', 'Cercospora Leaf Spot',\n",
       "       'Healthy', 'Cercospora Leaf Spot', 'Cercospora Leaf Spot',\n",
       "       'Common Rust', 'Healthy', 'Northern Leaf Blight', 'Common Rust',\n",
       "       'Cercospora Leaf Spot', 'Northern Leaf Blight', 'Common Rust',\n",
       "       'Healthy', 'Northern Leaf Blight', 'Northern Leaf Blight',\n",
       "       'Healthy', 'Northern Leaf Blight', 'Common Rust',\n",
       "       'Northern Leaf Blight', 'Cercospora Leaf Spot', 'Healthy',\n",
       "       'Common Rust', 'Healthy', 'Northern Leaf Blight',\n",
       "       'Cercospora Leaf Spot', 'Cercospora Leaf Spot',\n",
       "       'Northern Leaf Blight', 'Healthy', 'Healthy', 'Healthy',\n",
       "       'Northern Leaf Blight', 'Northern Leaf Blight', 'Common Rust',\n",
       "       'Healthy', 'Healthy', 'Healthy', 'Cercospora Leaf Spot',\n",
       "       'Northern Leaf Blight', 'Cercospora Leaf Spot',\n",
       "       'Northern Leaf Blight', 'Cercospora Leaf Spot',\n",
       "       'Northern Leaf Blight', 'Common Rust', 'Healthy',\n",
       "       'Cercospora Leaf Spot', 'Cercospora Leaf Spot',\n",
       "       'Northern Leaf Blight', 'Northern Leaf Blight',\n",
       "       'Northern Leaf Blight', 'Cercospora Leaf Spot',\n",
       "       'Cercospora Leaf Spot', 'Healthy', 'Cercospora Leaf Spot',\n",
       "       'Northern Leaf Blight', 'Northern Leaf Blight', 'Healthy',\n",
       "       'Northern Leaf Blight', 'Healthy', 'Cercospora Leaf Spot',\n",
       "       'Cercospora Leaf Spot', 'Northern Leaf Blight', 'Healthy',\n",
       "       'Cercospora Leaf Spot', 'Common Rust', 'Common Rust',\n",
       "       'Common Rust', 'Common Rust', 'Cercospora Leaf Spot', 'Healthy',\n",
       "       'Common Rust', 'Cercospora Leaf Spot', 'Healthy', 'Common Rust',\n",
       "       'Healthy', 'Healthy', 'Common Rust', 'Healthy',\n",
       "       'Northern Leaf Blight', 'Cercospora Leaf Spot',\n",
       "       'Northern Leaf Blight', 'Common Rust', 'Cercospora Leaf Spot',\n",
       "       'Northern Leaf Blight', 'Healthy', 'Northern Leaf Blight',\n",
       "       'Common Rust', 'Northern Leaf Blight', 'Cercospora Leaf Spot',\n",
       "       'Healthy', 'Northern Leaf Blight', 'Northern Leaf Blight',\n",
       "       'Healthy', 'Common Rust', 'Common Rust', 'Common Rust',\n",
       "       'Northern Leaf Blight', 'Northern Leaf Blight', 'Common Rust',\n",
       "       'Healthy', 'Common Rust', 'Northern Leaf Blight', 'Common Rust',\n",
       "       'Common Rust', 'Healthy', 'Healthy', 'Cercospora Leaf Spot',\n",
       "       'Cercospora Leaf Spot', 'Healthy', 'Healthy',\n",
       "       'Cercospora Leaf Spot', 'Healthy', 'Healthy',\n",
       "       'Cercospora Leaf Spot', 'Northern Leaf Blight', 'Common Rust',\n",
       "       'Northern Leaf Blight', 'Healthy', 'Northern Leaf Blight',\n",
       "       'Cercospora Leaf Spot', 'Healthy', 'Cercospora Leaf Spot',\n",
       "       'Northern Leaf Blight', 'Cercospora Leaf Spot',\n",
       "       'Northern Leaf Blight', 'Healthy', 'Common Rust', 'Common Rust',\n",
       "       'Common Rust', 'Healthy', 'Common Rust', 'Common Rust',\n",
       "       'Cercospora Leaf Spot', 'Common Rust', 'Northern Leaf Blight',\n",
       "       'Common Rust', 'Cercospora Leaf Spot', 'Healthy',\n",
       "       'Cercospora Leaf Spot', 'Common Rust', 'Common Rust',\n",
       "       'Northern Leaf Blight', 'Cercospora Leaf Spot',\n",
       "       'Cercospora Leaf Spot', 'Cercospora Leaf Spot',\n",
       "       'Cercospora Leaf Spot', 'Healthy', 'Cercospora Leaf Spot',\n",
       "       'Cercospora Leaf Spot', 'Common Rust', 'Cercospora Leaf Spot',\n",
       "       'Healthy', 'Cercospora Leaf Spot', 'Common Rust',\n",
       "       'Northern Leaf Blight', 'Northern Leaf Blight', 'Common Rust',\n",
       "       'Common Rust', 'Healthy', 'Cercospora Leaf Spot', 'Healthy',\n",
       "       'Common Rust', 'Common Rust', 'Cercospora Leaf Spot', 'Healthy',\n",
       "       'Healthy', 'Cercospora Leaf Spot', 'Northern Leaf Blight',\n",
       "       'Common Rust', 'Common Rust', 'Healthy', 'Healthy',\n",
       "       'Northern Leaf Blight', 'Northern Leaf Blight', 'Common Rust',\n",
       "       'Healthy', 'Northern Leaf Blight', 'Healthy', 'Healthy',\n",
       "       'Northern Leaf Blight', 'Northern Leaf Blight', 'Healthy',\n",
       "       'Cercospora Leaf Spot', 'Common Rust', 'Healthy',\n",
       "       'Cercospora Leaf Spot', 'Northern Leaf Blight',\n",
       "       'Northern Leaf Blight', 'Common Rust', 'Healthy',\n",
       "       'Cercospora Leaf Spot', 'Northern Leaf Blight',\n",
       "       'Cercospora Leaf Spot', 'Healthy', 'Common Rust', 'Common Rust',\n",
       "       'Healthy', 'Healthy', 'Cercospora Leaf Spot', 'Common Rust',\n",
       "       'Healthy', 'Common Rust', 'Common Rust', 'Common Rust',\n",
       "       'Common Rust', 'Cercospora Leaf Spot', 'Northern Leaf Blight',\n",
       "       'Northern Leaf Blight', 'Cercospora Leaf Spot',\n",
       "       'Northern Leaf Blight', 'Common Rust', 'Common Rust',\n",
       "       'Common Rust', 'Healthy', 'Common Rust', 'Cercospora Leaf Spot',\n",
       "       'Northern Leaf Blight', 'Northern Leaf Blight', 'Common Rust',\n",
       "       'Common Rust', 'Cercospora Leaf Spot', 'Healthy',\n",
       "       'Cercospora Leaf Spot', 'Common Rust', 'Healthy', 'Healthy',\n",
       "       'Cercospora Leaf Spot', 'Common Rust', 'Healthy', 'Common Rust',\n",
       "       'Common Rust', 'Healthy', 'Northern Leaf Blight',\n",
       "       'Cercospora Leaf Spot', 'Common Rust', 'Healthy',\n",
       "       'Cercospora Leaf Spot', 'Common Rust', 'Common Rust',\n",
       "       'Cercospora Leaf Spot', 'Northern Leaf Blight',\n",
       "       'Cercospora Leaf Spot', 'Healthy', 'Common Rust', 'Common Rust',\n",
       "       'Northern Leaf Blight', 'Healthy', 'Northern Leaf Blight',\n",
       "       'Healthy', 'Healthy', 'Northern Leaf Blight', 'Common Rust',\n",
       "       'Cercospora Leaf Spot', 'Cercospora Leaf Spot',\n",
       "       'Northern Leaf Blight', 'Northern Leaf Blight', 'Healthy',\n",
       "       'Northern Leaf Blight', 'Common Rust', 'Northern Leaf Blight',\n",
       "       'Healthy', 'Northern Leaf Blight', 'Common Rust',\n",
       "       'Cercospora Leaf Spot', 'Northern Leaf Blight', 'Common Rust',\n",
       "       'Northern Leaf Blight', 'Common Rust', 'Common Rust',\n",
       "       'Cercospora Leaf Spot', 'Common Rust', 'Healthy', 'Healthy',\n",
       "       'Healthy', 'Northern Leaf Blight', 'Cercospora Leaf Spot',\n",
       "       'Cercospora Leaf Spot', 'Common Rust', 'Common Rust', 'Healthy',\n",
       "       'Northern Leaf Blight', 'Healthy', 'Healthy',\n",
       "       'Cercospora Leaf Spot', 'Cercospora Leaf Spot',\n",
       "       'Cercospora Leaf Spot', 'Cercospora Leaf Spot', 'Healthy',\n",
       "       'Cercospora Leaf Spot', 'Cercospora Leaf Spot', 'Common Rust',\n",
       "       'Northern Leaf Blight', 'Healthy', 'Healthy',\n",
       "       'Cercospora Leaf Spot', 'Northern Leaf Blight',\n",
       "       'Northern Leaf Blight', 'Northern Leaf Blight', 'Common Rust',\n",
       "       'Healthy', 'Common Rust', 'Northern Leaf Blight',\n",
       "       'Northern Leaf Blight', 'Cercospora Leaf Spot', 'Common Rust',\n",
       "       'Healthy', 'Northern Leaf Blight', 'Common Rust', 'Healthy',\n",
       "       'Common Rust', 'Northern Leaf Blight', 'Common Rust',\n",
       "       'Common Rust', 'Cercospora Leaf Spot', 'Common Rust',\n",
       "       'Common Rust', 'Healthy', 'Healthy', 'Cercospora Leaf Spot',\n",
       "       'Healthy', 'Common Rust', 'Northern Leaf Blight', 'Healthy',\n",
       "       'Healthy', 'Common Rust', 'Healthy', 'Healthy',\n",
       "       'Northern Leaf Blight', 'Northern Leaf Blight', 'Healthy',\n",
       "       'Northern Leaf Blight', 'Cercospora Leaf Spot',\n",
       "       'Northern Leaf Blight', 'Northern Leaf Blight',\n",
       "       'Northern Leaf Blight', 'Common Rust', 'Northern Leaf Blight',\n",
       "       'Common Rust', 'Common Rust', 'Healthy', 'Cercospora Leaf Spot',\n",
       "       'Healthy', 'Healthy', 'Common Rust', 'Northern Leaf Blight',\n",
       "       'Northern Leaf Blight', 'Northern Leaf Blight',\n",
       "       'Cercospora Leaf Spot', 'Healthy', 'Northern Leaf Blight',\n",
       "       'Cercospora Leaf Spot', 'Cercospora Leaf Spot',\n",
       "       'Cercospora Leaf Spot', 'Common Rust', 'Common Rust',\n",
       "       'Northern Leaf Blight', 'Cercospora Leaf Spot', 'Healthy',\n",
       "       'Common Rust', 'Common Rust', 'Northern Leaf Blight', 'Healthy',\n",
       "       'Healthy', 'Northern Leaf Blight', 'Healthy', 'Healthy',\n",
       "       'Common Rust', 'Healthy', 'Healthy', 'Cercospora Leaf Spot',\n",
       "       'Cercospora Leaf Spot', 'Northern Leaf Blight',\n",
       "       'Northern Leaf Blight', 'Cercospora Leaf Spot', 'Healthy',\n",
       "       'Cercospora Leaf Spot', 'Cercospora Leaf Spot', 'Healthy',\n",
       "       'Northern Leaf Blight', 'Cercospora Leaf Spot',\n",
       "       'Northern Leaf Blight', 'Common Rust', 'Northern Leaf Blight',\n",
       "       'Common Rust', 'Cercospora Leaf Spot', 'Cercospora Leaf Spot',\n",
       "       'Healthy', 'Common Rust', 'Northern Leaf Blight', 'Common Rust',\n",
       "       'Northern Leaf Blight', 'Cercospora Leaf Spot', 'Healthy',\n",
       "       'Cercospora Leaf Spot', 'Northern Leaf Blight', 'Healthy',\n",
       "       'Northern Leaf Blight', 'Northern Leaf Blight',\n",
       "       'Northern Leaf Blight', 'Northern Leaf Blight',\n",
       "       'Cercospora Leaf Spot', 'Cercospora Leaf Spot', 'Common Rust',\n",
       "       'Healthy', 'Cercospora Leaf Spot', 'Cercospora Leaf Spot',\n",
       "       'Common Rust', 'Common Rust', 'Common Rust', 'Common Rust',\n",
       "       'Common Rust', 'Cercospora Leaf Spot', 'Healthy',\n",
       "       'Northern Leaf Blight', 'Healthy', 'Healthy', 'Healthy',\n",
       "       'Northern Leaf Blight', 'Healthy', 'Common Rust', 'Healthy',\n",
       "       'Common Rust', 'Cercospora Leaf Spot', 'Common Rust', 'Healthy',\n",
       "       'Healthy', 'Common Rust', 'Healthy', 'Healthy',\n",
       "       'Cercospora Leaf Spot', 'Common Rust', 'Healthy',\n",
       "       'Northern Leaf Blight', 'Common Rust', 'Common Rust',\n",
       "       'Northern Leaf Blight', 'Healthy', 'Common Rust',\n",
       "       'Northern Leaf Blight', 'Healthy', 'Cercospora Leaf Spot',\n",
       "       'Common Rust', 'Northern Leaf Blight', 'Healthy',\n",
       "       'Northern Leaf Blight', 'Common Rust', 'Common Rust', 'Healthy',\n",
       "       'Northern Leaf Blight', 'Common Rust', 'Healthy',\n",
       "       'Northern Leaf Blight', 'Common Rust', 'Northern Leaf Blight',\n",
       "       'Healthy', 'Cercospora Leaf Spot', 'Cercospora Leaf Spot',\n",
       "       'Cercospora Leaf Spot', 'Cercospora Leaf Spot', 'Healthy',\n",
       "       'Cercospora Leaf Spot', 'Cercospora Leaf Spot',\n",
       "       'Cercospora Leaf Spot', 'Northern Leaf Blight', 'Healthy',\n",
       "       'Common Rust', 'Cercospora Leaf Spot', 'Northern Leaf Blight',\n",
       "       'Common Rust', 'Common Rust', 'Healthy', 'Common Rust',\n",
       "       'Common Rust', 'Cercospora Leaf Spot', 'Northern Leaf Blight',\n",
       "       'Common Rust', 'Healthy', 'Northern Leaf Blight', 'Healthy',\n",
       "       'Northern Leaf Blight', 'Common Rust', 'Healthy',\n",
       "       'Cercospora Leaf Spot', 'Common Rust', 'Healthy',\n",
       "       'Cercospora Leaf Spot', 'Common Rust', 'Healthy',\n",
       "       'Cercospora Leaf Spot', 'Common Rust', 'Common Rust',\n",
       "       'Northern Leaf Blight', 'Common Rust', 'Northern Leaf Blight',\n",
       "       'Cercospora Leaf Spot', 'Healthy', 'Common Rust', 'Common Rust',\n",
       "       'Cercospora Leaf Spot', 'Northern Leaf Blight',\n",
       "       'Northern Leaf Blight', 'Common Rust', 'Common Rust',\n",
       "       'Northern Leaf Blight', 'Common Rust', 'Cercospora Leaf Spot',\n",
       "       'Common Rust', 'Cercospora Leaf Spot', 'Common Rust',\n",
       "       'Northern Leaf Blight', 'Common Rust', 'Cercospora Leaf Spot',\n",
       "       'Common Rust', 'Northern Leaf Blight', 'Healthy',\n",
       "       'Northern Leaf Blight', 'Cercospora Leaf Spot',\n",
       "       'Cercospora Leaf Spot', 'Common Rust', 'Northern Leaf Blight',\n",
       "       'Cercospora Leaf Spot', 'Common Rust', 'Northern Leaf Blight'],\n",
       "      dtype=object)"
      ]
     },
     "execution_count": 51,
     "metadata": {},
     "output_type": "execute_result"
    }
   ],
   "source": [
    "y_test"
   ]
  },
  {
   "cell_type": "code",
   "execution_count": 52,
   "metadata": {},
   "outputs": [
    {
     "name": "stdout",
     "output_type": "stream",
     "text": [
      "Number of Training Data: 3814\n",
      "Number of Testing Data: 954\n"
     ]
    }
   ],
   "source": [
    "print(\"Number of Training Data:\", len(y_train))\n",
    "print(\"Number of Testing Data:\", len(y_test))"
   ]
  },
  {
   "cell_type": "code",
   "execution_count": 53,
   "metadata": {
    "colab": {
     "base_uri": "https://localhost:8080/"
    },
    "id": "887u3OPDuDPq",
    "outputId": "8896949b-55b4-422a-e40c-bc7f5558adda"
   },
   "outputs": [
    {
     "data": {
      "text/plain": [
       "array([[181,   2,   0,  57],\n",
       "       [  1, 244,   1,   0],\n",
       "       [  1,   0, 240,   0],\n",
       "       [ 42,   2,   1, 182]], dtype=int64)"
      ]
     },
     "execution_count": 53,
     "metadata": {},
     "output_type": "execute_result"
    }
   ],
   "source": [
    "from sklearn.metrics import confusion_matrix\n",
    "confusion_matrix(y_test,y_pred)"
   ]
  },
  {
   "cell_type": "code",
   "execution_count": 54,
   "metadata": {
    "colab": {
     "base_uri": "https://localhost:8080/"
    },
    "id": "rz7_6ObeuFGW",
    "outputId": "34ccfc1a-691f-41e8-9afd-470734e2256c"
   },
   "outputs": [
    {
     "data": {
      "text/plain": [
       "0.8878406708595388"
      ]
     },
     "execution_count": 54,
     "metadata": {},
     "output_type": "execute_result"
    }
   ],
   "source": [
    "from sklearn.metrics import accuracy_score\n",
    "accuracy_score(y_test,y_pred)"
   ]
  },
  {
   "cell_type": "markdown",
   "metadata": {},
   "source": [
    "### Testing Models"
   ]
  },
  {
   "cell_type": "code",
   "execution_count": 75,
   "metadata": {},
   "outputs": [
    {
     "name": "stdout",
     "output_type": "stream",
     "text": [
      "FEATURES       area    perimeter physiological_length physiological_width  \\\n",
      "0  55969.0  1004.225396                  256                 256   \n",
      "\n",
      "   aspect_ratio      mean_r      mean_g     mean_b   stddev_r   stddev_g  ...  \\\n",
      "0           1.0  116.466217  118.686493  98.196548  29.424495  25.288295  ...   \n",
      "\n",
      "   eccentricity  solidity  equiv_diameter  major_axis_length  \\\n",
      "0      0.560161  0.819053      248.781378         320.956273   \n",
      "\n",
      "   minor_axis_length  skewness  kurtosis  hog_feature_1  hog_feature_2  \\\n",
      "0         265.874886  0.178179 -0.323515       0.445656       0.066757   \n",
      "\n",
      "   hog_feature_3  \n",
      "0       0.362304  \n",
      "\n",
      "[1 rows x 26 columns]\n",
      "PCA [[ 2.36489445e+04 -2.04861882e+02  1.33158474e+02 -3.04943885e+01\n",
      "  -1.42652601e+01 -8.75105037e+00  1.33680917e+01  6.17906372e+00\n",
      "  -8.96621698e+00 -1.92774509e+01 -5.67097939e+00 -6.53075576e+00\n",
      "  -1.96274116e+00 -2.28955840e+00]]\n",
      "SCALED [[ 1.04651908 -0.59991872  0.53447494 -0.26868599 -0.32429683 -0.24423328\n",
      "   0.4466665   0.35345903 -0.51303029 -1.35869804 -0.60589355 -0.70285199\n",
      "  -0.43391622 -0.99114064]]\n",
      "RESULTS ['Cercospora Leaf Spot']\n"
     ]
    }
   ],
   "source": [
    "main_img = cv2.imread('dataset/images/Cercospora Leaf Spot/00a20f6f-e8bd-4453-9e25-36ea70feb626___RS_GLSp 4655.jpg')\n",
    "\n",
    "names = ['area', 'perimeter', 'physiological_length', 'physiological_width', 'aspect_ratio',\n",
    "             'mean_r', 'mean_g', 'mean_b', 'stddev_r', 'stddev_g', 'stddev_b',\n",
    "             'contrast', 'energy', 'homogeneity', 'correlation', 'dissimilarity',\n",
    "             'eccentricity', 'solidity', 'equiv_diameter', 'major_axis_length', 'minor_axis_length',\n",
    "             'skewness', 'kurtosis', 'hog_feature_1', 'hog_feature_2', 'hog_feature_3'\n",
    "            ]\n",
    "df = pd.DataFrame(columns=names)\n",
    "\n",
    "# Preprocessing\n",
    "img = cv2.cvtColor(main_img, cv2.COLOR_BGR2RGB)\n",
    "gs = cv2.cvtColor(img, cv2.COLOR_RGB2GRAY)\n",
    "blur = cv2.GaussianBlur(gs, (25, 25), 0)\n",
    "ret, thresh = cv2.threshold(blur, 0, 255, cv2.THRESH_BINARY_INV + cv2.THRESH_OTSU)\n",
    "kernel = np.ones((50, 50), np.uint8)\n",
    "closing = cv2.morphologyEx(thresh, cv2.MORPH_CLOSE, kernel)\n",
    "\n",
    "# Shape features\n",
    "contours, _ = cv2.findContours(closing, cv2.RETR_TREE, cv2.CHAIN_APPROX_SIMPLE)\n",
    "cnt = contours[0]\n",
    "area = cv2.contourArea(cnt)\n",
    "perimeter = cv2.arcLength(cnt, True)\n",
    "x, y, w, h = cv2.boundingRect(cnt)\n",
    "aspect_ratio = float(w) / h\n",
    "\n",
    "# Color features\n",
    "red_channel = img[:, :, 0]\n",
    "green_channel = img[:, :, 1]\n",
    "blue_channel = img[:, :, 2]\n",
    "\n",
    "red_mean = np.mean(red_channel)\n",
    "green_mean = np.mean(green_channel)\n",
    "blue_mean = np.mean(blue_channel)\n",
    "\n",
    "# Std deviation\n",
    "red_std = np.std(red_channel)\n",
    "green_std = np.std(green_channel)\n",
    "blue_std = np.std(blue_channel)\n",
    "\n",
    "# Texture features using GLCM matrix\n",
    "glcm = graycomatrix(gs,\n",
    "                distances=[1],\n",
    "                angles=[0],\n",
    "                symmetric=True,\n",
    "                normed=True)\n",
    "\n",
    "properties = ['contrast', 'energy', 'homogeneity', 'correlation', 'dissimilarity']\n",
    "contrast = graycoprops(glcm, properties[0])\n",
    "energy = graycoprops(glcm, properties[1])\n",
    "homogeneity = graycoprops(glcm, properties[2])\n",
    "correlation = graycoprops(glcm, properties[3])\n",
    "dissimilarity = graycoprops(glcm, properties[4])\n",
    "\n",
    "# Statistical moments\n",
    "skewness = stats.skew(gs.flatten())\n",
    "kurtosis = stats.kurtosis(gs.flatten())\n",
    "\n",
    "# Additional features\n",
    "labeled_img = label(closing)\n",
    "regions = regionprops(labeled_img)\n",
    "\n",
    "eccentricity = regions[0].eccentricity\n",
    "solidity = regions[0].solidity\n",
    "equiv_diameter = regions[0].equivalent_diameter\n",
    "major_axis_length = regions[0].major_axis_length\n",
    "minor_axis_length = regions[0].minor_axis_length\n",
    "\n",
    "# HOG features\n",
    "hog_features = hog(gs, orientations=8, pixels_per_cell=(8, 8), cells_per_block=(1, 1), block_norm='L2-Hys')\n",
    "\n",
    "vector = [area, perimeter, w, h, aspect_ratio,\n",
    "        red_mean, green_mean, blue_mean, red_std, green_std, blue_std,\n",
    "        contrast[0][0], energy[0][0], homogeneity[0][0], correlation[0][0], dissimilarity[0][0],\n",
    "        eccentricity, solidity, equiv_diameter, major_axis_length, minor_axis_length,\n",
    "        skewness, kurtosis, hog_features[0], hog_features[1], hog_features[2]]\n",
    "\n",
    "df_temp = pd.DataFrame([vector], columns=names)\n",
    "df = pd.concat([df, df_temp], ignore_index=True)\n",
    "\n",
    "pca_model = joblib.load('models/pca/Corn_pca_model.pkl')\n",
    "pca = pca_model.transform(df)\n",
    "\n",
    "scaler_model = joblib.load('models/scalers/Corn_scaler_model.pkl')\n",
    "scaled = scaler_model.transform(pca)\n",
    "\n",
    "classifier_model = joblib.load('models/classifiers/Corn_classifier_model.pkl')\n",
    "results = classifier_model.predict(scaled)\n",
    "\n",
    "print('FEATURES', df)\n",
    "print('PCA', pca)\n",
    "print('SCALED', scaled)\n",
    "print('RESULTS', results)"
   ]
  },
  {
   "cell_type": "markdown",
   "metadata": {
    "id": "h7W-Z2du6Isj"
   },
   "source": [
    "### Checking"
   ]
  },
  {
   "cell_type": "code",
   "execution_count": 76,
   "metadata": {
    "colab": {
     "base_uri": "https://localhost:8080/",
     "height": 872
    },
    "id": "Mi36sen15YST",
    "outputId": "7c6cb7e0-e508-4e29-f00a-9d2f1fc852b1"
   },
   "outputs": [
    {
     "data": {
      "image/png": "[encoded data removed]",
      "text/plain": [
       "<Figure size 1000x1000 with 2 Axes>"
      ]
     },
     "metadata": {},
     "output_type": "display_data"
    }
   ],
   "source": [
    "from sklearn.metrics import confusion_matrix\n",
    "import seaborn as sns\n",
    "import matplotlib.pyplot as plt\n",
    "\n",
    "# Assuming 'y_test' contains the true labels and 'y_pred' contains the predicted labels\n",
    "conf_mat = confusion_matrix(y_test, y_pred, labels=data['types'].unique())\n",
    "\n",
    "# Create the heatmap\n",
    "fig, ax = plt.subplots(figsize=(10, 10))\n",
    "sns.heatmap(conf_mat, annot=True, fmt='d',\n",
    "            xticklabels=data['types'].unique(),\n",
    "            yticklabels=data['types'].unique())\n",
    "plt.ylabel('Actual')\n",
    "plt.xlabel('Predicted')\n",
    "plt.title(\"Confusion Matrix - Linear SVC\")\n",
    "plt.show()"
   ]
  },
  {
   "cell_type": "code",
   "execution_count": 77,
   "metadata": {
    "colab": {
     "base_uri": "https://localhost:8080/"
    },
    "id": "J8xrBjBr5c65",
    "outputId": "d44d24c2-c2b7-4dd4-b2bf-3642ba08236a"
   },
   "outputs": [
    {
     "name": "stdout",
     "output_type": "stream",
     "text": [
      "Class Cercospora Leaf Spot - Precision: 0.8044444444444444 \n",
      "\t\t  Recall: 0.7541666666666667 \n",
      "\t\t  F1-Score: 0.7784946236559139\n",
      "\n",
      "Class Common Rust - Precision: 0.9838709677419355 \n",
      "\t\t  Recall: 0.991869918699187 \n",
      "\t\t  F1-Score: 0.9878542510121457\n",
      "\n",
      "Class Healthy - Precision: 0.9917355371900827 \n",
      "\t\t  Recall: 0.995850622406639 \n",
      "\t\t  F1-Score: 0.9937888198757764\n",
      "\n",
      "Class Northern Leaf Blight - Precision: 0.7615062761506276 \n",
      "\t\t  Recall: 0.801762114537445 \n",
      "\t\t  F1-Score: 0.7811158798283263\n",
      "\n"
     ]
    }
   ],
   "source": [
    "from sklearn.metrics import precision_score, recall_score, f1_score\n",
    "\n",
    "# Assuming you have true labels (y_true) and predicted labels (y_pred)\n",
    "y_true = y_test\n",
    "y_pred = y_pred\n",
    "\n",
    "data=pd.read_csv(\"dataset/csv/image_features.csv\")\n",
    "types = data[\"types\"]\n",
    "types_labels = types.unique()\n",
    "\n",
    "# Compute precision, recall, and F1-score for each class\n",
    "classes =  types_labels\n",
    "\n",
    "precision = precision_score(y_true, y_pred, labels=classes, average=None, zero_division=0)\n",
    "recall = recall_score(y_true, y_pred, labels=classes, average=None, zero_division=0)\n",
    "f1 = f1_score(y_true, y_pred, labels=classes, average=None, zero_division=0)\n",
    "\n",
    "# Display the results for each class\n",
    "for class_label, p, r, f in zip(classes, precision, recall, f1):\n",
    "    print(f\"Class {class_label} - Precision: {p} \\n\\t\\t  Recall: {r} \\n\\t\\t  F1-Score: {f}\\n\")"
   ]
  },
  {
   "cell_type": "markdown",
   "metadata": {
    "id": "x97tmcSQ_dZ9"
   },
   "source": [
    "## Grid Search"
   ]
  },
  {
   "cell_type": "code",
   "execution_count": null,
   "metadata": {
    "colab": {
     "base_uri": "https://localhost:8080/"
    },
    "id": "koXHWanJgnRK",
    "outputId": "6720261e-a020-49ee-a4b6-3321eec98ecc"
   },
   "outputs": [],
   "source": [
    "import threading\n",
    "from sklearn.model_selection import GridSearchCV\n",
    "from sklearn.svm import SVC\n",
    "import pandas as pd\n",
    "\n",
    "# Define the parameter grid to search\n",
    "param_grid = {\n",
    "    'C': [0.1, 1, 10, 100],  # Regularization parameter\n",
    "    'kernel': ['linear', 'rbf', 'poly', 'sigmoid'],  # Kernel types\n",
    "    'gamma': ['scale', 'auto'] + [0.001, 0.01, 0.1, 1, 10]  # Kernel coefficient (only for 'rbf', 'poly', 'sigmoid')\n",
    "}\n",
    "\n",
    "# Create an SVM model\n",
    "svm = SVC()\n",
    "\n",
    "# Create a GridSearchCV object with the SVM model and parameter grid\n",
    "grid_search = GridSearchCV(svm, param_grid, cv=5, scoring='accuracy')\n",
    "\n",
    "# Initialize a variable to keep track of the number of combinations\n",
    "total_combinations = len(param_grid['C']) * len(param_grid['kernel']) * len(param_grid['gamma'])\n",
    "combination_count = 0\n",
    "\n",
    "# Create an empty list to store the results\n",
    "results = []\n",
    "\n",
    "# Lock for thread synchronization\n",
    "results_lock = threading.Lock()\n",
    "\n",
    "# Function to train the SVM model with a timeout\n",
    "def train_svm_with_timeout(C, kernel, gamma, result_flag):\n",
    "    try:\n",
    "        svm = SVC(C=C, kernel=kernel, gamma=gamma)\n",
    "        svm.fit(x_train, y_train)\n",
    "        y_pred = svm.predict(x_test)  # Predict on the test data\n",
    "        accuracy = (y_pred == y_test).mean()  # Calculate accuracy\n",
    "        with results_lock:\n",
    "            results.append([C, kernel, gamma, accuracy])\n",
    "        result_flag[0] = True\n",
    "    except Exception as e:\n",
    "        result_flag[0] = False\n",
    "\n",
    "# Fit the grid search to your training data\n",
    "for C in param_grid['C']:\n",
    "    for kernel in param_grid['kernel']:\n",
    "        for gamma in param_grid['gamma']:\n",
    "            combination_count += 1\n",
    "            print(f\"Combination {combination_count}/{total_combinations}: C={C}, kernel={kernel}, gamma={gamma}\")\n",
    "\n",
    "            result_flag = [False]\n",
    "\n",
    "            t = threading.Thread(target=train_svm_with_timeout, args=(C, kernel, gamma, result_flag))\n",
    "            t.start()\n",
    "            t.join(timeout=300)  # Adjust the timeout value as needed\n",
    "\n",
    "            if result_flag[0]:\n",
    "                print(\"Accuracy on test data: \", results[-1][-1])\n",
    "            else:\n",
    "                print(\"Training took too long or encountered an error. Skipping to the next combination.\")\n",
    "\n",
    "# Create a DataFrame from the results\n",
    "result_df = pd.DataFrame(results, columns=[\"C\", \"Kernel\", \"Gamma\", \"Accuracy\"])\n",
    "\n",
    "# Save the DataFrame to a CSV file\n",
    "output_csv = r\"dataset/csv/grid_search_results.csv\"\n",
    "result_df.to_csv(output_csv, index=False)"
   ]
  },
  {
   "cell_type": "markdown",
   "metadata": {
    "id": "O2GDDPFhXbe1"
   },
   "source": [
    "### Grid Search Training"
   ]
  },
  {
   "cell_type": "code",
   "execution_count": null,
   "metadata": {
    "id": "c9oUYBQqWuxJ"
   },
   "outputs": [],
   "source": [
    "import pandas as pd\n",
    "grid_df=pd.read_csv(\"dataset/csv/grid_search_results.csv\")"
   ]
  },
  {
   "cell_type": "code",
   "execution_count": null,
   "metadata": {},
   "outputs": [],
   "source": [
    "len(grid_df)"
   ]
  },
  {
   "cell_type": "code",
   "execution_count": null,
   "metadata": {
    "colab": {
     "base_uri": "https://localhost:8080/",
     "height": 206
    },
    "id": "O-_moD9EBSl4",
    "outputId": "d75a87ef-6407-48d6-eae1-abc2e99d3e18"
   },
   "outputs": [],
   "source": [
    "grid_df.head()"
   ]
  },
  {
   "cell_type": "code",
   "execution_count": null,
   "metadata": {
    "colab": {
     "base_uri": "https://localhost:8080/"
    },
    "id": "-poYVx5PGsOv",
    "outputId": "bb3545f0-cac1-4e5e-ce6c-82f5566f1e36"
   },
   "outputs": [],
   "source": [
    "# Find the index of the row with the highest accuracy\n",
    "max_accuracy_index = grid_df['Accuracy'].idxmax()\n",
    "\n",
    "# Get the row with the highest accuracy\n",
    "row_with_highest_accuracy = grid_df.loc[max_accuracy_index]\n",
    "\n",
    "print(row_with_highest_accuracy)"
   ]
  },
  {
   "cell_type": "code",
   "execution_count": null,
   "metadata": {},
   "outputs": [],
   "source": [
    "for column, value in row_with_highest_accuracy.items():\n",
    "    data_types = type(value)\n",
    "    print(f\"{column}: {data_types}\")"
   ]
  },
  {
   "cell_type": "code",
   "execution_count": null,
   "metadata": {},
   "outputs": [],
   "source": [
    "# Find the index of the row with the highest accuracy\n",
    "max_accuracy_index = grid_df['Accuracy'].idxmax()\n",
    "\n",
    "# Replace the values in the row with specific values\n",
    "grid_df.loc[max_accuracy_index] = {'C': 100.0, 'Kernel': 'rbf', 'Gamma': 1, 'Accuracy': 0.68}\n",
    "\n",
    "# Print the modified row\n",
    "print(grid_df.loc[max_accuracy_index])"
   ]
  },
  {
   "cell_type": "code",
   "execution_count": null,
   "metadata": {},
   "outputs": [],
   "source": [
    "row_with_highest_accuracy = grid_df.loc[max_accuracy_index]"
   ]
  },
  {
   "cell_type": "code",
   "execution_count": null,
   "metadata": {
    "id": "GvR5JjIWHVAA"
   },
   "outputs": [],
   "source": [
    "from sklearn.svm import SVC\n",
    "\n",
    "# Specify the parameters\n",
    "C = float(row_with_highest_accuracy.C)\n",
    "kernel = row_with_highest_accuracy.Kernel\n",
    "gamma_value = row_with_highest_accuracy.Gamma\n",
    "\n",
    "if isinstance(gamma_value, str):\n",
    "    gamma = gamma_value\n",
    "elif isinstance(gamma_value, (int,float)):\n",
    "    gamma = gamma_value\n",
    "else:\n",
    "    raise ValueError(\"Invalid gamma value\")\n",
    "\n",
    "# Create an SVC with the specified parameters\n",
    "svm = SVC(C=C, kernel=kernel, gamma=gamma)\n",
    "\n",
    "# Train the model on your training data\n",
    "train_grid = svm.fit(x_train, y_train)"
   ]
  },
  {
   "cell_type": "code",
   "execution_count": null,
   "metadata": {
    "colab": {
     "base_uri": "https://localhost:8080/",
     "height": 75
    },
    "id": "Kv5dXdpFHwKZ",
    "outputId": "2053eec0-fefd-4e22-f6e9-6551df1c577e"
   },
   "outputs": [],
   "source": [
    "train_grid"
   ]
  },
  {
   "cell_type": "code",
   "execution_count": null,
   "metadata": {},
   "outputs": [],
   "source": [
    "import joblib\n",
    "\n",
    "# Save the trained model to a file\n",
    "joblib.dump(train_grid, 'models/classifiers/Corn_classifier_model.pkl')"
   ]
  },
  {
   "cell_type": "code",
   "execution_count": null,
   "metadata": {
    "id": "6W9dE5PDH7dy"
   },
   "outputs": [],
   "source": [
    "y_pred=train_grid.predict(x_test)"
   ]
  },
  {
   "cell_type": "code",
   "execution_count": null,
   "metadata": {
    "colab": {
     "base_uri": "https://localhost:8080/"
    },
    "id": "mufW_xTlH82J",
    "outputId": "087f12b3-5f7c-440f-9aa1-f09a234c328c"
   },
   "outputs": [],
   "source": [
    "y_pred"
   ]
  },
  {
   "cell_type": "code",
   "execution_count": null,
   "metadata": {
    "colab": {
     "base_uri": "https://localhost:8080/"
    },
    "id": "L9cHncURIAob",
    "outputId": "ee4db70d-dde7-4eda-b8ed-266fdfdef23f"
   },
   "outputs": [],
   "source": [
    "y_test"
   ]
  },
  {
   "cell_type": "code",
   "execution_count": null,
   "metadata": {
    "colab": {
     "base_uri": "https://localhost:8080/"
    },
    "id": "7ZZvrYbEIB4d",
    "outputId": "377f879b-d690-49ad-d81a-4e8b3a9680b6"
   },
   "outputs": [],
   "source": [
    "from sklearn.metrics import accuracy_score\n",
    "accuracy_score(y_test,y_pred)"
   ]
  },
  {
   "cell_type": "markdown",
   "metadata": {
    "id": "X4iEOo5dXvx-"
   },
   "source": [
    "### Grid Search Checking"
   ]
  },
  {
   "cell_type": "code",
   "execution_count": null,
   "metadata": {
    "colab": {
     "base_uri": "https://localhost:8080/",
     "height": 872
    },
    "id": "KsR-naNCXJd1",
    "outputId": "5d0f9fca-62d2-4db3-f2f6-8d90213da193"
   },
   "outputs": [],
   "source": [
    "from sklearn.metrics import confusion_matrix\n",
    "import seaborn as sns\n",
    "import matplotlib.pyplot as plt\n",
    "\n",
    "# Assuming 'y_test' contains the true labels and 'y_pred' contains the predicted labels\n",
    "conf_mat = confusion_matrix(y_test, y_pred, labels=data['types'].unique())\n",
    "\n",
    "# Create the heatmap\n",
    "fig, ax = plt.subplots(figsize=(10, 10))\n",
    "sns.heatmap(conf_mat, annot=True, fmt='d',\n",
    "            xticklabels=data['types'].unique(),\n",
    "            yticklabels=data['types'].unique())\n",
    "plt.ylabel('Actual')\n",
    "plt.xlabel('Predicted')\n",
    "plt.title(\"Confusion Matrix - Linear SVC\")\n",
    "plt.show()"
   ]
  },
  {
   "cell_type": "code",
   "execution_count": null,
   "metadata": {
    "colab": {
     "base_uri": "https://localhost:8080/"
    },
    "id": "MAcFnPHGXu1E",
    "outputId": "48396ef1-fa30-4d15-bfe2-ccbbd18e42b0"
   },
   "outputs": [],
   "source": [
    "from sklearn.metrics import precision_score, recall_score, f1_score\n",
    "\n",
    "# Assuming you have true labels (y_true) and predicted labels (y_pred)\n",
    "y_true = y_test\n",
    "y_pred = y_pred\n",
    "\n",
    "data=pd.read_csv(\"dataset/csv/image_features.csv\")\n",
    "types = data[\"types\"]\n",
    "types_labels = types.unique()\n",
    "\n",
    "# Compute precision, recall, and F1-score for each class\n",
    "classes = types_labels\n",
    "\n",
    "precision = precision_score(y_true, y_pred, labels=classes, average=None, zero_division=0)\n",
    "recall = recall_score(y_true, y_pred, labels=classes, average=None, zero_division=0)\n",
    "f1 = f1_score(y_true, y_pred, labels=classes, average=None, zero_division=0)\n",
    "\n",
    "# Display the results for each class\n",
    "for class_label, p, r, f in zip(classes, precision, recall, f1):\n",
    "    print(f\"Class {class_label} - Precision: {p} \\n\\t\\t  Recall: {r} \\n\\t\\t  F1-Score: {f}\\n\")"
   ]
  },
  {
   "cell_type": "code",
   "execution_count": null,
   "metadata": {
    "id": "s4UKeglBX_1X"
   },
   "outputs": [],
   "source": []
  }
 ],
 "metadata": {
  "colab": {
   "provenance": []
  },
  "kernelspec": {
   "display_name": "Python 3 (ipykernel)",
   "language": "python",
   "name": "python3"
  },
  "language_info": {
   "codemirror_mode": {
    "name": "ipython",
    "version": 3
   },
   "file_extension": ".py",
   "mimetype": "text/x-python",
   "name": "python",
   "nbconvert_exporter": "python",
   "pygments_lexer": "ipython3",
   "version": "3.11.4"
  }
 },
 "nbformat": 4,
 "nbformat_minor": 1
}
