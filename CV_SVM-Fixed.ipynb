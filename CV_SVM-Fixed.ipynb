{
 "cells": [
  {
   "cell_type": "markdown",
   "metadata": {},
   "source": [
    "# REMOVE BACKGROUND"
   ]
  },
  {
   "cell_type": "code",
   "execution_count": null,
   "metadata": {},
   "outputs": [],
   "source": [
    "from PIL import Image\n",
    "import os\n",
    "\n",
    "def remove_white_background(input_path, output_path, compression_quality=85):\n",
    "    # Open the image\n",
    "    image = Image.open(input_path)\n",
    "\n",
    "    # Convert the image to RGBA (if it's not already)\n",
    "    image = image.convert('RGBA')\n",
    "\n",
    "    # Get data of the image\n",
    "    data = image.getdata()\n",
    "\n",
    "    # Define a threshold to identify the white background\n",
    "    threshold = 255\n",
    "    new_data = []\n",
    "    for item in data:\n",
    "        # Set the pixel to transparent if it's white\n",
    "        if item[0] > threshold and item[1] > threshold and item[2] > threshold:\n",
    "            new_data.append((255, 255, 255, 0))  # White becomes transparent\n",
    "        else:\n",
    "            new_data.append(item)\n",
    "\n",
    "    # Update the image data\n",
    "    image.putdata(new_data)\n",
    "\n",
    "    # Convert the image to RGB before saving as JPEG\n",
    "    rgb_image = image.convert('RGB')\n",
    "\n",
    "    # Save the result with compression\n",
    "    rgb_image.save(output_path, quality=compression_quality)\n",
    "\n",
    "# Dataset path\n",
    "ds_path = r\"dataset/images\"\n",
    "\n",
    "# Count the number of subfolders in the dataset path to determine the number of classes\n",
    "class_folders = [f for f in os.listdir(ds_path) if os.path.isdir(os.path.join(ds_path, f))]\n",
    "num_classes = len(class_folders)\n",
    "\n",
    "print(\"Number of Classes: \", num_classes)\n",
    "print(\"Classes: \", class_folders)\n",
    "\n",
    "types = 0\n",
    "\n",
    "for folder in class_folders:\n",
    "    disease_folder = os.path.join(ds_path, folder)\n",
    "\n",
    "    print('Processing images in folder: ', folder)\n",
    "\n",
    "    # Create a folder for the processed images if it doesn't exist\n",
    "    output_folder = os.path.join('dataset/other images', f\"{folder}_processed\")\n",
    "    os.makedirs(output_folder, exist_ok=True)\n",
    "\n",
    "    for image_name in os.listdir(disease_folder):\n",
    "        input_image_path = os.path.join(disease_folder, image_name)\n",
    "        output_image_path = os.path.join(output_folder, image_name)\n",
    "\n",
    "        # Call the function to remove the white background and compress the image\n",
    "        remove_white_background(input_image_path, output_image_path)\n"
   ]
  },
  {
   "cell_type": "markdown",
   "metadata": {
    "id": "W62QS_j2kS93"
   },
   "source": [
    "# EDI-FEATURES\n"
   ]
  },
  {
   "cell_type": "code",
   "execution_count": 1,
   "metadata": {
    "id": "ezJqQ5XxkXRX"
   },
   "outputs": [],
   "source": [
    "import os\n",
    "import cv2\n",
    "import numpy as np\n",
    "import pandas as pd\n",
    "from skimage.feature import graycomatrix, graycoprops"
   ]
  },
  {
   "cell_type": "code",
   "execution_count": 2,
   "metadata": {
    "id": "aHfhJgcPlvNq"
   },
   "outputs": [],
   "source": [
    "ds_path = r\"dataset/images\"\n",
    "diseases= os.listdir(ds_path)"
   ]
  },
  {
   "cell_type": "code",
   "execution_count": 3,
   "metadata": {
    "colab": {
     "base_uri": "https://localhost:8080/"
    },
    "id": "aeEDqxeFmkLM",
    "outputId": "01828314-680a-4165-c486-9277280b7a97"
   },
   "outputs": [
    {
     "data": {
      "text/plain": [
       "['Brown Spot', 'Healthy', 'Hispa', 'Leaf Blast']"
      ]
     },
     "execution_count": 3,
     "metadata": {},
     "output_type": "execute_result"
    }
   ],
   "source": [
    "diseases"
   ]
  },
  {
   "cell_type": "code",
   "execution_count": 4,
   "metadata": {},
   "outputs": [],
   "source": [
    "from skimage import exposure\n",
    "from skimage.feature import hog\n",
    "from skimage.measure import regionprops\n",
    "from scipy import stats\n",
    "from skimage.measure import label\n",
    "\n",
    "# Set the dataset path\n",
    "ds_path = r\"dataset/images\"\n",
    "\n",
    "def features():\n",
    "    names = ['area', 'perimeter', 'physiological_length', 'physiological_width', 'aspect_ratio',\n",
    "             'mean_r', 'mean_g', 'mean_b', 'stddev_r', 'stddev_g', 'stddev_b',\n",
    "             'contrast', 'energy', 'homogeneity', 'correlation', 'dissimilarity',\n",
    "             'eccentricity', 'solidity', 'equiv_diameter', 'major_axis_length', 'minor_axis_length',\n",
    "             'skewness', 'kurtosis', 'hog_feature_1', 'hog_feature_2', 'hog_feature_3', 'types'\n",
    "            ]\n",
    "    df = pd.DataFrame(columns=names)\n",
    "\n",
    "    # Count the number of subfolders in the dataset path to determine the number of classes (labels)\n",
    "    class_folders = [f for f in os.listdir(ds_path) if os.path.isdir(os.path.join(ds_path, f))]\n",
    "    num_classes = len(class_folders)\n",
    "\n",
    "    print(\"Number of Classes: \", num_classes)\n",
    "    print(\"Classes: \", class_folders)\n",
    "\n",
    "    types = 0\n",
    "\n",
    "    for folder in class_folders:\n",
    "        disease_folder = os.path.join(ds_path, folder)\n",
    "\n",
    "        print('Extracting features in folder: ', folder)\n",
    "        types = folder\n",
    "        index = 0\n",
    "        \n",
    "        for image in os.listdir(disease_folder):\n",
    "            index = index + 1\n",
    "            print('Extracting features in image: ', index, 'Image: ', image)\n",
    "            imgpath = os.path.join(disease_folder, image)\n",
    "            main_img = cv2.imread(imgpath)\n",
    "\n",
    "            # Preprocessing\n",
    "            img = cv2.cvtColor(main_img, cv2.COLOR_BGR2RGB)\n",
    "            gs = cv2.cvtColor(img, cv2.COLOR_RGB2GRAY)\n",
    "            blur = cv2.GaussianBlur(gs, (25, 25), 0)\n",
    "            ret, thresh = cv2.threshold(blur, 0, 255, cv2.THRESH_BINARY_INV + cv2.THRESH_OTSU)\n",
    "            kernel = np.ones((50, 50), np.uint8)\n",
    "            closing = cv2.morphologyEx(thresh, cv2.MORPH_CLOSE, kernel)\n",
    "\n",
    "            # Shape features\n",
    "            contours, _ = cv2.findContours(closing, cv2.RETR_TREE, cv2.CHAIN_APPROX_SIMPLE)\n",
    "            cnt = contours[0]\n",
    "            area = cv2.contourArea(cnt)\n",
    "            perimeter = cv2.arcLength(cnt, True)\n",
    "            x, y, w, h = cv2.boundingRect(cnt)\n",
    "            aspect_ratio = float(w) / h\n",
    "\n",
    "            # Color features\n",
    "            red_channel = img[:, :, 0]\n",
    "            green_channel = img[:, :, 1]\n",
    "            blue_channel = img[:, :, 2]\n",
    "\n",
    "            red_mean = np.mean(red_channel)\n",
    "            green_mean = np.mean(green_channel)\n",
    "            blue_mean = np.mean(blue_channel)\n",
    "\n",
    "            # Std deviation\n",
    "            red_std = np.std(red_channel)\n",
    "            green_std = np.std(green_channel)\n",
    "            blue_std = np.std(blue_channel)\n",
    "\n",
    "            # Texture features using GLCM matrix\n",
    "            glcm = graycomatrix(gs,\n",
    "                                distances=[1],\n",
    "                                angles=[0],\n",
    "                                symmetric=True,\n",
    "                                normed=True)\n",
    "\n",
    "            properties = ['contrast', 'energy', 'homogeneity', 'correlation', 'dissimilarity']\n",
    "            contrast = graycoprops(glcm, properties[0])\n",
    "            energy = graycoprops(glcm, properties[1])\n",
    "            homogeneity = graycoprops(glcm, properties[2])\n",
    "            correlation = graycoprops(glcm, properties[3])\n",
    "            dissimilarity = graycoprops(glcm, properties[4])\n",
    "\n",
    "            # Statistical moments\n",
    "            skewness = stats.skew(gs.flatten())\n",
    "            kurtosis = stats.kurtosis(gs.flatten())\n",
    "\n",
    "            # Additional features\n",
    "            labeled_img = label(closing)\n",
    "            regions = regionprops(labeled_img)\n",
    "\n",
    "            eccentricity = regions[0].eccentricity\n",
    "            solidity = regions[0].solidity\n",
    "            equiv_diameter = regions[0].equivalent_diameter\n",
    "            major_axis_length = regions[0].major_axis_length\n",
    "            minor_axis_length = regions[0].minor_axis_length\n",
    "\n",
    "            # HOG features\n",
    "            hog_features = hog(gs, orientations=8, pixels_per_cell=(8, 8), cells_per_block=(1, 1), block_norm='L2-Hys')\n",
    "\n",
    "            vector = [area, perimeter, w, h, aspect_ratio,\n",
    "                      red_mean, green_mean, blue_mean, red_std, green_std, blue_std,\n",
    "                      contrast[0][0], energy[0][0], homogeneity[0][0], correlation[0][0], dissimilarity[0][0],\n",
    "                      eccentricity, solidity, equiv_diameter, major_axis_length, minor_axis_length,\n",
    "                      skewness, kurtosis, hog_features[0], hog_features[1], hog_features[2], types]\n",
    "\n",
    "            df_temp = pd.DataFrame([vector], columns=names)\n",
    "            df = pd.concat([df, df_temp], ignore_index=True)\n",
    "    return df"
   ]
  },
  {
   "cell_type": "code",
   "execution_count": 5,
   "metadata": {
    "colab": {
     "base_uri": "https://localhost:8080/"
    },
    "id": "-lFnHs23qIEm",
    "outputId": "2357cf1b-5b79-4cf6-8c79-5797b8f93668"
   },
   "outputs": [
    {
     "name": "stdout",
     "output_type": "stream",
     "text": [
      "Number of Classes:  4\n",
      "Classes:  ['Brown Spot', 'Healthy', 'Hispa', 'Leaf Blast']\n",
      "Extracting features in folder:  Brown Spot\n",
      "Extracting features in image:  1 Image:  IMG_20190420_191213.jpg\n",
      "Extracting features in image:  2 Image:  IMG_20190420_191216.jpg\n",
      "Extracting features in image:  3 Image:  IMG_20190420_191238.jpg\n",
      "Extracting features in image:  4 Image:  IMG_20190420_191242.jpg\n",
      "Extracting features in image:  5 Image:  IMG_20190420_191412.jpg\n",
      "Extracting features in image:  6 Image:  IMG_20190420_191416.jpg\n",
      "Extracting features in image:  7 Image:  IMG_20190420_193225.jpg\n",
      "Extracting features in image:  8 Image:  IMG_20190420_193236.jpg\n",
      "Extracting features in image:  9 Image:  IMG_20190420_193433.jpg\n",
      "Extracting features in image:  10 Image:  IMG_20190420_194201.jpg\n",
      "Extracting features in image:  11 Image:  IMG_20190420_194202.jpg\n",
      "Extracting features in image:  12 Image:  IMG_20190420_194203.jpg\n",
      "Extracting features in image:  13 Image:  IMG_20190420_194204.jpg\n",
      "Extracting features in image:  14 Image:  IMG_20190420_194206.jpg\n",
      "Extracting features in image:  15 Image:  IMG_20190420_194207.jpg\n",
      "Extracting features in image:  16 Image:  IMG_20190420_194208.jpg\n",
      "Extracting features in image:  17 Image:  IMG_20190420_194210.jpg\n",
      "Extracting features in image:  18 Image:  IMG_20190420_194211.jpg\n",
      "Extracting features in image:  19 Image:  IMG_20190420_194212.jpg\n",
      "Extracting features in image:  20 Image:  IMG_20190420_194216.jpg\n",
      "Extracting features in image:  21 Image:  IMG_20190420_194217.jpg\n",
      "Extracting features in image:  22 Image:  IMG_20190420_194218.jpg\n",
      "Extracting features in image:  23 Image:  IMG_20190420_194219.jpg\n",
      "Extracting features in image:  24 Image:  IMG_20190420_194221.jpg\n",
      "Extracting features in image:  25 Image:  IMG_20190420_194232.jpg\n",
      "Extracting features in image:  26 Image:  IMG_20190420_194234.jpg\n",
      "Extracting features in image:  27 Image:  IMG_20190420_194235.jpg\n",
      "Extracting features in image:  28 Image:  IMG_20190420_194236.jpg\n",
      "Extracting features in image:  29 Image:  IMG_20190420_194237.jpg\n",
      "Extracting features in image:  30 Image:  IMG_20190420_194239.jpg\n",
      "Extracting features in image:  31 Image:  IMG_20190420_194241.jpg\n",
      "Extracting features in image:  32 Image:  IMG_20190420_194243.jpg\n",
      "Extracting features in image:  33 Image:  IMG_20190420_194246.jpg\n",
      "Extracting features in image:  34 Image:  IMG_20190420_194248.jpg\n",
      "Extracting features in image:  35 Image:  IMG_20190420_194252.jpg\n",
      "Extracting features in image:  36 Image:  IMG_20190420_194255.jpg\n",
      "Extracting features in image:  37 Image:  IMG_20190420_194429.jpg\n",
      "Extracting features in image:  38 Image:  IMG_20190420_194430.jpg\n",
      "Extracting features in image:  39 Image:  IMG_20190420_194433.jpg\n",
      "Extracting features in image:  40 Image:  IMG_20190420_194434.jpg\n",
      "Extracting features in image:  41 Image:  IMG_20190420_194444.jpg\n",
      "Extracting features in image:  42 Image:  IMG_20190420_194445.jpg\n",
      "Extracting features in image:  43 Image:  IMG_20190420_194446.jpg\n",
      "Extracting features in image:  44 Image:  IMG_20190420_194447.jpg\n",
      "Extracting features in image:  45 Image:  IMG_20190420_194447_1.jpg\n",
      "Extracting features in image:  46 Image:  IMG_20190420_194448.jpg\n",
      "Extracting features in image:  47 Image:  IMG_20190420_194449.jpg\n",
      "Extracting features in image:  48 Image:  IMG_20190420_194450.jpg\n",
      "Extracting features in image:  49 Image:  IMG_20190420_194501.jpg\n",
      "Extracting features in image:  50 Image:  IMG_20190420_194503.jpg\n",
      "Extracting features in folder:  Healthy\n",
      "Extracting features in image:  1 Image:  IMG_20190424_130414.jpg\n",
      "Extracting features in image:  2 Image:  IMG_20190424_130423.jpg\n",
      "Extracting features in image:  3 Image:  IMG_20190424_130516.jpg\n",
      "Extracting features in image:  4 Image:  IMG_20190424_130522.jpg\n",
      "Extracting features in image:  5 Image:  IMG_20190424_130525.jpg\n",
      "Extracting features in image:  6 Image:  IMG_20190424_130528.jpg\n",
      "Extracting features in image:  7 Image:  IMG_20190424_130546.jpg\n",
      "Extracting features in image:  8 Image:  IMG_20190424_130550.jpg\n",
      "Extracting features in image:  9 Image:  IMG_20190424_130555.jpg\n",
      "Extracting features in image:  10 Image:  IMG_20190424_130618.jpg\n",
      "Extracting features in image:  11 Image:  IMG_20190424_130619.jpg\n",
      "Extracting features in image:  12 Image:  IMG_20190424_130621.jpg\n",
      "Extracting features in image:  13 Image:  IMG_20190424_130628.jpg\n",
      "Extracting features in image:  14 Image:  IMG_20190424_130630.jpg\n",
      "Extracting features in image:  15 Image:  IMG_20190424_130639.jpg\n",
      "Extracting features in image:  16 Image:  IMG_20190424_130640.jpg\n",
      "Extracting features in image:  17 Image:  IMG_20190424_130643.jpg\n",
      "Extracting features in image:  18 Image:  IMG_20190424_130646.jpg\n",
      "Extracting features in image:  19 Image:  IMG_20190424_130648.jpg\n",
      "Extracting features in image:  20 Image:  IMG_20190424_130702.jpg\n",
      "Extracting features in image:  21 Image:  IMG_20190424_130706.jpg\n",
      "Extracting features in image:  22 Image:  IMG_20190424_130711.jpg\n",
      "Extracting features in image:  23 Image:  IMG_20190424_130715.jpg\n",
      "Extracting features in image:  24 Image:  IMG_20190424_130717.jpg\n",
      "Extracting features in image:  25 Image:  IMG_20190424_130729.jpg\n",
      "Extracting features in image:  26 Image:  IMG_20190424_130731.jpg\n",
      "Extracting features in image:  27 Image:  IMG_20190424_130734.jpg\n",
      "Extracting features in image:  28 Image:  IMG_20190424_130737.jpg\n",
      "Extracting features in image:  29 Image:  IMG_20190424_130741.jpg\n",
      "Extracting features in image:  30 Image:  IMG_20190424_130743.jpg\n",
      "Extracting features in image:  31 Image:  IMG_20190424_130745.jpg\n",
      "Extracting features in image:  32 Image:  IMG_20190424_130746.jpg\n",
      "Extracting features in image:  33 Image:  IMG_20190424_130800.jpg\n",
      "Extracting features in image:  34 Image:  IMG_20190424_130801.jpg\n",
      "Extracting features in image:  35 Image:  IMG_20190424_130804.jpg\n",
      "Extracting features in image:  36 Image:  IMG_20190424_130806.jpg\n",
      "Extracting features in image:  37 Image:  IMG_20190424_130807.jpg\n",
      "Extracting features in image:  38 Image:  IMG_20190424_130808.jpg\n",
      "Extracting features in image:  39 Image:  IMG_20190424_130811.jpg\n",
      "Extracting features in image:  40 Image:  IMG_20190424_130821.jpg\n",
      "Extracting features in image:  41 Image:  IMG_20190424_130823.jpg\n",
      "Extracting features in image:  42 Image:  IMG_20190424_130825.jpg\n",
      "Extracting features in image:  43 Image:  IMG_20190424_130826.jpg\n",
      "Extracting features in image:  44 Image:  IMG_20190424_130828.jpg\n",
      "Extracting features in image:  45 Image:  IMG_20190424_130829.jpg\n",
      "Extracting features in image:  46 Image:  IMG_20190424_130829_1.jpg\n",
      "Extracting features in image:  47 Image:  IMG_20190424_130831.jpg\n",
      "Extracting features in image:  48 Image:  IMG_20190424_130833.jpg\n",
      "Extracting features in image:  49 Image:  IMG_20190424_130835.jpg\n",
      "Extracting features in image:  50 Image:  IMG_20190424_130849.jpg\n",
      "Extracting features in folder:  Hispa\n",
      "Extracting features in image:  1 Image:  IMG_20190420_200454.jpg\n",
      "Extracting features in image:  2 Image:  IMG_20190420_200503.jpg\n",
      "Extracting features in image:  3 Image:  IMG_20190424_125640.jpg\n",
      "Extracting features in image:  4 Image:  IMG_20190424_125705.jpg\n",
      "Extracting features in image:  5 Image:  IMG_20190424_125708.jpg\n",
      "Extracting features in image:  6 Image:  IMG_20190424_125742.jpg\n",
      "Extracting features in image:  7 Image:  IMG_20190424_125743.jpg\n",
      "Extracting features in image:  8 Image:  IMG_20190424_125747.jpg\n",
      "Extracting features in image:  9 Image:  IMG_20190424_125821.jpg\n",
      "Extracting features in image:  10 Image:  IMG_20190424_125824.jpg\n",
      "Extracting features in image:  11 Image:  IMG_20190424_130500.jpg\n",
      "Extracting features in image:  12 Image:  IMG_20190424_130502.jpg\n",
      "Extracting features in image:  13 Image:  IMG_20190424_130517.jpg\n",
      "Extracting features in image:  14 Image:  IMG_20190424_130519.jpg\n",
      "Extracting features in image:  15 Image:  IMG_20190424_130957.jpg\n",
      "Extracting features in image:  16 Image:  IMG_20190424_131101.jpg\n",
      "Extracting features in image:  17 Image:  IMG_20190424_131219.jpg\n",
      "Extracting features in image:  18 Image:  IMG_20190424_131221.jpg\n",
      "Extracting features in image:  19 Image:  IMG_20190424_131225.jpg\n",
      "Extracting features in image:  20 Image:  IMG_20190424_131229.jpg\n",
      "Extracting features in image:  21 Image:  IMG_20190424_131230.jpg\n",
      "Extracting features in image:  22 Image:  IMG_20190424_131234.jpg\n",
      "Extracting features in image:  23 Image:  IMG_20190424_131608.jpg\n",
      "Extracting features in image:  24 Image:  IMG_20190424_131622.jpg\n",
      "Extracting features in image:  25 Image:  IMG_20190424_131806.jpg\n",
      "Extracting features in image:  26 Image:  IMG_20190424_131808.jpg\n",
      "Extracting features in image:  27 Image:  IMG_20190424_131818.jpg\n",
      "Extracting features in image:  28 Image:  IMG_20190424_132330.jpg\n",
      "Extracting features in image:  29 Image:  IMG_20190424_132331.jpg\n",
      "Extracting features in image:  30 Image:  IMG_20190424_132333.jpg\n",
      "Extracting features in image:  31 Image:  IMG_20190424_132335.jpg\n",
      "Extracting features in image:  32 Image:  IMG_20190424_132348.jpg\n",
      "Extracting features in image:  33 Image:  IMG_20190424_132349.jpg\n",
      "Extracting features in image:  34 Image:  IMG_20190424_132354.jpg\n",
      "Extracting features in image:  35 Image:  IMG_20190424_132356.jpg\n",
      "Extracting features in image:  36 Image:  IMG_20190424_132420.jpg\n",
      "Extracting features in image:  37 Image:  IMG_20190424_132421.jpg\n",
      "Extracting features in image:  38 Image:  IMG_20190424_133531.jpg\n",
      "Extracting features in image:  39 Image:  IMG_20190424_133538.jpg\n",
      "Extracting features in image:  40 Image:  IMG_20190424_133847.jpg\n",
      "Extracting features in image:  41 Image:  IMG_20190424_133916.jpg\n",
      "Extracting features in image:  42 Image:  IMG_20190424_133917.jpg\n",
      "Extracting features in image:  43 Image:  IMG_20190424_133917_1.jpg\n",
      "Extracting features in image:  44 Image:  IMG_20190424_133931.jpg\n",
      "Extracting features in image:  45 Image:  IMG_20190424_133932.jpg\n",
      "Extracting features in image:  46 Image:  IMG_20190424_133933.jpg\n",
      "Extracting features in image:  47 Image:  IMG_20190424_133934.jpg\n",
      "Extracting features in image:  48 Image:  IMG_20190424_133937.jpg\n",
      "Extracting features in image:  49 Image:  IMG_20190424_133938.jpg\n",
      "Extracting features in image:  50 Image:  IMG_20190424_133939.jpg\n",
      "Extracting features in folder:  Leaf Blast\n",
      "Extracting features in image:  1 Image:  IMG_20190420_191459.jpg\n",
      "Extracting features in image:  2 Image:  IMG_20190420_193116.jpg\n",
      "Extracting features in image:  3 Image:  IMG_20190420_193125.jpg\n",
      "Extracting features in image:  4 Image:  IMG_20190420_193127.jpg\n",
      "Extracting features in image:  5 Image:  IMG_20190420_193139.jpg\n",
      "Extracting features in image:  6 Image:  IMG_20190420_193141.jpg\n",
      "Extracting features in image:  7 Image:  IMG_20190420_193148.jpg\n",
      "Extracting features in image:  8 Image:  IMG_20190420_193155.jpg\n",
      "Extracting features in image:  9 Image:  IMG_20190420_193158.jpg\n",
      "Extracting features in image:  10 Image:  IMG_20190420_193203.jpg\n",
      "Extracting features in image:  11 Image:  IMG_20190420_193215.jpg\n",
      "Extracting features in image:  12 Image:  IMG_20190420_193220.jpg\n",
      "Extracting features in image:  13 Image:  IMG_20190420_193234.jpg\n",
      "Extracting features in image:  14 Image:  IMG_20190420_193654.jpg\n",
      "Extracting features in image:  15 Image:  IMG_20190420_193657.jpg\n",
      "Extracting features in image:  16 Image:  IMG_20190420_193700.jpg\n",
      "Extracting features in image:  17 Image:  IMG_20190420_193725.jpg\n",
      "Extracting features in image:  18 Image:  IMG_20190420_193728.jpg\n",
      "Extracting features in image:  19 Image:  IMG_20190420_193731.jpg\n",
      "Extracting features in image:  20 Image:  IMG_20190420_194939.jpg\n",
      "Extracting features in image:  21 Image:  IMG_20190420_194940.jpg\n",
      "Extracting features in image:  22 Image:  IMG_20190420_194940_1.jpg\n",
      "Extracting features in image:  23 Image:  IMG_20190420_194941.jpg\n",
      "Extracting features in image:  24 Image:  IMG_20190420_194942.jpg\n",
      "Extracting features in image:  25 Image:  IMG_20190420_194943.jpg\n",
      "Extracting features in image:  26 Image:  IMG_20190420_194944.jpg\n",
      "Extracting features in image:  27 Image:  IMG_20190420_194945.jpg\n",
      "Extracting features in image:  28 Image:  IMG_20190420_194946.jpg\n",
      "Extracting features in image:  29 Image:  IMG_20190420_194955.jpg\n",
      "Extracting features in image:  30 Image:  IMG_20190420_194956.jpg\n",
      "Extracting features in image:  31 Image:  IMG_20190420_194957.jpg\n",
      "Extracting features in image:  32 Image:  IMG_20190420_195000.jpg\n",
      "Extracting features in image:  33 Image:  IMG_20190420_195005.jpg\n",
      "Extracting features in image:  34 Image:  IMG_20190420_195006.jpg\n",
      "Extracting features in image:  35 Image:  IMG_20190420_195007.jpg\n",
      "Extracting features in image:  36 Image:  IMG_20190420_195010.jpg\n",
      "Extracting features in image:  37 Image:  IMG_20190420_195011.jpg\n",
      "Extracting features in image:  38 Image:  IMG_20190420_195254.jpg\n",
      "Extracting features in image:  39 Image:  IMG_20190420_195306.jpg\n",
      "Extracting features in image:  40 Image:  IMG_20190420_195307.jpg\n",
      "Extracting features in image:  41 Image:  IMG_20190421_195512.jpg\n",
      "Extracting features in image:  42 Image:  IMG_20190421_195513.jpg\n",
      "Extracting features in image:  43 Image:  IMG_20190421_195524.jpg\n",
      "Extracting features in image:  44 Image:  IMG_20190421_195525.jpg\n",
      "Extracting features in image:  45 Image:  IMG_20190424_130007.jpg\n",
      "Extracting features in image:  46 Image:  IMG_20190424_130012.jpg\n",
      "Extracting features in image:  47 Image:  IMG_20190424_130929.jpg\n",
      "Extracting features in image:  48 Image:  IMG_20190424_131627.jpg\n",
      "Extracting features in image:  49 Image:  IMG_20190424_131631.jpg\n",
      "Extracting features in image:  50 Image:  IMG_20190424_133722.jpg\n"
     ]
    }
   ],
   "source": [
    "# Call the function to create the feature dataframe\n",
    "feature_df = features()\n",
    "\n",
    "# Save the resulting dataframe to a CSV file\n",
    "feature_df.to_csv(\"dataset/csv/image_features.csv\", index=False)"
   ]
  },
  {
   "cell_type": "code",
   "execution_count": 6,
   "metadata": {
    "colab": {
     "base_uri": "https://localhost:8080/",
     "height": 226
    },
    "id": "LstkxK4PqyIT",
    "outputId": "0fb50158-f798-48a8-ebdd-55091489d77b"
   },
   "outputs": [
    {
     "data": {
      "text/html": [
       "<div>\n",
       "<style scoped>\n",
       "    .dataframe tbody tr th:only-of-type {\n",
       "        vertical-align: middle;\n",
       "    }\n",
       "\n",
       "    .dataframe tbody tr th {\n",
       "        vertical-align: top;\n",
       "    }\n",
       "\n",
       "    .dataframe thead th {\n",
       "        text-align: right;\n",
       "    }\n",
       "</style>\n",
       "<table border=\"1\" class=\"dataframe\">\n",
       "  <thead>\n",
       "    <tr style=\"text-align: right;\">\n",
       "      <th></th>\n",
       "      <th>area</th>\n",
       "      <th>perimeter</th>\n",
       "      <th>physiological_length</th>\n",
       "      <th>physiological_width</th>\n",
       "      <th>aspect_ratio</th>\n",
       "      <th>mean_r</th>\n",
       "      <th>mean_g</th>\n",
       "      <th>mean_b</th>\n",
       "      <th>stddev_r</th>\n",
       "      <th>stddev_g</th>\n",
       "      <th>...</th>\n",
       "      <th>solidity</th>\n",
       "      <th>equiv_diameter</th>\n",
       "      <th>major_axis_length</th>\n",
       "      <th>minor_axis_length</th>\n",
       "      <th>skewness</th>\n",
       "      <th>kurtosis</th>\n",
       "      <th>hog_feature_1</th>\n",
       "      <th>hog_feature_2</th>\n",
       "      <th>hog_feature_3</th>\n",
       "      <th>types</th>\n",
       "    </tr>\n",
       "  </thead>\n",
       "  <tbody>\n",
       "    <tr>\n",
       "      <th>0</th>\n",
       "      <td>1972073.5</td>\n",
       "      <td>9628.785713</td>\n",
       "      <td>3120</td>\n",
       "      <td>2225</td>\n",
       "      <td>1.402247</td>\n",
       "      <td>195.258556</td>\n",
       "      <td>193.313269</td>\n",
       "      <td>173.783708</td>\n",
       "      <td>57.834578</td>\n",
       "      <td>54.947868</td>\n",
       "      <td>...</td>\n",
       "      <td>0.742358</td>\n",
       "      <td>1586.292032</td>\n",
       "      <td>4060.844957</td>\n",
       "      <td>729.870542</td>\n",
       "      <td>-1.349515</td>\n",
       "      <td>0.361069</td>\n",
       "      <td>0.449522</td>\n",
       "      <td>0.181592</td>\n",
       "      <td>0.163116</td>\n",
       "      <td>Brown Spot</td>\n",
       "    </tr>\n",
       "    <tr>\n",
       "      <th>1</th>\n",
       "      <td>38825.0</td>\n",
       "      <td>1042.225395</td>\n",
       "      <td>309</td>\n",
       "      <td>193</td>\n",
       "      <td>1.601036</td>\n",
       "      <td>200.541047</td>\n",
       "      <td>198.177794</td>\n",
       "      <td>178.330766</td>\n",
       "      <td>57.300307</td>\n",
       "      <td>54.351389</td>\n",
       "      <td>...</td>\n",
       "      <td>0.985009</td>\n",
       "      <td>1528.054134</td>\n",
       "      <td>3892.425283</td>\n",
       "      <td>627.943954</td>\n",
       "      <td>-1.381121</td>\n",
       "      <td>0.468266</td>\n",
       "      <td>0.363637</td>\n",
       "      <td>0.363637</td>\n",
       "      <td>0.363637</td>\n",
       "      <td>Brown Spot</td>\n",
       "    </tr>\n",
       "    <tr>\n",
       "      <th>2</th>\n",
       "      <td>16776.0</td>\n",
       "      <td>799.740114</td>\n",
       "      <td>214</td>\n",
       "      <td>184</td>\n",
       "      <td>1.163043</td>\n",
       "      <td>193.216871</td>\n",
       "      <td>193.351267</td>\n",
       "      <td>174.504667</td>\n",
       "      <td>54.261332</td>\n",
       "      <td>50.802715</td>\n",
       "      <td>...</td>\n",
       "      <td>0.966643</td>\n",
       "      <td>1482.078679</td>\n",
       "      <td>3807.992148</td>\n",
       "      <td>599.773878</td>\n",
       "      <td>-1.463399</td>\n",
       "      <td>0.792236</td>\n",
       "      <td>0.409428</td>\n",
       "      <td>0.160951</td>\n",
       "      <td>0.361947</td>\n",
       "      <td>Brown Spot</td>\n",
       "    </tr>\n",
       "    <tr>\n",
       "      <th>3</th>\n",
       "      <td>1296182.5</td>\n",
       "      <td>6467.057458</td>\n",
       "      <td>2324</td>\n",
       "      <td>1432</td>\n",
       "      <td>1.622905</td>\n",
       "      <td>187.503883</td>\n",
       "      <td>187.446881</td>\n",
       "      <td>163.931188</td>\n",
       "      <td>60.086385</td>\n",
       "      <td>55.726472</td>\n",
       "      <td>...</td>\n",
       "      <td>0.983399</td>\n",
       "      <td>1286.079530</td>\n",
       "      <td>2852.383343</td>\n",
       "      <td>604.509849</td>\n",
       "      <td>-1.172834</td>\n",
       "      <td>-0.234045</td>\n",
       "      <td>0.419914</td>\n",
       "      <td>0.275145</td>\n",
       "      <td>0.419914</td>\n",
       "      <td>Brown Spot</td>\n",
       "    </tr>\n",
       "    <tr>\n",
       "      <th>4</th>\n",
       "      <td>921537.0</td>\n",
       "      <td>5424.236169</td>\n",
       "      <td>1403</td>\n",
       "      <td>1860</td>\n",
       "      <td>0.754301</td>\n",
       "      <td>185.310038</td>\n",
       "      <td>184.469700</td>\n",
       "      <td>162.667911</td>\n",
       "      <td>62.826548</td>\n",
       "      <td>60.994339</td>\n",
       "      <td>...</td>\n",
       "      <td>0.979396</td>\n",
       "      <td>1084.572557</td>\n",
       "      <td>2403.186888</td>\n",
       "      <td>507.503272</td>\n",
       "      <td>-1.141764</td>\n",
       "      <td>-0.336749</td>\n",
       "      <td>0.378794</td>\n",
       "      <td>0.361990</td>\n",
       "      <td>0.378794</td>\n",
       "      <td>Brown Spot</td>\n",
       "    </tr>\n",
       "  </tbody>\n",
       "</table>\n",
       "<p>5 rows × 27 columns</p>\n",
       "</div>"
      ],
      "text/plain": [
       "        area    perimeter physiological_length physiological_width  \\\n",
       "0  1972073.5  9628.785713                 3120                2225   \n",
       "1    38825.0  1042.225395                  309                 193   \n",
       "2    16776.0   799.740114                  214                 184   \n",
       "3  1296182.5  6467.057458                 2324                1432   \n",
       "4   921537.0  5424.236169                 1403                1860   \n",
       "\n",
       "   aspect_ratio      mean_r      mean_g      mean_b   stddev_r   stddev_g  \\\n",
       "0      1.402247  195.258556  193.313269  173.783708  57.834578  54.947868   \n",
       "1      1.601036  200.541047  198.177794  178.330766  57.300307  54.351389   \n",
       "2      1.163043  193.216871  193.351267  174.504667  54.261332  50.802715   \n",
       "3      1.622905  187.503883  187.446881  163.931188  60.086385  55.726472   \n",
       "4      0.754301  185.310038  184.469700  162.667911  62.826548  60.994339   \n",
       "\n",
       "   ...  solidity  equiv_diameter  major_axis_length  minor_axis_length  \\\n",
       "0  ...  0.742358     1586.292032        4060.844957         729.870542   \n",
       "1  ...  0.985009     1528.054134        3892.425283         627.943954   \n",
       "2  ...  0.966643     1482.078679        3807.992148         599.773878   \n",
       "3  ...  0.983399     1286.079530        2852.383343         604.509849   \n",
       "4  ...  0.979396     1084.572557        2403.186888         507.503272   \n",
       "\n",
       "   skewness  kurtosis  hog_feature_1  hog_feature_2  hog_feature_3       types  \n",
       "0 -1.349515  0.361069       0.449522       0.181592       0.163116  Brown Spot  \n",
       "1 -1.381121  0.468266       0.363637       0.363637       0.363637  Brown Spot  \n",
       "2 -1.463399  0.792236       0.409428       0.160951       0.361947  Brown Spot  \n",
       "3 -1.172834 -0.234045       0.419914       0.275145       0.419914  Brown Spot  \n",
       "4 -1.141764 -0.336749       0.378794       0.361990       0.378794  Brown Spot  \n",
       "\n",
       "[5 rows x 27 columns]"
      ]
     },
     "execution_count": 6,
     "metadata": {},
     "output_type": "execute_result"
    }
   ],
   "source": [
    "feature_df.head()"
   ]
  },
  {
   "cell_type": "markdown",
   "metadata": {
    "id": "ILev7gnvs0Js"
   },
   "source": [
    "# PCA"
   ]
  },
  {
   "cell_type": "markdown",
   "metadata": {},
   "source": [
    "## Components"
   ]
  },
  {
   "cell_type": "code",
   "execution_count": 7,
   "metadata": {},
   "outputs": [],
   "source": [
    "import pandas as pd\n",
    "from sklearn.decomposition import PCA"
   ]
  },
  {
   "cell_type": "code",
   "execution_count": 8,
   "metadata": {},
   "outputs": [],
   "source": [
    "df = pd.read_csv(\"dataset/csv/image_features.csv\")"
   ]
  },
  {
   "cell_type": "code",
   "execution_count": 9,
   "metadata": {},
   "outputs": [],
   "source": [
    "# Assuming df is your DataFrame with the features\n",
    "X = df.drop('types', axis=1)\n",
    "pca = PCA()\n",
    "X_pca = pca.fit_transform(X)"
   ]
  },
  {
   "cell_type": "code",
   "execution_count": 10,
   "metadata": {},
   "outputs": [
    {
     "data": {
      "image/png": "[encoded data removed]",
      "text/plain": [
       "<Figure size 640x480 with 1 Axes>"
      ]
     },
     "metadata": {},
     "output_type": "display_data"
    }
   ],
   "source": [
    "import matplotlib.pyplot as plt\n",
    "\n",
    "explained_variance_ratio = pca.explained_variance_ratio_\n",
    "cumulative_explained_variance = explained_variance_ratio.cumsum()\n",
    "\n",
    "plt.plot(cumulative_explained_variance, marker='o')\n",
    "plt.xlabel('Number of Components')\n",
    "plt.ylabel('Cumulative Explained Variance')\n",
    "plt.show()"
   ]
  },
  {
   "cell_type": "markdown",
   "metadata": {},
   "source": [
    "## Training"
   ]
  },
  {
   "cell_type": "code",
   "execution_count": 11,
   "metadata": {
    "id": "w04RPlfUr_CR"
   },
   "outputs": [],
   "source": [
    "import pandas as pd"
   ]
  },
  {
   "cell_type": "code",
   "execution_count": 12,
   "metadata": {
    "id": "8GeQkN7Js7JT"
   },
   "outputs": [],
   "source": [
    "data=pd.read_csv(\"dataset/csv/image_features.csv\")"
   ]
  },
  {
   "cell_type": "code",
   "execution_count": 13,
   "metadata": {
    "id": "2Nuk3yoktC6A"
   },
   "outputs": [],
   "source": [
    "types = data[\"types\"]"
   ]
  },
  {
   "cell_type": "code",
   "execution_count": 14,
   "metadata": {
    "colab": {
     "base_uri": "https://localhost:8080/"
    },
    "id": "I834En5CU_li",
    "outputId": "2fcd799f-6675-48d6-a265-ce7d7fe64441"
   },
   "outputs": [
    {
     "data": {
      "text/plain": [
       "array(['Brown Spot', 'Healthy', 'Hispa', 'Leaf Blast'], dtype=object)"
      ]
     },
     "execution_count": 14,
     "metadata": {},
     "output_type": "execute_result"
    }
   ],
   "source": [
    "types_labels = types.unique()\n",
    "types_labels"
   ]
  },
  {
   "cell_type": "code",
   "execution_count": 15,
   "metadata": {},
   "outputs": [],
   "source": [
    "data = data.drop('types', axis=1)"
   ]
  },
  {
   "cell_type": "code",
   "execution_count": 16,
   "metadata": {
    "colab": {
     "base_uri": "https://localhost:8080/",
     "height": 226
    },
    "id": "i86kptKJtDX4",
    "outputId": "157bbbaf-8f25-4d30-e81a-7429653ccabe"
   },
   "outputs": [
    {
     "data": {
      "text/html": [
       "<div>\n",
       "<style scoped>\n",
       "    .dataframe tbody tr th:only-of-type {\n",
       "        vertical-align: middle;\n",
       "    }\n",
       "\n",
       "    .dataframe tbody tr th {\n",
       "        vertical-align: top;\n",
       "    }\n",
       "\n",
       "    .dataframe thead th {\n",
       "        text-align: right;\n",
       "    }\n",
       "</style>\n",
       "<table border=\"1\" class=\"dataframe\">\n",
       "  <thead>\n",
       "    <tr style=\"text-align: right;\">\n",
       "      <th></th>\n",
       "      <th>area</th>\n",
       "      <th>perimeter</th>\n",
       "      <th>physiological_length</th>\n",
       "      <th>physiological_width</th>\n",
       "      <th>aspect_ratio</th>\n",
       "      <th>mean_r</th>\n",
       "      <th>mean_g</th>\n",
       "      <th>mean_b</th>\n",
       "      <th>stddev_r</th>\n",
       "      <th>stddev_g</th>\n",
       "      <th>...</th>\n",
       "      <th>eccentricity</th>\n",
       "      <th>solidity</th>\n",
       "      <th>equiv_diameter</th>\n",
       "      <th>major_axis_length</th>\n",
       "      <th>minor_axis_length</th>\n",
       "      <th>skewness</th>\n",
       "      <th>kurtosis</th>\n",
       "      <th>hog_feature_1</th>\n",
       "      <th>hog_feature_2</th>\n",
       "      <th>hog_feature_3</th>\n",
       "    </tr>\n",
       "  </thead>\n",
       "  <tbody>\n",
       "    <tr>\n",
       "      <th>0</th>\n",
       "      <td>1972073.5</td>\n",
       "      <td>9628.785713</td>\n",
       "      <td>3120</td>\n",
       "      <td>2225</td>\n",
       "      <td>1.402247</td>\n",
       "      <td>195.258556</td>\n",
       "      <td>193.313269</td>\n",
       "      <td>173.783708</td>\n",
       "      <td>57.834578</td>\n",
       "      <td>54.947868</td>\n",
       "      <td>...</td>\n",
       "      <td>0.983715</td>\n",
       "      <td>0.742358</td>\n",
       "      <td>1586.292032</td>\n",
       "      <td>4060.844957</td>\n",
       "      <td>729.870542</td>\n",
       "      <td>-1.349515</td>\n",
       "      <td>0.361069</td>\n",
       "      <td>0.449522</td>\n",
       "      <td>0.181592</td>\n",
       "      <td>0.163116</td>\n",
       "    </tr>\n",
       "    <tr>\n",
       "      <th>1</th>\n",
       "      <td>38825.0</td>\n",
       "      <td>1042.225395</td>\n",
       "      <td>309</td>\n",
       "      <td>193</td>\n",
       "      <td>1.601036</td>\n",
       "      <td>200.541047</td>\n",
       "      <td>198.177794</td>\n",
       "      <td>178.330766</td>\n",
       "      <td>57.300307</td>\n",
       "      <td>54.351389</td>\n",
       "      <td>...</td>\n",
       "      <td>0.986901</td>\n",
       "      <td>0.985009</td>\n",
       "      <td>1528.054134</td>\n",
       "      <td>3892.425283</td>\n",
       "      <td>627.943954</td>\n",
       "      <td>-1.381121</td>\n",
       "      <td>0.468266</td>\n",
       "      <td>0.363637</td>\n",
       "      <td>0.363637</td>\n",
       "      <td>0.363637</td>\n",
       "    </tr>\n",
       "    <tr>\n",
       "      <th>2</th>\n",
       "      <td>16776.0</td>\n",
       "      <td>799.740114</td>\n",
       "      <td>214</td>\n",
       "      <td>184</td>\n",
       "      <td>1.163043</td>\n",
       "      <td>193.216871</td>\n",
       "      <td>193.351267</td>\n",
       "      <td>174.504667</td>\n",
       "      <td>54.261332</td>\n",
       "      <td>50.802715</td>\n",
       "      <td>...</td>\n",
       "      <td>0.987518</td>\n",
       "      <td>0.966643</td>\n",
       "      <td>1482.078679</td>\n",
       "      <td>3807.992148</td>\n",
       "      <td>599.773878</td>\n",
       "      <td>-1.463399</td>\n",
       "      <td>0.792236</td>\n",
       "      <td>0.409428</td>\n",
       "      <td>0.160951</td>\n",
       "      <td>0.361947</td>\n",
       "    </tr>\n",
       "    <tr>\n",
       "      <th>3</th>\n",
       "      <td>1296182.5</td>\n",
       "      <td>6467.057458</td>\n",
       "      <td>2324</td>\n",
       "      <td>1432</td>\n",
       "      <td>1.622905</td>\n",
       "      <td>187.503883</td>\n",
       "      <td>187.446881</td>\n",
       "      <td>163.931188</td>\n",
       "      <td>60.086385</td>\n",
       "      <td>55.726472</td>\n",
       "      <td>...</td>\n",
       "      <td>0.977285</td>\n",
       "      <td>0.983399</td>\n",
       "      <td>1286.079530</td>\n",
       "      <td>2852.383343</td>\n",
       "      <td>604.509849</td>\n",
       "      <td>-1.172834</td>\n",
       "      <td>-0.234045</td>\n",
       "      <td>0.419914</td>\n",
       "      <td>0.275145</td>\n",
       "      <td>0.419914</td>\n",
       "    </tr>\n",
       "    <tr>\n",
       "      <th>4</th>\n",
       "      <td>921537.0</td>\n",
       "      <td>5424.236169</td>\n",
       "      <td>1403</td>\n",
       "      <td>1860</td>\n",
       "      <td>0.754301</td>\n",
       "      <td>185.310038</td>\n",
       "      <td>184.469700</td>\n",
       "      <td>162.667911</td>\n",
       "      <td>62.826548</td>\n",
       "      <td>60.994339</td>\n",
       "      <td>...</td>\n",
       "      <td>0.977447</td>\n",
       "      <td>0.979396</td>\n",
       "      <td>1084.572557</td>\n",
       "      <td>2403.186888</td>\n",
       "      <td>507.503272</td>\n",
       "      <td>-1.141764</td>\n",
       "      <td>-0.336749</td>\n",
       "      <td>0.378794</td>\n",
       "      <td>0.361990</td>\n",
       "      <td>0.378794</td>\n",
       "    </tr>\n",
       "  </tbody>\n",
       "</table>\n",
       "<p>5 rows × 26 columns</p>\n",
       "</div>"
      ],
      "text/plain": [
       "        area    perimeter  physiological_length  physiological_width  \\\n",
       "0  1972073.5  9628.785713                  3120                 2225   \n",
       "1    38825.0  1042.225395                   309                  193   \n",
       "2    16776.0   799.740114                   214                  184   \n",
       "3  1296182.5  6467.057458                  2324                 1432   \n",
       "4   921537.0  5424.236169                  1403                 1860   \n",
       "\n",
       "   aspect_ratio      mean_r      mean_g      mean_b   stddev_r   stddev_g  \\\n",
       "0      1.402247  195.258556  193.313269  173.783708  57.834578  54.947868   \n",
       "1      1.601036  200.541047  198.177794  178.330766  57.300307  54.351389   \n",
       "2      1.163043  193.216871  193.351267  174.504667  54.261332  50.802715   \n",
       "3      1.622905  187.503883  187.446881  163.931188  60.086385  55.726472   \n",
       "4      0.754301  185.310038  184.469700  162.667911  62.826548  60.994339   \n",
       "\n",
       "   ...  eccentricity  solidity  equiv_diameter  major_axis_length  \\\n",
       "0  ...      0.983715  0.742358     1586.292032        4060.844957   \n",
       "1  ...      0.986901  0.985009     1528.054134        3892.425283   \n",
       "2  ...      0.987518  0.966643     1482.078679        3807.992148   \n",
       "3  ...      0.977285  0.983399     1286.079530        2852.383343   \n",
       "4  ...      0.977447  0.979396     1084.572557        2403.186888   \n",
       "\n",
       "   minor_axis_length  skewness  kurtosis  hog_feature_1  hog_feature_2  \\\n",
       "0         729.870542 -1.349515  0.361069       0.449522       0.181592   \n",
       "1         627.943954 -1.381121  0.468266       0.363637       0.363637   \n",
       "2         599.773878 -1.463399  0.792236       0.409428       0.160951   \n",
       "3         604.509849 -1.172834 -0.234045       0.419914       0.275145   \n",
       "4         507.503272 -1.141764 -0.336749       0.378794       0.361990   \n",
       "\n",
       "   hog_feature_3  \n",
       "0       0.163116  \n",
       "1       0.363637  \n",
       "2       0.361947  \n",
       "3       0.419914  \n",
       "4       0.378794  \n",
       "\n",
       "[5 rows x 26 columns]"
      ]
     },
     "execution_count": 16,
     "metadata": {},
     "output_type": "execute_result"
    }
   ],
   "source": [
    "data.head()"
   ]
  },
  {
   "cell_type": "code",
   "execution_count": 17,
   "metadata": {
    "colab": {
     "base_uri": "https://localhost:8080/",
     "height": 75
    },
    "id": "gzoEnjdztFV_",
    "outputId": "3b2f80c4-077e-4a7c-92e4-fc7c69ac38e8"
   },
   "outputs": [
    {
     "data": {
      "text/html": [
       "<style>#sk-container-id-1 {color: black;}#sk-container-id-1 pre{padding: 0;}#sk-container-id-1 div.sk-toggleable {background-color: white;}#sk-container-id-1 label.sk-toggleable__label {cursor: pointer;display: block;width: 100%;margin-bottom: 0;padding: 0.3em;box-sizing: border-box;text-align: center;}#sk-container-id-1 label.sk-toggleable__label-arrow:before {content: \"▸\";float: left;margin-right: 0.25em;color: #696969;}#sk-container-id-1 label.sk-toggleable__label-arrow:hover:before {color: black;}#sk-container-id-1 div.sk-estimator:hover label.sk-toggleable__label-arrow:before {color: black;}#sk-container-id-1 div.sk-toggleable__content {max-height: 0;max-width: 0;overflow: hidden;text-align: left;background-color: #f0f8ff;}#sk-container-id-1 div.sk-toggleable__content pre {margin: 0.2em;color: black;border-radius: 0.25em;background-color: #f0f8ff;}#sk-container-id-1 input.sk-toggleable__control:checked~div.sk-toggleable__content {max-height: 200px;max-width: 100%;overflow: auto;}#sk-container-id-1 input.sk-toggleable__control:checked~label.sk-toggleable__label-arrow:before {content: \"▾\";}#sk-container-id-1 div.sk-estimator input.sk-toggleable__control:checked~label.sk-toggleable__label {background-color: #d4ebff;}#sk-container-id-1 div.sk-label input.sk-toggleable__control:checked~label.sk-toggleable__label {background-color: #d4ebff;}#sk-container-id-1 input.sk-hidden--visually {border: 0;clip: rect(1px 1px 1px 1px);clip: rect(1px, 1px, 1px, 1px);height: 1px;margin: -1px;overflow: hidden;padding: 0;position: absolute;width: 1px;}#sk-container-id-1 div.sk-estimator {font-family: monospace;background-color: #f0f8ff;border: 1px dotted black;border-radius: 0.25em;box-sizing: border-box;margin-bottom: 0.5em;}#sk-container-id-1 div.sk-estimator:hover {background-color: #d4ebff;}#sk-container-id-1 div.sk-parallel-item::after {content: \"\";width: 100%;border-bottom: 1px solid gray;flex-grow: 1;}#sk-container-id-1 div.sk-label:hover label.sk-toggleable__label {background-color: #d4ebff;}#sk-container-id-1 div.sk-serial::before {content: \"\";position: absolute;border-left: 1px solid gray;box-sizing: border-box;top: 0;bottom: 0;left: 50%;z-index: 0;}#sk-container-id-1 div.sk-serial {display: flex;flex-direction: column;align-items: center;background-color: white;padding-right: 0.2em;padding-left: 0.2em;position: relative;}#sk-container-id-1 div.sk-item {position: relative;z-index: 1;}#sk-container-id-1 div.sk-parallel {display: flex;align-items: stretch;justify-content: center;background-color: white;position: relative;}#sk-container-id-1 div.sk-item::before, #sk-container-id-1 div.sk-parallel-item::before {content: \"\";position: absolute;border-left: 1px solid gray;box-sizing: border-box;top: 0;bottom: 0;left: 50%;z-index: -1;}#sk-container-id-1 div.sk-parallel-item {display: flex;flex-direction: column;z-index: 1;position: relative;background-color: white;}#sk-container-id-1 div.sk-parallel-item:first-child::after {align-self: flex-end;width: 50%;}#sk-container-id-1 div.sk-parallel-item:last-child::after {align-self: flex-start;width: 50%;}#sk-container-id-1 div.sk-parallel-item:only-child::after {width: 0;}#sk-container-id-1 div.sk-dashed-wrapped {border: 1px dashed gray;margin: 0 0.4em 0.5em 0.4em;box-sizing: border-box;padding-bottom: 0.4em;background-color: white;}#sk-container-id-1 div.sk-label label {font-family: monospace;font-weight: bold;display: inline-block;line-height: 1.2em;}#sk-container-id-1 div.sk-label-container {text-align: center;}#sk-container-id-1 div.sk-container {/* jupyter's `normalize.less` sets `[hidden] { display: none; }` but bootstrap.min.css set `[hidden] { display: none !important; }` so we also need the `!important` here to be able to override the default hidden behavior on the sphinx rendered scikit-learn.org. See: https://github.com/scikit-learn/scikit-learn/issues/21755 */display: inline-block !important;position: relative;}#sk-container-id-1 div.sk-text-repr-fallback {display: none;}</style><div id=\"sk-container-id-1\" class=\"sk-top-container\"><div class=\"sk-text-repr-fallback\"><pre>PCA(n_components=14)</pre><b>In a Jupyter environment, please rerun this cell to show the HTML representation or trust the notebook. <br />On GitHub, the HTML representation is unable to render, please try loading this page with nbviewer.org.</b></div><div class=\"sk-container\" hidden><div class=\"sk-item\"><div class=\"sk-estimator sk-toggleable\"><input class=\"sk-toggleable__control sk-hidden--visually\" id=\"sk-estimator-id-1\" type=\"checkbox\" checked><label for=\"sk-estimator-id-1\" class=\"sk-toggleable__label sk-toggleable__label-arrow\">PCA</label><div class=\"sk-toggleable__content\"><pre>PCA(n_components=14)</pre></div></div></div></div></div>"
      ],
      "text/plain": [
       "PCA(n_components=14)"
      ]
     },
     "execution_count": 17,
     "metadata": {},
     "output_type": "execute_result"
    }
   ],
   "source": [
    "from sklearn.decomposition import PCA\n",
    "pca = PCA(n_components = 14)\n",
    "pca.fit(data)"
   ]
  },
  {
   "cell_type": "code",
   "execution_count": 18,
   "metadata": {
    "colab": {
     "base_uri": "https://localhost:8080/"
    },
    "id": "6arhkPO72oMY",
    "outputId": "1257ba22-75e2-4c74-9ced-ca1da37694a5"
   },
   "outputs": [
    {
     "name": "stdout",
     "output_type": "stream",
     "text": [
      "            area  perimeter  physiological_length  physiological_width  \\\n",
      "0   9.999918e-01   0.003534              0.001221             0.000913   \n",
      "1  -3.799398e-03   0.840445              0.118561             0.451325   \n",
      "2   1.108554e-03  -0.213030             -0.779668             0.586497   \n",
      "3  -3.409249e-04  -0.218795              0.019124            -0.124507   \n",
      "4  -2.462379e-04   0.437170             -0.609917            -0.656341   \n",
      "5   7.661427e-04  -0.091828             -0.065463            -0.067600   \n",
      "6   2.577330e-05   0.000528             -0.005235            -0.011998   \n",
      "7   7.633605e-05  -0.017723              0.005644             0.003868   \n",
      "8   3.023410e-06   0.021092             -0.032612            -0.031278   \n",
      "9  -1.636576e-05  -0.002702              0.010349             0.008421   \n",
      "10  3.547625e-06   0.007722             -0.012116            -0.015384   \n",
      "11 -2.287367e-06   0.002681             -0.004945            -0.003532   \n",
      "12 -2.481290e-06  -0.000845              0.001975             0.001934   \n",
      "13 -3.011275e-09   0.001285             -0.001768            -0.002099   \n",
      "\n",
      "    aspect_ratio    mean_r    mean_g    mean_b      stddev_r      stddev_g  \\\n",
      "0   2.594355e-07  0.000002  0.000001 -0.000005  5.783045e-07  5.840695e-07   \n",
      "1  -2.674266e-04  0.004929  0.005150  0.011037 -2.490713e-03 -2.933279e-03   \n",
      "2  -1.134324e-03 -0.001235 -0.001430 -0.002533  6.053603e-04  6.588428e-04   \n",
      "3   1.798556e-04  0.005472  0.005033  0.007679 -2.624379e-03 -3.078622e-03   \n",
      "4   2.054517e-03  0.012603  0.013663  0.040450 -2.252048e-03 -3.846737e-03   \n",
      "5   5.650991e-04  0.025468  0.034463  0.109755 -1.762504e-02 -2.070527e-02   \n",
      "6  -1.440031e-03 -0.519366 -0.457327 -0.174055  2.353378e-01  2.008573e-01   \n",
      "7  -4.686333e-03  0.171449  0.114833 -0.161780 -1.782551e-01 -1.681464e-01   \n",
      "8   2.834772e-03 -0.252172 -0.311441 -0.678396 -5.739053e-02 -1.128054e-01   \n",
      "9  -4.938478e-03 -0.088133 -0.161993 -0.006349 -5.760199e-01 -4.684510e-01   \n",
      "10  4.391060e-03  0.395668  0.251765 -0.618302 -7.463406e-02 -7.916200e-02   \n",
      "11 -2.926892e-03 -0.303346 -0.065575  0.251352 -4.359463e-01 -2.830799e-01   \n",
      "12  8.624117e-03 -0.417341  0.504511 -0.050354  4.619752e-01 -5.748951e-01   \n",
      "13 -1.640682e-02 -0.450186  0.566525 -0.138314 -4.024533e-01  5.198736e-01   \n",
      "\n",
      "    ...  eccentricity      solidity  equiv_diameter  major_axis_length  \\\n",
      "0   ... -9.724070e-10  1.046400e-08        0.000494           0.001153   \n",
      "1   ...  7.493575e-06 -1.792099e-05       -0.037081           0.264691   \n",
      "2   ... -2.716485e-06  1.771182e-06        0.030734           0.035632   \n",
      "3   ...  8.891441e-06  2.475409e-06        0.229801           0.939089   \n",
      "4   ... -6.949639e-06 -1.761344e-05        0.027486           0.017915   \n",
      "5   ...  7.103451e-05  4.534884e-05       -0.691434           0.165513   \n",
      "6   ... -1.382728e-04 -1.038287e-03       -0.307288           0.073127   \n",
      "7   ... -2.396076e-04 -8.287727e-04       -0.592002           0.113782   \n",
      "8   ...  9.223910e-06  6.386776e-04        0.118863          -0.010251   \n",
      "9   ...  8.455545e-05  5.121528e-04        0.080901          -0.022827   \n",
      "10  ... -1.455435e-04 -6.569645e-05       -0.013561           0.010106   \n",
      "11  ... -9.376265e-05 -1.074835e-03       -0.009873           0.005166   \n",
      "12  ... -3.851140e-04  5.879887e-03        0.007953          -0.002915   \n",
      "13  ... -6.181799e-05 -2.585378e-03       -0.000778           0.001071   \n",
      "\n",
      "    minor_axis_length      skewness  kurtosis  hog_feature_1  hog_feature_2  \\\n",
      "0            0.000219  2.792470e-07 -0.000001   2.334005e-08   3.345536e-09   \n",
      "1           -0.064930 -3.749236e-04  0.001322  -6.004451e-06  -4.989553e-08   \n",
      "2            0.022747  4.866240e-05 -0.000003   3.688544e-06  -4.131227e-06   \n",
      "3            0.037245 -2.637395e-04  0.000951  -8.620614e-06   2.369945e-05   \n",
      "4            0.051364 -1.140713e-03  0.003624  -2.812653e-05   1.220391e-04   \n",
      "5           -0.676593 -3.393224e-03  0.010613  -1.387417e-05   3.870988e-05   \n",
      "6            0.277840  4.016434e-03 -0.006551  -5.566631e-04   1.637219e-03   \n",
      "7            0.610693  9.272086e-04  0.014890   3.856316e-04  -6.429335e-04   \n",
      "8           -0.285041  5.787462e-03 -0.016421   7.223937e-04   1.792988e-04   \n",
      "9           -0.008404 -8.639879e-03  0.037438  -3.960379e-04   2.199013e-03   \n",
      "10          -0.042874  1.539521e-02 -0.040681  -9.653201e-04   2.123305e-03   \n",
      "11          -0.003185  1.653379e-02 -0.050881  -2.102127e-03   1.476301e-03   \n",
      "12           0.006266 -2.017780e-02  0.145229   2.442760e-03  -7.483105e-04   \n",
      "13          -0.006055  1.985060e-02 -0.003482  -2.420829e-03   9.355016e-04   \n",
      "\n",
      "    hog_feature_3  \n",
      "0   -9.015665e-09  \n",
      "1   -4.585765e-07  \n",
      "2   -2.954405e-06  \n",
      "3    7.492114e-07  \n",
      "4    4.156017e-05  \n",
      "5   -1.850143e-04  \n",
      "6    4.577826e-04  \n",
      "7   -2.568625e-04  \n",
      "8    1.368739e-04  \n",
      "9    2.500414e-04  \n",
      "10  -4.946441e-04  \n",
      "11   2.143051e-03  \n",
      "12  -4.958513e-03  \n",
      "13   4.669101e-03  \n",
      "\n",
      "[14 rows x 26 columns]\n"
     ]
    }
   ],
   "source": [
    "# Access the loadings of the first three principal components\n",
    "loadings = pca.components_[:14]\n",
    "\n",
    "# Map the loadings to the original feature names\n",
    "original_feature_names = data.columns\n",
    "component_loadings = pd.DataFrame(loadings, columns=original_feature_names)\n",
    "\n",
    "# Display the loadings for the first three components\n",
    "print(component_loadings)"
   ]
  },
  {
   "cell_type": "code",
   "execution_count": 19,
   "metadata": {
    "id": "UaHR4IkytIvE"
   },
   "outputs": [],
   "source": [
    "data2=pca.transform(data)"
   ]
  },
  {
   "cell_type": "code",
   "execution_count": 20,
   "metadata": {
    "colab": {
     "base_uri": "https://localhost:8080/"
    },
    "id": "0IHMWBmYtJ-h",
    "outputId": "a1eb4ea5-2873-4bbd-f5aa-023dd3a1da5e"
   },
   "outputs": [
    {
     "data": {
      "text/plain": [
       "array([[ 1.16988114e+06, -1.47769056e+02, -4.26613834e+02, ...,\n",
       "        -6.84443188e+00, -1.90131547e+00,  1.10695423e+00],\n",
       "       [-7.63387352e+05, -1.30518598e+03,  2.49222141e+02, ...,\n",
       "        -4.38505829e+00,  2.00136999e-01, -6.21796237e-01],\n",
       "       [-7.85437278e+05, -1.45940407e+03,  3.40182716e+02, ...,\n",
       "        -4.36461854e+00,  1.63385983e+00,  4.75903691e-01],\n",
       "       ...,\n",
       "       [-5.14549431e+05, -4.78264603e+02, -3.05151715e+02, ...,\n",
       "        -2.86686409e+00, -1.37082036e+00, -4.63447791e-01],\n",
       "       [-3.79466279e+05,  4.76350585e+02, -1.33382644e+02, ...,\n",
       "        -3.01783769e+00, -8.23883614e-01, -7.77732959e-01],\n",
       "       [-2.59317758e+05, -5.42959720e+02, -5.87652204e+01, ...,\n",
       "         1.52017057e+01,  2.71337463e+00,  2.34828869e+00]])"
      ]
     },
     "execution_count": 20,
     "metadata": {},
     "output_type": "execute_result"
    }
   ],
   "source": [
    "data2"
   ]
  },
  {
   "cell_type": "code",
   "execution_count": 21,
   "metadata": {
    "id": "UHS50kqEtLbe"
   },
   "outputs": [],
   "source": [
    "data2=pd.DataFrame(data2)\n",
    "data2 = data2.join(types)"
   ]
  },
  {
   "cell_type": "code",
   "execution_count": 22,
   "metadata": {
    "colab": {
     "base_uri": "https://localhost:8080/",
     "height": 424
    },
    "id": "g5P9nKYutNHi",
    "outputId": "288bd27e-f408-49a0-8007-454a22831014"
   },
   "outputs": [
    {
     "data": {
      "text/html": [
       "<div>\n",
       "<style scoped>\n",
       "    .dataframe tbody tr th:only-of-type {\n",
       "        vertical-align: middle;\n",
       "    }\n",
       "\n",
       "    .dataframe tbody tr th {\n",
       "        vertical-align: top;\n",
       "    }\n",
       "\n",
       "    .dataframe thead th {\n",
       "        text-align: right;\n",
       "    }\n",
       "</style>\n",
       "<table border=\"1\" class=\"dataframe\">\n",
       "  <thead>\n",
       "    <tr style=\"text-align: right;\">\n",
       "      <th></th>\n",
       "      <th>0</th>\n",
       "      <th>1</th>\n",
       "      <th>2</th>\n",
       "      <th>3</th>\n",
       "      <th>4</th>\n",
       "      <th>5</th>\n",
       "      <th>6</th>\n",
       "      <th>7</th>\n",
       "      <th>8</th>\n",
       "      <th>9</th>\n",
       "      <th>10</th>\n",
       "      <th>11</th>\n",
       "      <th>12</th>\n",
       "      <th>13</th>\n",
       "      <th>types</th>\n",
       "    </tr>\n",
       "  </thead>\n",
       "  <tbody>\n",
       "    <tr>\n",
       "      <th>0</th>\n",
       "      <td>1.169881e+06</td>\n",
       "      <td>-147.769056</td>\n",
       "      <td>-426.613834</td>\n",
       "      <td>142.506609</td>\n",
       "      <td>288.855776</td>\n",
       "      <td>1.596569</td>\n",
       "      <td>38.460931</td>\n",
       "      <td>37.470086</td>\n",
       "      <td>8.274524</td>\n",
       "      <td>-6.765105</td>\n",
       "      <td>0.397298</td>\n",
       "      <td>-6.844432</td>\n",
       "      <td>-1.901315</td>\n",
       "      <td>1.106954</td>\n",
       "      <td>Brown Spot</td>\n",
       "    </tr>\n",
       "    <tr>\n",
       "      <th>1</th>\n",
       "      <td>-7.633874e+05</td>\n",
       "      <td>-1305.185977</td>\n",
       "      <td>249.222141</td>\n",
       "      <td>2704.278502</td>\n",
       "      <td>49.737027</td>\n",
       "      <td>-287.489953</td>\n",
       "      <td>-5.148333</td>\n",
       "      <td>-27.980625</td>\n",
       "      <td>-5.847061</td>\n",
       "      <td>1.184211</td>\n",
       "      <td>-2.820113</td>\n",
       "      <td>-4.385058</td>\n",
       "      <td>0.200137</td>\n",
       "      <td>-0.621796</td>\n",
       "      <td>Brown Spot</td>\n",
       "    </tr>\n",
       "    <tr>\n",
       "      <th>2</th>\n",
       "      <td>-7.854373e+05</td>\n",
       "      <td>-1459.404073</td>\n",
       "      <td>340.182716</td>\n",
       "      <td>2673.209918</td>\n",
       "      <td>8.574177</td>\n",
       "      <td>-238.851080</td>\n",
       "      <td>-0.763852</td>\n",
       "      <td>-24.743784</td>\n",
       "      <td>3.083861</td>\n",
       "      <td>6.768647</td>\n",
       "      <td>-6.300317</td>\n",
       "      <td>-4.364619</td>\n",
       "      <td>1.633860</td>\n",
       "      <td>0.475904</td>\n",
       "      <td>Brown Spot</td>\n",
       "    </tr>\n",
       "    <tr>\n",
       "      <th>3</th>\n",
       "      <td>4.939813e+05</td>\n",
       "      <td>-990.134482</td>\n",
       "      <td>-401.905587</td>\n",
       "      <td>-60.475911</td>\n",
       "      <td>42.041916</td>\n",
       "      <td>-29.578219</td>\n",
       "      <td>11.308001</td>\n",
       "      <td>-3.109254</td>\n",
       "      <td>13.076555</td>\n",
       "      <td>-0.097331</td>\n",
       "      <td>-4.622137</td>\n",
       "      <td>-7.576078</td>\n",
       "      <td>0.773324</td>\n",
       "      <td>0.332332</td>\n",
       "      <td>Brown Spot</td>\n",
       "    </tr>\n",
       "    <tr>\n",
       "      <th>4</th>\n",
       "      <td>1.193338e+05</td>\n",
       "      <td>-464.362547</td>\n",
       "      <td>349.647699</td>\n",
       "      <td>-247.326435</td>\n",
       "      <td>-59.503598</td>\n",
       "      <td>-59.292193</td>\n",
       "      <td>8.878803</td>\n",
       "      <td>-10.964161</td>\n",
       "      <td>14.853296</td>\n",
       "      <td>-5.631839</td>\n",
       "      <td>-6.252837</td>\n",
       "      <td>-7.287331</td>\n",
       "      <td>-1.595236</td>\n",
       "      <td>0.861423</td>\n",
       "      <td>Brown Spot</td>\n",
       "    </tr>\n",
       "    <tr>\n",
       "      <th>...</th>\n",
       "      <td>...</td>\n",
       "      <td>...</td>\n",
       "      <td>...</td>\n",
       "      <td>...</td>\n",
       "      <td>...</td>\n",
       "      <td>...</td>\n",
       "      <td>...</td>\n",
       "      <td>...</td>\n",
       "      <td>...</td>\n",
       "      <td>...</td>\n",
       "      <td>...</td>\n",
       "      <td>...</td>\n",
       "      <td>...</td>\n",
       "      <td>...</td>\n",
       "      <td>...</td>\n",
       "    </tr>\n",
       "    <tr>\n",
       "      <th>195</th>\n",
       "      <td>3.799172e+05</td>\n",
       "      <td>878.473926</td>\n",
       "      <td>-176.855671</td>\n",
       "      <td>410.502106</td>\n",
       "      <td>-266.460182</td>\n",
       "      <td>23.047482</td>\n",
       "      <td>16.140222</td>\n",
       "      <td>-7.819906</td>\n",
       "      <td>-9.316717</td>\n",
       "      <td>-11.869408</td>\n",
       "      <td>-2.762549</td>\n",
       "      <td>-2.216812</td>\n",
       "      <td>-2.838630</td>\n",
       "      <td>-0.031980</td>\n",
       "      <td>Leaf Blast</td>\n",
       "    </tr>\n",
       "    <tr>\n",
       "      <th>196</th>\n",
       "      <td>-3.252849e+05</td>\n",
       "      <td>312.477092</td>\n",
       "      <td>-609.156317</td>\n",
       "      <td>-334.465715</td>\n",
       "      <td>143.804902</td>\n",
       "      <td>-35.043328</td>\n",
       "      <td>-21.396866</td>\n",
       "      <td>-6.736246</td>\n",
       "      <td>-1.845891</td>\n",
       "      <td>7.069618</td>\n",
       "      <td>7.907275</td>\n",
       "      <td>9.738119</td>\n",
       "      <td>-1.921369</td>\n",
       "      <td>-0.379521</td>\n",
       "      <td>Leaf Blast</td>\n",
       "    </tr>\n",
       "    <tr>\n",
       "      <th>197</th>\n",
       "      <td>-5.145494e+05</td>\n",
       "      <td>-478.264603</td>\n",
       "      <td>-305.151715</td>\n",
       "      <td>-393.091415</td>\n",
       "      <td>-82.108913</td>\n",
       "      <td>90.873471</td>\n",
       "      <td>22.360555</td>\n",
       "      <td>-7.998343</td>\n",
       "      <td>6.651043</td>\n",
       "      <td>-8.140166</td>\n",
       "      <td>-0.316647</td>\n",
       "      <td>-2.866864</td>\n",
       "      <td>-1.370820</td>\n",
       "      <td>-0.463448</td>\n",
       "      <td>Leaf Blast</td>\n",
       "    </tr>\n",
       "    <tr>\n",
       "      <th>198</th>\n",
       "      <td>-3.794663e+05</td>\n",
       "      <td>476.350585</td>\n",
       "      <td>-133.382644</td>\n",
       "      <td>-197.948208</td>\n",
       "      <td>-108.457427</td>\n",
       "      <td>33.351003</td>\n",
       "      <td>15.500810</td>\n",
       "      <td>-17.598730</td>\n",
       "      <td>3.156264</td>\n",
       "      <td>0.183184</td>\n",
       "      <td>-1.779291</td>\n",
       "      <td>-3.017838</td>\n",
       "      <td>-0.823884</td>\n",
       "      <td>-0.777733</td>\n",
       "      <td>Leaf Blast</td>\n",
       "    </tr>\n",
       "    <tr>\n",
       "      <th>199</th>\n",
       "      <td>-2.593178e+05</td>\n",
       "      <td>-542.959720</td>\n",
       "      <td>-58.765220</td>\n",
       "      <td>-292.481916</td>\n",
       "      <td>-143.472551</td>\n",
       "      <td>-7.615915</td>\n",
       "      <td>10.026860</td>\n",
       "      <td>-5.428814</td>\n",
       "      <td>-4.186790</td>\n",
       "      <td>-12.889333</td>\n",
       "      <td>2.398378</td>\n",
       "      <td>15.201706</td>\n",
       "      <td>2.713375</td>\n",
       "      <td>2.348289</td>\n",
       "      <td>Leaf Blast</td>\n",
       "    </tr>\n",
       "  </tbody>\n",
       "</table>\n",
       "<p>200 rows × 15 columns</p>\n",
       "</div>"
      ],
      "text/plain": [
       "                0            1           2            3           4  \\\n",
       "0    1.169881e+06  -147.769056 -426.613834   142.506609  288.855776   \n",
       "1   -7.633874e+05 -1305.185977  249.222141  2704.278502   49.737027   \n",
       "2   -7.854373e+05 -1459.404073  340.182716  2673.209918    8.574177   \n",
       "3    4.939813e+05  -990.134482 -401.905587   -60.475911   42.041916   \n",
       "4    1.193338e+05  -464.362547  349.647699  -247.326435  -59.503598   \n",
       "..            ...          ...         ...          ...         ...   \n",
       "195  3.799172e+05   878.473926 -176.855671   410.502106 -266.460182   \n",
       "196 -3.252849e+05   312.477092 -609.156317  -334.465715  143.804902   \n",
       "197 -5.145494e+05  -478.264603 -305.151715  -393.091415  -82.108913   \n",
       "198 -3.794663e+05   476.350585 -133.382644  -197.948208 -108.457427   \n",
       "199 -2.593178e+05  -542.959720  -58.765220  -292.481916 -143.472551   \n",
       "\n",
       "              5          6          7          8          9        10  \\\n",
       "0      1.596569  38.460931  37.470086   8.274524  -6.765105  0.397298   \n",
       "1   -287.489953  -5.148333 -27.980625  -5.847061   1.184211 -2.820113   \n",
       "2   -238.851080  -0.763852 -24.743784   3.083861   6.768647 -6.300317   \n",
       "3    -29.578219  11.308001  -3.109254  13.076555  -0.097331 -4.622137   \n",
       "4    -59.292193   8.878803 -10.964161  14.853296  -5.631839 -6.252837   \n",
       "..          ...        ...        ...        ...        ...       ...   \n",
       "195   23.047482  16.140222  -7.819906  -9.316717 -11.869408 -2.762549   \n",
       "196  -35.043328 -21.396866  -6.736246  -1.845891   7.069618  7.907275   \n",
       "197   90.873471  22.360555  -7.998343   6.651043  -8.140166 -0.316647   \n",
       "198   33.351003  15.500810 -17.598730   3.156264   0.183184 -1.779291   \n",
       "199   -7.615915  10.026860  -5.428814  -4.186790 -12.889333  2.398378   \n",
       "\n",
       "            11        12        13       types  \n",
       "0    -6.844432 -1.901315  1.106954  Brown Spot  \n",
       "1    -4.385058  0.200137 -0.621796  Brown Spot  \n",
       "2    -4.364619  1.633860  0.475904  Brown Spot  \n",
       "3    -7.576078  0.773324  0.332332  Brown Spot  \n",
       "4    -7.287331 -1.595236  0.861423  Brown Spot  \n",
       "..         ...       ...       ...         ...  \n",
       "195  -2.216812 -2.838630 -0.031980  Leaf Blast  \n",
       "196   9.738119 -1.921369 -0.379521  Leaf Blast  \n",
       "197  -2.866864 -1.370820 -0.463448  Leaf Blast  \n",
       "198  -3.017838 -0.823884 -0.777733  Leaf Blast  \n",
       "199  15.201706  2.713375  2.348289  Leaf Blast  \n",
       "\n",
       "[200 rows x 15 columns]"
      ]
     },
     "execution_count": 22,
     "metadata": {},
     "output_type": "execute_result"
    }
   ],
   "source": [
    "data2"
   ]
  },
  {
   "cell_type": "code",
   "execution_count": 23,
   "metadata": {
    "id": "-4GFnpsJtOwJ"
   },
   "outputs": [],
   "source": [
    "data2.index=data.index"
   ]
  },
  {
   "cell_type": "code",
   "execution_count": 24,
   "metadata": {
    "colab": {
     "base_uri": "https://localhost:8080/",
     "height": 206
    },
    "id": "rurrHOUQtQCj",
    "outputId": "30361353-6b48-40f7-ffc2-77c8445c3ec6"
   },
   "outputs": [
    {
     "data": {
      "text/html": [
       "<div>\n",
       "<style scoped>\n",
       "    .dataframe tbody tr th:only-of-type {\n",
       "        vertical-align: middle;\n",
       "    }\n",
       "\n",
       "    .dataframe tbody tr th {\n",
       "        vertical-align: top;\n",
       "    }\n",
       "\n",
       "    .dataframe thead th {\n",
       "        text-align: right;\n",
       "    }\n",
       "</style>\n",
       "<table border=\"1\" class=\"dataframe\">\n",
       "  <thead>\n",
       "    <tr style=\"text-align: right;\">\n",
       "      <th></th>\n",
       "      <th>0</th>\n",
       "      <th>1</th>\n",
       "      <th>2</th>\n",
       "      <th>3</th>\n",
       "      <th>4</th>\n",
       "      <th>5</th>\n",
       "      <th>6</th>\n",
       "      <th>7</th>\n",
       "      <th>8</th>\n",
       "      <th>9</th>\n",
       "      <th>10</th>\n",
       "      <th>11</th>\n",
       "      <th>12</th>\n",
       "      <th>13</th>\n",
       "      <th>types</th>\n",
       "    </tr>\n",
       "  </thead>\n",
       "  <tbody>\n",
       "    <tr>\n",
       "      <th>0</th>\n",
       "      <td>1.169881e+06</td>\n",
       "      <td>-147.769056</td>\n",
       "      <td>-426.613834</td>\n",
       "      <td>142.506609</td>\n",
       "      <td>288.855776</td>\n",
       "      <td>1.596569</td>\n",
       "      <td>38.460931</td>\n",
       "      <td>37.470086</td>\n",
       "      <td>8.274524</td>\n",
       "      <td>-6.765105</td>\n",
       "      <td>0.397298</td>\n",
       "      <td>-6.844432</td>\n",
       "      <td>-1.901315</td>\n",
       "      <td>1.106954</td>\n",
       "      <td>Brown Spot</td>\n",
       "    </tr>\n",
       "    <tr>\n",
       "      <th>1</th>\n",
       "      <td>-7.633874e+05</td>\n",
       "      <td>-1305.185977</td>\n",
       "      <td>249.222141</td>\n",
       "      <td>2704.278502</td>\n",
       "      <td>49.737027</td>\n",
       "      <td>-287.489953</td>\n",
       "      <td>-5.148333</td>\n",
       "      <td>-27.980625</td>\n",
       "      <td>-5.847061</td>\n",
       "      <td>1.184211</td>\n",
       "      <td>-2.820113</td>\n",
       "      <td>-4.385058</td>\n",
       "      <td>0.200137</td>\n",
       "      <td>-0.621796</td>\n",
       "      <td>Brown Spot</td>\n",
       "    </tr>\n",
       "    <tr>\n",
       "      <th>2</th>\n",
       "      <td>-7.854373e+05</td>\n",
       "      <td>-1459.404073</td>\n",
       "      <td>340.182716</td>\n",
       "      <td>2673.209918</td>\n",
       "      <td>8.574177</td>\n",
       "      <td>-238.851080</td>\n",
       "      <td>-0.763852</td>\n",
       "      <td>-24.743784</td>\n",
       "      <td>3.083861</td>\n",
       "      <td>6.768647</td>\n",
       "      <td>-6.300317</td>\n",
       "      <td>-4.364619</td>\n",
       "      <td>1.633860</td>\n",
       "      <td>0.475904</td>\n",
       "      <td>Brown Spot</td>\n",
       "    </tr>\n",
       "    <tr>\n",
       "      <th>3</th>\n",
       "      <td>4.939813e+05</td>\n",
       "      <td>-990.134482</td>\n",
       "      <td>-401.905587</td>\n",
       "      <td>-60.475911</td>\n",
       "      <td>42.041916</td>\n",
       "      <td>-29.578219</td>\n",
       "      <td>11.308001</td>\n",
       "      <td>-3.109254</td>\n",
       "      <td>13.076555</td>\n",
       "      <td>-0.097331</td>\n",
       "      <td>-4.622137</td>\n",
       "      <td>-7.576078</td>\n",
       "      <td>0.773324</td>\n",
       "      <td>0.332332</td>\n",
       "      <td>Brown Spot</td>\n",
       "    </tr>\n",
       "    <tr>\n",
       "      <th>4</th>\n",
       "      <td>1.193338e+05</td>\n",
       "      <td>-464.362547</td>\n",
       "      <td>349.647699</td>\n",
       "      <td>-247.326435</td>\n",
       "      <td>-59.503598</td>\n",
       "      <td>-59.292193</td>\n",
       "      <td>8.878803</td>\n",
       "      <td>-10.964161</td>\n",
       "      <td>14.853296</td>\n",
       "      <td>-5.631839</td>\n",
       "      <td>-6.252837</td>\n",
       "      <td>-7.287331</td>\n",
       "      <td>-1.595236</td>\n",
       "      <td>0.861423</td>\n",
       "      <td>Brown Spot</td>\n",
       "    </tr>\n",
       "  </tbody>\n",
       "</table>\n",
       "</div>"
      ],
      "text/plain": [
       "              0            1           2            3           4           5  \\\n",
       "0  1.169881e+06  -147.769056 -426.613834   142.506609  288.855776    1.596569   \n",
       "1 -7.633874e+05 -1305.185977  249.222141  2704.278502   49.737027 -287.489953   \n",
       "2 -7.854373e+05 -1459.404073  340.182716  2673.209918    8.574177 -238.851080   \n",
       "3  4.939813e+05  -990.134482 -401.905587   -60.475911   42.041916  -29.578219   \n",
       "4  1.193338e+05  -464.362547  349.647699  -247.326435  -59.503598  -59.292193   \n",
       "\n",
       "           6          7          8         9        10        11        12  \\\n",
       "0  38.460931  37.470086   8.274524 -6.765105  0.397298 -6.844432 -1.901315   \n",
       "1  -5.148333 -27.980625  -5.847061  1.184211 -2.820113 -4.385058  0.200137   \n",
       "2  -0.763852 -24.743784   3.083861  6.768647 -6.300317 -4.364619  1.633860   \n",
       "3  11.308001  -3.109254  13.076555 -0.097331 -4.622137 -7.576078  0.773324   \n",
       "4   8.878803 -10.964161  14.853296 -5.631839 -6.252837 -7.287331 -1.595236   \n",
       "\n",
       "         13       types  \n",
       "0  1.106954  Brown Spot  \n",
       "1 -0.621796  Brown Spot  \n",
       "2  0.475904  Brown Spot  \n",
       "3  0.332332  Brown Spot  \n",
       "4  0.861423  Brown Spot  "
      ]
     },
     "execution_count": 24,
     "metadata": {},
     "output_type": "execute_result"
    }
   ],
   "source": [
    "data2.head()"
   ]
  },
  {
   "cell_type": "code",
   "execution_count": 25,
   "metadata": {
    "colab": {
     "base_uri": "https://localhost:8080/"
    },
    "id": "0xnslH7AtRL4",
    "outputId": "9cdeb683-7db3-4052-b464-57113ba53ab0"
   },
   "outputs": [
    {
     "name": "stdout",
     "output_type": "stream",
     "text": [
      "[9.99989835e-01 6.24360594e-06 2.21391481e-06 1.53273083e-06\n",
      " 1.43877062e-07 2.67557665e-08 1.54307123e-09 1.22609012e-09\n",
      " 9.84763024e-10 3.69269562e-10 1.66764451e-10 8.30406785e-11\n",
      " 9.90764125e-12 6.00703154e-12]\n"
     ]
    }
   ],
   "source": [
    "print(pca.explained_variance_ratio_)"
   ]
  },
  {
   "cell_type": "code",
   "execution_count": 26,
   "metadata": {
    "colab": {
     "base_uri": "https://localhost:8080/"
    },
    "id": "mKujzSEOtSvE",
    "outputId": "a3392cbf-8cfb-48ad-ec50-5e55e4ad6229"
   },
   "outputs": [
    {
     "data": {
      "text/plain": [
       "(200, 15)"
      ]
     },
     "execution_count": 26,
     "metadata": {},
     "output_type": "execute_result"
    }
   ],
   "source": [
    "data2.shape"
   ]
  },
  {
   "cell_type": "code",
   "execution_count": 27,
   "metadata": {
    "id": "HuahHHi5tU3c"
   },
   "outputs": [],
   "source": [
    "data2.to_csv(\"dataset/csv/pca.csv\", index=False)"
   ]
  },
  {
   "cell_type": "code",
   "execution_count": 28,
   "metadata": {},
   "outputs": [
    {
     "data": {
      "text/plain": [
       "['models/pca/Rice_pca_model.pkl']"
      ]
     },
     "execution_count": 28,
     "metadata": {},
     "output_type": "execute_result"
    }
   ],
   "source": [
    "import joblib\n",
    "# Save the PCA model to a file\n",
    "joblib.dump(pca, 'models/pca/Rice_pca_model.pkl')"
   ]
  },
  {
   "cell_type": "markdown",
   "metadata": {
    "id": "hbks6Stftjp8"
   },
   "source": [
    "# SVM"
   ]
  },
  {
   "cell_type": "code",
   "execution_count": 29,
   "metadata": {
    "id": "LIdipuJvtgAJ"
   },
   "outputs": [],
   "source": [
    "import pandas as pd"
   ]
  },
  {
   "cell_type": "code",
   "execution_count": 30,
   "metadata": {
    "id": "QVrIn9PTtohA"
   },
   "outputs": [],
   "source": [
    "data = pd.read_csv(\"dataset/csv/pca.csv\")"
   ]
  },
  {
   "cell_type": "code",
   "execution_count": 31,
   "metadata": {
    "colab": {
     "base_uri": "https://localhost:8080/",
     "height": 424
    },
    "id": "Qgi-7hj2tp2X",
    "outputId": "fbf8e5f4-dc79-483f-a499-7dfc2936d79d"
   },
   "outputs": [
    {
     "data": {
      "text/html": [
       "<div>\n",
       "<style scoped>\n",
       "    .dataframe tbody tr th:only-of-type {\n",
       "        vertical-align: middle;\n",
       "    }\n",
       "\n",
       "    .dataframe tbody tr th {\n",
       "        vertical-align: top;\n",
       "    }\n",
       "\n",
       "    .dataframe thead th {\n",
       "        text-align: right;\n",
       "    }\n",
       "</style>\n",
       "<table border=\"1\" class=\"dataframe\">\n",
       "  <thead>\n",
       "    <tr style=\"text-align: right;\">\n",
       "      <th></th>\n",
       "      <th>0</th>\n",
       "      <th>1</th>\n",
       "      <th>2</th>\n",
       "      <th>3</th>\n",
       "      <th>4</th>\n",
       "      <th>5</th>\n",
       "      <th>6</th>\n",
       "      <th>7</th>\n",
       "      <th>8</th>\n",
       "      <th>9</th>\n",
       "      <th>10</th>\n",
       "      <th>11</th>\n",
       "      <th>12</th>\n",
       "      <th>13</th>\n",
       "      <th>types</th>\n",
       "    </tr>\n",
       "  </thead>\n",
       "  <tbody>\n",
       "    <tr>\n",
       "      <th>0</th>\n",
       "      <td>1.169881e+06</td>\n",
       "      <td>-147.769056</td>\n",
       "      <td>-426.613834</td>\n",
       "      <td>142.506609</td>\n",
       "      <td>288.855776</td>\n",
       "      <td>1.596569</td>\n",
       "      <td>38.460931</td>\n",
       "      <td>37.470086</td>\n",
       "      <td>8.274524</td>\n",
       "      <td>-6.765105</td>\n",
       "      <td>0.397298</td>\n",
       "      <td>-6.844432</td>\n",
       "      <td>-1.901315</td>\n",
       "      <td>1.106954</td>\n",
       "      <td>Brown Spot</td>\n",
       "    </tr>\n",
       "    <tr>\n",
       "      <th>1</th>\n",
       "      <td>-7.633874e+05</td>\n",
       "      <td>-1305.185977</td>\n",
       "      <td>249.222141</td>\n",
       "      <td>2704.278502</td>\n",
       "      <td>49.737027</td>\n",
       "      <td>-287.489953</td>\n",
       "      <td>-5.148333</td>\n",
       "      <td>-27.980625</td>\n",
       "      <td>-5.847061</td>\n",
       "      <td>1.184211</td>\n",
       "      <td>-2.820113</td>\n",
       "      <td>-4.385058</td>\n",
       "      <td>0.200137</td>\n",
       "      <td>-0.621796</td>\n",
       "      <td>Brown Spot</td>\n",
       "    </tr>\n",
       "    <tr>\n",
       "      <th>2</th>\n",
       "      <td>-7.854373e+05</td>\n",
       "      <td>-1459.404073</td>\n",
       "      <td>340.182716</td>\n",
       "      <td>2673.209918</td>\n",
       "      <td>8.574177</td>\n",
       "      <td>-238.851080</td>\n",
       "      <td>-0.763852</td>\n",
       "      <td>-24.743784</td>\n",
       "      <td>3.083861</td>\n",
       "      <td>6.768647</td>\n",
       "      <td>-6.300317</td>\n",
       "      <td>-4.364619</td>\n",
       "      <td>1.633860</td>\n",
       "      <td>0.475904</td>\n",
       "      <td>Brown Spot</td>\n",
       "    </tr>\n",
       "    <tr>\n",
       "      <th>3</th>\n",
       "      <td>4.939813e+05</td>\n",
       "      <td>-990.134482</td>\n",
       "      <td>-401.905587</td>\n",
       "      <td>-60.475911</td>\n",
       "      <td>42.041916</td>\n",
       "      <td>-29.578219</td>\n",
       "      <td>11.308001</td>\n",
       "      <td>-3.109254</td>\n",
       "      <td>13.076555</td>\n",
       "      <td>-0.097331</td>\n",
       "      <td>-4.622137</td>\n",
       "      <td>-7.576078</td>\n",
       "      <td>0.773324</td>\n",
       "      <td>0.332332</td>\n",
       "      <td>Brown Spot</td>\n",
       "    </tr>\n",
       "    <tr>\n",
       "      <th>4</th>\n",
       "      <td>1.193338e+05</td>\n",
       "      <td>-464.362547</td>\n",
       "      <td>349.647699</td>\n",
       "      <td>-247.326435</td>\n",
       "      <td>-59.503598</td>\n",
       "      <td>-59.292193</td>\n",
       "      <td>8.878803</td>\n",
       "      <td>-10.964161</td>\n",
       "      <td>14.853296</td>\n",
       "      <td>-5.631839</td>\n",
       "      <td>-6.252837</td>\n",
       "      <td>-7.287331</td>\n",
       "      <td>-1.595236</td>\n",
       "      <td>0.861423</td>\n",
       "      <td>Brown Spot</td>\n",
       "    </tr>\n",
       "    <tr>\n",
       "      <th>...</th>\n",
       "      <td>...</td>\n",
       "      <td>...</td>\n",
       "      <td>...</td>\n",
       "      <td>...</td>\n",
       "      <td>...</td>\n",
       "      <td>...</td>\n",
       "      <td>...</td>\n",
       "      <td>...</td>\n",
       "      <td>...</td>\n",
       "      <td>...</td>\n",
       "      <td>...</td>\n",
       "      <td>...</td>\n",
       "      <td>...</td>\n",
       "      <td>...</td>\n",
       "      <td>...</td>\n",
       "    </tr>\n",
       "    <tr>\n",
       "      <th>195</th>\n",
       "      <td>3.799172e+05</td>\n",
       "      <td>878.473926</td>\n",
       "      <td>-176.855671</td>\n",
       "      <td>410.502106</td>\n",
       "      <td>-266.460182</td>\n",
       "      <td>23.047482</td>\n",
       "      <td>16.140222</td>\n",
       "      <td>-7.819906</td>\n",
       "      <td>-9.316717</td>\n",
       "      <td>-11.869408</td>\n",
       "      <td>-2.762549</td>\n",
       "      <td>-2.216812</td>\n",
       "      <td>-2.838630</td>\n",
       "      <td>-0.031980</td>\n",
       "      <td>Leaf Blast</td>\n",
       "    </tr>\n",
       "    <tr>\n",
       "      <th>196</th>\n",
       "      <td>-3.252849e+05</td>\n",
       "      <td>312.477092</td>\n",
       "      <td>-609.156317</td>\n",
       "      <td>-334.465715</td>\n",
       "      <td>143.804902</td>\n",
       "      <td>-35.043328</td>\n",
       "      <td>-21.396866</td>\n",
       "      <td>-6.736246</td>\n",
       "      <td>-1.845891</td>\n",
       "      <td>7.069618</td>\n",
       "      <td>7.907275</td>\n",
       "      <td>9.738119</td>\n",
       "      <td>-1.921369</td>\n",
       "      <td>-0.379521</td>\n",
       "      <td>Leaf Blast</td>\n",
       "    </tr>\n",
       "    <tr>\n",
       "      <th>197</th>\n",
       "      <td>-5.145494e+05</td>\n",
       "      <td>-478.264603</td>\n",
       "      <td>-305.151715</td>\n",
       "      <td>-393.091415</td>\n",
       "      <td>-82.108913</td>\n",
       "      <td>90.873471</td>\n",
       "      <td>22.360555</td>\n",
       "      <td>-7.998343</td>\n",
       "      <td>6.651043</td>\n",
       "      <td>-8.140166</td>\n",
       "      <td>-0.316647</td>\n",
       "      <td>-2.866864</td>\n",
       "      <td>-1.370820</td>\n",
       "      <td>-0.463448</td>\n",
       "      <td>Leaf Blast</td>\n",
       "    </tr>\n",
       "    <tr>\n",
       "      <th>198</th>\n",
       "      <td>-3.794663e+05</td>\n",
       "      <td>476.350585</td>\n",
       "      <td>-133.382644</td>\n",
       "      <td>-197.948208</td>\n",
       "      <td>-108.457427</td>\n",
       "      <td>33.351003</td>\n",
       "      <td>15.500810</td>\n",
       "      <td>-17.598730</td>\n",
       "      <td>3.156264</td>\n",
       "      <td>0.183184</td>\n",
       "      <td>-1.779291</td>\n",
       "      <td>-3.017838</td>\n",
       "      <td>-0.823884</td>\n",
       "      <td>-0.777733</td>\n",
       "      <td>Leaf Blast</td>\n",
       "    </tr>\n",
       "    <tr>\n",
       "      <th>199</th>\n",
       "      <td>-2.593178e+05</td>\n",
       "      <td>-542.959720</td>\n",
       "      <td>-58.765220</td>\n",
       "      <td>-292.481916</td>\n",
       "      <td>-143.472551</td>\n",
       "      <td>-7.615915</td>\n",
       "      <td>10.026860</td>\n",
       "      <td>-5.428814</td>\n",
       "      <td>-4.186790</td>\n",
       "      <td>-12.889333</td>\n",
       "      <td>2.398378</td>\n",
       "      <td>15.201706</td>\n",
       "      <td>2.713375</td>\n",
       "      <td>2.348289</td>\n",
       "      <td>Leaf Blast</td>\n",
       "    </tr>\n",
       "  </tbody>\n",
       "</table>\n",
       "<p>200 rows × 15 columns</p>\n",
       "</div>"
      ],
      "text/plain": [
       "                0            1           2            3           4  \\\n",
       "0    1.169881e+06  -147.769056 -426.613834   142.506609  288.855776   \n",
       "1   -7.633874e+05 -1305.185977  249.222141  2704.278502   49.737027   \n",
       "2   -7.854373e+05 -1459.404073  340.182716  2673.209918    8.574177   \n",
       "3    4.939813e+05  -990.134482 -401.905587   -60.475911   42.041916   \n",
       "4    1.193338e+05  -464.362547  349.647699  -247.326435  -59.503598   \n",
       "..            ...          ...         ...          ...         ...   \n",
       "195  3.799172e+05   878.473926 -176.855671   410.502106 -266.460182   \n",
       "196 -3.252849e+05   312.477092 -609.156317  -334.465715  143.804902   \n",
       "197 -5.145494e+05  -478.264603 -305.151715  -393.091415  -82.108913   \n",
       "198 -3.794663e+05   476.350585 -133.382644  -197.948208 -108.457427   \n",
       "199 -2.593178e+05  -542.959720  -58.765220  -292.481916 -143.472551   \n",
       "\n",
       "              5          6          7          8          9        10  \\\n",
       "0      1.596569  38.460931  37.470086   8.274524  -6.765105  0.397298   \n",
       "1   -287.489953  -5.148333 -27.980625  -5.847061   1.184211 -2.820113   \n",
       "2   -238.851080  -0.763852 -24.743784   3.083861   6.768647 -6.300317   \n",
       "3    -29.578219  11.308001  -3.109254  13.076555  -0.097331 -4.622137   \n",
       "4    -59.292193   8.878803 -10.964161  14.853296  -5.631839 -6.252837   \n",
       "..          ...        ...        ...        ...        ...       ...   \n",
       "195   23.047482  16.140222  -7.819906  -9.316717 -11.869408 -2.762549   \n",
       "196  -35.043328 -21.396866  -6.736246  -1.845891   7.069618  7.907275   \n",
       "197   90.873471  22.360555  -7.998343   6.651043  -8.140166 -0.316647   \n",
       "198   33.351003  15.500810 -17.598730   3.156264   0.183184 -1.779291   \n",
       "199   -7.615915  10.026860  -5.428814  -4.186790 -12.889333  2.398378   \n",
       "\n",
       "            11        12        13       types  \n",
       "0    -6.844432 -1.901315  1.106954  Brown Spot  \n",
       "1    -4.385058  0.200137 -0.621796  Brown Spot  \n",
       "2    -4.364619  1.633860  0.475904  Brown Spot  \n",
       "3    -7.576078  0.773324  0.332332  Brown Spot  \n",
       "4    -7.287331 -1.595236  0.861423  Brown Spot  \n",
       "..         ...       ...       ...         ...  \n",
       "195  -2.216812 -2.838630 -0.031980  Leaf Blast  \n",
       "196   9.738119 -1.921369 -0.379521  Leaf Blast  \n",
       "197  -2.866864 -1.370820 -0.463448  Leaf Blast  \n",
       "198  -3.017838 -0.823884 -0.777733  Leaf Blast  \n",
       "199  15.201706  2.713375  2.348289  Leaf Blast  \n",
       "\n",
       "[200 rows x 15 columns]"
      ]
     },
     "execution_count": 31,
     "metadata": {},
     "output_type": "execute_result"
    }
   ],
   "source": [
    "data"
   ]
  },
  {
   "cell_type": "markdown",
   "metadata": {
    "id": "8A_yZiJUyGUS"
   },
   "source": [
    "### Sampling"
   ]
  },
  {
   "cell_type": "code",
   "execution_count": 32,
   "metadata": {
    "colab": {
     "base_uri": "https://localhost:8080/"
    },
    "id": "sdT4CZjSsX3R",
    "outputId": "fb454d4d-bbf6-42cb-de9f-2820847a0033"
   },
   "outputs": [
    {
     "name": "stdout",
     "output_type": "stream",
     "text": [
      "X shape: (200, 14)\n",
      "y shape: (200,)\n"
     ]
    }
   ],
   "source": [
    "# Extract the features (X) and labels (y)\n",
    "X = data.iloc[:, :-1]  # Select all columns except the last one as features\n",
    "y = data['types']  # Select the 'types' column as the target variable\n",
    "\n",
    "# Check the shape of X and y to ensure they are correct\n",
    "print(\"X shape:\", X.shape)\n",
    "print(\"y shape:\", y.shape)"
   ]
  },
  {
   "cell_type": "code",
   "execution_count": 33,
   "metadata": {
    "colab": {
     "base_uri": "https://localhost:8080/",
     "height": 1000
    },
    "id": "WXrMdMzFtINe",
    "outputId": "07ecae1f-6240-4585-a0ea-af651dabe814"
   },
   "outputs": [
    {
     "name": "stdout",
     "output_type": "stream",
     "text": [
      "Class distribution before SMOTE:\n",
      "types\n",
      "Brown Spot    50\n",
      "Healthy       50\n",
      "Hispa         50\n",
      "Leaf Blast    50\n",
      "Name: count, dtype: int64\n"
     ]
    },
    {
     "data": {
      "image/png": "[encoded data removed]",
      "text/plain": [
       "<Figure size 1000x500 with 1 Axes>"
      ]
     },
     "metadata": {},
     "output_type": "display_data"
    },
    {
     "name": "stdout",
     "output_type": "stream",
     "text": [
      "Class distribution after SMOTE:\n",
      "Counter({'Brown Spot': 50, 'Healthy': 50, 'Hispa': 50, 'Leaf Blast': 50})\n"
     ]
    },
    {
     "data": {
      "image/png": "[encoded data removed]",
      "text/plain": [
       "<Figure size 1000x500 with 1 Axes>"
      ]
     },
     "metadata": {},
     "output_type": "display_data"
    }
   ],
   "source": [
    "import pandas as pd\n",
    "import matplotlib.pyplot as plt\n",
    "from imblearn.over_sampling import SMOTE\n",
    "from collections import Counter\n",
    "\n",
    "# Extract the features (X) and labels (y)\n",
    "X = data.iloc[:, :-1]  # Select all columns except the last one as features\n",
    "y = data['types']  # Select the 'types' column as the target variable\n",
    "\n",
    "# Check the class distribution before applying SMOTE\n",
    "label_counts_before = y.value_counts()\n",
    "print(\"Class distribution before SMOTE:\")\n",
    "print(label_counts_before)\n",
    "\n",
    "# Create a bar chart to visualize the class distribution before SMOTE\n",
    "plt.figure(figsize=(10, 5))\n",
    "plt.bar(label_counts_before.index, label_counts_before.values)\n",
    "plt.xlabel('Label')\n",
    "plt.ylabel('Count')\n",
    "plt.title('Class Distribution Before SMOTE')\n",
    "plt.show()\n",
    "\n",
    "# Create an instance of the SMOTE class\n",
    "smote = SMOTE(sampling_strategy='auto', random_state=42)\n",
    "\n",
    "# Apply SMOTE to balance the dataset\n",
    "X_resampled, y_resampled = smote.fit_resample(X, y)\n",
    "\n",
    "# Check the class distribution after applying SMOTE\n",
    "label_counts_after = Counter(y_resampled)\n",
    "print(\"Class distribution after SMOTE:\")\n",
    "print(label_counts_after)\n",
    "\n",
    "# Create a bar chart to visualize the class distribution after SMOTE\n",
    "plt.figure(figsize=(10, 5))\n",
    "plt.bar(label_counts_after.keys(), label_counts_after.values())\n",
    "plt.xlabel('Label')\n",
    "plt.ylabel('Count')\n",
    "plt.title('Class Distribution After SMOTE')\n",
    "plt.show()"
   ]
  },
  {
   "cell_type": "code",
   "execution_count": 34,
   "metadata": {
    "id": "7V_j2s9avPWb"
   },
   "outputs": [],
   "source": [
    "# Overwrite DataFrame with the resampled data\n",
    "data = pd.DataFrame(X_resampled, columns=X.columns)\n",
    "data['types'] = y_resampled"
   ]
  },
  {
   "cell_type": "markdown",
   "metadata": {
    "id": "KxYzfU99yKjc"
   },
   "source": [
    "### Splitting"
   ]
  },
  {
   "cell_type": "code",
   "execution_count": 35,
   "metadata": {},
   "outputs": [
    {
     "data": {
      "text/html": [
       "<div>\n",
       "<style scoped>\n",
       "    .dataframe tbody tr th:only-of-type {\n",
       "        vertical-align: middle;\n",
       "    }\n",
       "\n",
       "    .dataframe tbody tr th {\n",
       "        vertical-align: top;\n",
       "    }\n",
       "\n",
       "    .dataframe thead th {\n",
       "        text-align: right;\n",
       "    }\n",
       "</style>\n",
       "<table border=\"1\" class=\"dataframe\">\n",
       "  <thead>\n",
       "    <tr style=\"text-align: right;\">\n",
       "      <th></th>\n",
       "      <th>0</th>\n",
       "      <th>1</th>\n",
       "      <th>2</th>\n",
       "      <th>3</th>\n",
       "      <th>4</th>\n",
       "      <th>5</th>\n",
       "      <th>6</th>\n",
       "      <th>7</th>\n",
       "      <th>8</th>\n",
       "      <th>9</th>\n",
       "      <th>10</th>\n",
       "      <th>11</th>\n",
       "      <th>12</th>\n",
       "      <th>13</th>\n",
       "      <th>types</th>\n",
       "    </tr>\n",
       "  </thead>\n",
       "  <tbody>\n",
       "    <tr>\n",
       "      <th>0</th>\n",
       "      <td>1.169881e+06</td>\n",
       "      <td>-147.769056</td>\n",
       "      <td>-426.613834</td>\n",
       "      <td>142.506609</td>\n",
       "      <td>288.855776</td>\n",
       "      <td>1.596569</td>\n",
       "      <td>38.460931</td>\n",
       "      <td>37.470086</td>\n",
       "      <td>8.274524</td>\n",
       "      <td>-6.765105</td>\n",
       "      <td>0.397298</td>\n",
       "      <td>-6.844432</td>\n",
       "      <td>-1.901315</td>\n",
       "      <td>1.106954</td>\n",
       "      <td>Brown Spot</td>\n",
       "    </tr>\n",
       "    <tr>\n",
       "      <th>1</th>\n",
       "      <td>-7.633874e+05</td>\n",
       "      <td>-1305.185977</td>\n",
       "      <td>249.222141</td>\n",
       "      <td>2704.278502</td>\n",
       "      <td>49.737027</td>\n",
       "      <td>-287.489953</td>\n",
       "      <td>-5.148333</td>\n",
       "      <td>-27.980625</td>\n",
       "      <td>-5.847061</td>\n",
       "      <td>1.184211</td>\n",
       "      <td>-2.820113</td>\n",
       "      <td>-4.385058</td>\n",
       "      <td>0.200137</td>\n",
       "      <td>-0.621796</td>\n",
       "      <td>Brown Spot</td>\n",
       "    </tr>\n",
       "    <tr>\n",
       "      <th>2</th>\n",
       "      <td>-7.854373e+05</td>\n",
       "      <td>-1459.404073</td>\n",
       "      <td>340.182716</td>\n",
       "      <td>2673.209918</td>\n",
       "      <td>8.574177</td>\n",
       "      <td>-238.851080</td>\n",
       "      <td>-0.763852</td>\n",
       "      <td>-24.743784</td>\n",
       "      <td>3.083861</td>\n",
       "      <td>6.768647</td>\n",
       "      <td>-6.300317</td>\n",
       "      <td>-4.364619</td>\n",
       "      <td>1.633860</td>\n",
       "      <td>0.475904</td>\n",
       "      <td>Brown Spot</td>\n",
       "    </tr>\n",
       "    <tr>\n",
       "      <th>3</th>\n",
       "      <td>4.939813e+05</td>\n",
       "      <td>-990.134482</td>\n",
       "      <td>-401.905587</td>\n",
       "      <td>-60.475911</td>\n",
       "      <td>42.041916</td>\n",
       "      <td>-29.578219</td>\n",
       "      <td>11.308001</td>\n",
       "      <td>-3.109254</td>\n",
       "      <td>13.076555</td>\n",
       "      <td>-0.097331</td>\n",
       "      <td>-4.622137</td>\n",
       "      <td>-7.576078</td>\n",
       "      <td>0.773324</td>\n",
       "      <td>0.332332</td>\n",
       "      <td>Brown Spot</td>\n",
       "    </tr>\n",
       "    <tr>\n",
       "      <th>4</th>\n",
       "      <td>1.193338e+05</td>\n",
       "      <td>-464.362547</td>\n",
       "      <td>349.647699</td>\n",
       "      <td>-247.326435</td>\n",
       "      <td>-59.503598</td>\n",
       "      <td>-59.292193</td>\n",
       "      <td>8.878803</td>\n",
       "      <td>-10.964161</td>\n",
       "      <td>14.853296</td>\n",
       "      <td>-5.631839</td>\n",
       "      <td>-6.252837</td>\n",
       "      <td>-7.287331</td>\n",
       "      <td>-1.595236</td>\n",
       "      <td>0.861423</td>\n",
       "      <td>Brown Spot</td>\n",
       "    </tr>\n",
       "  </tbody>\n",
       "</table>\n",
       "</div>"
      ],
      "text/plain": [
       "              0            1           2            3           4           5  \\\n",
       "0  1.169881e+06  -147.769056 -426.613834   142.506609  288.855776    1.596569   \n",
       "1 -7.633874e+05 -1305.185977  249.222141  2704.278502   49.737027 -287.489953   \n",
       "2 -7.854373e+05 -1459.404073  340.182716  2673.209918    8.574177 -238.851080   \n",
       "3  4.939813e+05  -990.134482 -401.905587   -60.475911   42.041916  -29.578219   \n",
       "4  1.193338e+05  -464.362547  349.647699  -247.326435  -59.503598  -59.292193   \n",
       "\n",
       "           6          7          8         9        10        11        12  \\\n",
       "0  38.460931  37.470086   8.274524 -6.765105  0.397298 -6.844432 -1.901315   \n",
       "1  -5.148333 -27.980625  -5.847061  1.184211 -2.820113 -4.385058  0.200137   \n",
       "2  -0.763852 -24.743784   3.083861  6.768647 -6.300317 -4.364619  1.633860   \n",
       "3  11.308001  -3.109254  13.076555 -0.097331 -4.622137 -7.576078  0.773324   \n",
       "4   8.878803 -10.964161  14.853296 -5.631839 -6.252837 -7.287331 -1.595236   \n",
       "\n",
       "         13       types  \n",
       "0  1.106954  Brown Spot  \n",
       "1 -0.621796  Brown Spot  \n",
       "2  0.475904  Brown Spot  \n",
       "3  0.332332  Brown Spot  \n",
       "4  0.861423  Brown Spot  "
      ]
     },
     "execution_count": 35,
     "metadata": {},
     "output_type": "execute_result"
    }
   ],
   "source": [
    "data.head()"
   ]
  },
  {
   "cell_type": "code",
   "execution_count": 36,
   "metadata": {
    "id": "qZJPoKoOtrDo"
   },
   "outputs": [],
   "source": [
    "x=data.iloc[:,0:14].values"
   ]
  },
  {
   "cell_type": "code",
   "execution_count": 37,
   "metadata": {
    "colab": {
     "base_uri": "https://localhost:8080/"
    },
    "id": "7fp9dT6Htuhi",
    "outputId": "a8f702d3-e18d-42d4-ac04-33f44a371c11"
   },
   "outputs": [
    {
     "data": {
      "text/plain": [
       "array([[ 1.16988114e+06, -1.47769056e+02, -4.26613834e+02, ...,\n",
       "        -6.84443188e+00, -1.90131547e+00,  1.10695423e+00],\n",
       "       [-7.63387352e+05, -1.30518598e+03,  2.49222141e+02, ...,\n",
       "        -4.38505829e+00,  2.00136999e-01, -6.21796237e-01],\n",
       "       [-7.85437278e+05, -1.45940407e+03,  3.40182716e+02, ...,\n",
       "        -4.36461854e+00,  1.63385983e+00,  4.75903691e-01],\n",
       "       ...,\n",
       "       [-5.14549431e+05, -4.78264603e+02, -3.05151715e+02, ...,\n",
       "        -2.86686409e+00, -1.37082036e+00, -4.63447791e-01],\n",
       "       [-3.79466279e+05,  4.76350585e+02, -1.33382644e+02, ...,\n",
       "        -3.01783769e+00, -8.23883614e-01, -7.77732959e-01],\n",
       "       [-2.59317758e+05, -5.42959720e+02, -5.87652204e+01, ...,\n",
       "         1.52017057e+01,  2.71337463e+00,  2.34828869e+00]])"
      ]
     },
     "execution_count": 37,
     "metadata": {},
     "output_type": "execute_result"
    }
   ],
   "source": [
    "x"
   ]
  },
  {
   "cell_type": "code",
   "execution_count": 38,
   "metadata": {
    "colab": {
     "base_uri": "https://localhost:8080/"
    },
    "id": "65iWAYdgtvr5",
    "outputId": "886720b7-9ade-47f5-8d8a-4dad9e9bffdd"
   },
   "outputs": [
    {
     "data": {
      "text/plain": [
       "(200, 14)"
      ]
     },
     "execution_count": 38,
     "metadata": {},
     "output_type": "execute_result"
    }
   ],
   "source": [
    "x.shape"
   ]
  },
  {
   "cell_type": "code",
   "execution_count": 39,
   "metadata": {
    "id": "QEZwVpOdtxAu"
   },
   "outputs": [],
   "source": [
    "y=data.iloc[:,14].values"
   ]
  },
  {
   "cell_type": "code",
   "execution_count": 40,
   "metadata": {
    "colab": {
     "base_uri": "https://localhost:8080/"
    },
    "id": "SVS4I-mPtyO7",
    "outputId": "860c2dae-29e2-42d0-fc42-ae7586de0441"
   },
   "outputs": [
    {
     "data": {
      "text/plain": [
       "array(['Brown Spot', 'Brown Spot', 'Brown Spot', 'Brown Spot',\n",
       "       'Brown Spot', 'Brown Spot', 'Brown Spot', 'Brown Spot',\n",
       "       'Brown Spot', 'Brown Spot', 'Brown Spot', 'Brown Spot',\n",
       "       'Brown Spot', 'Brown Spot', 'Brown Spot', 'Brown Spot',\n",
       "       'Brown Spot', 'Brown Spot', 'Brown Spot', 'Brown Spot',\n",
       "       'Brown Spot', 'Brown Spot', 'Brown Spot', 'Brown Spot',\n",
       "       'Brown Spot', 'Brown Spot', 'Brown Spot', 'Brown Spot',\n",
       "       'Brown Spot', 'Brown Spot', 'Brown Spot', 'Brown Spot',\n",
       "       'Brown Spot', 'Brown Spot', 'Brown Spot', 'Brown Spot',\n",
       "       'Brown Spot', 'Brown Spot', 'Brown Spot', 'Brown Spot',\n",
       "       'Brown Spot', 'Brown Spot', 'Brown Spot', 'Brown Spot',\n",
       "       'Brown Spot', 'Brown Spot', 'Brown Spot', 'Brown Spot',\n",
       "       'Brown Spot', 'Brown Spot', 'Healthy', 'Healthy', 'Healthy',\n",
       "       'Healthy', 'Healthy', 'Healthy', 'Healthy', 'Healthy', 'Healthy',\n",
       "       'Healthy', 'Healthy', 'Healthy', 'Healthy', 'Healthy', 'Healthy',\n",
       "       'Healthy', 'Healthy', 'Healthy', 'Healthy', 'Healthy', 'Healthy',\n",
       "       'Healthy', 'Healthy', 'Healthy', 'Healthy', 'Healthy', 'Healthy',\n",
       "       'Healthy', 'Healthy', 'Healthy', 'Healthy', 'Healthy', 'Healthy',\n",
       "       'Healthy', 'Healthy', 'Healthy', 'Healthy', 'Healthy', 'Healthy',\n",
       "       'Healthy', 'Healthy', 'Healthy', 'Healthy', 'Healthy', 'Healthy',\n",
       "       'Healthy', 'Healthy', 'Healthy', 'Healthy', 'Healthy', 'Hispa',\n",
       "       'Hispa', 'Hispa', 'Hispa', 'Hispa', 'Hispa', 'Hispa', 'Hispa',\n",
       "       'Hispa', 'Hispa', 'Hispa', 'Hispa', 'Hispa', 'Hispa', 'Hispa',\n",
       "       'Hispa', 'Hispa', 'Hispa', 'Hispa', 'Hispa', 'Hispa', 'Hispa',\n",
       "       'Hispa', 'Hispa', 'Hispa', 'Hispa', 'Hispa', 'Hispa', 'Hispa',\n",
       "       'Hispa', 'Hispa', 'Hispa', 'Hispa', 'Hispa', 'Hispa', 'Hispa',\n",
       "       'Hispa', 'Hispa', 'Hispa', 'Hispa', 'Hispa', 'Hispa', 'Hispa',\n",
       "       'Hispa', 'Hispa', 'Hispa', 'Hispa', 'Hispa', 'Hispa', 'Hispa',\n",
       "       'Leaf Blast', 'Leaf Blast', 'Leaf Blast', 'Leaf Blast',\n",
       "       'Leaf Blast', 'Leaf Blast', 'Leaf Blast', 'Leaf Blast',\n",
       "       'Leaf Blast', 'Leaf Blast', 'Leaf Blast', 'Leaf Blast',\n",
       "       'Leaf Blast', 'Leaf Blast', 'Leaf Blast', 'Leaf Blast',\n",
       "       'Leaf Blast', 'Leaf Blast', 'Leaf Blast', 'Leaf Blast',\n",
       "       'Leaf Blast', 'Leaf Blast', 'Leaf Blast', 'Leaf Blast',\n",
       "       'Leaf Blast', 'Leaf Blast', 'Leaf Blast', 'Leaf Blast',\n",
       "       'Leaf Blast', 'Leaf Blast', 'Leaf Blast', 'Leaf Blast',\n",
       "       'Leaf Blast', 'Leaf Blast', 'Leaf Blast', 'Leaf Blast',\n",
       "       'Leaf Blast', 'Leaf Blast', 'Leaf Blast', 'Leaf Blast',\n",
       "       'Leaf Blast', 'Leaf Blast', 'Leaf Blast', 'Leaf Blast',\n",
       "       'Leaf Blast', 'Leaf Blast', 'Leaf Blast', 'Leaf Blast',\n",
       "       'Leaf Blast', 'Leaf Blast'], dtype=object)"
      ]
     },
     "execution_count": 40,
     "metadata": {},
     "output_type": "execute_result"
    }
   ],
   "source": [
    "y"
   ]
  },
  {
   "cell_type": "code",
   "execution_count": 41,
   "metadata": {
    "id": "eDlnB-lltzmX"
   },
   "outputs": [],
   "source": [
    "from sklearn.preprocessing import StandardScaler\n",
    "data2=StandardScaler()\n",
    "x=data2.fit_transform(x)"
   ]
  },
  {
   "cell_type": "code",
   "execution_count": 42,
   "metadata": {},
   "outputs": [
    {
     "data": {
      "text/plain": [
       "['models/scalers/Rice_scaler_model.pkl']"
      ]
     },
     "execution_count": 42,
     "metadata": {},
     "output_type": "execute_result"
    }
   ],
   "source": [
    "import joblib\n",
    "\n",
    "# Save the trained model to a file\n",
    "joblib.dump(data2, 'models/scalers/Rice_scaler_model.pkl')"
   ]
  },
  {
   "cell_type": "code",
   "execution_count": 43,
   "metadata": {
    "colab": {
     "base_uri": "https://localhost:8080/"
    },
    "id": "MMgVI393t0um",
    "outputId": "20b2fd15-4e9e-4c22-b98e-d540afbd4402"
   },
   "outputs": [
    {
     "data": {
      "text/plain": [
       "array([[ 2.89421095, -0.14630258, -0.70931757, ..., -1.85813899,\n",
       "        -1.49436016,  1.11734154],\n",
       "       [-1.88857138, -1.29223319,  0.41437391, ..., -1.19046371,\n",
       "         0.15729991, -0.62763098],\n",
       "       [-1.94312148, -1.44492082,  0.56561123, ..., -1.18491469,\n",
       "         1.28415041,  0.48036942],\n",
       "       ...,\n",
       "       [-1.27296231, -0.47351826, -0.50736628, ..., -0.77830155,\n",
       "        -1.0774116 , -0.46779664],\n",
       "       [-0.93877525,  0.47162324, -0.22177118, ..., -0.81928814,\n",
       "        -0.64754054, -0.78503096],\n",
       "       [-0.64153551, -0.53757134, -0.09770711, ...,  4.12698711,\n",
       "         2.13260714,  2.37032428]])"
      ]
     },
     "execution_count": 43,
     "metadata": {},
     "output_type": "execute_result"
    }
   ],
   "source": [
    "x"
   ]
  },
  {
   "cell_type": "code",
   "execution_count": 44,
   "metadata": {
    "id": "nQTQRp4Ut2ze"
   },
   "outputs": [],
   "source": [
    "from sklearn.model_selection import train_test_split\n",
    "x_train,x_test,y_train,y_test=train_test_split(x,y,test_size=0.2,random_state=0)"
   ]
  },
  {
   "cell_type": "markdown",
   "metadata": {
    "id": "6k5ppePD_hjr"
   },
   "source": [
    "### Default Parameters Training"
   ]
  },
  {
   "cell_type": "code",
   "execution_count": 45,
   "metadata": {
    "id": "Tmbb2gg3t4c6"
   },
   "outputs": [],
   "source": [
    "from sklearn.svm import SVC\n",
    "\n",
    "# Assuming x_train is your feature matrix and y_train is your target variable as a NumPy array\n",
    "svm = SVC()\n",
    "\n",
    "# Train the SVM model\n",
    "strain = svm.fit(x_train, y_train)"
   ]
  },
  {
   "cell_type": "code",
   "execution_count": 46,
   "metadata": {
    "colab": {
     "base_uri": "https://localhost:8080/",
     "height": 75
    },
    "id": "gJwa7r85t8aW",
    "outputId": "1fbed260-5103-4719-ac59-0205499ecb22"
   },
   "outputs": [
    {
     "data": {
      "text/html": [
       "<style>#sk-container-id-2 {color: black;}#sk-container-id-2 pre{padding: 0;}#sk-container-id-2 div.sk-toggleable {background-color: white;}#sk-container-id-2 label.sk-toggleable__label {cursor: pointer;display: block;width: 100%;margin-bottom: 0;padding: 0.3em;box-sizing: border-box;text-align: center;}#sk-container-id-2 label.sk-toggleable__label-arrow:before {content: \"▸\";float: left;margin-right: 0.25em;color: #696969;}#sk-container-id-2 label.sk-toggleable__label-arrow:hover:before {color: black;}#sk-container-id-2 div.sk-estimator:hover label.sk-toggleable__label-arrow:before {color: black;}#sk-container-id-2 div.sk-toggleable__content {max-height: 0;max-width: 0;overflow: hidden;text-align: left;background-color: #f0f8ff;}#sk-container-id-2 div.sk-toggleable__content pre {margin: 0.2em;color: black;border-radius: 0.25em;background-color: #f0f8ff;}#sk-container-id-2 input.sk-toggleable__control:checked~div.sk-toggleable__content {max-height: 200px;max-width: 100%;overflow: auto;}#sk-container-id-2 input.sk-toggleable__control:checked~label.sk-toggleable__label-arrow:before {content: \"▾\";}#sk-container-id-2 div.sk-estimator input.sk-toggleable__control:checked~label.sk-toggleable__label {background-color: #d4ebff;}#sk-container-id-2 div.sk-label input.sk-toggleable__control:checked~label.sk-toggleable__label {background-color: #d4ebff;}#sk-container-id-2 input.sk-hidden--visually {border: 0;clip: rect(1px 1px 1px 1px);clip: rect(1px, 1px, 1px, 1px);height: 1px;margin: -1px;overflow: hidden;padding: 0;position: absolute;width: 1px;}#sk-container-id-2 div.sk-estimator {font-family: monospace;background-color: #f0f8ff;border: 1px dotted black;border-radius: 0.25em;box-sizing: border-box;margin-bottom: 0.5em;}#sk-container-id-2 div.sk-estimator:hover {background-color: #d4ebff;}#sk-container-id-2 div.sk-parallel-item::after {content: \"\";width: 100%;border-bottom: 1px solid gray;flex-grow: 1;}#sk-container-id-2 div.sk-label:hover label.sk-toggleable__label {background-color: #d4ebff;}#sk-container-id-2 div.sk-serial::before {content: \"\";position: absolute;border-left: 1px solid gray;box-sizing: border-box;top: 0;bottom: 0;left: 50%;z-index: 0;}#sk-container-id-2 div.sk-serial {display: flex;flex-direction: column;align-items: center;background-color: white;padding-right: 0.2em;padding-left: 0.2em;position: relative;}#sk-container-id-2 div.sk-item {position: relative;z-index: 1;}#sk-container-id-2 div.sk-parallel {display: flex;align-items: stretch;justify-content: center;background-color: white;position: relative;}#sk-container-id-2 div.sk-item::before, #sk-container-id-2 div.sk-parallel-item::before {content: \"\";position: absolute;border-left: 1px solid gray;box-sizing: border-box;top: 0;bottom: 0;left: 50%;z-index: -1;}#sk-container-id-2 div.sk-parallel-item {display: flex;flex-direction: column;z-index: 1;position: relative;background-color: white;}#sk-container-id-2 div.sk-parallel-item:first-child::after {align-self: flex-end;width: 50%;}#sk-container-id-2 div.sk-parallel-item:last-child::after {align-self: flex-start;width: 50%;}#sk-container-id-2 div.sk-parallel-item:only-child::after {width: 0;}#sk-container-id-2 div.sk-dashed-wrapped {border: 1px dashed gray;margin: 0 0.4em 0.5em 0.4em;box-sizing: border-box;padding-bottom: 0.4em;background-color: white;}#sk-container-id-2 div.sk-label label {font-family: monospace;font-weight: bold;display: inline-block;line-height: 1.2em;}#sk-container-id-2 div.sk-label-container {text-align: center;}#sk-container-id-2 div.sk-container {/* jupyter's `normalize.less` sets `[hidden] { display: none; }` but bootstrap.min.css set `[hidden] { display: none !important; }` so we also need the `!important` here to be able to override the default hidden behavior on the sphinx rendered scikit-learn.org. See: https://github.com/scikit-learn/scikit-learn/issues/21755 */display: inline-block !important;position: relative;}#sk-container-id-2 div.sk-text-repr-fallback {display: none;}</style><div id=\"sk-container-id-2\" class=\"sk-top-container\"><div class=\"sk-text-repr-fallback\"><pre>SVC()</pre><b>In a Jupyter environment, please rerun this cell to show the HTML representation or trust the notebook. <br />On GitHub, the HTML representation is unable to render, please try loading this page with nbviewer.org.</b></div><div class=\"sk-container\" hidden><div class=\"sk-item\"><div class=\"sk-estimator sk-toggleable\"><input class=\"sk-toggleable__control sk-hidden--visually\" id=\"sk-estimator-id-2\" type=\"checkbox\" checked><label for=\"sk-estimator-id-2\" class=\"sk-toggleable__label sk-toggleable__label-arrow\">SVC</label><div class=\"sk-toggleable__content\"><pre>SVC()</pre></div></div></div></div></div>"
      ],
      "text/plain": [
       "SVC()"
      ]
     },
     "execution_count": 46,
     "metadata": {},
     "output_type": "execute_result"
    }
   ],
   "source": [
    "strain"
   ]
  },
  {
   "cell_type": "code",
   "execution_count": 47,
   "metadata": {},
   "outputs": [
    {
     "data": {
      "text/plain": [
       "['models/classifiers/Rice_classifier_model.pkl']"
      ]
     },
     "execution_count": 47,
     "metadata": {},
     "output_type": "execute_result"
    }
   ],
   "source": [
    "import joblib\n",
    "\n",
    "# Save the trained model to a file\n",
    "joblib.dump(strain, 'models/classifiers/Rice_classifier_model.pkl')"
   ]
  },
  {
   "cell_type": "markdown",
   "metadata": {
    "id": "8zlMICAkyPss"
   },
   "source": [
    "### Testing"
   ]
  },
  {
   "cell_type": "code",
   "execution_count": 48,
   "metadata": {
    "colab": {
     "base_uri": "https://localhost:8080/"
    },
    "id": "EQD5xxINt92B",
    "outputId": "e0e25db0-9a02-4fbb-9085-d556f0dff6ac"
   },
   "outputs": [
    {
     "data": {
      "text/plain": [
       "array([[ 2.58186925e-01, -2.65662011e-01, -3.80810407e-02,\n",
       "        -1.78899455e-01, -1.04842256e+00, -4.95257171e-01,\n",
       "        -1.28850353e+00, -2.10670045e-01, -1.10514517e-01,\n",
       "        -7.34822637e-01,  1.20326660e+00,  1.21999119e-01,\n",
       "         5.11587654e-01, -5.98567755e-01],\n",
       "       [-2.33974439e-02, -2.96884614e-01, -1.63880799e+00,\n",
       "        -1.99787308e-02,  1.04605148e+00, -1.67990382e-01,\n",
       "        -1.42546972e+00, -2.05016145e-01,  6.96958364e-01,\n",
       "         1.07317770e+00,  3.99354231e-01, -4.56953178e-01,\n",
       "         3.10134110e-01,  4.60304166e-01],\n",
       "       [-4.98064354e-01,  1.09070793e+00, -1.15202638e+00,\n",
       "         1.86399885e-01, -5.60455891e-01, -1.96744034e-01,\n",
       "         4.82628999e-01, -2.12827482e-01,  2.08014124e-01,\n",
       "         2.07232857e-01, -1.53409831e+00, -3.02608440e-01,\n",
       "        -3.48572749e-01,  2.49433148e-01],\n",
       "       [ 1.59657510e-01, -1.10217124e+00, -1.46804727e+00,\n",
       "        -1.73403360e-02,  1.66002753e+00,  1.59501517e-01,\n",
       "         8.23280986e-01, -3.31428875e-01,  3.22163326e-02,\n",
       "        -6.86604140e-01, -4.38130977e-02,  4.82082731e-01,\n",
       "        -4.61987451e-01, -8.20091176e-01],\n",
       "       [-5.08892926e-01, -5.77741466e-01, -1.72652469e+00,\n",
       "        -4.90032431e-02,  1.46991221e+00,  6.56135654e-01,\n",
       "        -6.52503891e-01, -6.18155557e-02,  1.01078997e+00,\n",
       "        -1.12887676e+00,  4.67627702e-01, -1.16023647e+00,\n",
       "         3.29357789e-01,  6.55954914e-01],\n",
       "       [-1.98413342e+00, -2.20676331e+00,  8.31907165e-01,\n",
       "         4.63832273e+00, -6.83578446e-01,  7.05312226e-01,\n",
       "         1.90849483e-01,  5.86227237e-01,  1.00092202e+00,\n",
       "         8.44523444e-02,  9.37813211e-01,  6.94029571e-01,\n",
       "        -4.47497176e-01,  4.08691526e-01],\n",
       "       [ 6.40276613e-01, -4.50537417e-02,  8.21039262e-01,\n",
       "        -2.47923058e-01, -1.59019265e-01, -6.75683106e-01,\n",
       "        -3.99374507e-01, -6.83508605e-01,  2.31304665e-01,\n",
       "        -1.14493509e+00, -8.75853673e-01, -2.11389308e+00,\n",
       "        -2.58781092e+00,  4.20841558e-01],\n",
       "       [-1.03264718e+00,  1.01277082e+00,  1.30386288e-02,\n",
       "        -2.61188871e-01, -3.02224291e-01,  7.46790387e-01,\n",
       "         1.80452689e-01, -2.17993255e-01, -3.26436153e-02,\n",
       "         4.17372357e-01, -3.62074869e-01, -8.25736691e-01,\n",
       "        -9.46230132e-02,  5.24132502e-01],\n",
       "       [ 1.48048792e-02, -1.15568645e+00,  2.47357427e-01,\n",
       "        -6.58569338e-01, -1.03833059e+00, -8.97056890e-01,\n",
       "         7.49518660e-01,  4.99009735e-01,  1.26655381e+00,\n",
       "        -1.07532478e-01,  1.24796714e+00, -1.69001241e-01,\n",
       "         8.43336321e-01, -3.88983788e-02],\n",
       "       [-9.73060737e-01, -5.07064764e-01,  1.38084387e-01,\n",
       "        -8.18168867e-01, -7.61277902e-01,  3.96144531e-01,\n",
       "        -1.47542229e+00,  5.97363184e-01, -2.97321999e-01,\n",
       "        -8.50320688e-01,  1.02636050e+00, -6.91047915e-02,\n",
       "        -1.70166712e+00, -1.87266616e-01],\n",
       "       [-2.86500718e-01,  5.36323512e-01,  1.12032397e+00,\n",
       "        -1.98620799e-01,  7.10245837e-01,  1.93490519e-01,\n",
       "         4.19927661e-01, -1.56803443e+00,  4.67831244e-01,\n",
       "         9.95533867e-02, -3.66218542e-01, -6.09180992e-01,\n",
       "         2.61981465e-01,  1.90257767e-01],\n",
       "       [-5.27105496e-01,  1.39156404e+00,  3.12016142e-01,\n",
       "        -5.78545070e-01,  2.77817050e+00, -1.85976128e+00,\n",
       "         5.30717086e-01,  3.01446737e+00, -2.39012677e+00,\n",
       "        -1.90380629e-01,  3.37611554e-01,  7.32372472e-02,\n",
       "        -3.88980794e-01,  5.31353929e-01],\n",
       "       [-1.44383687e-01,  1.76621769e-01, -5.93471173e-01,\n",
       "        -1.94857372e-01, -6.66561183e-01, -5.53969742e-01,\n",
       "        -1.47648012e+00, -4.72582824e-01,  1.51695198e-01,\n",
       "        -4.95225469e-01,  6.85052933e-01,  3.40109110e-02,\n",
       "         7.64922926e-01, -1.08770123e-02],\n",
       "       [-9.80554893e-01,  1.34555421e-01, -2.84556438e-01,\n",
       "        -6.98105046e-01, -9.35501532e-01, -6.20929358e-02,\n",
       "        -1.57423357e+00,  9.50742827e-01, -7.10879754e-01,\n",
       "        -1.17489771e+00,  6.98148504e-02, -6.26940118e-01,\n",
       "        -6.22079097e-01,  2.32387153e-01],\n",
       "       [-9.03744872e-01, -6.64996036e-01, -9.87098959e-01,\n",
       "        -6.05018508e-01,  5.37020083e-01,  4.72627116e-01,\n",
       "         6.30750986e-01, -5.15208637e-01, -2.14872431e-01,\n",
       "        -1.23979594e+00, -3.24617400e-01, -4.24910364e-01,\n",
       "        -2.24074416e-01, -1.03647204e+00],\n",
       "       [-3.94864194e-01, -8.65056703e-01,  1.47020427e+00,\n",
       "        -7.96390092e-01,  8.63798772e-01, -8.55591912e-02,\n",
       "        -8.53667787e-01,  5.34967170e-01,  1.92787557e-01,\n",
       "        -9.41880005e-01,  3.44019386e-01, -6.79557228e-02,\n",
       "        -5.19063687e-01, -8.08061551e-01],\n",
       "       [ 2.85346915e-01,  3.47293921e-01,  1.52609516e+00,\n",
       "        -1.19372778e-01,  8.51827580e-01,  7.28352150e-02,\n",
       "        -1.08230196e+00, -5.11343623e-01,  2.25011596e+00,\n",
       "         1.38884677e+00, -5.38681916e-01, -1.54853901e-01,\n",
       "        -3.68482781e-02,  4.86173224e-01],\n",
       "       [-7.76659445e-01,  3.72116704e-01,  4.02170459e-02,\n",
       "        -4.71235017e-01, -2.99906269e-01,  1.47083467e-02,\n",
       "         1.31931462e+00, -1.71940095e+00, -3.37232131e+00,\n",
       "         2.94865154e+00,  3.60755005e+00, -2.75511796e+00,\n",
       "        -8.08053294e-01,  5.97303512e-01],\n",
       "       [ 3.68508290e-01,  6.01845438e-01, -3.43779625e-01,\n",
       "         2.17081689e-01, -1.31853097e+00, -6.00800019e-01,\n",
       "        -4.12418506e-01,  3.43027732e-01,  6.65463100e-01,\n",
       "         5.88647332e-01,  3.19468560e-01,  4.54261877e-01,\n",
       "        -1.39621605e+00,  2.69811870e-01],\n",
       "       [ 4.84594198e-01, -2.75573123e-01, -1.11083437e+00,\n",
       "         8.35918702e-02,  6.27414623e-01, -4.08128163e-01,\n",
       "         7.33481140e-01, -6.74784964e-01, -1.88380701e-01,\n",
       "        -6.14963279e-01, -1.02103226e+00,  1.23210723e+00,\n",
       "         1.46496830e+00, -2.08322488e-01],\n",
       "       [ 5.67839677e-01,  2.11045995e-01, -2.48351112e-01,\n",
       "         1.72714842e-01, -1.39975072e+00, -3.25948930e-01,\n",
       "        -9.34246195e-01, -4.49978931e-01, -1.99333464e-02,\n",
       "        -6.57787430e-01,  5.15333543e-01, -8.05971030e-02,\n",
       "         4.61448064e-01,  6.58940160e-01],\n",
       "       [-1.11514465e+00,  7.62061745e-01, -1.52950319e-01,\n",
       "        -2.36609890e-01, -4.77021542e-01,  1.15222846e+00,\n",
       "         6.80799205e-01, -8.21155936e-02, -4.51346761e-01,\n",
       "         6.58012379e-02, -6.01958484e-02, -2.58533637e-01,\n",
       "        -6.34260496e-01, -4.03065550e-01],\n",
       "       [ 3.00488018e+00, -5.94938534e-01, -8.01203182e-02,\n",
       "         6.07458529e-01, -1.30491329e+00,  1.88216926e+00,\n",
       "        -8.71398991e-01,  9.86192281e-01, -9.42684270e-01,\n",
       "         4.75859693e-01,  4.04201579e-02, -1.06140013e-01,\n",
       "        -3.65813330e-01,  6.86525469e-02],\n",
       "       [-5.02178471e-01, -5.52835264e-01, -1.01477368e+00,\n",
       "        -4.70151788e-01,  4.46461195e-01, -2.33670307e-01,\n",
       "        -3.45709428e-01, -1.10680648e-01,  1.40096807e+00,\n",
       "         1.96237223e-01,  1.23313446e-01, -9.44843166e-01,\n",
       "        -5.24500638e-01, -4.44471289e-01],\n",
       "       [ 7.29018572e-01,  6.64029856e-01,  1.29220152e+00,\n",
       "         1.63837030e-01,  4.99538386e-01,  8.21307807e-02,\n",
       "        -3.47286751e-01, -1.24302691e+00, -1.70350293e-01,\n",
       "        -2.60414000e-01, -7.57023297e-01,  2.61674619e-01,\n",
       "        -4.17056154e-01, -8.19674169e-01],\n",
       "       [-1.03215808e+00,  2.78071197e-01, -8.08312234e-01,\n",
       "        -3.77021161e-01, -5.15262766e-01,  7.26305131e-01,\n",
       "         5.57422368e-01, -4.94732551e-01,  6.04701595e-01,\n",
       "        -7.03956609e-01, -2.08403696e+00,  5.65125820e-02,\n",
       "        -6.66951801e-01,  5.87245987e-01],\n",
       "       [-2.07006453e-01,  6.58775672e-02, -1.44316747e+00,\n",
       "        -3.54723957e-02,  5.86434195e-01, -1.88623444e-01,\n",
       "        -1.58459727e+00, -3.86115220e-01,  4.39304779e-01,\n",
       "         3.71099913e-02,  5.28669817e-01, -6.55272732e-01,\n",
       "         1.29531565e-01, -1.10371579e-01],\n",
       "       [ 3.14037854e-01,  1.10674668e-01, -1.70704151e-01,\n",
       "         3.43998692e-04, -1.38514765e+00, -5.37613659e-01,\n",
       "        -3.46141901e-01, -4.87317664e-01,  1.39350123e-01,\n",
       "        -1.67910618e+00,  3.63838197e-01, -6.36513897e-01,\n",
       "         2.73924964e-02,  1.35058489e-01],\n",
       "       [-1.37433166e+00,  1.94132618e-01, -9.90028023e-01,\n",
       "        -5.64754728e-01, -4.36053097e-01,  1.73453042e+00,\n",
       "        -2.75785400e-01,  3.52603586e-01,  1.35573898e-01,\n",
       "        -5.26290748e-01, -1.54148083e+00, -4.38751270e-01,\n",
       "        -5.46745187e-01, -1.20384933e+00],\n",
       "       [ 2.60984155e+00,  2.23350488e-02, -3.32849772e-01,\n",
       "         6.20794235e-01, -1.29442921e+00,  8.48564440e-01,\n",
       "         1.27172982e+00,  1.28936683e+00,  1.94160484e+00,\n",
       "         3.18275138e+00, -1.52555160e+00,  9.55720125e-02,\n",
       "        -7.45945437e-01,  1.31055863e+00],\n",
       "       [ 5.26495441e-01, -6.89812443e-01,  1.74710475e-01,\n",
       "        -1.82398660e-01, -1.19888534e+00, -3.90462309e-01,\n",
       "        -7.61553388e-02, -2.83694575e-02,  1.00366305e+00,\n",
       "         1.33315162e-01,  8.68062570e-01,  3.53696355e-01,\n",
       "         7.67824513e-01, -9.93273820e-02],\n",
       "       [ 4.72095143e-01, -2.71954799e-01,  2.21492957e+00,\n",
       "        -1.90787443e-01,  1.62290850e+00,  4.06139632e-01,\n",
       "         5.80017744e-01, -6.66126272e-01,  1.08520913e+00,\n",
       "        -3.51867369e-02, -7.13154600e-01,  8.39540837e-01,\n",
       "        -2.09746273e-01, -1.70357127e-01],\n",
       "       [-6.14462296e-01, -9.52221132e-01,  5.81372174e-02,\n",
       "        -7.98015027e-01, -8.65053927e-01, -4.75766959e-01,\n",
       "         2.82673687e+00,  8.27130347e-02,  3.59910470e+00,\n",
       "        -5.90999010e-01, -3.66132155e-01, -1.02962349e+00,\n",
       "         1.31680566e+00,  4.89949755e-01],\n",
       "       [-5.56737469e-01,  1.16742821e+00, -3.04308188e-01,\n",
       "         6.67163637e-02, -8.14225318e-01,  1.71430762e-02,\n",
       "         6.61473363e-01, -8.55314908e-01,  8.69447299e-01,\n",
       "         1.33285403e+00,  5.27938542e-02,  8.89751941e-01,\n",
       "         7.61126235e-01, -1.10218471e+00],\n",
       "       [-6.26014808e-01, -1.49044781e+00,  9.42158281e-01,\n",
       "        -1.30031487e+00,  4.16043244e-01, -1.34856776e+00,\n",
       "         1.65999062e+00,  3.17457697e+00,  4.26397418e-01,\n",
       "        -6.84695060e-01,  1.23838425e+00,  1.36002888e-01,\n",
       "         1.21314646e+00,  1.82613204e-01],\n",
       "       [ 8.83507306e-02,  2.42559102e+00,  8.92621006e-01,\n",
       "        -2.81737914e-03,  7.83038069e-01, -1.64734505e+00,\n",
       "        -2.39012911e+00,  9.99376750e-01, -4.53498009e-01,\n",
       "         1.24493377e+00, -4.73104604e-01,  1.56388244e-01,\n",
       "         4.69449121e-01,  9.79170245e-01],\n",
       "       [-5.25857421e-01, -3.96871861e-01,  2.36498416e-01,\n",
       "        -7.84671271e-01, -2.32424234e-01, -7.38209335e-01,\n",
       "        -7.36967451e-02, -1.75350133e-01, -8.28832251e-01,\n",
       "         6.89805502e-01, -2.87130856e+00, -1.40594113e-01,\n",
       "        -1.64280856e+00, -1.01673993e+00],\n",
       "       [ 2.95224112e-01, -4.59754171e-01,  5.81348369e-01,\n",
       "        -4.94223996e-01, -3.88091099e-01, -8.96757569e-01,\n",
       "         5.59174875e-01, -7.74640905e-01,  1.17096306e+00,\n",
       "        -7.25044525e-01, -1.19787523e+00, -1.97837809e+00,\n",
       "        -1.25379349e+00,  8.69506366e-01],\n",
       "       [ 1.00384847e+00,  1.90940415e+00,  7.55489199e-01,\n",
       "         8.39499553e-01,  1.64629126e-01,  1.96893946e-01,\n",
       "         1.24507095e-02, -3.10763218e-01, -8.13051751e-01,\n",
       "        -5.91923389e-01,  1.72344432e-01, -1.56580315e-02,\n",
       "         2.26813310e-01,  2.60229577e-01],\n",
       "       [ 6.99728382e-01, -5.96766672e-01, -1.53647984e+00,\n",
       "         2.21183476e-01,  1.26654359e+00,  6.08823893e-02,\n",
       "         2.54579068e-01, -8.22850833e-01, -2.61034870e-01,\n",
       "        -9.95888000e-03, -1.16839732e+00, -6.40884069e-01,\n",
       "        -4.17460409e-01, -2.19827425e-01]])"
      ]
     },
     "execution_count": 48,
     "metadata": {},
     "output_type": "execute_result"
    }
   ],
   "source": [
    "x_test"
   ]
  },
  {
   "cell_type": "code",
   "execution_count": 49,
   "metadata": {
    "id": "AO88OgAdt_Ox"
   },
   "outputs": [],
   "source": [
    "y_pred=strain.predict(x_test)"
   ]
  },
  {
   "cell_type": "code",
   "execution_count": 50,
   "metadata": {
    "colab": {
     "base_uri": "https://localhost:8080/"
    },
    "id": "XklSeMzduAqr",
    "outputId": "a2ef23a4-aa53-4ef4-9223-2bd46366b7e1"
   },
   "outputs": [
    {
     "data": {
      "text/plain": [
       "array(['Brown Spot', 'Leaf Blast', 'Hispa', 'Healthy', 'Leaf Blast',\n",
       "       'Leaf Blast', 'Leaf Blast', 'Hispa', 'Brown Spot', 'Leaf Blast',\n",
       "       'Healthy', 'Hispa', 'Leaf Blast', 'Leaf Blast', 'Hispa',\n",
       "       'Leaf Blast', 'Brown Spot', 'Hispa', 'Brown Spot', 'Healthy',\n",
       "       'Brown Spot', 'Hispa', 'Brown Spot', 'Leaf Blast', 'Healthy',\n",
       "       'Hispa', 'Leaf Blast', 'Leaf Blast', 'Hispa', 'Brown Spot',\n",
       "       'Brown Spot', 'Healthy', 'Leaf Blast', 'Hispa', 'Brown Spot',\n",
       "       'Brown Spot', 'Healthy', 'Leaf Blast', 'Hispa', 'Healthy'],\n",
       "      dtype=object)"
      ]
     },
     "execution_count": 50,
     "metadata": {},
     "output_type": "execute_result"
    }
   ],
   "source": [
    "y_pred"
   ]
  },
  {
   "cell_type": "code",
   "execution_count": 51,
   "metadata": {
    "colab": {
     "base_uri": "https://localhost:8080/"
    },
    "id": "j885OsvouB8R",
    "outputId": "3b78cde5-2b87-4939-eac3-51a21f3c2681"
   },
   "outputs": [
    {
     "data": {
      "text/plain": [
       "array(['Brown Spot', 'Leaf Blast', 'Hispa', 'Healthy', 'Leaf Blast',\n",
       "       'Leaf Blast', 'Brown Spot', 'Hispa', 'Brown Spot', 'Leaf Blast',\n",
       "       'Healthy', 'Hispa', 'Leaf Blast', 'Leaf Blast', 'Healthy',\n",
       "       'Brown Spot', 'Brown Spot', 'Hispa', 'Brown Spot', 'Healthy',\n",
       "       'Leaf Blast', 'Hispa', 'Brown Spot', 'Leaf Blast', 'Healthy',\n",
       "       'Hispa', 'Leaf Blast', 'Leaf Blast', 'Hispa', 'Brown Spot',\n",
       "       'Brown Spot', 'Healthy', 'Leaf Blast', 'Hispa', 'Brown Spot',\n",
       "       'Leaf Blast', 'Hispa', 'Brown Spot', 'Healthy', 'Hispa'],\n",
       "      dtype=object)"
      ]
     },
     "execution_count": 51,
     "metadata": {},
     "output_type": "execute_result"
    }
   ],
   "source": [
    "y_test"
   ]
  },
  {
   "cell_type": "code",
   "execution_count": 52,
   "metadata": {},
   "outputs": [
    {
     "name": "stdout",
     "output_type": "stream",
     "text": [
      "Number of Training Data: 160\n",
      "Number of Testing Data: 40\n"
     ]
    }
   ],
   "source": [
    "print(\"Number of Training Data:\", len(y_train))\n",
    "print(\"Number of Testing Data:\", len(y_test))"
   ]
  },
  {
   "cell_type": "code",
   "execution_count": 53,
   "metadata": {
    "colab": {
     "base_uri": "https://localhost:8080/"
    },
    "id": "887u3OPDuDPq",
    "outputId": "8896949b-55b4-422a-e40c-bc7f5558adda"
   },
   "outputs": [
    {
     "data": {
      "text/plain": [
       "array([[ 8,  0,  0,  3],\n",
       "       [ 0,  5,  2,  0],\n",
       "       [ 0,  2,  8,  0],\n",
       "       [ 2,  0,  0, 10]], dtype=int64)"
      ]
     },
     "execution_count": 53,
     "metadata": {},
     "output_type": "execute_result"
    }
   ],
   "source": [
    "from sklearn.metrics import confusion_matrix\n",
    "confusion_matrix(y_test,y_pred)"
   ]
  },
  {
   "cell_type": "code",
   "execution_count": 54,
   "metadata": {
    "colab": {
     "base_uri": "https://localhost:8080/"
    },
    "id": "rz7_6ObeuFGW",
    "outputId": "34ccfc1a-691f-41e8-9afd-470734e2256c"
   },
   "outputs": [
    {
     "data": {
      "text/plain": [
       "0.775"
      ]
     },
     "execution_count": 54,
     "metadata": {},
     "output_type": "execute_result"
    }
   ],
   "source": [
    "from sklearn.metrics import accuracy_score\n",
    "accuracy_score(y_test,y_pred)"
   ]
  },
  {
   "cell_type": "markdown",
   "metadata": {},
   "source": [
    "### Testing Models"
   ]
  },
  {
   "cell_type": "code",
   "execution_count": null,
   "metadata": {},
   "outputs": [],
   "source": [
    "main_img = cv2.imread('dataset/images/Cedar apple rust/0cd24b0c-0a9d-483f-8734-5c08988e029f___FREC_C.Rust 3762.jpg')\n",
    "\n",
    "names = ['area', 'perimeter', 'physiological_length', 'physiological_width', 'aspect_ratio',\n",
    "             'mean_r', 'mean_g', 'mean_b', 'stddev_r', 'stddev_g', 'stddev_b',\n",
    "             'contrast', 'energy', 'homogeneity', 'correlation', 'dissimilarity',\n",
    "             'eccentricity', 'solidity', 'equiv_diameter', 'major_axis_length', 'minor_axis_length',\n",
    "             'skewness', 'kurtosis', 'hog_feature_1', 'hog_feature_2', 'hog_feature_3'\n",
    "            ]\n",
    "df = pd.DataFrame(columns=names)\n",
    "\n",
    "# Preprocessing\n",
    "img = cv2.cvtColor(main_img, cv2.COLOR_BGR2RGB)\n",
    "gs = cv2.cvtColor(img, cv2.COLOR_RGB2GRAY)\n",
    "blur = cv2.GaussianBlur(gs, (25, 25), 0)\n",
    "ret, thresh = cv2.threshold(blur, 0, 255, cv2.THRESH_BINARY_INV + cv2.THRESH_OTSU)\n",
    "kernel = np.ones((50, 50), np.uint8)\n",
    "closing = cv2.morphologyEx(thresh, cv2.MORPH_CLOSE, kernel)\n",
    "\n",
    "# Shape features\n",
    "contours, _ = cv2.findContours(closing, cv2.RETR_TREE, cv2.CHAIN_APPROX_SIMPLE)\n",
    "cnt = contours[0]\n",
    "area = cv2.contourArea(cnt)\n",
    "perimeter = cv2.arcLength(cnt, True)\n",
    "x, y, w, h = cv2.boundingRect(cnt)\n",
    "aspect_ratio = float(w) / h\n",
    "\n",
    "# Color features\n",
    "red_channel = img[:, :, 0]\n",
    "green_channel = img[:, :, 1]\n",
    "blue_channel = img[:, :, 2]\n",
    "\n",
    "red_mean = np.mean(red_channel)\n",
    "green_mean = np.mean(green_channel)\n",
    "blue_mean = np.mean(blue_channel)\n",
    "\n",
    "# Std deviation\n",
    "red_std = np.std(red_channel)\n",
    "green_std = np.std(green_channel)\n",
    "blue_std = np.std(blue_channel)\n",
    "\n",
    "# Texture features using GLCM matrix\n",
    "glcm = graycomatrix(gs,\n",
    "                distances=[1],\n",
    "                angles=[0],\n",
    "                symmetric=True,\n",
    "                normed=True)\n",
    "\n",
    "properties = ['contrast', 'energy', 'homogeneity', 'correlation', 'dissimilarity']\n",
    "contrast = graycoprops(glcm, properties[0])\n",
    "energy = graycoprops(glcm, properties[1])\n",
    "homogeneity = graycoprops(glcm, properties[2])\n",
    "correlation = graycoprops(glcm, properties[3])\n",
    "dissimilarity = graycoprops(glcm, properties[4])\n",
    "\n",
    "# Statistical moments\n",
    "skewness = stats.skew(gs.flatten())\n",
    "kurtosis = stats.kurtosis(gs.flatten())\n",
    "\n",
    "# Additional features\n",
    "labeled_img = label(closing)\n",
    "regions = regionprops(labeled_img)\n",
    "\n",
    "eccentricity = regions[0].eccentricity\n",
    "solidity = regions[0].solidity\n",
    "equiv_diameter = regions[0].equivalent_diameter\n",
    "major_axis_length = regions[0].major_axis_length\n",
    "minor_axis_length = regions[0].minor_axis_length\n",
    "\n",
    "# HOG features\n",
    "hog_features = hog(gs, orientations=8, pixels_per_cell=(8, 8), cells_per_block=(1, 1), block_norm='L2-Hys')\n",
    "\n",
    "vector = [area, perimeter, w, h, aspect_ratio,\n",
    "        red_mean, green_mean, blue_mean, red_std, green_std, blue_std,\n",
    "        contrast[0][0], energy[0][0], homogeneity[0][0], correlation[0][0], dissimilarity[0][0],\n",
    "        eccentricity, solidity, equiv_diameter, major_axis_length, minor_axis_length,\n",
    "        skewness, kurtosis, hog_features[0], hog_features[1], hog_features[2]]\n",
    "\n",
    "df_temp = pd.DataFrame([vector], columns=names)\n",
    "df = pd.concat([df, df_temp], ignore_index=True)\n",
    "\n",
    "pca_model = joblib.load('models/pca/Apple_pca_model.pkl')\n",
    "pca = pca_model.transform(df)\n",
    "\n",
    "scaler_model = joblib.load('models/scalers/Apple_scaler_model.pkl')\n",
    "scaled = scaler_model.transform(pca)\n",
    "\n",
    "classifier_model = joblib.load('models/classifiers/Apple_classifier_model.pkl')\n",
    "results = classifier_model.predict(scaled)\n",
    "\n",
    "print('FEATURES', df)\n",
    "print('PCA', pca)\n",
    "print('SCALED', scaled)\n",
    "print('RESULTS', results)"
   ]
  },
  {
   "cell_type": "markdown",
   "metadata": {
    "id": "h7W-Z2du6Isj"
   },
   "source": [
    "### Checking"
   ]
  },
  {
   "cell_type": "code",
   "execution_count": 55,
   "metadata": {
    "colab": {
     "base_uri": "https://localhost:8080/",
     "height": 872
    },
    "id": "Mi36sen15YST",
    "outputId": "7c6cb7e0-e508-4e29-f00a-9d2f1fc852b1"
   },
   "outputs": [
    {
     "data": {
      "image/png": "[encoded data removed]",
      "text/plain": [
       "<Figure size 1000x1000 with 2 Axes>"
      ]
     },
     "metadata": {},
     "output_type": "display_data"
    }
   ],
   "source": [
    "from sklearn.metrics import confusion_matrix\n",
    "import seaborn as sns\n",
    "import matplotlib.pyplot as plt\n",
    "\n",
    "# Assuming 'y_test' contains the true labels and 'y_pred' contains the predicted labels\n",
    "conf_mat = confusion_matrix(y_test, y_pred, labels=data['types'].unique())\n",
    "\n",
    "# Create the heatmap\n",
    "fig, ax = plt.subplots(figsize=(10, 10))\n",
    "sns.heatmap(conf_mat, annot=True, fmt='d',\n",
    "            xticklabels=data['types'].unique(),\n",
    "            yticklabels=data['types'].unique())\n",
    "plt.ylabel('Actual')\n",
    "plt.xlabel('Predicted')\n",
    "plt.title(\"Confusion Matrix - Linear SVC\")\n",
    "plt.show()"
   ]
  },
  {
   "cell_type": "code",
   "execution_count": 56,
   "metadata": {
    "colab": {
     "base_uri": "https://localhost:8080/"
    },
    "id": "J8xrBjBr5c65",
    "outputId": "d44d24c2-c2b7-4dd4-b2bf-3642ba08236a"
   },
   "outputs": [
    {
     "name": "stdout",
     "output_type": "stream",
     "text": [
      "Class Brown Spot - Precision: 0.8 \n",
      "\t\t  Recall: 0.7272727272727273 \n",
      "\t\t  F1-Score: 0.761904761904762\n",
      "\n",
      "Class Healthy - Precision: 0.7142857142857143 \n",
      "\t\t  Recall: 0.7142857142857143 \n",
      "\t\t  F1-Score: 0.7142857142857143\n",
      "\n",
      "Class Hispa - Precision: 0.8 \n",
      "\t\t  Recall: 0.8 \n",
      "\t\t  F1-Score: 0.8000000000000002\n",
      "\n",
      "Class Leaf Blast - Precision: 0.7692307692307693 \n",
      "\t\t  Recall: 0.8333333333333334 \n",
      "\t\t  F1-Score: 0.8\n",
      "\n"
     ]
    }
   ],
   "source": [
    "from sklearn.metrics import precision_score, recall_score, f1_score\n",
    "\n",
    "# Assuming you have true labels (y_true) and predicted labels (y_pred)\n",
    "y_true = y_test\n",
    "y_pred = y_pred\n",
    "\n",
    "data=pd.read_csv(\"dataset/csv/image_features.csv\")\n",
    "types = data[\"types\"]\n",
    "types_labels = types.unique()\n",
    "\n",
    "# Compute precision, recall, and F1-score for each class\n",
    "classes =  types_labels\n",
    "\n",
    "precision = precision_score(y_true, y_pred, labels=classes, average=None, zero_division=0)\n",
    "recall = recall_score(y_true, y_pred, labels=classes, average=None, zero_division=0)\n",
    "f1 = f1_score(y_true, y_pred, labels=classes, average=None, zero_division=0)\n",
    "\n",
    "# Display the results for each class\n",
    "for class_label, p, r, f in zip(classes, precision, recall, f1):\n",
    "    print(f\"Class {class_label} - Precision: {p} \\n\\t\\t  Recall: {r} \\n\\t\\t  F1-Score: {f}\\n\")"
   ]
  },
  {
   "cell_type": "markdown",
   "metadata": {
    "id": "x97tmcSQ_dZ9"
   },
   "source": [
    "## Grid Search"
   ]
  },
  {
   "cell_type": "code",
   "execution_count": 57,
   "metadata": {
    "colab": {
     "base_uri": "https://localhost:8080/"
    },
    "id": "koXHWanJgnRK",
    "outputId": "6720261e-a020-49ee-a4b6-3321eec98ecc"
   },
   "outputs": [
    {
     "name": "stdout",
     "output_type": "stream",
     "text": [
      "Combination 1/112: C=0.1, kernel=linear, gamma=scale\n",
      "Accuracy on test data:  0.775\n",
      "Combination 2/112: C=0.1, kernel=linear, gamma=auto\n",
      "Accuracy on test data:  0.775\n",
      "Combination 3/112: C=0.1, kernel=linear, gamma=0.001\n",
      "Accuracy on test data:  0.775\n",
      "Combination 4/112: C=0.1, kernel=linear, gamma=0.01\n",
      "Accuracy on test data:  0.775\n",
      "Combination 5/112: C=0.1, kernel=linear, gamma=0.1\n",
      "Accuracy on test data:  0.775\n",
      "Combination 6/112: C=0.1, kernel=linear, gamma=1\n",
      "Accuracy on test data:  0.775\n",
      "Combination 7/112: C=0.1, kernel=linear, gamma=10\n",
      "Accuracy on test data:  0.775\n",
      "Combination 8/112: C=0.1, kernel=rbf, gamma=scale\n",
      "Accuracy on test data:  0.275\n",
      "Combination 9/112: C=0.1, kernel=rbf, gamma=auto\n",
      "Accuracy on test data:  0.275\n",
      "Combination 10/112: C=0.1, kernel=rbf, gamma=0.001\n",
      "Accuracy on test data:  0.175\n",
      "Combination 11/112: C=0.1, kernel=rbf, gamma=0.01\n",
      "Accuracy on test data:  0.175\n",
      "Combination 12/112: C=0.1, kernel=rbf, gamma=0.1\n",
      "Accuracy on test data:  0.25\n",
      "Combination 13/112: C=0.1, kernel=rbf, gamma=1\n",
      "Accuracy on test data:  0.175\n",
      "Combination 14/112: C=0.1, kernel=rbf, gamma=10\n",
      "Accuracy on test data:  0.175\n",
      "Combination 15/112: C=0.1, kernel=poly, gamma=scale\n",
      "Accuracy on test data:  0.175\n",
      "Combination 16/112: C=0.1, kernel=poly, gamma=auto\n",
      "Accuracy on test data:  0.2\n",
      "Combination 17/112: C=0.1, kernel=poly, gamma=0.001\n",
      "Accuracy on test data:  0.175\n",
      "Combination 18/112: C=0.1, kernel=poly, gamma=0.01\n",
      "Accuracy on test data:  0.175\n",
      "Combination 19/112: C=0.1, kernel=poly, gamma=0.1\n",
      "Accuracy on test data:  0.325\n",
      "Combination 20/112: C=0.1, kernel=poly, gamma=1\n",
      "Accuracy on test data:  0.65\n",
      "Combination 21/112: C=0.1, kernel=poly, gamma=10\n",
      "Accuracy on test data:  0.65\n",
      "Combination 22/112: C=0.1, kernel=sigmoid, gamma=scale\n",
      "Accuracy on test data:  0.425\n",
      "Combination 23/112: C=0.1, kernel=sigmoid, gamma=auto\n",
      "Accuracy on test data:  0.5\n",
      "Combination 24/112: C=0.1, kernel=sigmoid, gamma=0.001\n",
      "Accuracy on test data:  0.175\n",
      "Combination 25/112: C=0.1, kernel=sigmoid, gamma=0.01\n",
      "Accuracy on test data:  0.175\n",
      "Combination 26/112: C=0.1, kernel=sigmoid, gamma=0.1\n",
      "Accuracy on test data:  0.65\n",
      "Combination 27/112: C=0.1, kernel=sigmoid, gamma=1\n",
      "Accuracy on test data:  0.725\n",
      "Combination 28/112: C=0.1, kernel=sigmoid, gamma=10\n",
      "Accuracy on test data:  0.575\n",
      "Combination 29/112: C=1, kernel=linear, gamma=scale\n",
      "Accuracy on test data:  0.825\n",
      "Combination 30/112: C=1, kernel=linear, gamma=auto\n",
      "Accuracy on test data:  0.825\n",
      "Combination 31/112: C=1, kernel=linear, gamma=0.001\n",
      "Accuracy on test data:  0.825\n",
      "Combination 32/112: C=1, kernel=linear, gamma=0.01\n",
      "Accuracy on test data:  0.825\n",
      "Combination 33/112: C=1, kernel=linear, gamma=0.1\n",
      "Accuracy on test data:  0.825\n",
      "Combination 34/112: C=1, kernel=linear, gamma=1\n",
      "Accuracy on test data:  0.825\n",
      "Combination 35/112: C=1, kernel=linear, gamma=10\n",
      "Accuracy on test data:  0.825\n",
      "Combination 36/112: C=1, kernel=rbf, gamma=scale\n",
      "Accuracy on test data:  0.775\n",
      "Combination 37/112: C=1, kernel=rbf, gamma=auto\n",
      "Accuracy on test data:  0.775\n",
      "Combination 38/112: C=1, kernel=rbf, gamma=0.001\n",
      "Accuracy on test data:  0.175\n",
      "Combination 39/112: C=1, kernel=rbf, gamma=0.01\n",
      "Accuracy on test data:  0.725\n",
      "Combination 40/112: C=1, kernel=rbf, gamma=0.1\n",
      "Accuracy on test data:  0.775\n",
      "Combination 41/112: C=1, kernel=rbf, gamma=1\n",
      "Accuracy on test data:  0.475\n",
      "Combination 42/112: C=1, kernel=rbf, gamma=10\n",
      "Accuracy on test data:  0.2\n",
      "Combination 43/112: C=1, kernel=poly, gamma=scale\n",
      "Accuracy on test data:  0.575\n",
      "Combination 44/112: C=1, kernel=poly, gamma=auto\n",
      "Accuracy on test data:  0.575\n",
      "Combination 45/112: C=1, kernel=poly, gamma=0.001\n",
      "Accuracy on test data:  0.175\n",
      "Combination 46/112: C=1, kernel=poly, gamma=0.01\n",
      "Accuracy on test data:  0.175\n",
      "Combination 47/112: C=1, kernel=poly, gamma=0.1\n",
      "Accuracy on test data:  0.675\n",
      "Combination 48/112: C=1, kernel=poly, gamma=1\n",
      "Accuracy on test data:  0.65\n",
      "Combination 49/112: C=1, kernel=poly, gamma=10\n",
      "Accuracy on test data:  0.65\n",
      "Combination 50/112: C=1, kernel=sigmoid, gamma=scale\n",
      "Accuracy on test data:  0.775\n",
      "Combination 51/112: C=1, kernel=sigmoid, gamma=auto\n",
      "Accuracy on test data:  0.775\n",
      "Combination 52/112: C=1, kernel=sigmoid, gamma=0.001\n",
      "Accuracy on test data:  0.175\n",
      "Combination 53/112: C=1, kernel=sigmoid, gamma=0.01\n",
      "Accuracy on test data:  0.725\n",
      "Combination 54/112: C=1, kernel=sigmoid, gamma=0.1\n",
      "Accuracy on test data:  0.75\n",
      "Combination 55/112: C=1, kernel=sigmoid, gamma=1\n",
      "Accuracy on test data:  0.45\n",
      "Combination 56/112: C=1, kernel=sigmoid, gamma=10\n",
      "Accuracy on test data:  0.45\n",
      "Combination 57/112: C=10, kernel=linear, gamma=scale\n",
      "Accuracy on test data:  0.8\n",
      "Combination 58/112: C=10, kernel=linear, gamma=auto\n",
      "Accuracy on test data:  0.8\n",
      "Combination 59/112: C=10, kernel=linear, gamma=0.001\n",
      "Accuracy on test data:  0.8\n",
      "Combination 60/112: C=10, kernel=linear, gamma=0.01\n",
      "Accuracy on test data:  0.8\n",
      "Combination 61/112: C=10, kernel=linear, gamma=0.1\n",
      "Accuracy on test data:  0.8\n",
      "Combination 62/112: C=10, kernel=linear, gamma=1\n",
      "Accuracy on test data:  0.8\n",
      "Combination 63/112: C=10, kernel=linear, gamma=10\n",
      "Accuracy on test data:  0.8\n",
      "Combination 64/112: C=10, kernel=rbf, gamma=scale\n",
      "Accuracy on test data:  0.85\n",
      "Combination 65/112: C=10, kernel=rbf, gamma=auto\n",
      "Accuracy on test data:  0.85\n",
      "Combination 66/112: C=10, kernel=rbf, gamma=0.001\n",
      "Accuracy on test data:  0.775\n",
      "Combination 67/112: C=10, kernel=rbf, gamma=0.01\n",
      "Accuracy on test data:  0.75\n",
      "Combination 68/112: C=10, kernel=rbf, gamma=0.1\n",
      "Accuracy on test data:  0.775\n",
      "Combination 69/112: C=10, kernel=rbf, gamma=1\n",
      "Accuracy on test data:  0.55\n",
      "Combination 70/112: C=10, kernel=rbf, gamma=10\n",
      "Accuracy on test data:  0.2\n",
      "Combination 71/112: C=10, kernel=poly, gamma=scale\n",
      "Accuracy on test data:  0.7\n",
      "Combination 72/112: C=10, kernel=poly, gamma=auto\n",
      "Accuracy on test data:  0.7\n",
      "Combination 73/112: C=10, kernel=poly, gamma=0.001\n",
      "Accuracy on test data:  0.175\n",
      "Combination 74/112: C=10, kernel=poly, gamma=0.01\n",
      "Accuracy on test data:  0.175\n",
      "Combination 75/112: C=10, kernel=poly, gamma=0.1\n",
      "Accuracy on test data:  0.7\n",
      "Combination 76/112: C=10, kernel=poly, gamma=1\n",
      "Accuracy on test data:  0.65\n",
      "Combination 77/112: C=10, kernel=poly, gamma=10\n",
      "Accuracy on test data:  0.65\n",
      "Combination 78/112: C=10, kernel=sigmoid, gamma=scale\n",
      "Accuracy on test data:  0.65\n",
      "Combination 79/112: C=10, kernel=sigmoid, gamma=auto\n",
      "Accuracy on test data:  0.65\n",
      "Combination 80/112: C=10, kernel=sigmoid, gamma=0.001\n",
      "Accuracy on test data:  0.75\n",
      "Combination 81/112: C=10, kernel=sigmoid, gamma=0.01\n",
      "Accuracy on test data:  0.8\n",
      "Combination 82/112: C=10, kernel=sigmoid, gamma=0.1\n",
      "Accuracy on test data:  0.65\n",
      "Combination 83/112: C=10, kernel=sigmoid, gamma=1\n",
      "Accuracy on test data:  0.425\n",
      "Combination 84/112: C=10, kernel=sigmoid, gamma=10\n",
      "Accuracy on test data:  0.55\n",
      "Combination 85/112: C=100, kernel=linear, gamma=scale\n",
      "Accuracy on test data:  0.8\n",
      "Combination 86/112: C=100, kernel=linear, gamma=auto\n",
      "Accuracy on test data:  0.8\n",
      "Combination 87/112: C=100, kernel=linear, gamma=0.001\n",
      "Accuracy on test data:  0.8\n",
      "Combination 88/112: C=100, kernel=linear, gamma=0.01\n",
      "Accuracy on test data:  0.8\n",
      "Combination 89/112: C=100, kernel=linear, gamma=0.1\n",
      "Accuracy on test data:  0.8\n",
      "Combination 90/112: C=100, kernel=linear, gamma=1\n",
      "Accuracy on test data:  0.8\n",
      "Combination 91/112: C=100, kernel=linear, gamma=10\n",
      "Accuracy on test data:  0.8\n",
      "Combination 92/112: C=100, kernel=rbf, gamma=scale\n",
      "Accuracy on test data:  0.825\n",
      "Combination 93/112: C=100, kernel=rbf, gamma=auto\n",
      "Accuracy on test data:  0.825\n",
      "Combination 94/112: C=100, kernel=rbf, gamma=0.001\n",
      "Accuracy on test data:  0.8\n",
      "Combination 95/112: C=100, kernel=rbf, gamma=0.01\n",
      "Accuracy on test data:  0.75\n",
      "Combination 96/112: C=100, kernel=rbf, gamma=0.1\n",
      "Accuracy on test data:  0.75\n",
      "Combination 97/112: C=100, kernel=rbf, gamma=1\n",
      "Accuracy on test data:  0.55\n",
      "Combination 98/112: C=100, kernel=rbf, gamma=10\n",
      "Accuracy on test data:  0.2\n",
      "Combination 99/112: C=100, kernel=poly, gamma=scale\n",
      "Accuracy on test data:  0.7\n",
      "Combination 100/112: C=100, kernel=poly, gamma=auto\n",
      "Accuracy on test data:  0.7\n",
      "Combination 101/112: C=100, kernel=poly, gamma=0.001\n",
      "Accuracy on test data:  0.175\n",
      "Combination 102/112: C=100, kernel=poly, gamma=0.01\n",
      "Accuracy on test data:  0.325\n",
      "Combination 103/112: C=100, kernel=poly, gamma=0.1\n",
      "Accuracy on test data:  0.65\n",
      "Combination 104/112: C=100, kernel=poly, gamma=1\n",
      "Accuracy on test data:  0.65\n",
      "Combination 105/112: C=100, kernel=poly, gamma=10\n",
      "Accuracy on test data:  0.65\n",
      "Combination 106/112: C=100, kernel=sigmoid, gamma=scale\n",
      "Accuracy on test data:  0.7\n",
      "Combination 107/112: C=100, kernel=sigmoid, gamma=auto\n",
      "Accuracy on test data:  0.7\n",
      "Combination 108/112: C=100, kernel=sigmoid, gamma=0.001\n",
      "Accuracy on test data:  0.775\n",
      "Combination 109/112: C=100, kernel=sigmoid, gamma=0.01\n",
      "Accuracy on test data:  0.775\n",
      "Combination 110/112: C=100, kernel=sigmoid, gamma=0.1\n",
      "Accuracy on test data:  0.675\n",
      "Combination 111/112: C=100, kernel=sigmoid, gamma=1\n",
      "Accuracy on test data:  0.425\n",
      "Combination 112/112: C=100, kernel=sigmoid, gamma=10\n",
      "Accuracy on test data:  0.55\n"
     ]
    }
   ],
   "source": [
    "import threading\n",
    "from sklearn.model_selection import GridSearchCV\n",
    "from sklearn.svm import SVC\n",
    "import pandas as pd\n",
    "\n",
    "# Define the parameter grid to search\n",
    "param_grid = {\n",
    "    'C': [0.1, 1, 10, 100],  # Regularization parameter\n",
    "    'kernel': ['linear', 'rbf', 'poly', 'sigmoid'],  # Kernel types\n",
    "    'gamma': ['scale', 'auto'] + [0.001, 0.01, 0.1, 1, 10]  # Kernel coefficient (only for 'rbf', 'poly', 'sigmoid')\n",
    "}\n",
    "\n",
    "# Create an SVM model\n",
    "svm = SVC()\n",
    "\n",
    "# Create a GridSearchCV object with the SVM model and parameter grid\n",
    "grid_search = GridSearchCV(svm, param_grid, cv=5, scoring='accuracy')\n",
    "\n",
    "# Initialize a variable to keep track of the number of combinations\n",
    "total_combinations = len(param_grid['C']) * len(param_grid['kernel']) * len(param_grid['gamma'])\n",
    "combination_count = 0\n",
    "\n",
    "# Create an empty list to store the results\n",
    "results = []\n",
    "\n",
    "# Lock for thread synchronization\n",
    "results_lock = threading.Lock()\n",
    "\n",
    "# Function to train the SVM model with a timeout\n",
    "def train_svm_with_timeout(C, kernel, gamma, result_flag):\n",
    "    try:\n",
    "        svm = SVC(C=C, kernel=kernel, gamma=gamma)\n",
    "        svm.fit(x_train, y_train)\n",
    "        y_pred = svm.predict(x_test)  # Predict on the test data\n",
    "        accuracy = (y_pred == y_test).mean()  # Calculate accuracy\n",
    "        with results_lock:\n",
    "            results.append([C, kernel, gamma, accuracy])\n",
    "        result_flag[0] = True\n",
    "    except Exception as e:\n",
    "        result_flag[0] = False\n",
    "\n",
    "# Fit the grid search to your training data\n",
    "for C in param_grid['C']:\n",
    "    for kernel in param_grid['kernel']:\n",
    "        for gamma in param_grid['gamma']:\n",
    "            combination_count += 1\n",
    "            print(f\"Combination {combination_count}/{total_combinations}: C={C}, kernel={kernel}, gamma={gamma}\")\n",
    "\n",
    "            result_flag = [False]\n",
    "\n",
    "            t = threading.Thread(target=train_svm_with_timeout, args=(C, kernel, gamma, result_flag))\n",
    "            t.start()\n",
    "            t.join(timeout=300)  # Adjust the timeout value as needed\n",
    "\n",
    "            if result_flag[0]:\n",
    "                print(\"Accuracy on test data: \", results[-1][-1])\n",
    "            else:\n",
    "                print(\"Training took too long or encountered an error. Skipping to the next combination.\")\n",
    "\n",
    "# Create a DataFrame from the results\n",
    "result_df = pd.DataFrame(results, columns=[\"C\", \"Kernel\", \"Gamma\", \"Accuracy\"])\n",
    "\n",
    "# Save the DataFrame to a CSV file\n",
    "output_csv = r\"dataset/csv/grid_search_results.csv\"\n",
    "result_df.to_csv(output_csv, index=False)"
   ]
  },
  {
   "cell_type": "markdown",
   "metadata": {
    "id": "O2GDDPFhXbe1"
   },
   "source": [
    "### Grid Search Training"
   ]
  },
  {
   "cell_type": "code",
   "execution_count": 58,
   "metadata": {
    "id": "c9oUYBQqWuxJ"
   },
   "outputs": [],
   "source": [
    "import pandas as pd\n",
    "grid_df=pd.read_csv(\"dataset/csv/grid_search_results.csv\")"
   ]
  },
  {
   "cell_type": "code",
   "execution_count": 59,
   "metadata": {},
   "outputs": [
    {
     "data": {
      "text/plain": [
       "112"
      ]
     },
     "execution_count": 59,
     "metadata": {},
     "output_type": "execute_result"
    }
   ],
   "source": [
    "len(grid_df)"
   ]
  },
  {
   "cell_type": "code",
   "execution_count": 60,
   "metadata": {
    "colab": {
     "base_uri": "https://localhost:8080/",
     "height": 206
    },
    "id": "O-_moD9EBSl4",
    "outputId": "d75a87ef-6407-48d6-eae1-abc2e99d3e18"
   },
   "outputs": [
    {
     "data": {
      "text/html": [
       "<div>\n",
       "<style scoped>\n",
       "    .dataframe tbody tr th:only-of-type {\n",
       "        vertical-align: middle;\n",
       "    }\n",
       "\n",
       "    .dataframe tbody tr th {\n",
       "        vertical-align: top;\n",
       "    }\n",
       "\n",
       "    .dataframe thead th {\n",
       "        text-align: right;\n",
       "    }\n",
       "</style>\n",
       "<table border=\"1\" class=\"dataframe\">\n",
       "  <thead>\n",
       "    <tr style=\"text-align: right;\">\n",
       "      <th></th>\n",
       "      <th>C</th>\n",
       "      <th>Kernel</th>\n",
       "      <th>Gamma</th>\n",
       "      <th>Accuracy</th>\n",
       "    </tr>\n",
       "  </thead>\n",
       "  <tbody>\n",
       "    <tr>\n",
       "      <th>0</th>\n",
       "      <td>0.1</td>\n",
       "      <td>linear</td>\n",
       "      <td>scale</td>\n",
       "      <td>0.775</td>\n",
       "    </tr>\n",
       "    <tr>\n",
       "      <th>1</th>\n",
       "      <td>0.1</td>\n",
       "      <td>linear</td>\n",
       "      <td>auto</td>\n",
       "      <td>0.775</td>\n",
       "    </tr>\n",
       "    <tr>\n",
       "      <th>2</th>\n",
       "      <td>0.1</td>\n",
       "      <td>linear</td>\n",
       "      <td>0.001</td>\n",
       "      <td>0.775</td>\n",
       "    </tr>\n",
       "    <tr>\n",
       "      <th>3</th>\n",
       "      <td>0.1</td>\n",
       "      <td>linear</td>\n",
       "      <td>0.01</td>\n",
       "      <td>0.775</td>\n",
       "    </tr>\n",
       "    <tr>\n",
       "      <th>4</th>\n",
       "      <td>0.1</td>\n",
       "      <td>linear</td>\n",
       "      <td>0.1</td>\n",
       "      <td>0.775</td>\n",
       "    </tr>\n",
       "  </tbody>\n",
       "</table>\n",
       "</div>"
      ],
      "text/plain": [
       "     C  Kernel  Gamma  Accuracy\n",
       "0  0.1  linear  scale     0.775\n",
       "1  0.1  linear   auto     0.775\n",
       "2  0.1  linear  0.001     0.775\n",
       "3  0.1  linear   0.01     0.775\n",
       "4  0.1  linear    0.1     0.775"
      ]
     },
     "execution_count": 60,
     "metadata": {},
     "output_type": "execute_result"
    }
   ],
   "source": [
    "grid_df.head()"
   ]
  },
  {
   "cell_type": "code",
   "execution_count": 61,
   "metadata": {
    "colab": {
     "base_uri": "https://localhost:8080/"
    },
    "id": "-poYVx5PGsOv",
    "outputId": "bb3545f0-cac1-4e5e-ce6c-82f5566f1e36"
   },
   "outputs": [
    {
     "name": "stdout",
     "output_type": "stream",
     "text": [
      "C            10.0\n",
      "Kernel        rbf\n",
      "Gamma       scale\n",
      "Accuracy     0.85\n",
      "Name: 63, dtype: object\n"
     ]
    }
   ],
   "source": [
    "# Find the index of the row with the highest accuracy\n",
    "max_accuracy_index = grid_df['Accuracy'].idxmax()\n",
    "\n",
    "# Get the row with the highest accuracy\n",
    "row_with_highest_accuracy = grid_df.loc[max_accuracy_index]\n",
    "\n",
    "print(row_with_highest_accuracy)"
   ]
  },
  {
   "cell_type": "code",
   "execution_count": 62,
   "metadata": {
    "id": "GvR5JjIWHVAA"
   },
   "outputs": [],
   "source": [
    "from sklearn.svm import SVC\n",
    "\n",
    "# Specify the parameters\n",
    "C = float(row_with_highest_accuracy.C)\n",
    "kernel = row_with_highest_accuracy.Kernel\n",
    "gamma_value = row_with_highest_accuracy.Gamma\n",
    "\n",
    "if isinstance(gamma_value, str):\n",
    "    gamma = gamma_value\n",
    "elif isinstance(gamma_value, (int,float)):\n",
    "    gamma = gamma_value\n",
    "else:\n",
    "    raise ValueError(\"Invalid gamma value\")\n",
    "\n",
    "# Create an SVC with the specified parameters\n",
    "svm = SVC(C=C, kernel=kernel, gamma=gamma)\n",
    "\n",
    "# Train the model on your training data\n",
    "train_grid = svm.fit(x_train, y_train)"
   ]
  },
  {
   "cell_type": "code",
   "execution_count": 63,
   "metadata": {
    "colab": {
     "base_uri": "https://localhost:8080/",
     "height": 75
    },
    "id": "Kv5dXdpFHwKZ",
    "outputId": "2053eec0-fefd-4e22-f6e9-6551df1c577e"
   },
   "outputs": [
    {
     "data": {
      "text/html": [
       "<style>#sk-container-id-3 {color: black;}#sk-container-id-3 pre{padding: 0;}#sk-container-id-3 div.sk-toggleable {background-color: white;}#sk-container-id-3 label.sk-toggleable__label {cursor: pointer;display: block;width: 100%;margin-bottom: 0;padding: 0.3em;box-sizing: border-box;text-align: center;}#sk-container-id-3 label.sk-toggleable__label-arrow:before {content: \"▸\";float: left;margin-right: 0.25em;color: #696969;}#sk-container-id-3 label.sk-toggleable__label-arrow:hover:before {color: black;}#sk-container-id-3 div.sk-estimator:hover label.sk-toggleable__label-arrow:before {color: black;}#sk-container-id-3 div.sk-toggleable__content {max-height: 0;max-width: 0;overflow: hidden;text-align: left;background-color: #f0f8ff;}#sk-container-id-3 div.sk-toggleable__content pre {margin: 0.2em;color: black;border-radius: 0.25em;background-color: #f0f8ff;}#sk-container-id-3 input.sk-toggleable__control:checked~div.sk-toggleable__content {max-height: 200px;max-width: 100%;overflow: auto;}#sk-container-id-3 input.sk-toggleable__control:checked~label.sk-toggleable__label-arrow:before {content: \"▾\";}#sk-container-id-3 div.sk-estimator input.sk-toggleable__control:checked~label.sk-toggleable__label {background-color: #d4ebff;}#sk-container-id-3 div.sk-label input.sk-toggleable__control:checked~label.sk-toggleable__label {background-color: #d4ebff;}#sk-container-id-3 input.sk-hidden--visually {border: 0;clip: rect(1px 1px 1px 1px);clip: rect(1px, 1px, 1px, 1px);height: 1px;margin: -1px;overflow: hidden;padding: 0;position: absolute;width: 1px;}#sk-container-id-3 div.sk-estimator {font-family: monospace;background-color: #f0f8ff;border: 1px dotted black;border-radius: 0.25em;box-sizing: border-box;margin-bottom: 0.5em;}#sk-container-id-3 div.sk-estimator:hover {background-color: #d4ebff;}#sk-container-id-3 div.sk-parallel-item::after {content: \"\";width: 100%;border-bottom: 1px solid gray;flex-grow: 1;}#sk-container-id-3 div.sk-label:hover label.sk-toggleable__label {background-color: #d4ebff;}#sk-container-id-3 div.sk-serial::before {content: \"\";position: absolute;border-left: 1px solid gray;box-sizing: border-box;top: 0;bottom: 0;left: 50%;z-index: 0;}#sk-container-id-3 div.sk-serial {display: flex;flex-direction: column;align-items: center;background-color: white;padding-right: 0.2em;padding-left: 0.2em;position: relative;}#sk-container-id-3 div.sk-item {position: relative;z-index: 1;}#sk-container-id-3 div.sk-parallel {display: flex;align-items: stretch;justify-content: center;background-color: white;position: relative;}#sk-container-id-3 div.sk-item::before, #sk-container-id-3 div.sk-parallel-item::before {content: \"\";position: absolute;border-left: 1px solid gray;box-sizing: border-box;top: 0;bottom: 0;left: 50%;z-index: -1;}#sk-container-id-3 div.sk-parallel-item {display: flex;flex-direction: column;z-index: 1;position: relative;background-color: white;}#sk-container-id-3 div.sk-parallel-item:first-child::after {align-self: flex-end;width: 50%;}#sk-container-id-3 div.sk-parallel-item:last-child::after {align-self: flex-start;width: 50%;}#sk-container-id-3 div.sk-parallel-item:only-child::after {width: 0;}#sk-container-id-3 div.sk-dashed-wrapped {border: 1px dashed gray;margin: 0 0.4em 0.5em 0.4em;box-sizing: border-box;padding-bottom: 0.4em;background-color: white;}#sk-container-id-3 div.sk-label label {font-family: monospace;font-weight: bold;display: inline-block;line-height: 1.2em;}#sk-container-id-3 div.sk-label-container {text-align: center;}#sk-container-id-3 div.sk-container {/* jupyter's `normalize.less` sets `[hidden] { display: none; }` but bootstrap.min.css set `[hidden] { display: none !important; }` so we also need the `!important` here to be able to override the default hidden behavior on the sphinx rendered scikit-learn.org. See: https://github.com/scikit-learn/scikit-learn/issues/21755 */display: inline-block !important;position: relative;}#sk-container-id-3 div.sk-text-repr-fallback {display: none;}</style><div id=\"sk-container-id-3\" class=\"sk-top-container\"><div class=\"sk-text-repr-fallback\"><pre>SVC(C=10.0)</pre><b>In a Jupyter environment, please rerun this cell to show the HTML representation or trust the notebook. <br />On GitHub, the HTML representation is unable to render, please try loading this page with nbviewer.org.</b></div><div class=\"sk-container\" hidden><div class=\"sk-item\"><div class=\"sk-estimator sk-toggleable\"><input class=\"sk-toggleable__control sk-hidden--visually\" id=\"sk-estimator-id-3\" type=\"checkbox\" checked><label for=\"sk-estimator-id-3\" class=\"sk-toggleable__label sk-toggleable__label-arrow\">SVC</label><div class=\"sk-toggleable__content\"><pre>SVC(C=10.0)</pre></div></div></div></div></div>"
      ],
      "text/plain": [
       "SVC(C=10.0)"
      ]
     },
     "execution_count": 63,
     "metadata": {},
     "output_type": "execute_result"
    }
   ],
   "source": [
    "train_grid"
   ]
  },
  {
   "cell_type": "code",
   "execution_count": 64,
   "metadata": {},
   "outputs": [
    {
     "data": {
      "text/plain": [
       "['models/classifiers/Rice_classifier_model.pkl']"
      ]
     },
     "execution_count": 64,
     "metadata": {},
     "output_type": "execute_result"
    }
   ],
   "source": [
    "import joblib\n",
    "\n",
    "# Save the trained model to a file\n",
    "joblib.dump(train_grid, 'models/classifiers/Rice_classifier_model.pkl')"
   ]
  },
  {
   "cell_type": "code",
   "execution_count": 65,
   "metadata": {
    "id": "6W9dE5PDH7dy"
   },
   "outputs": [],
   "source": [
    "y_pred=train_grid.predict(x_test)"
   ]
  },
  {
   "cell_type": "code",
   "execution_count": 66,
   "metadata": {
    "colab": {
     "base_uri": "https://localhost:8080/"
    },
    "id": "mufW_xTlH82J",
    "outputId": "087f12b3-5f7c-440f-9aa1-f09a234c328c"
   },
   "outputs": [
    {
     "data": {
      "text/plain": [
       "array(['Brown Spot', 'Leaf Blast', 'Hispa', 'Healthy', 'Leaf Blast',\n",
       "       'Leaf Blast', 'Leaf Blast', 'Hispa', 'Brown Spot', 'Leaf Blast',\n",
       "       'Healthy', 'Hispa', 'Leaf Blast', 'Leaf Blast', 'Healthy',\n",
       "       'Leaf Blast', 'Brown Spot', 'Healthy', 'Brown Spot', 'Healthy',\n",
       "       'Leaf Blast', 'Hispa', 'Brown Spot', 'Leaf Blast', 'Healthy',\n",
       "       'Hispa', 'Leaf Blast', 'Leaf Blast', 'Hispa', 'Brown Spot',\n",
       "       'Brown Spot', 'Healthy', 'Leaf Blast', 'Hispa', 'Brown Spot',\n",
       "       'Leaf Blast', 'Hispa', 'Leaf Blast', 'Hispa', 'Healthy'],\n",
       "      dtype=object)"
      ]
     },
     "execution_count": 66,
     "metadata": {},
     "output_type": "execute_result"
    }
   ],
   "source": [
    "y_pred"
   ]
  },
  {
   "cell_type": "code",
   "execution_count": 67,
   "metadata": {
    "colab": {
     "base_uri": "https://localhost:8080/"
    },
    "id": "L9cHncURIAob",
    "outputId": "ee4db70d-dde7-4eda-b8ed-266fdfdef23f"
   },
   "outputs": [
    {
     "data": {
      "text/plain": [
       "array(['Brown Spot', 'Leaf Blast', 'Hispa', 'Healthy', 'Leaf Blast',\n",
       "       'Leaf Blast', 'Brown Spot', 'Hispa', 'Brown Spot', 'Leaf Blast',\n",
       "       'Healthy', 'Hispa', 'Leaf Blast', 'Leaf Blast', 'Healthy',\n",
       "       'Brown Spot', 'Brown Spot', 'Hispa', 'Brown Spot', 'Healthy',\n",
       "       'Leaf Blast', 'Hispa', 'Brown Spot', 'Leaf Blast', 'Healthy',\n",
       "       'Hispa', 'Leaf Blast', 'Leaf Blast', 'Hispa', 'Brown Spot',\n",
       "       'Brown Spot', 'Healthy', 'Leaf Blast', 'Hispa', 'Brown Spot',\n",
       "       'Leaf Blast', 'Hispa', 'Brown Spot', 'Healthy', 'Hispa'],\n",
       "      dtype=object)"
      ]
     },
     "execution_count": 67,
     "metadata": {},
     "output_type": "execute_result"
    }
   ],
   "source": [
    "y_test"
   ]
  },
  {
   "cell_type": "code",
   "execution_count": 68,
   "metadata": {
    "colab": {
     "base_uri": "https://localhost:8080/"
    },
    "id": "7ZZvrYbEIB4d",
    "outputId": "377f879b-d690-49ad-d81a-4e8b3a9680b6"
   },
   "outputs": [
    {
     "data": {
      "text/plain": [
       "0.85"
      ]
     },
     "execution_count": 68,
     "metadata": {},
     "output_type": "execute_result"
    }
   ],
   "source": [
    "from sklearn.metrics import accuracy_score\n",
    "accuracy_score(y_test,y_pred)"
   ]
  },
  {
   "cell_type": "markdown",
   "metadata": {
    "id": "X4iEOo5dXvx-"
   },
   "source": [
    "### Grid Search Checking"
   ]
  },
  {
   "cell_type": "code",
   "execution_count": 69,
   "metadata": {
    "colab": {
     "base_uri": "https://localhost:8080/",
     "height": 872
    },
    "id": "KsR-naNCXJd1",
    "outputId": "5d0f9fca-62d2-4db3-f2f6-8d90213da193"
   },
   "outputs": [
    {
     "data": {
      "image/png": "[encoded data removed]",
      "text/plain": [
       "<Figure size 1000x1000 with 2 Axes>"
      ]
     },
     "metadata": {},
     "output_type": "display_data"
    }
   ],
   "source": [
    "from sklearn.metrics import confusion_matrix\n",
    "import seaborn as sns\n",
    "import matplotlib.pyplot as plt\n",
    "\n",
    "# Assuming 'y_test' contains the true labels and 'y_pred' contains the predicted labels\n",
    "conf_mat = confusion_matrix(y_test, y_pred, labels=data['types'].unique())\n",
    "\n",
    "# Create the heatmap\n",
    "fig, ax = plt.subplots(figsize=(10, 10))\n",
    "sns.heatmap(conf_mat, annot=True, fmt='d',\n",
    "            xticklabels=data['types'].unique(),\n",
    "            yticklabels=data['types'].unique())\n",
    "plt.ylabel('Actual')\n",
    "plt.xlabel('Predicted')\n",
    "plt.title(\"Confusion Matrix - Linear SVC\")\n",
    "plt.show()"
   ]
  },
  {
   "cell_type": "code",
   "execution_count": 70,
   "metadata": {
    "colab": {
     "base_uri": "https://localhost:8080/"
    },
    "id": "MAcFnPHGXu1E",
    "outputId": "48396ef1-fa30-4d15-bfe2-ccbbd18e42b0"
   },
   "outputs": [
    {
     "name": "stdout",
     "output_type": "stream",
     "text": [
      "Class Brown Spot - Precision: 1.0 \n",
      "\t\t  Recall: 0.7272727272727273 \n",
      "\t\t  F1-Score: 0.8421052631578948\n",
      "\n",
      "Class Healthy - Precision: 0.75 \n",
      "\t\t  Recall: 0.8571428571428571 \n",
      "\t\t  F1-Score: 0.7999999999999999\n",
      "\n",
      "Class Hispa - Precision: 0.8888888888888888 \n",
      "\t\t  Recall: 0.8 \n",
      "\t\t  F1-Score: 0.8421052631578948\n",
      "\n",
      "Class Leaf Blast - Precision: 0.8 \n",
      "\t\t  Recall: 1.0 \n",
      "\t\t  F1-Score: 0.888888888888889\n",
      "\n"
     ]
    }
   ],
   "source": [
    "from sklearn.metrics import precision_score, recall_score, f1_score\n",
    "\n",
    "# Assuming you have true labels (y_true) and predicted labels (y_pred)\n",
    "y_true = y_test\n",
    "y_pred = y_pred\n",
    "\n",
    "data=pd.read_csv(\"dataset/csv/image_features.csv\")\n",
    "types = data[\"types\"]\n",
    "types_labels = types.unique()\n",
    "\n",
    "# Compute precision, recall, and F1-score for each class\n",
    "classes = types_labels\n",
    "\n",
    "precision = precision_score(y_true, y_pred, labels=classes, average=None, zero_division=0)\n",
    "recall = recall_score(y_true, y_pred, labels=classes, average=None, zero_division=0)\n",
    "f1 = f1_score(y_true, y_pred, labels=classes, average=None, zero_division=0)\n",
    "\n",
    "# Display the results for each class\n",
    "for class_label, p, r, f in zip(classes, precision, recall, f1):\n",
    "    print(f\"Class {class_label} - Precision: {p} \\n\\t\\t  Recall: {r} \\n\\t\\t  F1-Score: {f}\\n\")"
   ]
  },
  {
   "cell_type": "code",
   "execution_count": null,
   "metadata": {
    "id": "s4UKeglBX_1X"
   },
   "outputs": [],
   "source": []
  }
 ],
 "metadata": {
  "colab": {
   "provenance": []
  },
  "kernelspec": {
   "display_name": "Python 3 (ipykernel)",
   "language": "python",
   "name": "python3"
  },
  "language_info": {
   "codemirror_mode": {
    "name": "ipython",
    "version": 3
   },
   "file_extension": ".py",
   "mimetype": "text/x-python",
   "name": "python",
   "nbconvert_exporter": "python",
   "pygments_lexer": "ipython3",
   "version": "3.11.4"
  }
 },
 "nbformat": 4,
 "nbformat_minor": 1
}
